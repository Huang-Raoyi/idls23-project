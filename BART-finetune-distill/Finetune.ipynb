{
  "nbformat": 4,
  "nbformat_minor": 0,
  "metadata": {
    "colab": {
      "provenance": []
    },
    "kernelspec": {
      "name": "python3",
      "display_name": "Python 3"
    },
    "language_info": {
      "name": "python"
    }
  },
  "cells": [
    {
      "cell_type": "markdown",
      "source": [
        "Reference: https://github.com/entbappy/NLP-Projects-Notebooks/blob/master/Text-Summarization-Fine-tuning-Transformers-model.ipynb"
      ],
      "metadata": {
        "id": "YyWqkFD5dBVi"
      }
    },
    {
      "cell_type": "markdown",
      "source": [
        "# Fine Tune"
      ],
      "metadata": {
        "id": "OqnMWhowthiX"
      }
    },
    {
      "cell_type": "code",
      "source": [
        "dfmix = df[['id','dialogue','summary']]"
      ],
      "metadata": {
        "id": "EjFFyBqKuFdg"
      },
      "execution_count": null,
      "outputs": []
    },
    {
      "cell_type": "code",
      "source": [
        "dfmix"
      ],
      "metadata": {
        "colab": {
          "base_uri": "https://localhost:8080/",
          "height": 424
        },
        "id": "ItzIdpoxuQep",
        "outputId": "f53ae41f-4cb9-4ad0-b26c-64958243ff43"
      },
      "execution_count": null,
      "outputs": [
        {
          "output_type": "execute_result",
          "data": {
            "text/plain": [
              "          id                                           dialogue  \\\n",
              "0          0  Amanda: I baked  cookies. Do you want some?\\r\\...   \n",
              "1          1  Olivia: Who are you voting for in this electio...   \n",
              "2          2  Tim: Hi, what's up?\\r\\nKim: Bad mood tbh, I wa...   \n",
              "3          3  Edward: Rachel, I think I'm in ove with Bella....   \n",
              "4          4  Sam: hey  overheard rick say something\\r\\nSam:...   \n",
              "...      ...                                                ...   \n",
              "14727  14727  Romeo: You are on my ‘People you may know’ lis...   \n",
              "14728  14728  Theresa: <file_photo>\\r\\nTheresa: <file_photo>...   \n",
              "14729  14729  John: Every day some bad news. Japan will hunt...   \n",
              "14730  14730  Jennifer: Dear Celia! How are you doing?\\r\\nJe...   \n",
              "14731  14731  Georgia: are you ready for hotel hunting? We n...   \n",
              "\n",
              "                                                 summary  \n",
              "0      Amanda baked cookies and will bring Jerry some...  \n",
              "1      Olivia and Oliver both plan to vote for the Li...  \n",
              "2      Kim may try the pomodoro technique recommended...  \n",
              "3      Rachel abruptly interrupted Edward's confessio...  \n",
              "4      Sam is confused, because he overheard Rick com...  \n",
              "...                                                  ...  \n",
              "14727  Romeo reached out to Greta as a potential frie...  \n",
              "14728  Theresa is at work. She gets free food and fre...  \n",
              "14729  John expressed his outrage over Japan's decisi...  \n",
              "14730  Celia couldn't make it to the afternoon with t...  \n",
              "14731  Georgia and Juliette are trying to book a hote...  \n",
              "\n",
              "[14732 rows x 3 columns]"
            ],
            "text/html": [
              "\n",
              "  <div id=\"df-fc8bbb86-b475-4b22-8d5f-ca34103d2bc4\">\n",
              "    <div class=\"colab-df-container\">\n",
              "      <div>\n",
              "<style scoped>\n",
              "    .dataframe tbody tr th:only-of-type {\n",
              "        vertical-align: middle;\n",
              "    }\n",
              "\n",
              "    .dataframe tbody tr th {\n",
              "        vertical-align: top;\n",
              "    }\n",
              "\n",
              "    .dataframe thead th {\n",
              "        text-align: right;\n",
              "    }\n",
              "</style>\n",
              "<table border=\"1\" class=\"dataframe\">\n",
              "  <thead>\n",
              "    <tr style=\"text-align: right;\">\n",
              "      <th></th>\n",
              "      <th>id</th>\n",
              "      <th>dialogue</th>\n",
              "      <th>summary</th>\n",
              "    </tr>\n",
              "  </thead>\n",
              "  <tbody>\n",
              "    <tr>\n",
              "      <th>0</th>\n",
              "      <td>0</td>\n",
              "      <td>Amanda: I baked  cookies. Do you want some?\\r\\...</td>\n",
              "      <td>Amanda baked cookies and will bring Jerry some...</td>\n",
              "    </tr>\n",
              "    <tr>\n",
              "      <th>1</th>\n",
              "      <td>1</td>\n",
              "      <td>Olivia: Who are you voting for in this electio...</td>\n",
              "      <td>Olivia and Oliver both plan to vote for the Li...</td>\n",
              "    </tr>\n",
              "    <tr>\n",
              "      <th>2</th>\n",
              "      <td>2</td>\n",
              "      <td>Tim: Hi, what's up?\\r\\nKim: Bad mood tbh, I wa...</td>\n",
              "      <td>Kim may try the pomodoro technique recommended...</td>\n",
              "    </tr>\n",
              "    <tr>\n",
              "      <th>3</th>\n",
              "      <td>3</td>\n",
              "      <td>Edward: Rachel, I think I'm in ove with Bella....</td>\n",
              "      <td>Rachel abruptly interrupted Edward's confessio...</td>\n",
              "    </tr>\n",
              "    <tr>\n",
              "      <th>4</th>\n",
              "      <td>4</td>\n",
              "      <td>Sam: hey  overheard rick say something\\r\\nSam:...</td>\n",
              "      <td>Sam is confused, because he overheard Rick com...</td>\n",
              "    </tr>\n",
              "    <tr>\n",
              "      <th>...</th>\n",
              "      <td>...</td>\n",
              "      <td>...</td>\n",
              "      <td>...</td>\n",
              "    </tr>\n",
              "    <tr>\n",
              "      <th>14727</th>\n",
              "      <td>14727</td>\n",
              "      <td>Romeo: You are on my ‘People you may know’ lis...</td>\n",
              "      <td>Romeo reached out to Greta as a potential frie...</td>\n",
              "    </tr>\n",
              "    <tr>\n",
              "      <th>14728</th>\n",
              "      <td>14728</td>\n",
              "      <td>Theresa: &lt;file_photo&gt;\\r\\nTheresa: &lt;file_photo&gt;...</td>\n",
              "      <td>Theresa is at work. She gets free food and fre...</td>\n",
              "    </tr>\n",
              "    <tr>\n",
              "      <th>14729</th>\n",
              "      <td>14729</td>\n",
              "      <td>John: Every day some bad news. Japan will hunt...</td>\n",
              "      <td>John expressed his outrage over Japan's decisi...</td>\n",
              "    </tr>\n",
              "    <tr>\n",
              "      <th>14730</th>\n",
              "      <td>14730</td>\n",
              "      <td>Jennifer: Dear Celia! How are you doing?\\r\\nJe...</td>\n",
              "      <td>Celia couldn't make it to the afternoon with t...</td>\n",
              "    </tr>\n",
              "    <tr>\n",
              "      <th>14731</th>\n",
              "      <td>14731</td>\n",
              "      <td>Georgia: are you ready for hotel hunting? We n...</td>\n",
              "      <td>Georgia and Juliette are trying to book a hote...</td>\n",
              "    </tr>\n",
              "  </tbody>\n",
              "</table>\n",
              "<p>14732 rows × 3 columns</p>\n",
              "</div>\n",
              "      <button class=\"colab-df-convert\" onclick=\"convertToInteractive('df-fc8bbb86-b475-4b22-8d5f-ca34103d2bc4')\"\n",
              "              title=\"Convert this dataframe to an interactive table.\"\n",
              "              style=\"display:none;\">\n",
              "        \n",
              "  <svg xmlns=\"http://www.w3.org/2000/svg\" height=\"24px\"viewBox=\"0 0 24 24\"\n",
              "       width=\"24px\">\n",
              "    <path d=\"M0 0h24v24H0V0z\" fill=\"none\"/>\n",
              "    <path d=\"M18.56 5.44l.94 2.06.94-2.06 2.06-.94-2.06-.94-.94-2.06-.94 2.06-2.06.94zm-11 1L8.5 8.5l.94-2.06 2.06-.94-2.06-.94L8.5 2.5l-.94 2.06-2.06.94zm10 10l.94 2.06.94-2.06 2.06-.94-2.06-.94-.94-2.06-.94 2.06-2.06.94z\"/><path d=\"M17.41 7.96l-1.37-1.37c-.4-.4-.92-.59-1.43-.59-.52 0-1.04.2-1.43.59L10.3 9.45l-7.72 7.72c-.78.78-.78 2.05 0 2.83L4 21.41c.39.39.9.59 1.41.59.51 0 1.02-.2 1.41-.59l7.78-7.78 2.81-2.81c.8-.78.8-2.07 0-2.86zM5.41 20L4 18.59l7.72-7.72 1.47 1.35L5.41 20z\"/>\n",
              "  </svg>\n",
              "      </button>\n",
              "      \n",
              "  <style>\n",
              "    .colab-df-container {\n",
              "      display:flex;\n",
              "      flex-wrap:wrap;\n",
              "      gap: 12px;\n",
              "    }\n",
              "\n",
              "    .colab-df-convert {\n",
              "      background-color: #E8F0FE;\n",
              "      border: none;\n",
              "      border-radius: 50%;\n",
              "      cursor: pointer;\n",
              "      display: none;\n",
              "      fill: #1967D2;\n",
              "      height: 32px;\n",
              "      padding: 0 0 0 0;\n",
              "      width: 32px;\n",
              "    }\n",
              "\n",
              "    .colab-df-convert:hover {\n",
              "      background-color: #E2EBFA;\n",
              "      box-shadow: 0px 1px 2px rgba(60, 64, 67, 0.3), 0px 1px 3px 1px rgba(60, 64, 67, 0.15);\n",
              "      fill: #174EA6;\n",
              "    }\n",
              "\n",
              "    [theme=dark] .colab-df-convert {\n",
              "      background-color: #3B4455;\n",
              "      fill: #D2E3FC;\n",
              "    }\n",
              "\n",
              "    [theme=dark] .colab-df-convert:hover {\n",
              "      background-color: #434B5C;\n",
              "      box-shadow: 0px 1px 3px 1px rgba(0, 0, 0, 0.15);\n",
              "      filter: drop-shadow(0px 1px 2px rgba(0, 0, 0, 0.3));\n",
              "      fill: #FFFFFF;\n",
              "    }\n",
              "  </style>\n",
              "\n",
              "      <script>\n",
              "        const buttonEl =\n",
              "          document.querySelector('#df-fc8bbb86-b475-4b22-8d5f-ca34103d2bc4 button.colab-df-convert');\n",
              "        buttonEl.style.display =\n",
              "          google.colab.kernel.accessAllowed ? 'block' : 'none';\n",
              "\n",
              "        async function convertToInteractive(key) {\n",
              "          const element = document.querySelector('#df-fc8bbb86-b475-4b22-8d5f-ca34103d2bc4');\n",
              "          const dataTable =\n",
              "            await google.colab.kernel.invokeFunction('convertToInteractive',\n",
              "                                                     [key], {});\n",
              "          if (!dataTable) return;\n",
              "\n",
              "          const docLinkHtml = 'Like what you see? Visit the ' +\n",
              "            '<a target=\"_blank\" href=https://colab.research.google.com/notebooks/data_table.ipynb>data table notebook</a>'\n",
              "            + ' to learn more about interactive tables.';\n",
              "          element.innerHTML = '';\n",
              "          dataTable['output_type'] = 'display_data';\n",
              "          await google.colab.output.renderOutput(dataTable, element);\n",
              "          const docLink = document.createElement('div');\n",
              "          docLink.innerHTML = docLinkHtml;\n",
              "          element.appendChild(docLink);\n",
              "        }\n",
              "      </script>\n",
              "    </div>\n",
              "  </div>\n",
              "  "
            ]
          },
          "metadata": {},
          "execution_count": 196
        }
      ]
    },
    {
      "cell_type": "code",
      "source": [
        "dataset_samsum"
      ],
      "metadata": {
        "colab": {
          "base_uri": "https://localhost:8080/"
        },
        "id": "59Y6v9MbuYpT",
        "outputId": "aa3713be-b6c6-4f81-df1d-025112ead5b8"
      },
      "execution_count": null,
      "outputs": [
        {
          "output_type": "execute_result",
          "data": {
            "text/plain": [
              "DatasetDict({\n",
              "    train: Dataset({\n",
              "        features: ['id', 'dialogue', 'summary'],\n",
              "        num_rows: 14732\n",
              "    })\n",
              "    test: Dataset({\n",
              "        features: ['id', 'dialogue', 'summary'],\n",
              "        num_rows: 819\n",
              "    })\n",
              "    validation: Dataset({\n",
              "        features: ['id', 'dialogue', 'summary'],\n",
              "        num_rows: 818\n",
              "    })\n",
              "})"
            ]
          },
          "metadata": {},
          "execution_count": 102
        }
      ]
    },
    {
      "cell_type": "code",
      "source": [
        "from datasets import Dataset\n",
        "dataset = Dataset.from_pandas(dfmix)"
      ],
      "metadata": {
        "id": "XOcTK5FzuC70"
      },
      "execution_count": null,
      "outputs": []
    },
    {
      "cell_type": "code",
      "source": [
        "dataset"
      ],
      "metadata": {
        "colab": {
          "base_uri": "https://localhost:8080/"
        },
        "id": "c1h0xNUmoQIV",
        "outputId": "3e8a6a74-bb01-4ca3-baeb-c7c26f0a5a34"
      },
      "execution_count": null,
      "outputs": [
        {
          "output_type": "execute_result",
          "data": {
            "text/plain": [
              "Dataset({\n",
              "    features: ['id', 'dialogue', 'summary'],\n",
              "    num_rows: 14732\n",
              "})"
            ]
          },
          "metadata": {},
          "execution_count": 116
        }
      ]
    },
    {
      "cell_type": "code",
      "source": [
        "val_dataset = dataset_samsum['validation']"
      ],
      "metadata": {
        "id": "1UW_znMw3eXb"
      },
      "execution_count": null,
      "outputs": []
    },
    {
      "cell_type": "code",
      "source": [
        "val_dataset"
      ],
      "metadata": {
        "colab": {
          "base_uri": "https://localhost:8080/"
        },
        "id": "BLahTb7A3pUf",
        "outputId": "81f22186-775d-4cec-9be2-3733b23deef7"
      },
      "execution_count": null,
      "outputs": [
        {
          "output_type": "execute_result",
          "data": {
            "text/plain": [
              "Dataset({\n",
              "    features: ['id', 'dialogue', 'summary'],\n",
              "    num_rows: 818\n",
              "})"
            ]
          },
          "metadata": {},
          "execution_count": 120
        }
      ]
    },
    {
      "cell_type": "code",
      "source": [
        "import datasets\n",
        "dd = datasets.DatasetDict({\"train\":dataset,\"validation\":val_dataset})"
      ],
      "metadata": {
        "id": "i4u6qcUy3il9"
      },
      "execution_count": null,
      "outputs": []
    },
    {
      "cell_type": "code",
      "source": [
        "dd"
      ],
      "metadata": {
        "colab": {
          "base_uri": "https://localhost:8080/"
        },
        "id": "4fCsBIRL3_8X",
        "outputId": "356ce061-5aa5-425d-cbc1-57f6b5ef1d56"
      },
      "execution_count": null,
      "outputs": [
        {
          "output_type": "execute_result",
          "data": {
            "text/plain": [
              "DatasetDict({\n",
              "    train: Dataset({\n",
              "        features: ['id', 'dialogue', 'summary'],\n",
              "        num_rows: 14732\n",
              "    })\n",
              "    validation: Dataset({\n",
              "        features: ['id', 'dialogue', 'summary'],\n",
              "        num_rows: 818\n",
              "    })\n",
              "})"
            ]
          },
          "metadata": {},
          "execution_count": 198
        }
      ]
    },
    {
      "cell_type": "code",
      "source": [
        "def convert_examples_to_features(example_batch):\n",
        "    input_encodings = tokenizer_large(example_batch['dialogue'] , max_length = 1024, truncation = True )\n",
        "    \n",
        "    with tokenizer_large.as_target_tokenizer():\n",
        "        target_encodings = tokenizer_large(example_batch['summary'], max_length = 128, truncation = True )\n",
        "        \n",
        "    return {\n",
        "        'input_ids' : input_encodings['input_ids'],\n",
        "        'attention_mask': input_encodings['attention_mask'],\n",
        "        'labels': target_encodings['input_ids']\n",
        "    }\n",
        "    \n",
        "dataset_samsum_pt = dd.map(convert_examples_to_features, batched = True)"
      ],
      "metadata": {
        "colab": {
          "base_uri": "https://localhost:8080/",
          "height": 55,
          "referenced_widgets": [
            "b39d44f837d446bc8dac6ef94444cbf8",
            "a017165078fc43b38b243e1fe71fca54",
            "f287def534694322b25060cfdc7ee1cc",
            "0ccd83499a4f49e6a79a2efdd9f81b97",
            "5fd531f501cd44e98962e1dbe2045ce9",
            "0739ec4f0998471db42b980006678e4c",
            "80fc74f914694e4c8ef410c7088db517",
            "e56c8352221349afba35b4848dd884be",
            "a5c96b0ad10a455cb852149183ff97a0",
            "2d3e1f993d6c4b07bbadd12f6f4523fe",
            "8bce66b56c42456881f4ae64bf742c46"
          ]
        },
        "id": "6OWmcFF_oQDN",
        "outputId": "517c4c43-71d3-420d-de5c-5c6aa6f14e99"
      },
      "execution_count": null,
      "outputs": [
        {
          "output_type": "display_data",
          "data": {
            "text/plain": [
              "Map:   0%|          | 0/14732 [00:00<?, ? examples/s]"
            ],
            "application/vnd.jupyter.widget-view+json": {
              "version_major": 2,
              "version_minor": 0,
              "model_id": "b39d44f837d446bc8dac6ef94444cbf8"
            }
          },
          "metadata": {}
        },
        {
          "output_type": "stream",
          "name": "stderr",
          "text": [
            "WARNING:datasets.arrow_dataset:Loading cached processed dataset at /root/.cache/huggingface/datasets/samsum/samsum/0.0.0/f1d7c6b7353e6de335d444e424dc002ef70d1277109031327bc9cc6af5d3d46e/cache-7938e48cba429b91.arrow\n"
          ]
        }
      ]
    },
    {
      "cell_type": "code",
      "source": [
        "#dataset_val[0]"
      ],
      "metadata": {
        "id": "U3Yfmt_pu3QY"
      },
      "execution_count": null,
      "outputs": []
    },
    {
      "cell_type": "code",
      "source": [
        "from transformers import DataCollatorForSeq2Seq\n",
        "\n",
        "seq2seq_data_collator = DataCollatorForSeq2Seq(tokenizer_large, model=model_large)"
      ],
      "metadata": {
        "id": "7N78BolPvrx-"
      },
      "execution_count": null,
      "outputs": []
    },
    {
      "cell_type": "code",
      "source": [
        "from google.colab import drive\n",
        "drive.mount('/content/drive')"
      ],
      "metadata": {
        "colab": {
          "base_uri": "https://localhost:8080/"
        },
        "id": "EvCQJm8owqZL",
        "outputId": "97a4401f-1bd2-4cea-fb55-189910fd0de2"
      },
      "execution_count": null,
      "outputs": [
        {
          "output_type": "stream",
          "name": "stdout",
          "text": [
            "Mounted at /content/drive\n"
          ]
        }
      ]
    },
    {
      "cell_type": "code",
      "source": [
        "%cd /content/drive/MyDrive/Project/Fine_Tuning"
      ],
      "metadata": {
        "colab": {
          "base_uri": "https://localhost:8080/"
        },
        "id": "IbIW-edFwYPr",
        "outputId": "cd7884d8-f2eb-44c4-ea6b-f030f2835b76"
      },
      "execution_count": null,
      "outputs": [
        {
          "output_type": "stream",
          "name": "stdout",
          "text": [
            "/content/drive/MyDrive/Project/Fine_Tuning\n"
          ]
        }
      ]
    },
    {
      "cell_type": "code",
      "source": [
        "from transformers import TrainingArguments, Trainer\n",
        "\n",
        "trainer_args = TrainingArguments(\n",
        "    output_dir='bart-samsum-half', num_train_epochs=25, warmup_steps=500,\n",
        "    per_device_train_batch_size=4, per_device_eval_batch_size=4,\n",
        "    weight_decay=0.01, logging_steps=10,\n",
        "    evaluation_strategy='steps', eval_steps=500, save_steps=1e6,\n",
        "    gradient_accumulation_steps=16\n",
        ") \n",
        "     "
      ],
      "metadata": {
        "id": "FDyeFo_jwYUe"
      },
      "execution_count": null,
      "outputs": []
    },
    {
      "cell_type": "code",
      "source": [
        "trainer = Trainer(model=model_large, args=trainer_args,\n",
        "                  tokenizer=tokenizer_large, data_collator=seq2seq_data_collator,\n",
        "                  train_dataset=dataset_samsum_pt['train'], \n",
        "                  eval_dataset=dataset_samsum_pt['validation'])"
      ],
      "metadata": {
        "id": "rpuOG2_9wYYq"
      },
      "execution_count": null,
      "outputs": []
    },
    {
      "cell_type": "code",
      "source": [
        "import gc\n",
        "\n",
        "gc.collect()\n",
        "torch.cuda.empty_cache()"
      ],
      "metadata": {
        "id": "9rPH961t6IDC"
      },
      "execution_count": null,
      "outputs": []
    },
    {
      "cell_type": "code",
      "source": [
        "trainer.train()"
      ],
      "metadata": {
        "colab": {
          "base_uri": "https://localhost:8080/",
          "height": 431
        },
        "id": "Vq3Pg0HqzrY0",
        "outputId": "a05cc03c-2758-4380-8a56-226d4b80da0e"
      },
      "execution_count": null,
      "outputs": [
        {
          "metadata": {
            "tags": null
          },
          "name": "stderr",
          "output_type": "stream",
          "text": [
            "/usr/local/lib/python3.9/dist-packages/transformers/optimization.py:391: FutureWarning: This implementation of AdamW is deprecated and will be removed in a future version. Use the PyTorch implementation torch.optim.AdamW instead, or set `no_deprecation_warning=True` to disable this warning\n",
            "  warnings.warn(\n",
            "You're using a BartTokenizerFast tokenizer. Please note that with a fast tokenizer, using the `__call__` method is faster than using a method to encode the text followed by a call to the `pad` method to get a padded encoding.\n"
          ]
        },
        {
          "data": {
            "text/html": [
              "\n",
              "    <div>\n",
              "      \n",
              "      <progress value='4602' max='5750' style='width:300px; height:20px; vertical-align: middle;'></progress>\n",
              "      [4602/5750 3:06:38 < 46:34, 0.41 it/s, Epoch 19.99/25]\n",
              "    </div>\n",
              "    <table border=\"1\" class=\"dataframe\">\n",
              "  <thead>\n",
              " <tr style=\"text-align: left;\">\n",
              "      <th>Step</th>\n",
              "      <th>Training Loss</th>\n",
              "      <th>Validation Loss</th>\n",
              "    </tr>\n",
              "  </thead>\n",
              "  <tbody>\n",
              "    <tr>\n",
              "      <td>500</td>\n",
              "      <td>1.087400</td>\n",
              "      <td>1.478014</td>\n",
              "    </tr>\n",
              "    <tr>\n",
              "      <td>1000</td>\n",
              "      <td>0.684100</td>\n",
              "      <td>1.658565</td>\n",
              "    </tr>\n",
              "    <tr>\n",
              "      <td>1500</td>\n",
              "      <td>0.413300</td>\n",
              "      <td>1.965265</td>\n",
              "    </tr>\n",
              "    <tr>\n",
              "      <td>2000</td>\n",
              "      <td>0.251600</td>\n",
              "      <td>2.348899</td>\n",
              "    </tr>\n",
              "    <tr>\n",
              "      <td>2500</td>\n",
              "      <td>0.159100</td>\n",
              "      <td>2.617553</td>\n",
              "    </tr>\n",
              "    <tr>\n",
              "      <td>3000</td>\n",
              "      <td>0.089200</td>\n",
              "      <td>2.997341</td>\n",
              "    </tr>\n",
              "    <tr>\n",
              "      <td>3500</td>\n",
              "      <td>0.066100</td>\n",
              "      <td>3.016472</td>\n",
              "    </tr>\n",
              "    <tr>\n",
              "      <td>4000</td>\n",
              "      <td>0.047300</td>\n",
              "      <td>3.298780</td>\n",
              "    </tr>\n",
              "    <tr>\n",
              "      <td>4500</td>\n",
              "      <td>0.032900</td>\n",
              "      <td>3.306062</td>\n",
              "    </tr>\n",
              "  </tbody>\n",
              "</table><p>"
            ],
            "text/plain": [
              "<IPython.core.display.HTML object>"
            ]
          },
          "metadata": {},
          "output_type": "display_data"
        }
      ]
    },
    {
      "cell_type": "code",
      "source": [
        "model_large.save_pretrained(\"/content/drive/MyDrive/dl-gp/bart-half-3\")\n",
        "tokenizer_large.save_pretrained(\"/content/drive/MyDrive/dl-gp/bart-half-3\")"
      ],
      "metadata": {
        "colab": {
          "base_uri": "https://localhost:8080/",
          "height": 187
        },
        "id": "O6_AtpgQQEKK",
        "outputId": "c6fe86f8-6364-4266-fd10-c6ea992cf96c"
      },
      "execution_count": null,
      "outputs": [
        {
          "output_type": "error",
          "ename": "NameError",
          "evalue": "ignored",
          "traceback": [
            "\u001b[0;31m---------------------------------------------------------------------------\u001b[0m",
            "\u001b[0;31mNameError\u001b[0m                                 Traceback (most recent call last)",
            "\u001b[0;32m<ipython-input-1-897dbb13d21f>\u001b[0m in \u001b[0;36m<cell line: 1>\u001b[0;34m()\u001b[0m\n\u001b[0;32m----> 1\u001b[0;31m \u001b[0mmodel_large\u001b[0m\u001b[0;34m.\u001b[0m\u001b[0msave_pretrained\u001b[0m\u001b[0;34m(\u001b[0m\u001b[0;34m\"/content/drive/MyDrive/dl-gp/bart-half-25\"\u001b[0m\u001b[0;34m)\u001b[0m\u001b[0;34m\u001b[0m\u001b[0;34m\u001b[0m\u001b[0m\n\u001b[0m\u001b[1;32m      2\u001b[0m \u001b[0mtokenizer_large\u001b[0m\u001b[0;34m.\u001b[0m\u001b[0msave_pretrained\u001b[0m\u001b[0;34m(\u001b[0m\u001b[0;34m\"/content/drive/MyDrive/dl-gp/bart-half-25\"\u001b[0m\u001b[0;34m)\u001b[0m\u001b[0;34m\u001b[0m\u001b[0;34m\u001b[0m\u001b[0m\n",
            "\u001b[0;31mNameError\u001b[0m: name 'model_large' is not defined"
          ]
        }
      ]
    },
    {
      "cell_type": "code",
      "source": [
        "tokenizer_large = BartTokenizer.from_pretrained(\"/content/drive/MyDrive/dl-gp/bart-half-3\")\n",
        "model_large = BartForConditionalGeneration.from_pretrained(\"/content/drive/MyDrive/dl-gp/bart-half-3\").to(device)"
      ],
      "metadata": {
        "id": "xTQ-iv1WQRx0"
      },
      "execution_count": null,
      "outputs": []
    },
    {
      "cell_type": "code",
      "source": [
        "trainer_args = TrainingArguments(\n",
        "    output_dir='bart-samsum-half', num_train_epochs=1, warmup_steps=500,\n",
        "    per_device_train_batch_size=8, per_device_eval_batch_size=4,\n",
        "    weight_decay=0.01, logging_steps=10,\n",
        "    evaluation_strategy='steps', eval_steps=500, save_steps=1e6,\n",
        "    gradient_accumulation_steps=16\n",
        ") \n",
        "     "
      ],
      "metadata": {
        "id": "CHB7pJAAQiZb"
      },
      "execution_count": null,
      "outputs": []
    },
    {
      "cell_type": "code",
      "source": [
        "trainer = Trainer(model=model_large, args=trainer_args,\n",
        "                  tokenizer=tokenizer_large, data_collator=seq2seq_data_collator,\n",
        "                  train_dataset=dataset_samsum_pt['train'], \n",
        "                  eval_dataset=dataset_samsum_pt['validation'])\n",
        "\n",
        "trainer.train()"
      ],
      "metadata": {
        "colab": {
          "base_uri": "https://localhost:8080/",
          "height": 111
        },
        "id": "zKzStaj3QbKK",
        "outputId": "37c01f27-3708-48e0-87f9-7ae30ec2883c"
      },
      "execution_count": null,
      "outputs": [
        {
          "output_type": "display_data",
          "data": {
            "text/plain": [
              "<IPython.core.display.HTML object>"
            ],
            "text/html": [
              "\n",
              "    <div>\n",
              "      \n",
              "      <progress value='115' max='115' style='width:300px; height:20px; vertical-align: middle;'></progress>\n",
              "      [115/115 08:55, Epoch 0/1]\n",
              "    </div>\n",
              "    <table border=\"1\" class=\"dataframe\">\n",
              "  <thead>\n",
              " <tr style=\"text-align: left;\">\n",
              "      <th>Step</th>\n",
              "      <th>Training Loss</th>\n",
              "      <th>Validation Loss</th>\n",
              "    </tr>\n",
              "  </thead>\n",
              "  <tbody>\n",
              "  </tbody>\n",
              "</table><p>"
            ]
          },
          "metadata": {}
        },
        {
          "output_type": "execute_result",
          "data": {
            "text/plain": [
              "TrainOutput(global_step=115, training_loss=1.0131884035856829, metrics={'train_runtime': 541.0638, 'train_samples_per_second': 27.228, 'train_steps_per_second': 0.213, 'total_flos': 1.0860563227017216e+16, 'train_loss': 1.0131884035856829, 'epoch': 1.0})"
            ]
          },
          "metadata": {},
          "execution_count": 184
        }
      ]
    },
    {
      "cell_type": "code",
      "source": [],
      "metadata": {
        "id": "qQpMQl1WTc05"
      },
      "execution_count": null,
      "outputs": []
    },
    {
      "cell_type": "code",
      "source": [],
      "metadata": {
        "id": "FWF86Qu2WwEm"
      },
      "execution_count": null,
      "outputs": []
    },
    {
      "cell_type": "code",
      "source": [],
      "metadata": {
        "id": "wwe9GoIjWwJO"
      },
      "execution_count": null,
      "outputs": []
    }
  ]
}