{
  "nbformat": 4,
  "nbformat_minor": 0,
  "metadata": {
    "colab": {
      "provenance": [],
      "machine_shape": "hm"
    },
    "kernelspec": {
      "name": "python3",
      "display_name": "Python 3"
    },
    "language_info": {
      "name": "python"
    },
    "accelerator": "GPU",
    "gpuClass": "premium",
    "widgets": {
      "application/vnd.jupyter.widget-state+json": {
        "ccf15da764094c30b608254ae79649dc": {
          "model_module": "@jupyter-widgets/controls",
          "model_name": "HBoxModel",
          "model_module_version": "1.5.0",
          "state": {
            "_dom_classes": [],
            "_model_module": "@jupyter-widgets/controls",
            "_model_module_version": "1.5.0",
            "_model_name": "HBoxModel",
            "_view_count": null,
            "_view_module": "@jupyter-widgets/controls",
            "_view_module_version": "1.5.0",
            "_view_name": "HBoxView",
            "box_style": "",
            "children": [
              "IPY_MODEL_898cbf9f1b7c49c18815c2cf50aeaa97",
              "IPY_MODEL_4004bedf61c44044be373fc3f22e1cef",
              "IPY_MODEL_83a017a941aa4ef2a10b6d57c1a82418"
            ],
            "layout": "IPY_MODEL_ff8b4442e8604eb1840acf3c0fa1e77b"
          }
        },
        "898cbf9f1b7c49c18815c2cf50aeaa97": {
          "model_module": "@jupyter-widgets/controls",
          "model_name": "HTMLModel",
          "model_module_version": "1.5.0",
          "state": {
            "_dom_classes": [],
            "_model_module": "@jupyter-widgets/controls",
            "_model_module_version": "1.5.0",
            "_model_name": "HTMLModel",
            "_view_count": null,
            "_view_module": "@jupyter-widgets/controls",
            "_view_module_version": "1.5.0",
            "_view_name": "HTMLView",
            "description": "",
            "description_tooltip": null,
            "layout": "IPY_MODEL_18a641728bf14e2ab6b9fa78e000f0fd",
            "placeholder": "​",
            "style": "IPY_MODEL_5236d94c72d34a128f6370d7637ff2d7",
            "value": "Downloading builder script: 100%"
          }
        },
        "4004bedf61c44044be373fc3f22e1cef": {
          "model_module": "@jupyter-widgets/controls",
          "model_name": "FloatProgressModel",
          "model_module_version": "1.5.0",
          "state": {
            "_dom_classes": [],
            "_model_module": "@jupyter-widgets/controls",
            "_model_module_version": "1.5.0",
            "_model_name": "FloatProgressModel",
            "_view_count": null,
            "_view_module": "@jupyter-widgets/controls",
            "_view_module_version": "1.5.0",
            "_view_name": "ProgressView",
            "bar_style": "success",
            "description": "",
            "description_tooltip": null,
            "layout": "IPY_MODEL_0d65769363854ee188efff740a20ad7e",
            "max": 3362,
            "min": 0,
            "orientation": "horizontal",
            "style": "IPY_MODEL_12045d65a0274187b0345642eb8b36a0",
            "value": 3362
          }
        },
        "83a017a941aa4ef2a10b6d57c1a82418": {
          "model_module": "@jupyter-widgets/controls",
          "model_name": "HTMLModel",
          "model_module_version": "1.5.0",
          "state": {
            "_dom_classes": [],
            "_model_module": "@jupyter-widgets/controls",
            "_model_module_version": "1.5.0",
            "_model_name": "HTMLModel",
            "_view_count": null,
            "_view_module": "@jupyter-widgets/controls",
            "_view_module_version": "1.5.0",
            "_view_name": "HTMLView",
            "description": "",
            "description_tooltip": null,
            "layout": "IPY_MODEL_b312ad5425cd4288846fc9e6aa219e9f",
            "placeholder": "​",
            "style": "IPY_MODEL_ac9d08a39115476ea81a2fca942e7abc",
            "value": " 3.36k/3.36k [00:00&lt;00:00, 283kB/s]"
          }
        },
        "ff8b4442e8604eb1840acf3c0fa1e77b": {
          "model_module": "@jupyter-widgets/base",
          "model_name": "LayoutModel",
          "model_module_version": "1.2.0",
          "state": {
            "_model_module": "@jupyter-widgets/base",
            "_model_module_version": "1.2.0",
            "_model_name": "LayoutModel",
            "_view_count": null,
            "_view_module": "@jupyter-widgets/base",
            "_view_module_version": "1.2.0",
            "_view_name": "LayoutView",
            "align_content": null,
            "align_items": null,
            "align_self": null,
            "border": null,
            "bottom": null,
            "display": null,
            "flex": null,
            "flex_flow": null,
            "grid_area": null,
            "grid_auto_columns": null,
            "grid_auto_flow": null,
            "grid_auto_rows": null,
            "grid_column": null,
            "grid_gap": null,
            "grid_row": null,
            "grid_template_areas": null,
            "grid_template_columns": null,
            "grid_template_rows": null,
            "height": null,
            "justify_content": null,
            "justify_items": null,
            "left": null,
            "margin": null,
            "max_height": null,
            "max_width": null,
            "min_height": null,
            "min_width": null,
            "object_fit": null,
            "object_position": null,
            "order": null,
            "overflow": null,
            "overflow_x": null,
            "overflow_y": null,
            "padding": null,
            "right": null,
            "top": null,
            "visibility": null,
            "width": null
          }
        },
        "18a641728bf14e2ab6b9fa78e000f0fd": {
          "model_module": "@jupyter-widgets/base",
          "model_name": "LayoutModel",
          "model_module_version": "1.2.0",
          "state": {
            "_model_module": "@jupyter-widgets/base",
            "_model_module_version": "1.2.0",
            "_model_name": "LayoutModel",
            "_view_count": null,
            "_view_module": "@jupyter-widgets/base",
            "_view_module_version": "1.2.0",
            "_view_name": "LayoutView",
            "align_content": null,
            "align_items": null,
            "align_self": null,
            "border": null,
            "bottom": null,
            "display": null,
            "flex": null,
            "flex_flow": null,
            "grid_area": null,
            "grid_auto_columns": null,
            "grid_auto_flow": null,
            "grid_auto_rows": null,
            "grid_column": null,
            "grid_gap": null,
            "grid_row": null,
            "grid_template_areas": null,
            "grid_template_columns": null,
            "grid_template_rows": null,
            "height": null,
            "justify_content": null,
            "justify_items": null,
            "left": null,
            "margin": null,
            "max_height": null,
            "max_width": null,
            "min_height": null,
            "min_width": null,
            "object_fit": null,
            "object_position": null,
            "order": null,
            "overflow": null,
            "overflow_x": null,
            "overflow_y": null,
            "padding": null,
            "right": null,
            "top": null,
            "visibility": null,
            "width": null
          }
        },
        "5236d94c72d34a128f6370d7637ff2d7": {
          "model_module": "@jupyter-widgets/controls",
          "model_name": "DescriptionStyleModel",
          "model_module_version": "1.5.0",
          "state": {
            "_model_module": "@jupyter-widgets/controls",
            "_model_module_version": "1.5.0",
            "_model_name": "DescriptionStyleModel",
            "_view_count": null,
            "_view_module": "@jupyter-widgets/base",
            "_view_module_version": "1.2.0",
            "_view_name": "StyleView",
            "description_width": ""
          }
        },
        "0d65769363854ee188efff740a20ad7e": {
          "model_module": "@jupyter-widgets/base",
          "model_name": "LayoutModel",
          "model_module_version": "1.2.0",
          "state": {
            "_model_module": "@jupyter-widgets/base",
            "_model_module_version": "1.2.0",
            "_model_name": "LayoutModel",
            "_view_count": null,
            "_view_module": "@jupyter-widgets/base",
            "_view_module_version": "1.2.0",
            "_view_name": "LayoutView",
            "align_content": null,
            "align_items": null,
            "align_self": null,
            "border": null,
            "bottom": null,
            "display": null,
            "flex": null,
            "flex_flow": null,
            "grid_area": null,
            "grid_auto_columns": null,
            "grid_auto_flow": null,
            "grid_auto_rows": null,
            "grid_column": null,
            "grid_gap": null,
            "grid_row": null,
            "grid_template_areas": null,
            "grid_template_columns": null,
            "grid_template_rows": null,
            "height": null,
            "justify_content": null,
            "justify_items": null,
            "left": null,
            "margin": null,
            "max_height": null,
            "max_width": null,
            "min_height": null,
            "min_width": null,
            "object_fit": null,
            "object_position": null,
            "order": null,
            "overflow": null,
            "overflow_x": null,
            "overflow_y": null,
            "padding": null,
            "right": null,
            "top": null,
            "visibility": null,
            "width": null
          }
        },
        "12045d65a0274187b0345642eb8b36a0": {
          "model_module": "@jupyter-widgets/controls",
          "model_name": "ProgressStyleModel",
          "model_module_version": "1.5.0",
          "state": {
            "_model_module": "@jupyter-widgets/controls",
            "_model_module_version": "1.5.0",
            "_model_name": "ProgressStyleModel",
            "_view_count": null,
            "_view_module": "@jupyter-widgets/base",
            "_view_module_version": "1.2.0",
            "_view_name": "StyleView",
            "bar_color": null,
            "description_width": ""
          }
        },
        "b312ad5425cd4288846fc9e6aa219e9f": {
          "model_module": "@jupyter-widgets/base",
          "model_name": "LayoutModel",
          "model_module_version": "1.2.0",
          "state": {
            "_model_module": "@jupyter-widgets/base",
            "_model_module_version": "1.2.0",
            "_model_name": "LayoutModel",
            "_view_count": null,
            "_view_module": "@jupyter-widgets/base",
            "_view_module_version": "1.2.0",
            "_view_name": "LayoutView",
            "align_content": null,
            "align_items": null,
            "align_self": null,
            "border": null,
            "bottom": null,
            "display": null,
            "flex": null,
            "flex_flow": null,
            "grid_area": null,
            "grid_auto_columns": null,
            "grid_auto_flow": null,
            "grid_auto_rows": null,
            "grid_column": null,
            "grid_gap": null,
            "grid_row": null,
            "grid_template_areas": null,
            "grid_template_columns": null,
            "grid_template_rows": null,
            "height": null,
            "justify_content": null,
            "justify_items": null,
            "left": null,
            "margin": null,
            "max_height": null,
            "max_width": null,
            "min_height": null,
            "min_width": null,
            "object_fit": null,
            "object_position": null,
            "order": null,
            "overflow": null,
            "overflow_x": null,
            "overflow_y": null,
            "padding": null,
            "right": null,
            "top": null,
            "visibility": null,
            "width": null
          }
        },
        "ac9d08a39115476ea81a2fca942e7abc": {
          "model_module": "@jupyter-widgets/controls",
          "model_name": "DescriptionStyleModel",
          "model_module_version": "1.5.0",
          "state": {
            "_model_module": "@jupyter-widgets/controls",
            "_model_module_version": "1.5.0",
            "_model_name": "DescriptionStyleModel",
            "_view_count": null,
            "_view_module": "@jupyter-widgets/base",
            "_view_module_version": "1.2.0",
            "_view_name": "StyleView",
            "description_width": ""
          }
        },
        "629d83e34b03481790b2f8a9b8fbe44f": {
          "model_module": "@jupyter-widgets/controls",
          "model_name": "HBoxModel",
          "model_module_version": "1.5.0",
          "state": {
            "_dom_classes": [],
            "_model_module": "@jupyter-widgets/controls",
            "_model_module_version": "1.5.0",
            "_model_name": "HBoxModel",
            "_view_count": null,
            "_view_module": "@jupyter-widgets/controls",
            "_view_module_version": "1.5.0",
            "_view_name": "HBoxView",
            "box_style": "",
            "children": [
              "IPY_MODEL_f208b7f338864ca3ab448a48fd246773",
              "IPY_MODEL_51cf629c2057463490e31d687bd677b1",
              "IPY_MODEL_a68e01f68fd94f71a2f01e41a47f1745"
            ],
            "layout": "IPY_MODEL_a91606b4dfc445439a97001899147c1c"
          }
        },
        "f208b7f338864ca3ab448a48fd246773": {
          "model_module": "@jupyter-widgets/controls",
          "model_name": "HTMLModel",
          "model_module_version": "1.5.0",
          "state": {
            "_dom_classes": [],
            "_model_module": "@jupyter-widgets/controls",
            "_model_module_version": "1.5.0",
            "_model_name": "HTMLModel",
            "_view_count": null,
            "_view_module": "@jupyter-widgets/controls",
            "_view_module_version": "1.5.0",
            "_view_name": "HTMLView",
            "description": "",
            "description_tooltip": null,
            "layout": "IPY_MODEL_844f7a4c5d3c430bb25349eeb677c07a",
            "placeholder": "​",
            "style": "IPY_MODEL_a6e329ca3aa44daba1c2ea07bc60bedd",
            "value": "Downloading metadata: 100%"
          }
        },
        "51cf629c2057463490e31d687bd677b1": {
          "model_module": "@jupyter-widgets/controls",
          "model_name": "FloatProgressModel",
          "model_module_version": "1.5.0",
          "state": {
            "_dom_classes": [],
            "_model_module": "@jupyter-widgets/controls",
            "_model_module_version": "1.5.0",
            "_model_name": "FloatProgressModel",
            "_view_count": null,
            "_view_module": "@jupyter-widgets/controls",
            "_view_module_version": "1.5.0",
            "_view_name": "ProgressView",
            "bar_style": "success",
            "description": "",
            "description_tooltip": null,
            "layout": "IPY_MODEL_51e338e7c1cb4d99b6b8d01f69f21fe1",
            "max": 1577,
            "min": 0,
            "orientation": "horizontal",
            "style": "IPY_MODEL_05f056c2848e44a0bbf50ff276b0ae64",
            "value": 1577
          }
        },
        "a68e01f68fd94f71a2f01e41a47f1745": {
          "model_module": "@jupyter-widgets/controls",
          "model_name": "HTMLModel",
          "model_module_version": "1.5.0",
          "state": {
            "_dom_classes": [],
            "_model_module": "@jupyter-widgets/controls",
            "_model_module_version": "1.5.0",
            "_model_name": "HTMLModel",
            "_view_count": null,
            "_view_module": "@jupyter-widgets/controls",
            "_view_module_version": "1.5.0",
            "_view_name": "HTMLView",
            "description": "",
            "description_tooltip": null,
            "layout": "IPY_MODEL_7ecd185f2ce24f7d8b7866d24af6a23b",
            "placeholder": "​",
            "style": "IPY_MODEL_61a6779ce9c742f7b2a14684a1db7bce",
            "value": " 1.58k/1.58k [00:00&lt;00:00, 134kB/s]"
          }
        },
        "a91606b4dfc445439a97001899147c1c": {
          "model_module": "@jupyter-widgets/base",
          "model_name": "LayoutModel",
          "model_module_version": "1.2.0",
          "state": {
            "_model_module": "@jupyter-widgets/base",
            "_model_module_version": "1.2.0",
            "_model_name": "LayoutModel",
            "_view_count": null,
            "_view_module": "@jupyter-widgets/base",
            "_view_module_version": "1.2.0",
            "_view_name": "LayoutView",
            "align_content": null,
            "align_items": null,
            "align_self": null,
            "border": null,
            "bottom": null,
            "display": null,
            "flex": null,
            "flex_flow": null,
            "grid_area": null,
            "grid_auto_columns": null,
            "grid_auto_flow": null,
            "grid_auto_rows": null,
            "grid_column": null,
            "grid_gap": null,
            "grid_row": null,
            "grid_template_areas": null,
            "grid_template_columns": null,
            "grid_template_rows": null,
            "height": null,
            "justify_content": null,
            "justify_items": null,
            "left": null,
            "margin": null,
            "max_height": null,
            "max_width": null,
            "min_height": null,
            "min_width": null,
            "object_fit": null,
            "object_position": null,
            "order": null,
            "overflow": null,
            "overflow_x": null,
            "overflow_y": null,
            "padding": null,
            "right": null,
            "top": null,
            "visibility": null,
            "width": null
          }
        },
        "844f7a4c5d3c430bb25349eeb677c07a": {
          "model_module": "@jupyter-widgets/base",
          "model_name": "LayoutModel",
          "model_module_version": "1.2.0",
          "state": {
            "_model_module": "@jupyter-widgets/base",
            "_model_module_version": "1.2.0",
            "_model_name": "LayoutModel",
            "_view_count": null,
            "_view_module": "@jupyter-widgets/base",
            "_view_module_version": "1.2.0",
            "_view_name": "LayoutView",
            "align_content": null,
            "align_items": null,
            "align_self": null,
            "border": null,
            "bottom": null,
            "display": null,
            "flex": null,
            "flex_flow": null,
            "grid_area": null,
            "grid_auto_columns": null,
            "grid_auto_flow": null,
            "grid_auto_rows": null,
            "grid_column": null,
            "grid_gap": null,
            "grid_row": null,
            "grid_template_areas": null,
            "grid_template_columns": null,
            "grid_template_rows": null,
            "height": null,
            "justify_content": null,
            "justify_items": null,
            "left": null,
            "margin": null,
            "max_height": null,
            "max_width": null,
            "min_height": null,
            "min_width": null,
            "object_fit": null,
            "object_position": null,
            "order": null,
            "overflow": null,
            "overflow_x": null,
            "overflow_y": null,
            "padding": null,
            "right": null,
            "top": null,
            "visibility": null,
            "width": null
          }
        },
        "a6e329ca3aa44daba1c2ea07bc60bedd": {
          "model_module": "@jupyter-widgets/controls",
          "model_name": "DescriptionStyleModel",
          "model_module_version": "1.5.0",
          "state": {
            "_model_module": "@jupyter-widgets/controls",
            "_model_module_version": "1.5.0",
            "_model_name": "DescriptionStyleModel",
            "_view_count": null,
            "_view_module": "@jupyter-widgets/base",
            "_view_module_version": "1.2.0",
            "_view_name": "StyleView",
            "description_width": ""
          }
        },
        "51e338e7c1cb4d99b6b8d01f69f21fe1": {
          "model_module": "@jupyter-widgets/base",
          "model_name": "LayoutModel",
          "model_module_version": "1.2.0",
          "state": {
            "_model_module": "@jupyter-widgets/base",
            "_model_module_version": "1.2.0",
            "_model_name": "LayoutModel",
            "_view_count": null,
            "_view_module": "@jupyter-widgets/base",
            "_view_module_version": "1.2.0",
            "_view_name": "LayoutView",
            "align_content": null,
            "align_items": null,
            "align_self": null,
            "border": null,
            "bottom": null,
            "display": null,
            "flex": null,
            "flex_flow": null,
            "grid_area": null,
            "grid_auto_columns": null,
            "grid_auto_flow": null,
            "grid_auto_rows": null,
            "grid_column": null,
            "grid_gap": null,
            "grid_row": null,
            "grid_template_areas": null,
            "grid_template_columns": null,
            "grid_template_rows": null,
            "height": null,
            "justify_content": null,
            "justify_items": null,
            "left": null,
            "margin": null,
            "max_height": null,
            "max_width": null,
            "min_height": null,
            "min_width": null,
            "object_fit": null,
            "object_position": null,
            "order": null,
            "overflow": null,
            "overflow_x": null,
            "overflow_y": null,
            "padding": null,
            "right": null,
            "top": null,
            "visibility": null,
            "width": null
          }
        },
        "05f056c2848e44a0bbf50ff276b0ae64": {
          "model_module": "@jupyter-widgets/controls",
          "model_name": "ProgressStyleModel",
          "model_module_version": "1.5.0",
          "state": {
            "_model_module": "@jupyter-widgets/controls",
            "_model_module_version": "1.5.0",
            "_model_name": "ProgressStyleModel",
            "_view_count": null,
            "_view_module": "@jupyter-widgets/base",
            "_view_module_version": "1.2.0",
            "_view_name": "StyleView",
            "bar_color": null,
            "description_width": ""
          }
        },
        "7ecd185f2ce24f7d8b7866d24af6a23b": {
          "model_module": "@jupyter-widgets/base",
          "model_name": "LayoutModel",
          "model_module_version": "1.2.0",
          "state": {
            "_model_module": "@jupyter-widgets/base",
            "_model_module_version": "1.2.0",
            "_model_name": "LayoutModel",
            "_view_count": null,
            "_view_module": "@jupyter-widgets/base",
            "_view_module_version": "1.2.0",
            "_view_name": "LayoutView",
            "align_content": null,
            "align_items": null,
            "align_self": null,
            "border": null,
            "bottom": null,
            "display": null,
            "flex": null,
            "flex_flow": null,
            "grid_area": null,
            "grid_auto_columns": null,
            "grid_auto_flow": null,
            "grid_auto_rows": null,
            "grid_column": null,
            "grid_gap": null,
            "grid_row": null,
            "grid_template_areas": null,
            "grid_template_columns": null,
            "grid_template_rows": null,
            "height": null,
            "justify_content": null,
            "justify_items": null,
            "left": null,
            "margin": null,
            "max_height": null,
            "max_width": null,
            "min_height": null,
            "min_width": null,
            "object_fit": null,
            "object_position": null,
            "order": null,
            "overflow": null,
            "overflow_x": null,
            "overflow_y": null,
            "padding": null,
            "right": null,
            "top": null,
            "visibility": null,
            "width": null
          }
        },
        "61a6779ce9c742f7b2a14684a1db7bce": {
          "model_module": "@jupyter-widgets/controls",
          "model_name": "DescriptionStyleModel",
          "model_module_version": "1.5.0",
          "state": {
            "_model_module": "@jupyter-widgets/controls",
            "_model_module_version": "1.5.0",
            "_model_name": "DescriptionStyleModel",
            "_view_count": null,
            "_view_module": "@jupyter-widgets/base",
            "_view_module_version": "1.2.0",
            "_view_name": "StyleView",
            "description_width": ""
          }
        },
        "efe216a89f7d40069b4060065bc0bb29": {
          "model_module": "@jupyter-widgets/controls",
          "model_name": "HBoxModel",
          "model_module_version": "1.5.0",
          "state": {
            "_dom_classes": [],
            "_model_module": "@jupyter-widgets/controls",
            "_model_module_version": "1.5.0",
            "_model_name": "HBoxModel",
            "_view_count": null,
            "_view_module": "@jupyter-widgets/controls",
            "_view_module_version": "1.5.0",
            "_view_name": "HBoxView",
            "box_style": "",
            "children": [
              "IPY_MODEL_9627a5b53adf4d68b4fecbc12a64d770",
              "IPY_MODEL_3e5cae90396a490b8a9d5ffccbc6cd07",
              "IPY_MODEL_34cd9c14ca8e4ef0ae5a35771002d5fd"
            ],
            "layout": "IPY_MODEL_f761e78dcdba4a1081a34cdd216f826e"
          }
        },
        "9627a5b53adf4d68b4fecbc12a64d770": {
          "model_module": "@jupyter-widgets/controls",
          "model_name": "HTMLModel",
          "model_module_version": "1.5.0",
          "state": {
            "_dom_classes": [],
            "_model_module": "@jupyter-widgets/controls",
            "_model_module_version": "1.5.0",
            "_model_name": "HTMLModel",
            "_view_count": null,
            "_view_module": "@jupyter-widgets/controls",
            "_view_module_version": "1.5.0",
            "_view_name": "HTMLView",
            "description": "",
            "description_tooltip": null,
            "layout": "IPY_MODEL_140cd75290414e5c9bae805a883164fc",
            "placeholder": "​",
            "style": "IPY_MODEL_dbaa32733e064527bcdf61a2132ed348",
            "value": "Downloading readme: 100%"
          }
        },
        "3e5cae90396a490b8a9d5ffccbc6cd07": {
          "model_module": "@jupyter-widgets/controls",
          "model_name": "FloatProgressModel",
          "model_module_version": "1.5.0",
          "state": {
            "_dom_classes": [],
            "_model_module": "@jupyter-widgets/controls",
            "_model_module_version": "1.5.0",
            "_model_name": "FloatProgressModel",
            "_view_count": null,
            "_view_module": "@jupyter-widgets/controls",
            "_view_module_version": "1.5.0",
            "_view_name": "ProgressView",
            "bar_style": "success",
            "description": "",
            "description_tooltip": null,
            "layout": "IPY_MODEL_60387ff682e246eabe70bf851b69df58",
            "max": 7042,
            "min": 0,
            "orientation": "horizontal",
            "style": "IPY_MODEL_f0e269649fe24e5780794041e7844ecf",
            "value": 7042
          }
        },
        "34cd9c14ca8e4ef0ae5a35771002d5fd": {
          "model_module": "@jupyter-widgets/controls",
          "model_name": "HTMLModel",
          "model_module_version": "1.5.0",
          "state": {
            "_dom_classes": [],
            "_model_module": "@jupyter-widgets/controls",
            "_model_module_version": "1.5.0",
            "_model_name": "HTMLModel",
            "_view_count": null,
            "_view_module": "@jupyter-widgets/controls",
            "_view_module_version": "1.5.0",
            "_view_name": "HTMLView",
            "description": "",
            "description_tooltip": null,
            "layout": "IPY_MODEL_c4c90b33c95746c09740e8698ebc690c",
            "placeholder": "​",
            "style": "IPY_MODEL_4450d547b92340599bf0a63538421169",
            "value": " 7.04k/7.04k [00:00&lt;00:00, 564kB/s]"
          }
        },
        "f761e78dcdba4a1081a34cdd216f826e": {
          "model_module": "@jupyter-widgets/base",
          "model_name": "LayoutModel",
          "model_module_version": "1.2.0",
          "state": {
            "_model_module": "@jupyter-widgets/base",
            "_model_module_version": "1.2.0",
            "_model_name": "LayoutModel",
            "_view_count": null,
            "_view_module": "@jupyter-widgets/base",
            "_view_module_version": "1.2.0",
            "_view_name": "LayoutView",
            "align_content": null,
            "align_items": null,
            "align_self": null,
            "border": null,
            "bottom": null,
            "display": null,
            "flex": null,
            "flex_flow": null,
            "grid_area": null,
            "grid_auto_columns": null,
            "grid_auto_flow": null,
            "grid_auto_rows": null,
            "grid_column": null,
            "grid_gap": null,
            "grid_row": null,
            "grid_template_areas": null,
            "grid_template_columns": null,
            "grid_template_rows": null,
            "height": null,
            "justify_content": null,
            "justify_items": null,
            "left": null,
            "margin": null,
            "max_height": null,
            "max_width": null,
            "min_height": null,
            "min_width": null,
            "object_fit": null,
            "object_position": null,
            "order": null,
            "overflow": null,
            "overflow_x": null,
            "overflow_y": null,
            "padding": null,
            "right": null,
            "top": null,
            "visibility": null,
            "width": null
          }
        },
        "140cd75290414e5c9bae805a883164fc": {
          "model_module": "@jupyter-widgets/base",
          "model_name": "LayoutModel",
          "model_module_version": "1.2.0",
          "state": {
            "_model_module": "@jupyter-widgets/base",
            "_model_module_version": "1.2.0",
            "_model_name": "LayoutModel",
            "_view_count": null,
            "_view_module": "@jupyter-widgets/base",
            "_view_module_version": "1.2.0",
            "_view_name": "LayoutView",
            "align_content": null,
            "align_items": null,
            "align_self": null,
            "border": null,
            "bottom": null,
            "display": null,
            "flex": null,
            "flex_flow": null,
            "grid_area": null,
            "grid_auto_columns": null,
            "grid_auto_flow": null,
            "grid_auto_rows": null,
            "grid_column": null,
            "grid_gap": null,
            "grid_row": null,
            "grid_template_areas": null,
            "grid_template_columns": null,
            "grid_template_rows": null,
            "height": null,
            "justify_content": null,
            "justify_items": null,
            "left": null,
            "margin": null,
            "max_height": null,
            "max_width": null,
            "min_height": null,
            "min_width": null,
            "object_fit": null,
            "object_position": null,
            "order": null,
            "overflow": null,
            "overflow_x": null,
            "overflow_y": null,
            "padding": null,
            "right": null,
            "top": null,
            "visibility": null,
            "width": null
          }
        },
        "dbaa32733e064527bcdf61a2132ed348": {
          "model_module": "@jupyter-widgets/controls",
          "model_name": "DescriptionStyleModel",
          "model_module_version": "1.5.0",
          "state": {
            "_model_module": "@jupyter-widgets/controls",
            "_model_module_version": "1.5.0",
            "_model_name": "DescriptionStyleModel",
            "_view_count": null,
            "_view_module": "@jupyter-widgets/base",
            "_view_module_version": "1.2.0",
            "_view_name": "StyleView",
            "description_width": ""
          }
        },
        "60387ff682e246eabe70bf851b69df58": {
          "model_module": "@jupyter-widgets/base",
          "model_name": "LayoutModel",
          "model_module_version": "1.2.0",
          "state": {
            "_model_module": "@jupyter-widgets/base",
            "_model_module_version": "1.2.0",
            "_model_name": "LayoutModel",
            "_view_count": null,
            "_view_module": "@jupyter-widgets/base",
            "_view_module_version": "1.2.0",
            "_view_name": "LayoutView",
            "align_content": null,
            "align_items": null,
            "align_self": null,
            "border": null,
            "bottom": null,
            "display": null,
            "flex": null,
            "flex_flow": null,
            "grid_area": null,
            "grid_auto_columns": null,
            "grid_auto_flow": null,
            "grid_auto_rows": null,
            "grid_column": null,
            "grid_gap": null,
            "grid_row": null,
            "grid_template_areas": null,
            "grid_template_columns": null,
            "grid_template_rows": null,
            "height": null,
            "justify_content": null,
            "justify_items": null,
            "left": null,
            "margin": null,
            "max_height": null,
            "max_width": null,
            "min_height": null,
            "min_width": null,
            "object_fit": null,
            "object_position": null,
            "order": null,
            "overflow": null,
            "overflow_x": null,
            "overflow_y": null,
            "padding": null,
            "right": null,
            "top": null,
            "visibility": null,
            "width": null
          }
        },
        "f0e269649fe24e5780794041e7844ecf": {
          "model_module": "@jupyter-widgets/controls",
          "model_name": "ProgressStyleModel",
          "model_module_version": "1.5.0",
          "state": {
            "_model_module": "@jupyter-widgets/controls",
            "_model_module_version": "1.5.0",
            "_model_name": "ProgressStyleModel",
            "_view_count": null,
            "_view_module": "@jupyter-widgets/base",
            "_view_module_version": "1.2.0",
            "_view_name": "StyleView",
            "bar_color": null,
            "description_width": ""
          }
        },
        "c4c90b33c95746c09740e8698ebc690c": {
          "model_module": "@jupyter-widgets/base",
          "model_name": "LayoutModel",
          "model_module_version": "1.2.0",
          "state": {
            "_model_module": "@jupyter-widgets/base",
            "_model_module_version": "1.2.0",
            "_model_name": "LayoutModel",
            "_view_count": null,
            "_view_module": "@jupyter-widgets/base",
            "_view_module_version": "1.2.0",
            "_view_name": "LayoutView",
            "align_content": null,
            "align_items": null,
            "align_self": null,
            "border": null,
            "bottom": null,
            "display": null,
            "flex": null,
            "flex_flow": null,
            "grid_area": null,
            "grid_auto_columns": null,
            "grid_auto_flow": null,
            "grid_auto_rows": null,
            "grid_column": null,
            "grid_gap": null,
            "grid_row": null,
            "grid_template_areas": null,
            "grid_template_columns": null,
            "grid_template_rows": null,
            "height": null,
            "justify_content": null,
            "justify_items": null,
            "left": null,
            "margin": null,
            "max_height": null,
            "max_width": null,
            "min_height": null,
            "min_width": null,
            "object_fit": null,
            "object_position": null,
            "order": null,
            "overflow": null,
            "overflow_x": null,
            "overflow_y": null,
            "padding": null,
            "right": null,
            "top": null,
            "visibility": null,
            "width": null
          }
        },
        "4450d547b92340599bf0a63538421169": {
          "model_module": "@jupyter-widgets/controls",
          "model_name": "DescriptionStyleModel",
          "model_module_version": "1.5.0",
          "state": {
            "_model_module": "@jupyter-widgets/controls",
            "_model_module_version": "1.5.0",
            "_model_name": "DescriptionStyleModel",
            "_view_count": null,
            "_view_module": "@jupyter-widgets/base",
            "_view_module_version": "1.2.0",
            "_view_name": "StyleView",
            "description_width": ""
          }
        },
        "457c7ed9a09d4be889babda516371227": {
          "model_module": "@jupyter-widgets/controls",
          "model_name": "HBoxModel",
          "model_module_version": "1.5.0",
          "state": {
            "_dom_classes": [],
            "_model_module": "@jupyter-widgets/controls",
            "_model_module_version": "1.5.0",
            "_model_name": "HBoxModel",
            "_view_count": null,
            "_view_module": "@jupyter-widgets/controls",
            "_view_module_version": "1.5.0",
            "_view_name": "HBoxView",
            "box_style": "",
            "children": [
              "IPY_MODEL_fcc5b3b85ff942dba1f846667ef30870",
              "IPY_MODEL_bb0812a5e0f54a7bb8df5e28c7de5403",
              "IPY_MODEL_d09afe019894465f9d35120f2b53f17a"
            ],
            "layout": "IPY_MODEL_d6cb0c84e1d6481db76c24531fdd76f2"
          }
        },
        "fcc5b3b85ff942dba1f846667ef30870": {
          "model_module": "@jupyter-widgets/controls",
          "model_name": "HTMLModel",
          "model_module_version": "1.5.0",
          "state": {
            "_dom_classes": [],
            "_model_module": "@jupyter-widgets/controls",
            "_model_module_version": "1.5.0",
            "_model_name": "HTMLModel",
            "_view_count": null,
            "_view_module": "@jupyter-widgets/controls",
            "_view_module_version": "1.5.0",
            "_view_name": "HTMLView",
            "description": "",
            "description_tooltip": null,
            "layout": "IPY_MODEL_4c48abde184944e2815c0f27e788fc06",
            "placeholder": "​",
            "style": "IPY_MODEL_eec10341083046f18df35c552d1d3948",
            "value": "Downloading data: 100%"
          }
        },
        "bb0812a5e0f54a7bb8df5e28c7de5403": {
          "model_module": "@jupyter-widgets/controls",
          "model_name": "FloatProgressModel",
          "model_module_version": "1.5.0",
          "state": {
            "_dom_classes": [],
            "_model_module": "@jupyter-widgets/controls",
            "_model_module_version": "1.5.0",
            "_model_name": "FloatProgressModel",
            "_view_count": null,
            "_view_module": "@jupyter-widgets/controls",
            "_view_module_version": "1.5.0",
            "_view_name": "ProgressView",
            "bar_style": "success",
            "description": "",
            "description_tooltip": null,
            "layout": "IPY_MODEL_6199fc2d556147f6ae71cd0e7fda2c40",
            "max": 2944100,
            "min": 0,
            "orientation": "horizontal",
            "style": "IPY_MODEL_b49d9ae923c041c4b169f36f4a78e229",
            "value": 2944100
          }
        },
        "d09afe019894465f9d35120f2b53f17a": {
          "model_module": "@jupyter-widgets/controls",
          "model_name": "HTMLModel",
          "model_module_version": "1.5.0",
          "state": {
            "_dom_classes": [],
            "_model_module": "@jupyter-widgets/controls",
            "_model_module_version": "1.5.0",
            "_model_name": "HTMLModel",
            "_view_count": null,
            "_view_module": "@jupyter-widgets/controls",
            "_view_module_version": "1.5.0",
            "_view_name": "HTMLView",
            "description": "",
            "description_tooltip": null,
            "layout": "IPY_MODEL_6597ccfb28604ed985bbf0c67768f53a",
            "placeholder": "​",
            "style": "IPY_MODEL_bdd7a8e616b6401992e47176a7c22849",
            "value": " 2.94M/2.94M [00:00&lt;00:00, 54.7MB/s]"
          }
        },
        "d6cb0c84e1d6481db76c24531fdd76f2": {
          "model_module": "@jupyter-widgets/base",
          "model_name": "LayoutModel",
          "model_module_version": "1.2.0",
          "state": {
            "_model_module": "@jupyter-widgets/base",
            "_model_module_version": "1.2.0",
            "_model_name": "LayoutModel",
            "_view_count": null,
            "_view_module": "@jupyter-widgets/base",
            "_view_module_version": "1.2.0",
            "_view_name": "LayoutView",
            "align_content": null,
            "align_items": null,
            "align_self": null,
            "border": null,
            "bottom": null,
            "display": null,
            "flex": null,
            "flex_flow": null,
            "grid_area": null,
            "grid_auto_columns": null,
            "grid_auto_flow": null,
            "grid_auto_rows": null,
            "grid_column": null,
            "grid_gap": null,
            "grid_row": null,
            "grid_template_areas": null,
            "grid_template_columns": null,
            "grid_template_rows": null,
            "height": null,
            "justify_content": null,
            "justify_items": null,
            "left": null,
            "margin": null,
            "max_height": null,
            "max_width": null,
            "min_height": null,
            "min_width": null,
            "object_fit": null,
            "object_position": null,
            "order": null,
            "overflow": null,
            "overflow_x": null,
            "overflow_y": null,
            "padding": null,
            "right": null,
            "top": null,
            "visibility": null,
            "width": null
          }
        },
        "4c48abde184944e2815c0f27e788fc06": {
          "model_module": "@jupyter-widgets/base",
          "model_name": "LayoutModel",
          "model_module_version": "1.2.0",
          "state": {
            "_model_module": "@jupyter-widgets/base",
            "_model_module_version": "1.2.0",
            "_model_name": "LayoutModel",
            "_view_count": null,
            "_view_module": "@jupyter-widgets/base",
            "_view_module_version": "1.2.0",
            "_view_name": "LayoutView",
            "align_content": null,
            "align_items": null,
            "align_self": null,
            "border": null,
            "bottom": null,
            "display": null,
            "flex": null,
            "flex_flow": null,
            "grid_area": null,
            "grid_auto_columns": null,
            "grid_auto_flow": null,
            "grid_auto_rows": null,
            "grid_column": null,
            "grid_gap": null,
            "grid_row": null,
            "grid_template_areas": null,
            "grid_template_columns": null,
            "grid_template_rows": null,
            "height": null,
            "justify_content": null,
            "justify_items": null,
            "left": null,
            "margin": null,
            "max_height": null,
            "max_width": null,
            "min_height": null,
            "min_width": null,
            "object_fit": null,
            "object_position": null,
            "order": null,
            "overflow": null,
            "overflow_x": null,
            "overflow_y": null,
            "padding": null,
            "right": null,
            "top": null,
            "visibility": null,
            "width": null
          }
        },
        "eec10341083046f18df35c552d1d3948": {
          "model_module": "@jupyter-widgets/controls",
          "model_name": "DescriptionStyleModel",
          "model_module_version": "1.5.0",
          "state": {
            "_model_module": "@jupyter-widgets/controls",
            "_model_module_version": "1.5.0",
            "_model_name": "DescriptionStyleModel",
            "_view_count": null,
            "_view_module": "@jupyter-widgets/base",
            "_view_module_version": "1.2.0",
            "_view_name": "StyleView",
            "description_width": ""
          }
        },
        "6199fc2d556147f6ae71cd0e7fda2c40": {
          "model_module": "@jupyter-widgets/base",
          "model_name": "LayoutModel",
          "model_module_version": "1.2.0",
          "state": {
            "_model_module": "@jupyter-widgets/base",
            "_model_module_version": "1.2.0",
            "_model_name": "LayoutModel",
            "_view_count": null,
            "_view_module": "@jupyter-widgets/base",
            "_view_module_version": "1.2.0",
            "_view_name": "LayoutView",
            "align_content": null,
            "align_items": null,
            "align_self": null,
            "border": null,
            "bottom": null,
            "display": null,
            "flex": null,
            "flex_flow": null,
            "grid_area": null,
            "grid_auto_columns": null,
            "grid_auto_flow": null,
            "grid_auto_rows": null,
            "grid_column": null,
            "grid_gap": null,
            "grid_row": null,
            "grid_template_areas": null,
            "grid_template_columns": null,
            "grid_template_rows": null,
            "height": null,
            "justify_content": null,
            "justify_items": null,
            "left": null,
            "margin": null,
            "max_height": null,
            "max_width": null,
            "min_height": null,
            "min_width": null,
            "object_fit": null,
            "object_position": null,
            "order": null,
            "overflow": null,
            "overflow_x": null,
            "overflow_y": null,
            "padding": null,
            "right": null,
            "top": null,
            "visibility": null,
            "width": null
          }
        },
        "b49d9ae923c041c4b169f36f4a78e229": {
          "model_module": "@jupyter-widgets/controls",
          "model_name": "ProgressStyleModel",
          "model_module_version": "1.5.0",
          "state": {
            "_model_module": "@jupyter-widgets/controls",
            "_model_module_version": "1.5.0",
            "_model_name": "ProgressStyleModel",
            "_view_count": null,
            "_view_module": "@jupyter-widgets/base",
            "_view_module_version": "1.2.0",
            "_view_name": "StyleView",
            "bar_color": null,
            "description_width": ""
          }
        },
        "6597ccfb28604ed985bbf0c67768f53a": {
          "model_module": "@jupyter-widgets/base",
          "model_name": "LayoutModel",
          "model_module_version": "1.2.0",
          "state": {
            "_model_module": "@jupyter-widgets/base",
            "_model_module_version": "1.2.0",
            "_model_name": "LayoutModel",
            "_view_count": null,
            "_view_module": "@jupyter-widgets/base",
            "_view_module_version": "1.2.0",
            "_view_name": "LayoutView",
            "align_content": null,
            "align_items": null,
            "align_self": null,
            "border": null,
            "bottom": null,
            "display": null,
            "flex": null,
            "flex_flow": null,
            "grid_area": null,
            "grid_auto_columns": null,
            "grid_auto_flow": null,
            "grid_auto_rows": null,
            "grid_column": null,
            "grid_gap": null,
            "grid_row": null,
            "grid_template_areas": null,
            "grid_template_columns": null,
            "grid_template_rows": null,
            "height": null,
            "justify_content": null,
            "justify_items": null,
            "left": null,
            "margin": null,
            "max_height": null,
            "max_width": null,
            "min_height": null,
            "min_width": null,
            "object_fit": null,
            "object_position": null,
            "order": null,
            "overflow": null,
            "overflow_x": null,
            "overflow_y": null,
            "padding": null,
            "right": null,
            "top": null,
            "visibility": null,
            "width": null
          }
        },
        "bdd7a8e616b6401992e47176a7c22849": {
          "model_module": "@jupyter-widgets/controls",
          "model_name": "DescriptionStyleModel",
          "model_module_version": "1.5.0",
          "state": {
            "_model_module": "@jupyter-widgets/controls",
            "_model_module_version": "1.5.0",
            "_model_name": "DescriptionStyleModel",
            "_view_count": null,
            "_view_module": "@jupyter-widgets/base",
            "_view_module_version": "1.2.0",
            "_view_name": "StyleView",
            "description_width": ""
          }
        },
        "efc358d42d544d07bcf113ecf4e0ee6c": {
          "model_module": "@jupyter-widgets/controls",
          "model_name": "HBoxModel",
          "model_module_version": "1.5.0",
          "state": {
            "_dom_classes": [],
            "_model_module": "@jupyter-widgets/controls",
            "_model_module_version": "1.5.0",
            "_model_name": "HBoxModel",
            "_view_count": null,
            "_view_module": "@jupyter-widgets/controls",
            "_view_module_version": "1.5.0",
            "_view_name": "HBoxView",
            "box_style": "",
            "children": [
              "IPY_MODEL_8f2e7195abb544f381cdc6851e67a32c",
              "IPY_MODEL_716b266530874be7aee652f0266856e3",
              "IPY_MODEL_fd167e6718f44f18a6d01cb27e3dd50b"
            ],
            "layout": "IPY_MODEL_93f7976cfe9c4a27a0b1b07d6fa774bf"
          }
        },
        "8f2e7195abb544f381cdc6851e67a32c": {
          "model_module": "@jupyter-widgets/controls",
          "model_name": "HTMLModel",
          "model_module_version": "1.5.0",
          "state": {
            "_dom_classes": [],
            "_model_module": "@jupyter-widgets/controls",
            "_model_module_version": "1.5.0",
            "_model_name": "HTMLModel",
            "_view_count": null,
            "_view_module": "@jupyter-widgets/controls",
            "_view_module_version": "1.5.0",
            "_view_name": "HTMLView",
            "description": "",
            "description_tooltip": null,
            "layout": "IPY_MODEL_29c8f8bf2ebb4b53b8270326cdbf5cbb",
            "placeholder": "​",
            "style": "IPY_MODEL_86c1875aefa64b49a2a3874547f9d500",
            "value": "Generating train split: 100%"
          }
        },
        "716b266530874be7aee652f0266856e3": {
          "model_module": "@jupyter-widgets/controls",
          "model_name": "FloatProgressModel",
          "model_module_version": "1.5.0",
          "state": {
            "_dom_classes": [],
            "_model_module": "@jupyter-widgets/controls",
            "_model_module_version": "1.5.0",
            "_model_name": "FloatProgressModel",
            "_view_count": null,
            "_view_module": "@jupyter-widgets/controls",
            "_view_module_version": "1.5.0",
            "_view_name": "ProgressView",
            "bar_style": "",
            "description": "",
            "description_tooltip": null,
            "layout": "IPY_MODEL_2c99cb0020694fc49842fae98eaa2bc0",
            "max": 14732,
            "min": 0,
            "orientation": "horizontal",
            "style": "IPY_MODEL_faa51ede632043a8ac20ca99d76bcd80",
            "value": 14732
          }
        },
        "fd167e6718f44f18a6d01cb27e3dd50b": {
          "model_module": "@jupyter-widgets/controls",
          "model_name": "HTMLModel",
          "model_module_version": "1.5.0",
          "state": {
            "_dom_classes": [],
            "_model_module": "@jupyter-widgets/controls",
            "_model_module_version": "1.5.0",
            "_model_name": "HTMLModel",
            "_view_count": null,
            "_view_module": "@jupyter-widgets/controls",
            "_view_module_version": "1.5.0",
            "_view_name": "HTMLView",
            "description": "",
            "description_tooltip": null,
            "layout": "IPY_MODEL_3af3ecb025f6460c8637b6be04818c99",
            "placeholder": "​",
            "style": "IPY_MODEL_28dab7c270e84824b2fea4a14b01ae79",
            "value": " 14732/14732 [00:16&lt;00:00, 22939.22 examples/s]"
          }
        },
        "93f7976cfe9c4a27a0b1b07d6fa774bf": {
          "model_module": "@jupyter-widgets/base",
          "model_name": "LayoutModel",
          "model_module_version": "1.2.0",
          "state": {
            "_model_module": "@jupyter-widgets/base",
            "_model_module_version": "1.2.0",
            "_model_name": "LayoutModel",
            "_view_count": null,
            "_view_module": "@jupyter-widgets/base",
            "_view_module_version": "1.2.0",
            "_view_name": "LayoutView",
            "align_content": null,
            "align_items": null,
            "align_self": null,
            "border": null,
            "bottom": null,
            "display": null,
            "flex": null,
            "flex_flow": null,
            "grid_area": null,
            "grid_auto_columns": null,
            "grid_auto_flow": null,
            "grid_auto_rows": null,
            "grid_column": null,
            "grid_gap": null,
            "grid_row": null,
            "grid_template_areas": null,
            "grid_template_columns": null,
            "grid_template_rows": null,
            "height": null,
            "justify_content": null,
            "justify_items": null,
            "left": null,
            "margin": null,
            "max_height": null,
            "max_width": null,
            "min_height": null,
            "min_width": null,
            "object_fit": null,
            "object_position": null,
            "order": null,
            "overflow": null,
            "overflow_x": null,
            "overflow_y": null,
            "padding": null,
            "right": null,
            "top": null,
            "visibility": "hidden",
            "width": null
          }
        },
        "29c8f8bf2ebb4b53b8270326cdbf5cbb": {
          "model_module": "@jupyter-widgets/base",
          "model_name": "LayoutModel",
          "model_module_version": "1.2.0",
          "state": {
            "_model_module": "@jupyter-widgets/base",
            "_model_module_version": "1.2.0",
            "_model_name": "LayoutModel",
            "_view_count": null,
            "_view_module": "@jupyter-widgets/base",
            "_view_module_version": "1.2.0",
            "_view_name": "LayoutView",
            "align_content": null,
            "align_items": null,
            "align_self": null,
            "border": null,
            "bottom": null,
            "display": null,
            "flex": null,
            "flex_flow": null,
            "grid_area": null,
            "grid_auto_columns": null,
            "grid_auto_flow": null,
            "grid_auto_rows": null,
            "grid_column": null,
            "grid_gap": null,
            "grid_row": null,
            "grid_template_areas": null,
            "grid_template_columns": null,
            "grid_template_rows": null,
            "height": null,
            "justify_content": null,
            "justify_items": null,
            "left": null,
            "margin": null,
            "max_height": null,
            "max_width": null,
            "min_height": null,
            "min_width": null,
            "object_fit": null,
            "object_position": null,
            "order": null,
            "overflow": null,
            "overflow_x": null,
            "overflow_y": null,
            "padding": null,
            "right": null,
            "top": null,
            "visibility": null,
            "width": null
          }
        },
        "86c1875aefa64b49a2a3874547f9d500": {
          "model_module": "@jupyter-widgets/controls",
          "model_name": "DescriptionStyleModel",
          "model_module_version": "1.5.0",
          "state": {
            "_model_module": "@jupyter-widgets/controls",
            "_model_module_version": "1.5.0",
            "_model_name": "DescriptionStyleModel",
            "_view_count": null,
            "_view_module": "@jupyter-widgets/base",
            "_view_module_version": "1.2.0",
            "_view_name": "StyleView",
            "description_width": ""
          }
        },
        "2c99cb0020694fc49842fae98eaa2bc0": {
          "model_module": "@jupyter-widgets/base",
          "model_name": "LayoutModel",
          "model_module_version": "1.2.0",
          "state": {
            "_model_module": "@jupyter-widgets/base",
            "_model_module_version": "1.2.0",
            "_model_name": "LayoutModel",
            "_view_count": null,
            "_view_module": "@jupyter-widgets/base",
            "_view_module_version": "1.2.0",
            "_view_name": "LayoutView",
            "align_content": null,
            "align_items": null,
            "align_self": null,
            "border": null,
            "bottom": null,
            "display": null,
            "flex": null,
            "flex_flow": null,
            "grid_area": null,
            "grid_auto_columns": null,
            "grid_auto_flow": null,
            "grid_auto_rows": null,
            "grid_column": null,
            "grid_gap": null,
            "grid_row": null,
            "grid_template_areas": null,
            "grid_template_columns": null,
            "grid_template_rows": null,
            "height": null,
            "justify_content": null,
            "justify_items": null,
            "left": null,
            "margin": null,
            "max_height": null,
            "max_width": null,
            "min_height": null,
            "min_width": null,
            "object_fit": null,
            "object_position": null,
            "order": null,
            "overflow": null,
            "overflow_x": null,
            "overflow_y": null,
            "padding": null,
            "right": null,
            "top": null,
            "visibility": null,
            "width": null
          }
        },
        "faa51ede632043a8ac20ca99d76bcd80": {
          "model_module": "@jupyter-widgets/controls",
          "model_name": "ProgressStyleModel",
          "model_module_version": "1.5.0",
          "state": {
            "_model_module": "@jupyter-widgets/controls",
            "_model_module_version": "1.5.0",
            "_model_name": "ProgressStyleModel",
            "_view_count": null,
            "_view_module": "@jupyter-widgets/base",
            "_view_module_version": "1.2.0",
            "_view_name": "StyleView",
            "bar_color": null,
            "description_width": ""
          }
        },
        "3af3ecb025f6460c8637b6be04818c99": {
          "model_module": "@jupyter-widgets/base",
          "model_name": "LayoutModel",
          "model_module_version": "1.2.0",
          "state": {
            "_model_module": "@jupyter-widgets/base",
            "_model_module_version": "1.2.0",
            "_model_name": "LayoutModel",
            "_view_count": null,
            "_view_module": "@jupyter-widgets/base",
            "_view_module_version": "1.2.0",
            "_view_name": "LayoutView",
            "align_content": null,
            "align_items": null,
            "align_self": null,
            "border": null,
            "bottom": null,
            "display": null,
            "flex": null,
            "flex_flow": null,
            "grid_area": null,
            "grid_auto_columns": null,
            "grid_auto_flow": null,
            "grid_auto_rows": null,
            "grid_column": null,
            "grid_gap": null,
            "grid_row": null,
            "grid_template_areas": null,
            "grid_template_columns": null,
            "grid_template_rows": null,
            "height": null,
            "justify_content": null,
            "justify_items": null,
            "left": null,
            "margin": null,
            "max_height": null,
            "max_width": null,
            "min_height": null,
            "min_width": null,
            "object_fit": null,
            "object_position": null,
            "order": null,
            "overflow": null,
            "overflow_x": null,
            "overflow_y": null,
            "padding": null,
            "right": null,
            "top": null,
            "visibility": null,
            "width": null
          }
        },
        "28dab7c270e84824b2fea4a14b01ae79": {
          "model_module": "@jupyter-widgets/controls",
          "model_name": "DescriptionStyleModel",
          "model_module_version": "1.5.0",
          "state": {
            "_model_module": "@jupyter-widgets/controls",
            "_model_module_version": "1.5.0",
            "_model_name": "DescriptionStyleModel",
            "_view_count": null,
            "_view_module": "@jupyter-widgets/base",
            "_view_module_version": "1.2.0",
            "_view_name": "StyleView",
            "description_width": ""
          }
        },
        "cd2eed86f1a24babb08b02ef2c6d2e14": {
          "model_module": "@jupyter-widgets/controls",
          "model_name": "HBoxModel",
          "model_module_version": "1.5.0",
          "state": {
            "_dom_classes": [],
            "_model_module": "@jupyter-widgets/controls",
            "_model_module_version": "1.5.0",
            "_model_name": "HBoxModel",
            "_view_count": null,
            "_view_module": "@jupyter-widgets/controls",
            "_view_module_version": "1.5.0",
            "_view_name": "HBoxView",
            "box_style": "",
            "children": [
              "IPY_MODEL_66e088b95734432ba133f2d7384a096e",
              "IPY_MODEL_6cc2bbf6a06046c88a7e39abd8743005",
              "IPY_MODEL_d4d811bcf4484bc39a215ec03c2370ce"
            ],
            "layout": "IPY_MODEL_db85d27d96b540869a97a627f41d287e"
          }
        },
        "66e088b95734432ba133f2d7384a096e": {
          "model_module": "@jupyter-widgets/controls",
          "model_name": "HTMLModel",
          "model_module_version": "1.5.0",
          "state": {
            "_dom_classes": [],
            "_model_module": "@jupyter-widgets/controls",
            "_model_module_version": "1.5.0",
            "_model_name": "HTMLModel",
            "_view_count": null,
            "_view_module": "@jupyter-widgets/controls",
            "_view_module_version": "1.5.0",
            "_view_name": "HTMLView",
            "description": "",
            "description_tooltip": null,
            "layout": "IPY_MODEL_0a8cf94c092341feb4cc6ac94c4b5047",
            "placeholder": "​",
            "style": "IPY_MODEL_8b829ec47666451eaeba4c900a205a9b",
            "value": "Generating test split:   0%"
          }
        },
        "6cc2bbf6a06046c88a7e39abd8743005": {
          "model_module": "@jupyter-widgets/controls",
          "model_name": "FloatProgressModel",
          "model_module_version": "1.5.0",
          "state": {
            "_dom_classes": [],
            "_model_module": "@jupyter-widgets/controls",
            "_model_module_version": "1.5.0",
            "_model_name": "FloatProgressModel",
            "_view_count": null,
            "_view_module": "@jupyter-widgets/controls",
            "_view_module_version": "1.5.0",
            "_view_name": "ProgressView",
            "bar_style": "",
            "description": "",
            "description_tooltip": null,
            "layout": "IPY_MODEL_d72b16e494824fa8888f6dc68c83cebc",
            "max": 819,
            "min": 0,
            "orientation": "horizontal",
            "style": "IPY_MODEL_001de026190c4bada8ac1a5b90738006",
            "value": 819
          }
        },
        "d4d811bcf4484bc39a215ec03c2370ce": {
          "model_module": "@jupyter-widgets/controls",
          "model_name": "HTMLModel",
          "model_module_version": "1.5.0",
          "state": {
            "_dom_classes": [],
            "_model_module": "@jupyter-widgets/controls",
            "_model_module_version": "1.5.0",
            "_model_name": "HTMLModel",
            "_view_count": null,
            "_view_module": "@jupyter-widgets/controls",
            "_view_module_version": "1.5.0",
            "_view_name": "HTMLView",
            "description": "",
            "description_tooltip": null,
            "layout": "IPY_MODEL_4710ed193ee5488ebadeb6e9e451bc47",
            "placeholder": "​",
            "style": "IPY_MODEL_282ff365a0b544b288f7d9ffe4cfcacd",
            "value": " 1/819 [00:00&lt;03:15,  4.19 examples/s]"
          }
        },
        "db85d27d96b540869a97a627f41d287e": {
          "model_module": "@jupyter-widgets/base",
          "model_name": "LayoutModel",
          "model_module_version": "1.2.0",
          "state": {
            "_model_module": "@jupyter-widgets/base",
            "_model_module_version": "1.2.0",
            "_model_name": "LayoutModel",
            "_view_count": null,
            "_view_module": "@jupyter-widgets/base",
            "_view_module_version": "1.2.0",
            "_view_name": "LayoutView",
            "align_content": null,
            "align_items": null,
            "align_self": null,
            "border": null,
            "bottom": null,
            "display": null,
            "flex": null,
            "flex_flow": null,
            "grid_area": null,
            "grid_auto_columns": null,
            "grid_auto_flow": null,
            "grid_auto_rows": null,
            "grid_column": null,
            "grid_gap": null,
            "grid_row": null,
            "grid_template_areas": null,
            "grid_template_columns": null,
            "grid_template_rows": null,
            "height": null,
            "justify_content": null,
            "justify_items": null,
            "left": null,
            "margin": null,
            "max_height": null,
            "max_width": null,
            "min_height": null,
            "min_width": null,
            "object_fit": null,
            "object_position": null,
            "order": null,
            "overflow": null,
            "overflow_x": null,
            "overflow_y": null,
            "padding": null,
            "right": null,
            "top": null,
            "visibility": "hidden",
            "width": null
          }
        },
        "0a8cf94c092341feb4cc6ac94c4b5047": {
          "model_module": "@jupyter-widgets/base",
          "model_name": "LayoutModel",
          "model_module_version": "1.2.0",
          "state": {
            "_model_module": "@jupyter-widgets/base",
            "_model_module_version": "1.2.0",
            "_model_name": "LayoutModel",
            "_view_count": null,
            "_view_module": "@jupyter-widgets/base",
            "_view_module_version": "1.2.0",
            "_view_name": "LayoutView",
            "align_content": null,
            "align_items": null,
            "align_self": null,
            "border": null,
            "bottom": null,
            "display": null,
            "flex": null,
            "flex_flow": null,
            "grid_area": null,
            "grid_auto_columns": null,
            "grid_auto_flow": null,
            "grid_auto_rows": null,
            "grid_column": null,
            "grid_gap": null,
            "grid_row": null,
            "grid_template_areas": null,
            "grid_template_columns": null,
            "grid_template_rows": null,
            "height": null,
            "justify_content": null,
            "justify_items": null,
            "left": null,
            "margin": null,
            "max_height": null,
            "max_width": null,
            "min_height": null,
            "min_width": null,
            "object_fit": null,
            "object_position": null,
            "order": null,
            "overflow": null,
            "overflow_x": null,
            "overflow_y": null,
            "padding": null,
            "right": null,
            "top": null,
            "visibility": null,
            "width": null
          }
        },
        "8b829ec47666451eaeba4c900a205a9b": {
          "model_module": "@jupyter-widgets/controls",
          "model_name": "DescriptionStyleModel",
          "model_module_version": "1.5.0",
          "state": {
            "_model_module": "@jupyter-widgets/controls",
            "_model_module_version": "1.5.0",
            "_model_name": "DescriptionStyleModel",
            "_view_count": null,
            "_view_module": "@jupyter-widgets/base",
            "_view_module_version": "1.2.0",
            "_view_name": "StyleView",
            "description_width": ""
          }
        },
        "d72b16e494824fa8888f6dc68c83cebc": {
          "model_module": "@jupyter-widgets/base",
          "model_name": "LayoutModel",
          "model_module_version": "1.2.0",
          "state": {
            "_model_module": "@jupyter-widgets/base",
            "_model_module_version": "1.2.0",
            "_model_name": "LayoutModel",
            "_view_count": null,
            "_view_module": "@jupyter-widgets/base",
            "_view_module_version": "1.2.0",
            "_view_name": "LayoutView",
            "align_content": null,
            "align_items": null,
            "align_self": null,
            "border": null,
            "bottom": null,
            "display": null,
            "flex": null,
            "flex_flow": null,
            "grid_area": null,
            "grid_auto_columns": null,
            "grid_auto_flow": null,
            "grid_auto_rows": null,
            "grid_column": null,
            "grid_gap": null,
            "grid_row": null,
            "grid_template_areas": null,
            "grid_template_columns": null,
            "grid_template_rows": null,
            "height": null,
            "justify_content": null,
            "justify_items": null,
            "left": null,
            "margin": null,
            "max_height": null,
            "max_width": null,
            "min_height": null,
            "min_width": null,
            "object_fit": null,
            "object_position": null,
            "order": null,
            "overflow": null,
            "overflow_x": null,
            "overflow_y": null,
            "padding": null,
            "right": null,
            "top": null,
            "visibility": null,
            "width": null
          }
        },
        "001de026190c4bada8ac1a5b90738006": {
          "model_module": "@jupyter-widgets/controls",
          "model_name": "ProgressStyleModel",
          "model_module_version": "1.5.0",
          "state": {
            "_model_module": "@jupyter-widgets/controls",
            "_model_module_version": "1.5.0",
            "_model_name": "ProgressStyleModel",
            "_view_count": null,
            "_view_module": "@jupyter-widgets/base",
            "_view_module_version": "1.2.0",
            "_view_name": "StyleView",
            "bar_color": null,
            "description_width": ""
          }
        },
        "4710ed193ee5488ebadeb6e9e451bc47": {
          "model_module": "@jupyter-widgets/base",
          "model_name": "LayoutModel",
          "model_module_version": "1.2.0",
          "state": {
            "_model_module": "@jupyter-widgets/base",
            "_model_module_version": "1.2.0",
            "_model_name": "LayoutModel",
            "_view_count": null,
            "_view_module": "@jupyter-widgets/base",
            "_view_module_version": "1.2.0",
            "_view_name": "LayoutView",
            "align_content": null,
            "align_items": null,
            "align_self": null,
            "border": null,
            "bottom": null,
            "display": null,
            "flex": null,
            "flex_flow": null,
            "grid_area": null,
            "grid_auto_columns": null,
            "grid_auto_flow": null,
            "grid_auto_rows": null,
            "grid_column": null,
            "grid_gap": null,
            "grid_row": null,
            "grid_template_areas": null,
            "grid_template_columns": null,
            "grid_template_rows": null,
            "height": null,
            "justify_content": null,
            "justify_items": null,
            "left": null,
            "margin": null,
            "max_height": null,
            "max_width": null,
            "min_height": null,
            "min_width": null,
            "object_fit": null,
            "object_position": null,
            "order": null,
            "overflow": null,
            "overflow_x": null,
            "overflow_y": null,
            "padding": null,
            "right": null,
            "top": null,
            "visibility": null,
            "width": null
          }
        },
        "282ff365a0b544b288f7d9ffe4cfcacd": {
          "model_module": "@jupyter-widgets/controls",
          "model_name": "DescriptionStyleModel",
          "model_module_version": "1.5.0",
          "state": {
            "_model_module": "@jupyter-widgets/controls",
            "_model_module_version": "1.5.0",
            "_model_name": "DescriptionStyleModel",
            "_view_count": null,
            "_view_module": "@jupyter-widgets/base",
            "_view_module_version": "1.2.0",
            "_view_name": "StyleView",
            "description_width": ""
          }
        },
        "620ca4b8a556460796eb467bae19cad0": {
          "model_module": "@jupyter-widgets/controls",
          "model_name": "HBoxModel",
          "model_module_version": "1.5.0",
          "state": {
            "_dom_classes": [],
            "_model_module": "@jupyter-widgets/controls",
            "_model_module_version": "1.5.0",
            "_model_name": "HBoxModel",
            "_view_count": null,
            "_view_module": "@jupyter-widgets/controls",
            "_view_module_version": "1.5.0",
            "_view_name": "HBoxView",
            "box_style": "",
            "children": [
              "IPY_MODEL_7160e8b3a9c243fab1f41ebf5175d8cd",
              "IPY_MODEL_fa82450c12244695aff52e39049a5c80",
              "IPY_MODEL_0674c4fd92774e54806623687f9b8aed"
            ],
            "layout": "IPY_MODEL_8efb72e1b1ab40cfbea8ebe9701f59ab"
          }
        },
        "7160e8b3a9c243fab1f41ebf5175d8cd": {
          "model_module": "@jupyter-widgets/controls",
          "model_name": "HTMLModel",
          "model_module_version": "1.5.0",
          "state": {
            "_dom_classes": [],
            "_model_module": "@jupyter-widgets/controls",
            "_model_module_version": "1.5.0",
            "_model_name": "HTMLModel",
            "_view_count": null,
            "_view_module": "@jupyter-widgets/controls",
            "_view_module_version": "1.5.0",
            "_view_name": "HTMLView",
            "description": "",
            "description_tooltip": null,
            "layout": "IPY_MODEL_961b998165a34836a1e9979573030c9d",
            "placeholder": "​",
            "style": "IPY_MODEL_230ae939a01d4c4eaae9352d28e982af",
            "value": "Generating validation split:   0%"
          }
        },
        "fa82450c12244695aff52e39049a5c80": {
          "model_module": "@jupyter-widgets/controls",
          "model_name": "FloatProgressModel",
          "model_module_version": "1.5.0",
          "state": {
            "_dom_classes": [],
            "_model_module": "@jupyter-widgets/controls",
            "_model_module_version": "1.5.0",
            "_model_name": "FloatProgressModel",
            "_view_count": null,
            "_view_module": "@jupyter-widgets/controls",
            "_view_module_version": "1.5.0",
            "_view_name": "ProgressView",
            "bar_style": "",
            "description": "",
            "description_tooltip": null,
            "layout": "IPY_MODEL_0a217e1860774585a98866d81b9cd700",
            "max": 818,
            "min": 0,
            "orientation": "horizontal",
            "style": "IPY_MODEL_f9f43ce183f14f2b815bae241b5c84a4",
            "value": 818
          }
        },
        "0674c4fd92774e54806623687f9b8aed": {
          "model_module": "@jupyter-widgets/controls",
          "model_name": "HTMLModel",
          "model_module_version": "1.5.0",
          "state": {
            "_dom_classes": [],
            "_model_module": "@jupyter-widgets/controls",
            "_model_module_version": "1.5.0",
            "_model_name": "HTMLModel",
            "_view_count": null,
            "_view_module": "@jupyter-widgets/controls",
            "_view_module_version": "1.5.0",
            "_view_name": "HTMLView",
            "description": "",
            "description_tooltip": null,
            "layout": "IPY_MODEL_aeb576b458a34a45849aaa0b509ad162",
            "placeholder": "​",
            "style": "IPY_MODEL_bc7d284f092547b49aa90b6165d7cefd",
            "value": " 1/818 [00:00&lt;03:17,  4.15 examples/s]"
          }
        },
        "8efb72e1b1ab40cfbea8ebe9701f59ab": {
          "model_module": "@jupyter-widgets/base",
          "model_name": "LayoutModel",
          "model_module_version": "1.2.0",
          "state": {
            "_model_module": "@jupyter-widgets/base",
            "_model_module_version": "1.2.0",
            "_model_name": "LayoutModel",
            "_view_count": null,
            "_view_module": "@jupyter-widgets/base",
            "_view_module_version": "1.2.0",
            "_view_name": "LayoutView",
            "align_content": null,
            "align_items": null,
            "align_self": null,
            "border": null,
            "bottom": null,
            "display": null,
            "flex": null,
            "flex_flow": null,
            "grid_area": null,
            "grid_auto_columns": null,
            "grid_auto_flow": null,
            "grid_auto_rows": null,
            "grid_column": null,
            "grid_gap": null,
            "grid_row": null,
            "grid_template_areas": null,
            "grid_template_columns": null,
            "grid_template_rows": null,
            "height": null,
            "justify_content": null,
            "justify_items": null,
            "left": null,
            "margin": null,
            "max_height": null,
            "max_width": null,
            "min_height": null,
            "min_width": null,
            "object_fit": null,
            "object_position": null,
            "order": null,
            "overflow": null,
            "overflow_x": null,
            "overflow_y": null,
            "padding": null,
            "right": null,
            "top": null,
            "visibility": "hidden",
            "width": null
          }
        },
        "961b998165a34836a1e9979573030c9d": {
          "model_module": "@jupyter-widgets/base",
          "model_name": "LayoutModel",
          "model_module_version": "1.2.0",
          "state": {
            "_model_module": "@jupyter-widgets/base",
            "_model_module_version": "1.2.0",
            "_model_name": "LayoutModel",
            "_view_count": null,
            "_view_module": "@jupyter-widgets/base",
            "_view_module_version": "1.2.0",
            "_view_name": "LayoutView",
            "align_content": null,
            "align_items": null,
            "align_self": null,
            "border": null,
            "bottom": null,
            "display": null,
            "flex": null,
            "flex_flow": null,
            "grid_area": null,
            "grid_auto_columns": null,
            "grid_auto_flow": null,
            "grid_auto_rows": null,
            "grid_column": null,
            "grid_gap": null,
            "grid_row": null,
            "grid_template_areas": null,
            "grid_template_columns": null,
            "grid_template_rows": null,
            "height": null,
            "justify_content": null,
            "justify_items": null,
            "left": null,
            "margin": null,
            "max_height": null,
            "max_width": null,
            "min_height": null,
            "min_width": null,
            "object_fit": null,
            "object_position": null,
            "order": null,
            "overflow": null,
            "overflow_x": null,
            "overflow_y": null,
            "padding": null,
            "right": null,
            "top": null,
            "visibility": null,
            "width": null
          }
        },
        "230ae939a01d4c4eaae9352d28e982af": {
          "model_module": "@jupyter-widgets/controls",
          "model_name": "DescriptionStyleModel",
          "model_module_version": "1.5.0",
          "state": {
            "_model_module": "@jupyter-widgets/controls",
            "_model_module_version": "1.5.0",
            "_model_name": "DescriptionStyleModel",
            "_view_count": null,
            "_view_module": "@jupyter-widgets/base",
            "_view_module_version": "1.2.0",
            "_view_name": "StyleView",
            "description_width": ""
          }
        },
        "0a217e1860774585a98866d81b9cd700": {
          "model_module": "@jupyter-widgets/base",
          "model_name": "LayoutModel",
          "model_module_version": "1.2.0",
          "state": {
            "_model_module": "@jupyter-widgets/base",
            "_model_module_version": "1.2.0",
            "_model_name": "LayoutModel",
            "_view_count": null,
            "_view_module": "@jupyter-widgets/base",
            "_view_module_version": "1.2.0",
            "_view_name": "LayoutView",
            "align_content": null,
            "align_items": null,
            "align_self": null,
            "border": null,
            "bottom": null,
            "display": null,
            "flex": null,
            "flex_flow": null,
            "grid_area": null,
            "grid_auto_columns": null,
            "grid_auto_flow": null,
            "grid_auto_rows": null,
            "grid_column": null,
            "grid_gap": null,
            "grid_row": null,
            "grid_template_areas": null,
            "grid_template_columns": null,
            "grid_template_rows": null,
            "height": null,
            "justify_content": null,
            "justify_items": null,
            "left": null,
            "margin": null,
            "max_height": null,
            "max_width": null,
            "min_height": null,
            "min_width": null,
            "object_fit": null,
            "object_position": null,
            "order": null,
            "overflow": null,
            "overflow_x": null,
            "overflow_y": null,
            "padding": null,
            "right": null,
            "top": null,
            "visibility": null,
            "width": null
          }
        },
        "f9f43ce183f14f2b815bae241b5c84a4": {
          "model_module": "@jupyter-widgets/controls",
          "model_name": "ProgressStyleModel",
          "model_module_version": "1.5.0",
          "state": {
            "_model_module": "@jupyter-widgets/controls",
            "_model_module_version": "1.5.0",
            "_model_name": "ProgressStyleModel",
            "_view_count": null,
            "_view_module": "@jupyter-widgets/base",
            "_view_module_version": "1.2.0",
            "_view_name": "StyleView",
            "bar_color": null,
            "description_width": ""
          }
        },
        "aeb576b458a34a45849aaa0b509ad162": {
          "model_module": "@jupyter-widgets/base",
          "model_name": "LayoutModel",
          "model_module_version": "1.2.0",
          "state": {
            "_model_module": "@jupyter-widgets/base",
            "_model_module_version": "1.2.0",
            "_model_name": "LayoutModel",
            "_view_count": null,
            "_view_module": "@jupyter-widgets/base",
            "_view_module_version": "1.2.0",
            "_view_name": "LayoutView",
            "align_content": null,
            "align_items": null,
            "align_self": null,
            "border": null,
            "bottom": null,
            "display": null,
            "flex": null,
            "flex_flow": null,
            "grid_area": null,
            "grid_auto_columns": null,
            "grid_auto_flow": null,
            "grid_auto_rows": null,
            "grid_column": null,
            "grid_gap": null,
            "grid_row": null,
            "grid_template_areas": null,
            "grid_template_columns": null,
            "grid_template_rows": null,
            "height": null,
            "justify_content": null,
            "justify_items": null,
            "left": null,
            "margin": null,
            "max_height": null,
            "max_width": null,
            "min_height": null,
            "min_width": null,
            "object_fit": null,
            "object_position": null,
            "order": null,
            "overflow": null,
            "overflow_x": null,
            "overflow_y": null,
            "padding": null,
            "right": null,
            "top": null,
            "visibility": null,
            "width": null
          }
        },
        "bc7d284f092547b49aa90b6165d7cefd": {
          "model_module": "@jupyter-widgets/controls",
          "model_name": "DescriptionStyleModel",
          "model_module_version": "1.5.0",
          "state": {
            "_model_module": "@jupyter-widgets/controls",
            "_model_module_version": "1.5.0",
            "_model_name": "DescriptionStyleModel",
            "_view_count": null,
            "_view_module": "@jupyter-widgets/base",
            "_view_module_version": "1.2.0",
            "_view_name": "StyleView",
            "description_width": ""
          }
        },
        "ed8be31be3784e97af28114f9c0dbbf8": {
          "model_module": "@jupyter-widgets/controls",
          "model_name": "HBoxModel",
          "model_module_version": "1.5.0",
          "state": {
            "_dom_classes": [],
            "_model_module": "@jupyter-widgets/controls",
            "_model_module_version": "1.5.0",
            "_model_name": "HBoxModel",
            "_view_count": null,
            "_view_module": "@jupyter-widgets/controls",
            "_view_module_version": "1.5.0",
            "_view_name": "HBoxView",
            "box_style": "",
            "children": [
              "IPY_MODEL_6861630a3d7943eab64687c0835ffd97",
              "IPY_MODEL_caca1bf1e03648f8bd3e327de0e5d841",
              "IPY_MODEL_c29f49a0320a4ef68c8c72f842048b4c"
            ],
            "layout": "IPY_MODEL_213f393af7be40b08d65de424994c992"
          }
        },
        "6861630a3d7943eab64687c0835ffd97": {
          "model_module": "@jupyter-widgets/controls",
          "model_name": "HTMLModel",
          "model_module_version": "1.5.0",
          "state": {
            "_dom_classes": [],
            "_model_module": "@jupyter-widgets/controls",
            "_model_module_version": "1.5.0",
            "_model_name": "HTMLModel",
            "_view_count": null,
            "_view_module": "@jupyter-widgets/controls",
            "_view_module_version": "1.5.0",
            "_view_name": "HTMLView",
            "description": "",
            "description_tooltip": null,
            "layout": "IPY_MODEL_744ce927d9a24e7d831e0293d976040d",
            "placeholder": "​",
            "style": "IPY_MODEL_94543e662ae34eccaceb4c6033cabe0d",
            "value": "100%"
          }
        },
        "caca1bf1e03648f8bd3e327de0e5d841": {
          "model_module": "@jupyter-widgets/controls",
          "model_name": "FloatProgressModel",
          "model_module_version": "1.5.0",
          "state": {
            "_dom_classes": [],
            "_model_module": "@jupyter-widgets/controls",
            "_model_module_version": "1.5.0",
            "_model_name": "FloatProgressModel",
            "_view_count": null,
            "_view_module": "@jupyter-widgets/controls",
            "_view_module_version": "1.5.0",
            "_view_name": "ProgressView",
            "bar_style": "success",
            "description": "",
            "description_tooltip": null,
            "layout": "IPY_MODEL_25c6d2ef33114745a79aa7545705fbbb",
            "max": 3,
            "min": 0,
            "orientation": "horizontal",
            "style": "IPY_MODEL_8e637f8da043469681d6133f811cb886",
            "value": 3
          }
        },
        "c29f49a0320a4ef68c8c72f842048b4c": {
          "model_module": "@jupyter-widgets/controls",
          "model_name": "HTMLModel",
          "model_module_version": "1.5.0",
          "state": {
            "_dom_classes": [],
            "_model_module": "@jupyter-widgets/controls",
            "_model_module_version": "1.5.0",
            "_model_name": "HTMLModel",
            "_view_count": null,
            "_view_module": "@jupyter-widgets/controls",
            "_view_module_version": "1.5.0",
            "_view_name": "HTMLView",
            "description": "",
            "description_tooltip": null,
            "layout": "IPY_MODEL_5bca7482513f4ca58e56822b7b2653ae",
            "placeholder": "​",
            "style": "IPY_MODEL_d8017f1af3bb4538af50c19d8d4a0cba",
            "value": " 3/3 [00:00&lt;00:00, 189.06it/s]"
          }
        },
        "213f393af7be40b08d65de424994c992": {
          "model_module": "@jupyter-widgets/base",
          "model_name": "LayoutModel",
          "model_module_version": "1.2.0",
          "state": {
            "_model_module": "@jupyter-widgets/base",
            "_model_module_version": "1.2.0",
            "_model_name": "LayoutModel",
            "_view_count": null,
            "_view_module": "@jupyter-widgets/base",
            "_view_module_version": "1.2.0",
            "_view_name": "LayoutView",
            "align_content": null,
            "align_items": null,
            "align_self": null,
            "border": null,
            "bottom": null,
            "display": null,
            "flex": null,
            "flex_flow": null,
            "grid_area": null,
            "grid_auto_columns": null,
            "grid_auto_flow": null,
            "grid_auto_rows": null,
            "grid_column": null,
            "grid_gap": null,
            "grid_row": null,
            "grid_template_areas": null,
            "grid_template_columns": null,
            "grid_template_rows": null,
            "height": null,
            "justify_content": null,
            "justify_items": null,
            "left": null,
            "margin": null,
            "max_height": null,
            "max_width": null,
            "min_height": null,
            "min_width": null,
            "object_fit": null,
            "object_position": null,
            "order": null,
            "overflow": null,
            "overflow_x": null,
            "overflow_y": null,
            "padding": null,
            "right": null,
            "top": null,
            "visibility": null,
            "width": null
          }
        },
        "744ce927d9a24e7d831e0293d976040d": {
          "model_module": "@jupyter-widgets/base",
          "model_name": "LayoutModel",
          "model_module_version": "1.2.0",
          "state": {
            "_model_module": "@jupyter-widgets/base",
            "_model_module_version": "1.2.0",
            "_model_name": "LayoutModel",
            "_view_count": null,
            "_view_module": "@jupyter-widgets/base",
            "_view_module_version": "1.2.0",
            "_view_name": "LayoutView",
            "align_content": null,
            "align_items": null,
            "align_self": null,
            "border": null,
            "bottom": null,
            "display": null,
            "flex": null,
            "flex_flow": null,
            "grid_area": null,
            "grid_auto_columns": null,
            "grid_auto_flow": null,
            "grid_auto_rows": null,
            "grid_column": null,
            "grid_gap": null,
            "grid_row": null,
            "grid_template_areas": null,
            "grid_template_columns": null,
            "grid_template_rows": null,
            "height": null,
            "justify_content": null,
            "justify_items": null,
            "left": null,
            "margin": null,
            "max_height": null,
            "max_width": null,
            "min_height": null,
            "min_width": null,
            "object_fit": null,
            "object_position": null,
            "order": null,
            "overflow": null,
            "overflow_x": null,
            "overflow_y": null,
            "padding": null,
            "right": null,
            "top": null,
            "visibility": null,
            "width": null
          }
        },
        "94543e662ae34eccaceb4c6033cabe0d": {
          "model_module": "@jupyter-widgets/controls",
          "model_name": "DescriptionStyleModel",
          "model_module_version": "1.5.0",
          "state": {
            "_model_module": "@jupyter-widgets/controls",
            "_model_module_version": "1.5.0",
            "_model_name": "DescriptionStyleModel",
            "_view_count": null,
            "_view_module": "@jupyter-widgets/base",
            "_view_module_version": "1.2.0",
            "_view_name": "StyleView",
            "description_width": ""
          }
        },
        "25c6d2ef33114745a79aa7545705fbbb": {
          "model_module": "@jupyter-widgets/base",
          "model_name": "LayoutModel",
          "model_module_version": "1.2.0",
          "state": {
            "_model_module": "@jupyter-widgets/base",
            "_model_module_version": "1.2.0",
            "_model_name": "LayoutModel",
            "_view_count": null,
            "_view_module": "@jupyter-widgets/base",
            "_view_module_version": "1.2.0",
            "_view_name": "LayoutView",
            "align_content": null,
            "align_items": null,
            "align_self": null,
            "border": null,
            "bottom": null,
            "display": null,
            "flex": null,
            "flex_flow": null,
            "grid_area": null,
            "grid_auto_columns": null,
            "grid_auto_flow": null,
            "grid_auto_rows": null,
            "grid_column": null,
            "grid_gap": null,
            "grid_row": null,
            "grid_template_areas": null,
            "grid_template_columns": null,
            "grid_template_rows": null,
            "height": null,
            "justify_content": null,
            "justify_items": null,
            "left": null,
            "margin": null,
            "max_height": null,
            "max_width": null,
            "min_height": null,
            "min_width": null,
            "object_fit": null,
            "object_position": null,
            "order": null,
            "overflow": null,
            "overflow_x": null,
            "overflow_y": null,
            "padding": null,
            "right": null,
            "top": null,
            "visibility": null,
            "width": null
          }
        },
        "8e637f8da043469681d6133f811cb886": {
          "model_module": "@jupyter-widgets/controls",
          "model_name": "ProgressStyleModel",
          "model_module_version": "1.5.0",
          "state": {
            "_model_module": "@jupyter-widgets/controls",
            "_model_module_version": "1.5.0",
            "_model_name": "ProgressStyleModel",
            "_view_count": null,
            "_view_module": "@jupyter-widgets/base",
            "_view_module_version": "1.2.0",
            "_view_name": "StyleView",
            "bar_color": null,
            "description_width": ""
          }
        },
        "5bca7482513f4ca58e56822b7b2653ae": {
          "model_module": "@jupyter-widgets/base",
          "model_name": "LayoutModel",
          "model_module_version": "1.2.0",
          "state": {
            "_model_module": "@jupyter-widgets/base",
            "_model_module_version": "1.2.0",
            "_model_name": "LayoutModel",
            "_view_count": null,
            "_view_module": "@jupyter-widgets/base",
            "_view_module_version": "1.2.0",
            "_view_name": "LayoutView",
            "align_content": null,
            "align_items": null,
            "align_self": null,
            "border": null,
            "bottom": null,
            "display": null,
            "flex": null,
            "flex_flow": null,
            "grid_area": null,
            "grid_auto_columns": null,
            "grid_auto_flow": null,
            "grid_auto_rows": null,
            "grid_column": null,
            "grid_gap": null,
            "grid_row": null,
            "grid_template_areas": null,
            "grid_template_columns": null,
            "grid_template_rows": null,
            "height": null,
            "justify_content": null,
            "justify_items": null,
            "left": null,
            "margin": null,
            "max_height": null,
            "max_width": null,
            "min_height": null,
            "min_width": null,
            "object_fit": null,
            "object_position": null,
            "order": null,
            "overflow": null,
            "overflow_x": null,
            "overflow_y": null,
            "padding": null,
            "right": null,
            "top": null,
            "visibility": null,
            "width": null
          }
        },
        "d8017f1af3bb4538af50c19d8d4a0cba": {
          "model_module": "@jupyter-widgets/controls",
          "model_name": "DescriptionStyleModel",
          "model_module_version": "1.5.0",
          "state": {
            "_model_module": "@jupyter-widgets/controls",
            "_model_module_version": "1.5.0",
            "_model_name": "DescriptionStyleModel",
            "_view_count": null,
            "_view_module": "@jupyter-widgets/base",
            "_view_module_version": "1.2.0",
            "_view_name": "StyleView",
            "description_width": ""
          }
        },
        "5f2408eb83bf4caebdec0fa7f8a6a29c": {
          "model_module": "@jupyter-widgets/controls",
          "model_name": "HBoxModel",
          "model_module_version": "1.5.0",
          "state": {
            "_dom_classes": [],
            "_model_module": "@jupyter-widgets/controls",
            "_model_module_version": "1.5.0",
            "_model_name": "HBoxModel",
            "_view_count": null,
            "_view_module": "@jupyter-widgets/controls",
            "_view_module_version": "1.5.0",
            "_view_name": "HBoxView",
            "box_style": "",
            "children": [
              "IPY_MODEL_ce50c668231b4bcf8eb42310165913d1",
              "IPY_MODEL_d602500f6b8f4b08be2e27b3fa20bde7",
              "IPY_MODEL_d79681b40a0c48989d191664df14b056"
            ],
            "layout": "IPY_MODEL_c9195c3afedf4218a90509e618a3f8d2"
          }
        },
        "ce50c668231b4bcf8eb42310165913d1": {
          "model_module": "@jupyter-widgets/controls",
          "model_name": "HTMLModel",
          "model_module_version": "1.5.0",
          "state": {
            "_dom_classes": [],
            "_model_module": "@jupyter-widgets/controls",
            "_model_module_version": "1.5.0",
            "_model_name": "HTMLModel",
            "_view_count": null,
            "_view_module": "@jupyter-widgets/controls",
            "_view_module_version": "1.5.0",
            "_view_name": "HTMLView",
            "description": "",
            "description_tooltip": null,
            "layout": "IPY_MODEL_61487d823cf14216a17263472d492c29",
            "placeholder": "​",
            "style": "IPY_MODEL_8acba060467f484dadca066afd828930",
            "value": "Downloading (…)olve/main/vocab.json: 100%"
          }
        },
        "d602500f6b8f4b08be2e27b3fa20bde7": {
          "model_module": "@jupyter-widgets/controls",
          "model_name": "FloatProgressModel",
          "model_module_version": "1.5.0",
          "state": {
            "_dom_classes": [],
            "_model_module": "@jupyter-widgets/controls",
            "_model_module_version": "1.5.0",
            "_model_name": "FloatProgressModel",
            "_view_count": null,
            "_view_module": "@jupyter-widgets/controls",
            "_view_module_version": "1.5.0",
            "_view_name": "ProgressView",
            "bar_style": "success",
            "description": "",
            "description_tooltip": null,
            "layout": "IPY_MODEL_7ef34bcafceb42848d75c760aa5e8758",
            "max": 798293,
            "min": 0,
            "orientation": "horizontal",
            "style": "IPY_MODEL_38ae391235914bacb163f84c53936e56",
            "value": 798293
          }
        },
        "d79681b40a0c48989d191664df14b056": {
          "model_module": "@jupyter-widgets/controls",
          "model_name": "HTMLModel",
          "model_module_version": "1.5.0",
          "state": {
            "_dom_classes": [],
            "_model_module": "@jupyter-widgets/controls",
            "_model_module_version": "1.5.0",
            "_model_name": "HTMLModel",
            "_view_count": null,
            "_view_module": "@jupyter-widgets/controls",
            "_view_module_version": "1.5.0",
            "_view_name": "HTMLView",
            "description": "",
            "description_tooltip": null,
            "layout": "IPY_MODEL_92b205f9207845f0a5b6846ab5c92341",
            "placeholder": "​",
            "style": "IPY_MODEL_5147a94547e54c79b7c15143dbb1b416",
            "value": " 798k/798k [00:00&lt;00:00, 947kB/s]"
          }
        },
        "c9195c3afedf4218a90509e618a3f8d2": {
          "model_module": "@jupyter-widgets/base",
          "model_name": "LayoutModel",
          "model_module_version": "1.2.0",
          "state": {
            "_model_module": "@jupyter-widgets/base",
            "_model_module_version": "1.2.0",
            "_model_name": "LayoutModel",
            "_view_count": null,
            "_view_module": "@jupyter-widgets/base",
            "_view_module_version": "1.2.0",
            "_view_name": "LayoutView",
            "align_content": null,
            "align_items": null,
            "align_self": null,
            "border": null,
            "bottom": null,
            "display": null,
            "flex": null,
            "flex_flow": null,
            "grid_area": null,
            "grid_auto_columns": null,
            "grid_auto_flow": null,
            "grid_auto_rows": null,
            "grid_column": null,
            "grid_gap": null,
            "grid_row": null,
            "grid_template_areas": null,
            "grid_template_columns": null,
            "grid_template_rows": null,
            "height": null,
            "justify_content": null,
            "justify_items": null,
            "left": null,
            "margin": null,
            "max_height": null,
            "max_width": null,
            "min_height": null,
            "min_width": null,
            "object_fit": null,
            "object_position": null,
            "order": null,
            "overflow": null,
            "overflow_x": null,
            "overflow_y": null,
            "padding": null,
            "right": null,
            "top": null,
            "visibility": null,
            "width": null
          }
        },
        "61487d823cf14216a17263472d492c29": {
          "model_module": "@jupyter-widgets/base",
          "model_name": "LayoutModel",
          "model_module_version": "1.2.0",
          "state": {
            "_model_module": "@jupyter-widgets/base",
            "_model_module_version": "1.2.0",
            "_model_name": "LayoutModel",
            "_view_count": null,
            "_view_module": "@jupyter-widgets/base",
            "_view_module_version": "1.2.0",
            "_view_name": "LayoutView",
            "align_content": null,
            "align_items": null,
            "align_self": null,
            "border": null,
            "bottom": null,
            "display": null,
            "flex": null,
            "flex_flow": null,
            "grid_area": null,
            "grid_auto_columns": null,
            "grid_auto_flow": null,
            "grid_auto_rows": null,
            "grid_column": null,
            "grid_gap": null,
            "grid_row": null,
            "grid_template_areas": null,
            "grid_template_columns": null,
            "grid_template_rows": null,
            "height": null,
            "justify_content": null,
            "justify_items": null,
            "left": null,
            "margin": null,
            "max_height": null,
            "max_width": null,
            "min_height": null,
            "min_width": null,
            "object_fit": null,
            "object_position": null,
            "order": null,
            "overflow": null,
            "overflow_x": null,
            "overflow_y": null,
            "padding": null,
            "right": null,
            "top": null,
            "visibility": null,
            "width": null
          }
        },
        "8acba060467f484dadca066afd828930": {
          "model_module": "@jupyter-widgets/controls",
          "model_name": "DescriptionStyleModel",
          "model_module_version": "1.5.0",
          "state": {
            "_model_module": "@jupyter-widgets/controls",
            "_model_module_version": "1.5.0",
            "_model_name": "DescriptionStyleModel",
            "_view_count": null,
            "_view_module": "@jupyter-widgets/base",
            "_view_module_version": "1.2.0",
            "_view_name": "StyleView",
            "description_width": ""
          }
        },
        "7ef34bcafceb42848d75c760aa5e8758": {
          "model_module": "@jupyter-widgets/base",
          "model_name": "LayoutModel",
          "model_module_version": "1.2.0",
          "state": {
            "_model_module": "@jupyter-widgets/base",
            "_model_module_version": "1.2.0",
            "_model_name": "LayoutModel",
            "_view_count": null,
            "_view_module": "@jupyter-widgets/base",
            "_view_module_version": "1.2.0",
            "_view_name": "LayoutView",
            "align_content": null,
            "align_items": null,
            "align_self": null,
            "border": null,
            "bottom": null,
            "display": null,
            "flex": null,
            "flex_flow": null,
            "grid_area": null,
            "grid_auto_columns": null,
            "grid_auto_flow": null,
            "grid_auto_rows": null,
            "grid_column": null,
            "grid_gap": null,
            "grid_row": null,
            "grid_template_areas": null,
            "grid_template_columns": null,
            "grid_template_rows": null,
            "height": null,
            "justify_content": null,
            "justify_items": null,
            "left": null,
            "margin": null,
            "max_height": null,
            "max_width": null,
            "min_height": null,
            "min_width": null,
            "object_fit": null,
            "object_position": null,
            "order": null,
            "overflow": null,
            "overflow_x": null,
            "overflow_y": null,
            "padding": null,
            "right": null,
            "top": null,
            "visibility": null,
            "width": null
          }
        },
        "38ae391235914bacb163f84c53936e56": {
          "model_module": "@jupyter-widgets/controls",
          "model_name": "ProgressStyleModel",
          "model_module_version": "1.5.0",
          "state": {
            "_model_module": "@jupyter-widgets/controls",
            "_model_module_version": "1.5.0",
            "_model_name": "ProgressStyleModel",
            "_view_count": null,
            "_view_module": "@jupyter-widgets/base",
            "_view_module_version": "1.2.0",
            "_view_name": "StyleView",
            "bar_color": null,
            "description_width": ""
          }
        },
        "92b205f9207845f0a5b6846ab5c92341": {
          "model_module": "@jupyter-widgets/base",
          "model_name": "LayoutModel",
          "model_module_version": "1.2.0",
          "state": {
            "_model_module": "@jupyter-widgets/base",
            "_model_module_version": "1.2.0",
            "_model_name": "LayoutModel",
            "_view_count": null,
            "_view_module": "@jupyter-widgets/base",
            "_view_module_version": "1.2.0",
            "_view_name": "LayoutView",
            "align_content": null,
            "align_items": null,
            "align_self": null,
            "border": null,
            "bottom": null,
            "display": null,
            "flex": null,
            "flex_flow": null,
            "grid_area": null,
            "grid_auto_columns": null,
            "grid_auto_flow": null,
            "grid_auto_rows": null,
            "grid_column": null,
            "grid_gap": null,
            "grid_row": null,
            "grid_template_areas": null,
            "grid_template_columns": null,
            "grid_template_rows": null,
            "height": null,
            "justify_content": null,
            "justify_items": null,
            "left": null,
            "margin": null,
            "max_height": null,
            "max_width": null,
            "min_height": null,
            "min_width": null,
            "object_fit": null,
            "object_position": null,
            "order": null,
            "overflow": null,
            "overflow_x": null,
            "overflow_y": null,
            "padding": null,
            "right": null,
            "top": null,
            "visibility": null,
            "width": null
          }
        },
        "5147a94547e54c79b7c15143dbb1b416": {
          "model_module": "@jupyter-widgets/controls",
          "model_name": "DescriptionStyleModel",
          "model_module_version": "1.5.0",
          "state": {
            "_model_module": "@jupyter-widgets/controls",
            "_model_module_version": "1.5.0",
            "_model_name": "DescriptionStyleModel",
            "_view_count": null,
            "_view_module": "@jupyter-widgets/base",
            "_view_module_version": "1.2.0",
            "_view_name": "StyleView",
            "description_width": ""
          }
        },
        "aa79fb8353d448a9a7609bf0fd96daec": {
          "model_module": "@jupyter-widgets/controls",
          "model_name": "HBoxModel",
          "model_module_version": "1.5.0",
          "state": {
            "_dom_classes": [],
            "_model_module": "@jupyter-widgets/controls",
            "_model_module_version": "1.5.0",
            "_model_name": "HBoxModel",
            "_view_count": null,
            "_view_module": "@jupyter-widgets/controls",
            "_view_module_version": "1.5.0",
            "_view_name": "HBoxView",
            "box_style": "",
            "children": [
              "IPY_MODEL_b09c556e2aea491e91ef5d6e1a887059",
              "IPY_MODEL_556eeb4ed0df4a1e83dd3000e2c36073",
              "IPY_MODEL_e48fac8171cc463a809df74ba458dedd"
            ],
            "layout": "IPY_MODEL_2145e95b1c474bea8e6c699768977f49"
          }
        },
        "b09c556e2aea491e91ef5d6e1a887059": {
          "model_module": "@jupyter-widgets/controls",
          "model_name": "HTMLModel",
          "model_module_version": "1.5.0",
          "state": {
            "_dom_classes": [],
            "_model_module": "@jupyter-widgets/controls",
            "_model_module_version": "1.5.0",
            "_model_name": "HTMLModel",
            "_view_count": null,
            "_view_module": "@jupyter-widgets/controls",
            "_view_module_version": "1.5.0",
            "_view_name": "HTMLView",
            "description": "",
            "description_tooltip": null,
            "layout": "IPY_MODEL_6b9e567d39794ffbb720acb510ccc5d8",
            "placeholder": "​",
            "style": "IPY_MODEL_da4ec209da9e42f2967510aad3ad8918",
            "value": "Downloading (…)olve/main/merges.txt: 100%"
          }
        },
        "556eeb4ed0df4a1e83dd3000e2c36073": {
          "model_module": "@jupyter-widgets/controls",
          "model_name": "FloatProgressModel",
          "model_module_version": "1.5.0",
          "state": {
            "_dom_classes": [],
            "_model_module": "@jupyter-widgets/controls",
            "_model_module_version": "1.5.0",
            "_model_name": "FloatProgressModel",
            "_view_count": null,
            "_view_module": "@jupyter-widgets/controls",
            "_view_module_version": "1.5.0",
            "_view_name": "ProgressView",
            "bar_style": "success",
            "description": "",
            "description_tooltip": null,
            "layout": "IPY_MODEL_a57370124bd740d9b6fd8c6bf248df6d",
            "max": 456356,
            "min": 0,
            "orientation": "horizontal",
            "style": "IPY_MODEL_1c1c44eed2cd40e7b2194eb44bff3554",
            "value": 456356
          }
        },
        "e48fac8171cc463a809df74ba458dedd": {
          "model_module": "@jupyter-widgets/controls",
          "model_name": "HTMLModel",
          "model_module_version": "1.5.0",
          "state": {
            "_dom_classes": [],
            "_model_module": "@jupyter-widgets/controls",
            "_model_module_version": "1.5.0",
            "_model_name": "HTMLModel",
            "_view_count": null,
            "_view_module": "@jupyter-widgets/controls",
            "_view_module_version": "1.5.0",
            "_view_name": "HTMLView",
            "description": "",
            "description_tooltip": null,
            "layout": "IPY_MODEL_3e8a251cbe714cf6a1069ff4baf7cc44",
            "placeholder": "​",
            "style": "IPY_MODEL_22fc37d9d61c4d479ad93f0c89f21c89",
            "value": " 456k/456k [00:00&lt;00:00, 18.2MB/s]"
          }
        },
        "2145e95b1c474bea8e6c699768977f49": {
          "model_module": "@jupyter-widgets/base",
          "model_name": "LayoutModel",
          "model_module_version": "1.2.0",
          "state": {
            "_model_module": "@jupyter-widgets/base",
            "_model_module_version": "1.2.0",
            "_model_name": "LayoutModel",
            "_view_count": null,
            "_view_module": "@jupyter-widgets/base",
            "_view_module_version": "1.2.0",
            "_view_name": "LayoutView",
            "align_content": null,
            "align_items": null,
            "align_self": null,
            "border": null,
            "bottom": null,
            "display": null,
            "flex": null,
            "flex_flow": null,
            "grid_area": null,
            "grid_auto_columns": null,
            "grid_auto_flow": null,
            "grid_auto_rows": null,
            "grid_column": null,
            "grid_gap": null,
            "grid_row": null,
            "grid_template_areas": null,
            "grid_template_columns": null,
            "grid_template_rows": null,
            "height": null,
            "justify_content": null,
            "justify_items": null,
            "left": null,
            "margin": null,
            "max_height": null,
            "max_width": null,
            "min_height": null,
            "min_width": null,
            "object_fit": null,
            "object_position": null,
            "order": null,
            "overflow": null,
            "overflow_x": null,
            "overflow_y": null,
            "padding": null,
            "right": null,
            "top": null,
            "visibility": null,
            "width": null
          }
        },
        "6b9e567d39794ffbb720acb510ccc5d8": {
          "model_module": "@jupyter-widgets/base",
          "model_name": "LayoutModel",
          "model_module_version": "1.2.0",
          "state": {
            "_model_module": "@jupyter-widgets/base",
            "_model_module_version": "1.2.0",
            "_model_name": "LayoutModel",
            "_view_count": null,
            "_view_module": "@jupyter-widgets/base",
            "_view_module_version": "1.2.0",
            "_view_name": "LayoutView",
            "align_content": null,
            "align_items": null,
            "align_self": null,
            "border": null,
            "bottom": null,
            "display": null,
            "flex": null,
            "flex_flow": null,
            "grid_area": null,
            "grid_auto_columns": null,
            "grid_auto_flow": null,
            "grid_auto_rows": null,
            "grid_column": null,
            "grid_gap": null,
            "grid_row": null,
            "grid_template_areas": null,
            "grid_template_columns": null,
            "grid_template_rows": null,
            "height": null,
            "justify_content": null,
            "justify_items": null,
            "left": null,
            "margin": null,
            "max_height": null,
            "max_width": null,
            "min_height": null,
            "min_width": null,
            "object_fit": null,
            "object_position": null,
            "order": null,
            "overflow": null,
            "overflow_x": null,
            "overflow_y": null,
            "padding": null,
            "right": null,
            "top": null,
            "visibility": null,
            "width": null
          }
        },
        "da4ec209da9e42f2967510aad3ad8918": {
          "model_module": "@jupyter-widgets/controls",
          "model_name": "DescriptionStyleModel",
          "model_module_version": "1.5.0",
          "state": {
            "_model_module": "@jupyter-widgets/controls",
            "_model_module_version": "1.5.0",
            "_model_name": "DescriptionStyleModel",
            "_view_count": null,
            "_view_module": "@jupyter-widgets/base",
            "_view_module_version": "1.2.0",
            "_view_name": "StyleView",
            "description_width": ""
          }
        },
        "a57370124bd740d9b6fd8c6bf248df6d": {
          "model_module": "@jupyter-widgets/base",
          "model_name": "LayoutModel",
          "model_module_version": "1.2.0",
          "state": {
            "_model_module": "@jupyter-widgets/base",
            "_model_module_version": "1.2.0",
            "_model_name": "LayoutModel",
            "_view_count": null,
            "_view_module": "@jupyter-widgets/base",
            "_view_module_version": "1.2.0",
            "_view_name": "LayoutView",
            "align_content": null,
            "align_items": null,
            "align_self": null,
            "border": null,
            "bottom": null,
            "display": null,
            "flex": null,
            "flex_flow": null,
            "grid_area": null,
            "grid_auto_columns": null,
            "grid_auto_flow": null,
            "grid_auto_rows": null,
            "grid_column": null,
            "grid_gap": null,
            "grid_row": null,
            "grid_template_areas": null,
            "grid_template_columns": null,
            "grid_template_rows": null,
            "height": null,
            "justify_content": null,
            "justify_items": null,
            "left": null,
            "margin": null,
            "max_height": null,
            "max_width": null,
            "min_height": null,
            "min_width": null,
            "object_fit": null,
            "object_position": null,
            "order": null,
            "overflow": null,
            "overflow_x": null,
            "overflow_y": null,
            "padding": null,
            "right": null,
            "top": null,
            "visibility": null,
            "width": null
          }
        },
        "1c1c44eed2cd40e7b2194eb44bff3554": {
          "model_module": "@jupyter-widgets/controls",
          "model_name": "ProgressStyleModel",
          "model_module_version": "1.5.0",
          "state": {
            "_model_module": "@jupyter-widgets/controls",
            "_model_module_version": "1.5.0",
            "_model_name": "ProgressStyleModel",
            "_view_count": null,
            "_view_module": "@jupyter-widgets/base",
            "_view_module_version": "1.2.0",
            "_view_name": "StyleView",
            "bar_color": null,
            "description_width": ""
          }
        },
        "3e8a251cbe714cf6a1069ff4baf7cc44": {
          "model_module": "@jupyter-widgets/base",
          "model_name": "LayoutModel",
          "model_module_version": "1.2.0",
          "state": {
            "_model_module": "@jupyter-widgets/base",
            "_model_module_version": "1.2.0",
            "_model_name": "LayoutModel",
            "_view_count": null,
            "_view_module": "@jupyter-widgets/base",
            "_view_module_version": "1.2.0",
            "_view_name": "LayoutView",
            "align_content": null,
            "align_items": null,
            "align_self": null,
            "border": null,
            "bottom": null,
            "display": null,
            "flex": null,
            "flex_flow": null,
            "grid_area": null,
            "grid_auto_columns": null,
            "grid_auto_flow": null,
            "grid_auto_rows": null,
            "grid_column": null,
            "grid_gap": null,
            "grid_row": null,
            "grid_template_areas": null,
            "grid_template_columns": null,
            "grid_template_rows": null,
            "height": null,
            "justify_content": null,
            "justify_items": null,
            "left": null,
            "margin": null,
            "max_height": null,
            "max_width": null,
            "min_height": null,
            "min_width": null,
            "object_fit": null,
            "object_position": null,
            "order": null,
            "overflow": null,
            "overflow_x": null,
            "overflow_y": null,
            "padding": null,
            "right": null,
            "top": null,
            "visibility": null,
            "width": null
          }
        },
        "22fc37d9d61c4d479ad93f0c89f21c89": {
          "model_module": "@jupyter-widgets/controls",
          "model_name": "DescriptionStyleModel",
          "model_module_version": "1.5.0",
          "state": {
            "_model_module": "@jupyter-widgets/controls",
            "_model_module_version": "1.5.0",
            "_model_name": "DescriptionStyleModel",
            "_view_count": null,
            "_view_module": "@jupyter-widgets/base",
            "_view_module_version": "1.2.0",
            "_view_name": "StyleView",
            "description_width": ""
          }
        },
        "4393e67ce1b94c538f1051a4aca5c3ae": {
          "model_module": "@jupyter-widgets/controls",
          "model_name": "HBoxModel",
          "model_module_version": "1.5.0",
          "state": {
            "_dom_classes": [],
            "_model_module": "@jupyter-widgets/controls",
            "_model_module_version": "1.5.0",
            "_model_name": "HBoxModel",
            "_view_count": null,
            "_view_module": "@jupyter-widgets/controls",
            "_view_module_version": "1.5.0",
            "_view_name": "HBoxView",
            "box_style": "",
            "children": [
              "IPY_MODEL_8229d64c3b3b4bcea184a73456c6c928",
              "IPY_MODEL_a313593b37b346149e72232b75078c99",
              "IPY_MODEL_b581ce3283454ae2b65ec0f9485324ce"
            ],
            "layout": "IPY_MODEL_6209c94fda6246bebb85da399c6482ae"
          }
        },
        "8229d64c3b3b4bcea184a73456c6c928": {
          "model_module": "@jupyter-widgets/controls",
          "model_name": "HTMLModel",
          "model_module_version": "1.5.0",
          "state": {
            "_dom_classes": [],
            "_model_module": "@jupyter-widgets/controls",
            "_model_module_version": "1.5.0",
            "_model_name": "HTMLModel",
            "_view_count": null,
            "_view_module": "@jupyter-widgets/controls",
            "_view_module_version": "1.5.0",
            "_view_name": "HTMLView",
            "description": "",
            "description_tooltip": null,
            "layout": "IPY_MODEL_f7ee5514f4bb407d9696aa8770569f16",
            "placeholder": "​",
            "style": "IPY_MODEL_f30a7e62a63c4847b8e082879c3e12bc",
            "value": "Downloading (…)cial_tokens_map.json: 100%"
          }
        },
        "a313593b37b346149e72232b75078c99": {
          "model_module": "@jupyter-widgets/controls",
          "model_name": "FloatProgressModel",
          "model_module_version": "1.5.0",
          "state": {
            "_dom_classes": [],
            "_model_module": "@jupyter-widgets/controls",
            "_model_module_version": "1.5.0",
            "_model_name": "FloatProgressModel",
            "_view_count": null,
            "_view_module": "@jupyter-widgets/controls",
            "_view_module_version": "1.5.0",
            "_view_name": "ProgressView",
            "bar_style": "success",
            "description": "",
            "description_tooltip": null,
            "layout": "IPY_MODEL_f84041e829874dff85a4a2dad4131ae6",
            "max": 239,
            "min": 0,
            "orientation": "horizontal",
            "style": "IPY_MODEL_ca319fe908a7410f95367b549896ea67",
            "value": 239
          }
        },
        "b581ce3283454ae2b65ec0f9485324ce": {
          "model_module": "@jupyter-widgets/controls",
          "model_name": "HTMLModel",
          "model_module_version": "1.5.0",
          "state": {
            "_dom_classes": [],
            "_model_module": "@jupyter-widgets/controls",
            "_model_module_version": "1.5.0",
            "_model_name": "HTMLModel",
            "_view_count": null,
            "_view_module": "@jupyter-widgets/controls",
            "_view_module_version": "1.5.0",
            "_view_name": "HTMLView",
            "description": "",
            "description_tooltip": null,
            "layout": "IPY_MODEL_23a610c205224431b2405cb506f7cfe2",
            "placeholder": "​",
            "style": "IPY_MODEL_5ad6615d4cc743cf8efcf37585499f3d",
            "value": " 239/239 [00:00&lt;00:00, 19.2kB/s]"
          }
        },
        "6209c94fda6246bebb85da399c6482ae": {
          "model_module": "@jupyter-widgets/base",
          "model_name": "LayoutModel",
          "model_module_version": "1.2.0",
          "state": {
            "_model_module": "@jupyter-widgets/base",
            "_model_module_version": "1.2.0",
            "_model_name": "LayoutModel",
            "_view_count": null,
            "_view_module": "@jupyter-widgets/base",
            "_view_module_version": "1.2.0",
            "_view_name": "LayoutView",
            "align_content": null,
            "align_items": null,
            "align_self": null,
            "border": null,
            "bottom": null,
            "display": null,
            "flex": null,
            "flex_flow": null,
            "grid_area": null,
            "grid_auto_columns": null,
            "grid_auto_flow": null,
            "grid_auto_rows": null,
            "grid_column": null,
            "grid_gap": null,
            "grid_row": null,
            "grid_template_areas": null,
            "grid_template_columns": null,
            "grid_template_rows": null,
            "height": null,
            "justify_content": null,
            "justify_items": null,
            "left": null,
            "margin": null,
            "max_height": null,
            "max_width": null,
            "min_height": null,
            "min_width": null,
            "object_fit": null,
            "object_position": null,
            "order": null,
            "overflow": null,
            "overflow_x": null,
            "overflow_y": null,
            "padding": null,
            "right": null,
            "top": null,
            "visibility": null,
            "width": null
          }
        },
        "f7ee5514f4bb407d9696aa8770569f16": {
          "model_module": "@jupyter-widgets/base",
          "model_name": "LayoutModel",
          "model_module_version": "1.2.0",
          "state": {
            "_model_module": "@jupyter-widgets/base",
            "_model_module_version": "1.2.0",
            "_model_name": "LayoutModel",
            "_view_count": null,
            "_view_module": "@jupyter-widgets/base",
            "_view_module_version": "1.2.0",
            "_view_name": "LayoutView",
            "align_content": null,
            "align_items": null,
            "align_self": null,
            "border": null,
            "bottom": null,
            "display": null,
            "flex": null,
            "flex_flow": null,
            "grid_area": null,
            "grid_auto_columns": null,
            "grid_auto_flow": null,
            "grid_auto_rows": null,
            "grid_column": null,
            "grid_gap": null,
            "grid_row": null,
            "grid_template_areas": null,
            "grid_template_columns": null,
            "grid_template_rows": null,
            "height": null,
            "justify_content": null,
            "justify_items": null,
            "left": null,
            "margin": null,
            "max_height": null,
            "max_width": null,
            "min_height": null,
            "min_width": null,
            "object_fit": null,
            "object_position": null,
            "order": null,
            "overflow": null,
            "overflow_x": null,
            "overflow_y": null,
            "padding": null,
            "right": null,
            "top": null,
            "visibility": null,
            "width": null
          }
        },
        "f30a7e62a63c4847b8e082879c3e12bc": {
          "model_module": "@jupyter-widgets/controls",
          "model_name": "DescriptionStyleModel",
          "model_module_version": "1.5.0",
          "state": {
            "_model_module": "@jupyter-widgets/controls",
            "_model_module_version": "1.5.0",
            "_model_name": "DescriptionStyleModel",
            "_view_count": null,
            "_view_module": "@jupyter-widgets/base",
            "_view_module_version": "1.2.0",
            "_view_name": "StyleView",
            "description_width": ""
          }
        },
        "f84041e829874dff85a4a2dad4131ae6": {
          "model_module": "@jupyter-widgets/base",
          "model_name": "LayoutModel",
          "model_module_version": "1.2.0",
          "state": {
            "_model_module": "@jupyter-widgets/base",
            "_model_module_version": "1.2.0",
            "_model_name": "LayoutModel",
            "_view_count": null,
            "_view_module": "@jupyter-widgets/base",
            "_view_module_version": "1.2.0",
            "_view_name": "LayoutView",
            "align_content": null,
            "align_items": null,
            "align_self": null,
            "border": null,
            "bottom": null,
            "display": null,
            "flex": null,
            "flex_flow": null,
            "grid_area": null,
            "grid_auto_columns": null,
            "grid_auto_flow": null,
            "grid_auto_rows": null,
            "grid_column": null,
            "grid_gap": null,
            "grid_row": null,
            "grid_template_areas": null,
            "grid_template_columns": null,
            "grid_template_rows": null,
            "height": null,
            "justify_content": null,
            "justify_items": null,
            "left": null,
            "margin": null,
            "max_height": null,
            "max_width": null,
            "min_height": null,
            "min_width": null,
            "object_fit": null,
            "object_position": null,
            "order": null,
            "overflow": null,
            "overflow_x": null,
            "overflow_y": null,
            "padding": null,
            "right": null,
            "top": null,
            "visibility": null,
            "width": null
          }
        },
        "ca319fe908a7410f95367b549896ea67": {
          "model_module": "@jupyter-widgets/controls",
          "model_name": "ProgressStyleModel",
          "model_module_version": "1.5.0",
          "state": {
            "_model_module": "@jupyter-widgets/controls",
            "_model_module_version": "1.5.0",
            "_model_name": "ProgressStyleModel",
            "_view_count": null,
            "_view_module": "@jupyter-widgets/base",
            "_view_module_version": "1.2.0",
            "_view_name": "StyleView",
            "bar_color": null,
            "description_width": ""
          }
        },
        "23a610c205224431b2405cb506f7cfe2": {
          "model_module": "@jupyter-widgets/base",
          "model_name": "LayoutModel",
          "model_module_version": "1.2.0",
          "state": {
            "_model_module": "@jupyter-widgets/base",
            "_model_module_version": "1.2.0",
            "_model_name": "LayoutModel",
            "_view_count": null,
            "_view_module": "@jupyter-widgets/base",
            "_view_module_version": "1.2.0",
            "_view_name": "LayoutView",
            "align_content": null,
            "align_items": null,
            "align_self": null,
            "border": null,
            "bottom": null,
            "display": null,
            "flex": null,
            "flex_flow": null,
            "grid_area": null,
            "grid_auto_columns": null,
            "grid_auto_flow": null,
            "grid_auto_rows": null,
            "grid_column": null,
            "grid_gap": null,
            "grid_row": null,
            "grid_template_areas": null,
            "grid_template_columns": null,
            "grid_template_rows": null,
            "height": null,
            "justify_content": null,
            "justify_items": null,
            "left": null,
            "margin": null,
            "max_height": null,
            "max_width": null,
            "min_height": null,
            "min_width": null,
            "object_fit": null,
            "object_position": null,
            "order": null,
            "overflow": null,
            "overflow_x": null,
            "overflow_y": null,
            "padding": null,
            "right": null,
            "top": null,
            "visibility": null,
            "width": null
          }
        },
        "5ad6615d4cc743cf8efcf37585499f3d": {
          "model_module": "@jupyter-widgets/controls",
          "model_name": "DescriptionStyleModel",
          "model_module_version": "1.5.0",
          "state": {
            "_model_module": "@jupyter-widgets/controls",
            "_model_module_version": "1.5.0",
            "_model_name": "DescriptionStyleModel",
            "_view_count": null,
            "_view_module": "@jupyter-widgets/base",
            "_view_module_version": "1.2.0",
            "_view_name": "StyleView",
            "description_width": ""
          }
        },
        "bb2d1c797d1844b382bfd08ea80e9d26": {
          "model_module": "@jupyter-widgets/controls",
          "model_name": "HBoxModel",
          "model_module_version": "1.5.0",
          "state": {
            "_dom_classes": [],
            "_model_module": "@jupyter-widgets/controls",
            "_model_module_version": "1.5.0",
            "_model_name": "HBoxModel",
            "_view_count": null,
            "_view_module": "@jupyter-widgets/controls",
            "_view_module_version": "1.5.0",
            "_view_name": "HBoxView",
            "box_style": "",
            "children": [
              "IPY_MODEL_fbe3253199d048ae90155f865436053b",
              "IPY_MODEL_6d729d07c8344242b72043f5bcf860e8",
              "IPY_MODEL_6c3c57398e204747b5d7a32711cee5b1"
            ],
            "layout": "IPY_MODEL_8adcf7c0e7be402080fe33c98826c711"
          }
        },
        "fbe3253199d048ae90155f865436053b": {
          "model_module": "@jupyter-widgets/controls",
          "model_name": "HTMLModel",
          "model_module_version": "1.5.0",
          "state": {
            "_dom_classes": [],
            "_model_module": "@jupyter-widgets/controls",
            "_model_module_version": "1.5.0",
            "_model_name": "HTMLModel",
            "_view_count": null,
            "_view_module": "@jupyter-widgets/controls",
            "_view_module_version": "1.5.0",
            "_view_name": "HTMLView",
            "description": "",
            "description_tooltip": null,
            "layout": "IPY_MODEL_cba8d6b7f44043508865a32e50e6940a",
            "placeholder": "​",
            "style": "IPY_MODEL_fd1a9a6a0a30423da8874f2248c84131",
            "value": "Downloading (…)okenizer_config.json: 100%"
          }
        },
        "6d729d07c8344242b72043f5bcf860e8": {
          "model_module": "@jupyter-widgets/controls",
          "model_name": "FloatProgressModel",
          "model_module_version": "1.5.0",
          "state": {
            "_dom_classes": [],
            "_model_module": "@jupyter-widgets/controls",
            "_model_module_version": "1.5.0",
            "_model_name": "FloatProgressModel",
            "_view_count": null,
            "_view_module": "@jupyter-widgets/controls",
            "_view_module_version": "1.5.0",
            "_view_name": "ProgressView",
            "bar_style": "success",
            "description": "",
            "description_tooltip": null,
            "layout": "IPY_MODEL_1ebb36ee348547b48bdf48356f6ef4a9",
            "max": 300,
            "min": 0,
            "orientation": "horizontal",
            "style": "IPY_MODEL_be3dd713b2c24a66ac73ebbaa7cf53dd",
            "value": 300
          }
        },
        "6c3c57398e204747b5d7a32711cee5b1": {
          "model_module": "@jupyter-widgets/controls",
          "model_name": "HTMLModel",
          "model_module_version": "1.5.0",
          "state": {
            "_dom_classes": [],
            "_model_module": "@jupyter-widgets/controls",
            "_model_module_version": "1.5.0",
            "_model_name": "HTMLModel",
            "_view_count": null,
            "_view_module": "@jupyter-widgets/controls",
            "_view_module_version": "1.5.0",
            "_view_name": "HTMLView",
            "description": "",
            "description_tooltip": null,
            "layout": "IPY_MODEL_87256550cddf4b16abb242368fff7f6f",
            "placeholder": "​",
            "style": "IPY_MODEL_76141e9b3f8e4d3297ea991ba336d347",
            "value": " 300/300 [00:00&lt;00:00, 23.4kB/s]"
          }
        },
        "8adcf7c0e7be402080fe33c98826c711": {
          "model_module": "@jupyter-widgets/base",
          "model_name": "LayoutModel",
          "model_module_version": "1.2.0",
          "state": {
            "_model_module": "@jupyter-widgets/base",
            "_model_module_version": "1.2.0",
            "_model_name": "LayoutModel",
            "_view_count": null,
            "_view_module": "@jupyter-widgets/base",
            "_view_module_version": "1.2.0",
            "_view_name": "LayoutView",
            "align_content": null,
            "align_items": null,
            "align_self": null,
            "border": null,
            "bottom": null,
            "display": null,
            "flex": null,
            "flex_flow": null,
            "grid_area": null,
            "grid_auto_columns": null,
            "grid_auto_flow": null,
            "grid_auto_rows": null,
            "grid_column": null,
            "grid_gap": null,
            "grid_row": null,
            "grid_template_areas": null,
            "grid_template_columns": null,
            "grid_template_rows": null,
            "height": null,
            "justify_content": null,
            "justify_items": null,
            "left": null,
            "margin": null,
            "max_height": null,
            "max_width": null,
            "min_height": null,
            "min_width": null,
            "object_fit": null,
            "object_position": null,
            "order": null,
            "overflow": null,
            "overflow_x": null,
            "overflow_y": null,
            "padding": null,
            "right": null,
            "top": null,
            "visibility": null,
            "width": null
          }
        },
        "cba8d6b7f44043508865a32e50e6940a": {
          "model_module": "@jupyter-widgets/base",
          "model_name": "LayoutModel",
          "model_module_version": "1.2.0",
          "state": {
            "_model_module": "@jupyter-widgets/base",
            "_model_module_version": "1.2.0",
            "_model_name": "LayoutModel",
            "_view_count": null,
            "_view_module": "@jupyter-widgets/base",
            "_view_module_version": "1.2.0",
            "_view_name": "LayoutView",
            "align_content": null,
            "align_items": null,
            "align_self": null,
            "border": null,
            "bottom": null,
            "display": null,
            "flex": null,
            "flex_flow": null,
            "grid_area": null,
            "grid_auto_columns": null,
            "grid_auto_flow": null,
            "grid_auto_rows": null,
            "grid_column": null,
            "grid_gap": null,
            "grid_row": null,
            "grid_template_areas": null,
            "grid_template_columns": null,
            "grid_template_rows": null,
            "height": null,
            "justify_content": null,
            "justify_items": null,
            "left": null,
            "margin": null,
            "max_height": null,
            "max_width": null,
            "min_height": null,
            "min_width": null,
            "object_fit": null,
            "object_position": null,
            "order": null,
            "overflow": null,
            "overflow_x": null,
            "overflow_y": null,
            "padding": null,
            "right": null,
            "top": null,
            "visibility": null,
            "width": null
          }
        },
        "fd1a9a6a0a30423da8874f2248c84131": {
          "model_module": "@jupyter-widgets/controls",
          "model_name": "DescriptionStyleModel",
          "model_module_version": "1.5.0",
          "state": {
            "_model_module": "@jupyter-widgets/controls",
            "_model_module_version": "1.5.0",
            "_model_name": "DescriptionStyleModel",
            "_view_count": null,
            "_view_module": "@jupyter-widgets/base",
            "_view_module_version": "1.2.0",
            "_view_name": "StyleView",
            "description_width": ""
          }
        },
        "1ebb36ee348547b48bdf48356f6ef4a9": {
          "model_module": "@jupyter-widgets/base",
          "model_name": "LayoutModel",
          "model_module_version": "1.2.0",
          "state": {
            "_model_module": "@jupyter-widgets/base",
            "_model_module_version": "1.2.0",
            "_model_name": "LayoutModel",
            "_view_count": null,
            "_view_module": "@jupyter-widgets/base",
            "_view_module_version": "1.2.0",
            "_view_name": "LayoutView",
            "align_content": null,
            "align_items": null,
            "align_self": null,
            "border": null,
            "bottom": null,
            "display": null,
            "flex": null,
            "flex_flow": null,
            "grid_area": null,
            "grid_auto_columns": null,
            "grid_auto_flow": null,
            "grid_auto_rows": null,
            "grid_column": null,
            "grid_gap": null,
            "grid_row": null,
            "grid_template_areas": null,
            "grid_template_columns": null,
            "grid_template_rows": null,
            "height": null,
            "justify_content": null,
            "justify_items": null,
            "left": null,
            "margin": null,
            "max_height": null,
            "max_width": null,
            "min_height": null,
            "min_width": null,
            "object_fit": null,
            "object_position": null,
            "order": null,
            "overflow": null,
            "overflow_x": null,
            "overflow_y": null,
            "padding": null,
            "right": null,
            "top": null,
            "visibility": null,
            "width": null
          }
        },
        "be3dd713b2c24a66ac73ebbaa7cf53dd": {
          "model_module": "@jupyter-widgets/controls",
          "model_name": "ProgressStyleModel",
          "model_module_version": "1.5.0",
          "state": {
            "_model_module": "@jupyter-widgets/controls",
            "_model_module_version": "1.5.0",
            "_model_name": "ProgressStyleModel",
            "_view_count": null,
            "_view_module": "@jupyter-widgets/base",
            "_view_module_version": "1.2.0",
            "_view_name": "StyleView",
            "bar_color": null,
            "description_width": ""
          }
        },
        "87256550cddf4b16abb242368fff7f6f": {
          "model_module": "@jupyter-widgets/base",
          "model_name": "LayoutModel",
          "model_module_version": "1.2.0",
          "state": {
            "_model_module": "@jupyter-widgets/base",
            "_model_module_version": "1.2.0",
            "_model_name": "LayoutModel",
            "_view_count": null,
            "_view_module": "@jupyter-widgets/base",
            "_view_module_version": "1.2.0",
            "_view_name": "LayoutView",
            "align_content": null,
            "align_items": null,
            "align_self": null,
            "border": null,
            "bottom": null,
            "display": null,
            "flex": null,
            "flex_flow": null,
            "grid_area": null,
            "grid_auto_columns": null,
            "grid_auto_flow": null,
            "grid_auto_rows": null,
            "grid_column": null,
            "grid_gap": null,
            "grid_row": null,
            "grid_template_areas": null,
            "grid_template_columns": null,
            "grid_template_rows": null,
            "height": null,
            "justify_content": null,
            "justify_items": null,
            "left": null,
            "margin": null,
            "max_height": null,
            "max_width": null,
            "min_height": null,
            "min_width": null,
            "object_fit": null,
            "object_position": null,
            "order": null,
            "overflow": null,
            "overflow_x": null,
            "overflow_y": null,
            "padding": null,
            "right": null,
            "top": null,
            "visibility": null,
            "width": null
          }
        },
        "76141e9b3f8e4d3297ea991ba336d347": {
          "model_module": "@jupyter-widgets/controls",
          "model_name": "DescriptionStyleModel",
          "model_module_version": "1.5.0",
          "state": {
            "_model_module": "@jupyter-widgets/controls",
            "_model_module_version": "1.5.0",
            "_model_name": "DescriptionStyleModel",
            "_view_count": null,
            "_view_module": "@jupyter-widgets/base",
            "_view_module_version": "1.2.0",
            "_view_name": "StyleView",
            "description_width": ""
          }
        },
        "0c496cac2a8c4dc7bde64f2d3f046b1e": {
          "model_module": "@jupyter-widgets/controls",
          "model_name": "HBoxModel",
          "model_module_version": "1.5.0",
          "state": {
            "_dom_classes": [],
            "_model_module": "@jupyter-widgets/controls",
            "_model_module_version": "1.5.0",
            "_model_name": "HBoxModel",
            "_view_count": null,
            "_view_module": "@jupyter-widgets/controls",
            "_view_module_version": "1.5.0",
            "_view_name": "HBoxView",
            "box_style": "",
            "children": [
              "IPY_MODEL_8d68784bb0c242e2ad320a0a9320c7e2",
              "IPY_MODEL_e4c942d0ad5648878c1fc2932d185836",
              "IPY_MODEL_8e8cc4c416c842a9b74068876e8d5cd9"
            ],
            "layout": "IPY_MODEL_c032fb8c23ce4ed686c95ef463852607"
          }
        },
        "8d68784bb0c242e2ad320a0a9320c7e2": {
          "model_module": "@jupyter-widgets/controls",
          "model_name": "HTMLModel",
          "model_module_version": "1.5.0",
          "state": {
            "_dom_classes": [],
            "_model_module": "@jupyter-widgets/controls",
            "_model_module_version": "1.5.0",
            "_model_name": "HTMLModel",
            "_view_count": null,
            "_view_module": "@jupyter-widgets/controls",
            "_view_module_version": "1.5.0",
            "_view_name": "HTMLView",
            "description": "",
            "description_tooltip": null,
            "layout": "IPY_MODEL_14dfeb5b336b4130be064fe42ea64268",
            "placeholder": "​",
            "style": "IPY_MODEL_48590a35334845b4ba7c30d2ee101647",
            "value": "Downloading (…)lve/main/config.json: 100%"
          }
        },
        "e4c942d0ad5648878c1fc2932d185836": {
          "model_module": "@jupyter-widgets/controls",
          "model_name": "FloatProgressModel",
          "model_module_version": "1.5.0",
          "state": {
            "_dom_classes": [],
            "_model_module": "@jupyter-widgets/controls",
            "_model_module_version": "1.5.0",
            "_model_name": "FloatProgressModel",
            "_view_count": null,
            "_view_module": "@jupyter-widgets/controls",
            "_view_module_version": "1.5.0",
            "_view_name": "ProgressView",
            "bar_style": "success",
            "description": "",
            "description_tooltip": null,
            "layout": "IPY_MODEL_f422843191b74a59908a5429395dab22",
            "max": 1626,
            "min": 0,
            "orientation": "horizontal",
            "style": "IPY_MODEL_ac74a0cb84374d4cab1e8c9c87080dcc",
            "value": 1626
          }
        },
        "8e8cc4c416c842a9b74068876e8d5cd9": {
          "model_module": "@jupyter-widgets/controls",
          "model_name": "HTMLModel",
          "model_module_version": "1.5.0",
          "state": {
            "_dom_classes": [],
            "_model_module": "@jupyter-widgets/controls",
            "_model_module_version": "1.5.0",
            "_model_name": "HTMLModel",
            "_view_count": null,
            "_view_module": "@jupyter-widgets/controls",
            "_view_module_version": "1.5.0",
            "_view_name": "HTMLView",
            "description": "",
            "description_tooltip": null,
            "layout": "IPY_MODEL_03dcb61032554010a3e845d0fcaa157d",
            "placeholder": "​",
            "style": "IPY_MODEL_17a1db8b0cd9475bb02da5abecd56bb0",
            "value": " 1.63k/1.63k [00:00&lt;00:00, 125kB/s]"
          }
        },
        "c032fb8c23ce4ed686c95ef463852607": {
          "model_module": "@jupyter-widgets/base",
          "model_name": "LayoutModel",
          "model_module_version": "1.2.0",
          "state": {
            "_model_module": "@jupyter-widgets/base",
            "_model_module_version": "1.2.0",
            "_model_name": "LayoutModel",
            "_view_count": null,
            "_view_module": "@jupyter-widgets/base",
            "_view_module_version": "1.2.0",
            "_view_name": "LayoutView",
            "align_content": null,
            "align_items": null,
            "align_self": null,
            "border": null,
            "bottom": null,
            "display": null,
            "flex": null,
            "flex_flow": null,
            "grid_area": null,
            "grid_auto_columns": null,
            "grid_auto_flow": null,
            "grid_auto_rows": null,
            "grid_column": null,
            "grid_gap": null,
            "grid_row": null,
            "grid_template_areas": null,
            "grid_template_columns": null,
            "grid_template_rows": null,
            "height": null,
            "justify_content": null,
            "justify_items": null,
            "left": null,
            "margin": null,
            "max_height": null,
            "max_width": null,
            "min_height": null,
            "min_width": null,
            "object_fit": null,
            "object_position": null,
            "order": null,
            "overflow": null,
            "overflow_x": null,
            "overflow_y": null,
            "padding": null,
            "right": null,
            "top": null,
            "visibility": null,
            "width": null
          }
        },
        "14dfeb5b336b4130be064fe42ea64268": {
          "model_module": "@jupyter-widgets/base",
          "model_name": "LayoutModel",
          "model_module_version": "1.2.0",
          "state": {
            "_model_module": "@jupyter-widgets/base",
            "_model_module_version": "1.2.0",
            "_model_name": "LayoutModel",
            "_view_count": null,
            "_view_module": "@jupyter-widgets/base",
            "_view_module_version": "1.2.0",
            "_view_name": "LayoutView",
            "align_content": null,
            "align_items": null,
            "align_self": null,
            "border": null,
            "bottom": null,
            "display": null,
            "flex": null,
            "flex_flow": null,
            "grid_area": null,
            "grid_auto_columns": null,
            "grid_auto_flow": null,
            "grid_auto_rows": null,
            "grid_column": null,
            "grid_gap": null,
            "grid_row": null,
            "grid_template_areas": null,
            "grid_template_columns": null,
            "grid_template_rows": null,
            "height": null,
            "justify_content": null,
            "justify_items": null,
            "left": null,
            "margin": null,
            "max_height": null,
            "max_width": null,
            "min_height": null,
            "min_width": null,
            "object_fit": null,
            "object_position": null,
            "order": null,
            "overflow": null,
            "overflow_x": null,
            "overflow_y": null,
            "padding": null,
            "right": null,
            "top": null,
            "visibility": null,
            "width": null
          }
        },
        "48590a35334845b4ba7c30d2ee101647": {
          "model_module": "@jupyter-widgets/controls",
          "model_name": "DescriptionStyleModel",
          "model_module_version": "1.5.0",
          "state": {
            "_model_module": "@jupyter-widgets/controls",
            "_model_module_version": "1.5.0",
            "_model_name": "DescriptionStyleModel",
            "_view_count": null,
            "_view_module": "@jupyter-widgets/base",
            "_view_module_version": "1.2.0",
            "_view_name": "StyleView",
            "description_width": ""
          }
        },
        "f422843191b74a59908a5429395dab22": {
          "model_module": "@jupyter-widgets/base",
          "model_name": "LayoutModel",
          "model_module_version": "1.2.0",
          "state": {
            "_model_module": "@jupyter-widgets/base",
            "_model_module_version": "1.2.0",
            "_model_name": "LayoutModel",
            "_view_count": null,
            "_view_module": "@jupyter-widgets/base",
            "_view_module_version": "1.2.0",
            "_view_name": "LayoutView",
            "align_content": null,
            "align_items": null,
            "align_self": null,
            "border": null,
            "bottom": null,
            "display": null,
            "flex": null,
            "flex_flow": null,
            "grid_area": null,
            "grid_auto_columns": null,
            "grid_auto_flow": null,
            "grid_auto_rows": null,
            "grid_column": null,
            "grid_gap": null,
            "grid_row": null,
            "grid_template_areas": null,
            "grid_template_columns": null,
            "grid_template_rows": null,
            "height": null,
            "justify_content": null,
            "justify_items": null,
            "left": null,
            "margin": null,
            "max_height": null,
            "max_width": null,
            "min_height": null,
            "min_width": null,
            "object_fit": null,
            "object_position": null,
            "order": null,
            "overflow": null,
            "overflow_x": null,
            "overflow_y": null,
            "padding": null,
            "right": null,
            "top": null,
            "visibility": null,
            "width": null
          }
        },
        "ac74a0cb84374d4cab1e8c9c87080dcc": {
          "model_module": "@jupyter-widgets/controls",
          "model_name": "ProgressStyleModel",
          "model_module_version": "1.5.0",
          "state": {
            "_model_module": "@jupyter-widgets/controls",
            "_model_module_version": "1.5.0",
            "_model_name": "ProgressStyleModel",
            "_view_count": null,
            "_view_module": "@jupyter-widgets/base",
            "_view_module_version": "1.2.0",
            "_view_name": "StyleView",
            "bar_color": null,
            "description_width": ""
          }
        },
        "03dcb61032554010a3e845d0fcaa157d": {
          "model_module": "@jupyter-widgets/base",
          "model_name": "LayoutModel",
          "model_module_version": "1.2.0",
          "state": {
            "_model_module": "@jupyter-widgets/base",
            "_model_module_version": "1.2.0",
            "_model_name": "LayoutModel",
            "_view_count": null,
            "_view_module": "@jupyter-widgets/base",
            "_view_module_version": "1.2.0",
            "_view_name": "LayoutView",
            "align_content": null,
            "align_items": null,
            "align_self": null,
            "border": null,
            "bottom": null,
            "display": null,
            "flex": null,
            "flex_flow": null,
            "grid_area": null,
            "grid_auto_columns": null,
            "grid_auto_flow": null,
            "grid_auto_rows": null,
            "grid_column": null,
            "grid_gap": null,
            "grid_row": null,
            "grid_template_areas": null,
            "grid_template_columns": null,
            "grid_template_rows": null,
            "height": null,
            "justify_content": null,
            "justify_items": null,
            "left": null,
            "margin": null,
            "max_height": null,
            "max_width": null,
            "min_height": null,
            "min_width": null,
            "object_fit": null,
            "object_position": null,
            "order": null,
            "overflow": null,
            "overflow_x": null,
            "overflow_y": null,
            "padding": null,
            "right": null,
            "top": null,
            "visibility": null,
            "width": null
          }
        },
        "17a1db8b0cd9475bb02da5abecd56bb0": {
          "model_module": "@jupyter-widgets/controls",
          "model_name": "DescriptionStyleModel",
          "model_module_version": "1.5.0",
          "state": {
            "_model_module": "@jupyter-widgets/controls",
            "_model_module_version": "1.5.0",
            "_model_name": "DescriptionStyleModel",
            "_view_count": null,
            "_view_module": "@jupyter-widgets/base",
            "_view_module_version": "1.2.0",
            "_view_name": "StyleView",
            "description_width": ""
          }
        },
        "a08f6c6756024e09973421134d0a4689": {
          "model_module": "@jupyter-widgets/controls",
          "model_name": "HBoxModel",
          "model_module_version": "1.5.0",
          "state": {
            "_dom_classes": [],
            "_model_module": "@jupyter-widgets/controls",
            "_model_module_version": "1.5.0",
            "_model_name": "HBoxModel",
            "_view_count": null,
            "_view_module": "@jupyter-widgets/controls",
            "_view_module_version": "1.5.0",
            "_view_name": "HBoxView",
            "box_style": "",
            "children": [
              "IPY_MODEL_0f2be2bcc9be4ca4b2bba00d371bac40",
              "IPY_MODEL_7e9e89e027b14f1195c3cea853caccb5",
              "IPY_MODEL_fc1c4c0c87f84c67a952daf499b9648a"
            ],
            "layout": "IPY_MODEL_773a9a8227aa4a4ab8da9e0b3d9a9ca1"
          }
        },
        "0f2be2bcc9be4ca4b2bba00d371bac40": {
          "model_module": "@jupyter-widgets/controls",
          "model_name": "HTMLModel",
          "model_module_version": "1.5.0",
          "state": {
            "_dom_classes": [],
            "_model_module": "@jupyter-widgets/controls",
            "_model_module_version": "1.5.0",
            "_model_name": "HTMLModel",
            "_view_count": null,
            "_view_module": "@jupyter-widgets/controls",
            "_view_module_version": "1.5.0",
            "_view_name": "HTMLView",
            "description": "",
            "description_tooltip": null,
            "layout": "IPY_MODEL_7a23df17a75647c6a6d650dc3e2e1d7a",
            "placeholder": "​",
            "style": "IPY_MODEL_3ac52d81c56a4025b253936103880e82",
            "value": "Downloading pytorch_model.bin: 100%"
          }
        },
        "7e9e89e027b14f1195c3cea853caccb5": {
          "model_module": "@jupyter-widgets/controls",
          "model_name": "FloatProgressModel",
          "model_module_version": "1.5.0",
          "state": {
            "_dom_classes": [],
            "_model_module": "@jupyter-widgets/controls",
            "_model_module_version": "1.5.0",
            "_model_name": "FloatProgressModel",
            "_view_count": null,
            "_view_module": "@jupyter-widgets/controls",
            "_view_module_version": "1.5.0",
            "_view_name": "ProgressView",
            "bar_style": "success",
            "description": "",
            "description_tooltip": null,
            "layout": "IPY_MODEL_6309e69539944fb38e712e31ea4bfd63",
            "max": 1625565295,
            "min": 0,
            "orientation": "horizontal",
            "style": "IPY_MODEL_240c29c37e164883876834028e180d6f",
            "value": 1625565295
          }
        },
        "fc1c4c0c87f84c67a952daf499b9648a": {
          "model_module": "@jupyter-widgets/controls",
          "model_name": "HTMLModel",
          "model_module_version": "1.5.0",
          "state": {
            "_dom_classes": [],
            "_model_module": "@jupyter-widgets/controls",
            "_model_module_version": "1.5.0",
            "_model_name": "HTMLModel",
            "_view_count": null,
            "_view_module": "@jupyter-widgets/controls",
            "_view_module_version": "1.5.0",
            "_view_name": "HTMLView",
            "description": "",
            "description_tooltip": null,
            "layout": "IPY_MODEL_1dbb623674f741ffb1882aefce8104b5",
            "placeholder": "​",
            "style": "IPY_MODEL_f453c598bf0b49a6b1ad665ccd98a309",
            "value": " 1.63G/1.63G [00:17&lt;00:00, 95.2MB/s]"
          }
        },
        "773a9a8227aa4a4ab8da9e0b3d9a9ca1": {
          "model_module": "@jupyter-widgets/base",
          "model_name": "LayoutModel",
          "model_module_version": "1.2.0",
          "state": {
            "_model_module": "@jupyter-widgets/base",
            "_model_module_version": "1.2.0",
            "_model_name": "LayoutModel",
            "_view_count": null,
            "_view_module": "@jupyter-widgets/base",
            "_view_module_version": "1.2.0",
            "_view_name": "LayoutView",
            "align_content": null,
            "align_items": null,
            "align_self": null,
            "border": null,
            "bottom": null,
            "display": null,
            "flex": null,
            "flex_flow": null,
            "grid_area": null,
            "grid_auto_columns": null,
            "grid_auto_flow": null,
            "grid_auto_rows": null,
            "grid_column": null,
            "grid_gap": null,
            "grid_row": null,
            "grid_template_areas": null,
            "grid_template_columns": null,
            "grid_template_rows": null,
            "height": null,
            "justify_content": null,
            "justify_items": null,
            "left": null,
            "margin": null,
            "max_height": null,
            "max_width": null,
            "min_height": null,
            "min_width": null,
            "object_fit": null,
            "object_position": null,
            "order": null,
            "overflow": null,
            "overflow_x": null,
            "overflow_y": null,
            "padding": null,
            "right": null,
            "top": null,
            "visibility": null,
            "width": null
          }
        },
        "7a23df17a75647c6a6d650dc3e2e1d7a": {
          "model_module": "@jupyter-widgets/base",
          "model_name": "LayoutModel",
          "model_module_version": "1.2.0",
          "state": {
            "_model_module": "@jupyter-widgets/base",
            "_model_module_version": "1.2.0",
            "_model_name": "LayoutModel",
            "_view_count": null,
            "_view_module": "@jupyter-widgets/base",
            "_view_module_version": "1.2.0",
            "_view_name": "LayoutView",
            "align_content": null,
            "align_items": null,
            "align_self": null,
            "border": null,
            "bottom": null,
            "display": null,
            "flex": null,
            "flex_flow": null,
            "grid_area": null,
            "grid_auto_columns": null,
            "grid_auto_flow": null,
            "grid_auto_rows": null,
            "grid_column": null,
            "grid_gap": null,
            "grid_row": null,
            "grid_template_areas": null,
            "grid_template_columns": null,
            "grid_template_rows": null,
            "height": null,
            "justify_content": null,
            "justify_items": null,
            "left": null,
            "margin": null,
            "max_height": null,
            "max_width": null,
            "min_height": null,
            "min_width": null,
            "object_fit": null,
            "object_position": null,
            "order": null,
            "overflow": null,
            "overflow_x": null,
            "overflow_y": null,
            "padding": null,
            "right": null,
            "top": null,
            "visibility": null,
            "width": null
          }
        },
        "3ac52d81c56a4025b253936103880e82": {
          "model_module": "@jupyter-widgets/controls",
          "model_name": "DescriptionStyleModel",
          "model_module_version": "1.5.0",
          "state": {
            "_model_module": "@jupyter-widgets/controls",
            "_model_module_version": "1.5.0",
            "_model_name": "DescriptionStyleModel",
            "_view_count": null,
            "_view_module": "@jupyter-widgets/base",
            "_view_module_version": "1.2.0",
            "_view_name": "StyleView",
            "description_width": ""
          }
        },
        "6309e69539944fb38e712e31ea4bfd63": {
          "model_module": "@jupyter-widgets/base",
          "model_name": "LayoutModel",
          "model_module_version": "1.2.0",
          "state": {
            "_model_module": "@jupyter-widgets/base",
            "_model_module_version": "1.2.0",
            "_model_name": "LayoutModel",
            "_view_count": null,
            "_view_module": "@jupyter-widgets/base",
            "_view_module_version": "1.2.0",
            "_view_name": "LayoutView",
            "align_content": null,
            "align_items": null,
            "align_self": null,
            "border": null,
            "bottom": null,
            "display": null,
            "flex": null,
            "flex_flow": null,
            "grid_area": null,
            "grid_auto_columns": null,
            "grid_auto_flow": null,
            "grid_auto_rows": null,
            "grid_column": null,
            "grid_gap": null,
            "grid_row": null,
            "grid_template_areas": null,
            "grid_template_columns": null,
            "grid_template_rows": null,
            "height": null,
            "justify_content": null,
            "justify_items": null,
            "left": null,
            "margin": null,
            "max_height": null,
            "max_width": null,
            "min_height": null,
            "min_width": null,
            "object_fit": null,
            "object_position": null,
            "order": null,
            "overflow": null,
            "overflow_x": null,
            "overflow_y": null,
            "padding": null,
            "right": null,
            "top": null,
            "visibility": null,
            "width": null
          }
        },
        "240c29c37e164883876834028e180d6f": {
          "model_module": "@jupyter-widgets/controls",
          "model_name": "ProgressStyleModel",
          "model_module_version": "1.5.0",
          "state": {
            "_model_module": "@jupyter-widgets/controls",
            "_model_module_version": "1.5.0",
            "_model_name": "ProgressStyleModel",
            "_view_count": null,
            "_view_module": "@jupyter-widgets/base",
            "_view_module_version": "1.2.0",
            "_view_name": "StyleView",
            "bar_color": null,
            "description_width": ""
          }
        },
        "1dbb623674f741ffb1882aefce8104b5": {
          "model_module": "@jupyter-widgets/base",
          "model_name": "LayoutModel",
          "model_module_version": "1.2.0",
          "state": {
            "_model_module": "@jupyter-widgets/base",
            "_model_module_version": "1.2.0",
            "_model_name": "LayoutModel",
            "_view_count": null,
            "_view_module": "@jupyter-widgets/base",
            "_view_module_version": "1.2.0",
            "_view_name": "LayoutView",
            "align_content": null,
            "align_items": null,
            "align_self": null,
            "border": null,
            "bottom": null,
            "display": null,
            "flex": null,
            "flex_flow": null,
            "grid_area": null,
            "grid_auto_columns": null,
            "grid_auto_flow": null,
            "grid_auto_rows": null,
            "grid_column": null,
            "grid_gap": null,
            "grid_row": null,
            "grid_template_areas": null,
            "grid_template_columns": null,
            "grid_template_rows": null,
            "height": null,
            "justify_content": null,
            "justify_items": null,
            "left": null,
            "margin": null,
            "max_height": null,
            "max_width": null,
            "min_height": null,
            "min_width": null,
            "object_fit": null,
            "object_position": null,
            "order": null,
            "overflow": null,
            "overflow_x": null,
            "overflow_y": null,
            "padding": null,
            "right": null,
            "top": null,
            "visibility": null,
            "width": null
          }
        },
        "f453c598bf0b49a6b1ad665ccd98a309": {
          "model_module": "@jupyter-widgets/controls",
          "model_name": "DescriptionStyleModel",
          "model_module_version": "1.5.0",
          "state": {
            "_model_module": "@jupyter-widgets/controls",
            "_model_module_version": "1.5.0",
            "_model_name": "DescriptionStyleModel",
            "_view_count": null,
            "_view_module": "@jupyter-widgets/base",
            "_view_module_version": "1.2.0",
            "_view_name": "StyleView",
            "description_width": ""
          }
        },
        "b186a9b959f04c6e95ff94ad945de7e4": {
          "model_module": "@jupyter-widgets/controls",
          "model_name": "HBoxModel",
          "model_module_version": "1.5.0",
          "state": {
            "_dom_classes": [],
            "_model_module": "@jupyter-widgets/controls",
            "_model_module_version": "1.5.0",
            "_model_name": "HBoxModel",
            "_view_count": null,
            "_view_module": "@jupyter-widgets/controls",
            "_view_module_version": "1.5.0",
            "_view_name": "HBoxView",
            "box_style": "",
            "children": [
              "IPY_MODEL_733229f846284d0294633ee64d3c05ae",
              "IPY_MODEL_4add9e09604245c281e16a9ae3bbb57e",
              "IPY_MODEL_0a9b40b121334a3d9a8ebba11b9cfb36"
            ],
            "layout": "IPY_MODEL_4ab4ec5a816249aeb366febb3c33ab1d"
          }
        },
        "733229f846284d0294633ee64d3c05ae": {
          "model_module": "@jupyter-widgets/controls",
          "model_name": "HTMLModel",
          "model_module_version": "1.5.0",
          "state": {
            "_dom_classes": [],
            "_model_module": "@jupyter-widgets/controls",
            "_model_module_version": "1.5.0",
            "_model_name": "HTMLModel",
            "_view_count": null,
            "_view_module": "@jupyter-widgets/controls",
            "_view_module_version": "1.5.0",
            "_view_name": "HTMLView",
            "description": "",
            "description_tooltip": null,
            "layout": "IPY_MODEL_f1e9af13a5e849c0adb07827f6ed812b",
            "placeholder": "​",
            "style": "IPY_MODEL_4f1a7d7da65d481c8e74e5e84c70dbee",
            "value": "Downloading data files: 100%"
          }
        },
        "4add9e09604245c281e16a9ae3bbb57e": {
          "model_module": "@jupyter-widgets/controls",
          "model_name": "FloatProgressModel",
          "model_module_version": "1.5.0",
          "state": {
            "_dom_classes": [],
            "_model_module": "@jupyter-widgets/controls",
            "_model_module_version": "1.5.0",
            "_model_name": "FloatProgressModel",
            "_view_count": null,
            "_view_module": "@jupyter-widgets/controls",
            "_view_module_version": "1.5.0",
            "_view_name": "ProgressView",
            "bar_style": "success",
            "description": "",
            "description_tooltip": null,
            "layout": "IPY_MODEL_c4bbe09d360f419f943bae2551571762",
            "max": 3,
            "min": 0,
            "orientation": "horizontal",
            "style": "IPY_MODEL_a509f006deb34760b4a74d5a1ebf965a",
            "value": 3
          }
        },
        "0a9b40b121334a3d9a8ebba11b9cfb36": {
          "model_module": "@jupyter-widgets/controls",
          "model_name": "HTMLModel",
          "model_module_version": "1.5.0",
          "state": {
            "_dom_classes": [],
            "_model_module": "@jupyter-widgets/controls",
            "_model_module_version": "1.5.0",
            "_model_name": "HTMLModel",
            "_view_count": null,
            "_view_module": "@jupyter-widgets/controls",
            "_view_module_version": "1.5.0",
            "_view_name": "HTMLView",
            "description": "",
            "description_tooltip": null,
            "layout": "IPY_MODEL_eed0ca315343420cb739cd2aafb63987",
            "placeholder": "​",
            "style": "IPY_MODEL_76b765d411a8433f8553c7e88066e51b",
            "value": " 3/3 [00:04&lt;00:00,  1.30s/it]"
          }
        },
        "4ab4ec5a816249aeb366febb3c33ab1d": {
          "model_module": "@jupyter-widgets/base",
          "model_name": "LayoutModel",
          "model_module_version": "1.2.0",
          "state": {
            "_model_module": "@jupyter-widgets/base",
            "_model_module_version": "1.2.0",
            "_model_name": "LayoutModel",
            "_view_count": null,
            "_view_module": "@jupyter-widgets/base",
            "_view_module_version": "1.2.0",
            "_view_name": "LayoutView",
            "align_content": null,
            "align_items": null,
            "align_self": null,
            "border": null,
            "bottom": null,
            "display": null,
            "flex": null,
            "flex_flow": null,
            "grid_area": null,
            "grid_auto_columns": null,
            "grid_auto_flow": null,
            "grid_auto_rows": null,
            "grid_column": null,
            "grid_gap": null,
            "grid_row": null,
            "grid_template_areas": null,
            "grid_template_columns": null,
            "grid_template_rows": null,
            "height": null,
            "justify_content": null,
            "justify_items": null,
            "left": null,
            "margin": null,
            "max_height": null,
            "max_width": null,
            "min_height": null,
            "min_width": null,
            "object_fit": null,
            "object_position": null,
            "order": null,
            "overflow": null,
            "overflow_x": null,
            "overflow_y": null,
            "padding": null,
            "right": null,
            "top": null,
            "visibility": null,
            "width": null
          }
        },
        "f1e9af13a5e849c0adb07827f6ed812b": {
          "model_module": "@jupyter-widgets/base",
          "model_name": "LayoutModel",
          "model_module_version": "1.2.0",
          "state": {
            "_model_module": "@jupyter-widgets/base",
            "_model_module_version": "1.2.0",
            "_model_name": "LayoutModel",
            "_view_count": null,
            "_view_module": "@jupyter-widgets/base",
            "_view_module_version": "1.2.0",
            "_view_name": "LayoutView",
            "align_content": null,
            "align_items": null,
            "align_self": null,
            "border": null,
            "bottom": null,
            "display": null,
            "flex": null,
            "flex_flow": null,
            "grid_area": null,
            "grid_auto_columns": null,
            "grid_auto_flow": null,
            "grid_auto_rows": null,
            "grid_column": null,
            "grid_gap": null,
            "grid_row": null,
            "grid_template_areas": null,
            "grid_template_columns": null,
            "grid_template_rows": null,
            "height": null,
            "justify_content": null,
            "justify_items": null,
            "left": null,
            "margin": null,
            "max_height": null,
            "max_width": null,
            "min_height": null,
            "min_width": null,
            "object_fit": null,
            "object_position": null,
            "order": null,
            "overflow": null,
            "overflow_x": null,
            "overflow_y": null,
            "padding": null,
            "right": null,
            "top": null,
            "visibility": null,
            "width": null
          }
        },
        "4f1a7d7da65d481c8e74e5e84c70dbee": {
          "model_module": "@jupyter-widgets/controls",
          "model_name": "DescriptionStyleModel",
          "model_module_version": "1.5.0",
          "state": {
            "_model_module": "@jupyter-widgets/controls",
            "_model_module_version": "1.5.0",
            "_model_name": "DescriptionStyleModel",
            "_view_count": null,
            "_view_module": "@jupyter-widgets/base",
            "_view_module_version": "1.2.0",
            "_view_name": "StyleView",
            "description_width": ""
          }
        },
        "c4bbe09d360f419f943bae2551571762": {
          "model_module": "@jupyter-widgets/base",
          "model_name": "LayoutModel",
          "model_module_version": "1.2.0",
          "state": {
            "_model_module": "@jupyter-widgets/base",
            "_model_module_version": "1.2.0",
            "_model_name": "LayoutModel",
            "_view_count": null,
            "_view_module": "@jupyter-widgets/base",
            "_view_module_version": "1.2.0",
            "_view_name": "LayoutView",
            "align_content": null,
            "align_items": null,
            "align_self": null,
            "border": null,
            "bottom": null,
            "display": null,
            "flex": null,
            "flex_flow": null,
            "grid_area": null,
            "grid_auto_columns": null,
            "grid_auto_flow": null,
            "grid_auto_rows": null,
            "grid_column": null,
            "grid_gap": null,
            "grid_row": null,
            "grid_template_areas": null,
            "grid_template_columns": null,
            "grid_template_rows": null,
            "height": null,
            "justify_content": null,
            "justify_items": null,
            "left": null,
            "margin": null,
            "max_height": null,
            "max_width": null,
            "min_height": null,
            "min_width": null,
            "object_fit": null,
            "object_position": null,
            "order": null,
            "overflow": null,
            "overflow_x": null,
            "overflow_y": null,
            "padding": null,
            "right": null,
            "top": null,
            "visibility": null,
            "width": null
          }
        },
        "a509f006deb34760b4a74d5a1ebf965a": {
          "model_module": "@jupyter-widgets/controls",
          "model_name": "ProgressStyleModel",
          "model_module_version": "1.5.0",
          "state": {
            "_model_module": "@jupyter-widgets/controls",
            "_model_module_version": "1.5.0",
            "_model_name": "ProgressStyleModel",
            "_view_count": null,
            "_view_module": "@jupyter-widgets/base",
            "_view_module_version": "1.2.0",
            "_view_name": "StyleView",
            "bar_color": null,
            "description_width": ""
          }
        },
        "eed0ca315343420cb739cd2aafb63987": {
          "model_module": "@jupyter-widgets/base",
          "model_name": "LayoutModel",
          "model_module_version": "1.2.0",
          "state": {
            "_model_module": "@jupyter-widgets/base",
            "_model_module_version": "1.2.0",
            "_model_name": "LayoutModel",
            "_view_count": null,
            "_view_module": "@jupyter-widgets/base",
            "_view_module_version": "1.2.0",
            "_view_name": "LayoutView",
            "align_content": null,
            "align_items": null,
            "align_self": null,
            "border": null,
            "bottom": null,
            "display": null,
            "flex": null,
            "flex_flow": null,
            "grid_area": null,
            "grid_auto_columns": null,
            "grid_auto_flow": null,
            "grid_auto_rows": null,
            "grid_column": null,
            "grid_gap": null,
            "grid_row": null,
            "grid_template_areas": null,
            "grid_template_columns": null,
            "grid_template_rows": null,
            "height": null,
            "justify_content": null,
            "justify_items": null,
            "left": null,
            "margin": null,
            "max_height": null,
            "max_width": null,
            "min_height": null,
            "min_width": null,
            "object_fit": null,
            "object_position": null,
            "order": null,
            "overflow": null,
            "overflow_x": null,
            "overflow_y": null,
            "padding": null,
            "right": null,
            "top": null,
            "visibility": null,
            "width": null
          }
        },
        "76b765d411a8433f8553c7e88066e51b": {
          "model_module": "@jupyter-widgets/controls",
          "model_name": "DescriptionStyleModel",
          "model_module_version": "1.5.0",
          "state": {
            "_model_module": "@jupyter-widgets/controls",
            "_model_module_version": "1.5.0",
            "_model_name": "DescriptionStyleModel",
            "_view_count": null,
            "_view_module": "@jupyter-widgets/base",
            "_view_module_version": "1.2.0",
            "_view_name": "StyleView",
            "description_width": ""
          }
        },
        "ae3aad42afb24728b6c80177fed15199": {
          "model_module": "@jupyter-widgets/controls",
          "model_name": "HBoxModel",
          "model_module_version": "1.5.0",
          "state": {
            "_dom_classes": [],
            "_model_module": "@jupyter-widgets/controls",
            "_model_module_version": "1.5.0",
            "_model_name": "HBoxModel",
            "_view_count": null,
            "_view_module": "@jupyter-widgets/controls",
            "_view_module_version": "1.5.0",
            "_view_name": "HBoxView",
            "box_style": "",
            "children": [
              "IPY_MODEL_7d18f21834554183b275bf73100cfd7e",
              "IPY_MODEL_67f03c7d731e435f9ab9f9ff74d6626e",
              "IPY_MODEL_0b77ad41b1224ac9b5b94c14155a3000"
            ],
            "layout": "IPY_MODEL_3b7a46a57ece4cfc91b5cd5680f85148"
          }
        },
        "7d18f21834554183b275bf73100cfd7e": {
          "model_module": "@jupyter-widgets/controls",
          "model_name": "HTMLModel",
          "model_module_version": "1.5.0",
          "state": {
            "_dom_classes": [],
            "_model_module": "@jupyter-widgets/controls",
            "_model_module_version": "1.5.0",
            "_model_name": "HTMLModel",
            "_view_count": null,
            "_view_module": "@jupyter-widgets/controls",
            "_view_module_version": "1.5.0",
            "_view_name": "HTMLView",
            "description": "",
            "description_tooltip": null,
            "layout": "IPY_MODEL_8b28cbe11efd4ed98ce8fe89c41e471c",
            "placeholder": "​",
            "style": "IPY_MODEL_46897635730b41aebd5003b67e9bd972",
            "value": "Downloading data: 100%"
          }
        },
        "67f03c7d731e435f9ab9f9ff74d6626e": {
          "model_module": "@jupyter-widgets/controls",
          "model_name": "FloatProgressModel",
          "model_module_version": "1.5.0",
          "state": {
            "_dom_classes": [],
            "_model_module": "@jupyter-widgets/controls",
            "_model_module_version": "1.5.0",
            "_model_name": "FloatProgressModel",
            "_view_count": null,
            "_view_module": "@jupyter-widgets/controls",
            "_view_module_version": "1.5.0",
            "_view_name": "ProgressView",
            "bar_style": "success",
            "description": "",
            "description_tooltip": null,
            "layout": "IPY_MODEL_17379e5972d94aa180557a58599f890f",
            "max": 11321474,
            "min": 0,
            "orientation": "horizontal",
            "style": "IPY_MODEL_a8aa892e14e54b02ad889f2927daa5d1",
            "value": 11321474
          }
        },
        "0b77ad41b1224ac9b5b94c14155a3000": {
          "model_module": "@jupyter-widgets/controls",
          "model_name": "HTMLModel",
          "model_module_version": "1.5.0",
          "state": {
            "_dom_classes": [],
            "_model_module": "@jupyter-widgets/controls",
            "_model_module_version": "1.5.0",
            "_model_name": "HTMLModel",
            "_view_count": null,
            "_view_module": "@jupyter-widgets/controls",
            "_view_module_version": "1.5.0",
            "_view_name": "HTMLView",
            "description": "",
            "description_tooltip": null,
            "layout": "IPY_MODEL_e726921c466d4fdabc8680b3f306de9e",
            "placeholder": "​",
            "style": "IPY_MODEL_4f067c5d3d6746e0bfca6f0ffc05cea2",
            "value": " 11.3M/11.3M [00:00&lt;00:00, 69.2MB/s]"
          }
        },
        "3b7a46a57ece4cfc91b5cd5680f85148": {
          "model_module": "@jupyter-widgets/base",
          "model_name": "LayoutModel",
          "model_module_version": "1.2.0",
          "state": {
            "_model_module": "@jupyter-widgets/base",
            "_model_module_version": "1.2.0",
            "_model_name": "LayoutModel",
            "_view_count": null,
            "_view_module": "@jupyter-widgets/base",
            "_view_module_version": "1.2.0",
            "_view_name": "LayoutView",
            "align_content": null,
            "align_items": null,
            "align_self": null,
            "border": null,
            "bottom": null,
            "display": null,
            "flex": null,
            "flex_flow": null,
            "grid_area": null,
            "grid_auto_columns": null,
            "grid_auto_flow": null,
            "grid_auto_rows": null,
            "grid_column": null,
            "grid_gap": null,
            "grid_row": null,
            "grid_template_areas": null,
            "grid_template_columns": null,
            "grid_template_rows": null,
            "height": null,
            "justify_content": null,
            "justify_items": null,
            "left": null,
            "margin": null,
            "max_height": null,
            "max_width": null,
            "min_height": null,
            "min_width": null,
            "object_fit": null,
            "object_position": null,
            "order": null,
            "overflow": null,
            "overflow_x": null,
            "overflow_y": null,
            "padding": null,
            "right": null,
            "top": null,
            "visibility": null,
            "width": null
          }
        },
        "8b28cbe11efd4ed98ce8fe89c41e471c": {
          "model_module": "@jupyter-widgets/base",
          "model_name": "LayoutModel",
          "model_module_version": "1.2.0",
          "state": {
            "_model_module": "@jupyter-widgets/base",
            "_model_module_version": "1.2.0",
            "_model_name": "LayoutModel",
            "_view_count": null,
            "_view_module": "@jupyter-widgets/base",
            "_view_module_version": "1.2.0",
            "_view_name": "LayoutView",
            "align_content": null,
            "align_items": null,
            "align_self": null,
            "border": null,
            "bottom": null,
            "display": null,
            "flex": null,
            "flex_flow": null,
            "grid_area": null,
            "grid_auto_columns": null,
            "grid_auto_flow": null,
            "grid_auto_rows": null,
            "grid_column": null,
            "grid_gap": null,
            "grid_row": null,
            "grid_template_areas": null,
            "grid_template_columns": null,
            "grid_template_rows": null,
            "height": null,
            "justify_content": null,
            "justify_items": null,
            "left": null,
            "margin": null,
            "max_height": null,
            "max_width": null,
            "min_height": null,
            "min_width": null,
            "object_fit": null,
            "object_position": null,
            "order": null,
            "overflow": null,
            "overflow_x": null,
            "overflow_y": null,
            "padding": null,
            "right": null,
            "top": null,
            "visibility": null,
            "width": null
          }
        },
        "46897635730b41aebd5003b67e9bd972": {
          "model_module": "@jupyter-widgets/controls",
          "model_name": "DescriptionStyleModel",
          "model_module_version": "1.5.0",
          "state": {
            "_model_module": "@jupyter-widgets/controls",
            "_model_module_version": "1.5.0",
            "_model_name": "DescriptionStyleModel",
            "_view_count": null,
            "_view_module": "@jupyter-widgets/base",
            "_view_module_version": "1.2.0",
            "_view_name": "StyleView",
            "description_width": ""
          }
        },
        "17379e5972d94aa180557a58599f890f": {
          "model_module": "@jupyter-widgets/base",
          "model_name": "LayoutModel",
          "model_module_version": "1.2.0",
          "state": {
            "_model_module": "@jupyter-widgets/base",
            "_model_module_version": "1.2.0",
            "_model_name": "LayoutModel",
            "_view_count": null,
            "_view_module": "@jupyter-widgets/base",
            "_view_module_version": "1.2.0",
            "_view_name": "LayoutView",
            "align_content": null,
            "align_items": null,
            "align_self": null,
            "border": null,
            "bottom": null,
            "display": null,
            "flex": null,
            "flex_flow": null,
            "grid_area": null,
            "grid_auto_columns": null,
            "grid_auto_flow": null,
            "grid_auto_rows": null,
            "grid_column": null,
            "grid_gap": null,
            "grid_row": null,
            "grid_template_areas": null,
            "grid_template_columns": null,
            "grid_template_rows": null,
            "height": null,
            "justify_content": null,
            "justify_items": null,
            "left": null,
            "margin": null,
            "max_height": null,
            "max_width": null,
            "min_height": null,
            "min_width": null,
            "object_fit": null,
            "object_position": null,
            "order": null,
            "overflow": null,
            "overflow_x": null,
            "overflow_y": null,
            "padding": null,
            "right": null,
            "top": null,
            "visibility": null,
            "width": null
          }
        },
        "a8aa892e14e54b02ad889f2927daa5d1": {
          "model_module": "@jupyter-widgets/controls",
          "model_name": "ProgressStyleModel",
          "model_module_version": "1.5.0",
          "state": {
            "_model_module": "@jupyter-widgets/controls",
            "_model_module_version": "1.5.0",
            "_model_name": "ProgressStyleModel",
            "_view_count": null,
            "_view_module": "@jupyter-widgets/base",
            "_view_module_version": "1.2.0",
            "_view_name": "StyleView",
            "bar_color": null,
            "description_width": ""
          }
        },
        "e726921c466d4fdabc8680b3f306de9e": {
          "model_module": "@jupyter-widgets/base",
          "model_name": "LayoutModel",
          "model_module_version": "1.2.0",
          "state": {
            "_model_module": "@jupyter-widgets/base",
            "_model_module_version": "1.2.0",
            "_model_name": "LayoutModel",
            "_view_count": null,
            "_view_module": "@jupyter-widgets/base",
            "_view_module_version": "1.2.0",
            "_view_name": "LayoutView",
            "align_content": null,
            "align_items": null,
            "align_self": null,
            "border": null,
            "bottom": null,
            "display": null,
            "flex": null,
            "flex_flow": null,
            "grid_area": null,
            "grid_auto_columns": null,
            "grid_auto_flow": null,
            "grid_auto_rows": null,
            "grid_column": null,
            "grid_gap": null,
            "grid_row": null,
            "grid_template_areas": null,
            "grid_template_columns": null,
            "grid_template_rows": null,
            "height": null,
            "justify_content": null,
            "justify_items": null,
            "left": null,
            "margin": null,
            "max_height": null,
            "max_width": null,
            "min_height": null,
            "min_width": null,
            "object_fit": null,
            "object_position": null,
            "order": null,
            "overflow": null,
            "overflow_x": null,
            "overflow_y": null,
            "padding": null,
            "right": null,
            "top": null,
            "visibility": null,
            "width": null
          }
        },
        "4f067c5d3d6746e0bfca6f0ffc05cea2": {
          "model_module": "@jupyter-widgets/controls",
          "model_name": "DescriptionStyleModel",
          "model_module_version": "1.5.0",
          "state": {
            "_model_module": "@jupyter-widgets/controls",
            "_model_module_version": "1.5.0",
            "_model_name": "DescriptionStyleModel",
            "_view_count": null,
            "_view_module": "@jupyter-widgets/base",
            "_view_module_version": "1.2.0",
            "_view_name": "StyleView",
            "description_width": ""
          }
        },
        "0483af7539e34cb1a9e6f87f6a2f51c1": {
          "model_module": "@jupyter-widgets/controls",
          "model_name": "HBoxModel",
          "model_module_version": "1.5.0",
          "state": {
            "_dom_classes": [],
            "_model_module": "@jupyter-widgets/controls",
            "_model_module_version": "1.5.0",
            "_model_name": "HBoxModel",
            "_view_count": null,
            "_view_module": "@jupyter-widgets/controls",
            "_view_module_version": "1.5.0",
            "_view_name": "HBoxView",
            "box_style": "",
            "children": [
              "IPY_MODEL_9a828dda450749e2a5cf818dc59c0613",
              "IPY_MODEL_bfde23e1a91d457890423f09ffd1b371",
              "IPY_MODEL_d27af372e5594e2a87e889bba7cae713"
            ],
            "layout": "IPY_MODEL_c25221407e4a47ddbb4bb9f86094f2ca"
          }
        },
        "9a828dda450749e2a5cf818dc59c0613": {
          "model_module": "@jupyter-widgets/controls",
          "model_name": "HTMLModel",
          "model_module_version": "1.5.0",
          "state": {
            "_dom_classes": [],
            "_model_module": "@jupyter-widgets/controls",
            "_model_module_version": "1.5.0",
            "_model_name": "HTMLModel",
            "_view_count": null,
            "_view_module": "@jupyter-widgets/controls",
            "_view_module_version": "1.5.0",
            "_view_name": "HTMLView",
            "description": "",
            "description_tooltip": null,
            "layout": "IPY_MODEL_f4186ee9de334f5e8fe33fa5862453b8",
            "placeholder": "​",
            "style": "IPY_MODEL_1934689c5ba544458f3371768d360d69",
            "value": "Downloading data: 100%"
          }
        },
        "bfde23e1a91d457890423f09ffd1b371": {
          "model_module": "@jupyter-widgets/controls",
          "model_name": "FloatProgressModel",
          "model_module_version": "1.5.0",
          "state": {
            "_dom_classes": [],
            "_model_module": "@jupyter-widgets/controls",
            "_model_module_version": "1.5.0",
            "_model_name": "FloatProgressModel",
            "_view_count": null,
            "_view_module": "@jupyter-widgets/controls",
            "_view_module_version": "1.5.0",
            "_view_name": "ProgressView",
            "bar_style": "success",
            "description": "",
            "description_tooltip": null,
            "layout": "IPY_MODEL_742f9053075647a191d02670a5ce8970",
            "max": 1353147,
            "min": 0,
            "orientation": "horizontal",
            "style": "IPY_MODEL_e3a355c9ad78490db8891aae8bd8a3a0",
            "value": 1353147
          }
        },
        "d27af372e5594e2a87e889bba7cae713": {
          "model_module": "@jupyter-widgets/controls",
          "model_name": "HTMLModel",
          "model_module_version": "1.5.0",
          "state": {
            "_dom_classes": [],
            "_model_module": "@jupyter-widgets/controls",
            "_model_module_version": "1.5.0",
            "_model_name": "HTMLModel",
            "_view_count": null,
            "_view_module": "@jupyter-widgets/controls",
            "_view_module_version": "1.5.0",
            "_view_name": "HTMLView",
            "description": "",
            "description_tooltip": null,
            "layout": "IPY_MODEL_160f316f2913426e80868fe17f5ac41f",
            "placeholder": "​",
            "style": "IPY_MODEL_05825590f4464c3bbc0f5c0756b3a552",
            "value": " 1.35M/1.35M [00:01&lt;00:00, 1.48MB/s]"
          }
        },
        "c25221407e4a47ddbb4bb9f86094f2ca": {
          "model_module": "@jupyter-widgets/base",
          "model_name": "LayoutModel",
          "model_module_version": "1.2.0",
          "state": {
            "_model_module": "@jupyter-widgets/base",
            "_model_module_version": "1.2.0",
            "_model_name": "LayoutModel",
            "_view_count": null,
            "_view_module": "@jupyter-widgets/base",
            "_view_module_version": "1.2.0",
            "_view_name": "LayoutView",
            "align_content": null,
            "align_items": null,
            "align_self": null,
            "border": null,
            "bottom": null,
            "display": null,
            "flex": null,
            "flex_flow": null,
            "grid_area": null,
            "grid_auto_columns": null,
            "grid_auto_flow": null,
            "grid_auto_rows": null,
            "grid_column": null,
            "grid_gap": null,
            "grid_row": null,
            "grid_template_areas": null,
            "grid_template_columns": null,
            "grid_template_rows": null,
            "height": null,
            "justify_content": null,
            "justify_items": null,
            "left": null,
            "margin": null,
            "max_height": null,
            "max_width": null,
            "min_height": null,
            "min_width": null,
            "object_fit": null,
            "object_position": null,
            "order": null,
            "overflow": null,
            "overflow_x": null,
            "overflow_y": null,
            "padding": null,
            "right": null,
            "top": null,
            "visibility": null,
            "width": null
          }
        },
        "f4186ee9de334f5e8fe33fa5862453b8": {
          "model_module": "@jupyter-widgets/base",
          "model_name": "LayoutModel",
          "model_module_version": "1.2.0",
          "state": {
            "_model_module": "@jupyter-widgets/base",
            "_model_module_version": "1.2.0",
            "_model_name": "LayoutModel",
            "_view_count": null,
            "_view_module": "@jupyter-widgets/base",
            "_view_module_version": "1.2.0",
            "_view_name": "LayoutView",
            "align_content": null,
            "align_items": null,
            "align_self": null,
            "border": null,
            "bottom": null,
            "display": null,
            "flex": null,
            "flex_flow": null,
            "grid_area": null,
            "grid_auto_columns": null,
            "grid_auto_flow": null,
            "grid_auto_rows": null,
            "grid_column": null,
            "grid_gap": null,
            "grid_row": null,
            "grid_template_areas": null,
            "grid_template_columns": null,
            "grid_template_rows": null,
            "height": null,
            "justify_content": null,
            "justify_items": null,
            "left": null,
            "margin": null,
            "max_height": null,
            "max_width": null,
            "min_height": null,
            "min_width": null,
            "object_fit": null,
            "object_position": null,
            "order": null,
            "overflow": null,
            "overflow_x": null,
            "overflow_y": null,
            "padding": null,
            "right": null,
            "top": null,
            "visibility": null,
            "width": null
          }
        },
        "1934689c5ba544458f3371768d360d69": {
          "model_module": "@jupyter-widgets/controls",
          "model_name": "DescriptionStyleModel",
          "model_module_version": "1.5.0",
          "state": {
            "_model_module": "@jupyter-widgets/controls",
            "_model_module_version": "1.5.0",
            "_model_name": "DescriptionStyleModel",
            "_view_count": null,
            "_view_module": "@jupyter-widgets/base",
            "_view_module_version": "1.2.0",
            "_view_name": "StyleView",
            "description_width": ""
          }
        },
        "742f9053075647a191d02670a5ce8970": {
          "model_module": "@jupyter-widgets/base",
          "model_name": "LayoutModel",
          "model_module_version": "1.2.0",
          "state": {
            "_model_module": "@jupyter-widgets/base",
            "_model_module_version": "1.2.0",
            "_model_name": "LayoutModel",
            "_view_count": null,
            "_view_module": "@jupyter-widgets/base",
            "_view_module_version": "1.2.0",
            "_view_name": "LayoutView",
            "align_content": null,
            "align_items": null,
            "align_self": null,
            "border": null,
            "bottom": null,
            "display": null,
            "flex": null,
            "flex_flow": null,
            "grid_area": null,
            "grid_auto_columns": null,
            "grid_auto_flow": null,
            "grid_auto_rows": null,
            "grid_column": null,
            "grid_gap": null,
            "grid_row": null,
            "grid_template_areas": null,
            "grid_template_columns": null,
            "grid_template_rows": null,
            "height": null,
            "justify_content": null,
            "justify_items": null,
            "left": null,
            "margin": null,
            "max_height": null,
            "max_width": null,
            "min_height": null,
            "min_width": null,
            "object_fit": null,
            "object_position": null,
            "order": null,
            "overflow": null,
            "overflow_x": null,
            "overflow_y": null,
            "padding": null,
            "right": null,
            "top": null,
            "visibility": null,
            "width": null
          }
        },
        "e3a355c9ad78490db8891aae8bd8a3a0": {
          "model_module": "@jupyter-widgets/controls",
          "model_name": "ProgressStyleModel",
          "model_module_version": "1.5.0",
          "state": {
            "_model_module": "@jupyter-widgets/controls",
            "_model_module_version": "1.5.0",
            "_model_name": "ProgressStyleModel",
            "_view_count": null,
            "_view_module": "@jupyter-widgets/base",
            "_view_module_version": "1.2.0",
            "_view_name": "StyleView",
            "bar_color": null,
            "description_width": ""
          }
        },
        "160f316f2913426e80868fe17f5ac41f": {
          "model_module": "@jupyter-widgets/base",
          "model_name": "LayoutModel",
          "model_module_version": "1.2.0",
          "state": {
            "_model_module": "@jupyter-widgets/base",
            "_model_module_version": "1.2.0",
            "_model_name": "LayoutModel",
            "_view_count": null,
            "_view_module": "@jupyter-widgets/base",
            "_view_module_version": "1.2.0",
            "_view_name": "LayoutView",
            "align_content": null,
            "align_items": null,
            "align_self": null,
            "border": null,
            "bottom": null,
            "display": null,
            "flex": null,
            "flex_flow": null,
            "grid_area": null,
            "grid_auto_columns": null,
            "grid_auto_flow": null,
            "grid_auto_rows": null,
            "grid_column": null,
            "grid_gap": null,
            "grid_row": null,
            "grid_template_areas": null,
            "grid_template_columns": null,
            "grid_template_rows": null,
            "height": null,
            "justify_content": null,
            "justify_items": null,
            "left": null,
            "margin": null,
            "max_height": null,
            "max_width": null,
            "min_height": null,
            "min_width": null,
            "object_fit": null,
            "object_position": null,
            "order": null,
            "overflow": null,
            "overflow_x": null,
            "overflow_y": null,
            "padding": null,
            "right": null,
            "top": null,
            "visibility": null,
            "width": null
          }
        },
        "05825590f4464c3bbc0f5c0756b3a552": {
          "model_module": "@jupyter-widgets/controls",
          "model_name": "DescriptionStyleModel",
          "model_module_version": "1.5.0",
          "state": {
            "_model_module": "@jupyter-widgets/controls",
            "_model_module_version": "1.5.0",
            "_model_name": "DescriptionStyleModel",
            "_view_count": null,
            "_view_module": "@jupyter-widgets/base",
            "_view_module_version": "1.2.0",
            "_view_name": "StyleView",
            "description_width": ""
          }
        },
        "86a47eb60f454479beb3f5160e9dcc5a": {
          "model_module": "@jupyter-widgets/controls",
          "model_name": "HBoxModel",
          "model_module_version": "1.5.0",
          "state": {
            "_dom_classes": [],
            "_model_module": "@jupyter-widgets/controls",
            "_model_module_version": "1.5.0",
            "_model_name": "HBoxModel",
            "_view_count": null,
            "_view_module": "@jupyter-widgets/controls",
            "_view_module_version": "1.5.0",
            "_view_name": "HBoxView",
            "box_style": "",
            "children": [
              "IPY_MODEL_3080de80e1b2432f907754f4c7feaa86",
              "IPY_MODEL_752f12f682dc4a6385fb44be7376fdc3",
              "IPY_MODEL_4cde9f635465487d88e9b3810f2829af"
            ],
            "layout": "IPY_MODEL_8d346d99e7444d43ae77cd7f5200dfb9"
          }
        },
        "3080de80e1b2432f907754f4c7feaa86": {
          "model_module": "@jupyter-widgets/controls",
          "model_name": "HTMLModel",
          "model_module_version": "1.5.0",
          "state": {
            "_dom_classes": [],
            "_model_module": "@jupyter-widgets/controls",
            "_model_module_version": "1.5.0",
            "_model_name": "HTMLModel",
            "_view_count": null,
            "_view_module": "@jupyter-widgets/controls",
            "_view_module_version": "1.5.0",
            "_view_name": "HTMLView",
            "description": "",
            "description_tooltip": null,
            "layout": "IPY_MODEL_6d912cbdf7f24f07a8bb4f87b305dded",
            "placeholder": "​",
            "style": "IPY_MODEL_7bc46592f1444c5ab551bdf6cd36ec51",
            "value": "Downloading data: 100%"
          }
        },
        "752f12f682dc4a6385fb44be7376fdc3": {
          "model_module": "@jupyter-widgets/controls",
          "model_name": "FloatProgressModel",
          "model_module_version": "1.5.0",
          "state": {
            "_dom_classes": [],
            "_model_module": "@jupyter-widgets/controls",
            "_model_module_version": "1.5.0",
            "_model_name": "FloatProgressModel",
            "_view_count": null,
            "_view_module": "@jupyter-widgets/controls",
            "_view_module_version": "1.5.0",
            "_view_name": "ProgressView",
            "bar_style": "success",
            "description": "",
            "description_tooltip": null,
            "layout": "IPY_MODEL_6bef811b2835455d879d147ac20e5a65",
            "max": 441935,
            "min": 0,
            "orientation": "horizontal",
            "style": "IPY_MODEL_83a4aa61bfaf41188262e3a7ca8105a2",
            "value": 441935
          }
        },
        "4cde9f635465487d88e9b3810f2829af": {
          "model_module": "@jupyter-widgets/controls",
          "model_name": "HTMLModel",
          "model_module_version": "1.5.0",
          "state": {
            "_dom_classes": [],
            "_model_module": "@jupyter-widgets/controls",
            "_model_module_version": "1.5.0",
            "_model_name": "HTMLModel",
            "_view_count": null,
            "_view_module": "@jupyter-widgets/controls",
            "_view_module_version": "1.5.0",
            "_view_name": "HTMLView",
            "description": "",
            "description_tooltip": null,
            "layout": "IPY_MODEL_b3ac45eb4e244aff9e81ca332c67e012",
            "placeholder": "​",
            "style": "IPY_MODEL_d24aab0022a24eac93715a0a66c7b2c7",
            "value": " 442k/442k [00:00&lt;00:00, 768kB/s]"
          }
        },
        "8d346d99e7444d43ae77cd7f5200dfb9": {
          "model_module": "@jupyter-widgets/base",
          "model_name": "LayoutModel",
          "model_module_version": "1.2.0",
          "state": {
            "_model_module": "@jupyter-widgets/base",
            "_model_module_version": "1.2.0",
            "_model_name": "LayoutModel",
            "_view_count": null,
            "_view_module": "@jupyter-widgets/base",
            "_view_module_version": "1.2.0",
            "_view_name": "LayoutView",
            "align_content": null,
            "align_items": null,
            "align_self": null,
            "border": null,
            "bottom": null,
            "display": null,
            "flex": null,
            "flex_flow": null,
            "grid_area": null,
            "grid_auto_columns": null,
            "grid_auto_flow": null,
            "grid_auto_rows": null,
            "grid_column": null,
            "grid_gap": null,
            "grid_row": null,
            "grid_template_areas": null,
            "grid_template_columns": null,
            "grid_template_rows": null,
            "height": null,
            "justify_content": null,
            "justify_items": null,
            "left": null,
            "margin": null,
            "max_height": null,
            "max_width": null,
            "min_height": null,
            "min_width": null,
            "object_fit": null,
            "object_position": null,
            "order": null,
            "overflow": null,
            "overflow_x": null,
            "overflow_y": null,
            "padding": null,
            "right": null,
            "top": null,
            "visibility": null,
            "width": null
          }
        },
        "6d912cbdf7f24f07a8bb4f87b305dded": {
          "model_module": "@jupyter-widgets/base",
          "model_name": "LayoutModel",
          "model_module_version": "1.2.0",
          "state": {
            "_model_module": "@jupyter-widgets/base",
            "_model_module_version": "1.2.0",
            "_model_name": "LayoutModel",
            "_view_count": null,
            "_view_module": "@jupyter-widgets/base",
            "_view_module_version": "1.2.0",
            "_view_name": "LayoutView",
            "align_content": null,
            "align_items": null,
            "align_self": null,
            "border": null,
            "bottom": null,
            "display": null,
            "flex": null,
            "flex_flow": null,
            "grid_area": null,
            "grid_auto_columns": null,
            "grid_auto_flow": null,
            "grid_auto_rows": null,
            "grid_column": null,
            "grid_gap": null,
            "grid_row": null,
            "grid_template_areas": null,
            "grid_template_columns": null,
            "grid_template_rows": null,
            "height": null,
            "justify_content": null,
            "justify_items": null,
            "left": null,
            "margin": null,
            "max_height": null,
            "max_width": null,
            "min_height": null,
            "min_width": null,
            "object_fit": null,
            "object_position": null,
            "order": null,
            "overflow": null,
            "overflow_x": null,
            "overflow_y": null,
            "padding": null,
            "right": null,
            "top": null,
            "visibility": null,
            "width": null
          }
        },
        "7bc46592f1444c5ab551bdf6cd36ec51": {
          "model_module": "@jupyter-widgets/controls",
          "model_name": "DescriptionStyleModel",
          "model_module_version": "1.5.0",
          "state": {
            "_model_module": "@jupyter-widgets/controls",
            "_model_module_version": "1.5.0",
            "_model_name": "DescriptionStyleModel",
            "_view_count": null,
            "_view_module": "@jupyter-widgets/base",
            "_view_module_version": "1.2.0",
            "_view_name": "StyleView",
            "description_width": ""
          }
        },
        "6bef811b2835455d879d147ac20e5a65": {
          "model_module": "@jupyter-widgets/base",
          "model_name": "LayoutModel",
          "model_module_version": "1.2.0",
          "state": {
            "_model_module": "@jupyter-widgets/base",
            "_model_module_version": "1.2.0",
            "_model_name": "LayoutModel",
            "_view_count": null,
            "_view_module": "@jupyter-widgets/base",
            "_view_module_version": "1.2.0",
            "_view_name": "LayoutView",
            "align_content": null,
            "align_items": null,
            "align_self": null,
            "border": null,
            "bottom": null,
            "display": null,
            "flex": null,
            "flex_flow": null,
            "grid_area": null,
            "grid_auto_columns": null,
            "grid_auto_flow": null,
            "grid_auto_rows": null,
            "grid_column": null,
            "grid_gap": null,
            "grid_row": null,
            "grid_template_areas": null,
            "grid_template_columns": null,
            "grid_template_rows": null,
            "height": null,
            "justify_content": null,
            "justify_items": null,
            "left": null,
            "margin": null,
            "max_height": null,
            "max_width": null,
            "min_height": null,
            "min_width": null,
            "object_fit": null,
            "object_position": null,
            "order": null,
            "overflow": null,
            "overflow_x": null,
            "overflow_y": null,
            "padding": null,
            "right": null,
            "top": null,
            "visibility": null,
            "width": null
          }
        },
        "83a4aa61bfaf41188262e3a7ca8105a2": {
          "model_module": "@jupyter-widgets/controls",
          "model_name": "ProgressStyleModel",
          "model_module_version": "1.5.0",
          "state": {
            "_model_module": "@jupyter-widgets/controls",
            "_model_module_version": "1.5.0",
            "_model_name": "ProgressStyleModel",
            "_view_count": null,
            "_view_module": "@jupyter-widgets/base",
            "_view_module_version": "1.2.0",
            "_view_name": "StyleView",
            "bar_color": null,
            "description_width": ""
          }
        },
        "b3ac45eb4e244aff9e81ca332c67e012": {
          "model_module": "@jupyter-widgets/base",
          "model_name": "LayoutModel",
          "model_module_version": "1.2.0",
          "state": {
            "_model_module": "@jupyter-widgets/base",
            "_model_module_version": "1.2.0",
            "_model_name": "LayoutModel",
            "_view_count": null,
            "_view_module": "@jupyter-widgets/base",
            "_view_module_version": "1.2.0",
            "_view_name": "LayoutView",
            "align_content": null,
            "align_items": null,
            "align_self": null,
            "border": null,
            "bottom": null,
            "display": null,
            "flex": null,
            "flex_flow": null,
            "grid_area": null,
            "grid_auto_columns": null,
            "grid_auto_flow": null,
            "grid_auto_rows": null,
            "grid_column": null,
            "grid_gap": null,
            "grid_row": null,
            "grid_template_areas": null,
            "grid_template_columns": null,
            "grid_template_rows": null,
            "height": null,
            "justify_content": null,
            "justify_items": null,
            "left": null,
            "margin": null,
            "max_height": null,
            "max_width": null,
            "min_height": null,
            "min_width": null,
            "object_fit": null,
            "object_position": null,
            "order": null,
            "overflow": null,
            "overflow_x": null,
            "overflow_y": null,
            "padding": null,
            "right": null,
            "top": null,
            "visibility": null,
            "width": null
          }
        },
        "d24aab0022a24eac93715a0a66c7b2c7": {
          "model_module": "@jupyter-widgets/controls",
          "model_name": "DescriptionStyleModel",
          "model_module_version": "1.5.0",
          "state": {
            "_model_module": "@jupyter-widgets/controls",
            "_model_module_version": "1.5.0",
            "_model_name": "DescriptionStyleModel",
            "_view_count": null,
            "_view_module": "@jupyter-widgets/base",
            "_view_module_version": "1.2.0",
            "_view_name": "StyleView",
            "description_width": ""
          }
        },
        "44624db0af0b4f04872bf8fcf5554634": {
          "model_module": "@jupyter-widgets/controls",
          "model_name": "HBoxModel",
          "model_module_version": "1.5.0",
          "state": {
            "_dom_classes": [],
            "_model_module": "@jupyter-widgets/controls",
            "_model_module_version": "1.5.0",
            "_model_name": "HBoxModel",
            "_view_count": null,
            "_view_module": "@jupyter-widgets/controls",
            "_view_module_version": "1.5.0",
            "_view_name": "HBoxView",
            "box_style": "",
            "children": [
              "IPY_MODEL_79cf7d1d568f43168c2a339dedf31a58",
              "IPY_MODEL_75e58537b25b483780e599971ebd1042",
              "IPY_MODEL_8aef03197f87460c8263ec980091e259"
            ],
            "layout": "IPY_MODEL_a31ace03da9a4bc9bbf0b0267dd39346"
          }
        },
        "79cf7d1d568f43168c2a339dedf31a58": {
          "model_module": "@jupyter-widgets/controls",
          "model_name": "HTMLModel",
          "model_module_version": "1.5.0",
          "state": {
            "_dom_classes": [],
            "_model_module": "@jupyter-widgets/controls",
            "_model_module_version": "1.5.0",
            "_model_name": "HTMLModel",
            "_view_count": null,
            "_view_module": "@jupyter-widgets/controls",
            "_view_module_version": "1.5.0",
            "_view_name": "HTMLView",
            "description": "",
            "description_tooltip": null,
            "layout": "IPY_MODEL_cfaad349b8c54acba89826f0b4d77dec",
            "placeholder": "​",
            "style": "IPY_MODEL_747a37d0459d49a39d31be161414c18c",
            "value": "Extracting data files: 100%"
          }
        },
        "75e58537b25b483780e599971ebd1042": {
          "model_module": "@jupyter-widgets/controls",
          "model_name": "FloatProgressModel",
          "model_module_version": "1.5.0",
          "state": {
            "_dom_classes": [],
            "_model_module": "@jupyter-widgets/controls",
            "_model_module_version": "1.5.0",
            "_model_name": "FloatProgressModel",
            "_view_count": null,
            "_view_module": "@jupyter-widgets/controls",
            "_view_module_version": "1.5.0",
            "_view_name": "ProgressView",
            "bar_style": "success",
            "description": "",
            "description_tooltip": null,
            "layout": "IPY_MODEL_f00418716409471ea9847f0762dce60d",
            "max": 3,
            "min": 0,
            "orientation": "horizontal",
            "style": "IPY_MODEL_320873f31e2c4c15ac7c9e844f7289e2",
            "value": 3
          }
        },
        "8aef03197f87460c8263ec980091e259": {
          "model_module": "@jupyter-widgets/controls",
          "model_name": "HTMLModel",
          "model_module_version": "1.5.0",
          "state": {
            "_dom_classes": [],
            "_model_module": "@jupyter-widgets/controls",
            "_model_module_version": "1.5.0",
            "_model_name": "HTMLModel",
            "_view_count": null,
            "_view_module": "@jupyter-widgets/controls",
            "_view_module_version": "1.5.0",
            "_view_name": "HTMLView",
            "description": "",
            "description_tooltip": null,
            "layout": "IPY_MODEL_f29b6a21bfd84ae89e66563808a214ae",
            "placeholder": "​",
            "style": "IPY_MODEL_8a3ab6da06d74f7a817dabd348044486",
            "value": " 3/3 [00:00&lt;00:00, 136.36it/s]"
          }
        },
        "a31ace03da9a4bc9bbf0b0267dd39346": {
          "model_module": "@jupyter-widgets/base",
          "model_name": "LayoutModel",
          "model_module_version": "1.2.0",
          "state": {
            "_model_module": "@jupyter-widgets/base",
            "_model_module_version": "1.2.0",
            "_model_name": "LayoutModel",
            "_view_count": null,
            "_view_module": "@jupyter-widgets/base",
            "_view_module_version": "1.2.0",
            "_view_name": "LayoutView",
            "align_content": null,
            "align_items": null,
            "align_self": null,
            "border": null,
            "bottom": null,
            "display": null,
            "flex": null,
            "flex_flow": null,
            "grid_area": null,
            "grid_auto_columns": null,
            "grid_auto_flow": null,
            "grid_auto_rows": null,
            "grid_column": null,
            "grid_gap": null,
            "grid_row": null,
            "grid_template_areas": null,
            "grid_template_columns": null,
            "grid_template_rows": null,
            "height": null,
            "justify_content": null,
            "justify_items": null,
            "left": null,
            "margin": null,
            "max_height": null,
            "max_width": null,
            "min_height": null,
            "min_width": null,
            "object_fit": null,
            "object_position": null,
            "order": null,
            "overflow": null,
            "overflow_x": null,
            "overflow_y": null,
            "padding": null,
            "right": null,
            "top": null,
            "visibility": null,
            "width": null
          }
        },
        "cfaad349b8c54acba89826f0b4d77dec": {
          "model_module": "@jupyter-widgets/base",
          "model_name": "LayoutModel",
          "model_module_version": "1.2.0",
          "state": {
            "_model_module": "@jupyter-widgets/base",
            "_model_module_version": "1.2.0",
            "_model_name": "LayoutModel",
            "_view_count": null,
            "_view_module": "@jupyter-widgets/base",
            "_view_module_version": "1.2.0",
            "_view_name": "LayoutView",
            "align_content": null,
            "align_items": null,
            "align_self": null,
            "border": null,
            "bottom": null,
            "display": null,
            "flex": null,
            "flex_flow": null,
            "grid_area": null,
            "grid_auto_columns": null,
            "grid_auto_flow": null,
            "grid_auto_rows": null,
            "grid_column": null,
            "grid_gap": null,
            "grid_row": null,
            "grid_template_areas": null,
            "grid_template_columns": null,
            "grid_template_rows": null,
            "height": null,
            "justify_content": null,
            "justify_items": null,
            "left": null,
            "margin": null,
            "max_height": null,
            "max_width": null,
            "min_height": null,
            "min_width": null,
            "object_fit": null,
            "object_position": null,
            "order": null,
            "overflow": null,
            "overflow_x": null,
            "overflow_y": null,
            "padding": null,
            "right": null,
            "top": null,
            "visibility": null,
            "width": null
          }
        },
        "747a37d0459d49a39d31be161414c18c": {
          "model_module": "@jupyter-widgets/controls",
          "model_name": "DescriptionStyleModel",
          "model_module_version": "1.5.0",
          "state": {
            "_model_module": "@jupyter-widgets/controls",
            "_model_module_version": "1.5.0",
            "_model_name": "DescriptionStyleModel",
            "_view_count": null,
            "_view_module": "@jupyter-widgets/base",
            "_view_module_version": "1.2.0",
            "_view_name": "StyleView",
            "description_width": ""
          }
        },
        "f00418716409471ea9847f0762dce60d": {
          "model_module": "@jupyter-widgets/base",
          "model_name": "LayoutModel",
          "model_module_version": "1.2.0",
          "state": {
            "_model_module": "@jupyter-widgets/base",
            "_model_module_version": "1.2.0",
            "_model_name": "LayoutModel",
            "_view_count": null,
            "_view_module": "@jupyter-widgets/base",
            "_view_module_version": "1.2.0",
            "_view_name": "LayoutView",
            "align_content": null,
            "align_items": null,
            "align_self": null,
            "border": null,
            "bottom": null,
            "display": null,
            "flex": null,
            "flex_flow": null,
            "grid_area": null,
            "grid_auto_columns": null,
            "grid_auto_flow": null,
            "grid_auto_rows": null,
            "grid_column": null,
            "grid_gap": null,
            "grid_row": null,
            "grid_template_areas": null,
            "grid_template_columns": null,
            "grid_template_rows": null,
            "height": null,
            "justify_content": null,
            "justify_items": null,
            "left": null,
            "margin": null,
            "max_height": null,
            "max_width": null,
            "min_height": null,
            "min_width": null,
            "object_fit": null,
            "object_position": null,
            "order": null,
            "overflow": null,
            "overflow_x": null,
            "overflow_y": null,
            "padding": null,
            "right": null,
            "top": null,
            "visibility": null,
            "width": null
          }
        },
        "320873f31e2c4c15ac7c9e844f7289e2": {
          "model_module": "@jupyter-widgets/controls",
          "model_name": "ProgressStyleModel",
          "model_module_version": "1.5.0",
          "state": {
            "_model_module": "@jupyter-widgets/controls",
            "_model_module_version": "1.5.0",
            "_model_name": "ProgressStyleModel",
            "_view_count": null,
            "_view_module": "@jupyter-widgets/base",
            "_view_module_version": "1.2.0",
            "_view_name": "StyleView",
            "bar_color": null,
            "description_width": ""
          }
        },
        "f29b6a21bfd84ae89e66563808a214ae": {
          "model_module": "@jupyter-widgets/base",
          "model_name": "LayoutModel",
          "model_module_version": "1.2.0",
          "state": {
            "_model_module": "@jupyter-widgets/base",
            "_model_module_version": "1.2.0",
            "_model_name": "LayoutModel",
            "_view_count": null,
            "_view_module": "@jupyter-widgets/base",
            "_view_module_version": "1.2.0",
            "_view_name": "LayoutView",
            "align_content": null,
            "align_items": null,
            "align_self": null,
            "border": null,
            "bottom": null,
            "display": null,
            "flex": null,
            "flex_flow": null,
            "grid_area": null,
            "grid_auto_columns": null,
            "grid_auto_flow": null,
            "grid_auto_rows": null,
            "grid_column": null,
            "grid_gap": null,
            "grid_row": null,
            "grid_template_areas": null,
            "grid_template_columns": null,
            "grid_template_rows": null,
            "height": null,
            "justify_content": null,
            "justify_items": null,
            "left": null,
            "margin": null,
            "max_height": null,
            "max_width": null,
            "min_height": null,
            "min_width": null,
            "object_fit": null,
            "object_position": null,
            "order": null,
            "overflow": null,
            "overflow_x": null,
            "overflow_y": null,
            "padding": null,
            "right": null,
            "top": null,
            "visibility": null,
            "width": null
          }
        },
        "8a3ab6da06d74f7a817dabd348044486": {
          "model_module": "@jupyter-widgets/controls",
          "model_name": "DescriptionStyleModel",
          "model_module_version": "1.5.0",
          "state": {
            "_model_module": "@jupyter-widgets/controls",
            "_model_module_version": "1.5.0",
            "_model_name": "DescriptionStyleModel",
            "_view_count": null,
            "_view_module": "@jupyter-widgets/base",
            "_view_module_version": "1.2.0",
            "_view_name": "StyleView",
            "description_width": ""
          }
        },
        "8110515d4e15405e9274332a1abeea4a": {
          "model_module": "@jupyter-widgets/controls",
          "model_name": "HBoxModel",
          "model_module_version": "1.5.0",
          "state": {
            "_dom_classes": [],
            "_model_module": "@jupyter-widgets/controls",
            "_model_module_version": "1.5.0",
            "_model_name": "HBoxModel",
            "_view_count": null,
            "_view_module": "@jupyter-widgets/controls",
            "_view_module_version": "1.5.0",
            "_view_name": "HBoxView",
            "box_style": "",
            "children": [
              "IPY_MODEL_f88d5772840b48ac9efc33bcbba6416b",
              "IPY_MODEL_e3d480576e7e49b385c35eddb266b5b1",
              "IPY_MODEL_982f402ad6f049d6a053f0b074a5c191"
            ],
            "layout": "IPY_MODEL_678a95258ba24922a597f364f49fc211"
          }
        },
        "f88d5772840b48ac9efc33bcbba6416b": {
          "model_module": "@jupyter-widgets/controls",
          "model_name": "HTMLModel",
          "model_module_version": "1.5.0",
          "state": {
            "_dom_classes": [],
            "_model_module": "@jupyter-widgets/controls",
            "_model_module_version": "1.5.0",
            "_model_name": "HTMLModel",
            "_view_count": null,
            "_view_module": "@jupyter-widgets/controls",
            "_view_module_version": "1.5.0",
            "_view_name": "HTMLView",
            "description": "",
            "description_tooltip": null,
            "layout": "IPY_MODEL_bb05fb7a17e047fcac1bc4b9e2c76a72",
            "placeholder": "​",
            "style": "IPY_MODEL_e0bd37b1febe4e7da9e8f52f2691abc2",
            "value": "Generating train split: "
          }
        },
        "e3d480576e7e49b385c35eddb266b5b1": {
          "model_module": "@jupyter-widgets/controls",
          "model_name": "FloatProgressModel",
          "model_module_version": "1.5.0",
          "state": {
            "_dom_classes": [],
            "_model_module": "@jupyter-widgets/controls",
            "_model_module_version": "1.5.0",
            "_model_name": "FloatProgressModel",
            "_view_count": null,
            "_view_module": "@jupyter-widgets/controls",
            "_view_module_version": "1.5.0",
            "_view_name": "ProgressView",
            "bar_style": "info",
            "description": "",
            "description_tooltip": null,
            "layout": "IPY_MODEL_e52047e827b548d5aeab287160dcae2e",
            "max": 1,
            "min": 0,
            "orientation": "horizontal",
            "style": "IPY_MODEL_652f8ecf64674261bbbd73b4e014e816",
            "value": 1
          }
        },
        "982f402ad6f049d6a053f0b074a5c191": {
          "model_module": "@jupyter-widgets/controls",
          "model_name": "HTMLModel",
          "model_module_version": "1.5.0",
          "state": {
            "_dom_classes": [],
            "_model_module": "@jupyter-widgets/controls",
            "_model_module_version": "1.5.0",
            "_model_name": "HTMLModel",
            "_view_count": null,
            "_view_module": "@jupyter-widgets/controls",
            "_view_module_version": "1.5.0",
            "_view_name": "HTMLView",
            "description": "",
            "description_tooltip": null,
            "layout": "IPY_MODEL_84333e4b35104898b62a1bc88eda6e27",
            "placeholder": "​",
            "style": "IPY_MODEL_d9aeb9eed3eb48f78be2bc0aa6402794",
            "value": " 10000/0 [00:00&lt;00:00, 56828.54 examples/s]"
          }
        },
        "678a95258ba24922a597f364f49fc211": {
          "model_module": "@jupyter-widgets/base",
          "model_name": "LayoutModel",
          "model_module_version": "1.2.0",
          "state": {
            "_model_module": "@jupyter-widgets/base",
            "_model_module_version": "1.2.0",
            "_model_name": "LayoutModel",
            "_view_count": null,
            "_view_module": "@jupyter-widgets/base",
            "_view_module_version": "1.2.0",
            "_view_name": "LayoutView",
            "align_content": null,
            "align_items": null,
            "align_self": null,
            "border": null,
            "bottom": null,
            "display": null,
            "flex": null,
            "flex_flow": null,
            "grid_area": null,
            "grid_auto_columns": null,
            "grid_auto_flow": null,
            "grid_auto_rows": null,
            "grid_column": null,
            "grid_gap": null,
            "grid_row": null,
            "grid_template_areas": null,
            "grid_template_columns": null,
            "grid_template_rows": null,
            "height": null,
            "justify_content": null,
            "justify_items": null,
            "left": null,
            "margin": null,
            "max_height": null,
            "max_width": null,
            "min_height": null,
            "min_width": null,
            "object_fit": null,
            "object_position": null,
            "order": null,
            "overflow": null,
            "overflow_x": null,
            "overflow_y": null,
            "padding": null,
            "right": null,
            "top": null,
            "visibility": "hidden",
            "width": null
          }
        },
        "bb05fb7a17e047fcac1bc4b9e2c76a72": {
          "model_module": "@jupyter-widgets/base",
          "model_name": "LayoutModel",
          "model_module_version": "1.2.0",
          "state": {
            "_model_module": "@jupyter-widgets/base",
            "_model_module_version": "1.2.0",
            "_model_name": "LayoutModel",
            "_view_count": null,
            "_view_module": "@jupyter-widgets/base",
            "_view_module_version": "1.2.0",
            "_view_name": "LayoutView",
            "align_content": null,
            "align_items": null,
            "align_self": null,
            "border": null,
            "bottom": null,
            "display": null,
            "flex": null,
            "flex_flow": null,
            "grid_area": null,
            "grid_auto_columns": null,
            "grid_auto_flow": null,
            "grid_auto_rows": null,
            "grid_column": null,
            "grid_gap": null,
            "grid_row": null,
            "grid_template_areas": null,
            "grid_template_columns": null,
            "grid_template_rows": null,
            "height": null,
            "justify_content": null,
            "justify_items": null,
            "left": null,
            "margin": null,
            "max_height": null,
            "max_width": null,
            "min_height": null,
            "min_width": null,
            "object_fit": null,
            "object_position": null,
            "order": null,
            "overflow": null,
            "overflow_x": null,
            "overflow_y": null,
            "padding": null,
            "right": null,
            "top": null,
            "visibility": null,
            "width": null
          }
        },
        "e0bd37b1febe4e7da9e8f52f2691abc2": {
          "model_module": "@jupyter-widgets/controls",
          "model_name": "DescriptionStyleModel",
          "model_module_version": "1.5.0",
          "state": {
            "_model_module": "@jupyter-widgets/controls",
            "_model_module_version": "1.5.0",
            "_model_name": "DescriptionStyleModel",
            "_view_count": null,
            "_view_module": "@jupyter-widgets/base",
            "_view_module_version": "1.2.0",
            "_view_name": "StyleView",
            "description_width": ""
          }
        },
        "e52047e827b548d5aeab287160dcae2e": {
          "model_module": "@jupyter-widgets/base",
          "model_name": "LayoutModel",
          "model_module_version": "1.2.0",
          "state": {
            "_model_module": "@jupyter-widgets/base",
            "_model_module_version": "1.2.0",
            "_model_name": "LayoutModel",
            "_view_count": null,
            "_view_module": "@jupyter-widgets/base",
            "_view_module_version": "1.2.0",
            "_view_name": "LayoutView",
            "align_content": null,
            "align_items": null,
            "align_self": null,
            "border": null,
            "bottom": null,
            "display": null,
            "flex": null,
            "flex_flow": null,
            "grid_area": null,
            "grid_auto_columns": null,
            "grid_auto_flow": null,
            "grid_auto_rows": null,
            "grid_column": null,
            "grid_gap": null,
            "grid_row": null,
            "grid_template_areas": null,
            "grid_template_columns": null,
            "grid_template_rows": null,
            "height": null,
            "justify_content": null,
            "justify_items": null,
            "left": null,
            "margin": null,
            "max_height": null,
            "max_width": null,
            "min_height": null,
            "min_width": null,
            "object_fit": null,
            "object_position": null,
            "order": null,
            "overflow": null,
            "overflow_x": null,
            "overflow_y": null,
            "padding": null,
            "right": null,
            "top": null,
            "visibility": null,
            "width": "20px"
          }
        },
        "652f8ecf64674261bbbd73b4e014e816": {
          "model_module": "@jupyter-widgets/controls",
          "model_name": "ProgressStyleModel",
          "model_module_version": "1.5.0",
          "state": {
            "_model_module": "@jupyter-widgets/controls",
            "_model_module_version": "1.5.0",
            "_model_name": "ProgressStyleModel",
            "_view_count": null,
            "_view_module": "@jupyter-widgets/base",
            "_view_module_version": "1.2.0",
            "_view_name": "StyleView",
            "bar_color": null,
            "description_width": ""
          }
        },
        "84333e4b35104898b62a1bc88eda6e27": {
          "model_module": "@jupyter-widgets/base",
          "model_name": "LayoutModel",
          "model_module_version": "1.2.0",
          "state": {
            "_model_module": "@jupyter-widgets/base",
            "_model_module_version": "1.2.0",
            "_model_name": "LayoutModel",
            "_view_count": null,
            "_view_module": "@jupyter-widgets/base",
            "_view_module_version": "1.2.0",
            "_view_name": "LayoutView",
            "align_content": null,
            "align_items": null,
            "align_self": null,
            "border": null,
            "bottom": null,
            "display": null,
            "flex": null,
            "flex_flow": null,
            "grid_area": null,
            "grid_auto_columns": null,
            "grid_auto_flow": null,
            "grid_auto_rows": null,
            "grid_column": null,
            "grid_gap": null,
            "grid_row": null,
            "grid_template_areas": null,
            "grid_template_columns": null,
            "grid_template_rows": null,
            "height": null,
            "justify_content": null,
            "justify_items": null,
            "left": null,
            "margin": null,
            "max_height": null,
            "max_width": null,
            "min_height": null,
            "min_width": null,
            "object_fit": null,
            "object_position": null,
            "order": null,
            "overflow": null,
            "overflow_x": null,
            "overflow_y": null,
            "padding": null,
            "right": null,
            "top": null,
            "visibility": null,
            "width": null
          }
        },
        "d9aeb9eed3eb48f78be2bc0aa6402794": {
          "model_module": "@jupyter-widgets/controls",
          "model_name": "DescriptionStyleModel",
          "model_module_version": "1.5.0",
          "state": {
            "_model_module": "@jupyter-widgets/controls",
            "_model_module_version": "1.5.0",
            "_model_name": "DescriptionStyleModel",
            "_view_count": null,
            "_view_module": "@jupyter-widgets/base",
            "_view_module_version": "1.2.0",
            "_view_name": "StyleView",
            "description_width": ""
          }
        },
        "756870922232458cbee8588b14d7c51c": {
          "model_module": "@jupyter-widgets/controls",
          "model_name": "HBoxModel",
          "model_module_version": "1.5.0",
          "state": {
            "_dom_classes": [],
            "_model_module": "@jupyter-widgets/controls",
            "_model_module_version": "1.5.0",
            "_model_name": "HBoxModel",
            "_view_count": null,
            "_view_module": "@jupyter-widgets/controls",
            "_view_module_version": "1.5.0",
            "_view_name": "HBoxView",
            "box_style": "",
            "children": [
              "IPY_MODEL_8bf76a2207b94273968e478d2caf04a7",
              "IPY_MODEL_79e0a31356a54f509f872aa94f383b36",
              "IPY_MODEL_bbdcc782f3694333b7296b9848b3bf72"
            ],
            "layout": "IPY_MODEL_3d2a0e549b8b48fcb9de890d96e2bed6"
          }
        },
        "8bf76a2207b94273968e478d2caf04a7": {
          "model_module": "@jupyter-widgets/controls",
          "model_name": "HTMLModel",
          "model_module_version": "1.5.0",
          "state": {
            "_dom_classes": [],
            "_model_module": "@jupyter-widgets/controls",
            "_model_module_version": "1.5.0",
            "_model_name": "HTMLModel",
            "_view_count": null,
            "_view_module": "@jupyter-widgets/controls",
            "_view_module_version": "1.5.0",
            "_view_name": "HTMLView",
            "description": "",
            "description_tooltip": null,
            "layout": "IPY_MODEL_b5ccb1a89260429ca06c04e86298309d",
            "placeholder": "​",
            "style": "IPY_MODEL_12b9a927ff0841eb8fa377cf883a100b",
            "value": "Generating test split: "
          }
        },
        "79e0a31356a54f509f872aa94f383b36": {
          "model_module": "@jupyter-widgets/controls",
          "model_name": "FloatProgressModel",
          "model_module_version": "1.5.0",
          "state": {
            "_dom_classes": [],
            "_model_module": "@jupyter-widgets/controls",
            "_model_module_version": "1.5.0",
            "_model_name": "FloatProgressModel",
            "_view_count": null,
            "_view_module": "@jupyter-widgets/controls",
            "_view_module_version": "1.5.0",
            "_view_name": "ProgressView",
            "bar_style": "info",
            "description": "",
            "description_tooltip": null,
            "layout": "IPY_MODEL_37282a1343be4f5595c144c8f766b1f3",
            "max": 1,
            "min": 0,
            "orientation": "horizontal",
            "style": "IPY_MODEL_26802d9f95f84fc199661f662acd4eef",
            "value": 1
          }
        },
        "bbdcc782f3694333b7296b9848b3bf72": {
          "model_module": "@jupyter-widgets/controls",
          "model_name": "HTMLModel",
          "model_module_version": "1.5.0",
          "state": {
            "_dom_classes": [],
            "_model_module": "@jupyter-widgets/controls",
            "_model_module_version": "1.5.0",
            "_model_name": "HTMLModel",
            "_view_count": null,
            "_view_module": "@jupyter-widgets/controls",
            "_view_module_version": "1.5.0",
            "_view_name": "HTMLView",
            "description": "",
            "description_tooltip": null,
            "layout": "IPY_MODEL_e79a29069f954fba9c41591e501fd2da",
            "placeholder": "​",
            "style": "IPY_MODEL_9ca5a2761c31432da653aa9f4e425fdd",
            "value": " 0/0 [00:00&lt;?, ? examples/s]"
          }
        },
        "3d2a0e549b8b48fcb9de890d96e2bed6": {
          "model_module": "@jupyter-widgets/base",
          "model_name": "LayoutModel",
          "model_module_version": "1.2.0",
          "state": {
            "_model_module": "@jupyter-widgets/base",
            "_model_module_version": "1.2.0",
            "_model_name": "LayoutModel",
            "_view_count": null,
            "_view_module": "@jupyter-widgets/base",
            "_view_module_version": "1.2.0",
            "_view_name": "LayoutView",
            "align_content": null,
            "align_items": null,
            "align_self": null,
            "border": null,
            "bottom": null,
            "display": null,
            "flex": null,
            "flex_flow": null,
            "grid_area": null,
            "grid_auto_columns": null,
            "grid_auto_flow": null,
            "grid_auto_rows": null,
            "grid_column": null,
            "grid_gap": null,
            "grid_row": null,
            "grid_template_areas": null,
            "grid_template_columns": null,
            "grid_template_rows": null,
            "height": null,
            "justify_content": null,
            "justify_items": null,
            "left": null,
            "margin": null,
            "max_height": null,
            "max_width": null,
            "min_height": null,
            "min_width": null,
            "object_fit": null,
            "object_position": null,
            "order": null,
            "overflow": null,
            "overflow_x": null,
            "overflow_y": null,
            "padding": null,
            "right": null,
            "top": null,
            "visibility": "hidden",
            "width": null
          }
        },
        "b5ccb1a89260429ca06c04e86298309d": {
          "model_module": "@jupyter-widgets/base",
          "model_name": "LayoutModel",
          "model_module_version": "1.2.0",
          "state": {
            "_model_module": "@jupyter-widgets/base",
            "_model_module_version": "1.2.0",
            "_model_name": "LayoutModel",
            "_view_count": null,
            "_view_module": "@jupyter-widgets/base",
            "_view_module_version": "1.2.0",
            "_view_name": "LayoutView",
            "align_content": null,
            "align_items": null,
            "align_self": null,
            "border": null,
            "bottom": null,
            "display": null,
            "flex": null,
            "flex_flow": null,
            "grid_area": null,
            "grid_auto_columns": null,
            "grid_auto_flow": null,
            "grid_auto_rows": null,
            "grid_column": null,
            "grid_gap": null,
            "grid_row": null,
            "grid_template_areas": null,
            "grid_template_columns": null,
            "grid_template_rows": null,
            "height": null,
            "justify_content": null,
            "justify_items": null,
            "left": null,
            "margin": null,
            "max_height": null,
            "max_width": null,
            "min_height": null,
            "min_width": null,
            "object_fit": null,
            "object_position": null,
            "order": null,
            "overflow": null,
            "overflow_x": null,
            "overflow_y": null,
            "padding": null,
            "right": null,
            "top": null,
            "visibility": null,
            "width": null
          }
        },
        "12b9a927ff0841eb8fa377cf883a100b": {
          "model_module": "@jupyter-widgets/controls",
          "model_name": "DescriptionStyleModel",
          "model_module_version": "1.5.0",
          "state": {
            "_model_module": "@jupyter-widgets/controls",
            "_model_module_version": "1.5.0",
            "_model_name": "DescriptionStyleModel",
            "_view_count": null,
            "_view_module": "@jupyter-widgets/base",
            "_view_module_version": "1.2.0",
            "_view_name": "StyleView",
            "description_width": ""
          }
        },
        "37282a1343be4f5595c144c8f766b1f3": {
          "model_module": "@jupyter-widgets/base",
          "model_name": "LayoutModel",
          "model_module_version": "1.2.0",
          "state": {
            "_model_module": "@jupyter-widgets/base",
            "_model_module_version": "1.2.0",
            "_model_name": "LayoutModel",
            "_view_count": null,
            "_view_module": "@jupyter-widgets/base",
            "_view_module_version": "1.2.0",
            "_view_name": "LayoutView",
            "align_content": null,
            "align_items": null,
            "align_self": null,
            "border": null,
            "bottom": null,
            "display": null,
            "flex": null,
            "flex_flow": null,
            "grid_area": null,
            "grid_auto_columns": null,
            "grid_auto_flow": null,
            "grid_auto_rows": null,
            "grid_column": null,
            "grid_gap": null,
            "grid_row": null,
            "grid_template_areas": null,
            "grid_template_columns": null,
            "grid_template_rows": null,
            "height": null,
            "justify_content": null,
            "justify_items": null,
            "left": null,
            "margin": null,
            "max_height": null,
            "max_width": null,
            "min_height": null,
            "min_width": null,
            "object_fit": null,
            "object_position": null,
            "order": null,
            "overflow": null,
            "overflow_x": null,
            "overflow_y": null,
            "padding": null,
            "right": null,
            "top": null,
            "visibility": null,
            "width": "20px"
          }
        },
        "26802d9f95f84fc199661f662acd4eef": {
          "model_module": "@jupyter-widgets/controls",
          "model_name": "ProgressStyleModel",
          "model_module_version": "1.5.0",
          "state": {
            "_model_module": "@jupyter-widgets/controls",
            "_model_module_version": "1.5.0",
            "_model_name": "ProgressStyleModel",
            "_view_count": null,
            "_view_module": "@jupyter-widgets/base",
            "_view_module_version": "1.2.0",
            "_view_name": "StyleView",
            "bar_color": null,
            "description_width": ""
          }
        },
        "e79a29069f954fba9c41591e501fd2da": {
          "model_module": "@jupyter-widgets/base",
          "model_name": "LayoutModel",
          "model_module_version": "1.2.0",
          "state": {
            "_model_module": "@jupyter-widgets/base",
            "_model_module_version": "1.2.0",
            "_model_name": "LayoutModel",
            "_view_count": null,
            "_view_module": "@jupyter-widgets/base",
            "_view_module_version": "1.2.0",
            "_view_name": "LayoutView",
            "align_content": null,
            "align_items": null,
            "align_self": null,
            "border": null,
            "bottom": null,
            "display": null,
            "flex": null,
            "flex_flow": null,
            "grid_area": null,
            "grid_auto_columns": null,
            "grid_auto_flow": null,
            "grid_auto_rows": null,
            "grid_column": null,
            "grid_gap": null,
            "grid_row": null,
            "grid_template_areas": null,
            "grid_template_columns": null,
            "grid_template_rows": null,
            "height": null,
            "justify_content": null,
            "justify_items": null,
            "left": null,
            "margin": null,
            "max_height": null,
            "max_width": null,
            "min_height": null,
            "min_width": null,
            "object_fit": null,
            "object_position": null,
            "order": null,
            "overflow": null,
            "overflow_x": null,
            "overflow_y": null,
            "padding": null,
            "right": null,
            "top": null,
            "visibility": null,
            "width": null
          }
        },
        "9ca5a2761c31432da653aa9f4e425fdd": {
          "model_module": "@jupyter-widgets/controls",
          "model_name": "DescriptionStyleModel",
          "model_module_version": "1.5.0",
          "state": {
            "_model_module": "@jupyter-widgets/controls",
            "_model_module_version": "1.5.0",
            "_model_name": "DescriptionStyleModel",
            "_view_count": null,
            "_view_module": "@jupyter-widgets/base",
            "_view_module_version": "1.2.0",
            "_view_name": "StyleView",
            "description_width": ""
          }
        },
        "667ee0de475a4e5e9e64219ee69ecffa": {
          "model_module": "@jupyter-widgets/controls",
          "model_name": "HBoxModel",
          "model_module_version": "1.5.0",
          "state": {
            "_dom_classes": [],
            "_model_module": "@jupyter-widgets/controls",
            "_model_module_version": "1.5.0",
            "_model_name": "HBoxModel",
            "_view_count": null,
            "_view_module": "@jupyter-widgets/controls",
            "_view_module_version": "1.5.0",
            "_view_name": "HBoxView",
            "box_style": "",
            "children": [
              "IPY_MODEL_2e6f09c8e30d4dc4bb571971e4c5a8a9",
              "IPY_MODEL_0d058a506094448eb3671395f1ee477b",
              "IPY_MODEL_e8f6bf07b814419fa9f82dccdcf0ecce"
            ],
            "layout": "IPY_MODEL_a9f80ceeb2574cefb5ef8625c1d81d8e"
          }
        },
        "2e6f09c8e30d4dc4bb571971e4c5a8a9": {
          "model_module": "@jupyter-widgets/controls",
          "model_name": "HTMLModel",
          "model_module_version": "1.5.0",
          "state": {
            "_dom_classes": [],
            "_model_module": "@jupyter-widgets/controls",
            "_model_module_version": "1.5.0",
            "_model_name": "HTMLModel",
            "_view_count": null,
            "_view_module": "@jupyter-widgets/controls",
            "_view_module_version": "1.5.0",
            "_view_name": "HTMLView",
            "description": "",
            "description_tooltip": null,
            "layout": "IPY_MODEL_5b9cb2ebaaf4433da2d71488cc449b54",
            "placeholder": "​",
            "style": "IPY_MODEL_ea6d4220a4984dbab66a3ff4b5c3ccf7",
            "value": "Generating validation split: "
          }
        },
        "0d058a506094448eb3671395f1ee477b": {
          "model_module": "@jupyter-widgets/controls",
          "model_name": "FloatProgressModel",
          "model_module_version": "1.5.0",
          "state": {
            "_dom_classes": [],
            "_model_module": "@jupyter-widgets/controls",
            "_model_module_version": "1.5.0",
            "_model_name": "FloatProgressModel",
            "_view_count": null,
            "_view_module": "@jupyter-widgets/controls",
            "_view_module_version": "1.5.0",
            "_view_name": "ProgressView",
            "bar_style": "info",
            "description": "",
            "description_tooltip": null,
            "layout": "IPY_MODEL_f037589768ae4b55b986d83edb4467fc",
            "max": 1,
            "min": 0,
            "orientation": "horizontal",
            "style": "IPY_MODEL_a72b012d3f094a12b3f5f92c1f1ac3fe",
            "value": 1
          }
        },
        "e8f6bf07b814419fa9f82dccdcf0ecce": {
          "model_module": "@jupyter-widgets/controls",
          "model_name": "HTMLModel",
          "model_module_version": "1.5.0",
          "state": {
            "_dom_classes": [],
            "_model_module": "@jupyter-widgets/controls",
            "_model_module_version": "1.5.0",
            "_model_name": "HTMLModel",
            "_view_count": null,
            "_view_module": "@jupyter-widgets/controls",
            "_view_module_version": "1.5.0",
            "_view_name": "HTMLView",
            "description": "",
            "description_tooltip": null,
            "layout": "IPY_MODEL_ebf1c3a6141a428fbd5085f003d749f5",
            "placeholder": "​",
            "style": "IPY_MODEL_ee60afdc87804e6aa76ebfb457ee22e9",
            "value": " 0/0 [00:00&lt;?, ? examples/s]"
          }
        },
        "a9f80ceeb2574cefb5ef8625c1d81d8e": {
          "model_module": "@jupyter-widgets/base",
          "model_name": "LayoutModel",
          "model_module_version": "1.2.0",
          "state": {
            "_model_module": "@jupyter-widgets/base",
            "_model_module_version": "1.2.0",
            "_model_name": "LayoutModel",
            "_view_count": null,
            "_view_module": "@jupyter-widgets/base",
            "_view_module_version": "1.2.0",
            "_view_name": "LayoutView",
            "align_content": null,
            "align_items": null,
            "align_self": null,
            "border": null,
            "bottom": null,
            "display": null,
            "flex": null,
            "flex_flow": null,
            "grid_area": null,
            "grid_auto_columns": null,
            "grid_auto_flow": null,
            "grid_auto_rows": null,
            "grid_column": null,
            "grid_gap": null,
            "grid_row": null,
            "grid_template_areas": null,
            "grid_template_columns": null,
            "grid_template_rows": null,
            "height": null,
            "justify_content": null,
            "justify_items": null,
            "left": null,
            "margin": null,
            "max_height": null,
            "max_width": null,
            "min_height": null,
            "min_width": null,
            "object_fit": null,
            "object_position": null,
            "order": null,
            "overflow": null,
            "overflow_x": null,
            "overflow_y": null,
            "padding": null,
            "right": null,
            "top": null,
            "visibility": "hidden",
            "width": null
          }
        },
        "5b9cb2ebaaf4433da2d71488cc449b54": {
          "model_module": "@jupyter-widgets/base",
          "model_name": "LayoutModel",
          "model_module_version": "1.2.0",
          "state": {
            "_model_module": "@jupyter-widgets/base",
            "_model_module_version": "1.2.0",
            "_model_name": "LayoutModel",
            "_view_count": null,
            "_view_module": "@jupyter-widgets/base",
            "_view_module_version": "1.2.0",
            "_view_name": "LayoutView",
            "align_content": null,
            "align_items": null,
            "align_self": null,
            "border": null,
            "bottom": null,
            "display": null,
            "flex": null,
            "flex_flow": null,
            "grid_area": null,
            "grid_auto_columns": null,
            "grid_auto_flow": null,
            "grid_auto_rows": null,
            "grid_column": null,
            "grid_gap": null,
            "grid_row": null,
            "grid_template_areas": null,
            "grid_template_columns": null,
            "grid_template_rows": null,
            "height": null,
            "justify_content": null,
            "justify_items": null,
            "left": null,
            "margin": null,
            "max_height": null,
            "max_width": null,
            "min_height": null,
            "min_width": null,
            "object_fit": null,
            "object_position": null,
            "order": null,
            "overflow": null,
            "overflow_x": null,
            "overflow_y": null,
            "padding": null,
            "right": null,
            "top": null,
            "visibility": null,
            "width": null
          }
        },
        "ea6d4220a4984dbab66a3ff4b5c3ccf7": {
          "model_module": "@jupyter-widgets/controls",
          "model_name": "DescriptionStyleModel",
          "model_module_version": "1.5.0",
          "state": {
            "_model_module": "@jupyter-widgets/controls",
            "_model_module_version": "1.5.0",
            "_model_name": "DescriptionStyleModel",
            "_view_count": null,
            "_view_module": "@jupyter-widgets/base",
            "_view_module_version": "1.2.0",
            "_view_name": "StyleView",
            "description_width": ""
          }
        },
        "f037589768ae4b55b986d83edb4467fc": {
          "model_module": "@jupyter-widgets/base",
          "model_name": "LayoutModel",
          "model_module_version": "1.2.0",
          "state": {
            "_model_module": "@jupyter-widgets/base",
            "_model_module_version": "1.2.0",
            "_model_name": "LayoutModel",
            "_view_count": null,
            "_view_module": "@jupyter-widgets/base",
            "_view_module_version": "1.2.0",
            "_view_name": "LayoutView",
            "align_content": null,
            "align_items": null,
            "align_self": null,
            "border": null,
            "bottom": null,
            "display": null,
            "flex": null,
            "flex_flow": null,
            "grid_area": null,
            "grid_auto_columns": null,
            "grid_auto_flow": null,
            "grid_auto_rows": null,
            "grid_column": null,
            "grid_gap": null,
            "grid_row": null,
            "grid_template_areas": null,
            "grid_template_columns": null,
            "grid_template_rows": null,
            "height": null,
            "justify_content": null,
            "justify_items": null,
            "left": null,
            "margin": null,
            "max_height": null,
            "max_width": null,
            "min_height": null,
            "min_width": null,
            "object_fit": null,
            "object_position": null,
            "order": null,
            "overflow": null,
            "overflow_x": null,
            "overflow_y": null,
            "padding": null,
            "right": null,
            "top": null,
            "visibility": null,
            "width": "20px"
          }
        },
        "a72b012d3f094a12b3f5f92c1f1ac3fe": {
          "model_module": "@jupyter-widgets/controls",
          "model_name": "ProgressStyleModel",
          "model_module_version": "1.5.0",
          "state": {
            "_model_module": "@jupyter-widgets/controls",
            "_model_module_version": "1.5.0",
            "_model_name": "ProgressStyleModel",
            "_view_count": null,
            "_view_module": "@jupyter-widgets/base",
            "_view_module_version": "1.2.0",
            "_view_name": "StyleView",
            "bar_color": null,
            "description_width": ""
          }
        },
        "ebf1c3a6141a428fbd5085f003d749f5": {
          "model_module": "@jupyter-widgets/base",
          "model_name": "LayoutModel",
          "model_module_version": "1.2.0",
          "state": {
            "_model_module": "@jupyter-widgets/base",
            "_model_module_version": "1.2.0",
            "_model_name": "LayoutModel",
            "_view_count": null,
            "_view_module": "@jupyter-widgets/base",
            "_view_module_version": "1.2.0",
            "_view_name": "LayoutView",
            "align_content": null,
            "align_items": null,
            "align_self": null,
            "border": null,
            "bottom": null,
            "display": null,
            "flex": null,
            "flex_flow": null,
            "grid_area": null,
            "grid_auto_columns": null,
            "grid_auto_flow": null,
            "grid_auto_rows": null,
            "grid_column": null,
            "grid_gap": null,
            "grid_row": null,
            "grid_template_areas": null,
            "grid_template_columns": null,
            "grid_template_rows": null,
            "height": null,
            "justify_content": null,
            "justify_items": null,
            "left": null,
            "margin": null,
            "max_height": null,
            "max_width": null,
            "min_height": null,
            "min_width": null,
            "object_fit": null,
            "object_position": null,
            "order": null,
            "overflow": null,
            "overflow_x": null,
            "overflow_y": null,
            "padding": null,
            "right": null,
            "top": null,
            "visibility": null,
            "width": null
          }
        },
        "ee60afdc87804e6aa76ebfb457ee22e9": {
          "model_module": "@jupyter-widgets/controls",
          "model_name": "DescriptionStyleModel",
          "model_module_version": "1.5.0",
          "state": {
            "_model_module": "@jupyter-widgets/controls",
            "_model_module_version": "1.5.0",
            "_model_name": "DescriptionStyleModel",
            "_view_count": null,
            "_view_module": "@jupyter-widgets/base",
            "_view_module_version": "1.2.0",
            "_view_name": "StyleView",
            "description_width": ""
          }
        },
        "bf05a00e5513400d91d8d8a2f8572644": {
          "model_module": "@jupyter-widgets/controls",
          "model_name": "HBoxModel",
          "model_module_version": "1.5.0",
          "state": {
            "_dom_classes": [],
            "_model_module": "@jupyter-widgets/controls",
            "_model_module_version": "1.5.0",
            "_model_name": "HBoxModel",
            "_view_count": null,
            "_view_module": "@jupyter-widgets/controls",
            "_view_module_version": "1.5.0",
            "_view_name": "HBoxView",
            "box_style": "",
            "children": [
              "IPY_MODEL_6b432589910c459abf60f4c9425823a1",
              "IPY_MODEL_e383dc48a94a4e8bb27eaf1f9655b924",
              "IPY_MODEL_b361f6570c7e4fd28d34ae2a3c78898a"
            ],
            "layout": "IPY_MODEL_fe1f6154f9064984925ff782a3aee157"
          }
        },
        "6b432589910c459abf60f4c9425823a1": {
          "model_module": "@jupyter-widgets/controls",
          "model_name": "HTMLModel",
          "model_module_version": "1.5.0",
          "state": {
            "_dom_classes": [],
            "_model_module": "@jupyter-widgets/controls",
            "_model_module_version": "1.5.0",
            "_model_name": "HTMLModel",
            "_view_count": null,
            "_view_module": "@jupyter-widgets/controls",
            "_view_module_version": "1.5.0",
            "_view_name": "HTMLView",
            "description": "",
            "description_tooltip": null,
            "layout": "IPY_MODEL_b8826c98e44641528f0533a4183b3248",
            "placeholder": "​",
            "style": "IPY_MODEL_fb5d9c1722de4fb2a84218f33b8ec6bc",
            "value": "100%"
          }
        },
        "e383dc48a94a4e8bb27eaf1f9655b924": {
          "model_module": "@jupyter-widgets/controls",
          "model_name": "FloatProgressModel",
          "model_module_version": "1.5.0",
          "state": {
            "_dom_classes": [],
            "_model_module": "@jupyter-widgets/controls",
            "_model_module_version": "1.5.0",
            "_model_name": "FloatProgressModel",
            "_view_count": null,
            "_view_module": "@jupyter-widgets/controls",
            "_view_module_version": "1.5.0",
            "_view_name": "ProgressView",
            "bar_style": "success",
            "description": "",
            "description_tooltip": null,
            "layout": "IPY_MODEL_7cc7b1baec684cb3beecf6ffba0dcfd1",
            "max": 3,
            "min": 0,
            "orientation": "horizontal",
            "style": "IPY_MODEL_5c4b314c00eb4b9e970d998cd86392bf",
            "value": 3
          }
        },
        "b361f6570c7e4fd28d34ae2a3c78898a": {
          "model_module": "@jupyter-widgets/controls",
          "model_name": "HTMLModel",
          "model_module_version": "1.5.0",
          "state": {
            "_dom_classes": [],
            "_model_module": "@jupyter-widgets/controls",
            "_model_module_version": "1.5.0",
            "_model_name": "HTMLModel",
            "_view_count": null,
            "_view_module": "@jupyter-widgets/controls",
            "_view_module_version": "1.5.0",
            "_view_name": "HTMLView",
            "description": "",
            "description_tooltip": null,
            "layout": "IPY_MODEL_8f344f65b1fc49ecb702045035255f57",
            "placeholder": "​",
            "style": "IPY_MODEL_20ca6971748847c782b388764801ab56",
            "value": " 3/3 [00:00&lt;00:00, 166.63it/s]"
          }
        },
        "fe1f6154f9064984925ff782a3aee157": {
          "model_module": "@jupyter-widgets/base",
          "model_name": "LayoutModel",
          "model_module_version": "1.2.0",
          "state": {
            "_model_module": "@jupyter-widgets/base",
            "_model_module_version": "1.2.0",
            "_model_name": "LayoutModel",
            "_view_count": null,
            "_view_module": "@jupyter-widgets/base",
            "_view_module_version": "1.2.0",
            "_view_name": "LayoutView",
            "align_content": null,
            "align_items": null,
            "align_self": null,
            "border": null,
            "bottom": null,
            "display": null,
            "flex": null,
            "flex_flow": null,
            "grid_area": null,
            "grid_auto_columns": null,
            "grid_auto_flow": null,
            "grid_auto_rows": null,
            "grid_column": null,
            "grid_gap": null,
            "grid_row": null,
            "grid_template_areas": null,
            "grid_template_columns": null,
            "grid_template_rows": null,
            "height": null,
            "justify_content": null,
            "justify_items": null,
            "left": null,
            "margin": null,
            "max_height": null,
            "max_width": null,
            "min_height": null,
            "min_width": null,
            "object_fit": null,
            "object_position": null,
            "order": null,
            "overflow": null,
            "overflow_x": null,
            "overflow_y": null,
            "padding": null,
            "right": null,
            "top": null,
            "visibility": null,
            "width": null
          }
        },
        "b8826c98e44641528f0533a4183b3248": {
          "model_module": "@jupyter-widgets/base",
          "model_name": "LayoutModel",
          "model_module_version": "1.2.0",
          "state": {
            "_model_module": "@jupyter-widgets/base",
            "_model_module_version": "1.2.0",
            "_model_name": "LayoutModel",
            "_view_count": null,
            "_view_module": "@jupyter-widgets/base",
            "_view_module_version": "1.2.0",
            "_view_name": "LayoutView",
            "align_content": null,
            "align_items": null,
            "align_self": null,
            "border": null,
            "bottom": null,
            "display": null,
            "flex": null,
            "flex_flow": null,
            "grid_area": null,
            "grid_auto_columns": null,
            "grid_auto_flow": null,
            "grid_auto_rows": null,
            "grid_column": null,
            "grid_gap": null,
            "grid_row": null,
            "grid_template_areas": null,
            "grid_template_columns": null,
            "grid_template_rows": null,
            "height": null,
            "justify_content": null,
            "justify_items": null,
            "left": null,
            "margin": null,
            "max_height": null,
            "max_width": null,
            "min_height": null,
            "min_width": null,
            "object_fit": null,
            "object_position": null,
            "order": null,
            "overflow": null,
            "overflow_x": null,
            "overflow_y": null,
            "padding": null,
            "right": null,
            "top": null,
            "visibility": null,
            "width": null
          }
        },
        "fb5d9c1722de4fb2a84218f33b8ec6bc": {
          "model_module": "@jupyter-widgets/controls",
          "model_name": "DescriptionStyleModel",
          "model_module_version": "1.5.0",
          "state": {
            "_model_module": "@jupyter-widgets/controls",
            "_model_module_version": "1.5.0",
            "_model_name": "DescriptionStyleModel",
            "_view_count": null,
            "_view_module": "@jupyter-widgets/base",
            "_view_module_version": "1.2.0",
            "_view_name": "StyleView",
            "description_width": ""
          }
        },
        "7cc7b1baec684cb3beecf6ffba0dcfd1": {
          "model_module": "@jupyter-widgets/base",
          "model_name": "LayoutModel",
          "model_module_version": "1.2.0",
          "state": {
            "_model_module": "@jupyter-widgets/base",
            "_model_module_version": "1.2.0",
            "_model_name": "LayoutModel",
            "_view_count": null,
            "_view_module": "@jupyter-widgets/base",
            "_view_module_version": "1.2.0",
            "_view_name": "LayoutView",
            "align_content": null,
            "align_items": null,
            "align_self": null,
            "border": null,
            "bottom": null,
            "display": null,
            "flex": null,
            "flex_flow": null,
            "grid_area": null,
            "grid_auto_columns": null,
            "grid_auto_flow": null,
            "grid_auto_rows": null,
            "grid_column": null,
            "grid_gap": null,
            "grid_row": null,
            "grid_template_areas": null,
            "grid_template_columns": null,
            "grid_template_rows": null,
            "height": null,
            "justify_content": null,
            "justify_items": null,
            "left": null,
            "margin": null,
            "max_height": null,
            "max_width": null,
            "min_height": null,
            "min_width": null,
            "object_fit": null,
            "object_position": null,
            "order": null,
            "overflow": null,
            "overflow_x": null,
            "overflow_y": null,
            "padding": null,
            "right": null,
            "top": null,
            "visibility": null,
            "width": null
          }
        },
        "5c4b314c00eb4b9e970d998cd86392bf": {
          "model_module": "@jupyter-widgets/controls",
          "model_name": "ProgressStyleModel",
          "model_module_version": "1.5.0",
          "state": {
            "_model_module": "@jupyter-widgets/controls",
            "_model_module_version": "1.5.0",
            "_model_name": "ProgressStyleModel",
            "_view_count": null,
            "_view_module": "@jupyter-widgets/base",
            "_view_module_version": "1.2.0",
            "_view_name": "StyleView",
            "bar_color": null,
            "description_width": ""
          }
        },
        "8f344f65b1fc49ecb702045035255f57": {
          "model_module": "@jupyter-widgets/base",
          "model_name": "LayoutModel",
          "model_module_version": "1.2.0",
          "state": {
            "_model_module": "@jupyter-widgets/base",
            "_model_module_version": "1.2.0",
            "_model_name": "LayoutModel",
            "_view_count": null,
            "_view_module": "@jupyter-widgets/base",
            "_view_module_version": "1.2.0",
            "_view_name": "LayoutView",
            "align_content": null,
            "align_items": null,
            "align_self": null,
            "border": null,
            "bottom": null,
            "display": null,
            "flex": null,
            "flex_flow": null,
            "grid_area": null,
            "grid_auto_columns": null,
            "grid_auto_flow": null,
            "grid_auto_rows": null,
            "grid_column": null,
            "grid_gap": null,
            "grid_row": null,
            "grid_template_areas": null,
            "grid_template_columns": null,
            "grid_template_rows": null,
            "height": null,
            "justify_content": null,
            "justify_items": null,
            "left": null,
            "margin": null,
            "max_height": null,
            "max_width": null,
            "min_height": null,
            "min_width": null,
            "object_fit": null,
            "object_position": null,
            "order": null,
            "overflow": null,
            "overflow_x": null,
            "overflow_y": null,
            "padding": null,
            "right": null,
            "top": null,
            "visibility": null,
            "width": null
          }
        },
        "20ca6971748847c782b388764801ab56": {
          "model_module": "@jupyter-widgets/controls",
          "model_name": "DescriptionStyleModel",
          "model_module_version": "1.5.0",
          "state": {
            "_model_module": "@jupyter-widgets/controls",
            "_model_module_version": "1.5.0",
            "_model_name": "DescriptionStyleModel",
            "_view_count": null,
            "_view_module": "@jupyter-widgets/base",
            "_view_module_version": "1.2.0",
            "_view_name": "StyleView",
            "description_width": ""
          }
        },
        "b39d44f837d446bc8dac6ef94444cbf8": {
          "model_module": "@jupyter-widgets/controls",
          "model_name": "HBoxModel",
          "model_module_version": "1.5.0",
          "state": {
            "_dom_classes": [],
            "_model_module": "@jupyter-widgets/controls",
            "_model_module_version": "1.5.0",
            "_model_name": "HBoxModel",
            "_view_count": null,
            "_view_module": "@jupyter-widgets/controls",
            "_view_module_version": "1.5.0",
            "_view_name": "HBoxView",
            "box_style": "",
            "children": [
              "IPY_MODEL_a017165078fc43b38b243e1fe71fca54",
              "IPY_MODEL_f287def534694322b25060cfdc7ee1cc",
              "IPY_MODEL_0ccd83499a4f49e6a79a2efdd9f81b97"
            ],
            "layout": "IPY_MODEL_5fd531f501cd44e98962e1dbe2045ce9"
          }
        },
        "a017165078fc43b38b243e1fe71fca54": {
          "model_module": "@jupyter-widgets/controls",
          "model_name": "HTMLModel",
          "model_module_version": "1.5.0",
          "state": {
            "_dom_classes": [],
            "_model_module": "@jupyter-widgets/controls",
            "_model_module_version": "1.5.0",
            "_model_name": "HTMLModel",
            "_view_count": null,
            "_view_module": "@jupyter-widgets/controls",
            "_view_module_version": "1.5.0",
            "_view_name": "HTMLView",
            "description": "",
            "description_tooltip": null,
            "layout": "IPY_MODEL_0739ec4f0998471db42b980006678e4c",
            "placeholder": "​",
            "style": "IPY_MODEL_80fc74f914694e4c8ef410c7088db517",
            "value": "Map: 100%"
          }
        },
        "f287def534694322b25060cfdc7ee1cc": {
          "model_module": "@jupyter-widgets/controls",
          "model_name": "FloatProgressModel",
          "model_module_version": "1.5.0",
          "state": {
            "_dom_classes": [],
            "_model_module": "@jupyter-widgets/controls",
            "_model_module_version": "1.5.0",
            "_model_name": "FloatProgressModel",
            "_view_count": null,
            "_view_module": "@jupyter-widgets/controls",
            "_view_module_version": "1.5.0",
            "_view_name": "ProgressView",
            "bar_style": "",
            "description": "",
            "description_tooltip": null,
            "layout": "IPY_MODEL_e56c8352221349afba35b4848dd884be",
            "max": 14732,
            "min": 0,
            "orientation": "horizontal",
            "style": "IPY_MODEL_a5c96b0ad10a455cb852149183ff97a0",
            "value": 14732
          }
        },
        "0ccd83499a4f49e6a79a2efdd9f81b97": {
          "model_module": "@jupyter-widgets/controls",
          "model_name": "HTMLModel",
          "model_module_version": "1.5.0",
          "state": {
            "_dom_classes": [],
            "_model_module": "@jupyter-widgets/controls",
            "_model_module_version": "1.5.0",
            "_model_name": "HTMLModel",
            "_view_count": null,
            "_view_module": "@jupyter-widgets/controls",
            "_view_module_version": "1.5.0",
            "_view_name": "HTMLView",
            "description": "",
            "description_tooltip": null,
            "layout": "IPY_MODEL_2d3e1f993d6c4b07bbadd12f6f4523fe",
            "placeholder": "​",
            "style": "IPY_MODEL_8bce66b56c42456881f4ae64bf742c46",
            "value": " 14732/14732 [00:02&lt;00:00, 6965.56 examples/s]"
          }
        },
        "5fd531f501cd44e98962e1dbe2045ce9": {
          "model_module": "@jupyter-widgets/base",
          "model_name": "LayoutModel",
          "model_module_version": "1.2.0",
          "state": {
            "_model_module": "@jupyter-widgets/base",
            "_model_module_version": "1.2.0",
            "_model_name": "LayoutModel",
            "_view_count": null,
            "_view_module": "@jupyter-widgets/base",
            "_view_module_version": "1.2.0",
            "_view_name": "LayoutView",
            "align_content": null,
            "align_items": null,
            "align_self": null,
            "border": null,
            "bottom": null,
            "display": null,
            "flex": null,
            "flex_flow": null,
            "grid_area": null,
            "grid_auto_columns": null,
            "grid_auto_flow": null,
            "grid_auto_rows": null,
            "grid_column": null,
            "grid_gap": null,
            "grid_row": null,
            "grid_template_areas": null,
            "grid_template_columns": null,
            "grid_template_rows": null,
            "height": null,
            "justify_content": null,
            "justify_items": null,
            "left": null,
            "margin": null,
            "max_height": null,
            "max_width": null,
            "min_height": null,
            "min_width": null,
            "object_fit": null,
            "object_position": null,
            "order": null,
            "overflow": null,
            "overflow_x": null,
            "overflow_y": null,
            "padding": null,
            "right": null,
            "top": null,
            "visibility": "hidden",
            "width": null
          }
        },
        "0739ec4f0998471db42b980006678e4c": {
          "model_module": "@jupyter-widgets/base",
          "model_name": "LayoutModel",
          "model_module_version": "1.2.0",
          "state": {
            "_model_module": "@jupyter-widgets/base",
            "_model_module_version": "1.2.0",
            "_model_name": "LayoutModel",
            "_view_count": null,
            "_view_module": "@jupyter-widgets/base",
            "_view_module_version": "1.2.0",
            "_view_name": "LayoutView",
            "align_content": null,
            "align_items": null,
            "align_self": null,
            "border": null,
            "bottom": null,
            "display": null,
            "flex": null,
            "flex_flow": null,
            "grid_area": null,
            "grid_auto_columns": null,
            "grid_auto_flow": null,
            "grid_auto_rows": null,
            "grid_column": null,
            "grid_gap": null,
            "grid_row": null,
            "grid_template_areas": null,
            "grid_template_columns": null,
            "grid_template_rows": null,
            "height": null,
            "justify_content": null,
            "justify_items": null,
            "left": null,
            "margin": null,
            "max_height": null,
            "max_width": null,
            "min_height": null,
            "min_width": null,
            "object_fit": null,
            "object_position": null,
            "order": null,
            "overflow": null,
            "overflow_x": null,
            "overflow_y": null,
            "padding": null,
            "right": null,
            "top": null,
            "visibility": null,
            "width": null
          }
        },
        "80fc74f914694e4c8ef410c7088db517": {
          "model_module": "@jupyter-widgets/controls",
          "model_name": "DescriptionStyleModel",
          "model_module_version": "1.5.0",
          "state": {
            "_model_module": "@jupyter-widgets/controls",
            "_model_module_version": "1.5.0",
            "_model_name": "DescriptionStyleModel",
            "_view_count": null,
            "_view_module": "@jupyter-widgets/base",
            "_view_module_version": "1.2.0",
            "_view_name": "StyleView",
            "description_width": ""
          }
        },
        "e56c8352221349afba35b4848dd884be": {
          "model_module": "@jupyter-widgets/base",
          "model_name": "LayoutModel",
          "model_module_version": "1.2.0",
          "state": {
            "_model_module": "@jupyter-widgets/base",
            "_model_module_version": "1.2.0",
            "_model_name": "LayoutModel",
            "_view_count": null,
            "_view_module": "@jupyter-widgets/base",
            "_view_module_version": "1.2.0",
            "_view_name": "LayoutView",
            "align_content": null,
            "align_items": null,
            "align_self": null,
            "border": null,
            "bottom": null,
            "display": null,
            "flex": null,
            "flex_flow": null,
            "grid_area": null,
            "grid_auto_columns": null,
            "grid_auto_flow": null,
            "grid_auto_rows": null,
            "grid_column": null,
            "grid_gap": null,
            "grid_row": null,
            "grid_template_areas": null,
            "grid_template_columns": null,
            "grid_template_rows": null,
            "height": null,
            "justify_content": null,
            "justify_items": null,
            "left": null,
            "margin": null,
            "max_height": null,
            "max_width": null,
            "min_height": null,
            "min_width": null,
            "object_fit": null,
            "object_position": null,
            "order": null,
            "overflow": null,
            "overflow_x": null,
            "overflow_y": null,
            "padding": null,
            "right": null,
            "top": null,
            "visibility": null,
            "width": null
          }
        },
        "a5c96b0ad10a455cb852149183ff97a0": {
          "model_module": "@jupyter-widgets/controls",
          "model_name": "ProgressStyleModel",
          "model_module_version": "1.5.0",
          "state": {
            "_model_module": "@jupyter-widgets/controls",
            "_model_module_version": "1.5.0",
            "_model_name": "ProgressStyleModel",
            "_view_count": null,
            "_view_module": "@jupyter-widgets/base",
            "_view_module_version": "1.2.0",
            "_view_name": "StyleView",
            "bar_color": null,
            "description_width": ""
          }
        },
        "2d3e1f993d6c4b07bbadd12f6f4523fe": {
          "model_module": "@jupyter-widgets/base",
          "model_name": "LayoutModel",
          "model_module_version": "1.2.0",
          "state": {
            "_model_module": "@jupyter-widgets/base",
            "_model_module_version": "1.2.0",
            "_model_name": "LayoutModel",
            "_view_count": null,
            "_view_module": "@jupyter-widgets/base",
            "_view_module_version": "1.2.0",
            "_view_name": "LayoutView",
            "align_content": null,
            "align_items": null,
            "align_self": null,
            "border": null,
            "bottom": null,
            "display": null,
            "flex": null,
            "flex_flow": null,
            "grid_area": null,
            "grid_auto_columns": null,
            "grid_auto_flow": null,
            "grid_auto_rows": null,
            "grid_column": null,
            "grid_gap": null,
            "grid_row": null,
            "grid_template_areas": null,
            "grid_template_columns": null,
            "grid_template_rows": null,
            "height": null,
            "justify_content": null,
            "justify_items": null,
            "left": null,
            "margin": null,
            "max_height": null,
            "max_width": null,
            "min_height": null,
            "min_width": null,
            "object_fit": null,
            "object_position": null,
            "order": null,
            "overflow": null,
            "overflow_x": null,
            "overflow_y": null,
            "padding": null,
            "right": null,
            "top": null,
            "visibility": null,
            "width": null
          }
        },
        "8bce66b56c42456881f4ae64bf742c46": {
          "model_module": "@jupyter-widgets/controls",
          "model_name": "DescriptionStyleModel",
          "model_module_version": "1.5.0",
          "state": {
            "_model_module": "@jupyter-widgets/controls",
            "_model_module_version": "1.5.0",
            "_model_name": "DescriptionStyleModel",
            "_view_count": null,
            "_view_module": "@jupyter-widgets/base",
            "_view_module_version": "1.2.0",
            "_view_name": "StyleView",
            "description_width": ""
          }
        },
        "f32fed9f9de2410a9f7f11ac88b58a4c": {
          "model_module": "@jupyter-widgets/controls",
          "model_name": "HBoxModel",
          "model_module_version": "1.5.0",
          "state": {
            "_dom_classes": [],
            "_model_module": "@jupyter-widgets/controls",
            "_model_module_version": "1.5.0",
            "_model_name": "HBoxModel",
            "_view_count": null,
            "_view_module": "@jupyter-widgets/controls",
            "_view_module_version": "1.5.0",
            "_view_name": "HBoxView",
            "box_style": "",
            "children": [
              "IPY_MODEL_9c39e766252340d9a564eefecb33cdb9",
              "IPY_MODEL_7bf6c23e59b24bbeb9cbc758618d9359",
              "IPY_MODEL_c8113addfb3c448b931cff610592e558"
            ],
            "layout": "IPY_MODEL_45e1b51b8acc4513a41006fa7d4c44ca"
          }
        },
        "9c39e766252340d9a564eefecb33cdb9": {
          "model_module": "@jupyter-widgets/controls",
          "model_name": "HTMLModel",
          "model_module_version": "1.5.0",
          "state": {
            "_dom_classes": [],
            "_model_module": "@jupyter-widgets/controls",
            "_model_module_version": "1.5.0",
            "_model_name": "HTMLModel",
            "_view_count": null,
            "_view_module": "@jupyter-widgets/controls",
            "_view_module_version": "1.5.0",
            "_view_name": "HTMLView",
            "description": "",
            "description_tooltip": null,
            "layout": "IPY_MODEL_cdb428b6c81d40b09ccd1ba535d0f422",
            "placeholder": "​",
            "style": "IPY_MODEL_1dc4732b2ad047c183fd9d6a015655b9",
            "value": "Downloading builder script: "
          }
        },
        "7bf6c23e59b24bbeb9cbc758618d9359": {
          "model_module": "@jupyter-widgets/controls",
          "model_name": "FloatProgressModel",
          "model_module_version": "1.5.0",
          "state": {
            "_dom_classes": [],
            "_model_module": "@jupyter-widgets/controls",
            "_model_module_version": "1.5.0",
            "_model_name": "FloatProgressModel",
            "_view_count": null,
            "_view_module": "@jupyter-widgets/controls",
            "_view_module_version": "1.5.0",
            "_view_name": "ProgressView",
            "bar_style": "success",
            "description": "",
            "description_tooltip": null,
            "layout": "IPY_MODEL_c5d0604ff26f482c887a3d1f88dbdd17",
            "max": 2169,
            "min": 0,
            "orientation": "horizontal",
            "style": "IPY_MODEL_da183a34ec354bec8d9d76fb933b513e",
            "value": 2169
          }
        },
        "c8113addfb3c448b931cff610592e558": {
          "model_module": "@jupyter-widgets/controls",
          "model_name": "HTMLModel",
          "model_module_version": "1.5.0",
          "state": {
            "_dom_classes": [],
            "_model_module": "@jupyter-widgets/controls",
            "_model_module_version": "1.5.0",
            "_model_name": "HTMLModel",
            "_view_count": null,
            "_view_module": "@jupyter-widgets/controls",
            "_view_module_version": "1.5.0",
            "_view_name": "HTMLView",
            "description": "",
            "description_tooltip": null,
            "layout": "IPY_MODEL_2e066974f7c04251a91369900c4544f9",
            "placeholder": "​",
            "style": "IPY_MODEL_3f13bfcb15bd4aa4becb8f726e757d36",
            "value": " 5.65k/? [00:00&lt;00:00, 317kB/s]"
          }
        },
        "45e1b51b8acc4513a41006fa7d4c44ca": {
          "model_module": "@jupyter-widgets/base",
          "model_name": "LayoutModel",
          "model_module_version": "1.2.0",
          "state": {
            "_model_module": "@jupyter-widgets/base",
            "_model_module_version": "1.2.0",
            "_model_name": "LayoutModel",
            "_view_count": null,
            "_view_module": "@jupyter-widgets/base",
            "_view_module_version": "1.2.0",
            "_view_name": "LayoutView",
            "align_content": null,
            "align_items": null,
            "align_self": null,
            "border": null,
            "bottom": null,
            "display": null,
            "flex": null,
            "flex_flow": null,
            "grid_area": null,
            "grid_auto_columns": null,
            "grid_auto_flow": null,
            "grid_auto_rows": null,
            "grid_column": null,
            "grid_gap": null,
            "grid_row": null,
            "grid_template_areas": null,
            "grid_template_columns": null,
            "grid_template_rows": null,
            "height": null,
            "justify_content": null,
            "justify_items": null,
            "left": null,
            "margin": null,
            "max_height": null,
            "max_width": null,
            "min_height": null,
            "min_width": null,
            "object_fit": null,
            "object_position": null,
            "order": null,
            "overflow": null,
            "overflow_x": null,
            "overflow_y": null,
            "padding": null,
            "right": null,
            "top": null,
            "visibility": null,
            "width": null
          }
        },
        "cdb428b6c81d40b09ccd1ba535d0f422": {
          "model_module": "@jupyter-widgets/base",
          "model_name": "LayoutModel",
          "model_module_version": "1.2.0",
          "state": {
            "_model_module": "@jupyter-widgets/base",
            "_model_module_version": "1.2.0",
            "_model_name": "LayoutModel",
            "_view_count": null,
            "_view_module": "@jupyter-widgets/base",
            "_view_module_version": "1.2.0",
            "_view_name": "LayoutView",
            "align_content": null,
            "align_items": null,
            "align_self": null,
            "border": null,
            "bottom": null,
            "display": null,
            "flex": null,
            "flex_flow": null,
            "grid_area": null,
            "grid_auto_columns": null,
            "grid_auto_flow": null,
            "grid_auto_rows": null,
            "grid_column": null,
            "grid_gap": null,
            "grid_row": null,
            "grid_template_areas": null,
            "grid_template_columns": null,
            "grid_template_rows": null,
            "height": null,
            "justify_content": null,
            "justify_items": null,
            "left": null,
            "margin": null,
            "max_height": null,
            "max_width": null,
            "min_height": null,
            "min_width": null,
            "object_fit": null,
            "object_position": null,
            "order": null,
            "overflow": null,
            "overflow_x": null,
            "overflow_y": null,
            "padding": null,
            "right": null,
            "top": null,
            "visibility": null,
            "width": null
          }
        },
        "1dc4732b2ad047c183fd9d6a015655b9": {
          "model_module": "@jupyter-widgets/controls",
          "model_name": "DescriptionStyleModel",
          "model_module_version": "1.5.0",
          "state": {
            "_model_module": "@jupyter-widgets/controls",
            "_model_module_version": "1.5.0",
            "_model_name": "DescriptionStyleModel",
            "_view_count": null,
            "_view_module": "@jupyter-widgets/base",
            "_view_module_version": "1.2.0",
            "_view_name": "StyleView",
            "description_width": ""
          }
        },
        "c5d0604ff26f482c887a3d1f88dbdd17": {
          "model_module": "@jupyter-widgets/base",
          "model_name": "LayoutModel",
          "model_module_version": "1.2.0",
          "state": {
            "_model_module": "@jupyter-widgets/base",
            "_model_module_version": "1.2.0",
            "_model_name": "LayoutModel",
            "_view_count": null,
            "_view_module": "@jupyter-widgets/base",
            "_view_module_version": "1.2.0",
            "_view_name": "LayoutView",
            "align_content": null,
            "align_items": null,
            "align_self": null,
            "border": null,
            "bottom": null,
            "display": null,
            "flex": null,
            "flex_flow": null,
            "grid_area": null,
            "grid_auto_columns": null,
            "grid_auto_flow": null,
            "grid_auto_rows": null,
            "grid_column": null,
            "grid_gap": null,
            "grid_row": null,
            "grid_template_areas": null,
            "grid_template_columns": null,
            "grid_template_rows": null,
            "height": null,
            "justify_content": null,
            "justify_items": null,
            "left": null,
            "margin": null,
            "max_height": null,
            "max_width": null,
            "min_height": null,
            "min_width": null,
            "object_fit": null,
            "object_position": null,
            "order": null,
            "overflow": null,
            "overflow_x": null,
            "overflow_y": null,
            "padding": null,
            "right": null,
            "top": null,
            "visibility": null,
            "width": null
          }
        },
        "da183a34ec354bec8d9d76fb933b513e": {
          "model_module": "@jupyter-widgets/controls",
          "model_name": "ProgressStyleModel",
          "model_module_version": "1.5.0",
          "state": {
            "_model_module": "@jupyter-widgets/controls",
            "_model_module_version": "1.5.0",
            "_model_name": "ProgressStyleModel",
            "_view_count": null,
            "_view_module": "@jupyter-widgets/base",
            "_view_module_version": "1.2.0",
            "_view_name": "StyleView",
            "bar_color": null,
            "description_width": ""
          }
        },
        "2e066974f7c04251a91369900c4544f9": {
          "model_module": "@jupyter-widgets/base",
          "model_name": "LayoutModel",
          "model_module_version": "1.2.0",
          "state": {
            "_model_module": "@jupyter-widgets/base",
            "_model_module_version": "1.2.0",
            "_model_name": "LayoutModel",
            "_view_count": null,
            "_view_module": "@jupyter-widgets/base",
            "_view_module_version": "1.2.0",
            "_view_name": "LayoutView",
            "align_content": null,
            "align_items": null,
            "align_self": null,
            "border": null,
            "bottom": null,
            "display": null,
            "flex": null,
            "flex_flow": null,
            "grid_area": null,
            "grid_auto_columns": null,
            "grid_auto_flow": null,
            "grid_auto_rows": null,
            "grid_column": null,
            "grid_gap": null,
            "grid_row": null,
            "grid_template_areas": null,
            "grid_template_columns": null,
            "grid_template_rows": null,
            "height": null,
            "justify_content": null,
            "justify_items": null,
            "left": null,
            "margin": null,
            "max_height": null,
            "max_width": null,
            "min_height": null,
            "min_width": null,
            "object_fit": null,
            "object_position": null,
            "order": null,
            "overflow": null,
            "overflow_x": null,
            "overflow_y": null,
            "padding": null,
            "right": null,
            "top": null,
            "visibility": null,
            "width": null
          }
        },
        "3f13bfcb15bd4aa4becb8f726e757d36": {
          "model_module": "@jupyter-widgets/controls",
          "model_name": "DescriptionStyleModel",
          "model_module_version": "1.5.0",
          "state": {
            "_model_module": "@jupyter-widgets/controls",
            "_model_module_version": "1.5.0",
            "_model_name": "DescriptionStyleModel",
            "_view_count": null,
            "_view_module": "@jupyter-widgets/base",
            "_view_module_version": "1.2.0",
            "_view_name": "StyleView",
            "description_width": ""
          }
        },
        "3a3e1527cb1b4d85b6bb52f4abd8bef2": {
          "model_module": "@jupyter-widgets/controls",
          "model_name": "HBoxModel",
          "model_module_version": "1.5.0",
          "state": {
            "_dom_classes": [],
            "_model_module": "@jupyter-widgets/controls",
            "_model_module_version": "1.5.0",
            "_model_name": "HBoxModel",
            "_view_count": null,
            "_view_module": "@jupyter-widgets/controls",
            "_view_module_version": "1.5.0",
            "_view_name": "HBoxView",
            "box_style": "",
            "children": [
              "IPY_MODEL_2425f50cd6784fecbca803262f7cb3b5",
              "IPY_MODEL_85d30eb73f95426180ab7115f7c1e846",
              "IPY_MODEL_1ee78ac2bd7c419ead11d82228a10fb2"
            ],
            "layout": "IPY_MODEL_c481a52c26c844bc92ffefec1c7efb77"
          }
        },
        "2425f50cd6784fecbca803262f7cb3b5": {
          "model_module": "@jupyter-widgets/controls",
          "model_name": "HTMLModel",
          "model_module_version": "1.5.0",
          "state": {
            "_dom_classes": [],
            "_model_module": "@jupyter-widgets/controls",
            "_model_module_version": "1.5.0",
            "_model_name": "HTMLModel",
            "_view_count": null,
            "_view_module": "@jupyter-widgets/controls",
            "_view_module_version": "1.5.0",
            "_view_name": "HTMLView",
            "description": "",
            "description_tooltip": null,
            "layout": "IPY_MODEL_380ab39f164f414bb6fe2398daf28ef4",
            "placeholder": "​",
            "style": "IPY_MODEL_8446a299c0b3429eb79e6ff275f5d0e6",
            "value": "Downloading (…)olve/main/vocab.json: 100%"
          }
        },
        "85d30eb73f95426180ab7115f7c1e846": {
          "model_module": "@jupyter-widgets/controls",
          "model_name": "FloatProgressModel",
          "model_module_version": "1.5.0",
          "state": {
            "_dom_classes": [],
            "_model_module": "@jupyter-widgets/controls",
            "_model_module_version": "1.5.0",
            "_model_name": "FloatProgressModel",
            "_view_count": null,
            "_view_module": "@jupyter-widgets/controls",
            "_view_module_version": "1.5.0",
            "_view_name": "ProgressView",
            "bar_style": "success",
            "description": "",
            "description_tooltip": null,
            "layout": "IPY_MODEL_b9bed2a6793e4542969d78b45c4a09fa",
            "max": 798293,
            "min": 0,
            "orientation": "horizontal",
            "style": "IPY_MODEL_c8e50457cee44510a0f2fe05f03b9ccb",
            "value": 798293
          }
        },
        "1ee78ac2bd7c419ead11d82228a10fb2": {
          "model_module": "@jupyter-widgets/controls",
          "model_name": "HTMLModel",
          "model_module_version": "1.5.0",
          "state": {
            "_dom_classes": [],
            "_model_module": "@jupyter-widgets/controls",
            "_model_module_version": "1.5.0",
            "_model_name": "HTMLModel",
            "_view_count": null,
            "_view_module": "@jupyter-widgets/controls",
            "_view_module_version": "1.5.0",
            "_view_name": "HTMLView",
            "description": "",
            "description_tooltip": null,
            "layout": "IPY_MODEL_047dcf04486549a391dd92d161e11a96",
            "placeholder": "​",
            "style": "IPY_MODEL_32e5a624fe4b49d6952fbbeb3f74d14b",
            "value": " 798k/798k [00:00&lt;00:00, 945kB/s]"
          }
        },
        "c481a52c26c844bc92ffefec1c7efb77": {
          "model_module": "@jupyter-widgets/base",
          "model_name": "LayoutModel",
          "model_module_version": "1.2.0",
          "state": {
            "_model_module": "@jupyter-widgets/base",
            "_model_module_version": "1.2.0",
            "_model_name": "LayoutModel",
            "_view_count": null,
            "_view_module": "@jupyter-widgets/base",
            "_view_module_version": "1.2.0",
            "_view_name": "LayoutView",
            "align_content": null,
            "align_items": null,
            "align_self": null,
            "border": null,
            "bottom": null,
            "display": null,
            "flex": null,
            "flex_flow": null,
            "grid_area": null,
            "grid_auto_columns": null,
            "grid_auto_flow": null,
            "grid_auto_rows": null,
            "grid_column": null,
            "grid_gap": null,
            "grid_row": null,
            "grid_template_areas": null,
            "grid_template_columns": null,
            "grid_template_rows": null,
            "height": null,
            "justify_content": null,
            "justify_items": null,
            "left": null,
            "margin": null,
            "max_height": null,
            "max_width": null,
            "min_height": null,
            "min_width": null,
            "object_fit": null,
            "object_position": null,
            "order": null,
            "overflow": null,
            "overflow_x": null,
            "overflow_y": null,
            "padding": null,
            "right": null,
            "top": null,
            "visibility": null,
            "width": null
          }
        },
        "380ab39f164f414bb6fe2398daf28ef4": {
          "model_module": "@jupyter-widgets/base",
          "model_name": "LayoutModel",
          "model_module_version": "1.2.0",
          "state": {
            "_model_module": "@jupyter-widgets/base",
            "_model_module_version": "1.2.0",
            "_model_name": "LayoutModel",
            "_view_count": null,
            "_view_module": "@jupyter-widgets/base",
            "_view_module_version": "1.2.0",
            "_view_name": "LayoutView",
            "align_content": null,
            "align_items": null,
            "align_self": null,
            "border": null,
            "bottom": null,
            "display": null,
            "flex": null,
            "flex_flow": null,
            "grid_area": null,
            "grid_auto_columns": null,
            "grid_auto_flow": null,
            "grid_auto_rows": null,
            "grid_column": null,
            "grid_gap": null,
            "grid_row": null,
            "grid_template_areas": null,
            "grid_template_columns": null,
            "grid_template_rows": null,
            "height": null,
            "justify_content": null,
            "justify_items": null,
            "left": null,
            "margin": null,
            "max_height": null,
            "max_width": null,
            "min_height": null,
            "min_width": null,
            "object_fit": null,
            "object_position": null,
            "order": null,
            "overflow": null,
            "overflow_x": null,
            "overflow_y": null,
            "padding": null,
            "right": null,
            "top": null,
            "visibility": null,
            "width": null
          }
        },
        "8446a299c0b3429eb79e6ff275f5d0e6": {
          "model_module": "@jupyter-widgets/controls",
          "model_name": "DescriptionStyleModel",
          "model_module_version": "1.5.0",
          "state": {
            "_model_module": "@jupyter-widgets/controls",
            "_model_module_version": "1.5.0",
            "_model_name": "DescriptionStyleModel",
            "_view_count": null,
            "_view_module": "@jupyter-widgets/base",
            "_view_module_version": "1.2.0",
            "_view_name": "StyleView",
            "description_width": ""
          }
        },
        "b9bed2a6793e4542969d78b45c4a09fa": {
          "model_module": "@jupyter-widgets/base",
          "model_name": "LayoutModel",
          "model_module_version": "1.2.0",
          "state": {
            "_model_module": "@jupyter-widgets/base",
            "_model_module_version": "1.2.0",
            "_model_name": "LayoutModel",
            "_view_count": null,
            "_view_module": "@jupyter-widgets/base",
            "_view_module_version": "1.2.0",
            "_view_name": "LayoutView",
            "align_content": null,
            "align_items": null,
            "align_self": null,
            "border": null,
            "bottom": null,
            "display": null,
            "flex": null,
            "flex_flow": null,
            "grid_area": null,
            "grid_auto_columns": null,
            "grid_auto_flow": null,
            "grid_auto_rows": null,
            "grid_column": null,
            "grid_gap": null,
            "grid_row": null,
            "grid_template_areas": null,
            "grid_template_columns": null,
            "grid_template_rows": null,
            "height": null,
            "justify_content": null,
            "justify_items": null,
            "left": null,
            "margin": null,
            "max_height": null,
            "max_width": null,
            "min_height": null,
            "min_width": null,
            "object_fit": null,
            "object_position": null,
            "order": null,
            "overflow": null,
            "overflow_x": null,
            "overflow_y": null,
            "padding": null,
            "right": null,
            "top": null,
            "visibility": null,
            "width": null
          }
        },
        "c8e50457cee44510a0f2fe05f03b9ccb": {
          "model_module": "@jupyter-widgets/controls",
          "model_name": "ProgressStyleModel",
          "model_module_version": "1.5.0",
          "state": {
            "_model_module": "@jupyter-widgets/controls",
            "_model_module_version": "1.5.0",
            "_model_name": "ProgressStyleModel",
            "_view_count": null,
            "_view_module": "@jupyter-widgets/base",
            "_view_module_version": "1.2.0",
            "_view_name": "StyleView",
            "bar_color": null,
            "description_width": ""
          }
        },
        "047dcf04486549a391dd92d161e11a96": {
          "model_module": "@jupyter-widgets/base",
          "model_name": "LayoutModel",
          "model_module_version": "1.2.0",
          "state": {
            "_model_module": "@jupyter-widgets/base",
            "_model_module_version": "1.2.0",
            "_model_name": "LayoutModel",
            "_view_count": null,
            "_view_module": "@jupyter-widgets/base",
            "_view_module_version": "1.2.0",
            "_view_name": "LayoutView",
            "align_content": null,
            "align_items": null,
            "align_self": null,
            "border": null,
            "bottom": null,
            "display": null,
            "flex": null,
            "flex_flow": null,
            "grid_area": null,
            "grid_auto_columns": null,
            "grid_auto_flow": null,
            "grid_auto_rows": null,
            "grid_column": null,
            "grid_gap": null,
            "grid_row": null,
            "grid_template_areas": null,
            "grid_template_columns": null,
            "grid_template_rows": null,
            "height": null,
            "justify_content": null,
            "justify_items": null,
            "left": null,
            "margin": null,
            "max_height": null,
            "max_width": null,
            "min_height": null,
            "min_width": null,
            "object_fit": null,
            "object_position": null,
            "order": null,
            "overflow": null,
            "overflow_x": null,
            "overflow_y": null,
            "padding": null,
            "right": null,
            "top": null,
            "visibility": null,
            "width": null
          }
        },
        "32e5a624fe4b49d6952fbbeb3f74d14b": {
          "model_module": "@jupyter-widgets/controls",
          "model_name": "DescriptionStyleModel",
          "model_module_version": "1.5.0",
          "state": {
            "_model_module": "@jupyter-widgets/controls",
            "_model_module_version": "1.5.0",
            "_model_name": "DescriptionStyleModel",
            "_view_count": null,
            "_view_module": "@jupyter-widgets/base",
            "_view_module_version": "1.2.0",
            "_view_name": "StyleView",
            "description_width": ""
          }
        },
        "e0d205c936f64b2f82eba86ed50c120c": {
          "model_module": "@jupyter-widgets/controls",
          "model_name": "HBoxModel",
          "model_module_version": "1.5.0",
          "state": {
            "_dom_classes": [],
            "_model_module": "@jupyter-widgets/controls",
            "_model_module_version": "1.5.0",
            "_model_name": "HBoxModel",
            "_view_count": null,
            "_view_module": "@jupyter-widgets/controls",
            "_view_module_version": "1.5.0",
            "_view_name": "HBoxView",
            "box_style": "",
            "children": [
              "IPY_MODEL_00c6af25bb1a40c8a88bc574c9f17225",
              "IPY_MODEL_341f8cb4d7ae4e89b3f95e26284b4c57",
              "IPY_MODEL_586c070595b146cb8476b235d7ed96d0"
            ],
            "layout": "IPY_MODEL_ec962948056341309041e367c42c50e1"
          }
        },
        "00c6af25bb1a40c8a88bc574c9f17225": {
          "model_module": "@jupyter-widgets/controls",
          "model_name": "HTMLModel",
          "model_module_version": "1.5.0",
          "state": {
            "_dom_classes": [],
            "_model_module": "@jupyter-widgets/controls",
            "_model_module_version": "1.5.0",
            "_model_name": "HTMLModel",
            "_view_count": null,
            "_view_module": "@jupyter-widgets/controls",
            "_view_module_version": "1.5.0",
            "_view_name": "HTMLView",
            "description": "",
            "description_tooltip": null,
            "layout": "IPY_MODEL_5034c70c2415413cab00c0f04e4bac58",
            "placeholder": "​",
            "style": "IPY_MODEL_cf418b0c4ccd4bc98b1afcbeec922cdf",
            "value": "Downloading (…)olve/main/merges.txt: 100%"
          }
        },
        "341f8cb4d7ae4e89b3f95e26284b4c57": {
          "model_module": "@jupyter-widgets/controls",
          "model_name": "FloatProgressModel",
          "model_module_version": "1.5.0",
          "state": {
            "_dom_classes": [],
            "_model_module": "@jupyter-widgets/controls",
            "_model_module_version": "1.5.0",
            "_model_name": "FloatProgressModel",
            "_view_count": null,
            "_view_module": "@jupyter-widgets/controls",
            "_view_module_version": "1.5.0",
            "_view_name": "ProgressView",
            "bar_style": "success",
            "description": "",
            "description_tooltip": null,
            "layout": "IPY_MODEL_3c25884c609947249f6bb94d9de43e14",
            "max": 456356,
            "min": 0,
            "orientation": "horizontal",
            "style": "IPY_MODEL_59aa48c0f6c5457690bbeccb37484ef2",
            "value": 456356
          }
        },
        "586c070595b146cb8476b235d7ed96d0": {
          "model_module": "@jupyter-widgets/controls",
          "model_name": "HTMLModel",
          "model_module_version": "1.5.0",
          "state": {
            "_dom_classes": [],
            "_model_module": "@jupyter-widgets/controls",
            "_model_module_version": "1.5.0",
            "_model_name": "HTMLModel",
            "_view_count": null,
            "_view_module": "@jupyter-widgets/controls",
            "_view_module_version": "1.5.0",
            "_view_name": "HTMLView",
            "description": "",
            "description_tooltip": null,
            "layout": "IPY_MODEL_4294e2aba05b4176a857a14bae05008f",
            "placeholder": "​",
            "style": "IPY_MODEL_17263226fa8746218406a1a773227f92",
            "value": " 456k/456k [00:00&lt;00:00, 720kB/s]"
          }
        },
        "ec962948056341309041e367c42c50e1": {
          "model_module": "@jupyter-widgets/base",
          "model_name": "LayoutModel",
          "model_module_version": "1.2.0",
          "state": {
            "_model_module": "@jupyter-widgets/base",
            "_model_module_version": "1.2.0",
            "_model_name": "LayoutModel",
            "_view_count": null,
            "_view_module": "@jupyter-widgets/base",
            "_view_module_version": "1.2.0",
            "_view_name": "LayoutView",
            "align_content": null,
            "align_items": null,
            "align_self": null,
            "border": null,
            "bottom": null,
            "display": null,
            "flex": null,
            "flex_flow": null,
            "grid_area": null,
            "grid_auto_columns": null,
            "grid_auto_flow": null,
            "grid_auto_rows": null,
            "grid_column": null,
            "grid_gap": null,
            "grid_row": null,
            "grid_template_areas": null,
            "grid_template_columns": null,
            "grid_template_rows": null,
            "height": null,
            "justify_content": null,
            "justify_items": null,
            "left": null,
            "margin": null,
            "max_height": null,
            "max_width": null,
            "min_height": null,
            "min_width": null,
            "object_fit": null,
            "object_position": null,
            "order": null,
            "overflow": null,
            "overflow_x": null,
            "overflow_y": null,
            "padding": null,
            "right": null,
            "top": null,
            "visibility": null,
            "width": null
          }
        },
        "5034c70c2415413cab00c0f04e4bac58": {
          "model_module": "@jupyter-widgets/base",
          "model_name": "LayoutModel",
          "model_module_version": "1.2.0",
          "state": {
            "_model_module": "@jupyter-widgets/base",
            "_model_module_version": "1.2.0",
            "_model_name": "LayoutModel",
            "_view_count": null,
            "_view_module": "@jupyter-widgets/base",
            "_view_module_version": "1.2.0",
            "_view_name": "LayoutView",
            "align_content": null,
            "align_items": null,
            "align_self": null,
            "border": null,
            "bottom": null,
            "display": null,
            "flex": null,
            "flex_flow": null,
            "grid_area": null,
            "grid_auto_columns": null,
            "grid_auto_flow": null,
            "grid_auto_rows": null,
            "grid_column": null,
            "grid_gap": null,
            "grid_row": null,
            "grid_template_areas": null,
            "grid_template_columns": null,
            "grid_template_rows": null,
            "height": null,
            "justify_content": null,
            "justify_items": null,
            "left": null,
            "margin": null,
            "max_height": null,
            "max_width": null,
            "min_height": null,
            "min_width": null,
            "object_fit": null,
            "object_position": null,
            "order": null,
            "overflow": null,
            "overflow_x": null,
            "overflow_y": null,
            "padding": null,
            "right": null,
            "top": null,
            "visibility": null,
            "width": null
          }
        },
        "cf418b0c4ccd4bc98b1afcbeec922cdf": {
          "model_module": "@jupyter-widgets/controls",
          "model_name": "DescriptionStyleModel",
          "model_module_version": "1.5.0",
          "state": {
            "_model_module": "@jupyter-widgets/controls",
            "_model_module_version": "1.5.0",
            "_model_name": "DescriptionStyleModel",
            "_view_count": null,
            "_view_module": "@jupyter-widgets/base",
            "_view_module_version": "1.2.0",
            "_view_name": "StyleView",
            "description_width": ""
          }
        },
        "3c25884c609947249f6bb94d9de43e14": {
          "model_module": "@jupyter-widgets/base",
          "model_name": "LayoutModel",
          "model_module_version": "1.2.0",
          "state": {
            "_model_module": "@jupyter-widgets/base",
            "_model_module_version": "1.2.0",
            "_model_name": "LayoutModel",
            "_view_count": null,
            "_view_module": "@jupyter-widgets/base",
            "_view_module_version": "1.2.0",
            "_view_name": "LayoutView",
            "align_content": null,
            "align_items": null,
            "align_self": null,
            "border": null,
            "bottom": null,
            "display": null,
            "flex": null,
            "flex_flow": null,
            "grid_area": null,
            "grid_auto_columns": null,
            "grid_auto_flow": null,
            "grid_auto_rows": null,
            "grid_column": null,
            "grid_gap": null,
            "grid_row": null,
            "grid_template_areas": null,
            "grid_template_columns": null,
            "grid_template_rows": null,
            "height": null,
            "justify_content": null,
            "justify_items": null,
            "left": null,
            "margin": null,
            "max_height": null,
            "max_width": null,
            "min_height": null,
            "min_width": null,
            "object_fit": null,
            "object_position": null,
            "order": null,
            "overflow": null,
            "overflow_x": null,
            "overflow_y": null,
            "padding": null,
            "right": null,
            "top": null,
            "visibility": null,
            "width": null
          }
        },
        "59aa48c0f6c5457690bbeccb37484ef2": {
          "model_module": "@jupyter-widgets/controls",
          "model_name": "ProgressStyleModel",
          "model_module_version": "1.5.0",
          "state": {
            "_model_module": "@jupyter-widgets/controls",
            "_model_module_version": "1.5.0",
            "_model_name": "ProgressStyleModel",
            "_view_count": null,
            "_view_module": "@jupyter-widgets/base",
            "_view_module_version": "1.2.0",
            "_view_name": "StyleView",
            "bar_color": null,
            "description_width": ""
          }
        },
        "4294e2aba05b4176a857a14bae05008f": {
          "model_module": "@jupyter-widgets/base",
          "model_name": "LayoutModel",
          "model_module_version": "1.2.0",
          "state": {
            "_model_module": "@jupyter-widgets/base",
            "_model_module_version": "1.2.0",
            "_model_name": "LayoutModel",
            "_view_count": null,
            "_view_module": "@jupyter-widgets/base",
            "_view_module_version": "1.2.0",
            "_view_name": "LayoutView",
            "align_content": null,
            "align_items": null,
            "align_self": null,
            "border": null,
            "bottom": null,
            "display": null,
            "flex": null,
            "flex_flow": null,
            "grid_area": null,
            "grid_auto_columns": null,
            "grid_auto_flow": null,
            "grid_auto_rows": null,
            "grid_column": null,
            "grid_gap": null,
            "grid_row": null,
            "grid_template_areas": null,
            "grid_template_columns": null,
            "grid_template_rows": null,
            "height": null,
            "justify_content": null,
            "justify_items": null,
            "left": null,
            "margin": null,
            "max_height": null,
            "max_width": null,
            "min_height": null,
            "min_width": null,
            "object_fit": null,
            "object_position": null,
            "order": null,
            "overflow": null,
            "overflow_x": null,
            "overflow_y": null,
            "padding": null,
            "right": null,
            "top": null,
            "visibility": null,
            "width": null
          }
        },
        "17263226fa8746218406a1a773227f92": {
          "model_module": "@jupyter-widgets/controls",
          "model_name": "DescriptionStyleModel",
          "model_module_version": "1.5.0",
          "state": {
            "_model_module": "@jupyter-widgets/controls",
            "_model_module_version": "1.5.0",
            "_model_name": "DescriptionStyleModel",
            "_view_count": null,
            "_view_module": "@jupyter-widgets/base",
            "_view_module_version": "1.2.0",
            "_view_name": "StyleView",
            "description_width": ""
          }
        },
        "e33a2e54435b48459584d47bd65f1efd": {
          "model_module": "@jupyter-widgets/controls",
          "model_name": "HBoxModel",
          "model_module_version": "1.5.0",
          "state": {
            "_dom_classes": [],
            "_model_module": "@jupyter-widgets/controls",
            "_model_module_version": "1.5.0",
            "_model_name": "HBoxModel",
            "_view_count": null,
            "_view_module": "@jupyter-widgets/controls",
            "_view_module_version": "1.5.0",
            "_view_name": "HBoxView",
            "box_style": "",
            "children": [
              "IPY_MODEL_5c53da6cda854daeb7f07058bc53399d",
              "IPY_MODEL_6693dd9559ef488bbe702a08d3ce66f2",
              "IPY_MODEL_e647e613ab8c40308297c00ef96467bf"
            ],
            "layout": "IPY_MODEL_b9c12ed29e3d483790cc759dd50075b4"
          }
        },
        "5c53da6cda854daeb7f07058bc53399d": {
          "model_module": "@jupyter-widgets/controls",
          "model_name": "HTMLModel",
          "model_module_version": "1.5.0",
          "state": {
            "_dom_classes": [],
            "_model_module": "@jupyter-widgets/controls",
            "_model_module_version": "1.5.0",
            "_model_name": "HTMLModel",
            "_view_count": null,
            "_view_module": "@jupyter-widgets/controls",
            "_view_module_version": "1.5.0",
            "_view_name": "HTMLView",
            "description": "",
            "description_tooltip": null,
            "layout": "IPY_MODEL_bba5d175b11e49fdad2953277a4bb1ad",
            "placeholder": "​",
            "style": "IPY_MODEL_e8fa2ffb12bd4c5a8450f96136f4a2ce",
            "value": "Downloading (…)cial_tokens_map.json: 100%"
          }
        },
        "6693dd9559ef488bbe702a08d3ce66f2": {
          "model_module": "@jupyter-widgets/controls",
          "model_name": "FloatProgressModel",
          "model_module_version": "1.5.0",
          "state": {
            "_dom_classes": [],
            "_model_module": "@jupyter-widgets/controls",
            "_model_module_version": "1.5.0",
            "_model_name": "FloatProgressModel",
            "_view_count": null,
            "_view_module": "@jupyter-widgets/controls",
            "_view_module_version": "1.5.0",
            "_view_name": "ProgressView",
            "bar_style": "success",
            "description": "",
            "description_tooltip": null,
            "layout": "IPY_MODEL_dd20c658193f41fe9c222d746eb2fab4",
            "max": 239,
            "min": 0,
            "orientation": "horizontal",
            "style": "IPY_MODEL_7c324afc47ba4c31b7e559ecfee88ea0",
            "value": 239
          }
        },
        "e647e613ab8c40308297c00ef96467bf": {
          "model_module": "@jupyter-widgets/controls",
          "model_name": "HTMLModel",
          "model_module_version": "1.5.0",
          "state": {
            "_dom_classes": [],
            "_model_module": "@jupyter-widgets/controls",
            "_model_module_version": "1.5.0",
            "_model_name": "HTMLModel",
            "_view_count": null,
            "_view_module": "@jupyter-widgets/controls",
            "_view_module_version": "1.5.0",
            "_view_name": "HTMLView",
            "description": "",
            "description_tooltip": null,
            "layout": "IPY_MODEL_4db89b1062ce4aa0ae9adce097e4d379",
            "placeholder": "​",
            "style": "IPY_MODEL_4ad1f819d21b4b328633e3add4688e56",
            "value": " 239/239 [00:00&lt;00:00, 19.0kB/s]"
          }
        },
        "b9c12ed29e3d483790cc759dd50075b4": {
          "model_module": "@jupyter-widgets/base",
          "model_name": "LayoutModel",
          "model_module_version": "1.2.0",
          "state": {
            "_model_module": "@jupyter-widgets/base",
            "_model_module_version": "1.2.0",
            "_model_name": "LayoutModel",
            "_view_count": null,
            "_view_module": "@jupyter-widgets/base",
            "_view_module_version": "1.2.0",
            "_view_name": "LayoutView",
            "align_content": null,
            "align_items": null,
            "align_self": null,
            "border": null,
            "bottom": null,
            "display": null,
            "flex": null,
            "flex_flow": null,
            "grid_area": null,
            "grid_auto_columns": null,
            "grid_auto_flow": null,
            "grid_auto_rows": null,
            "grid_column": null,
            "grid_gap": null,
            "grid_row": null,
            "grid_template_areas": null,
            "grid_template_columns": null,
            "grid_template_rows": null,
            "height": null,
            "justify_content": null,
            "justify_items": null,
            "left": null,
            "margin": null,
            "max_height": null,
            "max_width": null,
            "min_height": null,
            "min_width": null,
            "object_fit": null,
            "object_position": null,
            "order": null,
            "overflow": null,
            "overflow_x": null,
            "overflow_y": null,
            "padding": null,
            "right": null,
            "top": null,
            "visibility": null,
            "width": null
          }
        },
        "bba5d175b11e49fdad2953277a4bb1ad": {
          "model_module": "@jupyter-widgets/base",
          "model_name": "LayoutModel",
          "model_module_version": "1.2.0",
          "state": {
            "_model_module": "@jupyter-widgets/base",
            "_model_module_version": "1.2.0",
            "_model_name": "LayoutModel",
            "_view_count": null,
            "_view_module": "@jupyter-widgets/base",
            "_view_module_version": "1.2.0",
            "_view_name": "LayoutView",
            "align_content": null,
            "align_items": null,
            "align_self": null,
            "border": null,
            "bottom": null,
            "display": null,
            "flex": null,
            "flex_flow": null,
            "grid_area": null,
            "grid_auto_columns": null,
            "grid_auto_flow": null,
            "grid_auto_rows": null,
            "grid_column": null,
            "grid_gap": null,
            "grid_row": null,
            "grid_template_areas": null,
            "grid_template_columns": null,
            "grid_template_rows": null,
            "height": null,
            "justify_content": null,
            "justify_items": null,
            "left": null,
            "margin": null,
            "max_height": null,
            "max_width": null,
            "min_height": null,
            "min_width": null,
            "object_fit": null,
            "object_position": null,
            "order": null,
            "overflow": null,
            "overflow_x": null,
            "overflow_y": null,
            "padding": null,
            "right": null,
            "top": null,
            "visibility": null,
            "width": null
          }
        },
        "e8fa2ffb12bd4c5a8450f96136f4a2ce": {
          "model_module": "@jupyter-widgets/controls",
          "model_name": "DescriptionStyleModel",
          "model_module_version": "1.5.0",
          "state": {
            "_model_module": "@jupyter-widgets/controls",
            "_model_module_version": "1.5.0",
            "_model_name": "DescriptionStyleModel",
            "_view_count": null,
            "_view_module": "@jupyter-widgets/base",
            "_view_module_version": "1.2.0",
            "_view_name": "StyleView",
            "description_width": ""
          }
        },
        "dd20c658193f41fe9c222d746eb2fab4": {
          "model_module": "@jupyter-widgets/base",
          "model_name": "LayoutModel",
          "model_module_version": "1.2.0",
          "state": {
            "_model_module": "@jupyter-widgets/base",
            "_model_module_version": "1.2.0",
            "_model_name": "LayoutModel",
            "_view_count": null,
            "_view_module": "@jupyter-widgets/base",
            "_view_module_version": "1.2.0",
            "_view_name": "LayoutView",
            "align_content": null,
            "align_items": null,
            "align_self": null,
            "border": null,
            "bottom": null,
            "display": null,
            "flex": null,
            "flex_flow": null,
            "grid_area": null,
            "grid_auto_columns": null,
            "grid_auto_flow": null,
            "grid_auto_rows": null,
            "grid_column": null,
            "grid_gap": null,
            "grid_row": null,
            "grid_template_areas": null,
            "grid_template_columns": null,
            "grid_template_rows": null,
            "height": null,
            "justify_content": null,
            "justify_items": null,
            "left": null,
            "margin": null,
            "max_height": null,
            "max_width": null,
            "min_height": null,
            "min_width": null,
            "object_fit": null,
            "object_position": null,
            "order": null,
            "overflow": null,
            "overflow_x": null,
            "overflow_y": null,
            "padding": null,
            "right": null,
            "top": null,
            "visibility": null,
            "width": null
          }
        },
        "7c324afc47ba4c31b7e559ecfee88ea0": {
          "model_module": "@jupyter-widgets/controls",
          "model_name": "ProgressStyleModel",
          "model_module_version": "1.5.0",
          "state": {
            "_model_module": "@jupyter-widgets/controls",
            "_model_module_version": "1.5.0",
            "_model_name": "ProgressStyleModel",
            "_view_count": null,
            "_view_module": "@jupyter-widgets/base",
            "_view_module_version": "1.2.0",
            "_view_name": "StyleView",
            "bar_color": null,
            "description_width": ""
          }
        },
        "4db89b1062ce4aa0ae9adce097e4d379": {
          "model_module": "@jupyter-widgets/base",
          "model_name": "LayoutModel",
          "model_module_version": "1.2.0",
          "state": {
            "_model_module": "@jupyter-widgets/base",
            "_model_module_version": "1.2.0",
            "_model_name": "LayoutModel",
            "_view_count": null,
            "_view_module": "@jupyter-widgets/base",
            "_view_module_version": "1.2.0",
            "_view_name": "LayoutView",
            "align_content": null,
            "align_items": null,
            "align_self": null,
            "border": null,
            "bottom": null,
            "display": null,
            "flex": null,
            "flex_flow": null,
            "grid_area": null,
            "grid_auto_columns": null,
            "grid_auto_flow": null,
            "grid_auto_rows": null,
            "grid_column": null,
            "grid_gap": null,
            "grid_row": null,
            "grid_template_areas": null,
            "grid_template_columns": null,
            "grid_template_rows": null,
            "height": null,
            "justify_content": null,
            "justify_items": null,
            "left": null,
            "margin": null,
            "max_height": null,
            "max_width": null,
            "min_height": null,
            "min_width": null,
            "object_fit": null,
            "object_position": null,
            "order": null,
            "overflow": null,
            "overflow_x": null,
            "overflow_y": null,
            "padding": null,
            "right": null,
            "top": null,
            "visibility": null,
            "width": null
          }
        },
        "4ad1f819d21b4b328633e3add4688e56": {
          "model_module": "@jupyter-widgets/controls",
          "model_name": "DescriptionStyleModel",
          "model_module_version": "1.5.0",
          "state": {
            "_model_module": "@jupyter-widgets/controls",
            "_model_module_version": "1.5.0",
            "_model_name": "DescriptionStyleModel",
            "_view_count": null,
            "_view_module": "@jupyter-widgets/base",
            "_view_module_version": "1.2.0",
            "_view_name": "StyleView",
            "description_width": ""
          }
        },
        "a19cdad2564f46c099273211ec93ffa1": {
          "model_module": "@jupyter-widgets/controls",
          "model_name": "HBoxModel",
          "model_module_version": "1.5.0",
          "state": {
            "_dom_classes": [],
            "_model_module": "@jupyter-widgets/controls",
            "_model_module_version": "1.5.0",
            "_model_name": "HBoxModel",
            "_view_count": null,
            "_view_module": "@jupyter-widgets/controls",
            "_view_module_version": "1.5.0",
            "_view_name": "HBoxView",
            "box_style": "",
            "children": [
              "IPY_MODEL_47821cf9a52a4ddcb6a7d01eca2d5eb9",
              "IPY_MODEL_f8ca2f8a8c6a4e94bb7994696be2a265",
              "IPY_MODEL_485d3bf5b1a54b48a2b1a578c7bd2319"
            ],
            "layout": "IPY_MODEL_e0390cf258fd41f6b300f4061bcf530c"
          }
        },
        "47821cf9a52a4ddcb6a7d01eca2d5eb9": {
          "model_module": "@jupyter-widgets/controls",
          "model_name": "HTMLModel",
          "model_module_version": "1.5.0",
          "state": {
            "_dom_classes": [],
            "_model_module": "@jupyter-widgets/controls",
            "_model_module_version": "1.5.0",
            "_model_name": "HTMLModel",
            "_view_count": null,
            "_view_module": "@jupyter-widgets/controls",
            "_view_module_version": "1.5.0",
            "_view_name": "HTMLView",
            "description": "",
            "description_tooltip": null,
            "layout": "IPY_MODEL_ababdf2ea1fe40a89557bfc486b4d905",
            "placeholder": "​",
            "style": "IPY_MODEL_9a26156a50ce420f9f8733edd82bb021",
            "value": "Downloading (…)okenizer_config.json: 100%"
          }
        },
        "f8ca2f8a8c6a4e94bb7994696be2a265": {
          "model_module": "@jupyter-widgets/controls",
          "model_name": "FloatProgressModel",
          "model_module_version": "1.5.0",
          "state": {
            "_dom_classes": [],
            "_model_module": "@jupyter-widgets/controls",
            "_model_module_version": "1.5.0",
            "_model_name": "FloatProgressModel",
            "_view_count": null,
            "_view_module": "@jupyter-widgets/controls",
            "_view_module_version": "1.5.0",
            "_view_name": "ProgressView",
            "bar_style": "success",
            "description": "",
            "description_tooltip": null,
            "layout": "IPY_MODEL_698cd5e6947a4d9e8b14559cbbf22fcd",
            "max": 300,
            "min": 0,
            "orientation": "horizontal",
            "style": "IPY_MODEL_9163a1ca1b0b40f79eb68bff5aeac085",
            "value": 300
          }
        },
        "485d3bf5b1a54b48a2b1a578c7bd2319": {
          "model_module": "@jupyter-widgets/controls",
          "model_name": "HTMLModel",
          "model_module_version": "1.5.0",
          "state": {
            "_dom_classes": [],
            "_model_module": "@jupyter-widgets/controls",
            "_model_module_version": "1.5.0",
            "_model_name": "HTMLModel",
            "_view_count": null,
            "_view_module": "@jupyter-widgets/controls",
            "_view_module_version": "1.5.0",
            "_view_name": "HTMLView",
            "description": "",
            "description_tooltip": null,
            "layout": "IPY_MODEL_bedf721c3476443ba6bafce271ced811",
            "placeholder": "​",
            "style": "IPY_MODEL_aa7aa314b1504e35b2a905d2ef3a7002",
            "value": " 300/300 [00:00&lt;00:00, 22.8kB/s]"
          }
        },
        "e0390cf258fd41f6b300f4061bcf530c": {
          "model_module": "@jupyter-widgets/base",
          "model_name": "LayoutModel",
          "model_module_version": "1.2.0",
          "state": {
            "_model_module": "@jupyter-widgets/base",
            "_model_module_version": "1.2.0",
            "_model_name": "LayoutModel",
            "_view_count": null,
            "_view_module": "@jupyter-widgets/base",
            "_view_module_version": "1.2.0",
            "_view_name": "LayoutView",
            "align_content": null,
            "align_items": null,
            "align_self": null,
            "border": null,
            "bottom": null,
            "display": null,
            "flex": null,
            "flex_flow": null,
            "grid_area": null,
            "grid_auto_columns": null,
            "grid_auto_flow": null,
            "grid_auto_rows": null,
            "grid_column": null,
            "grid_gap": null,
            "grid_row": null,
            "grid_template_areas": null,
            "grid_template_columns": null,
            "grid_template_rows": null,
            "height": null,
            "justify_content": null,
            "justify_items": null,
            "left": null,
            "margin": null,
            "max_height": null,
            "max_width": null,
            "min_height": null,
            "min_width": null,
            "object_fit": null,
            "object_position": null,
            "order": null,
            "overflow": null,
            "overflow_x": null,
            "overflow_y": null,
            "padding": null,
            "right": null,
            "top": null,
            "visibility": null,
            "width": null
          }
        },
        "ababdf2ea1fe40a89557bfc486b4d905": {
          "model_module": "@jupyter-widgets/base",
          "model_name": "LayoutModel",
          "model_module_version": "1.2.0",
          "state": {
            "_model_module": "@jupyter-widgets/base",
            "_model_module_version": "1.2.0",
            "_model_name": "LayoutModel",
            "_view_count": null,
            "_view_module": "@jupyter-widgets/base",
            "_view_module_version": "1.2.0",
            "_view_name": "LayoutView",
            "align_content": null,
            "align_items": null,
            "align_self": null,
            "border": null,
            "bottom": null,
            "display": null,
            "flex": null,
            "flex_flow": null,
            "grid_area": null,
            "grid_auto_columns": null,
            "grid_auto_flow": null,
            "grid_auto_rows": null,
            "grid_column": null,
            "grid_gap": null,
            "grid_row": null,
            "grid_template_areas": null,
            "grid_template_columns": null,
            "grid_template_rows": null,
            "height": null,
            "justify_content": null,
            "justify_items": null,
            "left": null,
            "margin": null,
            "max_height": null,
            "max_width": null,
            "min_height": null,
            "min_width": null,
            "object_fit": null,
            "object_position": null,
            "order": null,
            "overflow": null,
            "overflow_x": null,
            "overflow_y": null,
            "padding": null,
            "right": null,
            "top": null,
            "visibility": null,
            "width": null
          }
        },
        "9a26156a50ce420f9f8733edd82bb021": {
          "model_module": "@jupyter-widgets/controls",
          "model_name": "DescriptionStyleModel",
          "model_module_version": "1.5.0",
          "state": {
            "_model_module": "@jupyter-widgets/controls",
            "_model_module_version": "1.5.0",
            "_model_name": "DescriptionStyleModel",
            "_view_count": null,
            "_view_module": "@jupyter-widgets/base",
            "_view_module_version": "1.2.0",
            "_view_name": "StyleView",
            "description_width": ""
          }
        },
        "698cd5e6947a4d9e8b14559cbbf22fcd": {
          "model_module": "@jupyter-widgets/base",
          "model_name": "LayoutModel",
          "model_module_version": "1.2.0",
          "state": {
            "_model_module": "@jupyter-widgets/base",
            "_model_module_version": "1.2.0",
            "_model_name": "LayoutModel",
            "_view_count": null,
            "_view_module": "@jupyter-widgets/base",
            "_view_module_version": "1.2.0",
            "_view_name": "LayoutView",
            "align_content": null,
            "align_items": null,
            "align_self": null,
            "border": null,
            "bottom": null,
            "display": null,
            "flex": null,
            "flex_flow": null,
            "grid_area": null,
            "grid_auto_columns": null,
            "grid_auto_flow": null,
            "grid_auto_rows": null,
            "grid_column": null,
            "grid_gap": null,
            "grid_row": null,
            "grid_template_areas": null,
            "grid_template_columns": null,
            "grid_template_rows": null,
            "height": null,
            "justify_content": null,
            "justify_items": null,
            "left": null,
            "margin": null,
            "max_height": null,
            "max_width": null,
            "min_height": null,
            "min_width": null,
            "object_fit": null,
            "object_position": null,
            "order": null,
            "overflow": null,
            "overflow_x": null,
            "overflow_y": null,
            "padding": null,
            "right": null,
            "top": null,
            "visibility": null,
            "width": null
          }
        },
        "9163a1ca1b0b40f79eb68bff5aeac085": {
          "model_module": "@jupyter-widgets/controls",
          "model_name": "ProgressStyleModel",
          "model_module_version": "1.5.0",
          "state": {
            "_model_module": "@jupyter-widgets/controls",
            "_model_module_version": "1.5.0",
            "_model_name": "ProgressStyleModel",
            "_view_count": null,
            "_view_module": "@jupyter-widgets/base",
            "_view_module_version": "1.2.0",
            "_view_name": "StyleView",
            "bar_color": null,
            "description_width": ""
          }
        },
        "bedf721c3476443ba6bafce271ced811": {
          "model_module": "@jupyter-widgets/base",
          "model_name": "LayoutModel",
          "model_module_version": "1.2.0",
          "state": {
            "_model_module": "@jupyter-widgets/base",
            "_model_module_version": "1.2.0",
            "_model_name": "LayoutModel",
            "_view_count": null,
            "_view_module": "@jupyter-widgets/base",
            "_view_module_version": "1.2.0",
            "_view_name": "LayoutView",
            "align_content": null,
            "align_items": null,
            "align_self": null,
            "border": null,
            "bottom": null,
            "display": null,
            "flex": null,
            "flex_flow": null,
            "grid_area": null,
            "grid_auto_columns": null,
            "grid_auto_flow": null,
            "grid_auto_rows": null,
            "grid_column": null,
            "grid_gap": null,
            "grid_row": null,
            "grid_template_areas": null,
            "grid_template_columns": null,
            "grid_template_rows": null,
            "height": null,
            "justify_content": null,
            "justify_items": null,
            "left": null,
            "margin": null,
            "max_height": null,
            "max_width": null,
            "min_height": null,
            "min_width": null,
            "object_fit": null,
            "object_position": null,
            "order": null,
            "overflow": null,
            "overflow_x": null,
            "overflow_y": null,
            "padding": null,
            "right": null,
            "top": null,
            "visibility": null,
            "width": null
          }
        },
        "aa7aa314b1504e35b2a905d2ef3a7002": {
          "model_module": "@jupyter-widgets/controls",
          "model_name": "DescriptionStyleModel",
          "model_module_version": "1.5.0",
          "state": {
            "_model_module": "@jupyter-widgets/controls",
            "_model_module_version": "1.5.0",
            "_model_name": "DescriptionStyleModel",
            "_view_count": null,
            "_view_module": "@jupyter-widgets/base",
            "_view_module_version": "1.2.0",
            "_view_name": "StyleView",
            "description_width": ""
          }
        },
        "122b7fb1993e4affabc0f749e834385c": {
          "model_module": "@jupyter-widgets/controls",
          "model_name": "HBoxModel",
          "model_module_version": "1.5.0",
          "state": {
            "_dom_classes": [],
            "_model_module": "@jupyter-widgets/controls",
            "_model_module_version": "1.5.0",
            "_model_name": "HBoxModel",
            "_view_count": null,
            "_view_module": "@jupyter-widgets/controls",
            "_view_module_version": "1.5.0",
            "_view_name": "HBoxView",
            "box_style": "",
            "children": [
              "IPY_MODEL_7c33803f7c984c57b51a67d90252f503",
              "IPY_MODEL_2f57dfd23bf041bbb675546eeec45f9e",
              "IPY_MODEL_a9e6aed7e7a644c9b574a7cfaa8287f2"
            ],
            "layout": "IPY_MODEL_673ba2b655f74ea5b2a6d3ee993aa543"
          }
        },
        "7c33803f7c984c57b51a67d90252f503": {
          "model_module": "@jupyter-widgets/controls",
          "model_name": "HTMLModel",
          "model_module_version": "1.5.0",
          "state": {
            "_dom_classes": [],
            "_model_module": "@jupyter-widgets/controls",
            "_model_module_version": "1.5.0",
            "_model_name": "HTMLModel",
            "_view_count": null,
            "_view_module": "@jupyter-widgets/controls",
            "_view_module_version": "1.5.0",
            "_view_name": "HTMLView",
            "description": "",
            "description_tooltip": null,
            "layout": "IPY_MODEL_9f47b5b70d9a48f4a96cd5a78d8dc513",
            "placeholder": "​",
            "style": "IPY_MODEL_7df6ba9140d64e8698b7784e62f2b00d",
            "value": "Downloading (…)lve/main/config.json: 100%"
          }
        },
        "2f57dfd23bf041bbb675546eeec45f9e": {
          "model_module": "@jupyter-widgets/controls",
          "model_name": "FloatProgressModel",
          "model_module_version": "1.5.0",
          "state": {
            "_dom_classes": [],
            "_model_module": "@jupyter-widgets/controls",
            "_model_module_version": "1.5.0",
            "_model_name": "FloatProgressModel",
            "_view_count": null,
            "_view_module": "@jupyter-widgets/controls",
            "_view_module_version": "1.5.0",
            "_view_name": "ProgressView",
            "bar_style": "success",
            "description": "",
            "description_tooltip": null,
            "layout": "IPY_MODEL_6f38683fb07145c481c9d5b10463e06f",
            "max": 1626,
            "min": 0,
            "orientation": "horizontal",
            "style": "IPY_MODEL_16af108bea994e82bb156d3a6286ba9c",
            "value": 1626
          }
        },
        "a9e6aed7e7a644c9b574a7cfaa8287f2": {
          "model_module": "@jupyter-widgets/controls",
          "model_name": "HTMLModel",
          "model_module_version": "1.5.0",
          "state": {
            "_dom_classes": [],
            "_model_module": "@jupyter-widgets/controls",
            "_model_module_version": "1.5.0",
            "_model_name": "HTMLModel",
            "_view_count": null,
            "_view_module": "@jupyter-widgets/controls",
            "_view_module_version": "1.5.0",
            "_view_name": "HTMLView",
            "description": "",
            "description_tooltip": null,
            "layout": "IPY_MODEL_edeb97dddd3240dd9159ab72c3b95154",
            "placeholder": "​",
            "style": "IPY_MODEL_d0d4a68fa52e46dfaa109cec488f6723",
            "value": " 1.63k/1.63k [00:00&lt;00:00, 93.0kB/s]"
          }
        },
        "673ba2b655f74ea5b2a6d3ee993aa543": {
          "model_module": "@jupyter-widgets/base",
          "model_name": "LayoutModel",
          "model_module_version": "1.2.0",
          "state": {
            "_model_module": "@jupyter-widgets/base",
            "_model_module_version": "1.2.0",
            "_model_name": "LayoutModel",
            "_view_count": null,
            "_view_module": "@jupyter-widgets/base",
            "_view_module_version": "1.2.0",
            "_view_name": "LayoutView",
            "align_content": null,
            "align_items": null,
            "align_self": null,
            "border": null,
            "bottom": null,
            "display": null,
            "flex": null,
            "flex_flow": null,
            "grid_area": null,
            "grid_auto_columns": null,
            "grid_auto_flow": null,
            "grid_auto_rows": null,
            "grid_column": null,
            "grid_gap": null,
            "grid_row": null,
            "grid_template_areas": null,
            "grid_template_columns": null,
            "grid_template_rows": null,
            "height": null,
            "justify_content": null,
            "justify_items": null,
            "left": null,
            "margin": null,
            "max_height": null,
            "max_width": null,
            "min_height": null,
            "min_width": null,
            "object_fit": null,
            "object_position": null,
            "order": null,
            "overflow": null,
            "overflow_x": null,
            "overflow_y": null,
            "padding": null,
            "right": null,
            "top": null,
            "visibility": null,
            "width": null
          }
        },
        "9f47b5b70d9a48f4a96cd5a78d8dc513": {
          "model_module": "@jupyter-widgets/base",
          "model_name": "LayoutModel",
          "model_module_version": "1.2.0",
          "state": {
            "_model_module": "@jupyter-widgets/base",
            "_model_module_version": "1.2.0",
            "_model_name": "LayoutModel",
            "_view_count": null,
            "_view_module": "@jupyter-widgets/base",
            "_view_module_version": "1.2.0",
            "_view_name": "LayoutView",
            "align_content": null,
            "align_items": null,
            "align_self": null,
            "border": null,
            "bottom": null,
            "display": null,
            "flex": null,
            "flex_flow": null,
            "grid_area": null,
            "grid_auto_columns": null,
            "grid_auto_flow": null,
            "grid_auto_rows": null,
            "grid_column": null,
            "grid_gap": null,
            "grid_row": null,
            "grid_template_areas": null,
            "grid_template_columns": null,
            "grid_template_rows": null,
            "height": null,
            "justify_content": null,
            "justify_items": null,
            "left": null,
            "margin": null,
            "max_height": null,
            "max_width": null,
            "min_height": null,
            "min_width": null,
            "object_fit": null,
            "object_position": null,
            "order": null,
            "overflow": null,
            "overflow_x": null,
            "overflow_y": null,
            "padding": null,
            "right": null,
            "top": null,
            "visibility": null,
            "width": null
          }
        },
        "7df6ba9140d64e8698b7784e62f2b00d": {
          "model_module": "@jupyter-widgets/controls",
          "model_name": "DescriptionStyleModel",
          "model_module_version": "1.5.0",
          "state": {
            "_model_module": "@jupyter-widgets/controls",
            "_model_module_version": "1.5.0",
            "_model_name": "DescriptionStyleModel",
            "_view_count": null,
            "_view_module": "@jupyter-widgets/base",
            "_view_module_version": "1.2.0",
            "_view_name": "StyleView",
            "description_width": ""
          }
        },
        "6f38683fb07145c481c9d5b10463e06f": {
          "model_module": "@jupyter-widgets/base",
          "model_name": "LayoutModel",
          "model_module_version": "1.2.0",
          "state": {
            "_model_module": "@jupyter-widgets/base",
            "_model_module_version": "1.2.0",
            "_model_name": "LayoutModel",
            "_view_count": null,
            "_view_module": "@jupyter-widgets/base",
            "_view_module_version": "1.2.0",
            "_view_name": "LayoutView",
            "align_content": null,
            "align_items": null,
            "align_self": null,
            "border": null,
            "bottom": null,
            "display": null,
            "flex": null,
            "flex_flow": null,
            "grid_area": null,
            "grid_auto_columns": null,
            "grid_auto_flow": null,
            "grid_auto_rows": null,
            "grid_column": null,
            "grid_gap": null,
            "grid_row": null,
            "grid_template_areas": null,
            "grid_template_columns": null,
            "grid_template_rows": null,
            "height": null,
            "justify_content": null,
            "justify_items": null,
            "left": null,
            "margin": null,
            "max_height": null,
            "max_width": null,
            "min_height": null,
            "min_width": null,
            "object_fit": null,
            "object_position": null,
            "order": null,
            "overflow": null,
            "overflow_x": null,
            "overflow_y": null,
            "padding": null,
            "right": null,
            "top": null,
            "visibility": null,
            "width": null
          }
        },
        "16af108bea994e82bb156d3a6286ba9c": {
          "model_module": "@jupyter-widgets/controls",
          "model_name": "ProgressStyleModel",
          "model_module_version": "1.5.0",
          "state": {
            "_model_module": "@jupyter-widgets/controls",
            "_model_module_version": "1.5.0",
            "_model_name": "ProgressStyleModel",
            "_view_count": null,
            "_view_module": "@jupyter-widgets/base",
            "_view_module_version": "1.2.0",
            "_view_name": "StyleView",
            "bar_color": null,
            "description_width": ""
          }
        },
        "edeb97dddd3240dd9159ab72c3b95154": {
          "model_module": "@jupyter-widgets/base",
          "model_name": "LayoutModel",
          "model_module_version": "1.2.0",
          "state": {
            "_model_module": "@jupyter-widgets/base",
            "_model_module_version": "1.2.0",
            "_model_name": "LayoutModel",
            "_view_count": null,
            "_view_module": "@jupyter-widgets/base",
            "_view_module_version": "1.2.0",
            "_view_name": "LayoutView",
            "align_content": null,
            "align_items": null,
            "align_self": null,
            "border": null,
            "bottom": null,
            "display": null,
            "flex": null,
            "flex_flow": null,
            "grid_area": null,
            "grid_auto_columns": null,
            "grid_auto_flow": null,
            "grid_auto_rows": null,
            "grid_column": null,
            "grid_gap": null,
            "grid_row": null,
            "grid_template_areas": null,
            "grid_template_columns": null,
            "grid_template_rows": null,
            "height": null,
            "justify_content": null,
            "justify_items": null,
            "left": null,
            "margin": null,
            "max_height": null,
            "max_width": null,
            "min_height": null,
            "min_width": null,
            "object_fit": null,
            "object_position": null,
            "order": null,
            "overflow": null,
            "overflow_x": null,
            "overflow_y": null,
            "padding": null,
            "right": null,
            "top": null,
            "visibility": null,
            "width": null
          }
        },
        "d0d4a68fa52e46dfaa109cec488f6723": {
          "model_module": "@jupyter-widgets/controls",
          "model_name": "DescriptionStyleModel",
          "model_module_version": "1.5.0",
          "state": {
            "_model_module": "@jupyter-widgets/controls",
            "_model_module_version": "1.5.0",
            "_model_name": "DescriptionStyleModel",
            "_view_count": null,
            "_view_module": "@jupyter-widgets/base",
            "_view_module_version": "1.2.0",
            "_view_name": "StyleView",
            "description_width": ""
          }
        },
        "5fedf9ef20184bea8dfd8302880030cc": {
          "model_module": "@jupyter-widgets/controls",
          "model_name": "HBoxModel",
          "model_module_version": "1.5.0",
          "state": {
            "_dom_classes": [],
            "_model_module": "@jupyter-widgets/controls",
            "_model_module_version": "1.5.0",
            "_model_name": "HBoxModel",
            "_view_count": null,
            "_view_module": "@jupyter-widgets/controls",
            "_view_module_version": "1.5.0",
            "_view_name": "HBoxView",
            "box_style": "",
            "children": [
              "IPY_MODEL_717a237eb14d4cdba40fccebc6bfb47f",
              "IPY_MODEL_ae8caf2231d14b0eba38330c67de1c52",
              "IPY_MODEL_43d6cf71f6a94b0ca288ce85de419196"
            ],
            "layout": "IPY_MODEL_e0369ec8499745cea85e5d6d3efe4dc5"
          }
        },
        "717a237eb14d4cdba40fccebc6bfb47f": {
          "model_module": "@jupyter-widgets/controls",
          "model_name": "HTMLModel",
          "model_module_version": "1.5.0",
          "state": {
            "_dom_classes": [],
            "_model_module": "@jupyter-widgets/controls",
            "_model_module_version": "1.5.0",
            "_model_name": "HTMLModel",
            "_view_count": null,
            "_view_module": "@jupyter-widgets/controls",
            "_view_module_version": "1.5.0",
            "_view_name": "HTMLView",
            "description": "",
            "description_tooltip": null,
            "layout": "IPY_MODEL_17cf75831a614722ad4896fbd38b6afa",
            "placeholder": "​",
            "style": "IPY_MODEL_ff33162e90e54910bed843008eb837f7",
            "value": "Downloading pytorch_model.bin: 100%"
          }
        },
        "ae8caf2231d14b0eba38330c67de1c52": {
          "model_module": "@jupyter-widgets/controls",
          "model_name": "FloatProgressModel",
          "model_module_version": "1.5.0",
          "state": {
            "_dom_classes": [],
            "_model_module": "@jupyter-widgets/controls",
            "_model_module_version": "1.5.0",
            "_model_name": "FloatProgressModel",
            "_view_count": null,
            "_view_module": "@jupyter-widgets/controls",
            "_view_module_version": "1.5.0",
            "_view_name": "ProgressView",
            "bar_style": "success",
            "description": "",
            "description_tooltip": null,
            "layout": "IPY_MODEL_c0ae88a02b3742269c59cd5a06f2f4cc",
            "max": 1625565295,
            "min": 0,
            "orientation": "horizontal",
            "style": "IPY_MODEL_41da2245a2be48a9b3f1aa107e905a69",
            "value": 1625565295
          }
        },
        "43d6cf71f6a94b0ca288ce85de419196": {
          "model_module": "@jupyter-widgets/controls",
          "model_name": "HTMLModel",
          "model_module_version": "1.5.0",
          "state": {
            "_dom_classes": [],
            "_model_module": "@jupyter-widgets/controls",
            "_model_module_version": "1.5.0",
            "_model_name": "HTMLModel",
            "_view_count": null,
            "_view_module": "@jupyter-widgets/controls",
            "_view_module_version": "1.5.0",
            "_view_name": "HTMLView",
            "description": "",
            "description_tooltip": null,
            "layout": "IPY_MODEL_814f86fd923947b2b9a84657c95438ed",
            "placeholder": "​",
            "style": "IPY_MODEL_64f01b59802943e6b5eccb9f9f960bbc",
            "value": " 1.63G/1.63G [00:08&lt;00:00, 219MB/s]"
          }
        },
        "e0369ec8499745cea85e5d6d3efe4dc5": {
          "model_module": "@jupyter-widgets/base",
          "model_name": "LayoutModel",
          "model_module_version": "1.2.0",
          "state": {
            "_model_module": "@jupyter-widgets/base",
            "_model_module_version": "1.2.0",
            "_model_name": "LayoutModel",
            "_view_count": null,
            "_view_module": "@jupyter-widgets/base",
            "_view_module_version": "1.2.0",
            "_view_name": "LayoutView",
            "align_content": null,
            "align_items": null,
            "align_self": null,
            "border": null,
            "bottom": null,
            "display": null,
            "flex": null,
            "flex_flow": null,
            "grid_area": null,
            "grid_auto_columns": null,
            "grid_auto_flow": null,
            "grid_auto_rows": null,
            "grid_column": null,
            "grid_gap": null,
            "grid_row": null,
            "grid_template_areas": null,
            "grid_template_columns": null,
            "grid_template_rows": null,
            "height": null,
            "justify_content": null,
            "justify_items": null,
            "left": null,
            "margin": null,
            "max_height": null,
            "max_width": null,
            "min_height": null,
            "min_width": null,
            "object_fit": null,
            "object_position": null,
            "order": null,
            "overflow": null,
            "overflow_x": null,
            "overflow_y": null,
            "padding": null,
            "right": null,
            "top": null,
            "visibility": null,
            "width": null
          }
        },
        "17cf75831a614722ad4896fbd38b6afa": {
          "model_module": "@jupyter-widgets/base",
          "model_name": "LayoutModel",
          "model_module_version": "1.2.0",
          "state": {
            "_model_module": "@jupyter-widgets/base",
            "_model_module_version": "1.2.0",
            "_model_name": "LayoutModel",
            "_view_count": null,
            "_view_module": "@jupyter-widgets/base",
            "_view_module_version": "1.2.0",
            "_view_name": "LayoutView",
            "align_content": null,
            "align_items": null,
            "align_self": null,
            "border": null,
            "bottom": null,
            "display": null,
            "flex": null,
            "flex_flow": null,
            "grid_area": null,
            "grid_auto_columns": null,
            "grid_auto_flow": null,
            "grid_auto_rows": null,
            "grid_column": null,
            "grid_gap": null,
            "grid_row": null,
            "grid_template_areas": null,
            "grid_template_columns": null,
            "grid_template_rows": null,
            "height": null,
            "justify_content": null,
            "justify_items": null,
            "left": null,
            "margin": null,
            "max_height": null,
            "max_width": null,
            "min_height": null,
            "min_width": null,
            "object_fit": null,
            "object_position": null,
            "order": null,
            "overflow": null,
            "overflow_x": null,
            "overflow_y": null,
            "padding": null,
            "right": null,
            "top": null,
            "visibility": null,
            "width": null
          }
        },
        "ff33162e90e54910bed843008eb837f7": {
          "model_module": "@jupyter-widgets/controls",
          "model_name": "DescriptionStyleModel",
          "model_module_version": "1.5.0",
          "state": {
            "_model_module": "@jupyter-widgets/controls",
            "_model_module_version": "1.5.0",
            "_model_name": "DescriptionStyleModel",
            "_view_count": null,
            "_view_module": "@jupyter-widgets/base",
            "_view_module_version": "1.2.0",
            "_view_name": "StyleView",
            "description_width": ""
          }
        },
        "c0ae88a02b3742269c59cd5a06f2f4cc": {
          "model_module": "@jupyter-widgets/base",
          "model_name": "LayoutModel",
          "model_module_version": "1.2.0",
          "state": {
            "_model_module": "@jupyter-widgets/base",
            "_model_module_version": "1.2.0",
            "_model_name": "LayoutModel",
            "_view_count": null,
            "_view_module": "@jupyter-widgets/base",
            "_view_module_version": "1.2.0",
            "_view_name": "LayoutView",
            "align_content": null,
            "align_items": null,
            "align_self": null,
            "border": null,
            "bottom": null,
            "display": null,
            "flex": null,
            "flex_flow": null,
            "grid_area": null,
            "grid_auto_columns": null,
            "grid_auto_flow": null,
            "grid_auto_rows": null,
            "grid_column": null,
            "grid_gap": null,
            "grid_row": null,
            "grid_template_areas": null,
            "grid_template_columns": null,
            "grid_template_rows": null,
            "height": null,
            "justify_content": null,
            "justify_items": null,
            "left": null,
            "margin": null,
            "max_height": null,
            "max_width": null,
            "min_height": null,
            "min_width": null,
            "object_fit": null,
            "object_position": null,
            "order": null,
            "overflow": null,
            "overflow_x": null,
            "overflow_y": null,
            "padding": null,
            "right": null,
            "top": null,
            "visibility": null,
            "width": null
          }
        },
        "41da2245a2be48a9b3f1aa107e905a69": {
          "model_module": "@jupyter-widgets/controls",
          "model_name": "ProgressStyleModel",
          "model_module_version": "1.5.0",
          "state": {
            "_model_module": "@jupyter-widgets/controls",
            "_model_module_version": "1.5.0",
            "_model_name": "ProgressStyleModel",
            "_view_count": null,
            "_view_module": "@jupyter-widgets/base",
            "_view_module_version": "1.2.0",
            "_view_name": "StyleView",
            "bar_color": null,
            "description_width": ""
          }
        },
        "814f86fd923947b2b9a84657c95438ed": {
          "model_module": "@jupyter-widgets/base",
          "model_name": "LayoutModel",
          "model_module_version": "1.2.0",
          "state": {
            "_model_module": "@jupyter-widgets/base",
            "_model_module_version": "1.2.0",
            "_model_name": "LayoutModel",
            "_view_count": null,
            "_view_module": "@jupyter-widgets/base",
            "_view_module_version": "1.2.0",
            "_view_name": "LayoutView",
            "align_content": null,
            "align_items": null,
            "align_self": null,
            "border": null,
            "bottom": null,
            "display": null,
            "flex": null,
            "flex_flow": null,
            "grid_area": null,
            "grid_auto_columns": null,
            "grid_auto_flow": null,
            "grid_auto_rows": null,
            "grid_column": null,
            "grid_gap": null,
            "grid_row": null,
            "grid_template_areas": null,
            "grid_template_columns": null,
            "grid_template_rows": null,
            "height": null,
            "justify_content": null,
            "justify_items": null,
            "left": null,
            "margin": null,
            "max_height": null,
            "max_width": null,
            "min_height": null,
            "min_width": null,
            "object_fit": null,
            "object_position": null,
            "order": null,
            "overflow": null,
            "overflow_x": null,
            "overflow_y": null,
            "padding": null,
            "right": null,
            "top": null,
            "visibility": null,
            "width": null
          }
        },
        "64f01b59802943e6b5eccb9f9f960bbc": {
          "model_module": "@jupyter-widgets/controls",
          "model_name": "DescriptionStyleModel",
          "model_module_version": "1.5.0",
          "state": {
            "_model_module": "@jupyter-widgets/controls",
            "_model_module_version": "1.5.0",
            "_model_name": "DescriptionStyleModel",
            "_view_count": null,
            "_view_module": "@jupyter-widgets/base",
            "_view_module_version": "1.2.0",
            "_view_name": "StyleView",
            "description_width": ""
          }
        }
      }
    }
  },
  "cells": [
    {
      "cell_type": "code",
      "source": [
        "!pip install transformers[sentencepiece] datasets sacrebleu rouge_score py7zr -q"
      ],
      "metadata": {
        "colab": {
          "base_uri": "https://localhost:8080/"
        },
        "id": "sPLjSmX4pvHS",
        "outputId": "a465ef68-a210-431e-a55a-82580e3c918e"
      },
      "execution_count": null,
      "outputs": [
        {
          "output_type": "stream",
          "name": "stdout",
          "text": [
            "\u001b[2K     \u001b[90m━━━━━━━━━━━━━━━━━━━━━━━━━━━━━━━━━━━━━━━━\u001b[0m \u001b[32m7.0/7.0 MB\u001b[0m \u001b[31m69.7 MB/s\u001b[0m eta \u001b[36m0:00:00\u001b[0m\n",
            "\u001b[2K     \u001b[90m━━━━━━━━━━━━━━━━━━━━━━━━━━━━━━━━━━━━━━\u001b[0m \u001b[32m468.7/468.7 kB\u001b[0m \u001b[31m44.0 MB/s\u001b[0m eta \u001b[36m0:00:00\u001b[0m\n",
            "\u001b[2K     \u001b[90m━━━━━━━━━━━━━━━━━━━━━━━━━━━━━━━━━━━━━━\u001b[0m \u001b[32m118.9/118.9 kB\u001b[0m \u001b[31m14.4 MB/s\u001b[0m eta \u001b[36m0:00:00\u001b[0m\n",
            "\u001b[?25h  Preparing metadata (setup.py) ... \u001b[?25l\u001b[?25hdone\n",
            "\u001b[2K     \u001b[90m━━━━━━━━━━━━━━━━━━━━━━━━━━━━━━━━━━━━━━━━\u001b[0m \u001b[32m66.4/66.4 kB\u001b[0m \u001b[31m7.8 MB/s\u001b[0m eta \u001b[36m0:00:00\u001b[0m\n",
            "\u001b[2K     \u001b[90m━━━━━━━━━━━━━━━━━━━━━━━━━━━━━━━━━━━━━━━━\u001b[0m \u001b[32m7.8/7.8 MB\u001b[0m \u001b[31m104.0 MB/s\u001b[0m eta \u001b[36m0:00:00\u001b[0m\n",
            "\u001b[2K     \u001b[90m━━━━━━━━━━━━━━━━━━━━━━━━━━━━━━━━━━━━━━\u001b[0m \u001b[32m224.2/224.2 kB\u001b[0m \u001b[31m24.6 MB/s\u001b[0m eta \u001b[36m0:00:00\u001b[0m\n",
            "\u001b[2K     \u001b[90m━━━━━━━━━━━━━━━━━━━━━━━━━━━━━━━━━━━━━━━━\u001b[0m \u001b[32m1.3/1.3 MB\u001b[0m \u001b[31m74.4 MB/s\u001b[0m eta \u001b[36m0:00:00\u001b[0m\n",
            "\u001b[2K     \u001b[90m━━━━━━━━━━━━━━━━━━━━━━━━━━━━━━━━━━━━━━━━\u001b[0m \u001b[32m1.0/1.0 MB\u001b[0m \u001b[31m67.0 MB/s\u001b[0m eta \u001b[36m0:00:00\u001b[0m\n",
            "\u001b[2K     \u001b[90m━━━━━━━━━━━━━━━━━━━━━━━━━━━━━━━━━━━━━━\u001b[0m \u001b[32m110.5/110.5 kB\u001b[0m \u001b[31m14.4 MB/s\u001b[0m eta \u001b[36m0:00:00\u001b[0m\n",
            "\u001b[2K     \u001b[90m━━━━━━━━━━━━━━━━━━━━━━━━━━━━━━━━━━━━━━\u001b[0m \u001b[32m132.9/132.9 kB\u001b[0m \u001b[31m16.1 MB/s\u001b[0m eta \u001b[36m0:00:00\u001b[0m\n",
            "\u001b[2K     \u001b[90m━━━━━━━━━━━━━━━━━━━━━━━━━━━━━━━━━━━━━━━━\u001b[0m \u001b[32m1.0/1.0 MB\u001b[0m \u001b[31m65.5 MB/s\u001b[0m eta \u001b[36m0:00:00\u001b[0m\n",
            "\u001b[2K     \u001b[90m━━━━━━━━━━━━━━━━━━━━━━━━━━━━━━━━━━━━━━\u001b[0m \u001b[32m212.2/212.2 kB\u001b[0m \u001b[31m25.4 MB/s\u001b[0m eta \u001b[36m0:00:00\u001b[0m\n",
            "\u001b[2K     \u001b[90m━━━━━━━━━━━━━━━━━━━━━━━━━━━━━━━━━━━━━━\u001b[0m \u001b[32m399.3/399.3 kB\u001b[0m \u001b[31m37.4 MB/s\u001b[0m eta \u001b[36m0:00:00\u001b[0m\n",
            "\u001b[2K     \u001b[90m━━━━━━━━━━━━━━━━━━━━━━━━━━━━━━━━━━━━━━━━\u001b[0m \u001b[32m2.1/2.1 MB\u001b[0m \u001b[31m89.6 MB/s\u001b[0m eta \u001b[36m0:00:00\u001b[0m\n",
            "\u001b[2K     \u001b[90m━━━━━━━━━━━━━━━━━━━━━━━━━━━━━━━━━━━━━━━━\u001b[0m \u001b[32m49.6/49.6 kB\u001b[0m \u001b[31m6.3 MB/s\u001b[0m eta \u001b[36m0:00:00\u001b[0m\n",
            "\u001b[2K     \u001b[90m━━━━━━━━━━━━━━━━━━━━━━━━━━━━━━━━━━━━━━\u001b[0m \u001b[32m357.2/357.2 kB\u001b[0m \u001b[31m35.9 MB/s\u001b[0m eta \u001b[36m0:00:00\u001b[0m\n",
            "\u001b[2K     \u001b[90m━━━━━━━━━━━━━━━━━━━━━━━━━━━━━━━━━━━━━━\u001b[0m \u001b[32m138.7/138.7 kB\u001b[0m \u001b[31m17.6 MB/s\u001b[0m eta \u001b[36m0:00:00\u001b[0m\n",
            "\u001b[2K     \u001b[90m━━━━━━━━━━━━━━━━━━━━━━━━━━━━━━━━━━━━━━━━\u001b[0m \u001b[32m93.0/93.0 kB\u001b[0m \u001b[31m11.4 MB/s\u001b[0m eta \u001b[36m0:00:00\u001b[0m\n",
            "\u001b[2K     \u001b[90m━━━━━━━━━━━━━━━━━━━━━━━━━━━━━━━━━━━━━━\u001b[0m \u001b[32m158.8/158.8 kB\u001b[0m \u001b[31m21.5 MB/s\u001b[0m eta \u001b[36m0:00:00\u001b[0m\n",
            "\u001b[2K     \u001b[90m━━━━━━━━━━━━━━━━━━━━━━━━━━━━━━━━━━━━━━\u001b[0m \u001b[32m269.3/269.3 kB\u001b[0m \u001b[31m29.8 MB/s\u001b[0m eta \u001b[36m0:00:00\u001b[0m\n",
            "\u001b[2K     \u001b[90m━━━━━━━━━━━━━━━━━━━━━━━━━━━━━━━━━━━━━━\u001b[0m \u001b[32m114.2/114.2 kB\u001b[0m \u001b[31m14.2 MB/s\u001b[0m eta \u001b[36m0:00:00\u001b[0m\n",
            "\u001b[?25h  Building wheel for rouge_score (setup.py) ... \u001b[?25l\u001b[?25hdone\n",
            "\u001b[31mERROR: pip's dependency resolver does not currently take into account all the packages that are installed. This behaviour is the source of the following dependency conflicts.\n",
            "tensorflow 2.12.0 requires protobuf!=4.21.0,!=4.21.1,!=4.21.2,!=4.21.3,!=4.21.4,!=4.21.5,<5.0.0dev,>=3.20.3, but you have protobuf 3.20.2 which is incompatible.\n",
            "tensorflow-metadata 1.13.1 requires protobuf<5,>=3.20.3, but you have protobuf 3.20.2 which is incompatible.\u001b[0m\u001b[31m\n",
            "\u001b[0m"
          ]
        }
      ]
    },
    {
      "cell_type": "code",
      "execution_count": null,
      "metadata": {
        "colab": {
          "base_uri": "https://localhost:8080/"
        },
        "id": "PExUL6HCjm3o",
        "outputId": "8197ef3c-774e-487e-a31b-28bb187905ef"
      },
      "outputs": [
        {
          "output_type": "stream",
          "name": "stdout",
          "text": [
            "Tue Apr 25 13:55:40 2023       \n",
            "+-----------------------------------------------------------------------------+\n",
            "| NVIDIA-SMI 525.85.12    Driver Version: 525.85.12    CUDA Version: 12.0     |\n",
            "|-------------------------------+----------------------+----------------------+\n",
            "| GPU  Name        Persistence-M| Bus-Id        Disp.A | Volatile Uncorr. ECC |\n",
            "| Fan  Temp  Perf  Pwr:Usage/Cap|         Memory-Usage | GPU-Util  Compute M. |\n",
            "|                               |                      |               MIG M. |\n",
            "|===============================+======================+======================|\n",
            "|   0  NVIDIA A100-SXM...  Off  | 00000000:00:04.0 Off |                    0 |\n",
            "| N/A   33C    P0    42W / 400W |      0MiB / 40960MiB |      0%      Default |\n",
            "|                               |                      |             Disabled |\n",
            "+-------------------------------+----------------------+----------------------+\n",
            "                                                                               \n",
            "+-----------------------------------------------------------------------------+\n",
            "| Processes:                                                                  |\n",
            "|  GPU   GI   CI        PID   Type   Process name                  GPU Memory |\n",
            "|        ID   ID                                                   Usage      |\n",
            "|=============================================================================|\n",
            "|  No running processes found                                                 |\n",
            "+-----------------------------------------------------------------------------+\n"
          ]
        }
      ],
      "source": [
        "!nvidia-smi"
      ]
    },
    {
      "cell_type": "code",
      "source": [
        "from transformers import pipeline, set_seed\n",
        "from transformers import BartTokenizer, BartModel # bart\n",
        "\n",
        "import matplotlib.pyplot as plt\n",
        "from datasets import load_dataset\n",
        "import pandas as pd\n",
        "from datasets import load_dataset, load_metric\n",
        "\n",
        "import nltk\n",
        "from nltk.tokenize import sent_tokenize\n",
        "\n",
        "from tqdm import tqdm\n",
        "import torch\n",
        "\n",
        "nltk.download(\"punkt\")"
      ],
      "metadata": {
        "colab": {
          "base_uri": "https://localhost:8080/"
        },
        "id": "BcmKLRq4jrlC",
        "outputId": "1c51a0f6-838d-4880-a03a-1f7396f1f7af"
      },
      "execution_count": null,
      "outputs": [
        {
          "output_type": "stream",
          "name": "stderr",
          "text": [
            "[nltk_data] Downloading package punkt to /root/nltk_data...\n",
            "[nltk_data]   Unzipping tokenizers/punkt.zip.\n"
          ]
        },
        {
          "output_type": "execute_result",
          "data": {
            "text/plain": [
              "True"
            ]
          },
          "metadata": {},
          "execution_count": 4
        }
      ]
    },
    {
      "cell_type": "code",
      "source": [
        "from rouge_score import rouge_scorer "
      ],
      "metadata": {
        "id": "IYF17_5Bsp6z"
      },
      "execution_count": null,
      "outputs": []
    },
    {
      "cell_type": "code",
      "source": [
        "from transformers import AutoTokenizer"
      ],
      "metadata": {
        "id": "Fx18yZJadNlZ"
      },
      "execution_count": null,
      "outputs": []
    },
    {
      "cell_type": "code",
      "source": [
        "device = \"cuda\" if torch.cuda.is_available() else \"cpu\"\n",
        "device"
      ],
      "metadata": {
        "colab": {
          "base_uri": "https://localhost:8080/",
          "height": 35
        },
        "id": "i28cr6xLj4lg",
        "outputId": "5aaf4910-83b7-4fb5-8c83-1eb5aab06a54"
      },
      "execution_count": null,
      "outputs": [
        {
          "output_type": "execute_result",
          "data": {
            "text/plain": [
              "'cuda'"
            ],
            "application/vnd.google.colaboratory.intrinsic+json": {
              "type": "string"
            }
          },
          "metadata": {},
          "execution_count": 9
        }
      ]
    },
    {
      "cell_type": "code",
      "source": [
        "from transformers import BartForConditionalGeneration"
      ],
      "metadata": {
        "id": "O9mh5h67HSyX"
      },
      "execution_count": null,
      "outputs": []
    },
    {
      "cell_type": "code",
      "source": [
        "model_large = \"facebook/bart-large-cnn\" # bart base\n",
        "\n",
        "#tokenizer_large = BartTokenizer.from_pretrained(model_large)\n",
        "tokenizer_large =  AutoTokenizer.from_pretrained(model_large)\n",
        "#model_large = BartModel.from_pretrained(model_large).to(device)\n",
        "model_large = BartForConditionalGeneration.from_pretrained(model_large).to(device)"
      ],
      "metadata": {
        "id": "zqq6KnHRj7hB"
      },
      "execution_count": null,
      "outputs": []
    },
    {
      "cell_type": "code",
      "source": [
        "import numpy as np\n",
        "import pandas as pd\n",
        "import json"
      ],
      "metadata": {
        "id": "1atvu8XPiRRl"
      },
      "execution_count": null,
      "outputs": []
    },
    {
      "cell_type": "code",
      "source": [],
      "metadata": {
        "id": "4oAZV22Ku97J"
      },
      "execution_count": null,
      "outputs": []
    },
    {
      "cell_type": "code",
      "source": [
        "def generate_batch_sized_chunks(list_of_elements, batch_size):\n",
        "    \"\"\"split the dataset into smaller batches that we can process simultaneously\n",
        "    Yield successive batch-sized chunks from list_of_elements.\"\"\"\n",
        "    for i in range(0, len(list_of_elements), batch_size):\n",
        "        yield list_of_elements[i : i + batch_size]"
      ],
      "metadata": {
        "id": "u28jnWqPj7kE"
      },
      "execution_count": null,
      "outputs": []
    },
    {
      "cell_type": "code",
      "source": [
        "\n",
        "def calculate_metric_on_test_ds(dataset, metric, model, tokenizer, \n",
        "                               batch_size=16, device=device, \n",
        "                               column_text=\"article\", \n",
        "                               column_summary=\"highlights\"):\n",
        "    article_batches = list(generate_batch_sized_chunks(dataset[column_text], batch_size))\n",
        "    target_batches = list(generate_batch_sized_chunks(dataset[column_summary], batch_size))\n",
        "\n",
        "    for article_batch, target_batch in tqdm(\n",
        "        zip(article_batches, target_batches), total=len(article_batches)):\n",
        "        \n",
        "        inputs = tokenizer(article_batch, max_length=1024,  truncation=True, \n",
        "                        padding=\"max_length\", return_tensors=\"pt\")\n",
        "        \n",
        "        summaries = model.generate(input_ids=inputs[\"input_ids\"].to(device),\n",
        "                         attention_mask=inputs[\"attention_mask\"].to(device), \n",
        "                         length_penalty=0.8, num_beams=8, max_length=128)\n",
        "        ''' parameter for length penalty ensures that the model does not generate sequences that are too long. '''\n",
        "        \n",
        "        # Finally, we decode the generated texts, \n",
        "        # replace the  token, and add the decoded texts with the references to the metric.\n",
        "        decoded_summaries = [tokenizer.decode(s, skip_special_tokens=True, \n",
        "                                clean_up_tokenization_spaces=True) \n",
        "               for s in summaries]      \n",
        "        \n",
        "        decoded_summaries = [d.replace(\"\", \" \") for d in decoded_summaries]\n",
        "        \n",
        "        \n",
        "        metric.add_batch(predictions=decoded_summaries, references=target_batch)\n",
        "        \n",
        "    #  Finally compute and return the ROUGE scores.\n",
        "    score = metric.compute()\n",
        "    return score"
      ],
      "metadata": {
        "id": "NojjL4iyj7mz"
      },
      "execution_count": null,
      "outputs": []
    },
    {
      "cell_type": "markdown",
      "source": [
        "# LoadData"
      ],
      "metadata": {
        "id": "9aG2v817pTxZ"
      }
    },
    {
      "cell_type": "code",
      "source": [
        "dataset_xsum = load_dataset(\"samsum\")"
      ],
      "metadata": {
        "id": "mqIqz-nfj7px",
        "colab": {
          "base_uri": "https://localhost:8080/",
          "height": 265,
          "referenced_widgets": [
            "ccf15da764094c30b608254ae79649dc",
            "898cbf9f1b7c49c18815c2cf50aeaa97",
            "4004bedf61c44044be373fc3f22e1cef",
            "83a017a941aa4ef2a10b6d57c1a82418",
            "ff8b4442e8604eb1840acf3c0fa1e77b",
            "18a641728bf14e2ab6b9fa78e000f0fd",
            "5236d94c72d34a128f6370d7637ff2d7",
            "0d65769363854ee188efff740a20ad7e",
            "12045d65a0274187b0345642eb8b36a0",
            "b312ad5425cd4288846fc9e6aa219e9f",
            "ac9d08a39115476ea81a2fca942e7abc",
            "629d83e34b03481790b2f8a9b8fbe44f",
            "f208b7f338864ca3ab448a48fd246773",
            "51cf629c2057463490e31d687bd677b1",
            "a68e01f68fd94f71a2f01e41a47f1745",
            "a91606b4dfc445439a97001899147c1c",
            "844f7a4c5d3c430bb25349eeb677c07a",
            "a6e329ca3aa44daba1c2ea07bc60bedd",
            "51e338e7c1cb4d99b6b8d01f69f21fe1",
            "05f056c2848e44a0bbf50ff276b0ae64",
            "7ecd185f2ce24f7d8b7866d24af6a23b",
            "61a6779ce9c742f7b2a14684a1db7bce",
            "efe216a89f7d40069b4060065bc0bb29",
            "9627a5b53adf4d68b4fecbc12a64d770",
            "3e5cae90396a490b8a9d5ffccbc6cd07",
            "34cd9c14ca8e4ef0ae5a35771002d5fd",
            "f761e78dcdba4a1081a34cdd216f826e",
            "140cd75290414e5c9bae805a883164fc",
            "dbaa32733e064527bcdf61a2132ed348",
            "60387ff682e246eabe70bf851b69df58",
            "f0e269649fe24e5780794041e7844ecf",
            "c4c90b33c95746c09740e8698ebc690c",
            "4450d547b92340599bf0a63538421169",
            "457c7ed9a09d4be889babda516371227",
            "fcc5b3b85ff942dba1f846667ef30870",
            "bb0812a5e0f54a7bb8df5e28c7de5403",
            "d09afe019894465f9d35120f2b53f17a",
            "d6cb0c84e1d6481db76c24531fdd76f2",
            "4c48abde184944e2815c0f27e788fc06",
            "eec10341083046f18df35c552d1d3948",
            "6199fc2d556147f6ae71cd0e7fda2c40",
            "b49d9ae923c041c4b169f36f4a78e229",
            "6597ccfb28604ed985bbf0c67768f53a",
            "bdd7a8e616b6401992e47176a7c22849",
            "efc358d42d544d07bcf113ecf4e0ee6c",
            "8f2e7195abb544f381cdc6851e67a32c",
            "716b266530874be7aee652f0266856e3",
            "fd167e6718f44f18a6d01cb27e3dd50b",
            "93f7976cfe9c4a27a0b1b07d6fa774bf",
            "29c8f8bf2ebb4b53b8270326cdbf5cbb",
            "86c1875aefa64b49a2a3874547f9d500",
            "2c99cb0020694fc49842fae98eaa2bc0",
            "faa51ede632043a8ac20ca99d76bcd80",
            "3af3ecb025f6460c8637b6be04818c99",
            "28dab7c270e84824b2fea4a14b01ae79",
            "cd2eed86f1a24babb08b02ef2c6d2e14",
            "66e088b95734432ba133f2d7384a096e",
            "6cc2bbf6a06046c88a7e39abd8743005",
            "d4d811bcf4484bc39a215ec03c2370ce",
            "db85d27d96b540869a97a627f41d287e",
            "0a8cf94c092341feb4cc6ac94c4b5047",
            "8b829ec47666451eaeba4c900a205a9b",
            "d72b16e494824fa8888f6dc68c83cebc",
            "001de026190c4bada8ac1a5b90738006",
            "4710ed193ee5488ebadeb6e9e451bc47",
            "282ff365a0b544b288f7d9ffe4cfcacd",
            "620ca4b8a556460796eb467bae19cad0",
            "7160e8b3a9c243fab1f41ebf5175d8cd",
            "fa82450c12244695aff52e39049a5c80",
            "0674c4fd92774e54806623687f9b8aed",
            "8efb72e1b1ab40cfbea8ebe9701f59ab",
            "961b998165a34836a1e9979573030c9d",
            "230ae939a01d4c4eaae9352d28e982af",
            "0a217e1860774585a98866d81b9cd700",
            "f9f43ce183f14f2b815bae241b5c84a4",
            "aeb576b458a34a45849aaa0b509ad162",
            "bc7d284f092547b49aa90b6165d7cefd",
            "ed8be31be3784e97af28114f9c0dbbf8",
            "6861630a3d7943eab64687c0835ffd97",
            "caca1bf1e03648f8bd3e327de0e5d841",
            "c29f49a0320a4ef68c8c72f842048b4c",
            "213f393af7be40b08d65de424994c992",
            "744ce927d9a24e7d831e0293d976040d",
            "94543e662ae34eccaceb4c6033cabe0d",
            "25c6d2ef33114745a79aa7545705fbbb",
            "8e637f8da043469681d6133f811cb886",
            "5bca7482513f4ca58e56822b7b2653ae",
            "d8017f1af3bb4538af50c19d8d4a0cba"
          ]
        },
        "outputId": "b315bd3c-5a16-449c-c1db-4df932691f9b"
      },
      "execution_count": null,
      "outputs": [
        {
          "output_type": "display_data",
          "data": {
            "text/plain": [
              "Downloading builder script:   0%|          | 0.00/3.36k [00:00<?, ?B/s]"
            ],
            "application/vnd.jupyter.widget-view+json": {
              "version_major": 2,
              "version_minor": 0,
              "model_id": "ccf15da764094c30b608254ae79649dc"
            }
          },
          "metadata": {}
        },
        {
          "output_type": "display_data",
          "data": {
            "text/plain": [
              "Downloading metadata:   0%|          | 0.00/1.58k [00:00<?, ?B/s]"
            ],
            "application/vnd.jupyter.widget-view+json": {
              "version_major": 2,
              "version_minor": 0,
              "model_id": "629d83e34b03481790b2f8a9b8fbe44f"
            }
          },
          "metadata": {}
        },
        {
          "output_type": "display_data",
          "data": {
            "text/plain": [
              "Downloading readme:   0%|          | 0.00/7.04k [00:00<?, ?B/s]"
            ],
            "application/vnd.jupyter.widget-view+json": {
              "version_major": 2,
              "version_minor": 0,
              "model_id": "efe216a89f7d40069b4060065bc0bb29"
            }
          },
          "metadata": {}
        },
        {
          "output_type": "stream",
          "name": "stdout",
          "text": [
            "Downloading and preparing dataset samsum/samsum to /root/.cache/huggingface/datasets/samsum/samsum/0.0.0/f1d7c6b7353e6de335d444e424dc002ef70d1277109031327bc9cc6af5d3d46e...\n"
          ]
        },
        {
          "output_type": "display_data",
          "data": {
            "text/plain": [
              "Downloading data:   0%|          | 0.00/2.94M [00:00<?, ?B/s]"
            ],
            "application/vnd.jupyter.widget-view+json": {
              "version_major": 2,
              "version_minor": 0,
              "model_id": "457c7ed9a09d4be889babda516371227"
            }
          },
          "metadata": {}
        },
        {
          "output_type": "display_data",
          "data": {
            "text/plain": [
              "Generating train split:   0%|          | 0/14732 [00:00<?, ? examples/s]"
            ],
            "application/vnd.jupyter.widget-view+json": {
              "version_major": 2,
              "version_minor": 0,
              "model_id": "efc358d42d544d07bcf113ecf4e0ee6c"
            }
          },
          "metadata": {}
        },
        {
          "output_type": "display_data",
          "data": {
            "text/plain": [
              "Generating test split:   0%|          | 0/819 [00:00<?, ? examples/s]"
            ],
            "application/vnd.jupyter.widget-view+json": {
              "version_major": 2,
              "version_minor": 0,
              "model_id": "cd2eed86f1a24babb08b02ef2c6d2e14"
            }
          },
          "metadata": {}
        },
        {
          "output_type": "display_data",
          "data": {
            "text/plain": [
              "Generating validation split:   0%|          | 0/818 [00:00<?, ? examples/s]"
            ],
            "application/vnd.jupyter.widget-view+json": {
              "version_major": 2,
              "version_minor": 0,
              "model_id": "620ca4b8a556460796eb467bae19cad0"
            }
          },
          "metadata": {}
        },
        {
          "output_type": "stream",
          "name": "stdout",
          "text": [
            "Dataset samsum downloaded and prepared to /root/.cache/huggingface/datasets/samsum/samsum/0.0.0/f1d7c6b7353e6de335d444e424dc002ef70d1277109031327bc9cc6af5d3d46e. Subsequent calls will reuse this data.\n"
          ]
        },
        {
          "output_type": "display_data",
          "data": {
            "text/plain": [
              "  0%|          | 0/3 [00:00<?, ?it/s]"
            ],
            "application/vnd.jupyter.widget-view+json": {
              "version_major": 2,
              "version_minor": 0,
              "model_id": "ed8be31be3784e97af28114f9c0dbbf8"
            }
          },
          "metadata": {}
        }
      ]
    },
    {
      "cell_type": "code",
      "source": [
        "dataset_samsum = dataset_xsum"
      ],
      "metadata": {
        "id": "tdCWn919i-7B"
      },
      "execution_count": null,
      "outputs": []
    },
    {
      "cell_type": "code",
      "source": [
        "gpt_load = np.load('/content/samsum_ChatGPT_full-raoyi.npy')"
      ],
      "metadata": {
        "id": "4mf6drsRjw8G"
      },
      "execution_count": null,
      "outputs": []
    },
    {
      "cell_type": "code",
      "source": [
        "len(gpt_load)"
      ],
      "metadata": {
        "colab": {
          "base_uri": "https://localhost:8080/"
        },
        "id": "vvJ_KiSIifZh",
        "outputId": "5e4b5311-30d3-4f32-c076-00208b5669a1"
      },
      "execution_count": null,
      "outputs": [
        {
          "output_type": "execute_result",
          "data": {
            "text/plain": [
              "14732"
            ]
          },
          "metadata": {},
          "execution_count": 18
        }
      ]
    },
    {
      "cell_type": "code",
      "source": [
        "dataset_samsum"
      ],
      "metadata": {
        "colab": {
          "base_uri": "https://localhost:8080/"
        },
        "id": "6qK0boVDigr8",
        "outputId": "608cfb7d-aed5-4123-e20f-c39024cc05b0"
      },
      "execution_count": null,
      "outputs": [
        {
          "output_type": "execute_result",
          "data": {
            "text/plain": [
              "DatasetDict({\n",
              "    train: Dataset({\n",
              "        features: ['id', 'dialogue', 'summary'],\n",
              "        num_rows: 14732\n",
              "    })\n",
              "    test: Dataset({\n",
              "        features: ['id', 'dialogue', 'summary'],\n",
              "        num_rows: 819\n",
              "    })\n",
              "    validation: Dataset({\n",
              "        features: ['id', 'dialogue', 'summary'],\n",
              "        num_rows: 818\n",
              "    })\n",
              "})"
            ]
          },
          "metadata": {},
          "execution_count": 19
        }
      ]
    },
    {
      "cell_type": "code",
      "source": [
        "dataset_samsum[\"train\"]"
      ],
      "metadata": {
        "colab": {
          "base_uri": "https://localhost:8080/"
        },
        "id": "ZvR9tnxFjhbF",
        "outputId": "ec36b0ff-9578-4ee6-e6a4-9b3d5cf9cafd"
      },
      "execution_count": null,
      "outputs": [
        {
          "output_type": "execute_result",
          "data": {
            "text/plain": [
              "Dataset({\n",
              "    features: ['id', 'dialogue', 'summary'],\n",
              "    num_rows: 14732\n",
              "})"
            ]
          },
          "metadata": {},
          "execution_count": 17
        }
      ]
    },
    {
      "cell_type": "code",
      "source": [
        "type(dataset_samsum[\"train\"][\"id\"])"
      ],
      "metadata": {
        "colab": {
          "base_uri": "https://localhost:8080/"
        },
        "id": "ZPe4f5Axjk0d",
        "outputId": "4e5555d5-8801-4d3f-bab6-96112486b3ba"
      },
      "execution_count": null,
      "outputs": [
        {
          "output_type": "execute_result",
          "data": {
            "text/plain": [
              "list"
            ]
          },
          "metadata": {},
          "execution_count": 19
        }
      ]
    },
    {
      "cell_type": "code",
      "source": [
        "df = pd.DataFrame (dataset_samsum[\"train\"][\"id\"], columns = ['id'])"
      ],
      "metadata": {
        "id": "zR6uO0M8jp3C"
      },
      "execution_count": null,
      "outputs": []
    },
    {
      "cell_type": "code",
      "source": [
        "df_test = pd.DataFrame (dataset_samsum[\"test\"][\"id\"], columns = ['id'])"
      ],
      "metadata": {
        "id": "dmEuxG2rxzhd"
      },
      "execution_count": null,
      "outputs": []
    },
    {
      "cell_type": "code",
      "source": [
        "df['dialogue'] = dataset_samsum[\"train\"][\"dialogue\"]"
      ],
      "metadata": {
        "id": "1vZ3ghbgj5zY"
      },
      "execution_count": null,
      "outputs": []
    },
    {
      "cell_type": "code",
      "source": [
        "df_test['dialogue'] = pd.DataFrame (dataset_samsum[\"test\"][\"dialogue\"])"
      ],
      "metadata": {
        "id": "oQcg-vENx2gB"
      },
      "execution_count": null,
      "outputs": []
    },
    {
      "cell_type": "code",
      "source": [
        "df['samsum'] = dataset_samsum[\"train\"][\"summary\"]"
      ],
      "metadata": {
        "id": "tJF2XmwnkOPR"
      },
      "execution_count": null,
      "outputs": []
    },
    {
      "cell_type": "code",
      "source": [
        "df_test['summary'] = pd.DataFrame (dataset_samsum[\"test\"][\"summary\"])"
      ],
      "metadata": {
        "id": "ryiZmoFqx7p9"
      },
      "execution_count": null,
      "outputs": []
    },
    {
      "cell_type": "code",
      "source": [
        "gpt_list = gpt_load.tolist()"
      ],
      "metadata": {
        "id": "b6693cY1ihBN"
      },
      "execution_count": null,
      "outputs": []
    },
    {
      "cell_type": "code",
      "source": [
        "df['gpt'] = gpt_list"
      ],
      "metadata": {
        "id": "dZJoOTTUig9Y"
      },
      "execution_count": null,
      "outputs": []
    },
    {
      "cell_type": "code",
      "source": [
        "df = df.drop(columns=['id'])"
      ],
      "metadata": {
        "id": "7pvkzGgFlhlq"
      },
      "execution_count": null,
      "outputs": []
    },
    {
      "cell_type": "code",
      "source": [
        "df.index"
      ],
      "metadata": {
        "colab": {
          "base_uri": "https://localhost:8080/"
        },
        "id": "b320jzHZmLxb",
        "outputId": "9872666a-2d16-4de6-a114-ae446151d25b"
      },
      "execution_count": null,
      "outputs": [
        {
          "output_type": "execute_result",
          "data": {
            "text/plain": [
              "RangeIndex(start=0, stop=14732, step=1)"
            ]
          },
          "metadata": {},
          "execution_count": 26
        }
      ]
    },
    {
      "cell_type": "code",
      "source": [
        "df"
      ],
      "metadata": {
        "colab": {
          "base_uri": "https://localhost:8080/",
          "height": 468
        },
        "id": "0mdzexHzow7z",
        "outputId": "f879ab9f-6708-4f42-dc50-f83fb8615bb5"
      },
      "execution_count": null,
      "outputs": [
        {
          "output_type": "execute_result",
          "data": {
            "text/plain": [
              "                                                dialogue  \\\n",
              "0      Amanda: I baked  cookies. Do you want some?\\r\\...   \n",
              "1      Olivia: Who are you voting for in this electio...   \n",
              "2      Tim: Hi, what's up?\\r\\nKim: Bad mood tbh, I wa...   \n",
              "3      Edward: Rachel, I think I'm in ove with Bella....   \n",
              "4      Sam: hey  overheard rick say something\\r\\nSam:...   \n",
              "...                                                  ...   \n",
              "14727  Romeo: You are on my ‘People you may know’ lis...   \n",
              "14728  Theresa: <file_photo>\\r\\nTheresa: <file_photo>...   \n",
              "14729  John: Every day some bad news. Japan will hunt...   \n",
              "14730  Jennifer: Dear Celia! How are you doing?\\r\\nJe...   \n",
              "14731  Georgia: are you ready for hotel hunting? We n...   \n",
              "\n",
              "                                                  samsum  \\\n",
              "0      Amanda baked cookies and will bring Jerry some...   \n",
              "1      Olivia and Olivier are voting for liberals in ...   \n",
              "2      Kim may try the pomodoro technique recommended...   \n",
              "3      Edward thinks he is in love with Bella. Rachel...   \n",
              "4      Sam is confused, because he overheard Rick com...   \n",
              "...                                                  ...   \n",
              "14727  Romeo is trying to get Greta to add him to her...   \n",
              "14728  Theresa is at work. She gets free food and fre...   \n",
              "14729  Japan is going to hunt whales again. Island an...   \n",
              "14730  Celia couldn't make it to the afternoon with t...   \n",
              "14731  Georgia and Juliette are looking for a hotel i...   \n",
              "\n",
              "                                                     gpt  \n",
              "0      Amanda offered Jerry some cookies, and he acce...  \n",
              "1      Olivia and Oliver both plan to vote for the Li...  \n",
              "2      Kim was feeling bad after spending her day pro...  \n",
              "3      Rachel abruptly interrupted Edward's confessio...  \n",
              "4      Sam overheard his roommate, Rick, talking on t...  \n",
              "...                                                  ...  \n",
              "14727  Romeo reached out to Greta as a potential frie...  \n",
              "14728  Theresa shared photos of her workplace, and me...  \n",
              "14729  John expressed his outrage over Japan's decisi...  \n",
              "14730  Jennifer and Celia catch up on their social li...  \n",
              "14731  Georgia and Juliette are trying to book a hote...  \n",
              "\n",
              "[14732 rows x 3 columns]"
            ],
            "text/html": [
              "\n",
              "  <div id=\"df-b557bbf4-3f8e-46e7-b07c-92f62e572f3c\">\n",
              "    <div class=\"colab-df-container\">\n",
              "      <div>\n",
              "<style scoped>\n",
              "    .dataframe tbody tr th:only-of-type {\n",
              "        vertical-align: middle;\n",
              "    }\n",
              "\n",
              "    .dataframe tbody tr th {\n",
              "        vertical-align: top;\n",
              "    }\n",
              "\n",
              "    .dataframe thead th {\n",
              "        text-align: right;\n",
              "    }\n",
              "</style>\n",
              "<table border=\"1\" class=\"dataframe\">\n",
              "  <thead>\n",
              "    <tr style=\"text-align: right;\">\n",
              "      <th></th>\n",
              "      <th>dialogue</th>\n",
              "      <th>samsum</th>\n",
              "      <th>gpt</th>\n",
              "    </tr>\n",
              "  </thead>\n",
              "  <tbody>\n",
              "    <tr>\n",
              "      <th>0</th>\n",
              "      <td>Amanda: I baked  cookies. Do you want some?\\r\\...</td>\n",
              "      <td>Amanda baked cookies and will bring Jerry some...</td>\n",
              "      <td>Amanda offered Jerry some cookies, and he acce...</td>\n",
              "    </tr>\n",
              "    <tr>\n",
              "      <th>1</th>\n",
              "      <td>Olivia: Who are you voting for in this electio...</td>\n",
              "      <td>Olivia and Olivier are voting for liberals in ...</td>\n",
              "      <td>Olivia and Oliver both plan to vote for the Li...</td>\n",
              "    </tr>\n",
              "    <tr>\n",
              "      <th>2</th>\n",
              "      <td>Tim: Hi, what's up?\\r\\nKim: Bad mood tbh, I wa...</td>\n",
              "      <td>Kim may try the pomodoro technique recommended...</td>\n",
              "      <td>Kim was feeling bad after spending her day pro...</td>\n",
              "    </tr>\n",
              "    <tr>\n",
              "      <th>3</th>\n",
              "      <td>Edward: Rachel, I think I'm in ove with Bella....</td>\n",
              "      <td>Edward thinks he is in love with Bella. Rachel...</td>\n",
              "      <td>Rachel abruptly interrupted Edward's confessio...</td>\n",
              "    </tr>\n",
              "    <tr>\n",
              "      <th>4</th>\n",
              "      <td>Sam: hey  overheard rick say something\\r\\nSam:...</td>\n",
              "      <td>Sam is confused, because he overheard Rick com...</td>\n",
              "      <td>Sam overheard his roommate, Rick, talking on t...</td>\n",
              "    </tr>\n",
              "    <tr>\n",
              "      <th>...</th>\n",
              "      <td>...</td>\n",
              "      <td>...</td>\n",
              "      <td>...</td>\n",
              "    </tr>\n",
              "    <tr>\n",
              "      <th>14727</th>\n",
              "      <td>Romeo: You are on my ‘People you may know’ lis...</td>\n",
              "      <td>Romeo is trying to get Greta to add him to her...</td>\n",
              "      <td>Romeo reached out to Greta as a potential frie...</td>\n",
              "    </tr>\n",
              "    <tr>\n",
              "      <th>14728</th>\n",
              "      <td>Theresa: &lt;file_photo&gt;\\r\\nTheresa: &lt;file_photo&gt;...</td>\n",
              "      <td>Theresa is at work. She gets free food and fre...</td>\n",
              "      <td>Theresa shared photos of her workplace, and me...</td>\n",
              "    </tr>\n",
              "    <tr>\n",
              "      <th>14729</th>\n",
              "      <td>John: Every day some bad news. Japan will hunt...</td>\n",
              "      <td>Japan is going to hunt whales again. Island an...</td>\n",
              "      <td>John expressed his outrage over Japan's decisi...</td>\n",
              "    </tr>\n",
              "    <tr>\n",
              "      <th>14730</th>\n",
              "      <td>Jennifer: Dear Celia! How are you doing?\\r\\nJe...</td>\n",
              "      <td>Celia couldn't make it to the afternoon with t...</td>\n",
              "      <td>Jennifer and Celia catch up on their social li...</td>\n",
              "    </tr>\n",
              "    <tr>\n",
              "      <th>14731</th>\n",
              "      <td>Georgia: are you ready for hotel hunting? We n...</td>\n",
              "      <td>Georgia and Juliette are looking for a hotel i...</td>\n",
              "      <td>Georgia and Juliette are trying to book a hote...</td>\n",
              "    </tr>\n",
              "  </tbody>\n",
              "</table>\n",
              "<p>14732 rows × 3 columns</p>\n",
              "</div>\n",
              "      <button class=\"colab-df-convert\" onclick=\"convertToInteractive('df-b557bbf4-3f8e-46e7-b07c-92f62e572f3c')\"\n",
              "              title=\"Convert this dataframe to an interactive table.\"\n",
              "              style=\"display:none;\">\n",
              "        \n",
              "  <svg xmlns=\"http://www.w3.org/2000/svg\" height=\"24px\"viewBox=\"0 0 24 24\"\n",
              "       width=\"24px\">\n",
              "    <path d=\"M0 0h24v24H0V0z\" fill=\"none\"/>\n",
              "    <path d=\"M18.56 5.44l.94 2.06.94-2.06 2.06-.94-2.06-.94-.94-2.06-.94 2.06-2.06.94zm-11 1L8.5 8.5l.94-2.06 2.06-.94-2.06-.94L8.5 2.5l-.94 2.06-2.06.94zm10 10l.94 2.06.94-2.06 2.06-.94-2.06-.94-.94-2.06-.94 2.06-2.06.94z\"/><path d=\"M17.41 7.96l-1.37-1.37c-.4-.4-.92-.59-1.43-.59-.52 0-1.04.2-1.43.59L10.3 9.45l-7.72 7.72c-.78.78-.78 2.05 0 2.83L4 21.41c.39.39.9.59 1.41.59.51 0 1.02-.2 1.41-.59l7.78-7.78 2.81-2.81c.8-.78.8-2.07 0-2.86zM5.41 20L4 18.59l7.72-7.72 1.47 1.35L5.41 20z\"/>\n",
              "  </svg>\n",
              "      </button>\n",
              "      \n",
              "  <style>\n",
              "    .colab-df-container {\n",
              "      display:flex;\n",
              "      flex-wrap:wrap;\n",
              "      gap: 12px;\n",
              "    }\n",
              "\n",
              "    .colab-df-convert {\n",
              "      background-color: #E8F0FE;\n",
              "      border: none;\n",
              "      border-radius: 50%;\n",
              "      cursor: pointer;\n",
              "      display: none;\n",
              "      fill: #1967D2;\n",
              "      height: 32px;\n",
              "      padding: 0 0 0 0;\n",
              "      width: 32px;\n",
              "    }\n",
              "\n",
              "    .colab-df-convert:hover {\n",
              "      background-color: #E2EBFA;\n",
              "      box-shadow: 0px 1px 2px rgba(60, 64, 67, 0.3), 0px 1px 3px 1px rgba(60, 64, 67, 0.15);\n",
              "      fill: #174EA6;\n",
              "    }\n",
              "\n",
              "    [theme=dark] .colab-df-convert {\n",
              "      background-color: #3B4455;\n",
              "      fill: #D2E3FC;\n",
              "    }\n",
              "\n",
              "    [theme=dark] .colab-df-convert:hover {\n",
              "      background-color: #434B5C;\n",
              "      box-shadow: 0px 1px 3px 1px rgba(0, 0, 0, 0.15);\n",
              "      filter: drop-shadow(0px 1px 2px rgba(0, 0, 0, 0.3));\n",
              "      fill: #FFFFFF;\n",
              "    }\n",
              "  </style>\n",
              "\n",
              "      <script>\n",
              "        const buttonEl =\n",
              "          document.querySelector('#df-b557bbf4-3f8e-46e7-b07c-92f62e572f3c button.colab-df-convert');\n",
              "        buttonEl.style.display =\n",
              "          google.colab.kernel.accessAllowed ? 'block' : 'none';\n",
              "\n",
              "        async function convertToInteractive(key) {\n",
              "          const element = document.querySelector('#df-b557bbf4-3f8e-46e7-b07c-92f62e572f3c');\n",
              "          const dataTable =\n",
              "            await google.colab.kernel.invokeFunction('convertToInteractive',\n",
              "                                                     [key], {});\n",
              "          if (!dataTable) return;\n",
              "\n",
              "          const docLinkHtml = 'Like what you see? Visit the ' +\n",
              "            '<a target=\"_blank\" href=https://colab.research.google.com/notebooks/data_table.ipynb>data table notebook</a>'\n",
              "            + ' to learn more about interactive tables.';\n",
              "          element.innerHTML = '';\n",
              "          dataTable['output_type'] = 'display_data';\n",
              "          await google.colab.output.renderOutput(dataTable, element);\n",
              "          const docLink = document.createElement('div');\n",
              "          docLink.innerHTML = docLinkHtml;\n",
              "          element.appendChild(docLink);\n",
              "        }\n",
              "      </script>\n",
              "    </div>\n",
              "  </div>\n",
              "  "
            ]
          },
          "metadata": {},
          "execution_count": 27
        }
      ]
    },
    {
      "cell_type": "code",
      "source": [
        "type(df.index[0])"
      ],
      "metadata": {
        "colab": {
          "base_uri": "https://localhost:8080/"
        },
        "id": "ewzNGlhWpDYJ",
        "outputId": "3b96ceea-4ee8-4088-de30-c92f0e1c70c1"
      },
      "execution_count": null,
      "outputs": [
        {
          "output_type": "execute_result",
          "data": {
            "text/plain": [
              "int"
            ]
          },
          "metadata": {},
          "execution_count": 52
        }
      ]
    },
    {
      "cell_type": "code",
      "source": [
        "type(df.samsum[0])"
      ],
      "metadata": {
        "colab": {
          "base_uri": "https://localhost:8080/"
        },
        "id": "0TIiFnrOpSBV",
        "outputId": "f0f43e22-7440-4264-ce38-d65e81271dc2"
      },
      "execution_count": null,
      "outputs": [
        {
          "output_type": "execute_result",
          "data": {
            "text/plain": [
              "str"
            ]
          },
          "metadata": {},
          "execution_count": 53
        }
      ]
    },
    {
      "cell_type": "code",
      "source": [
        "df = df.reset_index()"
      ],
      "metadata": {
        "id": "RjGv2_wEpy2B"
      },
      "execution_count": null,
      "outputs": []
    },
    {
      "cell_type": "code",
      "source": [
        "df = df.astype({\"index\": int})"
      ],
      "metadata": {
        "id": "VbGUlYcmqEhA"
      },
      "execution_count": null,
      "outputs": []
    },
    {
      "cell_type": "code",
      "source": [
        "df = df.rename(columns={\"index\": \"id\"})"
      ],
      "metadata": {
        "id": "H0-dkqaRsL43"
      },
      "execution_count": null,
      "outputs": []
    },
    {
      "cell_type": "code",
      "source": [
        "def assign_sum(dff):\n",
        "  if int(dff.id) % 2 == 0:\n",
        "    return str(dff.samsum) \n",
        "  else:\n",
        "    return str(dff.gpt)"
      ],
      "metadata": {
        "id": "nx0mQ6FjnEpJ"
      },
      "execution_count": null,
      "outputs": []
    },
    {
      "cell_type": "code",
      "source": [
        "df[\"summary\"] = df.apply(lambda x:assign_sum(x), axis=1)"
      ],
      "metadata": {
        "id": "Wpxy_r0uk_AE"
      },
      "execution_count": null,
      "outputs": []
    },
    {
      "cell_type": "code",
      "source": [
        "df.to_csv('/content/processed_df.csv', sep='\\t', index=False)"
      ],
      "metadata": {
        "id": "B3FcbcJ_sTXf"
      },
      "execution_count": null,
      "outputs": []
    },
    {
      "cell_type": "code",
      "source": [
        "df.to_json(r'/content/json_Processed_df.txt')"
      ],
      "metadata": {
        "id": "QF2KFeFXwy8W"
      },
      "execution_count": null,
      "outputs": []
    },
    {
      "cell_type": "code",
      "source": [
        "df.head()"
      ],
      "metadata": {
        "colab": {
          "base_uri": "https://localhost:8080/",
          "height": 357
        },
        "id": "W42v69GYoP7X",
        "outputId": "e827fe3c-0acd-4107-9a77-491fca6e3334"
      },
      "execution_count": null,
      "outputs": [
        {
          "output_type": "execute_result",
          "data": {
            "text/plain": [
              "   id                                           dialogue  \\\n",
              "0   0  Amanda: I baked  cookies. Do you want some?\\r\\...   \n",
              "1   1  Olivia: Who are you voting for in this electio...   \n",
              "2   2  Tim: Hi, what's up?\\r\\nKim: Bad mood tbh, I wa...   \n",
              "3   3  Edward: Rachel, I think I'm in ove with Bella....   \n",
              "4   4  Sam: hey  overheard rick say something\\r\\nSam:...   \n",
              "\n",
              "                                              samsum  \\\n",
              "0  Amanda baked cookies and will bring Jerry some...   \n",
              "1  Olivia and Olivier are voting for liberals in ...   \n",
              "2  Kim may try the pomodoro technique recommended...   \n",
              "3  Edward thinks he is in love with Bella. Rachel...   \n",
              "4  Sam is confused, because he overheard Rick com...   \n",
              "\n",
              "                                                 gpt  \\\n",
              "0  Amanda offered Jerry some cookies, and he acce...   \n",
              "1  Olivia and Oliver both plan to vote for the Li...   \n",
              "2  Kim was feeling bad after spending her day pro...   \n",
              "3  Rachel abruptly interrupted Edward's confessio...   \n",
              "4  Sam overheard his roommate, Rick, talking on t...   \n",
              "\n",
              "                                             summary  \n",
              "0  Amanda baked cookies and will bring Jerry some...  \n",
              "1  Olivia and Oliver both plan to vote for the Li...  \n",
              "2  Kim may try the pomodoro technique recommended...  \n",
              "3  Rachel abruptly interrupted Edward's confessio...  \n",
              "4  Sam is confused, because he overheard Rick com...  "
            ],
            "text/html": [
              "\n",
              "  <div id=\"df-d6291ce2-c839-43ba-8f22-fd5d6381f42b\">\n",
              "    <div class=\"colab-df-container\">\n",
              "      <div>\n",
              "<style scoped>\n",
              "    .dataframe tbody tr th:only-of-type {\n",
              "        vertical-align: middle;\n",
              "    }\n",
              "\n",
              "    .dataframe tbody tr th {\n",
              "        vertical-align: top;\n",
              "    }\n",
              "\n",
              "    .dataframe thead th {\n",
              "        text-align: right;\n",
              "    }\n",
              "</style>\n",
              "<table border=\"1\" class=\"dataframe\">\n",
              "  <thead>\n",
              "    <tr style=\"text-align: right;\">\n",
              "      <th></th>\n",
              "      <th>id</th>\n",
              "      <th>dialogue</th>\n",
              "      <th>samsum</th>\n",
              "      <th>gpt</th>\n",
              "      <th>summary</th>\n",
              "    </tr>\n",
              "  </thead>\n",
              "  <tbody>\n",
              "    <tr>\n",
              "      <th>0</th>\n",
              "      <td>0</td>\n",
              "      <td>Amanda: I baked  cookies. Do you want some?\\r\\...</td>\n",
              "      <td>Amanda baked cookies and will bring Jerry some...</td>\n",
              "      <td>Amanda offered Jerry some cookies, and he acce...</td>\n",
              "      <td>Amanda baked cookies and will bring Jerry some...</td>\n",
              "    </tr>\n",
              "    <tr>\n",
              "      <th>1</th>\n",
              "      <td>1</td>\n",
              "      <td>Olivia: Who are you voting for in this electio...</td>\n",
              "      <td>Olivia and Olivier are voting for liberals in ...</td>\n",
              "      <td>Olivia and Oliver both plan to vote for the Li...</td>\n",
              "      <td>Olivia and Oliver both plan to vote for the Li...</td>\n",
              "    </tr>\n",
              "    <tr>\n",
              "      <th>2</th>\n",
              "      <td>2</td>\n",
              "      <td>Tim: Hi, what's up?\\r\\nKim: Bad mood tbh, I wa...</td>\n",
              "      <td>Kim may try the pomodoro technique recommended...</td>\n",
              "      <td>Kim was feeling bad after spending her day pro...</td>\n",
              "      <td>Kim may try the pomodoro technique recommended...</td>\n",
              "    </tr>\n",
              "    <tr>\n",
              "      <th>3</th>\n",
              "      <td>3</td>\n",
              "      <td>Edward: Rachel, I think I'm in ove with Bella....</td>\n",
              "      <td>Edward thinks he is in love with Bella. Rachel...</td>\n",
              "      <td>Rachel abruptly interrupted Edward's confessio...</td>\n",
              "      <td>Rachel abruptly interrupted Edward's confessio...</td>\n",
              "    </tr>\n",
              "    <tr>\n",
              "      <th>4</th>\n",
              "      <td>4</td>\n",
              "      <td>Sam: hey  overheard rick say something\\r\\nSam:...</td>\n",
              "      <td>Sam is confused, because he overheard Rick com...</td>\n",
              "      <td>Sam overheard his roommate, Rick, talking on t...</td>\n",
              "      <td>Sam is confused, because he overheard Rick com...</td>\n",
              "    </tr>\n",
              "  </tbody>\n",
              "</table>\n",
              "</div>\n",
              "      <button class=\"colab-df-convert\" onclick=\"convertToInteractive('df-d6291ce2-c839-43ba-8f22-fd5d6381f42b')\"\n",
              "              title=\"Convert this dataframe to an interactive table.\"\n",
              "              style=\"display:none;\">\n",
              "        \n",
              "  <svg xmlns=\"http://www.w3.org/2000/svg\" height=\"24px\"viewBox=\"0 0 24 24\"\n",
              "       width=\"24px\">\n",
              "    <path d=\"M0 0h24v24H0V0z\" fill=\"none\"/>\n",
              "    <path d=\"M18.56 5.44l.94 2.06.94-2.06 2.06-.94-2.06-.94-.94-2.06-.94 2.06-2.06.94zm-11 1L8.5 8.5l.94-2.06 2.06-.94-2.06-.94L8.5 2.5l-.94 2.06-2.06.94zm10 10l.94 2.06.94-2.06 2.06-.94-2.06-.94-.94-2.06-.94 2.06-2.06.94z\"/><path d=\"M17.41 7.96l-1.37-1.37c-.4-.4-.92-.59-1.43-.59-.52 0-1.04.2-1.43.59L10.3 9.45l-7.72 7.72c-.78.78-.78 2.05 0 2.83L4 21.41c.39.39.9.59 1.41.59.51 0 1.02-.2 1.41-.59l7.78-7.78 2.81-2.81c.8-.78.8-2.07 0-2.86zM5.41 20L4 18.59l7.72-7.72 1.47 1.35L5.41 20z\"/>\n",
              "  </svg>\n",
              "      </button>\n",
              "      \n",
              "  <style>\n",
              "    .colab-df-container {\n",
              "      display:flex;\n",
              "      flex-wrap:wrap;\n",
              "      gap: 12px;\n",
              "    }\n",
              "\n",
              "    .colab-df-convert {\n",
              "      background-color: #E8F0FE;\n",
              "      border: none;\n",
              "      border-radius: 50%;\n",
              "      cursor: pointer;\n",
              "      display: none;\n",
              "      fill: #1967D2;\n",
              "      height: 32px;\n",
              "      padding: 0 0 0 0;\n",
              "      width: 32px;\n",
              "    }\n",
              "\n",
              "    .colab-df-convert:hover {\n",
              "      background-color: #E2EBFA;\n",
              "      box-shadow: 0px 1px 2px rgba(60, 64, 67, 0.3), 0px 1px 3px 1px rgba(60, 64, 67, 0.15);\n",
              "      fill: #174EA6;\n",
              "    }\n",
              "\n",
              "    [theme=dark] .colab-df-convert {\n",
              "      background-color: #3B4455;\n",
              "      fill: #D2E3FC;\n",
              "    }\n",
              "\n",
              "    [theme=dark] .colab-df-convert:hover {\n",
              "      background-color: #434B5C;\n",
              "      box-shadow: 0px 1px 3px 1px rgba(0, 0, 0, 0.15);\n",
              "      filter: drop-shadow(0px 1px 2px rgba(0, 0, 0, 0.3));\n",
              "      fill: #FFFFFF;\n",
              "    }\n",
              "  </style>\n",
              "\n",
              "      <script>\n",
              "        const buttonEl =\n",
              "          document.querySelector('#df-d6291ce2-c839-43ba-8f22-fd5d6381f42b button.colab-df-convert');\n",
              "        buttonEl.style.display =\n",
              "          google.colab.kernel.accessAllowed ? 'block' : 'none';\n",
              "\n",
              "        async function convertToInteractive(key) {\n",
              "          const element = document.querySelector('#df-d6291ce2-c839-43ba-8f22-fd5d6381f42b');\n",
              "          const dataTable =\n",
              "            await google.colab.kernel.invokeFunction('convertToInteractive',\n",
              "                                                     [key], {});\n",
              "          if (!dataTable) return;\n",
              "\n",
              "          const docLinkHtml = 'Like what you see? Visit the ' +\n",
              "            '<a target=\"_blank\" href=https://colab.research.google.com/notebooks/data_table.ipynb>data table notebook</a>'\n",
              "            + ' to learn more about interactive tables.';\n",
              "          element.innerHTML = '';\n",
              "          dataTable['output_type'] = 'display_data';\n",
              "          await google.colab.output.renderOutput(dataTable, element);\n",
              "          const docLink = document.createElement('div');\n",
              "          docLink.innerHTML = docLinkHtml;\n",
              "          element.appendChild(docLink);\n",
              "        }\n",
              "      </script>\n",
              "    </div>\n",
              "  </div>\n",
              "  "
            ]
          },
          "metadata": {},
          "execution_count": 35
        }
      ]
    },
    {
      "cell_type": "code",
      "source": [
        "df_test"
      ],
      "metadata": {
        "colab": {
          "base_uri": "https://localhost:8080/",
          "height": 424
        },
        "id": "MJk6MH1vyHGW",
        "outputId": "15fbd537-f0fa-4673-92cd-9541613683f7"
      },
      "execution_count": null,
      "outputs": [
        {
          "output_type": "execute_result",
          "data": {
            "text/plain": [
              "             id                                           dialogue  \\\n",
              "0      13862856  Hannah: Hey, do you have Betty's number?\\nAman...   \n",
              "1      13729565  Eric: MACHINE!\\r\\nRob: That's so gr8!\\r\\nEric:...   \n",
              "2      13680171  Lenny: Babe, can you help me with something?\\r...   \n",
              "3      13729438  Will: hey babe, what do you want for dinner to...   \n",
              "4      13828600  Ollie: Hi , are you in Warsaw\\r\\nJane: yes, ju...   \n",
              "..          ...                                                ...   \n",
              "814  13611902-1  Alex: Were you able to attend Friday night's b...   \n",
              "815    13820989  Jamilla: remember that the audition starts at ...   \n",
              "816    13717193  Marta: <file_gif>\\r\\nMarta: Sorry girls, I cli...   \n",
              "817    13829115  Cora: Have you heard how much fuss British med...   \n",
              "818    13818810  Rachel: <file_other>\\r\\nRachel: Top 50 Best Fi...   \n",
              "\n",
              "                                               summary  \n",
              "0    Hannah needs Betty's number but Amanda doesn't...  \n",
              "1    Eric and Rob are going to watch a stand-up on ...  \n",
              "2    Lenny can't decide which trousers to buy. Bob ...  \n",
              "3    Emma will be home soon and she will let Will k...  \n",
              "4    Jane is in Warsaw. Ollie and Jane has a party....  \n",
              "..                                                 ...  \n",
              "814  Benjamin didn't come to see a basketball game ...  \n",
              "815      The audition starts at 7.30 P.M. in Antena 3.  \n",
              "816                    Marta sent a file accidentally,  \n",
              "817  There was a meet-and-greet with James Charles ...  \n",
              "818  Rachel sends a list of Top 50 films of 2018. J...  \n",
              "\n",
              "[819 rows x 3 columns]"
            ],
            "text/html": [
              "\n",
              "  <div id=\"df-03c227a6-d34c-4b5f-9165-52fd9d7715b0\">\n",
              "    <div class=\"colab-df-container\">\n",
              "      <div>\n",
              "<style scoped>\n",
              "    .dataframe tbody tr th:only-of-type {\n",
              "        vertical-align: middle;\n",
              "    }\n",
              "\n",
              "    .dataframe tbody tr th {\n",
              "        vertical-align: top;\n",
              "    }\n",
              "\n",
              "    .dataframe thead th {\n",
              "        text-align: right;\n",
              "    }\n",
              "</style>\n",
              "<table border=\"1\" class=\"dataframe\">\n",
              "  <thead>\n",
              "    <tr style=\"text-align: right;\">\n",
              "      <th></th>\n",
              "      <th>id</th>\n",
              "      <th>dialogue</th>\n",
              "      <th>summary</th>\n",
              "    </tr>\n",
              "  </thead>\n",
              "  <tbody>\n",
              "    <tr>\n",
              "      <th>0</th>\n",
              "      <td>13862856</td>\n",
              "      <td>Hannah: Hey, do you have Betty's number?\\nAman...</td>\n",
              "      <td>Hannah needs Betty's number but Amanda doesn't...</td>\n",
              "    </tr>\n",
              "    <tr>\n",
              "      <th>1</th>\n",
              "      <td>13729565</td>\n",
              "      <td>Eric: MACHINE!\\r\\nRob: That's so gr8!\\r\\nEric:...</td>\n",
              "      <td>Eric and Rob are going to watch a stand-up on ...</td>\n",
              "    </tr>\n",
              "    <tr>\n",
              "      <th>2</th>\n",
              "      <td>13680171</td>\n",
              "      <td>Lenny: Babe, can you help me with something?\\r...</td>\n",
              "      <td>Lenny can't decide which trousers to buy. Bob ...</td>\n",
              "    </tr>\n",
              "    <tr>\n",
              "      <th>3</th>\n",
              "      <td>13729438</td>\n",
              "      <td>Will: hey babe, what do you want for dinner to...</td>\n",
              "      <td>Emma will be home soon and she will let Will k...</td>\n",
              "    </tr>\n",
              "    <tr>\n",
              "      <th>4</th>\n",
              "      <td>13828600</td>\n",
              "      <td>Ollie: Hi , are you in Warsaw\\r\\nJane: yes, ju...</td>\n",
              "      <td>Jane is in Warsaw. Ollie and Jane has a party....</td>\n",
              "    </tr>\n",
              "    <tr>\n",
              "      <th>...</th>\n",
              "      <td>...</td>\n",
              "      <td>...</td>\n",
              "      <td>...</td>\n",
              "    </tr>\n",
              "    <tr>\n",
              "      <th>814</th>\n",
              "      <td>13611902-1</td>\n",
              "      <td>Alex: Were you able to attend Friday night's b...</td>\n",
              "      <td>Benjamin didn't come to see a basketball game ...</td>\n",
              "    </tr>\n",
              "    <tr>\n",
              "      <th>815</th>\n",
              "      <td>13820989</td>\n",
              "      <td>Jamilla: remember that the audition starts at ...</td>\n",
              "      <td>The audition starts at 7.30 P.M. in Antena 3.</td>\n",
              "    </tr>\n",
              "    <tr>\n",
              "      <th>816</th>\n",
              "      <td>13717193</td>\n",
              "      <td>Marta: &lt;file_gif&gt;\\r\\nMarta: Sorry girls, I cli...</td>\n",
              "      <td>Marta sent a file accidentally,</td>\n",
              "    </tr>\n",
              "    <tr>\n",
              "      <th>817</th>\n",
              "      <td>13829115</td>\n",
              "      <td>Cora: Have you heard how much fuss British med...</td>\n",
              "      <td>There was a meet-and-greet with James Charles ...</td>\n",
              "    </tr>\n",
              "    <tr>\n",
              "      <th>818</th>\n",
              "      <td>13818810</td>\n",
              "      <td>Rachel: &lt;file_other&gt;\\r\\nRachel: Top 50 Best Fi...</td>\n",
              "      <td>Rachel sends a list of Top 50 films of 2018. J...</td>\n",
              "    </tr>\n",
              "  </tbody>\n",
              "</table>\n",
              "<p>819 rows × 3 columns</p>\n",
              "</div>\n",
              "      <button class=\"colab-df-convert\" onclick=\"convertToInteractive('df-03c227a6-d34c-4b5f-9165-52fd9d7715b0')\"\n",
              "              title=\"Convert this dataframe to an interactive table.\"\n",
              "              style=\"display:none;\">\n",
              "        \n",
              "  <svg xmlns=\"http://www.w3.org/2000/svg\" height=\"24px\"viewBox=\"0 0 24 24\"\n",
              "       width=\"24px\">\n",
              "    <path d=\"M0 0h24v24H0V0z\" fill=\"none\"/>\n",
              "    <path d=\"M18.56 5.44l.94 2.06.94-2.06 2.06-.94-2.06-.94-.94-2.06-.94 2.06-2.06.94zm-11 1L8.5 8.5l.94-2.06 2.06-.94-2.06-.94L8.5 2.5l-.94 2.06-2.06.94zm10 10l.94 2.06.94-2.06 2.06-.94-2.06-.94-.94-2.06-.94 2.06-2.06.94z\"/><path d=\"M17.41 7.96l-1.37-1.37c-.4-.4-.92-.59-1.43-.59-.52 0-1.04.2-1.43.59L10.3 9.45l-7.72 7.72c-.78.78-.78 2.05 0 2.83L4 21.41c.39.39.9.59 1.41.59.51 0 1.02-.2 1.41-.59l7.78-7.78 2.81-2.81c.8-.78.8-2.07 0-2.86zM5.41 20L4 18.59l7.72-7.72 1.47 1.35L5.41 20z\"/>\n",
              "  </svg>\n",
              "      </button>\n",
              "      \n",
              "  <style>\n",
              "    .colab-df-container {\n",
              "      display:flex;\n",
              "      flex-wrap:wrap;\n",
              "      gap: 12px;\n",
              "    }\n",
              "\n",
              "    .colab-df-convert {\n",
              "      background-color: #E8F0FE;\n",
              "      border: none;\n",
              "      border-radius: 50%;\n",
              "      cursor: pointer;\n",
              "      display: none;\n",
              "      fill: #1967D2;\n",
              "      height: 32px;\n",
              "      padding: 0 0 0 0;\n",
              "      width: 32px;\n",
              "    }\n",
              "\n",
              "    .colab-df-convert:hover {\n",
              "      background-color: #E2EBFA;\n",
              "      box-shadow: 0px 1px 2px rgba(60, 64, 67, 0.3), 0px 1px 3px 1px rgba(60, 64, 67, 0.15);\n",
              "      fill: #174EA6;\n",
              "    }\n",
              "\n",
              "    [theme=dark] .colab-df-convert {\n",
              "      background-color: #3B4455;\n",
              "      fill: #D2E3FC;\n",
              "    }\n",
              "\n",
              "    [theme=dark] .colab-df-convert:hover {\n",
              "      background-color: #434B5C;\n",
              "      box-shadow: 0px 1px 3px 1px rgba(0, 0, 0, 0.15);\n",
              "      filter: drop-shadow(0px 1px 2px rgba(0, 0, 0, 0.3));\n",
              "      fill: #FFFFFF;\n",
              "    }\n",
              "  </style>\n",
              "\n",
              "      <script>\n",
              "        const buttonEl =\n",
              "          document.querySelector('#df-03c227a6-d34c-4b5f-9165-52fd9d7715b0 button.colab-df-convert');\n",
              "        buttonEl.style.display =\n",
              "          google.colab.kernel.accessAllowed ? 'block' : 'none';\n",
              "\n",
              "        async function convertToInteractive(key) {\n",
              "          const element = document.querySelector('#df-03c227a6-d34c-4b5f-9165-52fd9d7715b0');\n",
              "          const dataTable =\n",
              "            await google.colab.kernel.invokeFunction('convertToInteractive',\n",
              "                                                     [key], {});\n",
              "          if (!dataTable) return;\n",
              "\n",
              "          const docLinkHtml = 'Like what you see? Visit the ' +\n",
              "            '<a target=\"_blank\" href=https://colab.research.google.com/notebooks/data_table.ipynb>data table notebook</a>'\n",
              "            + ' to learn more about interactive tables.';\n",
              "          element.innerHTML = '';\n",
              "          dataTable['output_type'] = 'display_data';\n",
              "          await google.colab.output.renderOutput(dataTable, element);\n",
              "          const docLink = document.createElement('div');\n",
              "          docLink.innerHTML = docLinkHtml;\n",
              "          element.appendChild(docLink);\n",
              "        }\n",
              "      </script>\n",
              "    </div>\n",
              "  </div>\n",
              "  "
            ]
          },
          "metadata": {},
          "execution_count": 43
        }
      ]
    },
    {
      "cell_type": "code",
      "source": [
        "class samsum_test(torch.utils.data.Dataset):\n",
        "    def __init__(self, df):\n",
        "        self.data = df\n",
        "\n",
        "    def __len__(self):\n",
        "        return len(self.data)\n",
        "\n",
        "    def __getitem__(self, idx):\n",
        "        if torch.is_tensor(idx):\n",
        "            idx = idx.tolist()\n",
        "\n",
        "        return self.data.iloc[idx].dialogue\t, self.data.iloc[idx].summary"
      ],
      "metadata": {
        "id": "YYc0xg1LukMY"
      },
      "execution_count": null,
      "outputs": []
    },
    {
      "cell_type": "code",
      "source": [
        "test_data = samsum_test(df_test)"
      ],
      "metadata": {
        "id": "_KagOx7SxaoB"
      },
      "execution_count": null,
      "outputs": []
    },
    {
      "cell_type": "code",
      "source": [
        "for x, y in test_data:\n",
        "  print(x)\n",
        "  print(y)\n",
        "  break"
      ],
      "metadata": {
        "colab": {
          "base_uri": "https://localhost:8080/"
        },
        "id": "CQRBa6-6xgmm",
        "outputId": "42962316-1060-44ec-db4c-30f9578eb2d0"
      },
      "execution_count": null,
      "outputs": [
        {
          "output_type": "stream",
          "name": "stdout",
          "text": [
            "Hannah: Hey, do you have Betty's number?\n",
            "Amanda: Lemme check\n",
            "Hannah: <file_gif>\n",
            "Amanda: Sorry, can't find it.\n",
            "Amanda: Ask Larry\n",
            "Amanda: He called her last time we were at the park together\n",
            "Hannah: I don't know him well\n",
            "Hannah: <file_gif>\n",
            "Amanda: Don't be shy, he's very nice\n",
            "Hannah: If you say so..\n",
            "Hannah: I'd rather you texted him\n",
            "Amanda: Just text him 🙂\n",
            "Hannah: Urgh.. Alright\n",
            "Hannah: Bye\n",
            "Amanda: Bye bye\n",
            "Hannah needs Betty's number but Amanda doesn't have it. She needs to contact Larry.\n"
          ]
        }
      ]
    },
    {
      "cell_type": "code",
      "source": [
        "from google.colab import drive\n",
        "drive.mount('/content/drive')"
      ],
      "metadata": {
        "colab": {
          "base_uri": "https://localhost:8080/"
        },
        "id": "I9nU-nxn2PrL",
        "outputId": "937c689d-6fa2-4de4-c26b-414abfa1f565"
      },
      "execution_count": null,
      "outputs": [
        {
          "output_type": "stream",
          "name": "stdout",
          "text": [
            "Mounted at /content/drive\n"
          ]
        }
      ]
    },
    {
      "cell_type": "code",
      "source": [
        "tokenizer_large = BartTokenizer.from_pretrained(\"/content/drive/MyDrive/Project/dl-gp/tokenizer\")\n",
        "model_large = BartForConditionalGeneration.from_pretrained(\"/content/drive/MyDrive/Project/dl-gp/bart-large-model\").to(device)"
      ],
      "metadata": {
        "id": "jdZMjKab1w74"
      },
      "execution_count": null,
      "outputs": []
    },
    {
      "cell_type": "code",
      "source": [
        "from tqdm import tqdm\n",
        "results = {'rouge1': np.zeros(3), 'rouge2': np.zeros(3), 'rougeL': np.zeros(3)}\n",
        "\n",
        "for data in tqdm(test_data,position=0, leave=True):\n",
        "  article, ref = data\n",
        "\n",
        "  inputs = tokenizer_large(article, return_tensors=\"pt\", max_length=1024).to(device)\n",
        "  summary_ids = model_large.generate(inputs[\"input_ids\"], num_beams=2, min_length=0, max_length=100)\n",
        "  \n",
        "  res = tokenizer_large.batch_decode(summary_ids, skip_special_tokens=True, clean_up_tokenization_spaces=False)[0]\n",
        "  scorer = rouge_scorer.RougeScorer(['rouge1', 'rougeL', 'rouge2'], use_stemmer=True)\n",
        "  scores = scorer.score(res, ref)\n",
        "  for key in scores.keys():\n",
        "    results[key] += np.array(scores[key])\n",
        "\n"
      ],
      "metadata": {
        "colab": {
          "base_uri": "https://localhost:8080/"
        },
        "id": "EbNNn6Z6xmQt",
        "outputId": "9b26cd5d-75b3-403c-d794-27c63a2dc897"
      },
      "execution_count": null,
      "outputs": [
        {
          "output_type": "stream",
          "name": "stderr",
          "text": [
            "  0%|          | 0/819 [00:00<?, ?it/s]Truncation was not explicitly activated but `max_length` is provided a specific value, please use `truncation=True` to explicitly truncate examples to max length. Defaulting to 'longest_first' truncation strategy. If you encode pairs of sequences (GLUE-style) with the tokenizer you can select this strategy more precisely by providing a specific strategy to `truncation`.\n",
            "100%|██████████| 819/819 [07:20<00:00,  1.86it/s]\n"
          ]
        }
      ]
    },
    {
      "cell_type": "code",
      "source": [
        "# average over all test data\n",
        "for key in results.keys(): \n",
        "  results[key] /= len(test_data)\n",
        "results"
      ],
      "metadata": {
        "colab": {
          "base_uri": "https://localhost:8080/"
        },
        "id": "L136c6EGyfbQ",
        "outputId": "7d059355-440f-44ae-9dfa-124112875894"
      },
      "execution_count": null,
      "outputs": [
        {
          "output_type": "execute_result",
          "data": {
            "text/plain": [
              "{'rouge1': array([0.55195888, 0.52645783, 0.50188285]),\n",
              " 'rouge2': array([0.27909943, 0.27393476, 0.25766099]),\n",
              " 'rougeL': array([0.45640011, 0.43782755, 0.41680987])}"
            ]
          },
          "metadata": {},
          "execution_count": 73
        }
      ]
    },
    {
      "cell_type": "code",
      "source": [
        "# Print Average F1 metrics \n",
        "print(\"average R1: \", results['rouge1'][2])\n",
        "print(\"average R2: \", results['rouge2'][2])\n",
        "print(\"average RL: \", results['rougeL'][2])"
      ],
      "metadata": {
        "colab": {
          "base_uri": "https://localhost:8080/"
        },
        "id": "P2be6Dzrz9s1",
        "outputId": "1d7d3df3-6188-4a3d-e336-1738d800980b"
      },
      "execution_count": null,
      "outputs": [
        {
          "output_type": "stream",
          "name": "stdout",
          "text": [
            "average R1:  0.5018828490298214\n",
            "average R2:  0.257660989494259\n",
            "average RL:  0.41680986972473816\n"
          ]
        }
      ]
    },
    {
      "cell_type": "code",
      "source": [
        "# bertscore"
      ],
      "metadata": {
        "id": "WWkWh45tVY86"
      },
      "execution_count": null,
      "outputs": []
    },
    {
      "cell_type": "code",
      "source": [
        "df_test"
      ],
      "metadata": {
        "colab": {
          "base_uri": "https://localhost:8080/",
          "height": 424
        },
        "id": "B4Nw_4oQVZBM",
        "outputId": "861637f9-8b65-4b96-acb1-0f1df23009d8"
      },
      "execution_count": null,
      "outputs": [
        {
          "output_type": "execute_result",
          "data": {
            "text/plain": [
              "             id                                           dialogue  \\\n",
              "0      13862856  Hannah: Hey, do you have Betty's number?\\nAman...   \n",
              "1      13729565  Eric: MACHINE!\\r\\nRob: That's so gr8!\\r\\nEric:...   \n",
              "2      13680171  Lenny: Babe, can you help me with something?\\r...   \n",
              "3      13729438  Will: hey babe, what do you want for dinner to...   \n",
              "4      13828600  Ollie: Hi , are you in Warsaw\\r\\nJane: yes, ju...   \n",
              "..          ...                                                ...   \n",
              "814  13611902-1  Alex: Were you able to attend Friday night's b...   \n",
              "815    13820989  Jamilla: remember that the audition starts at ...   \n",
              "816    13717193  Marta: <file_gif>\\r\\nMarta: Sorry girls, I cli...   \n",
              "817    13829115  Cora: Have you heard how much fuss British med...   \n",
              "818    13818810  Rachel: <file_other>\\r\\nRachel: Top 50 Best Fi...   \n",
              "\n",
              "                                               summary  \n",
              "0    Hannah needs Betty's number but Amanda doesn't...  \n",
              "1    Eric and Rob are going to watch a stand-up on ...  \n",
              "2    Lenny can't decide which trousers to buy. Bob ...  \n",
              "3    Emma will be home soon and she will let Will k...  \n",
              "4    Jane is in Warsaw. Ollie and Jane has a party....  \n",
              "..                                                 ...  \n",
              "814  Benjamin didn't come to see a basketball game ...  \n",
              "815      The audition starts at 7.30 P.M. in Antena 3.  \n",
              "816                    Marta sent a file accidentally,  \n",
              "817  There was a meet-and-greet with James Charles ...  \n",
              "818  Rachel sends a list of Top 50 films of 2018. J...  \n",
              "\n",
              "[819 rows x 3 columns]"
            ],
            "text/html": [
              "\n",
              "  <div id=\"df-fcab28a4-1d4a-4440-b71a-656f7ee048e2\">\n",
              "    <div class=\"colab-df-container\">\n",
              "      <div>\n",
              "<style scoped>\n",
              "    .dataframe tbody tr th:only-of-type {\n",
              "        vertical-align: middle;\n",
              "    }\n",
              "\n",
              "    .dataframe tbody tr th {\n",
              "        vertical-align: top;\n",
              "    }\n",
              "\n",
              "    .dataframe thead th {\n",
              "        text-align: right;\n",
              "    }\n",
              "</style>\n",
              "<table border=\"1\" class=\"dataframe\">\n",
              "  <thead>\n",
              "    <tr style=\"text-align: right;\">\n",
              "      <th></th>\n",
              "      <th>id</th>\n",
              "      <th>dialogue</th>\n",
              "      <th>summary</th>\n",
              "    </tr>\n",
              "  </thead>\n",
              "  <tbody>\n",
              "    <tr>\n",
              "      <th>0</th>\n",
              "      <td>13862856</td>\n",
              "      <td>Hannah: Hey, do you have Betty's number?\\nAman...</td>\n",
              "      <td>Hannah needs Betty's number but Amanda doesn't...</td>\n",
              "    </tr>\n",
              "    <tr>\n",
              "      <th>1</th>\n",
              "      <td>13729565</td>\n",
              "      <td>Eric: MACHINE!\\r\\nRob: That's so gr8!\\r\\nEric:...</td>\n",
              "      <td>Eric and Rob are going to watch a stand-up on ...</td>\n",
              "    </tr>\n",
              "    <tr>\n",
              "      <th>2</th>\n",
              "      <td>13680171</td>\n",
              "      <td>Lenny: Babe, can you help me with something?\\r...</td>\n",
              "      <td>Lenny can't decide which trousers to buy. Bob ...</td>\n",
              "    </tr>\n",
              "    <tr>\n",
              "      <th>3</th>\n",
              "      <td>13729438</td>\n",
              "      <td>Will: hey babe, what do you want for dinner to...</td>\n",
              "      <td>Emma will be home soon and she will let Will k...</td>\n",
              "    </tr>\n",
              "    <tr>\n",
              "      <th>4</th>\n",
              "      <td>13828600</td>\n",
              "      <td>Ollie: Hi , are you in Warsaw\\r\\nJane: yes, ju...</td>\n",
              "      <td>Jane is in Warsaw. Ollie and Jane has a party....</td>\n",
              "    </tr>\n",
              "    <tr>\n",
              "      <th>...</th>\n",
              "      <td>...</td>\n",
              "      <td>...</td>\n",
              "      <td>...</td>\n",
              "    </tr>\n",
              "    <tr>\n",
              "      <th>814</th>\n",
              "      <td>13611902-1</td>\n",
              "      <td>Alex: Were you able to attend Friday night's b...</td>\n",
              "      <td>Benjamin didn't come to see a basketball game ...</td>\n",
              "    </tr>\n",
              "    <tr>\n",
              "      <th>815</th>\n",
              "      <td>13820989</td>\n",
              "      <td>Jamilla: remember that the audition starts at ...</td>\n",
              "      <td>The audition starts at 7.30 P.M. in Antena 3.</td>\n",
              "    </tr>\n",
              "    <tr>\n",
              "      <th>816</th>\n",
              "      <td>13717193</td>\n",
              "      <td>Marta: &lt;file_gif&gt;\\r\\nMarta: Sorry girls, I cli...</td>\n",
              "      <td>Marta sent a file accidentally,</td>\n",
              "    </tr>\n",
              "    <tr>\n",
              "      <th>817</th>\n",
              "      <td>13829115</td>\n",
              "      <td>Cora: Have you heard how much fuss British med...</td>\n",
              "      <td>There was a meet-and-greet with James Charles ...</td>\n",
              "    </tr>\n",
              "    <tr>\n",
              "      <th>818</th>\n",
              "      <td>13818810</td>\n",
              "      <td>Rachel: &lt;file_other&gt;\\r\\nRachel: Top 50 Best Fi...</td>\n",
              "      <td>Rachel sends a list of Top 50 films of 2018. J...</td>\n",
              "    </tr>\n",
              "  </tbody>\n",
              "</table>\n",
              "<p>819 rows × 3 columns</p>\n",
              "</div>\n",
              "      <button class=\"colab-df-convert\" onclick=\"convertToInteractive('df-fcab28a4-1d4a-4440-b71a-656f7ee048e2')\"\n",
              "              title=\"Convert this dataframe to an interactive table.\"\n",
              "              style=\"display:none;\">\n",
              "        \n",
              "  <svg xmlns=\"http://www.w3.org/2000/svg\" height=\"24px\"viewBox=\"0 0 24 24\"\n",
              "       width=\"24px\">\n",
              "    <path d=\"M0 0h24v24H0V0z\" fill=\"none\"/>\n",
              "    <path d=\"M18.56 5.44l.94 2.06.94-2.06 2.06-.94-2.06-.94-.94-2.06-.94 2.06-2.06.94zm-11 1L8.5 8.5l.94-2.06 2.06-.94-2.06-.94L8.5 2.5l-.94 2.06-2.06.94zm10 10l.94 2.06.94-2.06 2.06-.94-2.06-.94-.94-2.06-.94 2.06-2.06.94z\"/><path d=\"M17.41 7.96l-1.37-1.37c-.4-.4-.92-.59-1.43-.59-.52 0-1.04.2-1.43.59L10.3 9.45l-7.72 7.72c-.78.78-.78 2.05 0 2.83L4 21.41c.39.39.9.59 1.41.59.51 0 1.02-.2 1.41-.59l7.78-7.78 2.81-2.81c.8-.78.8-2.07 0-2.86zM5.41 20L4 18.59l7.72-7.72 1.47 1.35L5.41 20z\"/>\n",
              "  </svg>\n",
              "      </button>\n",
              "      \n",
              "  <style>\n",
              "    .colab-df-container {\n",
              "      display:flex;\n",
              "      flex-wrap:wrap;\n",
              "      gap: 12px;\n",
              "    }\n",
              "\n",
              "    .colab-df-convert {\n",
              "      background-color: #E8F0FE;\n",
              "      border: none;\n",
              "      border-radius: 50%;\n",
              "      cursor: pointer;\n",
              "      display: none;\n",
              "      fill: #1967D2;\n",
              "      height: 32px;\n",
              "      padding: 0 0 0 0;\n",
              "      width: 32px;\n",
              "    }\n",
              "\n",
              "    .colab-df-convert:hover {\n",
              "      background-color: #E2EBFA;\n",
              "      box-shadow: 0px 1px 2px rgba(60, 64, 67, 0.3), 0px 1px 3px 1px rgba(60, 64, 67, 0.15);\n",
              "      fill: #174EA6;\n",
              "    }\n",
              "\n",
              "    [theme=dark] .colab-df-convert {\n",
              "      background-color: #3B4455;\n",
              "      fill: #D2E3FC;\n",
              "    }\n",
              "\n",
              "    [theme=dark] .colab-df-convert:hover {\n",
              "      background-color: #434B5C;\n",
              "      box-shadow: 0px 1px 3px 1px rgba(0, 0, 0, 0.15);\n",
              "      filter: drop-shadow(0px 1px 2px rgba(0, 0, 0, 0.3));\n",
              "      fill: #FFFFFF;\n",
              "    }\n",
              "  </style>\n",
              "\n",
              "      <script>\n",
              "        const buttonEl =\n",
              "          document.querySelector('#df-fcab28a4-1d4a-4440-b71a-656f7ee048e2 button.colab-df-convert');\n",
              "        buttonEl.style.display =\n",
              "          google.colab.kernel.accessAllowed ? 'block' : 'none';\n",
              "\n",
              "        async function convertToInteractive(key) {\n",
              "          const element = document.querySelector('#df-fcab28a4-1d4a-4440-b71a-656f7ee048e2');\n",
              "          const dataTable =\n",
              "            await google.colab.kernel.invokeFunction('convertToInteractive',\n",
              "                                                     [key], {});\n",
              "          if (!dataTable) return;\n",
              "\n",
              "          const docLinkHtml = 'Like what you see? Visit the ' +\n",
              "            '<a target=\"_blank\" href=https://colab.research.google.com/notebooks/data_table.ipynb>data table notebook</a>'\n",
              "            + ' to learn more about interactive tables.';\n",
              "          element.innerHTML = '';\n",
              "          dataTable['output_type'] = 'display_data';\n",
              "          await google.colab.output.renderOutput(dataTable, element);\n",
              "          const docLink = document.createElement('div');\n",
              "          docLink.innerHTML = docLinkHtml;\n",
              "          element.appendChild(docLink);\n",
              "        }\n",
              "      </script>\n",
              "    </div>\n",
              "  </div>\n",
              "  "
            ]
          },
          "metadata": {},
          "execution_count": 76
        }
      ]
    },
    {
      "cell_type": "code",
      "source": [
        "test_dialogue_list = df_test.dialogue.to_list()"
      ],
      "metadata": {
        "id": "ny6lCQglYcJw"
      },
      "execution_count": null,
      "outputs": []
    },
    {
      "cell_type": "code",
      "source": [
        "len(test_dialogue_list)"
      ],
      "metadata": {
        "colab": {
          "base_uri": "https://localhost:8080/"
        },
        "id": "jSOtWXjWf3PW",
        "outputId": "8ac7d54e-b03b-4424-aef4-bfa78035fab8"
      },
      "execution_count": null,
      "outputs": [
        {
          "output_type": "execute_result",
          "data": {
            "text/plain": [
              "819"
            ]
          },
          "metadata": {},
          "execution_count": 96
        }
      ]
    },
    {
      "cell_type": "code",
      "source": [
        "test_summary_list = df_test.summary.to_list()"
      ],
      "metadata": {
        "id": "LvqvoNRDYyGz"
      },
      "execution_count": null,
      "outputs": []
    },
    {
      "cell_type": "code",
      "source": [
        "len(test_summary_list)"
      ],
      "metadata": {
        "colab": {
          "base_uri": "https://localhost:8080/"
        },
        "id": "FlqVfSvIfllJ",
        "outputId": "c8b3d186-9c3e-435e-e80e-900742bd6811"
      },
      "execution_count": null,
      "outputs": [
        {
          "output_type": "execute_result",
          "data": {
            "text/plain": [
              "819"
            ]
          },
          "metadata": {},
          "execution_count": 95
        }
      ]
    },
    {
      "cell_type": "code",
      "source": [
        "sample_text = test_dialogue_list[760]\n",
        "reference = test_summary_list[760]"
      ],
      "metadata": {
        "id": "vNNoQY03VvE-"
      },
      "execution_count": null,
      "outputs": []
    },
    {
      "cell_type": "code",
      "source": [
        "name = 'philschmid/bart-large-cnn-samsum'\n",
        "tokenizer_large_baseline = BartTokenizer.from_pretrained(name)\n",
        "model_large_baseline = BartForConditionalGeneration.from_pretrained(name).to(device)\n"
      ],
      "metadata": {
        "colab": {
          "base_uri": "https://localhost:8080/",
          "height": 209,
          "referenced_widgets": [
            "5f2408eb83bf4caebdec0fa7f8a6a29c",
            "ce50c668231b4bcf8eb42310165913d1",
            "d602500f6b8f4b08be2e27b3fa20bde7",
            "d79681b40a0c48989d191664df14b056",
            "c9195c3afedf4218a90509e618a3f8d2",
            "61487d823cf14216a17263472d492c29",
            "8acba060467f484dadca066afd828930",
            "7ef34bcafceb42848d75c760aa5e8758",
            "38ae391235914bacb163f84c53936e56",
            "92b205f9207845f0a5b6846ab5c92341",
            "5147a94547e54c79b7c15143dbb1b416",
            "aa79fb8353d448a9a7609bf0fd96daec",
            "b09c556e2aea491e91ef5d6e1a887059",
            "556eeb4ed0df4a1e83dd3000e2c36073",
            "e48fac8171cc463a809df74ba458dedd",
            "2145e95b1c474bea8e6c699768977f49",
            "6b9e567d39794ffbb720acb510ccc5d8",
            "da4ec209da9e42f2967510aad3ad8918",
            "a57370124bd740d9b6fd8c6bf248df6d",
            "1c1c44eed2cd40e7b2194eb44bff3554",
            "3e8a251cbe714cf6a1069ff4baf7cc44",
            "22fc37d9d61c4d479ad93f0c89f21c89",
            "4393e67ce1b94c538f1051a4aca5c3ae",
            "8229d64c3b3b4bcea184a73456c6c928",
            "a313593b37b346149e72232b75078c99",
            "b581ce3283454ae2b65ec0f9485324ce",
            "6209c94fda6246bebb85da399c6482ae",
            "f7ee5514f4bb407d9696aa8770569f16",
            "f30a7e62a63c4847b8e082879c3e12bc",
            "f84041e829874dff85a4a2dad4131ae6",
            "ca319fe908a7410f95367b549896ea67",
            "23a610c205224431b2405cb506f7cfe2",
            "5ad6615d4cc743cf8efcf37585499f3d",
            "bb2d1c797d1844b382bfd08ea80e9d26",
            "fbe3253199d048ae90155f865436053b",
            "6d729d07c8344242b72043f5bcf860e8",
            "6c3c57398e204747b5d7a32711cee5b1",
            "8adcf7c0e7be402080fe33c98826c711",
            "cba8d6b7f44043508865a32e50e6940a",
            "fd1a9a6a0a30423da8874f2248c84131",
            "1ebb36ee348547b48bdf48356f6ef4a9",
            "be3dd713b2c24a66ac73ebbaa7cf53dd",
            "87256550cddf4b16abb242368fff7f6f",
            "76141e9b3f8e4d3297ea991ba336d347",
            "0c496cac2a8c4dc7bde64f2d3f046b1e",
            "8d68784bb0c242e2ad320a0a9320c7e2",
            "e4c942d0ad5648878c1fc2932d185836",
            "8e8cc4c416c842a9b74068876e8d5cd9",
            "c032fb8c23ce4ed686c95ef463852607",
            "14dfeb5b336b4130be064fe42ea64268",
            "48590a35334845b4ba7c30d2ee101647",
            "f422843191b74a59908a5429395dab22",
            "ac74a0cb84374d4cab1e8c9c87080dcc",
            "03dcb61032554010a3e845d0fcaa157d",
            "17a1db8b0cd9475bb02da5abecd56bb0",
            "a08f6c6756024e09973421134d0a4689",
            "0f2be2bcc9be4ca4b2bba00d371bac40",
            "7e9e89e027b14f1195c3cea853caccb5",
            "fc1c4c0c87f84c67a952daf499b9648a",
            "773a9a8227aa4a4ab8da9e0b3d9a9ca1",
            "7a23df17a75647c6a6d650dc3e2e1d7a",
            "3ac52d81c56a4025b253936103880e82",
            "6309e69539944fb38e712e31ea4bfd63",
            "240c29c37e164883876834028e180d6f",
            "1dbb623674f741ffb1882aefce8104b5",
            "f453c598bf0b49a6b1ad665ccd98a309"
          ]
        },
        "id": "sGZFid4RbR-i",
        "outputId": "5dc6772f-8072-434d-d6bc-e2054e3004e2"
      },
      "execution_count": null,
      "outputs": [
        {
          "output_type": "display_data",
          "data": {
            "text/plain": [
              "Downloading (…)olve/main/vocab.json:   0%|          | 0.00/798k [00:00<?, ?B/s]"
            ],
            "application/vnd.jupyter.widget-view+json": {
              "version_major": 2,
              "version_minor": 0,
              "model_id": "5f2408eb83bf4caebdec0fa7f8a6a29c"
            }
          },
          "metadata": {}
        },
        {
          "output_type": "display_data",
          "data": {
            "text/plain": [
              "Downloading (…)olve/main/merges.txt:   0%|          | 0.00/456k [00:00<?, ?B/s]"
            ],
            "application/vnd.jupyter.widget-view+json": {
              "version_major": 2,
              "version_minor": 0,
              "model_id": "aa79fb8353d448a9a7609bf0fd96daec"
            }
          },
          "metadata": {}
        },
        {
          "output_type": "display_data",
          "data": {
            "text/plain": [
              "Downloading (…)cial_tokens_map.json:   0%|          | 0.00/239 [00:00<?, ?B/s]"
            ],
            "application/vnd.jupyter.widget-view+json": {
              "version_major": 2,
              "version_minor": 0,
              "model_id": "4393e67ce1b94c538f1051a4aca5c3ae"
            }
          },
          "metadata": {}
        },
        {
          "output_type": "display_data",
          "data": {
            "text/plain": [
              "Downloading (…)okenizer_config.json:   0%|          | 0.00/300 [00:00<?, ?B/s]"
            ],
            "application/vnd.jupyter.widget-view+json": {
              "version_major": 2,
              "version_minor": 0,
              "model_id": "bb2d1c797d1844b382bfd08ea80e9d26"
            }
          },
          "metadata": {}
        },
        {
          "output_type": "display_data",
          "data": {
            "text/plain": [
              "Downloading (…)lve/main/config.json:   0%|          | 0.00/1.63k [00:00<?, ?B/s]"
            ],
            "application/vnd.jupyter.widget-view+json": {
              "version_major": 2,
              "version_minor": 0,
              "model_id": "0c496cac2a8c4dc7bde64f2d3f046b1e"
            }
          },
          "metadata": {}
        },
        {
          "output_type": "display_data",
          "data": {
            "text/plain": [
              "Downloading pytorch_model.bin:   0%|          | 0.00/1.63G [00:00<?, ?B/s]"
            ],
            "application/vnd.jupyter.widget-view+json": {
              "version_major": 2,
              "version_minor": 0,
              "model_id": "a08f6c6756024e09973421134d0a4689"
            }
          },
          "metadata": {}
        }
      ]
    },
    {
      "cell_type": "code",
      "source": [
        "gen_kwargs = {\"length_penalty\": 0.8, \"num_beams\":8, \"max_length\": 128}\n",
        "pipe = pipeline(\"summarization\", model='/content/drive/MyDrive/Project/dl-gp/bart-large-model',tokenizer=tokenizer_large)"
      ],
      "metadata": {
        "id": "zdYeGN0hVZFJ"
      },
      "execution_count": null,
      "outputs": []
    },
    {
      "cell_type": "code",
      "source": [
        "gen_kwargs_baseline = {\"length_penalty\": 0.6, \"num_beams\":8, \"max_length\": 128}\n",
        "pipe_baseline = pipeline(\"summarization\", model=name,tokenizer=tokenizer_large_baseline)"
      ],
      "metadata": {
        "id": "B2LoXoJ5bDak"
      },
      "execution_count": null,
      "outputs": []
    },
    {
      "cell_type": "code",
      "source": [
        "outputs_all_samsum = []\n",
        "outputs_all_gpt = []"
      ],
      "metadata": {
        "id": "evXvITIGfhFH"
      },
      "execution_count": null,
      "outputs": []
    },
    {
      "cell_type": "code",
      "source": [
        "for i in range(len(test_summary_list)):\n",
        "  if i % 50 == 0:\n",
        "    print(str(i))\n",
        "  sample_text = test_dialogue_list[i]\n",
        "  #reference = test_summary_list[i]\n",
        "\n",
        "  out_gpt = pipe(sample_text, **gen_kwargs)[0][\"summary_text\"]\n",
        "  outputs_all_gpt.append(out_gpt)\n",
        "\n",
        "  out_samsum = pipe_baseline(sample_text, **gen_kwargs_baseline)[0][\"summary_text\"]\n",
        "  outputs_all_samsum.append(out_samsum)"
      ],
      "metadata": {
        "id": "vhUUyvw_ft4C"
      },
      "execution_count": null,
      "outputs": []
    },
    {
      "cell_type": "code",
      "source": [
        "# baseline \n",
        "name_no_tune = 'facebook/bart-large-cnn'\n",
        "tokenizer_large_no_tune = BartTokenizer.from_pretrained(name_no_tune)\n",
        "model_large_no_tune = BartForConditionalGeneration.from_pretrained(name_no_tune).to(device)\n"
      ],
      "metadata": {
        "id": "ET0-9xG_g29D"
      },
      "execution_count": null,
      "outputs": []
    },
    {
      "cell_type": "code",
      "source": [
        "gen_kwargs_no_tune = {\"length_penalty\": 0.6, \"num_beams\":8, \"max_length\": 128}\n",
        "pipe_no_tune = pipeline(\"summarization\", model=name_no_tune,tokenizer=tokenizer_large_no_tune)"
      ],
      "metadata": {
        "id": "i_jF4DVAhjgH"
      },
      "execution_count": null,
      "outputs": []
    },
    {
      "cell_type": "code",
      "source": [
        "baselin_out = []"
      ],
      "metadata": {
        "id": "uc_tq-R7hyme"
      },
      "execution_count": null,
      "outputs": []
    },
    {
      "cell_type": "code",
      "source": [
        "len(test_summary_list)"
      ],
      "metadata": {
        "colab": {
          "base_uri": "https://localhost:8080/"
        },
        "id": "zr-vUc_ih2GN",
        "outputId": "9d43ea50-c229-479e-8e82-cc76576a4d34"
      },
      "execution_count": null,
      "outputs": [
        {
          "output_type": "execute_result",
          "data": {
            "text/plain": [
              "819"
            ]
          },
          "metadata": {},
          "execution_count": 224
        }
      ]
    },
    {
      "cell_type": "code",
      "source": [
        "len(test_dialogue_list)"
      ],
      "metadata": {
        "colab": {
          "base_uri": "https://localhost:8080/"
        },
        "id": "iecL43_fh6qD",
        "outputId": "498f64bb-e99a-441a-9aea-d2e107772206"
      },
      "execution_count": null,
      "outputs": [
        {
          "output_type": "execute_result",
          "data": {
            "text/plain": [
              "819"
            ]
          },
          "metadata": {},
          "execution_count": 225
        }
      ]
    },
    {
      "cell_type": "code",
      "source": [
        "for i in range(len(test_summary_list)):\n",
        "  if i % 50 == 0:\n",
        "    print(str(i))\n",
        "  sample_text = test_dialogue_list[i]\n",
        "\n",
        "  out_base = pipe_no_tune(sample_text, **gen_kwargs_no_tune)[0][\"summary_text\"]\n",
        "  baselin_out.append(out_base)\n"
      ],
      "metadata": {
        "id": "s-K2Uy89hz9Z"
      },
      "execution_count": null,
      "outputs": []
    },
    {
      "cell_type": "code",
      "source": [
        "len(test_summary_list)"
      ],
      "metadata": {
        "colab": {
          "base_uri": "https://localhost:8080/"
        },
        "id": "Fl-qbTSPj1R8",
        "outputId": "6ed0021c-545f-48f4-98d3-b29223c33003"
      },
      "execution_count": null,
      "outputs": [
        {
          "output_type": "execute_result",
          "data": {
            "text/plain": [
              "819"
            ]
          },
          "metadata": {},
          "execution_count": 230
        }
      ]
    },
    {
      "cell_type": "code",
      "source": [
        "with open(r'/content/outputs_baseline.txt', 'w') as fp:\n",
        "    for item in baselin_out:\n",
        "        # write each item on a new line\n",
        "        fp.write(\"%s\\n\" % item)\n",
        "    print('Done')"
      ],
      "metadata": {
        "colab": {
          "base_uri": "https://localhost:8080/"
        },
        "id": "UpVSfyU9zZJN",
        "outputId": "4dd72864-0b17-45a3-9abd-078130f0e995"
      },
      "execution_count": null,
      "outputs": [
        {
          "output_type": "stream",
          "name": "stdout",
          "text": [
            "Done\n"
          ]
        }
      ]
    },
    {
      "cell_type": "code",
      "source": [
        "predictions_base = baselin_out\n",
        "references = test_summary_list\n",
        "results_gpt = bertscore.compute(predictions=predictions_base, references=references, lang=\"en\")\n",
        "pd.DataFrame(results_gpt).describe()"
      ],
      "metadata": {
        "colab": {
          "base_uri": "https://localhost:8080/",
          "height": 300
        },
        "id": "1ZllaYVwjYoD",
        "outputId": "47862107-758b-459c-8d39-3eac8a9c67be"
      },
      "execution_count": null,
      "outputs": [
        {
          "output_type": "execute_result",
          "data": {
            "text/plain": [
              "        precision      recall          f1\n",
              "count  819.000000  819.000000  819.000000\n",
              "mean     0.848034    0.896337    0.871295\n",
              "std      0.026192    0.021211    0.019706\n",
              "min      0.709627    0.823914    0.800108\n",
              "25%      0.831008    0.882184    0.858547\n",
              "50%      0.847193    0.896325    0.870559\n",
              "75%      0.864721    0.910897    0.883709\n",
              "max      0.925989    0.957649    0.941553"
            ],
            "text/html": [
              "\n",
              "  <div id=\"df-61752bae-65d3-433c-838b-db14ed50cef8\">\n",
              "    <div class=\"colab-df-container\">\n",
              "      <div>\n",
              "<style scoped>\n",
              "    .dataframe tbody tr th:only-of-type {\n",
              "        vertical-align: middle;\n",
              "    }\n",
              "\n",
              "    .dataframe tbody tr th {\n",
              "        vertical-align: top;\n",
              "    }\n",
              "\n",
              "    .dataframe thead th {\n",
              "        text-align: right;\n",
              "    }\n",
              "</style>\n",
              "<table border=\"1\" class=\"dataframe\">\n",
              "  <thead>\n",
              "    <tr style=\"text-align: right;\">\n",
              "      <th></th>\n",
              "      <th>precision</th>\n",
              "      <th>recall</th>\n",
              "      <th>f1</th>\n",
              "    </tr>\n",
              "  </thead>\n",
              "  <tbody>\n",
              "    <tr>\n",
              "      <th>count</th>\n",
              "      <td>819.000000</td>\n",
              "      <td>819.000000</td>\n",
              "      <td>819.000000</td>\n",
              "    </tr>\n",
              "    <tr>\n",
              "      <th>mean</th>\n",
              "      <td>0.848034</td>\n",
              "      <td>0.896337</td>\n",
              "      <td>0.871295</td>\n",
              "    </tr>\n",
              "    <tr>\n",
              "      <th>std</th>\n",
              "      <td>0.026192</td>\n",
              "      <td>0.021211</td>\n",
              "      <td>0.019706</td>\n",
              "    </tr>\n",
              "    <tr>\n",
              "      <th>min</th>\n",
              "      <td>0.709627</td>\n",
              "      <td>0.823914</td>\n",
              "      <td>0.800108</td>\n",
              "    </tr>\n",
              "    <tr>\n",
              "      <th>25%</th>\n",
              "      <td>0.831008</td>\n",
              "      <td>0.882184</td>\n",
              "      <td>0.858547</td>\n",
              "    </tr>\n",
              "    <tr>\n",
              "      <th>50%</th>\n",
              "      <td>0.847193</td>\n",
              "      <td>0.896325</td>\n",
              "      <td>0.870559</td>\n",
              "    </tr>\n",
              "    <tr>\n",
              "      <th>75%</th>\n",
              "      <td>0.864721</td>\n",
              "      <td>0.910897</td>\n",
              "      <td>0.883709</td>\n",
              "    </tr>\n",
              "    <tr>\n",
              "      <th>max</th>\n",
              "      <td>0.925989</td>\n",
              "      <td>0.957649</td>\n",
              "      <td>0.941553</td>\n",
              "    </tr>\n",
              "  </tbody>\n",
              "</table>\n",
              "</div>\n",
              "      <button class=\"colab-df-convert\" onclick=\"convertToInteractive('df-61752bae-65d3-433c-838b-db14ed50cef8')\"\n",
              "              title=\"Convert this dataframe to an interactive table.\"\n",
              "              style=\"display:none;\">\n",
              "        \n",
              "  <svg xmlns=\"http://www.w3.org/2000/svg\" height=\"24px\"viewBox=\"0 0 24 24\"\n",
              "       width=\"24px\">\n",
              "    <path d=\"M0 0h24v24H0V0z\" fill=\"none\"/>\n",
              "    <path d=\"M18.56 5.44l.94 2.06.94-2.06 2.06-.94-2.06-.94-.94-2.06-.94 2.06-2.06.94zm-11 1L8.5 8.5l.94-2.06 2.06-.94-2.06-.94L8.5 2.5l-.94 2.06-2.06.94zm10 10l.94 2.06.94-2.06 2.06-.94-2.06-.94-.94-2.06-.94 2.06-2.06.94z\"/><path d=\"M17.41 7.96l-1.37-1.37c-.4-.4-.92-.59-1.43-.59-.52 0-1.04.2-1.43.59L10.3 9.45l-7.72 7.72c-.78.78-.78 2.05 0 2.83L4 21.41c.39.39.9.59 1.41.59.51 0 1.02-.2 1.41-.59l7.78-7.78 2.81-2.81c.8-.78.8-2.07 0-2.86zM5.41 20L4 18.59l7.72-7.72 1.47 1.35L5.41 20z\"/>\n",
              "  </svg>\n",
              "      </button>\n",
              "      \n",
              "  <style>\n",
              "    .colab-df-container {\n",
              "      display:flex;\n",
              "      flex-wrap:wrap;\n",
              "      gap: 12px;\n",
              "    }\n",
              "\n",
              "    .colab-df-convert {\n",
              "      background-color: #E8F0FE;\n",
              "      border: none;\n",
              "      border-radius: 50%;\n",
              "      cursor: pointer;\n",
              "      display: none;\n",
              "      fill: #1967D2;\n",
              "      height: 32px;\n",
              "      padding: 0 0 0 0;\n",
              "      width: 32px;\n",
              "    }\n",
              "\n",
              "    .colab-df-convert:hover {\n",
              "      background-color: #E2EBFA;\n",
              "      box-shadow: 0px 1px 2px rgba(60, 64, 67, 0.3), 0px 1px 3px 1px rgba(60, 64, 67, 0.15);\n",
              "      fill: #174EA6;\n",
              "    }\n",
              "\n",
              "    [theme=dark] .colab-df-convert {\n",
              "      background-color: #3B4455;\n",
              "      fill: #D2E3FC;\n",
              "    }\n",
              "\n",
              "    [theme=dark] .colab-df-convert:hover {\n",
              "      background-color: #434B5C;\n",
              "      box-shadow: 0px 1px 3px 1px rgba(0, 0, 0, 0.15);\n",
              "      filter: drop-shadow(0px 1px 2px rgba(0, 0, 0, 0.3));\n",
              "      fill: #FFFFFF;\n",
              "    }\n",
              "  </style>\n",
              "\n",
              "      <script>\n",
              "        const buttonEl =\n",
              "          document.querySelector('#df-61752bae-65d3-433c-838b-db14ed50cef8 button.colab-df-convert');\n",
              "        buttonEl.style.display =\n",
              "          google.colab.kernel.accessAllowed ? 'block' : 'none';\n",
              "\n",
              "        async function convertToInteractive(key) {\n",
              "          const element = document.querySelector('#df-61752bae-65d3-433c-838b-db14ed50cef8');\n",
              "          const dataTable =\n",
              "            await google.colab.kernel.invokeFunction('convertToInteractive',\n",
              "                                                     [key], {});\n",
              "          if (!dataTable) return;\n",
              "\n",
              "          const docLinkHtml = 'Like what you see? Visit the ' +\n",
              "            '<a target=\"_blank\" href=https://colab.research.google.com/notebooks/data_table.ipynb>data table notebook</a>'\n",
              "            + ' to learn more about interactive tables.';\n",
              "          element.innerHTML = '';\n",
              "          dataTable['output_type'] = 'display_data';\n",
              "          await google.colab.output.renderOutput(dataTable, element);\n",
              "          const docLink = document.createElement('div');\n",
              "          docLink.innerHTML = docLinkHtml;\n",
              "          element.appendChild(docLink);\n",
              "        }\n",
              "      </script>\n",
              "    </div>\n",
              "  </div>\n",
              "  "
            ]
          },
          "metadata": {},
          "execution_count": 232
        }
      ]
    },
    {
      "cell_type": "code",
      "source": [
        "half_path = '/content/drive/MyDrive/Project/dl-gp/bart-half-3'\n",
        "tokenizer_half = BartTokenizer.from_pretrained(half_path)\n",
        "model_large_half= BartForConditionalGeneration.from_pretrained(half_path).to(device)\n"
      ],
      "metadata": {
        "id": "6LOnfk2tC8ZB"
      },
      "execution_count": null,
      "outputs": []
    },
    {
      "cell_type": "code",
      "source": [
        "gen_kwargs_half = {\"length_penalty\": 0.6, \"num_beams\":8, \"max_length\": 128}\n",
        "pipe_half = pipeline(\"summarization\", model=half_path,tokenizer=tokenizer_half)"
      ],
      "metadata": {
        "id": "g2nb6OClLcyE"
      },
      "execution_count": null,
      "outputs": []
    },
    {
      "cell_type": "code",
      "source": [
        "print(\"Dialogue:\")\n",
        "print(sample_text)\n",
        "\n",
        "print(\"\\nReference Summary:\")\n",
        "print(reference)\n",
        "\n",
        "print(\"\\nModel Summary GPT:\")\n",
        "print(pipe(sample_text, **gen_kwargs)[0][\"summary_text\"])\n",
        "print(\"\\nModel Summary Half:\")\n",
        "print(pipe_half(sample_text, **gen_kwargs_half)[0][\"summary_text\"])\n",
        "print(\"\\nModel Summary Baseline:\")\n",
        "print(pipe_baseline(sample_text, **gen_kwargs_baseline)[0][\"summary_text\"])\n"
      ],
      "metadata": {
        "colab": {
          "base_uri": "https://localhost:8080/"
        },
        "id": "Cp__x50ZLaCv",
        "outputId": "255ea70d-aff8-42d9-eb61-489d26428425"
      },
      "execution_count": null,
      "outputs": [
        {
          "output_type": "stream",
          "name": "stderr",
          "text": [
            "Your max_length is set to 128, but you input_length is only 78. You might consider decreasing max_length manually, e.g. summarizer('...', max_length=39)\n"
          ]
        },
        {
          "output_type": "stream",
          "name": "stdout",
          "text": [
            "Dialogue:\n",
            "Pamela: Have you tried applying for the RGS grant?\n",
            "Zoe: I did last year.\n",
            "Zoe: Wasn't lucky...\n",
            "Xiara: Me neither\n",
            "Pamela: Do you know if I have to be a member?\n",
            "Zoe: It depends on the award\n",
            "Pamela: Ok I'll have a look at their website \n",
            "\n",
            "Reference Summary:\n",
            "Pamela will look at their website to apply for the RGS grant. Zoe and Xiara applied last year but they weren't lucky. Sometimes you have to be a member to apply.\n",
            "\n",
            "Model Summary GPT:\n"
          ]
        },
        {
          "output_type": "stream",
          "name": "stderr",
          "text": [
            "Your max_length is set to 128, but you input_length is only 78. You might consider decreasing max_length manually, e.g. summarizer('...', max_length=39)\n"
          ]
        },
        {
          "output_type": "stream",
          "name": "stdout",
          "text": [
            "Pamela asks Zoe and Xiara if they tried applying for the RGS grant last year, but Zoe didn't get lucky. Pamela asks if she has to be a member, and Zoe says it depends on the award. Pamela decides to check the website.\n",
            "\n",
            "Model Summary Half:\n"
          ]
        },
        {
          "output_type": "stream",
          "name": "stderr",
          "text": [
            "Your max_length is set to 128, but you input_length is only 78. You might consider decreasing max_length manually, e.g. summarizer('...', max_length=39)\n"
          ]
        },
        {
          "output_type": "stream",
          "name": "stdout",
          "text": [
            "Zoe and Xiara haven't tried applying for the RGS grant last year. Pamela wants to know if she has to be a member, but Zoe doesn't know if it depends on the award. Pamela will look at their website for more information. \n",
            "\n",
            "Model Summary Baseline:\n",
            "Zoe and Xiara didn't apply for the RGS grant last year. Pamela will check the website to see if she has to be a member of RGS to be eligible for the grant, but Zoe doesn't know if she needs to be. \n"
          ]
        }
      ]
    },
    {
      "cell_type": "code",
      "source": [
        "outputs_half = []"
      ],
      "metadata": {
        "id": "l8ATF-c4Mz5G"
      },
      "execution_count": null,
      "outputs": []
    },
    {
      "cell_type": "code",
      "source": [
        "for i in range(len(test_summary_list)):\n",
        "  if i % 50 == 0:\n",
        "    print(str(i))\n",
        "  sample_text = test_dialogue_list[i]\n",
        "  #reference = test_summary_list[i]\n",
        "\n",
        "  out_half = pipe_half(sample_text, **gen_kwargs_half)[0][\"summary_text\"]\n",
        "  outputs_half.append(out_half)"
      ],
      "metadata": {
        "id": "SjT_LP3OC68c"
      },
      "execution_count": null,
      "outputs": []
    },
    {
      "cell_type": "code",
      "source": [
        "len(test_dialogue_list)"
      ],
      "metadata": {
        "colab": {
          "base_uri": "https://localhost:8080/"
        },
        "id": "rOVIrPGEM5UN",
        "outputId": "4672ce5c-72f8-46a7-97fa-d6a0ef9bf093"
      },
      "execution_count": null,
      "outputs": [
        {
          "output_type": "execute_result",
          "data": {
            "text/plain": [
              "819"
            ]
          },
          "metadata": {},
          "execution_count": 151
        }
      ]
    },
    {
      "cell_type": "code",
      "source": [
        "len(outputs_all_samsum)"
      ],
      "metadata": {
        "colab": {
          "base_uri": "https://localhost:8080/"
        },
        "id": "b_-f10qrhhLH",
        "outputId": "5356dce0-17ea-4ccb-cabe-adf56d0c008a"
      },
      "execution_count": null,
      "outputs": [
        {
          "output_type": "execute_result",
          "data": {
            "text/plain": [
              "819"
            ]
          },
          "metadata": {},
          "execution_count": 110
        }
      ]
    },
    {
      "cell_type": "code",
      "source": [
        "len(outputs_all_gpt)"
      ],
      "metadata": {
        "colab": {
          "base_uri": "https://localhost:8080/"
        },
        "id": "QJyY0g9iCHK8",
        "outputId": "4fb1d346-70b5-493e-f313-963332cf07d8"
      },
      "execution_count": null,
      "outputs": [
        {
          "output_type": "execute_result",
          "data": {
            "text/plain": [
              "819"
            ]
          },
          "metadata": {},
          "execution_count": 111
        }
      ]
    },
    {
      "cell_type": "code",
      "source": [
        "len(outputs_half)"
      ],
      "metadata": {
        "colab": {
          "base_uri": "https://localhost:8080/"
        },
        "id": "BopNqBJMcgcz",
        "outputId": "ae57b6c4-f486-4c02-c6e4-541528a3edf4"
      },
      "execution_count": null,
      "outputs": [
        {
          "output_type": "execute_result",
          "data": {
            "text/plain": [
              "819"
            ]
          },
          "metadata": {},
          "execution_count": 154
        }
      ]
    },
    {
      "cell_type": "code",
      "source": [
        "with open(r'/content/outputs_half.txt', 'w') as fp:\n",
        "    for item in outputs_half:\n",
        "        # write each item on a new line\n",
        "        fp.write(\"%s\\n\" % item)\n",
        "    print('Done')"
      ],
      "metadata": {
        "colab": {
          "base_uri": "https://localhost:8080/"
        },
        "id": "JkMFLpXwCJt5",
        "outputId": "05d1ca7d-a297-4903-e057-acf0ec0a0ab6"
      },
      "execution_count": null,
      "outputs": [
        {
          "output_type": "stream",
          "name": "stdout",
          "text": [
            "Done\n"
          ]
        }
      ]
    },
    {
      "cell_type": "code",
      "source": [],
      "metadata": {
        "id": "vmQMB82ECnXY"
      },
      "execution_count": null,
      "outputs": []
    },
    {
      "cell_type": "code",
      "source": [
        "check_list = []\n",
        "with open(r'/content/outputs_half.txt', 'r') as fp:\n",
        "    for line in fp:\n",
        "        x = line[:-1]\n",
        "        # add current item to the list\n",
        "        check_list.append(x)"
      ],
      "metadata": {
        "id": "iCRxX_UACKoo"
      },
      "execution_count": null,
      "outputs": []
    },
    {
      "cell_type": "code",
      "source": [
        "check_list[-1]"
      ],
      "metadata": {
        "colab": {
          "base_uri": "https://localhost:8080/",
          "height": 71
        },
        "id": "9hGRE-rMCKsY",
        "outputId": "859494aa-02d3-4a90-9573-4b0e767695f8"
      },
      "execution_count": null,
      "outputs": [
        {
          "output_type": "execute_result",
          "data": {
            "text/plain": [
              "'Rachel shared a list of the Top 50 Best Films of 2018 with Janice, who has watched almost all of them. They joked about Deadpool 2 and Avengers, and Janice revealed that her boyfriend forced her to watch it. Rachel complimented Janice on being the best girlfriend in the world.'"
            ],
            "application/vnd.google.colaboratory.intrinsic+json": {
              "type": "string"
            }
          },
          "metadata": {},
          "execution_count": 157
        }
      ]
    },
    {
      "cell_type": "code",
      "source": [
        "outputs_all_samsum[-1]"
      ],
      "metadata": {
        "colab": {
          "base_uri": "https://localhost:8080/",
          "height": 53
        },
        "id": "wlSIdNEkCKvp",
        "outputId": "4095eb5e-f064-43d3-e04e-c2be930668f1"
      },
      "execution_count": null,
      "outputs": [
        {
          "output_type": "execute_result",
          "data": {
            "text/plain": [
              "\"Rachel has sent Janice a list of the Top 50 Best Films of 2018. Janice has watched almost all of them. She has watched Deadpool 2 twice and Avengers twice. Her boyfriend forced her to watch Deadpool 2, but it wasn't that bad. \""
            ],
            "application/vnd.google.colaboratory.intrinsic+json": {
              "type": "string"
            }
          },
          "metadata": {},
          "execution_count": 158
        }
      ]
    },
    {
      "cell_type": "code",
      "source": [
        "len(check_list)"
      ],
      "metadata": {
        "colab": {
          "base_uri": "https://localhost:8080/"
        },
        "id": "fNQiWdWtDcZo",
        "outputId": "5867c305-024b-47a7-b5d2-dc8d30e7c307"
      },
      "execution_count": null,
      "outputs": [
        {
          "output_type": "execute_result",
          "data": {
            "text/plain": [
              "819"
            ]
          },
          "metadata": {},
          "execution_count": 159
        }
      ]
    },
    {
      "cell_type": "markdown",
      "source": [
        "# BertScore"
      ],
      "metadata": {
        "id": "ADiw2qMEDd8n"
      }
    },
    {
      "cell_type": "code",
      "source": [
        "!pip install evaluate"
      ],
      "metadata": {
        "id": "TmsRNOO7Df18"
      },
      "execution_count": null,
      "outputs": []
    },
    {
      "cell_type": "code",
      "source": [
        "pip install bert_score"
      ],
      "metadata": {
        "colab": {
          "base_uri": "https://localhost:8080/"
        },
        "id": "85jtsIE3Do7x",
        "outputId": "d1f58abe-636d-4960-c27c-ece1f1898629"
      },
      "execution_count": null,
      "outputs": [
        {
          "output_type": "stream",
          "name": "stdout",
          "text": [
            "Installing collected packages: bert_score\n",
            "Successfully installed bert_score-0.3.13\n"
          ]
        }
      ]
    },
    {
      "cell_type": "code",
      "source": [
        "from evaluate import load\n",
        "bertscore = load(\"bertscore\")"
      ],
      "metadata": {
        "id": "hSVwyC4ACJyZ"
      },
      "execution_count": null,
      "outputs": []
    },
    {
      "cell_type": "code",
      "source": [
        "test_summary_list[-1]"
      ],
      "metadata": {
        "colab": {
          "base_uri": "https://localhost:8080/",
          "height": 35
        },
        "id": "GwF5u8bYEfwr",
        "outputId": "42acc8f9-49bd-425d-c98c-2497d6bd34cc"
      },
      "execution_count": null,
      "outputs": [
        {
          "output_type": "execute_result",
          "data": {
            "text/plain": [
              "'Rachel sends a list of Top 50 films of 2018. Janice watched almost half of them, Deadpool 2 and Avengers included.'"
            ],
            "application/vnd.google.colaboratory.intrinsic+json": {
              "type": "string"
            }
          },
          "metadata": {},
          "execution_count": 126
        }
      ]
    },
    {
      "cell_type": "code",
      "source": [
        "outputs_all_gpt[-1]"
      ],
      "metadata": {
        "colab": {
          "base_uri": "https://localhost:8080/",
          "height": 53
        },
        "id": "-rwhhLShEkK3",
        "outputId": "db88bce3-b798-41bc-8e0f-2669fece70ff"
      },
      "execution_count": null,
      "outputs": [
        {
          "output_type": "execute_result",
          "data": {
            "text/plain": [
              "\"Rachel sent Janice a list of the Top 50 Best Films of 2018. Janice has watched almost all of them, including Deadpool 2 and Avengers 2. Her boyfriend forced her to watch Deadpool 2, but it wasn't as bad as she thought it would be.\""
            ],
            "application/vnd.google.colaboratory.intrinsic+json": {
              "type": "string"
            }
          },
          "metadata": {},
          "execution_count": 127
        }
      ]
    },
    {
      "cell_type": "code",
      "source": [
        "predictions_all_gpt = outputs_all_gpt\n",
        "references = test_summary_list\n",
        "results_all_gpt = bertscore.compute(predictions=predictions_all_gpt, references=references, lang=\"en\")"
      ],
      "metadata": {
        "colab": {
          "base_uri": "https://localhost:8080/",
          "height": 35,
          "referenced_widgets": [
            "6939b1ad071a48cdaffe15b1f3a56b78"
          ]
        },
        "id": "7nd4sVwdCJ2y",
        "outputId": "2aa169e7-0a3f-4829-f9d6-07a54212c432"
      },
      "execution_count": null,
      "outputs": [
        {
          "output_type": "display_data",
          "data": {
            "text/plain": [
              "Downloading pytorch_model.bin:   0%|          | 0.00/1.43G [00:00<?, ?B/s]"
            ],
            "application/vnd.jupyter.widget-view+json": {
              "version_major": 2,
              "version_minor": 0,
              "model_id": "6939b1ad071a48cdaffe15b1f3a56b78"
            }
          },
          "metadata": {}
        }
      ]
    },
    {
      "cell_type": "code",
      "source": [
        "print(results_all_gpt)"
      ],
      "metadata": {
        "colab": {
          "base_uri": "https://localhost:8080/"
        },
        "id": "8Hnxqo2YDSaB",
        "outputId": "070a3203-e4a9-450a-daaa-f185635cf950"
      },
      "execution_count": null,
      "outputs": [
        {
          "output_type": "stream",
          "name": "stdout",
          "text": [
            "{'precision': [0.8803857564926147, 0.8728463053703308, 0.9108774065971375, 0.8402272462844849, 0.8865672945976257, 0.9109383821487427, 0.8941929340362549, 0.8818567395210266, 0.8953697681427002, 0.8998484015464783, 0.8996928930282593, 0.9041759371757507, 0.8869274258613586, 0.8710382580757141, 0.8929308652877808, 0.8884423971176147, 0.8797466158866882, 0.889814019203186, 0.8552783727645874, 0.8889757394790649, 0.9000822901725769, 0.8898827433586121, 0.9217490553855896, 0.8870884776115417, 0.9299376606941223, 0.8727092146873474, 0.8373060822486877, 0.8894860744476318, 0.9096322059631348, 0.8975367546081543, 0.8684390783309937, 0.8637007474899292, 0.8565617799758911, 0.8920915126800537, 0.9137641191482544, 0.8438608646392822, 0.8519838452339172, 0.8435507416725159, 0.856401801109314, 0.9280562400817871, 0.8597925901412964, 0.8538830280303955, 0.9225724339485168, 0.8476893901824951, 0.882188081741333, 0.8909103870391846, 0.9268420934677124, 0.8617808818817139, 0.8591969013214111, 0.8692934513092041, 0.881538450717926, 0.8607183694839478, 0.8836197853088379, 0.8692125678062439, 0.8708369135856628, 0.9137598872184753, 0.8544929623603821, 0.8641431331634521, 0.9394500851631165, 0.8706596493721008, 0.8512027859687805, 0.8604074716567993, 0.866902232170105, 0.8935652375221252, 0.8713724613189697, 0.8787671327590942, 0.8568727374076843, 0.91236412525177, 0.9057108163833618, 0.8726158142089844, 0.9028945565223694, 0.8757152557373047, 0.8567719459533691, 0.9074727892875671, 0.8478270769119263, 0.8676481246948242, 0.8683502674102783, 0.9085531234741211, 0.866132915019989, 0.8634378910064697, 0.8774005174636841, 0.8865087032318115, 0.9310163855552673, 0.8888494968414307, 0.8766452670097351, 0.9091639518737793, 0.922081708908081, 0.8589756488800049, 0.8822226524353027, 0.880851149559021, 0.8296681642532349, 0.863185465335846, 0.8788775205612183, 0.8618777990341187, 0.892686128616333, 0.9111461639404297, 0.884131908416748, 0.8648085594177246, 0.8488436341285706, 0.8968160152435303, 0.9038136005401611, 0.8886759877204895, 0.8543218374252319, 0.8831584453582764, 0.8549240827560425, 0.9039342403411865, 0.9076064825057983, 0.8614287376403809, 0.862618088722229, 0.8963299989700317, 0.8879689574241638, 0.860408365726471, 0.8828600645065308, 0.8784906268119812, 0.900733470916748, 0.8768048286437988, 0.9156184792518616, 0.8651565313339233, 0.8811213970184326, 0.9106669425964355, 0.8821431398391724, 0.8494855761528015, 0.8559896945953369, 0.8604567646980286, 0.855654239654541, 0.8775172233581543, 0.8575739860534668, 0.8834423422813416, 0.8817475438117981, 0.8808059692382812, 0.8735101222991943, 0.9081575870513916, 0.8426378965377808, 0.8863755464553833, 0.9062629342079163, 0.8708780407905579, 0.893585205078125, 0.8604508638381958, 0.8955700397491455, 0.9358161687850952, 0.8436347842216492, 0.8819899559020996, 0.843824028968811, 0.9011367559432983, 0.8907617330551147, 0.8676533699035645, 0.938518762588501, 0.9177471399307251, 0.8767309188842773, 0.909895122051239, 0.8517941236495972, 0.8983709812164307, 0.8728817701339722, 0.8676149249076843, 0.902269721031189, 0.8748031854629517, 0.8780651092529297, 0.902633547782898, 0.8717625141143799, 0.8480470180511475, 0.8356000781059265, 0.8674263954162598, 0.879867434501648, 0.848272442817688, 0.883317232131958, 0.8990933299064636, 0.8897060751914978, 0.8745831251144409, 0.8980609178543091, 0.8494317531585693, 0.9164919257164001, 0.9251945614814758, 0.8544263243675232, 0.9176273345947266, 0.8772978782653809, 0.8571117520332336, 0.8458276987075806, 0.8254438042640686, 0.8416979908943176, 0.898212194442749, 0.9068421125411987, 0.8966519236564636, 0.8450234532356262, 0.8889970183372498, 0.8726783990859985, 0.8492864370346069, 0.8746209144592285, 0.8806630969047546, 0.9000518918037415, 0.866112232208252, 0.8903396129608154, 0.8702927827835083, 0.8866000771522522, 0.8879057168960571, 0.8649224042892456, 0.8509297370910645, 0.8857381343841553, 0.8545629382133484, 0.8742831945419312, 0.8310303688049316, 0.8734443187713623, 0.8972620368003845, 0.8936667442321777, 0.8842028379440308, 0.911850094795227, 0.8765389323234558, 0.924269437789917, 0.9235885143280029, 0.9026340246200562, 0.8530577421188354, 0.8825270533561707, 0.8487865924835205, 0.8601059913635254, 0.8878819942474365, 0.8690623044967651, 0.8545444011688232, 0.8688054084777832, 0.897830605506897, 0.8733137845993042, 0.8926076889038086, 0.9203734993934631, 0.8818574547767639, 0.8904772996902466, 0.9255988001823425, 0.8910734057426453, 0.89139723777771, 0.8242777585983276, 0.909519612789154, 0.8753900527954102, 0.9015015959739685, 0.8551538586616516, 0.8823773860931396, 0.8794383406639099, 0.862419843673706, 0.8448061347007751, 0.8743067979812622, 0.9034501314163208, 0.902869701385498, 0.8967265486717224, 0.849663496017456, 0.92098069190979, 0.8376038670539856, 0.894125759601593, 0.897092878818512, 0.8609265089035034, 0.8713470697402954, 0.8800053000450134, 0.9059116840362549, 0.8877356052398682, 0.8622320294380188, 0.8963205218315125, 0.8803324103355408, 0.9220080971717834, 0.8923880457878113, 0.8892991542816162, 0.8766058087348938, 0.9159448146820068, 0.8735761642456055, 0.8479122519493103, 0.8939343094825745, 0.9089111089706421, 0.8481312990188599, 0.9130004644393921, 0.910042405128479, 0.8847664594650269, 0.8815047144889832, 0.8926218748092651, 0.8961666822433472, 0.8928149342536926, 0.8760882019996643, 0.904478907585144, 0.8796820640563965, 0.8721816539764404, 0.8773331046104431, 0.9173209071159363, 0.8524609208106995, 0.8610543012619019, 0.9292336106300354, 0.8599271774291992, 0.9135797619819641, 0.8945953845977783, 0.8835717439651489, 0.9243530631065369, 0.8696306943893433, 0.8898595571517944, 0.8794330358505249, 0.8942884206771851, 0.8869964480400085, 0.8390856981277466, 0.894045352935791, 0.8507713079452515, 0.904384195804596, 0.8929410576820374, 0.875133752822876, 0.8803430199623108, 0.8538943529129028, 0.9088689684867859, 0.8871622085571289, 0.8670674562454224, 0.8716157674789429, 0.8390388488769531, 0.8774492740631104, 0.917190670967102, 0.8852062225341797, 0.9122036695480347, 0.8762857913970947, 0.8938117027282715, 0.8573793172836304, 0.9002072811126709, 0.9126297235488892, 0.8846125602722168, 0.8511554002761841, 0.8634164929389954, 0.8817722797393799, 0.8932986855506897, 0.8966827988624573, 0.893174409866333, 0.8670388460159302, 0.8543506860733032, 0.8311349749565125, 0.9148625731468201, 0.8867820501327515, 0.8748912215232849, 0.8535010814666748, 0.864926278591156, 0.860245406627655, 0.8590180277824402, 0.8789424300193787, 0.846103310585022, 0.9032331109046936, 0.9250248074531555, 0.8442906141281128, 0.8429847359657288, 0.8536068797111511, 0.8975940942764282, 0.8530386686325073, 0.901633620262146, 0.9063195586204529, 0.8694927096366882, 0.9251251220703125, 0.8604696393013, 0.8626623153686523, 0.8806594610214233, 0.874778687953949, 0.9122869968414307, 0.8591215014457703, 0.8632441163063049, 0.8472273349761963, 0.8893449902534485, 0.8545628786087036, 0.8455145359039307, 0.8758676648139954, 0.8990359902381897, 0.9001250267028809, 0.8775491118431091, 0.8711923360824585, 0.8454740047454834, 0.8856974840164185, 0.8899251818656921, 0.8883358240127563, 0.8908036947250366, 0.8715239763259888, 0.8577172756195068, 0.8771562576293945, 0.8552830219268799, 0.8855326175689697, 0.8619427680969238, 0.856487512588501, 0.9129434823989868, 0.823975682258606, 0.9095171093940735, 0.8664529323577881, 0.9031749963760376, 0.8675394058227539, 0.8787649869918823, 0.8898192048072815, 0.925010085105896, 0.882519006729126, 0.9151872396469116, 0.8581286668777466, 0.8783905506134033, 0.8407761454582214, 0.9072332382202148, 0.9053938984870911, 0.8742583394050598, 0.8567241430282593, 0.9018297791481018, 0.8805500268936157, 0.9108521938323975, 0.9119051098823547, 0.8887461423873901, 0.8883479833602905, 0.887503445148468, 0.8378356695175171, 0.923009991645813, 0.8821896314620972, 0.8739297986030579, 0.9469457864761353, 0.9059387445449829, 0.8809680938720703, 0.8738994002342224, 0.8711068034172058, 0.8639006614685059, 0.8583055138587952, 0.9388228058815002, 0.8977395296096802, 0.8856231570243835, 0.8763038516044617, 0.8335709571838379, 0.8635013699531555, 0.878752589225769, 0.8878898024559021, 0.8535215854644775, 0.8933789134025574, 0.873172402381897, 0.9226462841033936, 0.8993257880210876, 0.8529855012893677, 0.882675290107727, 0.8537604808807373, 0.8767298460006714, 0.8561423420906067, 0.894567608833313, 0.8956465721130371, 0.8760955333709717, 0.8845363855361938, 0.9122942686080933, 0.8473577499389648, 0.8661508560180664, 0.9219135046005249, 0.8871020078659058, 0.9007549285888672, 0.8829295635223389, 0.8965350389480591, 0.9062151312828064, 0.813927173614502, 0.8685804605484009, 0.8708399534225464, 0.8691442608833313, 0.9087579250335693, 0.8486620783805847, 0.8776198625564575, 0.9033300280570984, 0.8740675449371338, 0.8524328470230103, 0.8989912867546082, 0.890424370765686, 0.9000107049942017, 0.9105688333511353, 0.8738541007041931, 0.9255560636520386, 0.8548446893692017, 0.8585507869720459, 0.8569869995117188, 0.8713839054107666, 0.8532075881958008, 0.8923070430755615, 0.8943201899528503, 0.8897498250007629, 0.8829415440559387, 0.8811856508255005, 0.9173862934112549, 0.8796112537384033, 0.8935673236846924, 0.9111288189888, 0.8864978551864624, 0.8529372215270996, 0.8445759415626526, 0.9191581606864929, 0.9384557008743286, 0.8935865163803101, 0.8684276938438416, 0.8706628084182739, 0.8977004885673523, 0.8936329483985901, 0.8759826421737671, 0.8964532017707825, 0.8867976665496826, 0.9169427752494812, 0.8857707977294922, 0.8934648036956787, 0.9293200969696045, 0.8760448098182678, 0.8629705905914307, 0.8662483096122742, 0.9282925128936768, 0.8722975850105286, 0.8437868356704712, 0.8743113875389099, 0.8677155375480652, 0.8443853259086609, 0.8871858716011047, 0.8853231072425842, 0.901453971862793, 0.8831444978713989, 0.908265233039856, 0.8322381377220154, 0.8474264144897461, 0.8618851900100708, 0.8738515377044678, 0.8985387682914734, 0.9195113182067871, 0.918188750743866, 0.895167887210846, 0.8479456901550293, 0.8389753103256226, 0.91340172290802, 0.8377432823181152, 0.8650481700897217, 0.9121033549308777, 0.839008629322052, 0.8534286618232727, 0.8794542551040649, 0.8625608086585999, 0.8644877672195435, 0.902392566204071, 0.8691775798797607, 0.844321608543396, 0.9039919376373291, 0.8945484757423401, 0.8284215927124023, 0.843061625957489, 0.8853800296783447, 0.9073106050491333, 0.8650380373001099, 0.8717937469482422, 0.8339227437973022, 0.8605141639709473, 0.8827176094055176, 0.8986676335334778, 0.9212902188301086, 0.9146552085876465, 0.8660080432891846, 0.8778716325759888, 0.8956924080848694, 0.8165349364280701, 0.9182803630828857, 0.885154128074646, 0.8476044535636902, 0.9066306352615356, 0.869219183921814, 0.8820978403091431, 0.9204381108283997, 0.8943823575973511, 0.8487603068351746, 0.9022892713546753, 0.8406742215156555, 0.8373587727546692, 0.8605715036392212, 0.8564444184303284, 0.8626461029052734, 0.8523505330085754, 0.9381157755851746, 0.8716684579849243, 0.9003347158432007, 0.8845080733299255, 0.8454440832138062, 0.8434032201766968, 0.8962525129318237, 0.8485040664672852, 0.8918824195861816, 0.8377478122711182, 0.905335545539856, 0.9183069467544556, 0.8632088899612427, 0.862450897693634, 0.8281756043434143, 0.9126697778701782, 0.8553377985954285, 0.8700164556503296, 0.8704406023025513, 0.867285966873169, 0.8964422941207886, 0.9180642366409302, 0.883135974407196, 0.8721495270729065, 0.896848201751709, 0.8574123382568359, 0.9046568870544434, 0.8683557510375977, 0.8889503479003906, 0.8624372482299805, 0.9114426970481873, 0.9345014691352844, 0.8509490489959717, 0.8972687721252441, 0.9246405959129333, 0.8930671215057373, 0.89310622215271, 0.8974711894989014, 0.9218516945838928, 0.89650958776474, 0.8734890818595886, 0.9045926332473755, 0.8863798379898071, 0.8621467351913452, 0.9211305379867554, 0.8868247270584106, 0.8488627672195435, 0.8347651958465576, 0.936650276184082, 0.8878966569900513, 0.8990081548690796, 0.8508795499801636, 0.8753312230110168, 0.8926649689674377, 0.8873918652534485, 0.8809944987297058, 0.871998131275177, 0.8708352446556091, 0.8885115385055542, 0.8899892568588257, 0.8892350196838379, 0.8865921497344971, 0.8758000135421753, 0.8945037126541138, 0.8790436387062073, 0.9042342901229858, 0.8596487045288086, 0.893731951713562, 0.8257134556770325, 0.9246448278427124, 0.9290608167648315, 0.8706738352775574, 0.8698716163635254, 0.8594101071357727, 0.9305214881896973, 0.9126044511795044, 0.8935824036598206, 0.8740041255950928, 0.851861834526062, 0.9010038375854492, 0.8653690814971924, 0.8556602597236633, 0.9140157699584961, 0.9193934798240662, 0.8983787894248962, 0.8447891473770142, 0.8990927338600159, 0.853618860244751, 0.8658789992332458, 0.8589482307434082, 0.8550301194190979, 0.882461667060852, 0.9036604166030884, 0.9075520634651184, 0.8657636642456055, 0.8918524980545044, 0.9084858894348145, 0.8835411071777344, 0.8241226673126221, 0.8790399432182312, 0.9006106853485107, 0.8969215154647827, 0.8631534576416016, 0.8819857835769653, 0.8722890615463257, 0.8825799226760864, 0.9133533835411072, 0.8686051368713379, 0.8768826723098755, 0.8724730014801025, 0.8788084983825684, 0.8448550701141357, 0.9188718199729919, 0.8452767729759216, 0.8938705921173096, 0.8874365091323853, 0.885849118232727, 0.8687611818313599, 0.854609489440918, 0.8789064884185791, 0.877984344959259, 0.8702836036682129, 0.8708100318908691, 0.868054986000061, 0.8885114192962646, 0.8564575910568237, 0.8952208757400513, 0.8808389902114868, 0.9056277871131897, 0.8453284502029419, 0.9034038782119751, 0.8761270046234131, 0.8459600210189819, 0.8786671161651611, 0.8705008029937744, 0.8964744806289673, 0.8723834753036499, 0.8858567476272583, 0.8644004464149475, 0.8991400003433228, 0.8712049126625061, 0.8787894248962402, 0.9279704689979553, 0.8680168986320496, 0.8346267342567444, 0.8814552426338196, 0.8909392952919006, 0.8630931377410889, 0.9028315544128418, 0.9200189113616943, 0.8867302536964417, 0.8596707582473755, 0.8729214072227478, 0.863795280456543, 0.856929361820221, 0.8883763551712036, 0.8775043487548828, 0.8497196435928345, 0.8914759159088135, 0.8541558980941772, 0.9057217836380005, 0.8702961206436157, 0.8735127449035645, 0.874362587928772, 0.8642405867576599, 0.8780698776245117, 0.8801236152648926, 0.8581423759460449, 0.8993527889251709, 0.8750492930412292, 0.845669150352478, 0.88071608543396, 0.9142796993255615, 0.8573622107505798, 0.9007341861724854, 0.8804948925971985, 0.9088281393051147, 0.8681928515434265, 0.8527414798736572, 0.8491201400756836, 0.8628883361816406, 0.8604094386100769, 0.8904898166656494, 0.9328233003616333, 0.8467878103256226, 0.8760513067245483, 0.8896204233169556, 0.8786013126373291, 0.9060046672821045, 0.8936665654182434, 0.887810230255127, 0.8847009539604187, 0.8428218364715576, 0.8068417906761169, 0.8424704074859619, 0.8834735155105591, 0.8581453561782837, 0.8782077431678772, 0.8648232221603394, 0.8420538902282715, 0.8573988080024719, 0.8878615498542786, 0.8912451863288879, 0.8628756403923035, 0.8806155920028687, 0.8453748226165771, 0.930901288986206, 0.8876196146011353, 0.9100710153579712, 0.9050794839859009, 0.887471079826355, 0.8424155712127686, 0.8911442756652832, 0.8819800019264221, 0.8968314528465271, 0.8940043449401855, 0.9122527837753296, 0.9044334292411804, 0.8788201808929443, 0.8623278141021729, 0.8893739581108093, 0.8671544790267944, 0.8268440365791321, 0.8916707038879395, 0.8693860769271851, 0.8885219097137451, 0.8627151250839233, 0.8843283653259277, 0.8475660085678101, 0.8760347366333008, 0.8500301837921143, 0.8677870035171509, 0.8840025067329407, 0.8576438426971436, 0.8533905744552612, 0.9066197872161865, 0.8600738644599915, 0.8853912949562073, 0.8853180408477783, 0.8593876361846924, 0.8804481625556946, 0.8947993516921997, 0.9227047562599182, 0.8790031671524048, 0.9160659313201904, 0.8289462327957153, 0.9026960134506226, 0.8722580075263977, 0.905709981918335, 0.9003068804740906, 0.9091460704803467, 0.8685032725334167, 0.8639211654663086, 0.8614388108253479, 0.8571690320968628, 0.8743151426315308, 0.8350830674171448, 0.8535594940185547, 0.8643943071365356, 0.8744528889656067, 0.879030704498291, 0.8469656109809875, 0.9258272647857666, 0.8468194603919983, 0.8408623933792114, 0.8823037147521973, 0.9141093492507935], 'recall': [0.9305025935173035, 0.9287304878234863, 0.9240535497665405, 0.8853692412376404, 0.8919397592544556, 0.910709023475647, 0.916333019733429, 0.9421840906143188, 0.9253360033035278, 0.9238474369049072, 0.9309245347976685, 0.9289755821228027, 0.9170080423355103, 0.9171062111854553, 0.9088418483734131, 0.9083724021911621, 0.9578741788864136, 0.9150742292404175, 0.9226776361465454, 0.9262675046920776, 0.9230014085769653, 0.9053016304969788, 0.9583480954170227, 0.9352090358734131, 0.9428008198738098, 0.8973159790039062, 0.8850328922271729, 0.9465231895446777, 0.9152330160140991, 0.9350911378860474, 0.9080608487129211, 0.915729284286499, 0.9435411691665649, 0.9508554935455322, 0.935754656791687, 0.9096909165382385, 0.8992442488670349, 0.9006839394569397, 0.9216437339782715, 0.95325767993927, 0.8857160806655884, 0.904292106628418, 0.9299242496490479, 0.925360381603241, 0.9269152879714966, 0.9314733743667603, 0.9421530365943909, 0.9264466762542725, 0.9278985261917114, 0.9236986041069031, 0.9027342796325684, 0.9127309322357178, 0.9434502720832825, 0.9080663919448853, 0.9073878526687622, 0.9521547555923462, 0.8986982107162476, 0.9263673424720764, 0.9252503514289856, 0.9103468060493469, 0.9356235861778259, 0.8788158893585205, 0.9297751784324646, 0.9015920162200928, 0.8886768817901611, 0.927477240562439, 0.9332632422447205, 0.9068871736526489, 0.9098818898200989, 0.9015708565711975, 0.9659309387207031, 0.9674111604690552, 0.9022006988525391, 0.9356003999710083, 0.9154688119888306, 0.9476195573806763, 0.9199389219284058, 0.9307539463043213, 0.9185718297958374, 0.9231895804405212, 0.9463394284248352, 0.9642026424407959, 0.9666928052902222, 0.9110989570617676, 0.9168641567230225, 0.9007234573364258, 0.9292244911193848, 0.9093837141990662, 0.9039265513420105, 0.9362165927886963, 0.912043571472168, 0.9192652106285095, 0.9020731449127197, 0.9226595759391785, 0.9247617721557617, 0.9274119138717651, 0.9382293224334717, 0.9039660692214966, 0.9062745571136475, 0.9125412702560425, 0.934022843837738, 0.9494208097457886, 0.9058341979980469, 0.9288895726203918, 0.9364461898803711, 0.9316242933273315, 0.925420880317688, 0.903974175453186, 0.8865344524383545, 0.9262685775756836, 0.931818962097168, 0.917962372303009, 0.9198489785194397, 0.9086259603500366, 0.9241504669189453, 0.9218093156814575, 0.9384512305259705, 0.9427502751350403, 0.928126871585846, 0.9329817295074463, 0.9366957545280457, 0.8972249031066895, 0.905739963054657, 0.9039098024368286, 0.9405685663223267, 0.9369608759880066, 0.9289131164550781, 0.9421851634979248, 0.900946855545044, 0.932058572769165, 0.9240258932113647, 0.9177082777023315, 0.911316454410553, 0.9346532225608826, 0.9385532736778259, 0.9013943672180176, 0.9096303582191467, 0.9072051644325256, 0.9512907266616821, 0.9726175665855408, 0.9584254026412964, 0.898992121219635, 0.8860865831375122, 0.9257170557975769, 0.952357292175293, 0.9227679967880249, 0.9587604403495789, 0.9384032487869263, 0.9400229454040527, 0.9287468791007996, 0.946685791015625, 0.9499166011810303, 0.8974992632865906, 0.9351681470870972, 0.9191514253616333, 0.8740478754043579, 0.9436613321304321, 0.892141580581665, 0.9565248489379883, 0.9132939577102661, 0.9300581216812134, 0.9523847103118896, 0.9178932309150696, 0.883766770362854, 0.9077686071395874, 0.9263847470283508, 0.9053562879562378, 0.912168025970459, 0.9251439571380615, 0.8696423172950745, 0.9632449746131897, 0.9227861166000366, 0.9307043552398682, 0.9148687720298767, 0.9165744781494141, 0.8939189910888672, 0.9351097345352173, 0.8682974576950073, 0.8990947604179382, 0.9220840930938721, 0.9500731229782104, 0.915999710559845, 0.8764054179191589, 0.9325100183486938, 0.940420925617218, 0.8948367238044739, 0.9369944930076599, 0.9024690985679626, 0.9316916465759277, 0.9556625485420227, 0.9065417051315308, 0.9067174196243286, 0.9447997808456421, 0.9004619717597961, 0.8958816528320312, 0.8619726896286011, 0.9005347490310669, 0.8948962688446045, 0.9445325136184692, 0.9246378540992737, 0.9088866710662842, 0.9365983009338379, 0.9238951802253723, 0.9409776926040649, 0.9114468693733215, 0.9100034236907959, 0.9500852823257446, 0.9241101145744324, 0.9164419770240784, 0.8929623365402222, 0.9103748798370361, 0.9121419191360474, 0.9124822616577148, 0.9301295280456543, 0.9399522542953491, 0.8845402002334595, 0.8909696340560913, 0.9213032126426697, 0.9125693440437317, 0.9532241821289062, 0.9493549466133118, 0.9419116973876953, 0.9070093631744385, 0.9597643613815308, 0.9438344836235046, 0.9224035143852234, 0.8814966678619385, 0.9374276399612427, 0.9338763952255249, 0.9167630672454834, 0.9410403966903687, 0.9313441514968872, 0.9030857086181641, 0.9328546524047852, 0.9119147062301636, 0.9319323301315308, 0.9207146167755127, 0.9478082060813904, 0.9215235710144043, 0.9233729839324951, 0.9599798321723938, 0.8975160121917725, 0.9502942562103271, 0.9083428382873535, 0.948373019695282, 0.9273483753204346, 0.9085239171981812, 0.9193103909492493, 0.9639459848403931, 0.9282019734382629, 0.9312425851821899, 0.9482410550117493, 0.9516247510910034, 0.9198657274246216, 0.9258877635002136, 0.9205943942070007, 0.9092604517936707, 0.8770876526832581, 0.929718017578125, 0.9345457553863525, 0.9283698797225952, 0.9444050788879395, 0.9262048602104187, 0.941139280796051, 0.9263021945953369, 0.9409717917442322, 0.9199933409690857, 0.9295851588249207, 0.9357308149337769, 0.9097108840942383, 0.9296373128890991, 0.9294419288635254, 0.9370617866516113, 0.9244005680084229, 0.9364362955093384, 0.9060009717941284, 0.912645697593689, 0.9271683096885681, 0.9133772253990173, 0.9279268980026245, 0.9127769470214844, 0.9392756223678589, 0.932529866695404, 0.9133228063583374, 0.9147218465805054, 0.9096177816390991, 0.9195244908332825, 0.8807907104492188, 0.8892955183982849, 0.926409125328064, 0.9164987802505493, 0.9099153280258179, 0.8972285389900208, 0.9165397882461548, 0.927442729473114, 0.9324377775192261, 0.918590784072876, 0.9312000870704651, 0.9241824150085449, 0.900448203086853, 0.9316612482070923, 0.9065320491790771, 0.8912389278411865, 0.9226036071777344, 0.9454241991043091, 0.9382419586181641, 0.9316803216934204, 0.9115006923675537, 0.9298661947250366, 0.9383537769317627, 0.923495352268219, 0.9075934290885925, 0.9319827556610107, 0.9100363254547119, 0.9564698338508606, 0.9181702733039856, 0.9252593517303467, 0.9367082118988037, 0.9173422455787659, 0.8786946535110474, 0.940293550491333, 0.9238579273223877, 0.9126728773117065, 0.896515429019928, 0.9054386615753174, 0.8959003686904907, 0.927249550819397, 0.9543013572692871, 0.9092551469802856, 0.928479790687561, 0.9306202530860901, 0.8840846419334412, 0.9053038954734802, 0.8954356908798218, 0.9299891591072083, 0.8980059623718262, 0.9314578175544739, 0.930351197719574, 0.9331279993057251, 0.9596661329269409, 0.8857694268226624, 0.9266358613967896, 0.8986133337020874, 0.9041674137115479, 0.9147272109985352, 0.8940531015396118, 0.8871104717254639, 0.9439196586608887, 0.9258331060409546, 0.9071069955825806, 0.8790053725242615, 0.9520283937454224, 0.9320099353790283, 0.918764591217041, 0.9053390622138977, 0.9077361822128296, 0.939805269241333, 0.8966228365898132, 0.9328782558441162, 0.8931869864463806, 0.95966637134552, 0.9090141654014587, 0.9124292135238647, 0.9219659566879272, 0.9292365312576294, 0.9348388910293579, 0.9297446608543396, 0.9048619866371155, 0.9257897138595581, 0.9244207143783569, 0.915008008480072, 0.8899825811386108, 0.9142026305198669, 0.9390137195587158, 0.8899962306022644, 0.9453797340393066, 0.9486682415008545, 0.9365586638450623, 0.9405840039253235, 0.9107590913772583, 0.9120555520057678, 0.914409875869751, 0.9238524436950684, 0.9303603768348694, 0.9320964813232422, 0.9289158582687378, 0.9510395526885986, 0.9039203524589539, 0.9309959411621094, 0.8923406004905701, 0.9285074472427368, 0.9491676688194275, 0.9189364314079285, 0.9070292711257935, 0.9476554989814758, 0.8976873159408569, 0.918783962726593, 0.9338387846946716, 0.9327142238616943, 0.8930072784423828, 0.9114057421684265, 0.9230306148529053, 0.922954261302948, 0.9393806457519531, 0.9509136080741882, 0.915579080581665, 0.9188292622566223, 0.9187217354774475, 0.9275596737861633, 0.8902850151062012, 0.9639962315559387, 0.9092860221862793, 0.9343391060829163, 0.9149118661880493, 0.935479462146759, 0.9301384687423706, 0.926916241645813, 0.9040106534957886, 0.929669976234436, 0.8785979747772217, 0.9065164923667908, 0.8965374231338501, 0.9284511208534241, 0.9378678798675537, 0.9244441986083984, 0.9159879684448242, 0.9374481439590454, 0.919385552406311, 0.9188469052314758, 0.9208875298500061, 0.8874821066856384, 0.9164338707923889, 0.9041255712509155, 0.9193549752235413, 0.9429616332054138, 0.8643096685409546, 0.9225749373435974, 0.9316733479499817, 0.9073841571807861, 0.9165992736816406, 0.9137825965881348, 0.9503716230392456, 0.9522899389266968, 0.9047999382019043, 0.9069351553916931, 0.9026209115982056, 0.9109885692596436, 0.9170780181884766, 0.9315971732139587, 0.9375320672988892, 0.940947949886322, 0.9185659885406494, 0.9122389554977417, 0.9079963564872742, 0.9151824712753296, 0.9111312031745911, 0.9109178781509399, 0.9419487714767456, 0.9064542055130005, 0.8894937038421631, 0.9533135890960693, 0.9550873637199402, 0.9319896697998047, 0.9129018783569336, 0.9392092227935791, 0.9380338788032532, 0.9103662967681885, 0.882969856262207, 0.9356105327606201, 0.9659162759780884, 0.935860276222229, 0.9398596286773682, 0.9040298461914062, 0.925618588924408, 0.9456142783164978, 0.916189968585968, 0.9182909727096558, 0.9216712117195129, 0.9303817749023438, 0.9239370822906494, 0.8829387426376343, 0.940599799156189, 0.9220697283744812, 0.8957734107971191, 0.9044004082679749, 0.9617284536361694, 0.9012130498886108, 0.8800179362297058, 0.9213655591011047, 0.9241969585418701, 0.9020204544067383, 0.8860254287719727, 0.9203922748565674, 0.9258211851119995, 0.9166024923324585, 0.8925939798355103, 0.9421320557594299, 0.9252995848655701, 0.8732775449752808, 0.9015470743179321, 0.9332118034362793, 0.9542109370231628, 0.9243040084838867, 0.9392570853233337, 0.9049585461616516, 0.9602383971214294, 0.9347739219665527, 0.8869571685791016, 0.9176721572875977, 0.9239869117736816, 0.9183764457702637, 0.9286980628967285, 0.9237870573997498, 0.9190375208854675, 0.9436963200569153, 0.9231293797492981, 0.9301732182502747, 0.9204402565956116, 0.9472764134407043, 0.9043939113616943, 0.9035636782646179, 0.8923811912536621, 0.9061734676361084, 0.9498341679573059, 0.9243098497390747, 0.9184809923171997, 0.8617919683456421, 0.9482138156890869, 0.9125155210494995, 0.9239853620529175, 0.9211532473564148, 0.8638522624969482, 0.9083858728408813, 0.9615997672080994, 0.9186912775039673, 0.9303321838378906, 0.9746872186660767, 0.9309701919555664, 0.8840370178222656, 0.9347432851791382, 0.8914910554885864, 0.9283666610717773, 0.9299534559249878, 0.9323347806930542, 0.9023938775062561, 0.9251407384872437, 0.876036524772644, 0.8953213691711426, 0.91103595495224, 0.8932831883430481, 0.9125416278839111, 0.9293781518936157, 0.9501481652259827, 0.9160183668136597, 0.9132988452911377, 0.8944672346115112, 0.9517437219619751, 0.9026524424552917, 0.9390181303024292, 0.920134425163269, 0.9528953433036804, 0.9027652144432068, 0.9443446397781372, 0.9613490104675293, 0.8771276473999023, 0.9154284000396729, 0.9426323771476746, 0.9294077754020691, 0.9390918612480164, 0.9418060183525085, 0.9188227653503418, 0.8948755264282227, 0.9273632764816284, 0.9441470503807068, 0.9175741672515869, 0.9276465177536011, 0.9415724873542786, 0.8968839049339294, 0.9082704782485962, 0.9215587377548218, 0.9278117418289185, 0.9426536560058594, 0.938280463218689, 0.9392518401145935, 0.894223690032959, 0.9214380979537964, 0.9319483637809753, 0.9087852835655212, 0.8946913480758667, 0.9276735782623291, 0.9304533004760742, 0.9056628346443176, 0.9139960408210754, 0.9119409322738647, 0.9118292331695557, 0.9430331587791443, 0.9498116374015808, 0.9433181881904602, 0.8944841027259827, 0.8867164254188538, 0.9405888319015503, 0.9410306215286255, 0.931139349937439, 0.8940092325210571, 0.9316251277923584, 0.9169925451278687, 0.8895844221115112, 0.9271732568740845, 0.9293026924133301, 0.9335582852363586, 0.9159170389175415, 0.9090833067893982, 0.9067093133926392, 0.9250285029411316, 0.9080540537834167, 0.9257111549377441, 0.9300596117973328, 0.9197587966918945, 0.9102473258972168, 0.9229304790496826, 0.8878016471862793, 0.9315711259841919, 0.9507376551628113, 0.9345738887786865, 0.8902809619903564, 0.9266743659973145, 0.9266401529312134, 0.9430831074714661, 0.8902696371078491, 0.9079993963241577, 0.8997176885604858, 0.9469316005706787, 0.9657053351402283, 0.9258133172988892, 0.9120082855224609, 0.9403928518295288, 0.9041718244552612, 0.8767414689064026, 0.9388316869735718, 0.9204367995262146, 0.9155299663543701, 0.9017826318740845, 0.8657728433609009, 0.9267024993896484, 0.9305070638656616, 0.9120967984199524, 0.8883689045906067, 0.9562180638313293, 0.9142897129058838, 0.9429506659507751, 0.922076940536499, 0.9231314659118652, 0.900251030921936, 0.9285424947738647, 0.8681979775428772, 0.9306174516677856, 0.9368983507156372, 0.9429503679275513, 0.9301643371582031, 0.9243724346160889, 0.9360333681106567, 0.892600417137146, 0.9366644620895386, 0.8861978054046631, 0.9480013251304626, 0.9020839929580688, 0.9313957691192627, 0.94057297706604, 0.9328789114952087, 0.9370819330215454, 0.9335578083992004, 0.9079329967498779, 0.9345712661743164, 0.8958431482315063, 0.9075067043304443, 0.8909025192260742, 0.9034318923950195, 0.9102431535720825, 0.9370351433753967, 0.8724832534790039, 0.913878321647644, 0.9243341684341431, 0.9407337307929993, 0.9152605533599854, 0.9153908491134644, 0.9318929314613342, 0.9255800843238831, 0.9174051284790039, 0.926501989364624, 0.9391606450080872, 0.9522278308868408, 0.919179379940033, 0.9165728092193604, 0.9001524448394775, 0.9663733839988708, 0.9373794794082642, 0.9574381113052368, 0.9120737910270691, 0.9351351261138916, 0.9351208806037903, 0.9333967566490173, 0.9368551969528198, 0.8906151056289673, 0.8946587443351746, 0.9235438704490662, 0.9180769920349121, 0.8838998079299927, 0.9279080033302307, 0.9250847697257996, 0.9320636987686157, 0.9416887164115906, 0.8775830268859863, 0.9441605806350708, 0.9236921072006226, 0.9070371389389038, 0.9585278034210205, 0.9541580677032471, 0.9085428714752197, 0.9319984912872314, 0.9212715029716492, 0.9242453575134277, 0.9051682949066162, 0.8956186771392822, 0.9469038844108582, 0.9435038566589355, 0.9060555100440979, 0.9220004081726074, 0.9376056790351868, 0.9012346863746643, 0.9407690167427063, 0.9092722535133362, 0.945392906665802, 0.8918654918670654, 0.944493293762207, 0.9108147621154785, 0.9422446489334106, 0.924967348575592, 0.9411729574203491, 0.8962512016296387, 0.9436973333358765, 0.9368016719818115, 0.9038742184638977, 0.9350253939628601, 0.907141923904419, 0.9017849564552307, 0.871485710144043, 0.9312475919723511, 0.8751912713050842, 0.9205797910690308, 0.9282726645469666, 0.8884576559066772, 0.9337205290794373, 0.9191969633102417, 0.9165015816688538, 0.9492553472518921, 0.9241066575050354, 0.9349545240402222, 0.8950026035308838, 0.9662939310073853, 0.9096413850784302, 0.9283490777015686, 0.9443709850311279, 0.9414125084877014, 0.9353026151657104, 0.9039209485054016, 0.9057387113571167, 0.9397958517074585, 0.9450771808624268, 0.9456791877746582, 0.9051211476325989, 0.9094549417495728, 0.9287658929824829, 0.9342764616012573, 0.9273339509963989, 0.9165992140769958, 0.923306941986084, 0.9117558002471924, 0.9317765235900879, 0.9274460077285767, 0.8901351690292358, 0.8991439342498779, 0.9216266870498657, 0.935653805732727, 0.9201429486274719, 0.903128981590271, 0.9075965881347656, 0.8977627754211426, 0.9056900143623352, 0.9322101473808289, 0.9133878350257874, 0.9196643233299255, 0.9203755259513855, 0.9246265292167664, 0.9187366962432861, 0.9402356743812561, 0.8917971849441528, 0.9591232538223267, 0.939812958240509, 0.9564400911331177, 0.9290484189987183, 0.948569118976593, 0.9362460970878601, 0.9538053870201111, 0.9076075553894043, 0.9151647090911865, 0.9345549941062927, 0.9028975367546082, 0.8962885737419128, 0.9311773180961609, 0.9578514695167542, 0.9211174249649048, 0.9127942323684692, 0.9206994771957397, 0.9271196126937866, 0.9273173809051514, 0.9527429342269897, 0.924239993095398, 0.9396342635154724, 0.9538540244102478], 'f1': [0.9047507047653198, 0.8999215960502625, 0.9174181818962097, 0.86220782995224, 0.8892454504966736, 0.9108237028121948, 0.9051276445388794, 0.9110227823257446, 0.9101062417030334, 0.9116899371147156, 0.9150422811508179, 0.9164079427719116, 0.9017168879508972, 0.8934788107872009, 0.9008160829544067, 0.8982968926429749, 0.9171496629714966, 0.902267336845398, 0.8877005577087402, 0.9072386026382446, 0.9113978147506714, 0.8975260257720947, 0.9396923184394836, 0.9105133414268494, 0.9363250732421875, 0.8848415017127991, 0.8605082631111145, 0.9171186685562134, 0.9124240279197693, 0.9159291386604309, 0.8878080248832703, 0.8889544010162354, 0.8979501128196716, 0.9205365777015686, 0.9246286749839783, 0.8755402565002441, 0.8749763369560242, 0.8711816072463989, 0.8878257870674133, 0.9404881596565247, 0.8725618124008179, 0.8783649206161499, 0.9262338280677795, 0.8848236203193665, 0.9039987921714783, 0.9107404351234436, 0.9344348311424255, 0.8929445743560791, 0.8922271728515625, 0.8956705927848816, 0.892010509967804, 0.8859619498252869, 0.9125553965568542, 0.8882147669792175, 0.8887367248535156, 0.9325623512268066, 0.8760382533073425, 0.8941740393638611, 0.9322961568832397, 0.89006108045578, 0.8914188742637634, 0.8695142865180969, 0.8972386717796326, 0.897560715675354, 0.879939615726471, 0.9024654030799866, 0.8934380412101746, 0.9096173644065857, 0.9077915549278259, 0.8868570923805237, 0.9333496689796448, 0.9192822575569153, 0.8788996934890747, 0.9213219881057739, 0.8803505301475525, 0.9058722853660583, 0.8934004902839661, 0.9195195436477661, 0.8915820121765137, 0.8923145532608032, 0.9105669260025024, 0.923724889755249, 0.9485192894935608, 0.8998367190361023, 0.8963037729263306, 0.9049240350723267, 0.925639271736145, 0.8834612369537354, 0.8929427266120911, 0.9076904058456421, 0.8689078688621521, 0.8903431296348572, 0.8903242945671082, 0.8912335634231567, 0.908440887928009, 0.9192070960998535, 0.9103776812553406, 0.883953869342804, 0.8766195178031921, 0.904610276222229, 0.9186699390411377, 0.9180446267127991, 0.8793242573738098, 0.9054469466209412, 0.8938301801681519, 0.9175704121589661, 0.9164271354675293, 0.8821887969970703, 0.8744127750396729, 0.9110534191131592, 0.9093655943870544, 0.8882540464401245, 0.9009749889373779, 0.8933042287826538, 0.9122917056083679, 0.8987440466880798, 0.9268942475318909, 0.9022882580757141, 0.9040135741233826, 0.9216892719268799, 0.9086013436317444, 0.8727028369903564, 0.8801623582839966, 0.8816481232643127, 0.8961042761802673, 0.9062652587890625, 0.891819179058075, 0.911868691444397, 0.8912438154220581, 0.9057077169418335, 0.8980581760406494, 0.9129079580307007, 0.8756325244903564, 0.9098744988441467, 0.922125518321991, 0.8858734965324402, 0.9015364050865173, 0.8832097053527832, 0.9225898385047913, 0.9538620710372925, 0.8973740935325623, 0.8904098868370056, 0.864439070224762, 0.9132615327835083, 0.9205302596092224, 0.8943623900413513, 0.9485316276550293, 0.9279602766036987, 0.9072744250297546, 0.9192243814468384, 0.8967366218566895, 0.923425018787384, 0.8850193619728088, 0.9001259207725525, 0.9106323719024658, 0.8744254112243652, 0.9096822738647461, 0.8973569273948669, 0.9121788144111633, 0.8794620037078857, 0.8803024888038635, 0.9079224467277527, 0.8984781503677368, 0.8656558990478516, 0.8953760266304016, 0.9125350713729858, 0.8974629640579224, 0.8929802775382996, 0.9114012718200684, 0.8594182729721069, 0.939287006855011, 0.9239887595176697, 0.8909355998039246, 0.9162459373474121, 0.8965061902999878, 0.8751285672187805, 0.8882308006286621, 0.8463284969329834, 0.8694501519203186, 0.9099916219711304, 0.927954375743866, 0.9062225818634033, 0.8604283928871155, 0.9102337956428528, 0.9052841067314148, 0.8714667558670044, 0.9047339558601379, 0.8914327621459961, 0.9155985713005066, 0.9086865186691284, 0.8983675837516785, 0.8881317973136902, 0.9147751331329346, 0.8941397070884705, 0.880129873752594, 0.8564156293869019, 0.8930751085281372, 0.8742645978927612, 0.9080512523651123, 0.8753387331962585, 0.8908131122589111, 0.9165082573890686, 0.9085296392440796, 0.9117072224617004, 0.9116483926773071, 0.8929577469825745, 0.9369995594024658, 0.9238492250442505, 0.9094855785369873, 0.8725540637969971, 0.8962346315383911, 0.8793245553970337, 0.885520339012146, 0.9085148572921753, 0.9031183123588562, 0.8692836165428162, 0.8797479867935181, 0.9094155430793762, 0.8925101161003113, 0.9219205975532532, 0.934639573097229, 0.910895824432373, 0.8986673355102539, 0.9423720240592957, 0.9166954159736633, 0.9066353440284729, 0.8519275188446045, 0.9232627749443054, 0.9036879539489746, 0.90906822681427, 0.8960437774658203, 0.9061997532844543, 0.8911051154136658, 0.8962555527687073, 0.877078652381897, 0.9022003412246704, 0.9120006561279297, 0.9247933030128479, 0.9089559316635132, 0.8849861025810242, 0.9400759935379028, 0.8665255904197693, 0.9213547706604004, 0.9026828408241272, 0.9025365710258484, 0.8984759449958801, 0.8940373063087463, 0.9125618934631348, 0.9242724776268005, 0.8940016031265259, 0.913447916507721, 0.9130257368087769, 0.9365822672843933, 0.9059185981750488, 0.9072246551513672, 0.8980617523193359, 0.9125903844833374, 0.8753284215927124, 0.8869327902793884, 0.9137890338897705, 0.918537437915802, 0.8936828374862671, 0.9195553064346313, 0.9253296256065369, 0.9050580263137817, 0.9102680087089539, 0.9061009287834167, 0.9125701189041138, 0.9137692451477051, 0.8925830721855164, 0.9168855547904968, 0.9038777351379395, 0.9034584164619446, 0.9002519845962524, 0.926780104637146, 0.8784158229827881, 0.8860996961593628, 0.9281997680664062, 0.8858466148376465, 0.9206973910331726, 0.9035947322845459, 0.9105725288391113, 0.9284234642982483, 0.8909413814544678, 0.9021193981170654, 0.8942707777023315, 0.9067308902740479, 0.8838826417922974, 0.8634613156318665, 0.9099395871162415, 0.8824127912521362, 0.9071413278579712, 0.8950796723365784, 0.8953582644462585, 0.9032793641090393, 0.8914393186569214, 0.9137040376663208, 0.908647894859314, 0.89471435546875, 0.8857974410057068, 0.8829275369644165, 0.891753613948822, 0.904028594493866, 0.9035180807113647, 0.9285168647766113, 0.9062061309814453, 0.9123532772064209, 0.8836120367050171, 0.9147964119911194, 0.9253129959106445, 0.9036359190940857, 0.878468930721283, 0.8963903784751892, 0.8956813812255859, 0.9238055944442749, 0.9072993397712708, 0.9089338183403015, 0.9005280137062073, 0.8847266435623169, 0.854253351688385, 0.9274037480354309, 0.9049403667449951, 0.8933828473091125, 0.8744796514511108, 0.8847188949584961, 0.8777109980583191, 0.8918306827545166, 0.9150729775428772, 0.8765432238578796, 0.9156824350357056, 0.9278140664100647, 0.8637295365333557, 0.8730335831642151, 0.8740211129188538, 0.9135044813156128, 0.8749449253082275, 0.9163030385971069, 0.9181782007217407, 0.9001871943473816, 0.9420791268348694, 0.8729362487792969, 0.8935054540634155, 0.8895458579063416, 0.8892302513122559, 0.913505494594574, 0.8762393593788147, 0.87501460313797, 0.8929636478424072, 0.907222330570221, 0.8800513744354248, 0.8619347214698792, 0.9123613238334656, 0.9152261018753052, 0.9093493223190308, 0.8912274837493896, 0.8890888690948486, 0.8901475071907043, 0.8911266922950745, 0.910895586013794, 0.8907548189163208, 0.9239537715911865, 0.8898743987083435, 0.8842277526855469, 0.8990030884742737, 0.8907274007797241, 0.9095180034637451, 0.8945608139038086, 0.8800105452537537, 0.9193217158317566, 0.8713129758834839, 0.912254273891449, 0.8780601024627686, 0.9086554050445557, 0.9018626809120178, 0.8843449950218201, 0.9167584776878357, 0.9366898536682129, 0.9087361097335815, 0.9277117848396301, 0.8836609125137329, 0.8949065804481506, 0.8760484457015991, 0.9154674410820007, 0.9177073836326599, 0.9022514820098877, 0.8913607001304626, 0.92578125, 0.892082154750824, 0.9208139181137085, 0.9020167589187622, 0.9081918001174927, 0.9177513718605042, 0.9029464721679688, 0.8710604906082153, 0.9351703524589539, 0.8898710012435913, 0.8957957625389099, 0.9403466582298279, 0.9191315174102783, 0.8869468569755554, 0.8922586441040039, 0.8963173031806946, 0.8924516439437866, 0.8970149159431458, 0.944829523563385, 0.9065715074539185, 0.9019206762313843, 0.8970116376876831, 0.8780573010444641, 0.8766887187957764, 0.9194027781486511, 0.8984605669975281, 0.8921037912368774, 0.9040172100067139, 0.9032527208328247, 0.9263772368431091, 0.9129126667976379, 0.8777571320533752, 0.9055632948875427, 0.8660011887550354, 0.891374409198761, 0.8758743405342102, 0.9111944437026978, 0.9162710905075073, 0.8996207118034363, 0.899987518787384, 0.924700140953064, 0.8819034695625305, 0.8917210698127747, 0.9214001893997192, 0.8872920870780945, 0.9085267782211304, 0.8934018611907959, 0.9078015685081482, 0.9242233037948608, 0.8383621573448181, 0.8947638869285583, 0.9002300500869751, 0.887852668762207, 0.9126617908477783, 0.8800191879272461, 0.9125480651855469, 0.9271641373634338, 0.8891682624816895, 0.8788398504257202, 0.900802493095398, 0.9005890488624573, 0.9084641933441162, 0.9209629893302917, 0.9045738577842712, 0.9331886172294617, 0.8855605125427246, 0.8845810294151306, 0.8817545771598816, 0.8927463293075562, 0.8812186121940613, 0.9015164375305176, 0.917516827583313, 0.898024320602417, 0.8862055540084839, 0.9158316254615784, 0.9358572363853455, 0.9050432443618774, 0.9031311273574829, 0.9249560236930847, 0.9115380048751831, 0.8807165622711182, 0.86334627866745, 0.9273113012313843, 0.9519879817962646, 0.91423499584198, 0.902732789516449, 0.8870326280593872, 0.9114457964897156, 0.9188891053199768, 0.8956352472305298, 0.907240629196167, 0.9038982391357422, 0.9236133694648743, 0.9044514894485474, 0.888170599937439, 0.93492591381073, 0.8984682559967041, 0.8790661096572876, 0.8849133253097534, 0.9447147250175476, 0.8865195512771606, 0.8615216612815857, 0.8972219824790955, 0.8950660824775696, 0.8722518086433411, 0.8866052627563477, 0.9025171995162964, 0.9134750962257385, 0.8995625376701355, 0.9003614187240601, 0.8837820291519165, 0.8846525549888611, 0.8675439953804016, 0.8874832987785339, 0.9155470728874207, 0.9365397691726685, 0.9212362170219421, 0.9166826605796814, 0.8755249381065369, 0.8955204486846924, 0.923964262008667, 0.8616480827331543, 0.8905834555625916, 0.9180066585540771, 0.876900315284729, 0.8894739151000977, 0.9010757207870483, 0.8899040222167969, 0.9023571014404297, 0.9126431941986084, 0.8986415863037109, 0.8807392716407776, 0.925128161907196, 0.8994442820549011, 0.8643625378608704, 0.8670205473899841, 0.8956561088562012, 0.9280855059623718, 0.8936922550201416, 0.8945286273956299, 0.8476283550262451, 0.9022378325462341, 0.8973692655563354, 0.9111506342887878, 0.9212217330932617, 0.8885281682014465, 0.8866909146308899, 0.9178301692008972, 0.9070460796356201, 0.8697269558906555, 0.945643424987793, 0.907484233379364, 0.8654374480247498, 0.9204723238945007, 0.880214273929596, 0.9046410322189331, 0.9251713156700134, 0.9129643440246582, 0.8747557401657104, 0.9135721325874329, 0.8579911589622498, 0.8653705716133118, 0.8850850462913513, 0.8744759559631348, 0.8868926167488098, 0.8891993165016174, 0.9440935850143433, 0.8932932615280151, 0.9067704677581787, 0.8894598484039307, 0.8954501748085022, 0.8720225691795349, 0.917137086391449, 0.882868766784668, 0.9213799238204956, 0.869042158126831, 0.9244287610054016, 0.9393351674079895, 0.8701125979423523, 0.8881503343582153, 0.8817050457000732, 0.9209627509117126, 0.8952602744102478, 0.9044889807701111, 0.8939775824546814, 0.8808647394180298, 0.9116407036781311, 0.9309229850769043, 0.9000257253646851, 0.8990423083305359, 0.9186663627624512, 0.8767040371894836, 0.9064601063728333, 0.8941665291786194, 0.9079654216766357, 0.9007630944252014, 0.9246668815612793, 0.9368706345558167, 0.872049868106842, 0.9091928601264954, 0.9282801151275635, 0.9008575677871704, 0.893898069858551, 0.912322461605072, 0.9261325001716614, 0.9010629653930664, 0.8932835459709167, 0.908251941204071, 0.8989244699478149, 0.9007778167724609, 0.9352512955665588, 0.9141994714736938, 0.8710765242576599, 0.8599569201469421, 0.9386154413223267, 0.9136918187141418, 0.9147917032241821, 0.871911346912384, 0.9026013612747192, 0.9046651721000671, 0.8884868025779724, 0.9034941792488098, 0.8997389674186707, 0.901106595993042, 0.9020061492919922, 0.8994350433349609, 0.8978871703147888, 0.9054025411605835, 0.8916354775428772, 0.9098398685455322, 0.9038323163986206, 0.9119304418563843, 0.8842247724533081, 0.9080965518951416, 0.8556327223777771, 0.9280950427055359, 0.9397742748260498, 0.9014928936958313, 0.8799579739570618, 0.8917756676673889, 0.9285767674446106, 0.927593469619751, 0.8919229507446289, 0.8906774520874023, 0.8751360177993774, 0.9233969449996948, 0.9127880930900574, 0.889355480670929, 0.9130109548568726, 0.9297746419906616, 0.9012659788131714, 0.8604687452316284, 0.9185325503349304, 0.8857694864273071, 0.8900125622749329, 0.8798443675041199, 0.8603678941726685, 0.9040411710739136, 0.9168872833251953, 0.9098187685012817, 0.8769207000732422, 0.9229143857955933, 0.9113785028457642, 0.9122796654701233, 0.8703523874282837, 0.9005463123321533, 0.9004307985305786, 0.9124581217765808, 0.8656684160232544, 0.9056492447853088, 0.9034400582313538, 0.9117669463157654, 0.9216821789741516, 0.8956214785575867, 0.9054930210113525, 0.8824219703674316, 0.9068145751953125, 0.8650327324867249, 0.9332093596458435, 0.8727570176124573, 0.9122474789619446, 0.9132324457168579, 0.9087560176849365, 0.9016291499137878, 0.892340898513794, 0.8931839466094971, 0.9053945541381836, 0.8828784227371216, 0.8887796998023987, 0.8793303966522217, 0.8959095478057861, 0.8825316429138184, 0.9156508445739746, 0.8766412138938904, 0.909734308719635, 0.8830677270889282, 0.9216909408569336, 0.8952662944793701, 0.8793070316314697, 0.9044977426528931, 0.8971959352493286, 0.9068190455436707, 0.8986286520957947, 0.9117302298545837, 0.9061911106109619, 0.9090493321418762, 0.8933132290840149, 0.8893426656723022, 0.946782648563385, 0.9013657569885254, 0.8918241858482361, 0.8965031504631042, 0.9125024676322937, 0.897664487361908, 0.9178597331047058, 0.9283607006072998, 0.888668417930603, 0.8768158555030823, 0.8975193500518799, 0.8901093006134033, 0.8702055811882019, 0.907711923122406, 0.9006665945053101, 0.8889889121055603, 0.9158945679664612, 0.8657110333442688, 0.9245418310165405, 0.8961994647979736, 0.8899593353271484, 0.9145128130912781, 0.9069761633872986, 0.893046498298645, 0.905318558216095, 0.8885870575904846, 0.9116291999816895, 0.8898539543151855, 0.8699275255203247, 0.9126114845275879, 0.9286619424819946, 0.8810365796089172, 0.9112432599067688, 0.9081532955169678, 0.9050154089927673, 0.9030250310897827, 0.8801000714302063, 0.8946740627288818, 0.8771376013755798, 0.9004927277565002, 0.9005376100540161, 0.9375102519989014, 0.8841526508331299, 0.9074453115463257, 0.8929234743118286, 0.9099866151809692, 0.9211457967758179, 0.8987413644790649, 0.9108062982559204, 0.8957808613777161, 0.8713070154190063, 0.8379188179969788, 0.8846372365951538, 0.8793128728866577, 0.8882668018341064, 0.9025464653968811, 0.8764811754226685, 0.8855212330818176, 0.8872230052947998, 0.9019542932510376, 0.9193360209465027, 0.8924421072006226, 0.9069718718528748, 0.8694811463356018, 0.9482674598693848, 0.898495614528656, 0.9191191792488098, 0.9243078231811523, 0.9136462807655334, 0.886432409286499, 0.8974871635437012, 0.8937014937400818, 0.9178111553192139, 0.9188315868377686, 0.9286653399467468, 0.9047771692276001, 0.8938751816749573, 0.8943145871162415, 0.9112724661827087, 0.8962351083755493, 0.869411289691925, 0.9072130918502808, 0.8900669813156128, 0.9096353054046631, 0.89391028881073, 0.8872222900390625, 0.8725934624671936, 0.898252546787262, 0.8907891511917114, 0.8931983709335327, 0.8934633731842041, 0.881913423538208, 0.8750145435333252, 0.9061546921730042, 0.8946902751922607, 0.8991717100143433, 0.9021643400192261, 0.8888366222381592, 0.9019967317581177, 0.9066100716590881, 0.931387722492218, 0.8853539824485779, 0.9371002912521362, 0.8809049725532532, 0.9287912249565125, 0.8997579216957092, 0.9266442656517029, 0.9179248213768005, 0.9309403896331787, 0.8876248598098755, 0.8888049721717834, 0.8965085744857788, 0.8794392347335815, 0.8851655125617981, 0.8805161714553833, 0.9027031660079956, 0.8918548822402954, 0.8932122588157654, 0.8993827700614929, 0.8852319121360779, 0.9265717267990112, 0.8966637849807739, 0.8805819749832153, 0.9100669622421265, 0.9335589408874512], 'hashcode': 'roberta-large_L17_no-idf_version=0.3.12(hug_trans=4.28.1)'}\n"
          ]
        }
      ]
    },
    {
      "cell_type": "code",
      "source": [
        "with open(\"/content/bertscore_all_gpt.json\", \"w\") as outfile:\n",
        "    json.dump(results_all_gpt, outfile)"
      ],
      "metadata": {
        "id": "bApVQVHDFvR0"
      },
      "execution_count": null,
      "outputs": []
    },
    {
      "cell_type": "code",
      "source": [
        "pd.DataFrame(results_all_gpt).describe()"
      ],
      "metadata": {
        "colab": {
          "base_uri": "https://localhost:8080/",
          "height": 300
        },
        "id": "hz351k8RDSdh",
        "outputId": "0473053d-8f2b-4562-aee4-57710f13dfc7"
      },
      "execution_count": null,
      "outputs": [
        {
          "output_type": "execute_result",
          "data": {
            "text/plain": [
              "        precision      recall          f1\n",
              "count  819.000000  819.000000  819.000000\n",
              "mean     0.880252    0.921595    0.900279\n",
              "std      0.024260    0.020153    0.018760\n",
              "min      0.806842    0.861792    0.837919\n",
              "25%      0.862506    0.908027    0.888242\n",
              "50%      0.880343    0.923544    0.900528\n",
              "75%      0.896824    0.935189    0.912441\n",
              "max      0.946946    0.974687    0.953862"
            ],
            "text/html": [
              "\n",
              "  <div id=\"df-0ff09cd1-d7ab-4f30-a8b4-0ed3c5b47cc9\">\n",
              "    <div class=\"colab-df-container\">\n",
              "      <div>\n",
              "<style scoped>\n",
              "    .dataframe tbody tr th:only-of-type {\n",
              "        vertical-align: middle;\n",
              "    }\n",
              "\n",
              "    .dataframe tbody tr th {\n",
              "        vertical-align: top;\n",
              "    }\n",
              "\n",
              "    .dataframe thead th {\n",
              "        text-align: right;\n",
              "    }\n",
              "</style>\n",
              "<table border=\"1\" class=\"dataframe\">\n",
              "  <thead>\n",
              "    <tr style=\"text-align: right;\">\n",
              "      <th></th>\n",
              "      <th>precision</th>\n",
              "      <th>recall</th>\n",
              "      <th>f1</th>\n",
              "    </tr>\n",
              "  </thead>\n",
              "  <tbody>\n",
              "    <tr>\n",
              "      <th>count</th>\n",
              "      <td>819.000000</td>\n",
              "      <td>819.000000</td>\n",
              "      <td>819.000000</td>\n",
              "    </tr>\n",
              "    <tr>\n",
              "      <th>mean</th>\n",
              "      <td>0.880252</td>\n",
              "      <td>0.921595</td>\n",
              "      <td>0.900279</td>\n",
              "    </tr>\n",
              "    <tr>\n",
              "      <th>std</th>\n",
              "      <td>0.024260</td>\n",
              "      <td>0.020153</td>\n",
              "      <td>0.018760</td>\n",
              "    </tr>\n",
              "    <tr>\n",
              "      <th>min</th>\n",
              "      <td>0.806842</td>\n",
              "      <td>0.861792</td>\n",
              "      <td>0.837919</td>\n",
              "    </tr>\n",
              "    <tr>\n",
              "      <th>25%</th>\n",
              "      <td>0.862506</td>\n",
              "      <td>0.908027</td>\n",
              "      <td>0.888242</td>\n",
              "    </tr>\n",
              "    <tr>\n",
              "      <th>50%</th>\n",
              "      <td>0.880343</td>\n",
              "      <td>0.923544</td>\n",
              "      <td>0.900528</td>\n",
              "    </tr>\n",
              "    <tr>\n",
              "      <th>75%</th>\n",
              "      <td>0.896824</td>\n",
              "      <td>0.935189</td>\n",
              "      <td>0.912441</td>\n",
              "    </tr>\n",
              "    <tr>\n",
              "      <th>max</th>\n",
              "      <td>0.946946</td>\n",
              "      <td>0.974687</td>\n",
              "      <td>0.953862</td>\n",
              "    </tr>\n",
              "  </tbody>\n",
              "</table>\n",
              "</div>\n",
              "      <button class=\"colab-df-convert\" onclick=\"convertToInteractive('df-0ff09cd1-d7ab-4f30-a8b4-0ed3c5b47cc9')\"\n",
              "              title=\"Convert this dataframe to an interactive table.\"\n",
              "              style=\"display:none;\">\n",
              "        \n",
              "  <svg xmlns=\"http://www.w3.org/2000/svg\" height=\"24px\"viewBox=\"0 0 24 24\"\n",
              "       width=\"24px\">\n",
              "    <path d=\"M0 0h24v24H0V0z\" fill=\"none\"/>\n",
              "    <path d=\"M18.56 5.44l.94 2.06.94-2.06 2.06-.94-2.06-.94-.94-2.06-.94 2.06-2.06.94zm-11 1L8.5 8.5l.94-2.06 2.06-.94-2.06-.94L8.5 2.5l-.94 2.06-2.06.94zm10 10l.94 2.06.94-2.06 2.06-.94-2.06-.94-.94-2.06-.94 2.06-2.06.94z\"/><path d=\"M17.41 7.96l-1.37-1.37c-.4-.4-.92-.59-1.43-.59-.52 0-1.04.2-1.43.59L10.3 9.45l-7.72 7.72c-.78.78-.78 2.05 0 2.83L4 21.41c.39.39.9.59 1.41.59.51 0 1.02-.2 1.41-.59l7.78-7.78 2.81-2.81c.8-.78.8-2.07 0-2.86zM5.41 20L4 18.59l7.72-7.72 1.47 1.35L5.41 20z\"/>\n",
              "  </svg>\n",
              "      </button>\n",
              "      \n",
              "  <style>\n",
              "    .colab-df-container {\n",
              "      display:flex;\n",
              "      flex-wrap:wrap;\n",
              "      gap: 12px;\n",
              "    }\n",
              "\n",
              "    .colab-df-convert {\n",
              "      background-color: #E8F0FE;\n",
              "      border: none;\n",
              "      border-radius: 50%;\n",
              "      cursor: pointer;\n",
              "      display: none;\n",
              "      fill: #1967D2;\n",
              "      height: 32px;\n",
              "      padding: 0 0 0 0;\n",
              "      width: 32px;\n",
              "    }\n",
              "\n",
              "    .colab-df-convert:hover {\n",
              "      background-color: #E2EBFA;\n",
              "      box-shadow: 0px 1px 2px rgba(60, 64, 67, 0.3), 0px 1px 3px 1px rgba(60, 64, 67, 0.15);\n",
              "      fill: #174EA6;\n",
              "    }\n",
              "\n",
              "    [theme=dark] .colab-df-convert {\n",
              "      background-color: #3B4455;\n",
              "      fill: #D2E3FC;\n",
              "    }\n",
              "\n",
              "    [theme=dark] .colab-df-convert:hover {\n",
              "      background-color: #434B5C;\n",
              "      box-shadow: 0px 1px 3px 1px rgba(0, 0, 0, 0.15);\n",
              "      filter: drop-shadow(0px 1px 2px rgba(0, 0, 0, 0.3));\n",
              "      fill: #FFFFFF;\n",
              "    }\n",
              "  </style>\n",
              "\n",
              "      <script>\n",
              "        const buttonEl =\n",
              "          document.querySelector('#df-0ff09cd1-d7ab-4f30-a8b4-0ed3c5b47cc9 button.colab-df-convert');\n",
              "        buttonEl.style.display =\n",
              "          google.colab.kernel.accessAllowed ? 'block' : 'none';\n",
              "\n",
              "        async function convertToInteractive(key) {\n",
              "          const element = document.querySelector('#df-0ff09cd1-d7ab-4f30-a8b4-0ed3c5b47cc9');\n",
              "          const dataTable =\n",
              "            await google.colab.kernel.invokeFunction('convertToInteractive',\n",
              "                                                     [key], {});\n",
              "          if (!dataTable) return;\n",
              "\n",
              "          const docLinkHtml = 'Like what you see? Visit the ' +\n",
              "            '<a target=\"_blank\" href=https://colab.research.google.com/notebooks/data_table.ipynb>data table notebook</a>'\n",
              "            + ' to learn more about interactive tables.';\n",
              "          element.innerHTML = '';\n",
              "          dataTable['output_type'] = 'display_data';\n",
              "          await google.colab.output.renderOutput(dataTable, element);\n",
              "          const docLink = document.createElement('div');\n",
              "          docLink.innerHTML = docLinkHtml;\n",
              "          element.appendChild(docLink);\n",
              "        }\n",
              "      </script>\n",
              "    </div>\n",
              "  </div>\n",
              "  "
            ]
          },
          "metadata": {},
          "execution_count": 160
        }
      ]
    },
    {
      "cell_type": "code",
      "source": [
        "predictions_all_samsum = outputs_all_samsum\n",
        "references = test_summary_list\n",
        "results_all_samsum = bertscore.compute(predictions=predictions_all_samsum, references=references, lang=\"en\")"
      ],
      "metadata": {
        "id": "Ga9g1yJsDSgq"
      },
      "execution_count": null,
      "outputs": []
    },
    {
      "cell_type": "code",
      "source": [
        "print(results_all_samsum)"
      ],
      "metadata": {
        "colab": {
          "base_uri": "https://localhost:8080/"
        },
        "id": "FUsDJt50DSjx",
        "outputId": "7eec7cea-d586-4da5-f073-9109f16f77d3"
      },
      "execution_count": null,
      "outputs": [
        {
          "output_type": "stream",
          "name": "stdout",
          "text": [
            "{'precision': [0.8439989686012268, 0.8712958097457886, 0.8830504417419434, 0.8492715358734131, 0.9011852741241455, 0.9016435742378235, 0.890662670135498, 0.8646018505096436, 0.8849481344223022, 0.903106689453125, 0.8981284499168396, 0.9096364974975586, 0.9071511626243591, 0.8823152780532837, 0.8841474056243896, 0.8932774662971497, 0.8711445331573486, 0.9076710939407349, 0.8378878235816956, 0.9035516381263733, 0.906855583190918, 0.8875408172607422, 0.9068043231964111, 0.8977020978927612, 0.9399736523628235, 0.8683890104293823, 0.828180193901062, 0.8939269781112671, 0.9123910665512085, 0.8954557180404663, 0.8593969345092773, 0.855899453163147, 0.8635988235473633, 0.8946559429168701, 0.9270034432411194, 0.8482162356376648, 0.8714333772659302, 0.8475374579429626, 0.8492249250411987, 0.901163637638092, 0.8668437004089355, 0.8572643995285034, 0.9020910263061523, 0.8527729511260986, 0.8857295513153076, 0.884060800075531, 0.8969956040382385, 0.855279803276062, 0.8590085506439209, 0.8616324663162231, 0.8855330944061279, 0.8795086741447449, 0.896727442741394, 0.8768735527992249, 0.8468446731567383, 0.9281303882598877, 0.8591572046279907, 0.857520341873169, 0.9360726475715637, 0.8816200494766235, 0.8564737439155579, 0.8608323931694031, 0.869545578956604, 0.9508830308914185, 0.8812279105186462, 0.9003658890724182, 0.8500546216964722, 0.9068093299865723, 0.8905543684959412, 0.8990498185157776, 0.9131183624267578, 0.878610372543335, 0.8473469018936157, 0.8789805173873901, 0.856924295425415, 0.8576536774635315, 0.8664678931236267, 0.9024340510368347, 0.8780770897865295, 0.8699399828910828, 0.8852221369743347, 0.8801079988479614, 0.9435555934906006, 0.8853734135627747, 0.8777685761451721, 0.8772729635238647, 0.917485773563385, 0.8622305989265442, 0.8785805106163025, 0.8715997934341431, 0.8261739015579224, 0.8634610772132874, 0.9024344086647034, 0.8657717704772949, 0.9113621711730957, 0.9237724542617798, 0.8779205083847046, 0.8483943939208984, 0.8496695756912231, 0.8913500308990479, 0.8937023878097534, 0.8874936103820801, 0.8621121048927307, 0.8735116720199585, 0.8848996758460999, 0.9016945362091064, 0.8971630930900574, 0.8515816926956177, 0.8656051158905029, 0.9223966002464294, 0.8978453278541565, 0.8625748157501221, 0.8705605268478394, 0.8794371485710144, 0.8888441920280457, 0.8847209215164185, 0.9103373289108276, 0.8595837354660034, 0.8849438428878784, 0.9133729934692383, 0.8849567770957947, 0.8570439219474792, 0.8250828981399536, 0.8710851073265076, 0.858159065246582, 0.8833770751953125, 0.8665582537651062, 0.8861799240112305, 0.8723006844520569, 0.8712092638015747, 0.8762108087539673, 0.9094845056533813, 0.8444544672966003, 0.8938291668891907, 0.892615556716919, 0.8813197016716003, 0.9097222089767456, 0.864463210105896, 0.8792165517807007, 0.9257863759994507, 0.8300739526748657, 0.8976714015007019, 0.8832305073738098, 0.9165487289428711, 0.8960483074188232, 0.8846309185028076, 0.9379042983055115, 0.9101001024246216, 0.8625020980834961, 0.9043353796005249, 0.8469834327697754, 0.9027798771858215, 0.8772574663162231, 0.8822464942932129, 0.9061962366104126, 0.9212499260902405, 0.8729033470153809, 0.9049023389816284, 0.8822219967842102, 0.8497430086135864, 0.8482148051261902, 0.8608503341674805, 0.8792858719825745, 0.853348433971405, 0.8758636713027954, 0.9070988297462463, 0.889577329158783, 0.8909355401992798, 0.9072906970977783, 0.8579263091087341, 0.916287362575531, 0.9456461668014526, 0.8611500263214111, 0.900888979434967, 0.8769800066947937, 0.8618789315223694, 0.8444167375564575, 0.8439874053001404, 0.8675193786621094, 0.9128066301345825, 0.8977140188217163, 0.8965986371040344, 0.8578378558158875, 0.8936342000961304, 0.8949720859527588, 0.8649799823760986, 0.8682675361633301, 0.9013576507568359, 0.8862119317054749, 0.8616857528686523, 0.8916853070259094, 0.8960990309715271, 0.9071693420410156, 0.8945355415344238, 0.8727623224258423, 0.8426838517189026, 0.8821735978126526, 0.8475725650787354, 0.8800511360168457, 0.8267760276794434, 0.8905112147331238, 0.9015775918960571, 0.8754409551620483, 0.8796632289886475, 0.9155404567718506, 0.8765373229980469, 0.9134288430213928, 0.8947468996047974, 0.9063080549240112, 0.8492995500564575, 0.8929063081741333, 0.8437832593917847, 0.8616876602172852, 0.8917633891105652, 0.8942310214042664, 0.8421879410743713, 0.8670974969863892, 0.8921401500701904, 0.8768525123596191, 0.8935906887054443, 0.9166562557220459, 0.878252387046814, 0.8639085292816162, 0.9044134616851807, 0.8956236243247986, 0.8833910226821899, 0.8187268376350403, 0.9046648740768433, 0.8948124051094055, 0.9008287787437439, 0.852509081363678, 0.8635610342025757, 0.8742334842681885, 0.8821138739585876, 0.8744832277297974, 0.8867153525352478, 0.8897041082382202, 0.9423539638519287, 0.9173325896263123, 0.8496782183647156, 0.9183036684989929, 0.8502389788627625, 0.8981199264526367, 0.9164137840270996, 0.8545823097229004, 0.8698135018348694, 0.8842445015907288, 0.911683976650238, 0.8821511268615723, 0.8715816140174866, 0.8793948888778687, 0.8688876628875732, 0.9137652516365051, 0.902681291103363, 0.9148825407028198, 0.8905035257339478, 0.9239155054092407, 0.8760187029838562, 0.841629683971405, 0.9022545218467712, 0.921889066696167, 0.8498736619949341, 0.9058082103729248, 0.9160711765289307, 0.8771985769271851, 0.8830357193946838, 0.8939719200134277, 0.8961347937583923, 0.8897992372512817, 0.8812351226806641, 0.866117000579834, 0.8797834515571594, 0.8953251838684082, 0.8802109956741333, 0.9262936115264893, 0.8606650829315186, 0.8632500171661377, 0.9398030042648315, 0.8336191177368164, 0.9366092085838318, 0.8897429704666138, 0.8747220039367676, 0.9228184819221497, 0.8615016341209412, 0.913019061088562, 0.9051686525344849, 0.8989861607551575, 0.900650680065155, 0.8583134412765503, 0.8980019092559814, 0.8623940944671631, 0.8979060053825378, 0.8850675225257874, 0.8902020454406738, 0.8977953195571899, 0.8490042090415955, 0.9222485423088074, 0.8914574384689331, 0.877951979637146, 0.8565636873245239, 0.8145433068275452, 0.8716687560081482, 0.9084157943725586, 0.8879963159561157, 0.9135921001434326, 0.9065876007080078, 0.8937476277351379, 0.8533117771148682, 0.896838903427124, 0.8964693546295166, 0.8876484632492065, 0.8525217771530151, 0.8700583577156067, 0.9284055233001709, 0.9003519415855408, 0.8830804824829102, 0.8781366944313049, 0.8607385158538818, 0.8472193479537964, 0.8288522958755493, 0.9142300486564636, 0.8608363270759583, 0.8848639726638794, 0.8658154010772705, 0.8797708749771118, 0.8780702948570251, 0.8691203594207764, 0.8906329870223999, 0.8509138226509094, 0.9246076345443726, 0.9207244515419006, 0.8442381620407104, 0.8720027208328247, 0.8681389093399048, 0.897279679775238, 0.8641799688339233, 0.9141431450843811, 0.9014298319816589, 0.8785493969917297, 0.9240058064460754, 0.8680018186569214, 0.8870198726654053, 0.8784661293029785, 0.864634096622467, 0.9136139154434204, 0.8740155100822449, 0.8834590911865234, 0.8707011342048645, 0.8475605249404907, 0.866801917552948, 0.8626272678375244, 0.8872836828231812, 0.9017611742019653, 0.8907380104064941, 0.8816139698028564, 0.8541011214256287, 0.8437047004699707, 0.8878196477890015, 0.8985192179679871, 0.8901716470718384, 0.8845973610877991, 0.8781605958938599, 0.8519965410232544, 0.870181143283844, 0.8649126887321472, 0.8734498023986816, 0.8701797723770142, 0.8638107776641846, 0.8841631412506104, 0.82423335313797, 0.9160544872283936, 0.8703193664550781, 0.8988065719604492, 0.8724995851516724, 0.9021517038345337, 0.848961353302002, 0.9458843469619751, 0.867335855960846, 0.906010091304779, 0.8506928086280823, 0.8872657418251038, 0.8458853363990784, 0.9095675349235535, 0.8957251906394958, 0.8649272918701172, 0.8699403405189514, 0.8944809436798096, 0.8843136429786682, 0.9058759212493896, 0.9006097316741943, 0.8829513192176819, 0.8669904470443726, 0.8852258920669556, 0.8305081129074097, 0.9196274280548096, 0.8948928117752075, 0.8651372790336609, 0.9684999585151672, 0.9031060934066772, 0.8784431219100952, 0.8732997179031372, 0.8695613145828247, 0.8672044277191162, 0.8675419092178345, 0.9210661053657532, 0.9101802706718445, 0.8810821771621704, 0.8769134283065796, 0.8251286149024963, 0.8603357076644897, 0.8802946209907532, 0.9006628394126892, 0.8535611629486084, 0.8881229162216187, 0.8786413669586182, 0.9159231185913086, 0.8875231146812439, 0.8584659099578857, 0.8801485896110535, 0.8567567467689514, 0.8591794967651367, 0.8568584322929382, 0.8959277868270874, 0.9243700504302979, 0.8614269495010376, 0.8678078651428223, 0.9122371673583984, 0.8506519794464111, 0.8787157535552979, 0.9258231520652771, 0.8917149305343628, 0.894951581954956, 0.8810998201370239, 0.9003954529762268, 0.9016557335853577, 0.8169968128204346, 0.8777425289154053, 0.8822340965270996, 0.8668498992919922, 0.8986260890960693, 0.841265082359314, 0.8761672973632812, 0.880977213382721, 0.8800786137580872, 0.8555831909179688, 0.9010798931121826, 0.8904181718826294, 0.9100955724716187, 0.8827691078186035, 0.8777573108673096, 0.9277691841125488, 0.8520773649215698, 0.8657374978065491, 0.858274519443512, 0.8623911142349243, 0.8582720756530762, 0.9052448272705078, 0.9049954414367676, 0.9148117303848267, 0.887264609336853, 0.8736410737037659, 0.9147995710372925, 0.8684930205345154, 0.8856271505355835, 0.900156557559967, 0.8913893103599548, 0.8562867641448975, 0.8647459745407104, 0.9195981025695801, 0.915286660194397, 0.882541298866272, 0.8620418906211853, 0.8690454959869385, 0.8789499998092651, 0.8889387845993042, 0.8702245950698853, 0.8958115577697754, 0.8616210222244263, 0.911899745464325, 0.8911902904510498, 0.9007745385169983, 0.9361865520477295, 0.8677202463150024, 0.8649665713310242, 0.878982424736023, 0.9150166511535645, 0.8605431318283081, 0.8534582853317261, 0.8827303647994995, 0.8762111663818359, 0.8302624225616455, 0.9198012948036194, 0.8867147564888, 0.8983219861984253, 0.8959171175956726, 0.9186554551124573, 0.8301976919174194, 0.8585646748542786, 0.8886281251907349, 0.8825753331184387, 0.9173083305358887, 0.8977693915367126, 0.9130063652992249, 0.9043978452682495, 0.8583080768585205, 0.8555171489715576, 0.9376792907714844, 0.8561720848083496, 0.8759164810180664, 0.917398989200592, 0.8419252634048462, 0.8642399907112122, 0.8691152334213257, 0.8837590217590332, 0.8697267770767212, 0.8982365131378174, 0.880786120891571, 0.8526126146316528, 0.9036883115768433, 0.9033874273300171, 0.8178730010986328, 0.8581494092941284, 0.8834332227706909, 0.9199033975601196, 0.8596310615539551, 0.8715494871139526, 0.8352774381637573, 0.8631148338317871, 0.8881068825721741, 0.8949306607246399, 0.9026340246200562, 0.9272476434707642, 0.8706176280975342, 0.8753527998924255, 0.9187172651290894, 0.8467470407485962, 0.9020308256149292, 0.8903756141662598, 0.8545511960983276, 0.8985431790351868, 0.8726736307144165, 0.894947350025177, 0.8984621167182922, 0.8959295749664307, 0.8611759543418884, 0.9093247652053833, 0.8440214991569519, 0.8451161980628967, 0.8609252572059631, 0.8688122034072876, 0.862084150314331, 0.8350377082824707, 0.9252724051475525, 0.8470335006713867, 0.8911449909210205, 0.8749432563781738, 0.8487258553504944, 0.8702712655067444, 0.8940646648406982, 0.8625969886779785, 0.8958855867385864, 0.8489285111427307, 0.888052225112915, 0.9064815640449524, 0.8518729209899902, 0.862635612487793, 0.8261062502861023, 0.8858538866043091, 0.8608333468437195, 0.8720502257347107, 0.8879663348197937, 0.8629666566848755, 0.8982627391815186, 0.9198994636535645, 0.9059084057807922, 0.8819108009338379, 0.877000629901886, 0.8759073615074158, 0.9036765694618225, 0.8734467625617981, 0.8914231061935425, 0.8677501082420349, 0.9159219264984131, 0.9487353563308716, 0.8610946536064148, 0.9056257009506226, 0.9257309436798096, 0.9256191849708557, 0.8879590034484863, 0.9197820425033569, 0.9173582792282104, 0.9422277212142944, 0.8699179887771606, 0.9016022682189941, 0.8809410333633423, 0.8594669103622437, 0.9111583828926086, 0.8858424425125122, 0.8579897284507751, 0.8392524719238281, 0.9296225309371948, 0.8765182495117188, 0.8916686177253723, 0.8836820125579834, 0.9016299247741699, 0.8878831267356873, 0.9072790145874023, 0.8743337392807007, 0.8555079102516174, 0.8505094051361084, 0.88687664270401, 0.8807632923126221, 0.8868566751480103, 0.8942119479179382, 0.8769719004631042, 0.884840726852417, 0.8665564656257629, 0.9234718680381775, 0.8619821071624756, 0.8984639048576355, 0.8510351777076721, 0.8943742513656616, 0.9201623797416687, 0.8657181859016418, 0.880211353302002, 0.8770374059677124, 0.9323201775550842, 0.9271159172058105, 0.9004918336868286, 0.8696177005767822, 0.8578819632530212, 0.9133436679840088, 0.8606384992599487, 0.8658550381660461, 0.9209377765655518, 0.9125819206237793, 0.8911010026931763, 0.8539158701896667, 0.8933058977127075, 0.8576266765594482, 0.860916256904602, 0.8567385673522949, 0.84211665391922, 0.8461335301399231, 0.9111936092376709, 0.9066441059112549, 0.8645315170288086, 0.8798460960388184, 0.9090962409973145, 0.8902588486671448, 0.8333182334899902, 0.8693336248397827, 0.9065405130386353, 0.8688415288925171, 0.8648649454116821, 0.8768526315689087, 0.8720462322235107, 0.871293842792511, 0.8918707370758057, 0.8606061935424805, 0.8770807981491089, 0.8665415048599243, 0.8949497938156128, 0.8540709018707275, 0.906887412071228, 0.8730908632278442, 0.887064516544342, 0.8779321908950806, 0.88112872838974, 0.8741019368171692, 0.8459428548812866, 0.863616943359375, 0.8855865001678467, 0.8932300806045532, 0.892660915851593, 0.8577491641044617, 0.8790608644485474, 0.8611488938331604, 0.8794084787368774, 0.8896733522415161, 0.9002077579498291, 0.8601780533790588, 0.9022320508956909, 0.8768928050994873, 0.856818675994873, 0.8825732469558716, 0.8928341865539551, 0.8923273682594299, 0.8738185167312622, 0.8999786376953125, 0.8635725378990173, 0.8889745473861694, 0.8781415224075317, 0.8835301995277405, 0.9257363080978394, 0.882790207862854, 0.8226497173309326, 0.8841539621353149, 0.8869948387145996, 0.8621398210525513, 0.9060041904449463, 0.9113788604736328, 0.9029993414878845, 0.8520575761795044, 0.85938960313797, 0.8854891657829285, 0.8673556447029114, 0.8798092603683472, 0.8834196925163269, 0.8478438854217529, 0.8912297487258911, 0.859646201133728, 0.9086894989013672, 0.8775292634963989, 0.8807539343833923, 0.8766526579856873, 0.8648098111152649, 0.8670638799667358, 0.8730890154838562, 0.8657543659210205, 0.8858628869056702, 0.8995544910430908, 0.8704606294631958, 0.8913623094558716, 0.9289463758468628, 0.8668723106384277, 0.8929427266120911, 0.8794659376144409, 0.9382759928703308, 0.8583827018737793, 0.8425297737121582, 0.85300612449646, 0.8627424240112305, 0.8628610968589783, 0.897210955619812, 0.935539722442627, 0.8431088924407959, 0.866530179977417, 0.8772968053817749, 0.8793795704841614, 0.880883514881134, 0.8863834142684937, 0.8899639844894409, 0.8842259049415588, 0.841856837272644, 0.8180372714996338, 0.8588536977767944, 0.9206527471542358, 0.8716423511505127, 0.8770158290863037, 0.8661146759986877, 0.8521833419799805, 0.8613401055335999, 0.9031842947006226, 0.8872257471084595, 0.8538638949394226, 0.8611489534378052, 0.8490433692932129, 0.9266068339347839, 0.876854658126831, 0.9134114384651184, 0.8869811296463013, 0.8879910111427307, 0.858913004398346, 0.8965621590614319, 0.8891517519950867, 0.9004654884338379, 0.8992088437080383, 0.9008191823959351, 0.8981376886367798, 0.8782188892364502, 0.8669838905334473, 0.8775781393051147, 0.8879257440567017, 0.8333315253257751, 0.8903329968452454, 0.8679220080375671, 0.8816871643066406, 0.8721301555633545, 0.8882694244384766, 0.8631631135940552, 0.8752622604370117, 0.8422272205352783, 0.8804413080215454, 0.8998410701751709, 0.8704092502593994, 0.8657921552658081, 0.9052907228469849, 0.8661090135574341, 0.878201961517334, 0.8969428539276123, 0.8654493093490601, 0.8770004510879517, 0.8886346817016602, 0.9287944436073303, 0.895074725151062, 0.9345424175262451, 0.8317462801933289, 0.9174004793167114, 0.8821322917938232, 0.9040458798408508, 0.8910369277000427, 0.9133083820343018, 0.9007208347320557, 0.847497284412384, 0.865821361541748, 0.8786620497703552, 0.8742913007736206, 0.8305017948150635, 0.858237624168396, 0.8668251037597656, 0.8901625871658325, 0.8839591145515442, 0.8498631119728088, 0.9123215675354004, 0.845279335975647, 0.8484600186347961, 0.8724530339241028, 0.9163967370986938], 'recall': [0.8921002149581909, 0.9265705347061157, 0.9015661478042603, 0.9109180569648743, 0.8995362520217896, 0.9045889377593994, 0.9102532863616943, 0.9125328063964844, 0.9053991436958313, 0.948299765586853, 0.9338619112968445, 0.9345769882202148, 0.9242737293243408, 0.9336367845535278, 0.9053835272789001, 0.9202910661697388, 0.9680289030075073, 0.9212756156921387, 0.9204349517822266, 0.9386600255966187, 0.9187731146812439, 0.8983132839202881, 0.962760329246521, 0.9572649598121643, 0.9592315554618835, 0.8869631290435791, 0.8767808079719543, 0.9459645748138428, 0.9247746467590332, 0.9399137496948242, 0.9048741459846497, 0.9023408889770508, 0.9247956275939941, 0.9481284618377686, 0.9452895522117615, 0.915435791015625, 0.9388403296470642, 0.9077630043029785, 0.9172384738922119, 0.9465447068214417, 0.9051921963691711, 0.9083690643310547, 0.9059469699859619, 0.920435905456543, 0.924072802066803, 0.9341570734977722, 0.9059240818023682, 0.9186524152755737, 0.9379651546478271, 0.8973348140716553, 0.9070720672607422, 0.9187743663787842, 0.9531083703041077, 0.9258894324302673, 0.9091601371765137, 0.9586145877838135, 0.9173810482025146, 0.9308408498764038, 0.9274946451187134, 0.9532244801521301, 0.9223480820655823, 0.8776259422302246, 0.9235559105873108, 0.9604282379150391, 0.8843743801116943, 0.9385806322097778, 0.9128009080886841, 0.9140868186950684, 0.9070547819137573, 0.9531588554382324, 0.9656425714492798, 0.9679626226425171, 0.9055206775665283, 0.9297616481781006, 0.9041175842285156, 0.9426750540733337, 0.9151424765586853, 0.9160948991775513, 0.9336576461791992, 0.9273458123207092, 0.9512325525283813, 0.9452896118164062, 0.9709509015083313, 0.9098834991455078, 0.9228326082229614, 0.9061595797538757, 0.9081620573997498, 0.9167078733444214, 0.8967428803443909, 0.9284642934799194, 0.9286175966262817, 0.9139600396156311, 0.910118579864502, 0.9225704073905945, 0.9340927600860596, 0.9488725662231445, 0.9413567781448364, 0.8889150619506836, 0.900892972946167, 0.903288722038269, 0.9312751889228821, 0.9287557601928711, 0.9061955213546753, 0.9360227584838867, 0.9550478458404541, 0.9243931770324707, 0.9103631377220154, 0.8936646580696106, 0.8886189460754395, 0.9562915563583374, 0.9427998065948486, 0.9205750226974487, 0.913410484790802, 0.9021987318992615, 0.8977653980255127, 0.9344720244407654, 0.9354066848754883, 0.9135134220123291, 0.9316680431365967, 0.9592652320861816, 0.9371247291564941, 0.9231832027435303, 0.9044607281684875, 0.9081322550773621, 0.9534450769424438, 0.9378858804702759, 0.9299980998039246, 0.9261170029640198, 0.8982605338096619, 0.9548118710517883, 0.9241222739219666, 0.9183436632156372, 0.9039932489395142, 0.9375510215759277, 0.9191224575042725, 0.9234528541564941, 0.9251150488853455, 0.9118132591247559, 0.9289671778678894, 0.9637853503227234, 0.953608512878418, 0.9184021353721619, 0.9073326587677002, 0.9599531292915344, 0.95953369140625, 0.9296749830245972, 0.9640079736709595, 0.9258526563644409, 0.9365723729133606, 0.9292008280754089, 0.9435150027275085, 0.9385223388671875, 0.9140169620513916, 0.9437305927276611, 0.9264390468597412, 0.9034340977668762, 0.9479630589485168, 0.8922609686851501, 0.9517492055892944, 0.9178351163864136, 0.9297987222671509, 0.9515392780303955, 0.909885048866272, 0.8934954404830933, 0.903965175151825, 0.9189698696136475, 0.8985240459442139, 0.9204596281051636, 0.9486584663391113, 0.8769558668136597, 0.9624768495559692, 0.929782509803772, 0.9211233258247375, 0.9067002534866333, 0.9126068949699402, 0.8848734498023987, 0.9332925081253052, 0.868274450302124, 0.927200436592102, 0.9321216940879822, 0.9355825781822205, 0.9255160093307495, 0.8968190550804138, 0.9355164766311646, 0.9673348069190979, 0.9139196872711182, 0.9318565726280212, 0.9320951104164124, 0.9074442982673645, 0.9598480463027954, 0.9100160598754883, 0.9147723913192749, 0.9558942317962646, 0.9038500189781189, 0.9119552373886108, 0.8562466502189636, 0.9127932190895081, 0.8860805034637451, 0.9452827572822571, 0.9330708980560303, 0.9347902536392212, 0.9425742030143738, 0.8902559280395508, 0.953223466873169, 0.9225610494613647, 0.9117045402526855, 0.9352377653121948, 0.9068887233734131, 0.9122389554977417, 0.9014590978622437, 0.916293740272522, 0.9184620976448059, 0.9109053611755371, 0.9323275685310364, 0.9562133550643921, 0.878928542137146, 0.8980947732925415, 0.92072594165802, 0.9190601110458374, 0.9566110372543335, 0.9377472400665283, 0.9498956203460693, 0.8952585458755493, 0.9518978595733643, 0.944696307182312, 0.9392488598823547, 0.8846433758735657, 0.9329338073730469, 0.9550200700759888, 0.9118028879165649, 0.9447787404060364, 0.9317286610603333, 0.9027740359306335, 0.9330989122390747, 0.9059430956840515, 0.950767993927002, 0.8904322385787964, 0.9691422581672668, 0.9487202167510986, 0.9226266741752625, 0.9624369144439697, 0.9129939079284668, 0.9549520611763, 0.9269580841064453, 0.9332248568534851, 0.924500048160553, 0.90999436378479, 0.9258468151092529, 0.9297997951507568, 0.920462965965271, 0.9126549959182739, 0.939792275428772, 0.9437534809112549, 0.9444606304168701, 0.946180522441864, 0.9479812383651733, 0.9214407205581665, 0.885523796081543, 0.9182673692703247, 0.937474250793457, 0.9379621744155884, 0.9373606443405151, 0.9083482027053833, 0.9449170231819153, 0.919305682182312, 0.9452145099639893, 0.9174549579620361, 0.9301827549934387, 0.942345380783081, 0.917199969291687, 0.9209951162338257, 0.9199743270874023, 0.9314670562744141, 0.9540637135505676, 0.9498453140258789, 0.9146052002906799, 0.90228271484375, 0.9375696778297424, 0.90638267993927, 0.9446480870246887, 0.9195287823677063, 0.9089238047599792, 0.9287848472595215, 0.901254415512085, 0.9383281469345093, 0.9277316927909851, 0.9185974597930908, 0.9111706614494324, 0.9241288900375366, 0.9289366602897644, 0.9288961887359619, 0.9168134927749634, 0.893771767616272, 0.9258981943130493, 0.9278819561004639, 0.9322654008865356, 0.9201077222824097, 0.9270771145820618, 0.923027753829956, 0.8801608085632324, 0.9293041229248047, 0.8891952037811279, 0.8940092325210571, 0.9288263916969299, 0.9386060237884521, 0.9662325382232666, 0.9342944622039795, 0.9362195134162903, 0.9283784031867981, 0.9216115474700928, 0.9217862486839294, 0.9058836102485657, 0.9128575921058655, 0.952583909034729, 0.9623171091079712, 0.9111655950546265, 0.9064357876777649, 0.9319261312484741, 0.9049612283706665, 0.8705840706825256, 0.9490046501159668, 0.9141268730163574, 0.9234974384307861, 0.9063009023666382, 0.9004305601119995, 0.9137154221534729, 0.9267953634262085, 0.9578857421875, 0.9032595157623291, 0.9410058856010437, 0.9356240630149841, 0.8815540075302124, 0.9253514409065247, 0.9107187986373901, 0.9290768504142761, 0.9241120219230652, 0.9470535516738892, 0.9258678555488586, 0.9357343912124634, 0.9553985595703125, 0.9031685590744019, 0.9328711032867432, 0.9028648138046265, 0.8882111310958862, 0.9168627262115479, 0.9138043522834778, 0.9189481139183044, 0.9462167024612427, 0.9239116907119751, 0.9096566438674927, 0.8772044777870178, 0.9467164874076843, 0.9377334713935852, 0.9168502688407898, 0.9085829257965088, 0.9172340631484985, 0.9314606189727783, 0.9011669158935547, 0.9374017715454102, 0.8946937918663025, 0.9435538053512573, 0.9275464415550232, 0.891998291015625, 0.9196324348449707, 0.9132903218269348, 0.9210622906684875, 0.9262793064117432, 0.9215679168701172, 0.8826465606689453, 0.8979557752609253, 0.905462920665741, 0.9111402034759521, 0.916556715965271, 0.9387606978416443, 0.9008285999298096, 0.8984760046005249, 0.9694393873214722, 0.9257345199584961, 0.939640998840332, 0.9059522151947021, 0.9125714302062988, 0.9102262258529663, 0.9189224243164062, 0.9266394376754761, 0.940159797668457, 0.931861162185669, 0.9373677968978882, 0.9059275388717651, 0.9232203364372253, 0.8865238428115845, 0.9052233695983887, 0.9477497339248657, 0.9153459668159485, 0.9051713347434998, 0.9478775262832642, 0.9258318543434143, 0.9097667336463928, 0.9595707654953003, 0.943671464920044, 0.8884814977645874, 0.9127660989761353, 0.9330286383628845, 0.9238237142562866, 0.9244885444641113, 0.9229444861412048, 0.928017258644104, 0.9209369421005249, 0.9136638641357422, 0.9481959342956543, 0.883895993232727, 0.9568243622779846, 0.9109349846839905, 0.9393873810768127, 0.9118459224700928, 0.9229271411895752, 0.9182136058807373, 0.9310265779495239, 0.9088265299797058, 0.9284877181053162, 0.8802964687347412, 0.913415789604187, 0.8942531943321228, 0.93120938539505, 0.9575828313827515, 0.9126797318458557, 0.9093599319458008, 0.9434685707092285, 0.942646861076355, 0.9193937182426453, 0.9209910035133362, 0.8890506625175476, 0.9044032096862793, 0.9048488140106201, 0.9198641180992126, 0.9394701719284058, 0.8801968693733215, 0.936335027217865, 0.9297448396682739, 0.9096387624740601, 0.9189460277557373, 0.9133000373840332, 0.948026180267334, 0.9044418931007385, 0.9277488589286804, 0.8963985443115234, 0.9008001685142517, 0.9051073789596558, 0.9337393045425415, 0.8892995119094849, 0.9392251968383789, 0.9426882266998291, 0.9156931638717651, 0.9254592061042786, 0.9279809594154358, 0.9140068292617798, 0.9091546535491943, 0.920086145401001, 0.9433953166007996, 0.9418070316314697, 0.8990465402603149, 0.9670308232307434, 0.9494009017944336, 0.9104766249656677, 0.9080509543418884, 0.9224926829338074, 0.9336783289909363, 0.9121324419975281, 0.9026998281478882, 0.9323318600654602, 0.9614429473876953, 0.9288021326065063, 0.9230908751487732, 0.9143050312995911, 0.9167368412017822, 0.9474356770515442, 0.9246420860290527, 0.9107422232627869, 0.8935962915420532, 0.9231510162353516, 0.9229492545127869, 0.8901728391647339, 0.9611510038375854, 0.9446253180503845, 0.9015516042709351, 0.9175370931625366, 0.9420120120048523, 0.8986063003540039, 0.9039539694786072, 0.9302941560745239, 0.9657391309738159, 0.8968253135681152, 0.912122368812561, 0.9371575117111206, 0.9110864996910095, 0.9332399368286133, 0.9030672907829285, 0.919036328792572, 0.9225210547447205, 0.8862566947937012, 0.9196210503578186, 0.9427152872085571, 0.9293590784072876, 0.928968071937561, 0.9380607604980469, 0.9537707567214966, 0.9443343877792358, 0.9458719491958618, 0.8927637934684753, 0.9400339126586914, 0.9290163516998291, 0.9177564382553101, 0.9297343492507935, 0.9311676621437073, 0.9505999088287354, 0.948778510093689, 0.9288851618766785, 0.9361448287963867, 0.9259976148605347, 0.9563091993331909, 0.9067975282669067, 0.9122899174690247, 0.9011027812957764, 0.906560480594635, 0.9634680151939392, 0.9183418154716492, 0.9339301586151123, 0.8700314164161682, 0.946357786655426, 0.9220394492149353, 0.9293762445449829, 0.9176961183547974, 0.8836550116539001, 0.9198851585388184, 0.9640966653823853, 0.9364784955978394, 0.9344960451126099, 0.9626268744468689, 0.9284987449645996, 0.8894060850143433, 0.9346321821212769, 0.8964468240737915, 0.9377696514129639, 0.9090511798858643, 0.9328050017356873, 0.897007942199707, 0.9457347393035889, 0.8803753852844238, 0.8918285369873047, 0.924728274345398, 0.9107580184936523, 0.9140223860740662, 0.9621130228042603, 0.9353854656219482, 0.9054614305496216, 0.9128297567367554, 0.8916696310043335, 0.955103874206543, 0.9164795875549316, 0.9369475245475769, 0.9318996071815491, 0.9615670442581177, 0.9024423956871033, 0.9249476194381714, 0.9552857875823975, 0.8734366297721863, 0.9084963202476501, 0.9470521211624146, 0.8873541951179504, 0.9339299201965332, 0.9431533813476562, 0.9282346963882446, 0.8953294157981873, 0.9098124504089355, 0.9515582919120789, 0.9345385432243347, 0.935865044593811, 0.9275946617126465, 0.8996870517730713, 0.90604567527771, 0.9336950182914734, 0.9393014907836914, 0.9389127492904663, 0.9378855228424072, 0.9505133032798767, 0.8963065147399902, 0.9306083917617798, 0.9315714836120605, 0.9301760196685791, 0.8947045803070068, 0.9464452266693115, 0.9324192404747009, 0.9423757195472717, 0.9154928922653198, 0.9089723229408264, 0.9008705615997314, 0.9425778985023499, 0.9508678913116455, 0.9428035020828247, 0.9070389270782471, 0.8821706771850586, 0.9366044402122498, 0.929868221282959, 0.940546989440918, 0.933890700340271, 0.9541885852813721, 0.9121798276901245, 0.911591649055481, 0.9157285094261169, 0.9138007164001465, 0.9029462337493896, 0.9217309951782227, 0.8989527225494385, 0.9036511778831482, 0.9189682006835938, 0.9170223474502563, 0.9151933193206787, 0.9233847856521606, 0.9236225485801697, 0.9019184112548828, 0.930687427520752, 0.9111083745956421, 0.8996477723121643, 0.9480891227722168, 0.9321697950363159, 0.8902995586395264, 0.90657639503479, 0.9219105243682861, 0.9555284380912781, 0.898815929889679, 0.9194225072860718, 0.9035540223121643, 0.9463932514190674, 0.9362105131149292, 0.902920126914978, 0.9098211526870728, 0.9265066981315613, 0.8881131410598755, 0.8790581822395325, 0.9383565783500671, 0.9293429851531982, 0.9010224342346191, 0.90675950050354, 0.8569830656051636, 0.8343601226806641, 0.9313532114028931, 0.9010627865791321, 0.889487624168396, 0.9467885494232178, 0.9135509729385376, 0.9404979944229126, 0.9309114813804626, 0.9183235168457031, 0.9042001962661743, 0.9262876510620117, 0.8721936345100403, 0.9247984290122986, 0.9428277015686035, 0.9238916039466858, 0.9180939197540283, 0.9096355438232422, 0.9388186931610107, 0.8910509347915649, 0.9493057131767273, 0.8972904682159424, 0.9474278688430786, 0.9352998733520508, 0.9348840713500977, 0.9385886192321777, 0.9417722225189209, 0.933151364326477, 0.9266101717948914, 0.8979167938232422, 0.9546319246292114, 0.9246132969856262, 0.9190887212753296, 0.8948569297790527, 0.9011154174804688, 0.9134120941162109, 0.9349583387374878, 0.8931875824928284, 0.9136154651641846, 0.9488447308540344, 0.9424784183502197, 0.9153164029121399, 0.9061169028282166, 0.9383329749107361, 0.9378467798233032, 0.9002383947372437, 0.9278820753097534, 0.9578021168708801, 0.9208943843841553, 0.9126362800598145, 0.9043590426445007, 0.9070972204208374, 0.9659910202026367, 0.9449145197868347, 0.9568040370941162, 0.9138196706771851, 0.9471738934516907, 0.9336950778961182, 0.936614453792572, 0.9322130084037781, 0.9133529663085938, 0.8934693932533264, 0.8985289335250854, 0.9224263429641724, 0.8853244781494141, 0.9242804050445557, 0.9276115894317627, 0.9144071340560913, 0.9441974759101868, 0.885962724685669, 0.9453150033950806, 0.9321033954620361, 0.9067623615264893, 0.9542019367218018, 0.935908317565918, 0.9227950572967529, 0.9199637174606323, 0.9030169248580933, 0.9229627847671509, 0.9293882846832275, 0.9034178256988525, 0.942226767539978, 0.9599483609199524, 0.9079024195671082, 0.9257872104644775, 0.9320635795593262, 0.9367063641548157, 0.9394297003746033, 0.8905175924301147, 0.9526000022888184, 0.9011227488517761, 0.9326601028442383, 0.9237539768218994, 0.938805103302002, 0.9252896308898926, 0.9393622875213623, 0.8889822363853455, 0.9520955085754395, 0.9244229793548584, 0.8944897651672363, 0.9325206279754639, 0.9090466499328613, 0.8952946662902832, 0.8841038346290588, 0.9195364713668823, 0.909841775894165, 0.9379408359527588, 0.9297200441360474, 0.8933009505271912, 0.9508601427078247, 0.9389105439186096, 0.9254862070083618, 0.9545966386795044, 0.9204447269439697, 0.938836932182312, 0.8987234234809875, 0.9523418545722961, 0.901452362537384, 0.9227868318557739, 0.9057513475418091, 0.9433112740516663, 0.9545927047729492, 0.9072735905647278, 0.903644323348999, 0.9354133605957031, 0.9486269950866699, 0.9434397220611572, 0.8941063284873962, 0.9087756872177124, 0.9391545057296753, 0.9333657026290894, 0.9293217658996582, 0.9341161251068115, 0.9336398243904114, 0.9141082763671875, 0.9310082197189331, 0.944220244884491, 0.895565390586853, 0.9227677583694458, 0.9211701154708862, 0.9285925030708313, 0.9375280141830444, 0.9107613563537598, 0.9362106919288635, 0.9027606248855591, 0.9369074106216431, 0.9317159652709961, 0.9173600077629089, 0.9194974303245544, 0.9178656935691833, 0.9284088015556335, 0.9108558893203735, 0.94362872838974, 0.913753867149353, 0.9664118885993958, 0.9028469920158386, 0.9653509855270386, 0.9247345328330994, 0.9376392364501953, 0.9266252517700195, 0.9615554213523865, 0.9587336778640747, 0.9056501388549805, 0.9451313614845276, 0.914726972579956, 0.9015361070632935, 0.9294008612632751, 0.9484704732894897, 0.9320796728134155, 0.9334883689880371, 0.9171995520591736, 0.9281681776046753, 0.9238914251327515, 0.9496974349021912, 0.9153165221214294, 0.937885046005249, 0.9452091455459595], 'f1': [0.8673831820487976, 0.8980834484100342, 0.8922122716903687, 0.879015326499939, 0.9003599882125854, 0.903113842010498, 0.9003514051437378, 0.8879209756851196, 0.8950567841529846, 0.9251516461372375, 0.9156466722488403, 0.9219380617141724, 0.9156323671340942, 0.9072508215904236, 0.8946394920349121, 0.9065830111503601, 0.9170348644256592, 0.9144227504730225, 0.8772237300872803, 0.9207712411880493, 0.912775456905365, 0.8928945660591125, 0.9339450001716614, 0.926527202129364, 0.9495049715042114, 0.8775777816772461, 0.851787805557251, 0.919209897518158, 0.9185411334037781, 0.9171462655067444, 0.8815494179725647, 0.8785068392753601, 0.8931501507759094, 0.9206163883209229, 0.9360572099685669, 0.8805450201034546, 0.9038819074630737, 0.8766170144081116, 0.8819223046302795, 0.9232969284057617, 0.8856030106544495, 0.882077157497406, 0.9040148854255676, 0.8853134512901306, 0.9044950008392334, 0.9084188342094421, 0.9014377593994141, 0.8858341574668884, 0.8967522382736206, 0.8791213035583496, 0.8961731791496277, 0.8987127542495728, 0.9240586757659912, 0.900715172290802, 0.8768967390060425, 0.9431262016296387, 0.8873149752616882, 0.8926776051521301, 0.9317638874053955, 0.9160250425338745, 0.8881912231445312, 0.8691480159759521, 0.8957372903823853, 0.9556317925453186, 0.8827983140945435, 0.9190762042999268, 0.8803110718727112, 0.9104335904121399, 0.8987288475036621, 0.9253140091896057, 0.9386462569236755, 0.9211246967315674, 0.8754684329032898, 0.9036582708358765, 0.8798885941505432, 0.8981567621231079, 0.8901402950286865, 0.9092131853103638, 0.9050148129463196, 0.8977261185646057, 0.917041003704071, 0.9115350246429443, 0.9570572972297668, 0.8974611163139343, 0.8997366428375244, 0.8914823532104492, 0.912800133228302, 0.8886350393295288, 0.8875687718391418, 0.8991338610649109, 0.8744054436683655, 0.8879931569099426, 0.9062602519989014, 0.8932691216468811, 0.9225874543190002, 0.936154305934906, 0.9085326194763184, 0.8681821823120117, 0.8745318055152893, 0.897279679775238, 0.9121019840240479, 0.9076560139656067, 0.8836042881011963, 0.9036875367164612, 0.9186365604400635, 0.9129027724266052, 0.9037148952484131, 0.8721157908439636, 0.8769610524177551, 0.9390383362770081, 0.9197736382484436, 0.8906316161155701, 0.8914708495140076, 0.8906725645065308, 0.8932825326919556, 0.908916175365448, 0.9227017760276794, 0.8857284784317017, 0.9077050685882568, 0.9357567429542542, 0.9102939367294312, 0.888884961605072, 0.8629502654075623, 0.8892229795455933, 0.903296172618866, 0.909815788269043, 0.8971580862998962, 0.9057084918022156, 0.8850903511047363, 0.9110966920852661, 0.8995290398597717, 0.9138926267623901, 0.8732101321220398, 0.9151682257652283, 0.9056751132011414, 0.9018944501876831, 0.9173540472984314, 0.8875070810317993, 0.9034075140953064, 0.9444038271903992, 0.8875633478164673, 0.9079184532165527, 0.8951194286346436, 0.9377489686012268, 0.926705002784729, 0.9065937995910645, 0.950776994228363, 0.917908787727356, 0.8980124592781067, 0.9165995717048645, 0.8926470279693604, 0.9203042387962341, 0.8952600359916687, 0.9119533896446228, 0.916205883026123, 0.912255048751831, 0.908886194229126, 0.8985372185707092, 0.9156676530838013, 0.8824775218963623, 0.8871350884437561, 0.9039258360862732, 0.8943237662315369, 0.87296062707901, 0.8896926045417786, 0.9129957556724548, 0.8940283060073853, 0.9054569602012634, 0.9275135397911072, 0.8673367500305176, 0.9388143420219421, 0.93764728307724, 0.8901275992393494, 0.903785228729248, 0.8944388628005981, 0.8732247948646545, 0.8866329193115234, 0.8559586405754089, 0.8963675498962402, 0.9223631024360657, 0.9162572026252747, 0.9108278155326843, 0.8768954277038574, 0.9140958189964294, 0.9297476410865784, 0.8887766003608704, 0.8989388942718506, 0.9164687991142273, 0.8967024087905884, 0.9081219434738159, 0.9007574915885925, 0.9053394794464111, 0.9308946132659912, 0.8991686701774597, 0.8919284343719482, 0.849411129951477, 0.8972222208976746, 0.8663988709449768, 0.9115013480186462, 0.8767133355140686, 0.9121137261390686, 0.92162024974823, 0.8827862739562988, 0.9149672389030457, 0.9190373420715332, 0.8937751650810242, 0.9242046475410461, 0.9007769227027893, 0.9092638492584229, 0.8746023178100586, 0.9044488668441772, 0.8795403242111206, 0.8856132626533508, 0.9115944504737854, 0.9241841435432434, 0.8601660132408142, 0.8823239803314209, 0.9062076210975647, 0.8974603414535522, 0.9240275621414185, 0.927081823348999, 0.9126701951026917, 0.8793041706085205, 0.927548348903656, 0.9195057153701782, 0.9104639887809753, 0.8504096865653992, 0.9185819029808044, 0.9239364266395569, 0.9062826633453369, 0.8962754011154175, 0.8963506817817688, 0.8882745504379272, 0.9068903923034668, 0.8899352550506592, 0.9176251888275146, 0.8900680541992188, 0.9555604457855225, 0.9327623844146729, 0.8846511840820312, 0.9398524165153503, 0.8804996609687805, 0.9256645441055298, 0.9216557741165161, 0.8921738862991333, 0.8963234424591064, 0.8969346880912781, 0.9187108278274536, 0.9053489565849304, 0.8953555822372437, 0.8957162499427795, 0.9029501676559448, 0.9285172820091248, 0.9230984449386597, 0.930268406867981, 0.9183439016342163, 0.9226764440536499, 0.880745530128479, 0.8782799243927002, 0.9195272326469421, 0.9298561811447144, 0.8914758563041687, 0.9070764183998108, 0.9302705526351929, 0.8977586627006531, 0.9130677580833435, 0.9055612683296204, 0.9128413796424866, 0.9153187870979309, 0.8988579511642456, 0.8927134871482849, 0.8994301557540894, 0.9130385518074036, 0.9156505465507507, 0.9379216432571411, 0.8868156671524048, 0.8823348879814148, 0.9386849999427795, 0.8684794902801514, 0.9406114816665649, 0.9043906331062317, 0.8914949297904968, 0.9257920980453491, 0.8809297680854797, 0.9255006313323975, 0.9163113236427307, 0.9086860418319702, 0.9058800935745239, 0.8900060653686523, 0.9132073521614075, 0.8944106698036194, 0.9072612524032593, 0.8893982768058777, 0.9076992869377136, 0.912590742111206, 0.888688862323761, 0.9211769104003906, 0.9089184403419495, 0.8999257683753967, 0.8682019114494324, 0.8681475520133972, 0.8803446888923645, 0.9011549353599548, 0.9079525470733643, 0.9259301424026489, 0.9354602694511414, 0.9135714173316956, 0.8928451538085938, 0.9123362302780151, 0.9088665843009949, 0.9043954014778137, 0.8783929944038391, 0.8909443020820618, 0.9403393268585205, 0.9303038716316223, 0.8969032168388367, 0.8920618891716003, 0.8949188590049744, 0.8751388788223267, 0.8492057919502258, 0.9312927722930908, 0.8866816759109497, 0.903768002986908, 0.8855957388877869, 0.8899808526039124, 0.8955382704734802, 0.8970317244529724, 0.9230359196662903, 0.8763056397438049, 0.9327347278594971, 0.9281144142150879, 0.8624926805496216, 0.8978853225708008, 0.8889192342758179, 0.9129014611244202, 0.8931418061256409, 0.9303073287010193, 0.9134854674339294, 0.9062406420707703, 0.9394400715827942, 0.8852360248565674, 0.9093678593635559, 0.8904983997344971, 0.8762640357017517, 0.9152354001998901, 0.8934671878814697, 0.9008541703224182, 0.9068896174430847, 0.8840907216072083, 0.8877124190330505, 0.8698548674583435, 0.9160371422767639, 0.9193955659866333, 0.9036055207252502, 0.8948952555656433, 0.8845425844192505, 0.8854135274887085, 0.8944434523582458, 0.9175487756729126, 0.8924270272254944, 0.9131248593330383, 0.902178168296814, 0.8715386986732483, 0.8942236304283142, 0.8884434103965759, 0.8966244459152222, 0.8973535895347595, 0.8917551636695862, 0.8834041953086853, 0.8595166206359863, 0.910727858543396, 0.8902620673179626, 0.9075948596000671, 0.9044181704521179, 0.9014896750450134, 0.8730171918869019, 0.9575170278549194, 0.895584225654602, 0.9225190877914429, 0.8774533867835999, 0.8997407555580139, 0.8768770694732666, 0.9142209887504578, 0.9109201431274414, 0.9009758234024048, 0.8998368382453918, 0.9154223799705505, 0.894990086555481, 0.9144659042358398, 0.8935112953186035, 0.8939486742019653, 0.9055731296539307, 0.9000339508056641, 0.8662338852882385, 0.9335387945175171, 0.910099446773529, 0.8868909478187561, 0.9640146493911743, 0.9229432344436646, 0.8834337592124939, 0.8925968408584595, 0.9001777172088623, 0.8946191072463989, 0.8951103687286377, 0.9220043420791626, 0.9190123081207275, 0.9005687832832336, 0.8949114680290222, 0.8823919296264648, 0.8719567060470581, 0.9169654846191406, 0.9057698249816895, 0.8944200873374939, 0.8998280763626099, 0.9002399444580078, 0.9170669317245483, 0.9087545275688171, 0.8829286694526672, 0.9036721587181091, 0.8683671355247498, 0.8854679465293884, 0.8751565217971802, 0.913227915763855, 0.9406833648681641, 0.8863129615783691, 0.8880981206893921, 0.9275900721549988, 0.8942897915840149, 0.8985946178436279, 0.9234007596969604, 0.8903807997703552, 0.8996526002883911, 0.892816424369812, 0.9100256562232971, 0.9201745986938477, 0.8474201560020447, 0.9060925245285034, 0.9053665995597839, 0.8877290487289429, 0.9086724519729614, 0.8758038282394409, 0.9106813669204712, 0.8925553560256958, 0.9032852053642273, 0.8755154013633728, 0.90093994140625, 0.897702693939209, 0.9217658638954163, 0.8860223293304443, 0.9074515700340271, 0.9351692199707031, 0.8827406167984009, 0.8946027159690857, 0.8917676210403442, 0.8874490857124329, 0.8829809427261353, 0.9126051068305969, 0.9237964749336243, 0.9281131625175476, 0.8931167125701904, 0.9179667830467224, 0.931779146194458, 0.8889893889427185, 0.8966988921165466, 0.9111877679824829, 0.9120438694953918, 0.8833277821540833, 0.88331538438797, 0.9259212613105774, 0.9377971887588501, 0.9050809741020203, 0.8915224671363831, 0.8911009430885315, 0.8974458575248718, 0.9172555208206177, 0.8966084718704224, 0.9032151699066162, 0.8773173689842224, 0.9174908995628357, 0.9067917466163635, 0.8954422473907471, 0.9485045075416565, 0.9045410752296448, 0.8828802704811096, 0.8978461027145386, 0.9283180832862854, 0.8791629672050476, 0.8779807090759277, 0.9058883190155029, 0.9187994003295898, 0.862261176109314, 0.9159457087516785, 0.9112385511398315, 0.9046592116355896, 0.9141977429389954, 0.9107946753501892, 0.8723611235618591, 0.8893945813179016, 0.8874408602714539, 0.9007174372673035, 0.9298382997512817, 0.9132911562919617, 0.9209180474281311, 0.920921802520752, 0.9035248756408691, 0.8977343440055847, 0.94175785779953, 0.8740850687026978, 0.9068432450294495, 0.9231711626052856, 0.8782069087028503, 0.8957915902137756, 0.8990720510482788, 0.9159616827964783, 0.9075344204902649, 0.9133037328720093, 0.9076220989227295, 0.8877911567687988, 0.929254412651062, 0.905089259147644, 0.862505316734314, 0.8791016936302185, 0.8948473930358887, 0.9411818981170654, 0.8880170583724976, 0.9016621708869934, 0.852300226688385, 0.9028216004371643, 0.9047551155090332, 0.9118282794952393, 0.9101027846336365, 0.9049267172813416, 0.8945735692977905, 0.9175840616226196, 0.9275128245353699, 0.8884601593017578, 0.9313442707061768, 0.909037709236145, 0.8716303110122681, 0.9162324070930481, 0.884400486946106, 0.9158582091331482, 0.9037256240844727, 0.9139954447746277, 0.8787267804145813, 0.9271724820137024, 0.8618152141571045, 0.86784428358078, 0.8916869163513184, 0.8892908096313477, 0.887293815612793, 0.8940826654434204, 0.9303014278411865, 0.8752734661102295, 0.9018570780754089, 0.8832272291183472, 0.8987782001495361, 0.8927779197692871, 0.9150038957595825, 0.8959101438522339, 0.9275650382041931, 0.8748679161071777, 0.906124472618103, 0.9302440285682678, 0.8625199794769287, 0.8849722146987915, 0.8824543952941895, 0.8866034150123596, 0.8958930373191833, 0.9062091708183289, 0.9076541066169739, 0.8788502812385559, 0.9040006995201111, 0.9354610443115234, 0.9200007915496826, 0.9080871939659119, 0.9015884399414062, 0.8876379132270813, 0.9048596024513245, 0.9025665521621704, 0.9147362112998962, 0.9019299149513245, 0.9267736077308655, 0.9496235251426697, 0.8783478140830994, 0.9179470539093018, 0.9286420345306396, 0.9278920888900757, 0.8913190364837646, 0.9329231977462769, 0.924827516078949, 0.9423016905784607, 0.8921236991882324, 0.9052723050117493, 0.8907943367958069, 0.8991057872772217, 0.9305897355079651, 0.9134358167648315, 0.8818327784538269, 0.8601765036582947, 0.9331004619598389, 0.9024054408073425, 0.9154558777809143, 0.9080929160118103, 0.9271649718284607, 0.8998675346374512, 0.909430205821991, 0.8945525288581848, 0.883694052696228, 0.8759437203407288, 0.9039679765701294, 0.8897650241851807, 0.8951751589775085, 0.9064210653305054, 0.8965501189231873, 0.8997611403465271, 0.8940684795379639, 0.9235472083091736, 0.8814981579780579, 0.9142917990684509, 0.8800477385520935, 0.8970032334327698, 0.9339169859886169, 0.8977159261703491, 0.8852267265319824, 0.891562283039093, 0.9270861744880676, 0.9411076903343201, 0.8996530771255493, 0.8938268423080444, 0.8801258206367493, 0.9295747876167297, 0.8968352675437927, 0.883999228477478, 0.9153457283973694, 0.9194915890693665, 0.8896045684814453, 0.8663046360015869, 0.9152773022651672, 0.8920457363128662, 0.8805128931999207, 0.8810396194458008, 0.8494847416877747, 0.8402056097984314, 0.9211630821228027, 0.9038448929786682, 0.8768320679664612, 0.9120906591415405, 0.9113181233406067, 0.9146890640258789, 0.8794155120849609, 0.8931573033332825, 0.9053688049316406, 0.8966454267501831, 0.8685137629508972, 0.900187611579895, 0.9060567021369934, 0.8968221545219421, 0.904792308807373, 0.8844419121742249, 0.9069002866744995, 0.8786253333091736, 0.921326756477356, 0.8751474022865295, 0.9267144799232483, 0.9031253457069397, 0.9103468060493469, 0.9072477221488953, 0.9104416966438293, 0.902661919593811, 0.8844410181045532, 0.8804329037666321, 0.918813943862915, 0.9086507558822632, 0.9056820273399353, 0.875910222530365, 0.8899515271186829, 0.886510968208313, 0.9063330292701721, 0.8914269804954529, 0.9068620800971985, 0.902338445186615, 0.9219161868095398, 0.895692765712738, 0.880778431892395, 0.9095994234085083, 0.9147871136665344, 0.8962653875350952, 0.9000391960144043, 0.9279904961585999, 0.8913127779960632, 0.9006500244140625, 0.8910574913024902, 0.895158588886261, 0.9454353451728821, 0.9127965569496155, 0.884669840335846, 0.8987420797348022, 0.9160971641540527, 0.8964918851852417, 0.921055018901825, 0.9216781854629517, 0.9081465601921082, 0.872272253036499, 0.8785235285758972, 0.9035804271697998, 0.8762479424476624, 0.9014967083930969, 0.9049764275550842, 0.8798684477806091, 0.9169493317604065, 0.872606098651886, 0.926640510559082, 0.9039933681488037, 0.8935689330101013, 0.913784921169281, 0.8989554643630981, 0.894061803817749, 0.8959136605262756, 0.8839931488037109, 0.9040323495864868, 0.914228081703186, 0.8866330981254578, 0.9160890579223633, 0.9441929459571838, 0.8869130611419678, 0.9090684056282043, 0.905001163482666, 0.9374905228614807, 0.897079348564148, 0.86585932970047, 0.9000563025474548, 0.8815150260925293, 0.8964038491249084, 0.9102889895439148, 0.9371695518493652, 0.882289707660675, 0.901477575302124, 0.8831008672714233, 0.9142940044403076, 0.9021282196044922, 0.8904181122779846, 0.9107454419136047, 0.8964645266532898, 0.867753803730011, 0.8497884273529053, 0.8881597518920898, 0.9152153134346008, 0.9035770893096924, 0.9025992155075073, 0.879497766494751, 0.8988215327262878, 0.8984541296958923, 0.9141992926597595, 0.9196790456771851, 0.8859050273895264, 0.8983163833618164, 0.8731773495674133, 0.9392980933189392, 0.888983428478241, 0.9180752038955688, 0.8962680101394653, 0.9148155450820923, 0.9042288661003113, 0.9018860459327698, 0.8963394165039062, 0.917606770992279, 0.9232571125030518, 0.9216369986534119, 0.8961175084114075, 0.8932360410690308, 0.901627242565155, 0.9046126008033752, 0.9081522822380066, 0.8808503150939941, 0.9114723205566406, 0.8904166221618652, 0.9056767225265503, 0.9067445397377014, 0.891902506351471, 0.8919707536697388, 0.8976295590400696, 0.8833038210868835, 0.9080883264541626, 0.9052683115005493, 0.9021117091178894, 0.8838899731636047, 0.9208277463912964, 0.8977154493331909, 0.8973539471626282, 0.9080801010131836, 0.8908872008323669, 0.901972770690918, 0.8996080756187439, 0.9361528158187866, 0.9043178558349609, 0.9502100348472595, 0.865839421749115, 0.9407650828361511, 0.9029311537742615, 0.9205362200737, 0.9084826707839966, 0.9368110299110413, 0.9288222789764404, 0.875609278678894, 0.9037396907806396, 0.8963318467140198, 0.8877046704292297, 0.8771724104881287, 0.9011008143424988, 0.8982688784599304, 0.9113107919692993, 0.9002725481987, 0.8872913718223572, 0.9180700778961182, 0.8944512605667114, 0.8806211948394775, 0.9039866328239441, 0.9305799603462219], 'hashcode': 'roberta-large_L17_no-idf_version=0.3.12(hug_trans=4.28.1)'}\n"
          ]
        }
      ]
    },
    {
      "cell_type": "code",
      "source": [
        "with open(\"/content/bertscore_all_samsum.json\", \"w\") as outfile:\n",
        "    json.dump(results_all_samsum, outfile)"
      ],
      "metadata": {
        "id": "cejl1dLdDbvP"
      },
      "execution_count": null,
      "outputs": []
    },
    {
      "cell_type": "code",
      "source": [
        "pd.DataFrame(results_all_samsum).describe()"
      ],
      "metadata": {
        "colab": {
          "base_uri": "https://localhost:8080/",
          "height": 300
        },
        "id": "XU5_0_7PDSnK",
        "outputId": "c096a5c2-81d2-4b9a-9adc-6031815b77a8"
      },
      "execution_count": null,
      "outputs": [
        {
          "output_type": "execute_result",
          "data": {
            "text/plain": [
              "        precision      recall          f1\n",
              "count  819.000000  819.000000  819.000000\n",
              "mean     0.881976    0.923330    0.902004\n",
              "std      0.024608    0.020759    0.019165\n",
              "min      0.814543    0.834360    0.840206\n",
              "25%      0.864352    0.908875    0.889396\n",
              "50%      0.881228    0.923892    0.901497\n",
              "75%      0.898492    0.937808    0.914577\n",
              "max      0.968500    0.970951    0.964015"
            ],
            "text/html": [
              "\n",
              "  <div id=\"df-c87a2d86-def9-437c-9b4b-cfc625615664\">\n",
              "    <div class=\"colab-df-container\">\n",
              "      <div>\n",
              "<style scoped>\n",
              "    .dataframe tbody tr th:only-of-type {\n",
              "        vertical-align: middle;\n",
              "    }\n",
              "\n",
              "    .dataframe tbody tr th {\n",
              "        vertical-align: top;\n",
              "    }\n",
              "\n",
              "    .dataframe thead th {\n",
              "        text-align: right;\n",
              "    }\n",
              "</style>\n",
              "<table border=\"1\" class=\"dataframe\">\n",
              "  <thead>\n",
              "    <tr style=\"text-align: right;\">\n",
              "      <th></th>\n",
              "      <th>precision</th>\n",
              "      <th>recall</th>\n",
              "      <th>f1</th>\n",
              "    </tr>\n",
              "  </thead>\n",
              "  <tbody>\n",
              "    <tr>\n",
              "      <th>count</th>\n",
              "      <td>819.000000</td>\n",
              "      <td>819.000000</td>\n",
              "      <td>819.000000</td>\n",
              "    </tr>\n",
              "    <tr>\n",
              "      <th>mean</th>\n",
              "      <td>0.881976</td>\n",
              "      <td>0.923330</td>\n",
              "      <td>0.902004</td>\n",
              "    </tr>\n",
              "    <tr>\n",
              "      <th>std</th>\n",
              "      <td>0.024608</td>\n",
              "      <td>0.020759</td>\n",
              "      <td>0.019165</td>\n",
              "    </tr>\n",
              "    <tr>\n",
              "      <th>min</th>\n",
              "      <td>0.814543</td>\n",
              "      <td>0.834360</td>\n",
              "      <td>0.840206</td>\n",
              "    </tr>\n",
              "    <tr>\n",
              "      <th>25%</th>\n",
              "      <td>0.864352</td>\n",
              "      <td>0.908875</td>\n",
              "      <td>0.889396</td>\n",
              "    </tr>\n",
              "    <tr>\n",
              "      <th>50%</th>\n",
              "      <td>0.881228</td>\n",
              "      <td>0.923892</td>\n",
              "      <td>0.901497</td>\n",
              "    </tr>\n",
              "    <tr>\n",
              "      <th>75%</th>\n",
              "      <td>0.898492</td>\n",
              "      <td>0.937808</td>\n",
              "      <td>0.914577</td>\n",
              "    </tr>\n",
              "    <tr>\n",
              "      <th>max</th>\n",
              "      <td>0.968500</td>\n",
              "      <td>0.970951</td>\n",
              "      <td>0.964015</td>\n",
              "    </tr>\n",
              "  </tbody>\n",
              "</table>\n",
              "</div>\n",
              "      <button class=\"colab-df-convert\" onclick=\"convertToInteractive('df-c87a2d86-def9-437c-9b4b-cfc625615664')\"\n",
              "              title=\"Convert this dataframe to an interactive table.\"\n",
              "              style=\"display:none;\">\n",
              "        \n",
              "  <svg xmlns=\"http://www.w3.org/2000/svg\" height=\"24px\"viewBox=\"0 0 24 24\"\n",
              "       width=\"24px\">\n",
              "    <path d=\"M0 0h24v24H0V0z\" fill=\"none\"/>\n",
              "    <path d=\"M18.56 5.44l.94 2.06.94-2.06 2.06-.94-2.06-.94-.94-2.06-.94 2.06-2.06.94zm-11 1L8.5 8.5l.94-2.06 2.06-.94-2.06-.94L8.5 2.5l-.94 2.06-2.06.94zm10 10l.94 2.06.94-2.06 2.06-.94-2.06-.94-.94-2.06-.94 2.06-2.06.94z\"/><path d=\"M17.41 7.96l-1.37-1.37c-.4-.4-.92-.59-1.43-.59-.52 0-1.04.2-1.43.59L10.3 9.45l-7.72 7.72c-.78.78-.78 2.05 0 2.83L4 21.41c.39.39.9.59 1.41.59.51 0 1.02-.2 1.41-.59l7.78-7.78 2.81-2.81c.8-.78.8-2.07 0-2.86zM5.41 20L4 18.59l7.72-7.72 1.47 1.35L5.41 20z\"/>\n",
              "  </svg>\n",
              "      </button>\n",
              "      \n",
              "  <style>\n",
              "    .colab-df-container {\n",
              "      display:flex;\n",
              "      flex-wrap:wrap;\n",
              "      gap: 12px;\n",
              "    }\n",
              "\n",
              "    .colab-df-convert {\n",
              "      background-color: #E8F0FE;\n",
              "      border: none;\n",
              "      border-radius: 50%;\n",
              "      cursor: pointer;\n",
              "      display: none;\n",
              "      fill: #1967D2;\n",
              "      height: 32px;\n",
              "      padding: 0 0 0 0;\n",
              "      width: 32px;\n",
              "    }\n",
              "\n",
              "    .colab-df-convert:hover {\n",
              "      background-color: #E2EBFA;\n",
              "      box-shadow: 0px 1px 2px rgba(60, 64, 67, 0.3), 0px 1px 3px 1px rgba(60, 64, 67, 0.15);\n",
              "      fill: #174EA6;\n",
              "    }\n",
              "\n",
              "    [theme=dark] .colab-df-convert {\n",
              "      background-color: #3B4455;\n",
              "      fill: #D2E3FC;\n",
              "    }\n",
              "\n",
              "    [theme=dark] .colab-df-convert:hover {\n",
              "      background-color: #434B5C;\n",
              "      box-shadow: 0px 1px 3px 1px rgba(0, 0, 0, 0.15);\n",
              "      filter: drop-shadow(0px 1px 2px rgba(0, 0, 0, 0.3));\n",
              "      fill: #FFFFFF;\n",
              "    }\n",
              "  </style>\n",
              "\n",
              "      <script>\n",
              "        const buttonEl =\n",
              "          document.querySelector('#df-c87a2d86-def9-437c-9b4b-cfc625615664 button.colab-df-convert');\n",
              "        buttonEl.style.display =\n",
              "          google.colab.kernel.accessAllowed ? 'block' : 'none';\n",
              "\n",
              "        async function convertToInteractive(key) {\n",
              "          const element = document.querySelector('#df-c87a2d86-def9-437c-9b4b-cfc625615664');\n",
              "          const dataTable =\n",
              "            await google.colab.kernel.invokeFunction('convertToInteractive',\n",
              "                                                     [key], {});\n",
              "          if (!dataTable) return;\n",
              "\n",
              "          const docLinkHtml = 'Like what you see? Visit the ' +\n",
              "            '<a target=\"_blank\" href=https://colab.research.google.com/notebooks/data_table.ipynb>data table notebook</a>'\n",
              "            + ' to learn more about interactive tables.';\n",
              "          element.innerHTML = '';\n",
              "          dataTable['output_type'] = 'display_data';\n",
              "          await google.colab.output.renderOutput(dataTable, element);\n",
              "          const docLink = document.createElement('div');\n",
              "          docLink.innerHTML = docLinkHtml;\n",
              "          element.appendChild(docLink);\n",
              "        }\n",
              "      </script>\n",
              "    </div>\n",
              "  </div>\n",
              "  "
            ]
          },
          "metadata": {},
          "execution_count": 140
        }
      ]
    },
    {
      "cell_type": "code",
      "source": [
        "predictions_half = outputs_half\n",
        "references = test_summary_list\n",
        "results_half = bertscore.compute(predictions=predictions_half, references=references, lang=\"en\")"
      ],
      "metadata": {
        "id": "EyHMw1ogGcf-"
      },
      "execution_count": null,
      "outputs": []
    },
    {
      "cell_type": "code",
      "source": [
        "print(results_half)"
      ],
      "metadata": {
        "colab": {
          "base_uri": "https://localhost:8080/"
        },
        "id": "E1Cv47KfGcjN",
        "outputId": "c64e2c34-ee85-4d66-de75-7d3377f6604b"
      },
      "execution_count": null,
      "outputs": [
        {
          "output_type": "stream",
          "name": "stdout",
          "text": [
            "{'precision': [0.8805841207504272, 0.8512194752693176, 0.8974968194961548, 0.8356216549873352, 0.8862998485565186, 0.8973331451416016, 0.898887038230896, 0.8557054996490479, 0.8952789902687073, 0.8955339193344116, 0.9015289545059204, 0.901426374912262, 0.8994163274765015, 0.8528918623924255, 0.8971614241600037, 0.8869397640228271, 0.8734956979751587, 0.8972720503807068, 0.8292332887649536, 0.9055600762367249, 0.8919569253921509, 0.893785834312439, 0.8695282340049744, 0.8791254162788391, 0.9317930340766907, 0.8740653991699219, 0.8429074287414551, 0.8870065212249756, 0.9133815765380859, 0.9221428036689758, 0.869624137878418, 0.8502002358436584, 0.8634780645370483, 0.8960505723953247, 0.9100989103317261, 0.8500052094459534, 0.8723288774490356, 0.8526060581207275, 0.8512500524520874, 0.8956254124641418, 0.8638017177581787, 0.840796172618866, 0.8927794694900513, 0.8610203266143799, 0.8822290301322937, 0.8588610291481018, 0.8936536312103271, 0.8649277687072754, 0.8334120512008667, 0.8451862335205078, 0.8803792595863342, 0.8528187274932861, 0.8821170926094055, 0.8754665851593018, 0.8791508078575134, 0.8979668617248535, 0.8579453825950623, 0.8086796402931213, 0.924719512462616, 0.8664230704307556, 0.8648695349693298, 0.860927939414978, 0.867735743522644, 0.9104015827178955, 0.8697587847709656, 0.8578367233276367, 0.8621566295623779, 0.9167835116386414, 0.8907678127288818, 0.8656659722328186, 0.885970950126648, 0.877478301525116, 0.8585658073425293, 0.881536602973938, 0.8499866127967834, 0.8496915102005005, 0.8627744913101196, 0.8858438730239868, 0.8804065585136414, 0.8700613379478455, 0.8815298080444336, 0.8793110847473145, 0.9115842580795288, 0.8821698427200317, 0.8762033581733704, 0.9076210260391235, 0.9247439503669739, 0.8610135316848755, 0.8917528390884399, 0.8819684982299805, 0.8306333422660828, 0.8763037919998169, 0.8779293298721313, 0.8624446392059326, 0.8844388723373413, 0.9012616276741028, 0.8802571296691895, 0.841636598110199, 0.8502315282821655, 0.8868535757064819, 0.9052625894546509, 0.8915964961051941, 0.816838800907135, 0.8752366304397583, 0.8744463920593262, 0.8980271220207214, 0.9013904333114624, 0.869972825050354, 0.8481245040893555, 0.8568916320800781, 0.8942489624023438, 0.8729203939437866, 0.8826990723609924, 0.8875213861465454, 0.8941707015037537, 0.8752350807189941, 0.8987522125244141, 0.8656663298606873, 0.8818318247795105, 0.9007616639137268, 0.8822208046913147, 0.8458966016769409, 0.8495910167694092, 0.8572477102279663, 0.877593457698822, 0.8809138536453247, 0.8681287169456482, 0.8768336772918701, 0.8630582094192505, 0.8678903579711914, 0.8602200746536255, 0.9169662594795227, 0.8401682376861572, 0.890506386756897, 0.9064662456512451, 0.8930720686912537, 0.8914648294448853, 0.8682969212532043, 0.8904135227203369, 0.9227222204208374, 0.8267755508422852, 0.8843028545379639, 0.8571197390556335, 0.909451961517334, 0.8824303150177002, 0.8742571473121643, 0.9416905045509338, 0.9167717695236206, 0.876745879650116, 0.898339033126831, 0.8491077423095703, 0.8976337313652039, 0.8798571825027466, 0.8721624612808228, 0.9020806550979614, 0.8998816013336182, 0.8783878087997437, 0.9086441993713379, 0.8678023815155029, 0.8408268094062805, 0.8339009284973145, 0.8617196679115295, 0.8749933242797852, 0.8445361852645874, 0.8754515647888184, 0.8840115070343018, 0.881332516670227, 0.8599154353141785, 0.9007693529129028, 0.8433048725128174, 0.8706669211387634, 0.928719699382782, 0.8562276363372803, 0.9059042930603027, 0.8856222629547119, 0.7663381099700928, 0.838054358959198, 0.8181683421134949, 0.8355578184127808, 0.9233704805374146, 0.8936626315116882, 0.8966343402862549, 0.8575552701950073, 0.8832314014434814, 0.883080005645752, 0.8510875701904297, 0.8714607954025269, 0.8869531154632568, 0.887773334980011, 0.8601737022399902, 0.887725830078125, 0.8826687335968018, 0.8927315473556519, 0.8896165490150452, 0.8908127546310425, 0.8536710143089294, 0.8865936994552612, 0.8607907891273499, 0.8723780512809753, 0.8317433595657349, 0.8646190166473389, 0.9063448905944824, 0.8975557088851929, 0.8714754581451416, 0.9081189036369324, 0.8743646144866943, 0.9219160676002502, 0.9160811901092529, 0.8965569734573364, 0.8509754538536072, 0.8925608396530151, 0.8346136808395386, 0.8647209405899048, 0.8515995740890503, 0.8797816634178162, 0.8387666940689087, 0.8640027642250061, 0.8989208340644836, 0.8677496910095215, 0.8943644165992737, 0.9336780309677124, 0.8707072734832764, 0.872232973575592, 0.9004063010215759, 0.8888834118843079, 0.872922956943512, 0.826316237449646, 0.9195932745933533, 0.8789010643959045, 0.8933252692222595, 0.8358210325241089, 0.8445181846618652, 0.8686056137084961, 0.8775408267974854, 0.8648744821548462, 0.8789716362953186, 0.8897344470024109, 0.8966020345687866, 0.9061914682388306, 0.8357461094856262, 0.9170722961425781, 0.8452604413032532, 0.8808398842811584, 0.9086933135986328, 0.8701983690261841, 0.8663454651832581, 0.8774601221084595, 0.9032119512557983, 0.8723233938217163, 0.8636792898178101, 0.8909897804260254, 0.8582774996757507, 0.9147691130638123, 0.878422200679779, 0.903351902961731, 0.8781588673591614, 0.9166352152824402, 0.8730524778366089, 0.8362398147583008, 0.8969230651855469, 0.8917989134788513, 0.8426237106323242, 0.9142717123031616, 0.913950502872467, 0.8835278749465942, 0.8793652057647705, 0.9058221578598022, 0.8755663633346558, 0.8874001502990723, 0.875260591506958, 0.8801300525665283, 0.8767106533050537, 0.8743093609809875, 0.8619758486747742, 0.8965787887573242, 0.8625063300132751, 0.8638249039649963, 0.9240388870239258, 0.8620918393135071, 0.9324916005134583, 0.8900634050369263, 0.880683958530426, 0.9252704977989197, 0.8522454500198364, 0.8991376161575317, 0.8795615434646606, 0.8781362771987915, 0.8882592916488647, 0.8391871452331543, 0.8906189799308777, 0.8520780801773071, 0.9086408615112305, 0.8740337491035461, 0.8781525492668152, 0.8836448192596436, 0.8419640064239502, 0.914420485496521, 0.8954410552978516, 0.8578188419342041, 0.8632007837295532, 0.8323445916175842, 0.8769546151161194, 0.9002065658569336, 0.8901239037513733, 0.8990000486373901, 0.8711134195327759, 0.8945338726043701, 0.8587618470191956, 0.8657025098800659, 0.8988247513771057, 0.8923686742782593, 0.8502441644668579, 0.8637562394142151, 0.9255822896957397, 0.8829008936882019, 0.8940346240997314, 0.8818521499633789, 0.861335277557373, 0.8394335508346558, 0.8180951476097107, 0.9132173657417297, 0.8885228037834167, 0.8662575483322144, 0.8687849640846252, 0.8714014887809753, 0.8684792518615723, 0.8598194718360901, 0.8809362649917603, 0.8194862008094788, 0.9116387367248535, 0.9337127208709717, 0.8276947736740112, 0.8499240279197693, 0.8674443960189819, 0.895352840423584, 0.8552370667457581, 0.9052817821502686, 0.907538890838623, 0.8688769340515137, 0.9265084266662598, 0.8598392009735107, 0.8605575561523438, 0.8820381164550781, 0.853402853012085, 0.9109376072883606, 0.8609610795974731, 0.8756245374679565, 0.854135274887085, 0.880084753036499, 0.8347065448760986, 0.8707477450370789, 0.8973554968833923, 0.8949757814407349, 0.9039009213447571, 0.8854251503944397, 0.865199625492096, 0.8355834484100342, 0.8827900886535645, 0.8886711597442627, 0.8896714448928833, 0.8916167616844177, 0.8828126788139343, 0.8509584665298462, 0.8710193037986755, 0.8344547748565674, 0.8731061220169067, 0.8645876049995422, 0.8653342723846436, 0.8922697305679321, 0.8229317665100098, 0.9082783460617065, 0.8680210709571838, 0.8854783773422241, 0.8716956377029419, 0.8828576803207397, 0.8785537481307983, 0.9038761854171753, 0.8873854279518127, 0.9049328565597534, 0.8092629909515381, 0.8830016851425171, 0.8300118446350098, 0.9135866165161133, 0.9104668498039246, 0.8573374152183533, 0.8650080561637878, 0.8974164724349976, 0.8693053722381592, 0.9105168581008911, 0.9233856797218323, 0.8928390741348267, 0.8558019399642944, 0.878131628036499, 0.832604169845581, 0.9216999411582947, 0.8941226005554199, 0.8638204336166382, 0.9524142146110535, 0.9062230587005615, 0.8793044686317444, 0.8729705214500427, 0.8606730699539185, 0.8700776696205139, 0.8654305934906006, 0.9266857504844666, 0.904087245464325, 0.8840718865394592, 0.8749043941497803, 0.824489176273346, 0.8535479307174683, 0.8615858554840088, 0.8931040167808533, 0.8436139822006226, 0.8946222066879272, 0.8908617496490479, 0.9120221138000488, 0.8960069417953491, 0.8518030643463135, 0.8647508025169373, 0.8794979453086853, 0.8521674871444702, 0.875665545463562, 0.8833308219909668, 0.8965933918952942, 0.8438189029693604, 0.8736486434936523, 0.9290099143981934, 0.8527001738548279, 0.8668272495269775, 0.9195816516876221, 0.8790918588638306, 0.8949934244155884, 0.8720456957817078, 0.8963102698326111, 0.9067757725715637, 0.8147145509719849, 0.8764021992683411, 0.8711279630661011, 0.872825562953949, 0.8856512308120728, 0.8537845611572266, 0.8796342015266418, 0.8951380848884583, 0.8647006154060364, 0.8567758798599243, 0.899639904499054, 0.9000073671340942, 0.8883925676345825, 0.8851809501647949, 0.8774707317352295, 0.9218376874923706, 0.8397014141082764, 0.8589876890182495, 0.852710485458374, 0.8691844940185547, 0.8736480474472046, 0.8932782411575317, 0.89310622215271, 0.9110960960388184, 0.8996017575263977, 0.8900145888328552, 0.9105740785598755, 0.8639891147613525, 0.8889626264572144, 0.9007824063301086, 0.8708176612854004, 0.8607568740844727, 0.8354148268699646, 0.9294490814208984, 0.9302753806114197, 0.8843075037002563, 0.8626661896705627, 0.8624618649482727, 0.8910446763038635, 0.8908089399337769, 0.8858794569969177, 0.9268506765365601, 0.884666919708252, 0.9208477139472961, 0.8854556679725647, 0.9017205834388733, 0.9071803092956543, 0.8807777166366577, 0.866318941116333, 0.861644446849823, 0.890022873878479, 0.8569537997245789, 0.850742518901825, 0.8769245147705078, 0.8569861650466919, 0.8013942241668701, 0.8854495882987976, 0.8893502950668335, 0.8859819173812866, 0.8967639207839966, 0.910597562789917, 0.8155643343925476, 0.8419967889785767, 0.8998645544052124, 0.8603348731994629, 0.8908317685127258, 0.9116705656051636, 0.917397677898407, 0.9033219218254089, 0.8510782718658447, 0.8665251135826111, 0.9066319465637207, 0.8480740785598755, 0.870503842830658, 0.896935760974884, 0.7795206904411316, 0.8420829772949219, 0.8815528154373169, 0.8175933361053467, 0.8678622245788574, 0.8873515129089355, 0.8638229966163635, 0.8456385731697083, 0.8961678743362427, 0.896037757396698, 0.8332790732383728, 0.8434188365936279, 0.8791114687919617, 0.9094390869140625, 0.858437180519104, 0.8658519387245178, 0.8385866284370422, 0.8651882410049438, 0.8302019834518433, 0.8831154704093933, 0.904738187789917, 0.9117896556854248, 0.8567197918891907, 0.859434962272644, 0.9123862981796265, 0.8485917448997498, 0.9127928018569946, 0.8723493218421936, 0.8451865911483765, 0.9008030891418457, 0.8871344327926636, 0.8727205395698547, 0.9081395268440247, 0.8925070762634277, 0.8514376878738403, 0.8999844193458557, 0.798549234867096, 0.8355642557144165, 0.8619110584259033, 0.8567079901695251, 0.8578228950500488, 0.8442871570587158, 0.9222086071968079, 0.7799800634384155, 0.9004467129707336, 0.8771472573280334, 0.846424400806427, 0.8510192632675171, 0.8876506090164185, 0.8518969416618347, 0.8934538960456848, 0.8405463099479675, 0.8991349339485168, 0.9052191376686096, 0.8566654324531555, 0.8705766797065735, 0.8336573243141174, 0.905413031578064, 0.8637312650680542, 0.8730584979057312, 0.8714950680732727, 0.8664863109588623, 0.9064435958862305, 0.905986487865448, 0.8877000212669373, 0.8745226860046387, 0.8767845630645752, 0.8597139716148376, 0.9078390002250671, 0.8358986377716064, 0.8905729651451111, 0.8586572408676147, 0.9025688171386719, 0.9386765956878662, 0.8579319715499878, 0.9024674892425537, 0.9189158082008362, 0.9091649055480957, 0.8796213865280151, 0.894931435585022, 0.9138929843902588, 0.9129257798194885, 0.8739122748374939, 0.9122302532196045, 0.8789876103401184, 0.8516622185707092, 0.8880279064178467, 0.8804007768630981, 0.854069709777832, 0.8338068723678589, 0.8961990475654602, 0.880756139755249, 0.9008351564407349, 0.8450847268104553, 0.8916393518447876, 0.9118009805679321, 0.8882655501365662, 0.8736882209777832, 0.8663920164108276, 0.865536093711853, 0.9036919474601746, 0.8781879544258118, 0.8727322816848755, 0.8851723670959473, 0.8733059167861938, 0.8765561580657959, 0.8707811832427979, 0.9397299289703369, 0.8657262921333313, 0.9015156626701355, 0.8393039703369141, 0.8929497003555298, 0.9274065494537354, 0.8535783290863037, 0.8888689875602722, 0.8394679427146912, 0.9290461540222168, 0.8838549852371216, 0.8770882487297058, 0.8875276446342468, 0.8474413752555847, 0.8931012153625488, 0.8789501190185547, 0.8814898729324341, 0.9117133021354675, 0.9062197804450989, 0.9040713310241699, 0.8482957482337952, 0.8791942596435547, 0.8377422094345093, 0.8770046830177307, 0.8569527864456177, 0.8533322811126709, 0.8779608011245728, 0.9121132493019104, 0.9067178964614868, 0.8602420091629028, 0.8844879865646362, 0.8997277021408081, 0.8914180994033813, 0.8232418298721313, 0.8821266889572144, 0.8924336433410645, 0.8775577545166016, 0.8572956323623657, 0.8753754496574402, 0.8850984573364258, 0.8836438655853271, 0.9023386836051941, 0.8634487986564636, 0.8687766790390015, 0.8522726893424988, 0.8798891305923462, 0.8446527719497681, 0.9028555154800415, 0.8529579639434814, 0.8748089075088501, 0.8703239560127258, 0.8864086270332336, 0.8614749312400818, 0.8442003130912781, 0.8555548191070557, 0.8719290494918823, 0.8613748550415039, 0.8908841609954834, 0.8519793152809143, 0.8914334774017334, 0.854066014289856, 0.8939969539642334, 0.88515704870224, 0.8655100464820862, 0.8492785096168518, 0.9046908020973206, 0.8733469843864441, 0.8481326103210449, 0.8823429942131042, 0.8748847842216492, 0.8949368000030518, 0.8655502796173096, 0.8846590518951416, 0.8554811477661133, 0.8758017420768738, 0.8721836805343628, 0.8775269389152527, 0.9087983965873718, 0.8702290654182434, 0.8246758580207825, 0.8891215324401855, 0.8848428130149841, 0.8660575151443481, 0.8985798358917236, 0.8925635814666748, 0.8852906227111816, 0.8556049466133118, 0.8731679320335388, 0.8779260516166687, 0.8645083904266357, 0.8847202658653259, 0.8700727224349976, 0.8419302701950073, 0.8446973562240601, 0.8531631231307983, 0.8844742774963379, 0.8694803714752197, 0.8612711429595947, 0.8783925771713257, 0.8581601977348328, 0.8719002604484558, 0.8727114200592041, 0.8610018491744995, 0.8917360305786133, 0.8559569120407104, 0.8453742265701294, 0.8733910322189331, 0.8953606486320496, 0.8642274141311646, 0.902577817440033, 0.8774527907371521, 0.9030103087425232, 0.8563283085823059, 0.8559091091156006, 0.8471185564994812, 0.8523983359336853, 0.8573989868164062, 0.8927564024925232, 0.9471592903137207, 0.8411192297935486, 0.8629374504089355, 0.8847646713256836, 0.8700180649757385, 0.8956572413444519, 0.8871821165084839, 0.8877411484718323, 0.8645321130752563, 0.8327719569206238, 0.8144243359565735, 0.8500215411186218, 0.8768420815467834, 0.849364161491394, 0.8852264881134033, 0.886621356010437, 0.8542591333389282, 0.8605672121047974, 0.8576579093933105, 0.8897120952606201, 0.8680429458618164, 0.8491383194923401, 0.8484413623809814, 0.9297620058059692, 0.8861310482025146, 0.9071769118309021, 0.9057540893554688, 0.8786900043487549, 0.8414414525032043, 0.8902732133865356, 0.8677725791931152, 0.8886913061141968, 0.9062217473983765, 0.9178003072738647, 0.9066434502601624, 0.8801491856575012, 0.8317879438400269, 0.8887510299682617, 0.8732106685638428, 0.8225883841514587, 0.9048469662666321, 0.8596405982971191, 0.8777230381965637, 0.8717283010482788, 0.9164929389953613, 0.8495844602584839, 0.8911860585212708, 0.8419849872589111, 0.862357497215271, 0.9022055268287659, 0.8475613594055176, 0.862851619720459, 0.9319633841514587, 0.8275524377822876, 0.8847818970680237, 0.8850672841072083, 0.8656655550003052, 0.8819602727890015, 0.8950502872467041, 0.8901464939117432, 0.8704114556312561, 0.8959172368049622, 0.8428540825843811, 0.9066513180732727, 0.8698619604110718, 0.9003790616989136, 0.8613811135292053, 0.9077647924423218, 0.9032204151153564, 0.8605298399925232, 0.8671870231628418, 0.8717204928398132, 0.879364550113678, 0.8364149332046509, 0.8445103168487549, 0.8701860308647156, 0.8710051774978638, 0.8703752160072327, 0.8587404489517212, 0.8931729793548584, 0.8520134687423706, 0.843440592288971, 0.8641101717948914, 0.89548659324646], 'recall': [0.9316425323486328, 0.9295324683189392, 0.9217970371246338, 0.8848203420639038, 0.8911845684051514, 0.9095472097396851, 0.9255531430244446, 0.8945019841194153, 0.9158897399902344, 0.925686776638031, 0.9404113292694092, 0.9321045875549316, 0.9215242862701416, 0.9148439764976501, 0.9052249193191528, 0.9092363119125366, 0.9233964681625366, 0.9232311844825745, 0.8866853713989258, 0.9275962710380554, 0.9163827300071716, 0.9175773859024048, 0.9036118984222412, 0.9389654397964478, 0.9510420560836792, 0.9012025594711304, 0.8890273571014404, 0.9384176731109619, 0.9248236417770386, 0.9452039003372192, 0.9071609377861023, 0.9090745449066162, 0.9481689929962158, 0.9520420432090759, 0.9354431629180908, 0.9159554839134216, 0.9358466863632202, 0.9071227312088013, 0.9185031056404114, 0.9249754548072815, 0.8977771997451782, 0.8840883374214172, 0.9112212657928467, 0.9183707237243652, 0.9334878325462341, 0.9418929815292358, 0.9146231412887573, 0.9124025106430054, 0.9295374155044556, 0.8886967897415161, 0.9117844700813293, 0.9130159616470337, 0.9425135254859924, 0.9076314568519592, 0.9070170521736145, 0.9235081672668457, 0.9001775979995728, 0.9263849258422852, 0.9222582578659058, 0.9084984064102173, 0.9319298267364502, 0.8730767965316772, 0.9328456521034241, 0.9427991509437561, 0.8780313730239868, 0.9273952841758728, 0.909838080406189, 0.9121687412261963, 0.900657057762146, 0.9016887545585632, 0.946013331413269, 0.9624202251434326, 0.9017504453659058, 0.9188593626022339, 0.887315034866333, 0.9481308460235596, 0.8999096155166626, 0.912460207939148, 0.9219289422035217, 0.9172379970550537, 0.9501158595085144, 0.9368915557861328, 0.9446280598640442, 0.91450035572052, 0.9222228527069092, 0.9036614894866943, 0.933849573135376, 0.9043701887130737, 0.9162659049034119, 0.9436550140380859, 0.9246456027030945, 0.9274972677230835, 0.901060938835144, 0.9275792837142944, 0.910846471786499, 0.9342557787895203, 0.9336578249931335, 0.8814787268638611, 0.9086137413978577, 0.9114669561386108, 0.9368207454681396, 0.9578773379325867, 0.9084938764572144, 0.9367772340774536, 0.9358423948287964, 0.9231921434402466, 0.9229031801223755, 0.9041110873222351, 0.8790117502212524, 0.8648903369903564, 0.9387564659118652, 0.9251399636268616, 0.9195568561553955, 0.9372240304946899, 0.926487386226654, 0.9218294024467468, 0.924166738986969, 0.9341673851013184, 0.9255917072296143, 0.9319909811019897, 0.9360734224319458, 0.9009983539581299, 0.9164944887161255, 0.9244862794876099, 0.9482297897338867, 0.9464367628097534, 0.9271736145019531, 0.9217146039009094, 0.9011317491531372, 0.9377655982971191, 0.9151785969734192, 0.9169372320175171, 0.9089170694351196, 0.9347894191741943, 0.9305901527404785, 0.9335387945175171, 0.906865656375885, 0.9073703289031982, 0.9482701420783997, 0.9611642360687256, 0.932159423828125, 0.8925512433052063, 0.889917254447937, 0.9615962505340576, 0.956014096736908, 0.9220454692840576, 0.9613643884658813, 0.9230231642723083, 0.9487371444702148, 0.920825719833374, 0.9422957897186279, 0.9382342100143433, 0.932162880897522, 0.9120665192604065, 0.9211397171020508, 0.8833625316619873, 0.9444328546524048, 0.91954106092453, 0.9314242601394653, 0.9100320935249329, 0.9387461543083191, 0.9508364200592041, 0.9167540073394775, 0.8903813362121582, 0.9049806594848633, 0.9022021889686584, 0.9018259048461914, 0.902433454990387, 0.9427525997161865, 0.8733293414115906, 0.9161161184310913, 0.9279773831367493, 0.9244006872177124, 0.9177026152610779, 0.9235421419143677, 0.8957046270370483, 0.8901573419570923, 0.8663774132728577, 0.9022766351699829, 0.9375027418136597, 0.9424803853034973, 0.9249768257141113, 0.8813456892967224, 0.9284528493881226, 0.9536041021347046, 0.9015681147575378, 0.9413198232650757, 0.9074705839157104, 0.9252572655677795, 0.9575991034507751, 0.9073836207389832, 0.9178764820098877, 0.9496816396713257, 0.9022052884101868, 0.9048365354537964, 0.8782321214675903, 0.9125994443893433, 0.8963712453842163, 0.9534096121788025, 0.9248645901679993, 0.9302831888198853, 0.9458595514297485, 0.9187675714492798, 0.9285337924957275, 0.9021956920623779, 0.9119629859924316, 0.94404137134552, 0.9168261885643005, 0.9165205359458923, 0.9088912010192871, 0.9115323424339294, 0.8822372555732727, 0.9068140983581543, 0.9015554189682007, 0.9510716199874878, 0.891776978969574, 0.903118371963501, 0.9236920475959778, 0.910731852054596, 0.9441165328025818, 0.9650958180427551, 0.93028724193573, 0.9044635891914368, 0.9486212730407715, 0.9451196193695068, 0.940155029296875, 0.8834341764450073, 0.9438114762306213, 0.9558651447296143, 0.9167543649673462, 0.917070746421814, 0.9371463060379028, 0.8999522924423218, 0.9289569854736328, 0.9077128767967224, 0.9315704703330994, 0.9218482375144958, 0.9399775266647339, 0.9255162477493286, 0.9049741625785828, 0.9583205580711365, 0.8994621634483337, 0.9217740297317505, 0.9258547425270081, 0.9471228122711182, 0.9209173321723938, 0.9010019302368164, 0.9040379524230957, 0.940622091293335, 0.9351768493652344, 0.9261348247528076, 0.9432539939880371, 0.9465954303741455, 0.9168722629547119, 0.9279537200927734, 0.9292740821838379, 0.919377326965332, 0.8764361143112183, 0.9034572839736938, 0.9353423714637756, 0.9224433898925781, 0.942609429359436, 0.9267807006835938, 0.9396271705627441, 0.9180125594139099, 0.938237726688385, 0.9194298982620239, 0.9190771579742432, 0.9414811134338379, 0.9077906608581543, 0.9243770241737366, 0.9235427379608154, 0.9392399191856384, 0.9039372205734253, 0.9158604145050049, 0.909349799156189, 0.9074163436889648, 0.9502090811729431, 0.9290558695793152, 0.9412915706634521, 0.9227724075317383, 0.936578094959259, 0.92909836769104, 0.9044493436813354, 0.9377292394638062, 0.9084279537200928, 0.9031422734260559, 0.9027172923088074, 0.894863486289978, 0.9213371872901917, 0.9193218946456909, 0.9146100282669067, 0.892080545425415, 0.9100964665412903, 0.9227131605148315, 0.9313026070594788, 0.9214375615119934, 0.9201775789260864, 0.9151096343994141, 0.887464702129364, 0.9309077262878418, 0.9035798907279968, 0.8957643508911133, 0.9160264730453491, 0.935112476348877, 0.9418612122535706, 0.9305561184883118, 0.9359741806983948, 0.9026095271110535, 0.9217566251754761, 0.9228979349136353, 0.9098587036132812, 0.9361304044723511, 0.9458688497543335, 0.9505491256713867, 0.9209632277488708, 0.9119441509246826, 0.9306588172912598, 0.9009347558021545, 0.8685277104377747, 0.9444817304611206, 0.9262069463729858, 0.9111319184303284, 0.9086618423461914, 0.9085232615470886, 0.9047360420227051, 0.926085889339447, 0.9521980285644531, 0.906527042388916, 0.9310534596443176, 0.9427437782287598, 0.8733458518981934, 0.9104586839675903, 0.9040539860725403, 0.9287197589874268, 0.9248362183570862, 0.9459309577941895, 0.9329643249511719, 0.9345858693122864, 0.9541559815406799, 0.8870735168457031, 0.9053223729133606, 0.9022990465164185, 0.887386679649353, 0.9156652688980103, 0.8922257423400879, 0.9169592261314392, 0.9322754144668579, 0.9231879115104675, 0.8777040243148804, 0.8874015808105469, 0.9394840598106384, 0.9335667490959167, 0.938664436340332, 0.916068971157074, 0.9077470302581787, 0.9241994619369507, 0.9009411334991455, 0.9325093030929565, 0.9036250114440918, 0.9614617824554443, 0.9176218509674072, 0.881765604019165, 0.9434573650360107, 0.9263439178466797, 0.9226892590522766, 0.9334409236907959, 0.9277529120445251, 0.9063365459442139, 0.9196337461471558, 0.9168949127197266, 0.8907812833786011, 0.9248039126396179, 0.9387867450714111, 0.8946307301521301, 0.9424270987510681, 0.939245343208313, 0.9410760402679443, 0.9396474957466125, 0.9067201614379883, 0.9171944260597229, 0.9090240001678467, 0.934097170829773, 0.9348741173744202, 0.9057275652885437, 0.9464605450630188, 0.9476184248924255, 0.9026384949684143, 0.9231432676315308, 0.908495306968689, 0.9171719551086426, 0.9311171174049377, 0.9146332740783691, 0.8926805257797241, 0.9485951662063599, 0.9210923314094543, 0.9110449552536011, 0.9411633014678955, 0.9417349696159363, 0.8900762796401978, 0.9072663187980652, 0.9154305458068848, 0.9289299845695496, 0.949974775314331, 0.9433091878890991, 0.9253140687942505, 0.9197770953178406, 0.9176620841026306, 0.9312882423400879, 0.8930407166481018, 0.9473702311515808, 0.9106651544570923, 0.9411294460296631, 0.9058727622032166, 0.9435335397720337, 0.9127471446990967, 0.92982017993927, 0.9062138795852661, 0.9160057306289673, 0.9069578051567078, 0.907762885093689, 0.9015883803367615, 0.922850489616394, 0.9427194595336914, 0.8933383822441101, 0.907045841217041, 0.9438257217407227, 0.9207659363746643, 0.9169383645057678, 0.9204209446907043, 0.9152883887290955, 0.9008086323738098, 0.906428337097168, 0.9182368516921997, 0.952466607093811, 0.8807458877563477, 0.9276450872421265, 0.9303834438323975, 0.9186978936195374, 0.9054677486419678, 0.9235635995864868, 0.9491771459579468, 0.921449601650238, 0.9048271179199219, 0.9094647169113159, 0.905147135257721, 0.9090539813041687, 0.9278610944747925, 0.911504864692688, 0.9304991364479065, 0.9434384107589722, 0.9164283275604248, 0.9040060043334961, 0.9072830677032471, 0.9162157773971558, 0.9038709402084351, 0.9126502871513367, 0.9390342235565186, 0.9329115152359009, 0.9181423187255859, 0.9605753421783447, 0.9343472719192505, 0.9026644229888916, 0.9302881956100464, 0.9242868423461914, 0.9321998953819275, 0.9096254706382751, 0.8987875580787659, 0.9445576667785645, 0.9667066335678101, 0.9297163486480713, 0.9376475811004639, 0.8986011743545532, 0.9315061569213867, 0.9485466480255127, 0.9333305358886719, 0.9505534172058105, 0.9215631484985352, 0.9365785121917725, 0.9258251190185547, 0.89374840259552, 0.9408345222473145, 0.9317010641098022, 0.9035230875015259, 0.9036698937416077, 0.9197105169296265, 0.9058871269226074, 0.8867989182472229, 0.9189730286598206, 0.9208165407180786, 0.9012114405632019, 0.8926680088043213, 0.9224541783332825, 0.9193254709243774, 0.9339611530303955, 0.8954931497573853, 0.90919029712677, 0.9164257049560547, 0.8950764536857605, 0.8972625136375427, 0.9433421492576599, 0.9563741087913513, 0.9347310662269592, 0.9404523372650146, 0.912078857421875, 0.9596006274223328, 0.9192798733711243, 0.891657292842865, 0.9300262928009033, 0.9213828444480896, 0.921186089515686, 0.9420427083969116, 0.9309484362602234, 0.9266254305839539, 0.9197204113006592, 0.9134047031402588, 0.926485002040863, 0.913206934928894, 0.9502659440040588, 0.9062751531600952, 0.911963939666748, 0.8875168561935425, 0.9130024909973145, 0.9504740238189697, 0.9211684465408325, 0.8985154628753662, 0.8652732372283936, 0.9430285692214966, 0.9004939794540405, 0.9128950834274292, 0.9192728996276855, 0.8686434626579285, 0.9074977040290833, 0.9239200353622437, 0.9325934052467346, 0.9309144616127014, 0.9590424299240112, 0.9143333435058594, 0.8815299868583679, 0.9277877807617188, 0.8922291994094849, 0.9076618552207947, 0.9170339107513428, 0.930138885974884, 0.8957558274269104, 0.9285203218460083, 0.8873136043548584, 0.8826369047164917, 0.9199604392051697, 0.910214900970459, 0.9088976383209229, 0.9394931793212891, 0.935870885848999, 0.9139426946640015, 0.9048113822937012, 0.8944803476333618, 0.9546505212783813, 0.9056766629219055, 0.93868088722229, 0.9135905504226685, 0.9514143466949463, 0.9097951054573059, 0.9403047561645508, 0.9493780732154846, 0.8744147419929504, 0.9167482256889343, 0.934550404548645, 0.9171682000160217, 0.9357587099075317, 0.944770097732544, 0.924735426902771, 0.8991986513137817, 0.9222534894943237, 0.9415702223777771, 0.9238404035568237, 0.9319209456443787, 0.9414620995521545, 0.8919668197631836, 0.9248641133308411, 0.8912332653999329, 0.9360544085502625, 0.9440518617630005, 0.93745356798172, 0.9412896633148193, 0.8947332501411438, 0.9311190247535706, 0.9336792230606079, 0.9111974835395813, 0.89622962474823, 0.9156824946403503, 0.9283849596977234, 0.9188517332077026, 0.9193623065948486, 0.9202769994735718, 0.9065715670585632, 0.9404664039611816, 0.9400138258934021, 0.9379441738128662, 0.8957458734512329, 0.8856647610664368, 0.8970279693603516, 0.9421709775924683, 0.9381625652313232, 0.890119194984436, 0.9449601173400879, 0.9397304654121399, 0.8878756761550903, 0.9236611723899841, 0.9196667671203613, 0.9344412088394165, 0.9432087540626526, 0.8984154462814331, 0.89909428358078, 0.909991443157196, 0.9161623120307922, 0.91315758228302, 0.9369444847106934, 0.948090672492981, 0.9144582748413086, 0.9281693696975708, 0.9016909599304199, 0.911072850227356, 0.9390221834182739, 0.9077780246734619, 0.9160308241844177, 0.8942811489105225, 0.9251545667648315, 0.9288375377655029, 0.8717176914215088, 0.9446465373039246, 0.9015038013458252, 0.9346139430999756, 0.9637359380722046, 0.9394278526306152, 0.9181550741195679, 0.9291144609451294, 0.8926757574081421, 0.8760898113250732, 0.9249770641326904, 0.895047664642334, 0.9199179410934448, 0.9136303663253784, 0.8611248731613159, 0.9141430854797363, 0.929018497467041, 0.913952112197876, 0.885048508644104, 0.9333627820014954, 0.9115312099456787, 0.9407827854156494, 0.9219913482666016, 0.9311848878860474, 0.8966069221496582, 0.9368550777435303, 0.8666900396347046, 0.9354037642478943, 0.9308210611343384, 0.9496570229530334, 0.9289126396179199, 0.9218509197235107, 0.9370327591896057, 0.9014910459518433, 0.9301713705062866, 0.8851788640022278, 0.9348704218864441, 0.9200754761695862, 0.9332147240638733, 0.9301100373268127, 0.9351325035095215, 0.9254745244979858, 0.929577112197876, 0.8900876045227051, 0.9314817786216736, 0.9001350402832031, 0.9228510856628418, 0.8849750757217407, 0.9088868498802185, 0.9142094254493713, 0.9357825517654419, 0.8943911194801331, 0.8962729573249817, 0.918124258518219, 0.95665043592453, 0.9123398065567017, 0.8903588652610779, 0.9355789422988892, 0.9307353496551514, 0.9090263843536377, 0.9189063310623169, 0.933769941329956, 0.9461983442306519, 0.9164599180221558, 0.9080883264541626, 0.8989710807800293, 0.9479716420173645, 0.9401277303695679, 0.9459410309791565, 0.9349169731140137, 0.9280319213867188, 0.9395204782485962, 0.931713879108429, 0.9204853773117065, 0.8918310403823853, 0.8909262418746948, 0.9263625741004944, 0.9261885285377502, 0.8854824900627136, 0.9209327697753906, 0.8965667486190796, 0.9537107944488525, 0.8676461577415466, 0.8783135414123535, 0.9363271594047546, 0.9219638705253601, 0.911873996257782, 0.9587859511375427, 0.9321581125259399, 0.913266658782959, 0.9307328462600708, 0.9240249395370483, 0.9256054162979126, 0.9259580373764038, 0.9083825349807739, 0.9343671202659607, 0.9406675100326538, 0.9073118567466736, 0.922788143157959, 0.9353274703025818, 0.9156462550163269, 0.9242774248123169, 0.9065068364143372, 0.9459958076477051, 0.8956238031387329, 0.9426231980323792, 0.9130762815475464, 0.9518252611160278, 0.9305232167243958, 0.9387661814689636, 0.8943980932235718, 0.9349152445793152, 0.9365524053573608, 0.8963981866836548, 0.9297133684158325, 0.9074039459228516, 0.899502694606781, 0.8818659782409668, 0.9290235638618469, 0.8985117077827454, 0.9114997982978821, 0.9329783320426941, 0.9003959894180298, 0.9381194114685059, 0.9369826912879944, 0.8939038515090942, 0.952091634273529, 0.9291700124740601, 0.9203145503997803, 0.8883941769599915, 0.960625410079956, 0.9156208634376526, 0.9256089329719543, 0.949181318283081, 0.9416753053665161, 0.9165894985198975, 0.8961260914802551, 0.8840227723121643, 0.9367688894271851, 0.9608460664749146, 0.9514443278312683, 0.9090850353240967, 0.9252954721450806, 0.9293651580810547, 0.9344982504844666, 0.9334127902984619, 0.9116398096084595, 0.9440652132034302, 0.9125963449478149, 0.9102062582969666, 0.9284363985061646, 0.910491943359375, 0.906053364276886, 0.9223610162734985, 0.9374359846115112, 0.9115884304046631, 0.9130438566207886, 0.9603735208511353, 0.900957465171814, 0.9383357763290405, 0.9171534776687622, 0.9140298962593079, 0.9147560596466064, 0.9206558465957642, 0.940831184387207, 0.9214471578598022, 0.9365544319152832, 0.8893144130706787, 0.941067636013031, 0.9354846477508545, 0.9643286466598511, 0.924953281879425, 0.9406436085700989, 0.9400091171264648, 0.9539293050765991, 0.960249662399292, 0.9442349672317505, 0.9316422343254089, 0.9156005382537842, 0.9108624458312988, 0.9273898601531982, 0.927200436592102, 0.9163405895233154, 0.915455162525177, 0.9085540175437927, 0.9364116787910461, 0.9128059148788452, 0.9478018879890442, 0.9204297661781311, 0.9370408654212952, 0.9393715858459473], 'f1': [0.9053940773010254, 0.8886539936065674, 0.9094846248626709, 0.859517514705658, 0.8887354731559753, 0.9033989310264587, 0.9120251536369324, 0.8746737837791443, 0.90546715259552, 0.9103607535362244, 0.9205597639083862, 0.9165088534355164, 0.9103361368179321, 0.8827823400497437, 0.9011752009391785, 0.8979496359825134, 0.8977532386779785, 0.910066545009613, 0.8569974899291992, 0.9164457321166992, 0.9040049314498901, 0.9055253267288208, 0.8862424492835999, 0.908060610294342, 0.9413191676139832, 0.8874265551567078, 0.8653533458709717, 0.9119881391525269, 0.9190669655799866, 0.9335309267044067, 0.8879960179328918, 0.8786523342132568, 0.9038439989089966, 0.9231981635093689, 0.9225969910621643, 0.8817489147186279, 0.9029721617698669, 0.8790199160575867, 0.8835986852645874, 0.9100638628005981, 0.8804618120193481, 0.8618990182876587, 0.9019061326980591, 0.8887712955474854, 0.9071348905563354, 0.89846271276474, 0.9040167927742004, 0.8880311250686646, 0.8788541555404663, 0.8663955926895142, 0.8958066701889038, 0.8818913102149963, 0.9113157391548157, 0.891258955001831, 0.8928665518760681, 0.9105584025382996, 0.8785542845726013, 0.8635397553443909, 0.9234873056411743, 0.8869621157646179, 0.8971482515335083, 0.866959810256958, 0.8991134762763977, 0.9263172149658203, 0.8738755583763123, 0.8912608623504639, 0.8853558301925659, 0.9144703149795532, 0.8956851363182068, 0.8833102583885193, 0.9150081872940063, 0.9179884791374207, 0.8796284198760986, 0.8998111486434937, 0.8682498335838318, 0.8962161540985107, 0.8809508681297302, 0.8989550471305847, 0.900689423084259, 0.8930270075798035, 0.9145387411117554, 0.9071885347366333, 0.9278119802474976, 0.898044228553772, 0.8986243009567261, 0.9056369066238403, 0.9292744994163513, 0.8821594715118408, 0.9038432240486145, 0.9117696285247803, 0.8751218914985657, 0.9011740684509277, 0.8893447518348694, 0.8938269019126892, 0.8974484205245972, 0.917462170124054, 0.9061713814735413, 0.8610970377922058, 0.8784536719322205, 0.8989918231964111, 0.9207713603973389, 0.923549234867096, 0.8602317571640015, 0.904961884021759, 0.9041032791137695, 0.9104357957839966, 0.9120199680328369, 0.8867135047912598, 0.8632919788360596, 0.8608723878860474, 0.9159623980522156, 0.8982718586921692, 0.9007511138916016, 0.9116957783699036, 0.9100422263145447, 0.8979281187057495, 0.9112823605537415, 0.8986132740974426, 0.9031820297241211, 0.9161102175712585, 0.9083495736122131, 0.8725784420967102, 0.8817754983901978, 0.8895982503890991, 0.9115452170372009, 0.9125006198883057, 0.8966801762580872, 0.8987141847610474, 0.8816841244697571, 0.9014759659767151, 0.8868486285209656, 0.9169517159461975, 0.8731915354728699, 0.9121107459068298, 0.9183697700500488, 0.912857174873352, 0.8990992903709412, 0.8874037861824036, 0.9184315800666809, 0.9415510296821594, 0.8763105273246765, 0.8884079456329346, 0.8732106685638428, 0.9347975254058838, 0.9177495837211609, 0.8975156545639038, 0.9514257311820984, 0.9198868870735168, 0.9113218784332275, 0.9094434380531311, 0.8932779431343079, 0.9174850583076477, 0.905255138874054, 0.8916682600975037, 0.9115105867385864, 0.8915455341339111, 0.910213828086853, 0.914060115814209, 0.898488461971283, 0.8740617632865906, 0.8832229375839233, 0.904087245464325, 0.8953869938850403, 0.8668530583381653, 0.8899712562561035, 0.8930142521858215, 0.8914614915847778, 0.8806615471839905, 0.9212828874588013, 0.858054518699646, 0.892813503742218, 0.9283484220504761, 0.8890091180801392, 0.9117652773857117, 0.9041848182678223, 0.8259866833686829, 0.8633204698562622, 0.8415830731391907, 0.867636501789093, 0.9303829073905945, 0.9174225926399231, 0.9105850458145142, 0.8692877292633057, 0.9052777886390686, 0.9169880747795105, 0.8756008148193359, 0.9050442576408386, 0.8970945477485657, 0.9061278104782104, 0.9062755703926086, 0.8974471092224121, 0.8999283313751221, 0.9203264117240906, 0.8958666920661926, 0.8977698683738708, 0.8657774329185486, 0.8994086384773254, 0.8782207369804382, 0.9110956788063049, 0.875835657119751, 0.8962500095367432, 0.9256806969642639, 0.9080377817153931, 0.8991002440452576, 0.9051475524902344, 0.8927680850028992, 0.9328475594520569, 0.91645348072052, 0.906428873538971, 0.8789803385734558, 0.9019469022750854, 0.8577649593353271, 0.885267436504364, 0.8758657574653625, 0.9140387177467346, 0.8644599318504333, 0.8831276297569275, 0.911138117313385, 0.8887214064598083, 0.9185672998428345, 0.9491269588470459, 0.8995117545127869, 0.8880559206008911, 0.9238851070404053, 0.9161393046379089, 0.9052924513816833, 0.8539211750030518, 0.9315449595451355, 0.9157689213752747, 0.9048882126808167, 0.8745628595352173, 0.8884243965148926, 0.8840011358261108, 0.9025172591209412, 0.8857761025428772, 0.9045069813728333, 0.9055067300796509, 0.9177775979042053, 0.9157519340515137, 0.8689835667610168, 0.9372427463531494, 0.8715193867683411, 0.9008421301841736, 0.9171937704086304, 0.9070325493812561, 0.8927982449531555, 0.8890752196311951, 0.9036247134208679, 0.9051862359046936, 0.8980072140693665, 0.9082224369049072, 0.8987615704536438, 0.9304101467132568, 0.8972354531288147, 0.9154875874519348, 0.9029937386512756, 0.9180041551589966, 0.8747410774230957, 0.8685499429702759, 0.9157299399375916, 0.9068623185157776, 0.8898165822029114, 0.9204837083816528, 0.926611065864563, 0.9004402160644531, 0.907848060131073, 0.9125753045082092, 0.896794319152832, 0.9136410355567932, 0.8912289142608643, 0.901711106300354, 0.8995175361633301, 0.9056122899055481, 0.8824580311775208, 0.9061170220375061, 0.8853088617324829, 0.8850842118263245, 0.9369412064552307, 0.8943220376968384, 0.9368709325790405, 0.9061228036880493, 0.9077714085578918, 0.9271804690361023, 0.877571702003479, 0.9180280566215515, 0.8937616944313049, 0.8904637098312378, 0.8954299688339233, 0.8661314845085144, 0.9057177305221558, 0.8844236731529236, 0.9116156697273254, 0.8829649686813354, 0.8938391804695129, 0.9027565121650696, 0.8843829035758972, 0.9179155826568604, 0.907640814781189, 0.8855385780334473, 0.8751646280288696, 0.8788714408874512, 0.8900681734085083, 0.8979799747467041, 0.9028894305229187, 0.9167007803916931, 0.9051069021224976, 0.9121895432472229, 0.8957070708274841, 0.8837708830833435, 0.9101462364196777, 0.9073765873908997, 0.8790419101715088, 0.8984882235527039, 0.935615599155426, 0.9154769778251648, 0.9072991609573364, 0.8966457843780518, 0.8946561813354492, 0.8690974712371826, 0.842557430267334, 0.9285864233970642, 0.9069736003875732, 0.8881282806396484, 0.8882761001586914, 0.8895752429962158, 0.8862369656562805, 0.8917232751846313, 0.9151819944381714, 0.8608120083808899, 0.9212438464164734, 0.9382065534591675, 0.8499077558517456, 0.8791505694389343, 0.8853709101676941, 0.9117311239242554, 0.8886760473251343, 0.9251601099967957, 0.9200759530067444, 0.9005343914031982, 0.9401290416717529, 0.8732441067695618, 0.8823726177215576, 0.8920535445213318, 0.870063066482544, 0.913295328617096, 0.8763146996498108, 0.895815372467041, 0.8914963603019714, 0.9011211395263672, 0.8556655049324036, 0.8789957761764526, 0.9179366827011108, 0.9138640761375427, 0.9209547638893127, 0.900486409664154, 0.8859628438949585, 0.8776602745056152, 0.8917732834815979, 0.9100626111030579, 0.8965939879417419, 0.9252229928970337, 0.8998807668685913, 0.8660881519317627, 0.9057923555374146, 0.8780016899108887, 0.8972131609916687, 0.8976959586143494, 0.8954571485519409, 0.8992481827735901, 0.8685995936393738, 0.9125663042068481, 0.8792538642883301, 0.9047139883041382, 0.903998076915741, 0.8887051939964294, 0.9093702435493469, 0.9212213754653931, 0.9134424924850464, 0.9219635128974915, 0.8552241325378418, 0.8997732996940613, 0.8677229881286621, 0.9237280488014221, 0.9225090742111206, 0.8808683753013611, 0.903903067111969, 0.9218344688415527, 0.8856584429740906, 0.9167865514755249, 0.9158799648284912, 0.9048418998718262, 0.8918722867965698, 0.8960108757019043, 0.861596405506134, 0.9349541664123535, 0.9074071645736694, 0.886804461479187, 0.9467553496360779, 0.9236377477645874, 0.8846575021743774, 0.8897880911827087, 0.8872077465057373, 0.8985412120819092, 0.9057340621948242, 0.9349235892295837, 0.9145775437355042, 0.9015711545944214, 0.8957732319831848, 0.8746405839920044, 0.8728477954864502, 0.9024439454078674, 0.9017991423606873, 0.8897076845169067, 0.9002123475074768, 0.9164414405822754, 0.9123844504356384, 0.9126004576683044, 0.8781664371490479, 0.8896406888961792, 0.8930168151855469, 0.8790870308876038, 0.8884379267692566, 0.9026582837104797, 0.9190781116485596, 0.8678728342056274, 0.890034019947052, 0.936359167098999, 0.8854268789291382, 0.8911789655685425, 0.9200011491775513, 0.8968250751495361, 0.8978915810585022, 0.8889046311378479, 0.9071410894393921, 0.9290597438812256, 0.8464443683624268, 0.9012958407402039, 0.8997811675071716, 0.8951744437217712, 0.8954498767852783, 0.8873043060302734, 0.9130834341049194, 0.9081032872200012, 0.884308934211731, 0.8823344111442566, 0.9023851156234741, 0.904508113861084, 0.9076979756355286, 0.8981500864028931, 0.9032073020935059, 0.9325129985809326, 0.8763887882232666, 0.8809220790863037, 0.8791507482528687, 0.8920806646347046, 0.8885025978088379, 0.9028604030609131, 0.9154945611953735, 0.9218748211860657, 0.9087774753570557, 0.9239497184753418, 0.9223074913024902, 0.8829033970832825, 0.9091560244560242, 0.9123833179473877, 0.9004639387130737, 0.8845166563987732, 0.8659432530403137, 0.936942458152771, 0.9481412172317505, 0.9064435362815857, 0.8985954523086548, 0.8801606297492981, 0.9108262658119202, 0.9187716245651245, 0.9089861512184143, 0.9385524392127991, 0.9027382135391235, 0.9286465644836426, 0.9051905274391174, 0.897716760635376, 0.9237009882926941, 0.9055240154266357, 0.8845299482345581, 0.8821569085121155, 0.9046232104301453, 0.8807412981987, 0.8683966398239136, 0.8974565863609314, 0.8877555131912231, 0.8483768701553345, 0.8890441656112671, 0.90559983253479, 0.9023457765579224, 0.9149846434593201, 0.9029821753501892, 0.8598361611366272, 0.8776360750198364, 0.8974641561508179, 0.8784107565879822, 0.9163352847099304, 0.9334874749183655, 0.9259832501411438, 0.9215132594108582, 0.8805233240127563, 0.9106909036636353, 0.9129121899604797, 0.8693197965621948, 0.8992812037467957, 0.9089949131011963, 0.8444532155990601, 0.8892626166343689, 0.905577540397644, 0.8687015175819397, 0.8930391073226929, 0.9001896381378174, 0.8940573930740356, 0.8781248927116394, 0.9224243760108948, 0.9011274576187134, 0.8708477020263672, 0.8649061322212219, 0.8957365155220032, 0.9295039176940918, 0.8886971473693848, 0.8818813562393188, 0.8517209887504578, 0.9024329781532288, 0.8639205694198608, 0.8977583646774292, 0.9119476079940796, 0.8896937370300293, 0.8813779950141907, 0.8905116319656372, 0.922379195690155, 0.8878489136695862, 0.935346245765686, 0.8928481340408325, 0.8629758954048157, 0.9140962958335876, 0.8896745443344116, 0.8898482918739319, 0.9125650525093079, 0.910934567451477, 0.873034656047821, 0.9140297174453735, 0.8405946493148804, 0.8584557771682739, 0.8899901509284973, 0.8826512694358826, 0.8826220035552979, 0.8893494606018066, 0.9289895296096802, 0.84166419506073, 0.9026238322257996, 0.8857289552688599, 0.8972857594490051, 0.8774976134300232, 0.9124528169631958, 0.881665825843811, 0.9215236902236938, 0.8738008737564087, 0.9192591309547424, 0.9267728924751282, 0.8654491305351257, 0.8930661082267761, 0.8812254071235657, 0.9112526774406433, 0.8983034491539001, 0.9074998497962952, 0.8973261713981628, 0.8825394511222839, 0.9142801761627197, 0.9234356880187988, 0.9054097533226013, 0.9023098945617676, 0.9079729914665222, 0.875543475151062, 0.9162724614143372, 0.8626796007156372, 0.9127474427223206, 0.8993319869041443, 0.9196805357933044, 0.9399812817573547, 0.8759462237358093, 0.9165694713592529, 0.9262387156486511, 0.9101800322532654, 0.887847900390625, 0.9051880836486816, 0.9210819602012634, 0.9158791899681091, 0.8960613012313843, 0.9162359833717346, 0.8925665020942688, 0.893864095211029, 0.9132816791534424, 0.9082620143890381, 0.8744115233421326, 0.8589537739753723, 0.896613359451294, 0.910429060459137, 0.9191200733184814, 0.8670175075531006, 0.9175257086753845, 0.9255550503730774, 0.8880705833435059, 0.8979799151420593, 0.8922348618507385, 0.8986697793006897, 0.9230275750160217, 0.888186514377594, 0.8857172131538391, 0.8974102735519409, 0.8942208886146545, 0.8944825530052185, 0.9026520252227783, 0.9438918232917786, 0.8894252777099609, 0.9146484136581421, 0.8693796396255493, 0.9019202589988708, 0.9331782460212708, 0.8798443078994751, 0.9022455215454102, 0.8660081028938293, 0.9270963072776794, 0.9057881236076355, 0.8743946552276611, 0.9151967167854309, 0.8736370205879211, 0.9133861660957336, 0.919392466545105, 0.909537136554718, 0.9149228930473328, 0.9175242781639099, 0.8983373641967773, 0.8619688153266907, 0.9015047550201416, 0.8654473423957825, 0.8979488611221313, 0.8843843936920166, 0.8572108745574951, 0.895686686038971, 0.9204882979393005, 0.9103206396102905, 0.8724690079689026, 0.9082683324813843, 0.9055910110473633, 0.9154354333877563, 0.8698228001594543, 0.9059921503067017, 0.8945154547691345, 0.9062374830245972, 0.8619672060012817, 0.9043946266174316, 0.9073841571807861, 0.9154619574546814, 0.915432870388031, 0.8916946053504944, 0.9016147255897522, 0.876191258430481, 0.9043318033218384, 0.8644410967826843, 0.9185841083526611, 0.8852463960647583, 0.9030684232711792, 0.8992243409156799, 0.9101189374923706, 0.892328679561615, 0.8848339319229126, 0.8724796175956726, 0.9007221460342407, 0.8803284764289856, 0.9065858721733093, 0.8681637644767761, 0.9000755548477173, 0.8831148743629456, 0.9144126772880554, 0.8897501230239868, 0.880622923374176, 0.8823605179786682, 0.9299454092979431, 0.8924177289009094, 0.8687328696250916, 0.9081814885139465, 0.9019462466239929, 0.901926577091217, 0.8914306163787842, 0.9085513353347778, 0.8985558748245239, 0.89566969871521, 0.889773964881897, 0.8881195783615112, 0.9279717803001404, 0.9038289785385132, 0.8811559081077576, 0.9114444255828857, 0.9059228897094727, 0.901294469833374, 0.9148469567298889, 0.9063094854354858, 0.8885488510131836, 0.872908353805542, 0.8989790081977844, 0.9014117121696472, 0.874869704246521, 0.9024633765220642, 0.8831210732460022, 0.8943413496017456, 0.8560180068016052, 0.8655556440353394, 0.9096623659133911, 0.8949533104896545, 0.8858504891395569, 0.91683030128479, 0.8936299681663513, 0.8921042084693909, 0.9007887840270996, 0.8914008140563965, 0.9083551168441772, 0.8895825147628784, 0.875746488571167, 0.9028507471084595, 0.9174551367759705, 0.8852457404136658, 0.9125710725784302, 0.9054663181304932, 0.9092844128608704, 0.8890063762664795, 0.8804816603660583, 0.8938310146331787, 0.8734766244888306, 0.8979936242103577, 0.902802050113678, 0.9494865536689758, 0.8835654258728027, 0.8992561101913452, 0.8895552754402161, 0.9012999534606934, 0.9156484603881836, 0.8917663097381592, 0.9082425832748413, 0.8854494094848633, 0.8648520112037659, 0.8468045592308044, 0.8877683877944946, 0.8875446319580078, 0.8793356418609619, 0.9084753394126892, 0.8934556245803833, 0.8942275047302246, 0.8971506953239441, 0.8754058480262756, 0.919845461845398, 0.8975669741630554, 0.883294939994812, 0.8679583072662354, 0.9449417591094971, 0.9006346464157104, 0.9163002371788025, 0.9269593954086304, 0.9090930223464966, 0.8774093389511108, 0.8931900858879089, 0.8758223652839661, 0.9120969772338867, 0.9327348470687866, 0.9343195557594299, 0.907862663269043, 0.9021578431129456, 0.877873420715332, 0.9110507369041443, 0.9023086428642273, 0.8648277521133423, 0.9240400791168213, 0.8853273391723633, 0.893669605255127, 0.8991891741752625, 0.9134825468063354, 0.8769106864929199, 0.9065055251121521, 0.8871504068374634, 0.8862898349761963, 0.9075923562049866, 0.9004478454589844, 0.8814929127693176, 0.9351387619972229, 0.8700522184371948, 0.8991681337356567, 0.8996668457984924, 0.8923143148422241, 0.9104450941085815, 0.908056914806366, 0.9127609133720398, 0.8797613978385925, 0.9179375767707825, 0.8867568969726562, 0.9346009492874146, 0.8965620994567871, 0.920071005821228, 0.898979127407074, 0.9302746653556824, 0.9308623671531677, 0.9004413485527039, 0.8982598185539246, 0.8931218385696411, 0.89483642578125, 0.8795562386512756, 0.8839256763458252, 0.8926670551300049, 0.8926771879196167, 0.8890549540519714, 0.895895779132843, 0.9028826951980591, 0.8973587155342102, 0.8802549839019775, 0.8990990519523621, 0.9169043302536011], 'hashcode': 'roberta-large_L17_no-idf_version=0.3.12(hug_trans=4.28.1)'}\n"
          ]
        }
      ]
    },
    {
      "cell_type": "code",
      "source": [
        "with open(\"/content/bertscore_half.json\", \"w\") as outfile:\n",
        "    json.dump(results_half, outfile)"
      ],
      "metadata": {
        "id": "m2r_Dyz2Gcmp"
      },
      "execution_count": null,
      "outputs": []
    },
    {
      "cell_type": "code",
      "source": [
        "pd.DataFrame(results_half).describe()"
      ],
      "metadata": {
        "colab": {
          "base_uri": "https://localhost:8080/",
          "height": 300
        },
        "id": "m5sB52FMGcp0",
        "outputId": "b1bdc8a3-3f1b-413d-a0a8-5feedbec8a5f"
      },
      "execution_count": null,
      "outputs": [
        {
          "output_type": "execute_result",
          "data": {
            "text/plain": [
              "        precision      recall          f1\n",
              "count  819.000000  819.000000  819.000000\n",
              "mean     0.876887    0.920698    0.898081\n",
              "std      0.025581    0.019598    0.019316\n",
              "min      0.766338    0.861125    0.825987\n",
              "25%      0.860544    0.907443    0.885599\n",
              "50%      0.877723    0.921563    0.899099\n",
              "75%      0.894449    0.935335    0.911299\n",
              "max      0.952414    0.966707    0.951426"
            ],
            "text/html": [
              "\n",
              "  <div id=\"df-22db28c9-38af-4777-ac20-8bd5b8cd7c6c\">\n",
              "    <div class=\"colab-df-container\">\n",
              "      <div>\n",
              "<style scoped>\n",
              "    .dataframe tbody tr th:only-of-type {\n",
              "        vertical-align: middle;\n",
              "    }\n",
              "\n",
              "    .dataframe tbody tr th {\n",
              "        vertical-align: top;\n",
              "    }\n",
              "\n",
              "    .dataframe thead th {\n",
              "        text-align: right;\n",
              "    }\n",
              "</style>\n",
              "<table border=\"1\" class=\"dataframe\">\n",
              "  <thead>\n",
              "    <tr style=\"text-align: right;\">\n",
              "      <th></th>\n",
              "      <th>precision</th>\n",
              "      <th>recall</th>\n",
              "      <th>f1</th>\n",
              "    </tr>\n",
              "  </thead>\n",
              "  <tbody>\n",
              "    <tr>\n",
              "      <th>count</th>\n",
              "      <td>819.000000</td>\n",
              "      <td>819.000000</td>\n",
              "      <td>819.000000</td>\n",
              "    </tr>\n",
              "    <tr>\n",
              "      <th>mean</th>\n",
              "      <td>0.876887</td>\n",
              "      <td>0.920698</td>\n",
              "      <td>0.898081</td>\n",
              "    </tr>\n",
              "    <tr>\n",
              "      <th>std</th>\n",
              "      <td>0.025581</td>\n",
              "      <td>0.019598</td>\n",
              "      <td>0.019316</td>\n",
              "    </tr>\n",
              "    <tr>\n",
              "      <th>min</th>\n",
              "      <td>0.766338</td>\n",
              "      <td>0.861125</td>\n",
              "      <td>0.825987</td>\n",
              "    </tr>\n",
              "    <tr>\n",
              "      <th>25%</th>\n",
              "      <td>0.860544</td>\n",
              "      <td>0.907443</td>\n",
              "      <td>0.885599</td>\n",
              "    </tr>\n",
              "    <tr>\n",
              "      <th>50%</th>\n",
              "      <td>0.877723</td>\n",
              "      <td>0.921563</td>\n",
              "      <td>0.899099</td>\n",
              "    </tr>\n",
              "    <tr>\n",
              "      <th>75%</th>\n",
              "      <td>0.894449</td>\n",
              "      <td>0.935335</td>\n",
              "      <td>0.911299</td>\n",
              "    </tr>\n",
              "    <tr>\n",
              "      <th>max</th>\n",
              "      <td>0.952414</td>\n",
              "      <td>0.966707</td>\n",
              "      <td>0.951426</td>\n",
              "    </tr>\n",
              "  </tbody>\n",
              "</table>\n",
              "</div>\n",
              "      <button class=\"colab-df-convert\" onclick=\"convertToInteractive('df-22db28c9-38af-4777-ac20-8bd5b8cd7c6c')\"\n",
              "              title=\"Convert this dataframe to an interactive table.\"\n",
              "              style=\"display:none;\">\n",
              "        \n",
              "  <svg xmlns=\"http://www.w3.org/2000/svg\" height=\"24px\"viewBox=\"0 0 24 24\"\n",
              "       width=\"24px\">\n",
              "    <path d=\"M0 0h24v24H0V0z\" fill=\"none\"/>\n",
              "    <path d=\"M18.56 5.44l.94 2.06.94-2.06 2.06-.94-2.06-.94-.94-2.06-.94 2.06-2.06.94zm-11 1L8.5 8.5l.94-2.06 2.06-.94-2.06-.94L8.5 2.5l-.94 2.06-2.06.94zm10 10l.94 2.06.94-2.06 2.06-.94-2.06-.94-.94-2.06-.94 2.06-2.06.94z\"/><path d=\"M17.41 7.96l-1.37-1.37c-.4-.4-.92-.59-1.43-.59-.52 0-1.04.2-1.43.59L10.3 9.45l-7.72 7.72c-.78.78-.78 2.05 0 2.83L4 21.41c.39.39.9.59 1.41.59.51 0 1.02-.2 1.41-.59l7.78-7.78 2.81-2.81c.8-.78.8-2.07 0-2.86zM5.41 20L4 18.59l7.72-7.72 1.47 1.35L5.41 20z\"/>\n",
              "  </svg>\n",
              "      </button>\n",
              "      \n",
              "  <style>\n",
              "    .colab-df-container {\n",
              "      display:flex;\n",
              "      flex-wrap:wrap;\n",
              "      gap: 12px;\n",
              "    }\n",
              "\n",
              "    .colab-df-convert {\n",
              "      background-color: #E8F0FE;\n",
              "      border: none;\n",
              "      border-radius: 50%;\n",
              "      cursor: pointer;\n",
              "      display: none;\n",
              "      fill: #1967D2;\n",
              "      height: 32px;\n",
              "      padding: 0 0 0 0;\n",
              "      width: 32px;\n",
              "    }\n",
              "\n",
              "    .colab-df-convert:hover {\n",
              "      background-color: #E2EBFA;\n",
              "      box-shadow: 0px 1px 2px rgba(60, 64, 67, 0.3), 0px 1px 3px 1px rgba(60, 64, 67, 0.15);\n",
              "      fill: #174EA6;\n",
              "    }\n",
              "\n",
              "    [theme=dark] .colab-df-convert {\n",
              "      background-color: #3B4455;\n",
              "      fill: #D2E3FC;\n",
              "    }\n",
              "\n",
              "    [theme=dark] .colab-df-convert:hover {\n",
              "      background-color: #434B5C;\n",
              "      box-shadow: 0px 1px 3px 1px rgba(0, 0, 0, 0.15);\n",
              "      filter: drop-shadow(0px 1px 2px rgba(0, 0, 0, 0.3));\n",
              "      fill: #FFFFFF;\n",
              "    }\n",
              "  </style>\n",
              "\n",
              "      <script>\n",
              "        const buttonEl =\n",
              "          document.querySelector('#df-22db28c9-38af-4777-ac20-8bd5b8cd7c6c button.colab-df-convert');\n",
              "        buttonEl.style.display =\n",
              "          google.colab.kernel.accessAllowed ? 'block' : 'none';\n",
              "\n",
              "        async function convertToInteractive(key) {\n",
              "          const element = document.querySelector('#df-22db28c9-38af-4777-ac20-8bd5b8cd7c6c');\n",
              "          const dataTable =\n",
              "            await google.colab.kernel.invokeFunction('convertToInteractive',\n",
              "                                                     [key], {});\n",
              "          if (!dataTable) return;\n",
              "\n",
              "          const docLinkHtml = 'Like what you see? Visit the ' +\n",
              "            '<a target=\"_blank\" href=https://colab.research.google.com/notebooks/data_table.ipynb>data table notebook</a>'\n",
              "            + ' to learn more about interactive tables.';\n",
              "          element.innerHTML = '';\n",
              "          dataTable['output_type'] = 'display_data';\n",
              "          await google.colab.output.renderOutput(dataTable, element);\n",
              "          const docLink = document.createElement('div');\n",
              "          docLink.innerHTML = docLinkHtml;\n",
              "          element.appendChild(docLink);\n",
              "        }\n",
              "      </script>\n",
              "    </div>\n",
              "  </div>\n",
              "  "
            ]
          },
          "metadata": {},
          "execution_count": 165
        }
      ]
    },
    {
      "cell_type": "code",
      "source": [],
      "metadata": {
        "id": "A_13Nvp6Gcs7"
      },
      "execution_count": null,
      "outputs": []
    },
    {
      "cell_type": "markdown",
      "source": [
        "# dialogsum Test"
      ],
      "metadata": {
        "id": "1AfAdjTLiwlz"
      }
    },
    {
      "cell_type": "code",
      "source": [
        "dataset_dia = load_dataset(\"knkarthick/dialogsum\")"
      ],
      "metadata": {
        "colab": {
          "base_uri": "https://localhost:8080/",
          "height": 265,
          "referenced_widgets": [
            "b186a9b959f04c6e95ff94ad945de7e4",
            "733229f846284d0294633ee64d3c05ae",
            "4add9e09604245c281e16a9ae3bbb57e",
            "0a9b40b121334a3d9a8ebba11b9cfb36",
            "4ab4ec5a816249aeb366febb3c33ab1d",
            "f1e9af13a5e849c0adb07827f6ed812b",
            "4f1a7d7da65d481c8e74e5e84c70dbee",
            "c4bbe09d360f419f943bae2551571762",
            "a509f006deb34760b4a74d5a1ebf965a",
            "eed0ca315343420cb739cd2aafb63987",
            "76b765d411a8433f8553c7e88066e51b",
            "ae3aad42afb24728b6c80177fed15199",
            "7d18f21834554183b275bf73100cfd7e",
            "67f03c7d731e435f9ab9f9ff74d6626e",
            "0b77ad41b1224ac9b5b94c14155a3000",
            "3b7a46a57ece4cfc91b5cd5680f85148",
            "8b28cbe11efd4ed98ce8fe89c41e471c",
            "46897635730b41aebd5003b67e9bd972",
            "17379e5972d94aa180557a58599f890f",
            "a8aa892e14e54b02ad889f2927daa5d1",
            "e726921c466d4fdabc8680b3f306de9e",
            "4f067c5d3d6746e0bfca6f0ffc05cea2",
            "0483af7539e34cb1a9e6f87f6a2f51c1",
            "9a828dda450749e2a5cf818dc59c0613",
            "bfde23e1a91d457890423f09ffd1b371",
            "d27af372e5594e2a87e889bba7cae713",
            "c25221407e4a47ddbb4bb9f86094f2ca",
            "f4186ee9de334f5e8fe33fa5862453b8",
            "1934689c5ba544458f3371768d360d69",
            "742f9053075647a191d02670a5ce8970",
            "e3a355c9ad78490db8891aae8bd8a3a0",
            "160f316f2913426e80868fe17f5ac41f",
            "05825590f4464c3bbc0f5c0756b3a552",
            "86a47eb60f454479beb3f5160e9dcc5a",
            "3080de80e1b2432f907754f4c7feaa86",
            "752f12f682dc4a6385fb44be7376fdc3",
            "4cde9f635465487d88e9b3810f2829af",
            "8d346d99e7444d43ae77cd7f5200dfb9",
            "6d912cbdf7f24f07a8bb4f87b305dded",
            "7bc46592f1444c5ab551bdf6cd36ec51",
            "6bef811b2835455d879d147ac20e5a65",
            "83a4aa61bfaf41188262e3a7ca8105a2",
            "b3ac45eb4e244aff9e81ca332c67e012",
            "d24aab0022a24eac93715a0a66c7b2c7",
            "44624db0af0b4f04872bf8fcf5554634",
            "79cf7d1d568f43168c2a339dedf31a58",
            "75e58537b25b483780e599971ebd1042",
            "8aef03197f87460c8263ec980091e259",
            "a31ace03da9a4bc9bbf0b0267dd39346",
            "cfaad349b8c54acba89826f0b4d77dec",
            "747a37d0459d49a39d31be161414c18c",
            "f00418716409471ea9847f0762dce60d",
            "320873f31e2c4c15ac7c9e844f7289e2",
            "f29b6a21bfd84ae89e66563808a214ae",
            "8a3ab6da06d74f7a817dabd348044486",
            "8110515d4e15405e9274332a1abeea4a",
            "f88d5772840b48ac9efc33bcbba6416b",
            "e3d480576e7e49b385c35eddb266b5b1",
            "982f402ad6f049d6a053f0b074a5c191",
            "678a95258ba24922a597f364f49fc211",
            "bb05fb7a17e047fcac1bc4b9e2c76a72",
            "e0bd37b1febe4e7da9e8f52f2691abc2",
            "e52047e827b548d5aeab287160dcae2e",
            "652f8ecf64674261bbbd73b4e014e816",
            "84333e4b35104898b62a1bc88eda6e27",
            "d9aeb9eed3eb48f78be2bc0aa6402794",
            "756870922232458cbee8588b14d7c51c",
            "8bf76a2207b94273968e478d2caf04a7",
            "79e0a31356a54f509f872aa94f383b36",
            "bbdcc782f3694333b7296b9848b3bf72",
            "3d2a0e549b8b48fcb9de890d96e2bed6",
            "b5ccb1a89260429ca06c04e86298309d",
            "12b9a927ff0841eb8fa377cf883a100b",
            "37282a1343be4f5595c144c8f766b1f3",
            "26802d9f95f84fc199661f662acd4eef",
            "e79a29069f954fba9c41591e501fd2da",
            "9ca5a2761c31432da653aa9f4e425fdd",
            "667ee0de475a4e5e9e64219ee69ecffa",
            "2e6f09c8e30d4dc4bb571971e4c5a8a9",
            "0d058a506094448eb3671395f1ee477b",
            "e8f6bf07b814419fa9f82dccdcf0ecce",
            "a9f80ceeb2574cefb5ef8625c1d81d8e",
            "5b9cb2ebaaf4433da2d71488cc449b54",
            "ea6d4220a4984dbab66a3ff4b5c3ccf7",
            "f037589768ae4b55b986d83edb4467fc",
            "a72b012d3f094a12b3f5f92c1f1ac3fe",
            "ebf1c3a6141a428fbd5085f003d749f5",
            "ee60afdc87804e6aa76ebfb457ee22e9",
            "bf05a00e5513400d91d8d8a2f8572644",
            "6b432589910c459abf60f4c9425823a1",
            "e383dc48a94a4e8bb27eaf1f9655b924",
            "b361f6570c7e4fd28d34ae2a3c78898a",
            "fe1f6154f9064984925ff782a3aee157",
            "b8826c98e44641528f0533a4183b3248",
            "fb5d9c1722de4fb2a84218f33b8ec6bc",
            "7cc7b1baec684cb3beecf6ffba0dcfd1",
            "5c4b314c00eb4b9e970d998cd86392bf",
            "8f344f65b1fc49ecb702045035255f57",
            "20ca6971748847c782b388764801ab56"
          ]
        },
        "id": "dwtYkjpYGb_W",
        "outputId": "6c8dc1b4-59a8-4fef-e6ed-aebbc3d12f70"
      },
      "execution_count": null,
      "outputs": [
        {
          "output_type": "stream",
          "name": "stdout",
          "text": [
            "Downloading and preparing dataset csv/knkarthick--dialogsum to /root/.cache/huggingface/datasets/knkarthick___csv/knkarthick--dialogsum-c8fac5d84cd35861/0.0.0/6954658bab30a358235fa864b05cf819af0e179325c740e4bc853bcc7ec513e1...\n"
          ]
        },
        {
          "output_type": "display_data",
          "data": {
            "text/plain": [
              "Downloading data files:   0%|          | 0/3 [00:00<?, ?it/s]"
            ],
            "application/vnd.jupyter.widget-view+json": {
              "version_major": 2,
              "version_minor": 0,
              "model_id": "b186a9b959f04c6e95ff94ad945de7e4"
            }
          },
          "metadata": {}
        },
        {
          "output_type": "display_data",
          "data": {
            "text/plain": [
              "Downloading data:   0%|          | 0.00/11.3M [00:00<?, ?B/s]"
            ],
            "application/vnd.jupyter.widget-view+json": {
              "version_major": 2,
              "version_minor": 0,
              "model_id": "ae3aad42afb24728b6c80177fed15199"
            }
          },
          "metadata": {}
        },
        {
          "output_type": "display_data",
          "data": {
            "text/plain": [
              "Downloading data:   0%|          | 0.00/1.35M [00:00<?, ?B/s]"
            ],
            "application/vnd.jupyter.widget-view+json": {
              "version_major": 2,
              "version_minor": 0,
              "model_id": "0483af7539e34cb1a9e6f87f6a2f51c1"
            }
          },
          "metadata": {}
        },
        {
          "output_type": "display_data",
          "data": {
            "text/plain": [
              "Downloading data:   0%|          | 0.00/442k [00:00<?, ?B/s]"
            ],
            "application/vnd.jupyter.widget-view+json": {
              "version_major": 2,
              "version_minor": 0,
              "model_id": "86a47eb60f454479beb3f5160e9dcc5a"
            }
          },
          "metadata": {}
        },
        {
          "output_type": "display_data",
          "data": {
            "text/plain": [
              "Extracting data files:   0%|          | 0/3 [00:00<?, ?it/s]"
            ],
            "application/vnd.jupyter.widget-view+json": {
              "version_major": 2,
              "version_minor": 0,
              "model_id": "44624db0af0b4f04872bf8fcf5554634"
            }
          },
          "metadata": {}
        },
        {
          "output_type": "display_data",
          "data": {
            "text/plain": [
              "Generating train split: 0 examples [00:00, ? examples/s]"
            ],
            "application/vnd.jupyter.widget-view+json": {
              "version_major": 2,
              "version_minor": 0,
              "model_id": "8110515d4e15405e9274332a1abeea4a"
            }
          },
          "metadata": {}
        },
        {
          "output_type": "display_data",
          "data": {
            "text/plain": [
              "Generating test split: 0 examples [00:00, ? examples/s]"
            ],
            "application/vnd.jupyter.widget-view+json": {
              "version_major": 2,
              "version_minor": 0,
              "model_id": "756870922232458cbee8588b14d7c51c"
            }
          },
          "metadata": {}
        },
        {
          "output_type": "display_data",
          "data": {
            "text/plain": [
              "Generating validation split: 0 examples [00:00, ? examples/s]"
            ],
            "application/vnd.jupyter.widget-view+json": {
              "version_major": 2,
              "version_minor": 0,
              "model_id": "667ee0de475a4e5e9e64219ee69ecffa"
            }
          },
          "metadata": {}
        },
        {
          "output_type": "stream",
          "name": "stdout",
          "text": [
            "Dataset csv downloaded and prepared to /root/.cache/huggingface/datasets/knkarthick___csv/knkarthick--dialogsum-c8fac5d84cd35861/0.0.0/6954658bab30a358235fa864b05cf819af0e179325c740e4bc853bcc7ec513e1. Subsequent calls will reuse this data.\n"
          ]
        },
        {
          "output_type": "display_data",
          "data": {
            "text/plain": [
              "  0%|          | 0/3 [00:00<?, ?it/s]"
            ],
            "application/vnd.jupyter.widget-view+json": {
              "version_major": 2,
              "version_minor": 0,
              "model_id": "bf05a00e5513400d91d8d8a2f8572644"
            }
          },
          "metadata": {}
        }
      ]
    },
    {
      "cell_type": "code",
      "source": [
        "dataset_dia"
      ],
      "metadata": {
        "colab": {
          "base_uri": "https://localhost:8080/"
        },
        "id": "aTg_6pIfkBgI",
        "outputId": "488f4cf7-32f4-464b-8653-650d0f4bbec8"
      },
      "execution_count": null,
      "outputs": [
        {
          "output_type": "execute_result",
          "data": {
            "text/plain": [
              "DatasetDict({\n",
              "    train: Dataset({\n",
              "        features: ['id', 'dialogue', 'summary', 'topic'],\n",
              "        num_rows: 12460\n",
              "    })\n",
              "    test: Dataset({\n",
              "        features: ['id', 'dialogue', 'summary', 'topic'],\n",
              "        num_rows: 1500\n",
              "    })\n",
              "    validation: Dataset({\n",
              "        features: ['id', 'dialogue', 'summary', 'topic'],\n",
              "        num_rows: 500\n",
              "    })\n",
              "})"
            ]
          },
          "metadata": {},
          "execution_count": 169
        }
      ]
    },
    {
      "cell_type": "code",
      "source": [
        "newtest = pd.DataFrame (dataset_dia[\"test\"][\"id\"], columns = ['id'])\n",
        "newtest['dialogue'] = dataset_dia[\"test\"][\"dialogue\"]\n",
        "newtest['summary'] = dataset_dia[\"test\"][\"summary\"]"
      ],
      "metadata": {
        "id": "QZYRM4t6GbTn"
      },
      "execution_count": null,
      "outputs": []
    },
    {
      "cell_type": "code",
      "source": [
        "newtest = newtest.iloc[200:700]"
      ],
      "metadata": {
        "id": "T4F9_y2UGbXY"
      },
      "execution_count": null,
      "outputs": []
    },
    {
      "cell_type": "code",
      "source": [
        "len(newtest)"
      ],
      "metadata": {
        "colab": {
          "base_uri": "https://localhost:8080/"
        },
        "id": "KVk4CZnxk3Lk",
        "outputId": "eabec52d-fe58-4ff7-89c1-e6c93af04a8a"
      },
      "execution_count": null,
      "outputs": [
        {
          "output_type": "execute_result",
          "data": {
            "text/plain": [
              "500"
            ]
          },
          "metadata": {},
          "execution_count": 186
        }
      ]
    },
    {
      "cell_type": "code",
      "source": [
        "newtest"
      ],
      "metadata": {
        "colab": {
          "base_uri": "https://localhost:8080/",
          "height": 424
        },
        "id": "4ZwpyqqFk8p5",
        "outputId": "2b6aa859-eb88-482b-8f24-4d2f662f6aab"
      },
      "execution_count": null,
      "outputs": [
        {
          "output_type": "execute_result",
          "data": {
            "text/plain": [
              "             id                                           dialogue  \\\n",
              "200   test_66_3  #Person1#: Have you considered upgrading your ...   \n",
              "201   test_67_1  #Person1#: Where to, miss?\\n#Person2#: Hi! Cre...   \n",
              "202   test_67_2  #Person1#: Where to, miss?\\n#Person2#: Hi! Cre...   \n",
              "203   test_67_3  #Person1#: Where to, miss?\\n#Person2#: Hi! Cre...   \n",
              "204   test_68_1  #Person1#: Oh dear, my weight has gone up agai...   \n",
              "..          ...                                                ...   \n",
              "695  test_231_3  #Person1#: Hi, Laura. Where are you heading wi...   \n",
              "696  test_232_1  #Person1#: Were you born in Los Angeles?\\n#Per...   \n",
              "697  test_232_2  #Person1#: Were you born in Los Angeles?\\n#Per...   \n",
              "698  test_232_3  #Person1#: Were you born in Los Angeles?\\n#Per...   \n",
              "699  test_233_1  #Person1#: What do you think of my new suit?\\n...   \n",
              "\n",
              "                                               summary  \n",
              "200  #Person1# teaches #Person2# how to upgrade sof...  \n",
              "201  #Person1# is driving #Person2# to an inn. They...  \n",
              "202  #Person1# drives #Person2# to an inn and they ...  \n",
              "203  #Person1# drives #Person2# from the airport to...  \n",
              "204  #Person1# wants to lose weight. #Person2# sugg...  \n",
              "..                                                 ...  \n",
              "695  Laura exercises both for health and to look go...  \n",
              "696  #Person1# asks #Person2# about past experience...  \n",
              "697  #Person1# is asking #Person2# about the places...  \n",
              "698  #Person1# and #Person2# talk about #Person2#'s...  \n",
              "699  #Person1# bought a new suit with $ 150 and #Pe...  \n",
              "\n",
              "[500 rows x 3 columns]"
            ],
            "text/html": [
              "\n",
              "  <div id=\"df-5d49f073-1633-48aa-9c2c-1960d4bea9aa\">\n",
              "    <div class=\"colab-df-container\">\n",
              "      <div>\n",
              "<style scoped>\n",
              "    .dataframe tbody tr th:only-of-type {\n",
              "        vertical-align: middle;\n",
              "    }\n",
              "\n",
              "    .dataframe tbody tr th {\n",
              "        vertical-align: top;\n",
              "    }\n",
              "\n",
              "    .dataframe thead th {\n",
              "        text-align: right;\n",
              "    }\n",
              "</style>\n",
              "<table border=\"1\" class=\"dataframe\">\n",
              "  <thead>\n",
              "    <tr style=\"text-align: right;\">\n",
              "      <th></th>\n",
              "      <th>id</th>\n",
              "      <th>dialogue</th>\n",
              "      <th>summary</th>\n",
              "    </tr>\n",
              "  </thead>\n",
              "  <tbody>\n",
              "    <tr>\n",
              "      <th>200</th>\n",
              "      <td>test_66_3</td>\n",
              "      <td>#Person1#: Have you considered upgrading your ...</td>\n",
              "      <td>#Person1# teaches #Person2# how to upgrade sof...</td>\n",
              "    </tr>\n",
              "    <tr>\n",
              "      <th>201</th>\n",
              "      <td>test_67_1</td>\n",
              "      <td>#Person1#: Where to, miss?\\n#Person2#: Hi! Cre...</td>\n",
              "      <td>#Person1# is driving #Person2# to an inn. They...</td>\n",
              "    </tr>\n",
              "    <tr>\n",
              "      <th>202</th>\n",
              "      <td>test_67_2</td>\n",
              "      <td>#Person1#: Where to, miss?\\n#Person2#: Hi! Cre...</td>\n",
              "      <td>#Person1# drives #Person2# to an inn and they ...</td>\n",
              "    </tr>\n",
              "    <tr>\n",
              "      <th>203</th>\n",
              "      <td>test_67_3</td>\n",
              "      <td>#Person1#: Where to, miss?\\n#Person2#: Hi! Cre...</td>\n",
              "      <td>#Person1# drives #Person2# from the airport to...</td>\n",
              "    </tr>\n",
              "    <tr>\n",
              "      <th>204</th>\n",
              "      <td>test_68_1</td>\n",
              "      <td>#Person1#: Oh dear, my weight has gone up agai...</td>\n",
              "      <td>#Person1# wants to lose weight. #Person2# sugg...</td>\n",
              "    </tr>\n",
              "    <tr>\n",
              "      <th>...</th>\n",
              "      <td>...</td>\n",
              "      <td>...</td>\n",
              "      <td>...</td>\n",
              "    </tr>\n",
              "    <tr>\n",
              "      <th>695</th>\n",
              "      <td>test_231_3</td>\n",
              "      <td>#Person1#: Hi, Laura. Where are you heading wi...</td>\n",
              "      <td>Laura exercises both for health and to look go...</td>\n",
              "    </tr>\n",
              "    <tr>\n",
              "      <th>696</th>\n",
              "      <td>test_232_1</td>\n",
              "      <td>#Person1#: Were you born in Los Angeles?\\n#Per...</td>\n",
              "      <td>#Person1# asks #Person2# about past experience...</td>\n",
              "    </tr>\n",
              "    <tr>\n",
              "      <th>697</th>\n",
              "      <td>test_232_2</td>\n",
              "      <td>#Person1#: Were you born in Los Angeles?\\n#Per...</td>\n",
              "      <td>#Person1# is asking #Person2# about the places...</td>\n",
              "    </tr>\n",
              "    <tr>\n",
              "      <th>698</th>\n",
              "      <td>test_232_3</td>\n",
              "      <td>#Person1#: Were you born in Los Angeles?\\n#Per...</td>\n",
              "      <td>#Person1# and #Person2# talk about #Person2#'s...</td>\n",
              "    </tr>\n",
              "    <tr>\n",
              "      <th>699</th>\n",
              "      <td>test_233_1</td>\n",
              "      <td>#Person1#: What do you think of my new suit?\\n...</td>\n",
              "      <td>#Person1# bought a new suit with $ 150 and #Pe...</td>\n",
              "    </tr>\n",
              "  </tbody>\n",
              "</table>\n",
              "<p>500 rows × 3 columns</p>\n",
              "</div>\n",
              "      <button class=\"colab-df-convert\" onclick=\"convertToInteractive('df-5d49f073-1633-48aa-9c2c-1960d4bea9aa')\"\n",
              "              title=\"Convert this dataframe to an interactive table.\"\n",
              "              style=\"display:none;\">\n",
              "        \n",
              "  <svg xmlns=\"http://www.w3.org/2000/svg\" height=\"24px\"viewBox=\"0 0 24 24\"\n",
              "       width=\"24px\">\n",
              "    <path d=\"M0 0h24v24H0V0z\" fill=\"none\"/>\n",
              "    <path d=\"M18.56 5.44l.94 2.06.94-2.06 2.06-.94-2.06-.94-.94-2.06-.94 2.06-2.06.94zm-11 1L8.5 8.5l.94-2.06 2.06-.94-2.06-.94L8.5 2.5l-.94 2.06-2.06.94zm10 10l.94 2.06.94-2.06 2.06-.94-2.06-.94-.94-2.06-.94 2.06-2.06.94z\"/><path d=\"M17.41 7.96l-1.37-1.37c-.4-.4-.92-.59-1.43-.59-.52 0-1.04.2-1.43.59L10.3 9.45l-7.72 7.72c-.78.78-.78 2.05 0 2.83L4 21.41c.39.39.9.59 1.41.59.51 0 1.02-.2 1.41-.59l7.78-7.78 2.81-2.81c.8-.78.8-2.07 0-2.86zM5.41 20L4 18.59l7.72-7.72 1.47 1.35L5.41 20z\"/>\n",
              "  </svg>\n",
              "      </button>\n",
              "      \n",
              "  <style>\n",
              "    .colab-df-container {\n",
              "      display:flex;\n",
              "      flex-wrap:wrap;\n",
              "      gap: 12px;\n",
              "    }\n",
              "\n",
              "    .colab-df-convert {\n",
              "      background-color: #E8F0FE;\n",
              "      border: none;\n",
              "      border-radius: 50%;\n",
              "      cursor: pointer;\n",
              "      display: none;\n",
              "      fill: #1967D2;\n",
              "      height: 32px;\n",
              "      padding: 0 0 0 0;\n",
              "      width: 32px;\n",
              "    }\n",
              "\n",
              "    .colab-df-convert:hover {\n",
              "      background-color: #E2EBFA;\n",
              "      box-shadow: 0px 1px 2px rgba(60, 64, 67, 0.3), 0px 1px 3px 1px rgba(60, 64, 67, 0.15);\n",
              "      fill: #174EA6;\n",
              "    }\n",
              "\n",
              "    [theme=dark] .colab-df-convert {\n",
              "      background-color: #3B4455;\n",
              "      fill: #D2E3FC;\n",
              "    }\n",
              "\n",
              "    [theme=dark] .colab-df-convert:hover {\n",
              "      background-color: #434B5C;\n",
              "      box-shadow: 0px 1px 3px 1px rgba(0, 0, 0, 0.15);\n",
              "      filter: drop-shadow(0px 1px 2px rgba(0, 0, 0, 0.3));\n",
              "      fill: #FFFFFF;\n",
              "    }\n",
              "  </style>\n",
              "\n",
              "      <script>\n",
              "        const buttonEl =\n",
              "          document.querySelector('#df-5d49f073-1633-48aa-9c2c-1960d4bea9aa button.colab-df-convert');\n",
              "        buttonEl.style.display =\n",
              "          google.colab.kernel.accessAllowed ? 'block' : 'none';\n",
              "\n",
              "        async function convertToInteractive(key) {\n",
              "          const element = document.querySelector('#df-5d49f073-1633-48aa-9c2c-1960d4bea9aa');\n",
              "          const dataTable =\n",
              "            await google.colab.kernel.invokeFunction('convertToInteractive',\n",
              "                                                     [key], {});\n",
              "          if (!dataTable) return;\n",
              "\n",
              "          const docLinkHtml = 'Like what you see? Visit the ' +\n",
              "            '<a target=\"_blank\" href=https://colab.research.google.com/notebooks/data_table.ipynb>data table notebook</a>'\n",
              "            + ' to learn more about interactive tables.';\n",
              "          element.innerHTML = '';\n",
              "          dataTable['output_type'] = 'display_data';\n",
              "          await google.colab.output.renderOutput(dataTable, element);\n",
              "          const docLink = document.createElement('div');\n",
              "          docLink.innerHTML = docLinkHtml;\n",
              "          element.appendChild(docLink);\n",
              "        }\n",
              "      </script>\n",
              "    </div>\n",
              "  </div>\n",
              "  "
            ]
          },
          "metadata": {},
          "execution_count": 187
        }
      ]
    },
    {
      "cell_type": "code",
      "source": [
        "class newtest_test(torch.utils.data.Dataset):\n",
        "    def __init__(self, df):\n",
        "        self.data = df\n",
        "\n",
        "    def __len__(self):\n",
        "        return len(self.data)\n",
        "\n",
        "    def __getitem__(self, idx):\n",
        "        if torch.is_tensor(idx):\n",
        "            idx = idx.tolist()\n",
        "\n",
        "        return self.data.iloc[idx].dialogue , self.data.iloc[idx].summary"
      ],
      "metadata": {
        "id": "qoxijVDqlawf"
      },
      "execution_count": null,
      "outputs": []
    },
    {
      "cell_type": "code",
      "source": [
        "newtest_loader = newtest_test(newtest)"
      ],
      "metadata": {
        "id": "SeNRvA_cli6E"
      },
      "execution_count": null,
      "outputs": []
    },
    {
      "cell_type": "code",
      "source": [
        "for x, y in newtest_loader:\n",
        "  print(x)\n",
        "  print(y)\n",
        "  break"
      ],
      "metadata": {
        "colab": {
          "base_uri": "https://localhost:8080/"
        },
        "id": "nlWqUsuWltxo",
        "outputId": "f57dda29-8b67-4801-f1f9-846ac0a81cd7"
      },
      "execution_count": null,
      "outputs": [
        {
          "output_type": "stream",
          "name": "stdout",
          "text": [
            "#Person1#: Have you considered upgrading your system?\n",
            "#Person2#: Yes, but I'm not sure what exactly I would need.\n",
            "#Person1#: You could consider adding a painting program to your software. It would allow you to make up your own flyers and banners for advertising.\n",
            "#Person2#: That would be a definite bonus.\n",
            "#Person1#: You might also want to upgrade your hardware because it is pretty outdated now.\n",
            "#Person2#: How can we do that?\n",
            "#Person1#: You'd probably need a faster processor, to begin with. And you also need a more powerful hard disc, more memory and a faster modem. Do you have a CD-ROM drive?\n",
            "#Person2#: No.\n",
            "#Person1#: Then you might want to add a CD-ROM drive too, because most new software programs are coming out on Cds.\n",
            "#Person2#: That sounds great. Thanks.\n",
            "#Person1# teaches #Person2# how to upgrade software and hardware in #Person2#'s system.\n"
          ]
        }
      ]
    },
    {
      "cell_type": "markdown",
      "source": [
        "##### rouge"
      ],
      "metadata": {
        "id": "3sYj_23Nl3l6"
      }
    },
    {
      "cell_type": "code",
      "source": [
        "tokenizer_large = BartTokenizer.from_pretrained(\"/content/drive/MyDrive/Project/dl-gp/tokenizer\")\n",
        "model_large = BartForConditionalGeneration.from_pretrained(\"/content/drive/MyDrive/Project/dl-gp/bart-large-model\").to(device)"
      ],
      "metadata": {
        "id": "bkW8clGvl83e"
      },
      "execution_count": null,
      "outputs": []
    },
    {
      "cell_type": "code",
      "source": [
        "name_base = 'philschmid/bart-large-cnn-samsum'\n",
        "tokenizer_large = BartTokenizer.from_pretrained(name_base)\n",
        "model_large = BartForConditionalGeneration.from_pretrained(name_base).to(device)"
      ],
      "metadata": {
        "id": "peoM_Zjanq8W"
      },
      "execution_count": null,
      "outputs": []
    },
    {
      "cell_type": "code",
      "source": [
        "name_half = '/content/drive/MyDrive/Project/dl-gp/bart-half-3'\n",
        "tokenizer_large = BartTokenizer.from_pretrained(name_half)\n",
        "model_large = BartForConditionalGeneration.from_pretrained(name_half).to(device)"
      ],
      "metadata": {
        "id": "M_3hMWvnq92y"
      },
      "execution_count": null,
      "outputs": []
    },
    {
      "cell_type": "code",
      "source": [
        "results = {'rouge1': np.zeros(3), 'rouge2': np.zeros(3), 'rougeL': np.zeros(3)}\n",
        "\n",
        "for data in tqdm(newtest_loader,position=0, leave=True):\n",
        "  article, ref = data\n",
        "\n",
        "  inputs = tokenizer_large(article, return_tensors=\"pt\", max_length=1024).to(device)\n",
        "  summary_ids = model_large.generate(inputs[\"input_ids\"], num_beams=2, min_length=0, max_length=100)\n",
        "  \n",
        "  res = tokenizer_large.batch_decode(summary_ids, skip_special_tokens=True, clean_up_tokenization_spaces=False)[0]\n",
        "  scorer = rouge_scorer.RougeScorer(['rouge1', 'rougeL', 'rouge2'], use_stemmer=True)\n",
        "  scores = scorer.score(res, ref)\n",
        "  for key in scores.keys():\n",
        "    results[key] += np.array(scores[key])\n",
        "\n"
      ],
      "metadata": {
        "colab": {
          "base_uri": "https://localhost:8080/"
        },
        "id": "qtM4DNpVGbaz",
        "outputId": "d6009552-45cf-40d6-da57-f96dbc27e25a"
      },
      "execution_count": null,
      "outputs": [
        {
          "output_type": "stream",
          "name": "stderr",
          "text": [
            "  0%|          | 0/500 [00:00<?, ?it/s]Truncation was not explicitly activated but `max_length` is provided a specific value, please use `truncation=True` to explicitly truncate examples to max length. Defaulting to 'longest_first' truncation strategy. If you encode pairs of sequences (GLUE-style) with the tokenizer you can select this strategy more precisely by providing a specific strategy to `truncation`.\n",
            "100%|██████████| 500/500 [07:41<00:00,  1.08it/s]\n"
          ]
        }
      ]
    },
    {
      "cell_type": "code",
      "source": [
        "# average over all test data\n",
        "for key in results.keys(): \n",
        "  results[key] /= len(test_data)\n",
        "results"
      ],
      "metadata": {
        "colab": {
          "base_uri": "https://localhost:8080/"
        },
        "id": "xAGp1-O_m-wE",
        "outputId": "600bfe05-8890-449d-997d-9dd0b3497f2f"
      },
      "execution_count": null,
      "outputs": [
        {
          "output_type": "execute_result",
          "data": {
            "text/plain": [
              "{'rouge1': array([0.33994091, 0.18447895, 0.22818755]),\n",
              " 'rouge2': array([0.13704928, 0.07378643, 0.09125379]),\n",
              " 'rougeL': array([0.26795599, 0.14426502, 0.17888759])}"
            ]
          },
          "metadata": {},
          "execution_count": 203
        }
      ]
    },
    {
      "cell_type": "code",
      "source": [
        "# Print Average F1 metrics \n",
        "print(\"average R1: \", results['rouge1'][2])\n",
        "print(\"average R2: \", results['rouge2'][2])\n",
        "print(\"average RL: \", results['rougeL'][2])"
      ],
      "metadata": {
        "colab": {
          "base_uri": "https://localhost:8080/"
        },
        "id": "er-7zxMZGbei",
        "outputId": "f76865cc-5c79-4734-c3b8-6d9952550f71"
      },
      "execution_count": null,
      "outputs": [
        {
          "output_type": "stream",
          "name": "stdout",
          "text": [
            "average R1:  0.22818755310680386\n",
            "average R2:  0.09125379336492445\n",
            "average RL:  0.17888759433349882\n"
          ]
        }
      ]
    },
    {
      "cell_type": "code",
      "source": [
        "# all following values should be *819/500"
      ],
      "metadata": {
        "id": "v_jZLsJcZLnd"
      },
      "execution_count": null,
      "outputs": []
    },
    {
      "cell_type": "code",
      "source": [
        "'''\n",
        "all gpt\n",
        "average R1:  0.23589284340278896\n",
        "average R2:  0.09249399524623757\n",
        "average RL:  0.18861802104455763\n",
        "\n",
        "'''"
      ],
      "metadata": {
        "id": "PHCSDub5VZMa"
      },
      "execution_count": null,
      "outputs": []
    },
    {
      "cell_type": "code",
      "source": [
        "'''\n",
        "all samsum\n",
        "average R1:  0.24275468763338118\n",
        "average R2:  0.10179598349934946\n",
        "average RL:  0.19249650711464608\n",
        "\n",
        "'''"
      ],
      "metadata": {
        "id": "XT43oPB1nH25"
      },
      "execution_count": null,
      "outputs": []
    },
    {
      "cell_type": "code",
      "source": [
        "'''\n",
        "samsum gpt half\n",
        "average R1:  0.22818755310680386\n",
        "average R2:  0.09125379336492445\n",
        "average RL:  0.17888759433349882\n",
        "\n",
        "'''"
      ],
      "metadata": {
        "id": "T74JDrO_nH6-"
      },
      "execution_count": null,
      "outputs": []
    },
    {
      "cell_type": "markdown",
      "source": [
        "#### bertscore"
      ],
      "metadata": {
        "id": "1kZS76aGvUvc"
      }
    },
    {
      "cell_type": "code",
      "source": [
        "# all chatgpt\n",
        "tokenizer_gpt = BartTokenizer.from_pretrained('/content/drive/MyDrive/Project/dl-gp/BART-large-full-GPT/bart-tokenizer-3epoch')\n",
        "gen_kwargs_gpt = {\"length_penalty\": 0.6, \"num_beams\":8, \"max_length\": 128}\n",
        "pipe_gpt = pipeline(\"summarization\", model='/content/drive/MyDrive/Project/dl-gp/BART-large-full-GPT/bart-large-model-3epoch',tokenizer=tokenizer_gpt)"
      ],
      "metadata": {
        "id": "Ra7e2_rTnH_P"
      },
      "execution_count": null,
      "outputs": []
    },
    {
      "cell_type": "code",
      "source": [
        "# all samsum\n",
        "name_samsum = 'philschmid/bart-large-cnn-samsum'\n",
        "tokenizer_samsum = BartTokenizer.from_pretrained(name_samsum)\n",
        "gen_kwargs_samsum = {\"length_penalty\": 0.6, \"num_beams\":8, \"max_length\": 128}\n",
        "pipe_samsum = pipeline(\"summarization\", model=name_samsum,tokenizer=tokenizer_samsum)"
      ],
      "metadata": {
        "id": "1QgJ8oSOxolw"
      },
      "execution_count": null,
      "outputs": []
    },
    {
      "cell_type": "code",
      "source": [
        "# half\n",
        "name_half = '/content/drive/MyDrive/Project/dl-gp/bart-half-3'\n",
        "tokenizer_half = BartTokenizer.from_pretrained(name_half)\n",
        "gen_kwargs_half = {\"length_penalty\": 0.6, \"num_beams\":8, \"max_length\": 128}\n",
        "pipe_half = pipeline(\"summarization\", model=name_half,tokenizer=tokenizer_half)"
      ],
      "metadata": {
        "id": "l5mir3PE3ZRu"
      },
      "execution_count": null,
      "outputs": []
    },
    {
      "cell_type": "code",
      "source": [
        "newtest"
      ],
      "metadata": {
        "colab": {
          "base_uri": "https://localhost:8080/",
          "height": 424
        },
        "id": "1M5WyExq4T6J",
        "outputId": "7771f1f0-4545-4017-f7e4-84dcbe13374e"
      },
      "execution_count": null,
      "outputs": [
        {
          "output_type": "execute_result",
          "data": {
            "text/plain": [
              "             id                                           dialogue  \\\n",
              "200   test_66_3  #Person1#: Have you considered upgrading your ...   \n",
              "201   test_67_1  #Person1#: Where to, miss?\\n#Person2#: Hi! Cre...   \n",
              "202   test_67_2  #Person1#: Where to, miss?\\n#Person2#: Hi! Cre...   \n",
              "203   test_67_3  #Person1#: Where to, miss?\\n#Person2#: Hi! Cre...   \n",
              "204   test_68_1  #Person1#: Oh dear, my weight has gone up agai...   \n",
              "..          ...                                                ...   \n",
              "695  test_231_3  #Person1#: Hi, Laura. Where are you heading wi...   \n",
              "696  test_232_1  #Person1#: Were you born in Los Angeles?\\n#Per...   \n",
              "697  test_232_2  #Person1#: Were you born in Los Angeles?\\n#Per...   \n",
              "698  test_232_3  #Person1#: Were you born in Los Angeles?\\n#Per...   \n",
              "699  test_233_1  #Person1#: What do you think of my new suit?\\n...   \n",
              "\n",
              "                                               summary  \n",
              "200  #Person1# teaches #Person2# how to upgrade sof...  \n",
              "201  #Person1# is driving #Person2# to an inn. They...  \n",
              "202  #Person1# drives #Person2# to an inn and they ...  \n",
              "203  #Person1# drives #Person2# from the airport to...  \n",
              "204  #Person1# wants to lose weight. #Person2# sugg...  \n",
              "..                                                 ...  \n",
              "695  Laura exercises both for health and to look go...  \n",
              "696  #Person1# asks #Person2# about past experience...  \n",
              "697  #Person1# is asking #Person2# about the places...  \n",
              "698  #Person1# and #Person2# talk about #Person2#'s...  \n",
              "699  #Person1# bought a new suit with $ 150 and #Pe...  \n",
              "\n",
              "[500 rows x 3 columns]"
            ],
            "text/html": [
              "\n",
              "  <div id=\"df-87b83185-155c-4d9b-acd3-3255b8811fbc\">\n",
              "    <div class=\"colab-df-container\">\n",
              "      <div>\n",
              "<style scoped>\n",
              "    .dataframe tbody tr th:only-of-type {\n",
              "        vertical-align: middle;\n",
              "    }\n",
              "\n",
              "    .dataframe tbody tr th {\n",
              "        vertical-align: top;\n",
              "    }\n",
              "\n",
              "    .dataframe thead th {\n",
              "        text-align: right;\n",
              "    }\n",
              "</style>\n",
              "<table border=\"1\" class=\"dataframe\">\n",
              "  <thead>\n",
              "    <tr style=\"text-align: right;\">\n",
              "      <th></th>\n",
              "      <th>id</th>\n",
              "      <th>dialogue</th>\n",
              "      <th>summary</th>\n",
              "    </tr>\n",
              "  </thead>\n",
              "  <tbody>\n",
              "    <tr>\n",
              "      <th>200</th>\n",
              "      <td>test_66_3</td>\n",
              "      <td>#Person1#: Have you considered upgrading your ...</td>\n",
              "      <td>#Person1# teaches #Person2# how to upgrade sof...</td>\n",
              "    </tr>\n",
              "    <tr>\n",
              "      <th>201</th>\n",
              "      <td>test_67_1</td>\n",
              "      <td>#Person1#: Where to, miss?\\n#Person2#: Hi! Cre...</td>\n",
              "      <td>#Person1# is driving #Person2# to an inn. They...</td>\n",
              "    </tr>\n",
              "    <tr>\n",
              "      <th>202</th>\n",
              "      <td>test_67_2</td>\n",
              "      <td>#Person1#: Where to, miss?\\n#Person2#: Hi! Cre...</td>\n",
              "      <td>#Person1# drives #Person2# to an inn and they ...</td>\n",
              "    </tr>\n",
              "    <tr>\n",
              "      <th>203</th>\n",
              "      <td>test_67_3</td>\n",
              "      <td>#Person1#: Where to, miss?\\n#Person2#: Hi! Cre...</td>\n",
              "      <td>#Person1# drives #Person2# from the airport to...</td>\n",
              "    </tr>\n",
              "    <tr>\n",
              "      <th>204</th>\n",
              "      <td>test_68_1</td>\n",
              "      <td>#Person1#: Oh dear, my weight has gone up agai...</td>\n",
              "      <td>#Person1# wants to lose weight. #Person2# sugg...</td>\n",
              "    </tr>\n",
              "    <tr>\n",
              "      <th>...</th>\n",
              "      <td>...</td>\n",
              "      <td>...</td>\n",
              "      <td>...</td>\n",
              "    </tr>\n",
              "    <tr>\n",
              "      <th>695</th>\n",
              "      <td>test_231_3</td>\n",
              "      <td>#Person1#: Hi, Laura. Where are you heading wi...</td>\n",
              "      <td>Laura exercises both for health and to look go...</td>\n",
              "    </tr>\n",
              "    <tr>\n",
              "      <th>696</th>\n",
              "      <td>test_232_1</td>\n",
              "      <td>#Person1#: Were you born in Los Angeles?\\n#Per...</td>\n",
              "      <td>#Person1# asks #Person2# about past experience...</td>\n",
              "    </tr>\n",
              "    <tr>\n",
              "      <th>697</th>\n",
              "      <td>test_232_2</td>\n",
              "      <td>#Person1#: Were you born in Los Angeles?\\n#Per...</td>\n",
              "      <td>#Person1# is asking #Person2# about the places...</td>\n",
              "    </tr>\n",
              "    <tr>\n",
              "      <th>698</th>\n",
              "      <td>test_232_3</td>\n",
              "      <td>#Person1#: Were you born in Los Angeles?\\n#Per...</td>\n",
              "      <td>#Person1# and #Person2# talk about #Person2#'s...</td>\n",
              "    </tr>\n",
              "    <tr>\n",
              "      <th>699</th>\n",
              "      <td>test_233_1</td>\n",
              "      <td>#Person1#: What do you think of my new suit?\\n...</td>\n",
              "      <td>#Person1# bought a new suit with $ 150 and #Pe...</td>\n",
              "    </tr>\n",
              "  </tbody>\n",
              "</table>\n",
              "<p>500 rows × 3 columns</p>\n",
              "</div>\n",
              "      <button class=\"colab-df-convert\" onclick=\"convertToInteractive('df-87b83185-155c-4d9b-acd3-3255b8811fbc')\"\n",
              "              title=\"Convert this dataframe to an interactive table.\"\n",
              "              style=\"display:none;\">\n",
              "        \n",
              "  <svg xmlns=\"http://www.w3.org/2000/svg\" height=\"24px\"viewBox=\"0 0 24 24\"\n",
              "       width=\"24px\">\n",
              "    <path d=\"M0 0h24v24H0V0z\" fill=\"none\"/>\n",
              "    <path d=\"M18.56 5.44l.94 2.06.94-2.06 2.06-.94-2.06-.94-.94-2.06-.94 2.06-2.06.94zm-11 1L8.5 8.5l.94-2.06 2.06-.94-2.06-.94L8.5 2.5l-.94 2.06-2.06.94zm10 10l.94 2.06.94-2.06 2.06-.94-2.06-.94-.94-2.06-.94 2.06-2.06.94z\"/><path d=\"M17.41 7.96l-1.37-1.37c-.4-.4-.92-.59-1.43-.59-.52 0-1.04.2-1.43.59L10.3 9.45l-7.72 7.72c-.78.78-.78 2.05 0 2.83L4 21.41c.39.39.9.59 1.41.59.51 0 1.02-.2 1.41-.59l7.78-7.78 2.81-2.81c.8-.78.8-2.07 0-2.86zM5.41 20L4 18.59l7.72-7.72 1.47 1.35L5.41 20z\"/>\n",
              "  </svg>\n",
              "      </button>\n",
              "      \n",
              "  <style>\n",
              "    .colab-df-container {\n",
              "      display:flex;\n",
              "      flex-wrap:wrap;\n",
              "      gap: 12px;\n",
              "    }\n",
              "\n",
              "    .colab-df-convert {\n",
              "      background-color: #E8F0FE;\n",
              "      border: none;\n",
              "      border-radius: 50%;\n",
              "      cursor: pointer;\n",
              "      display: none;\n",
              "      fill: #1967D2;\n",
              "      height: 32px;\n",
              "      padding: 0 0 0 0;\n",
              "      width: 32px;\n",
              "    }\n",
              "\n",
              "    .colab-df-convert:hover {\n",
              "      background-color: #E2EBFA;\n",
              "      box-shadow: 0px 1px 2px rgba(60, 64, 67, 0.3), 0px 1px 3px 1px rgba(60, 64, 67, 0.15);\n",
              "      fill: #174EA6;\n",
              "    }\n",
              "\n",
              "    [theme=dark] .colab-df-convert {\n",
              "      background-color: #3B4455;\n",
              "      fill: #D2E3FC;\n",
              "    }\n",
              "\n",
              "    [theme=dark] .colab-df-convert:hover {\n",
              "      background-color: #434B5C;\n",
              "      box-shadow: 0px 1px 3px 1px rgba(0, 0, 0, 0.15);\n",
              "      filter: drop-shadow(0px 1px 2px rgba(0, 0, 0, 0.3));\n",
              "      fill: #FFFFFF;\n",
              "    }\n",
              "  </style>\n",
              "\n",
              "      <script>\n",
              "        const buttonEl =\n",
              "          document.querySelector('#df-87b83185-155c-4d9b-acd3-3255b8811fbc button.colab-df-convert');\n",
              "        buttonEl.style.display =\n",
              "          google.colab.kernel.accessAllowed ? 'block' : 'none';\n",
              "\n",
              "        async function convertToInteractive(key) {\n",
              "          const element = document.querySelector('#df-87b83185-155c-4d9b-acd3-3255b8811fbc');\n",
              "          const dataTable =\n",
              "            await google.colab.kernel.invokeFunction('convertToInteractive',\n",
              "                                                     [key], {});\n",
              "          if (!dataTable) return;\n",
              "\n",
              "          const docLinkHtml = 'Like what you see? Visit the ' +\n",
              "            '<a target=\"_blank\" href=https://colab.research.google.com/notebooks/data_table.ipynb>data table notebook</a>'\n",
              "            + ' to learn more about interactive tables.';\n",
              "          element.innerHTML = '';\n",
              "          dataTable['output_type'] = 'display_data';\n",
              "          await google.colab.output.renderOutput(dataTable, element);\n",
              "          const docLink = document.createElement('div');\n",
              "          docLink.innerHTML = docLinkHtml;\n",
              "          element.appendChild(docLink);\n",
              "        }\n",
              "      </script>\n",
              "    </div>\n",
              "  </div>\n",
              "  "
            ]
          },
          "metadata": {},
          "execution_count": 209
        }
      ]
    },
    {
      "cell_type": "code",
      "source": [
        "newtest_summary_list = newtest.summary.to_list()\n",
        "newtest_dialogue_list = newtest.dialogue.to_list()"
      ],
      "metadata": {
        "id": "R1xhtWWq4DQT"
      },
      "execution_count": null,
      "outputs": []
    },
    {
      "cell_type": "code",
      "source": [
        "len(newtest_summary_list)"
      ],
      "metadata": {
        "colab": {
          "base_uri": "https://localhost:8080/"
        },
        "id": "oLwkg2ch4eHQ",
        "outputId": "157e4850-1051-4603-9e92-3cee5ef6bab9"
      },
      "execution_count": null,
      "outputs": [
        {
          "output_type": "execute_result",
          "data": {
            "text/plain": [
              "500"
            ]
          },
          "metadata": {},
          "execution_count": 211
        }
      ]
    },
    {
      "cell_type": "code",
      "source": [
        "len(newtest_dialogue_list)"
      ],
      "metadata": {
        "colab": {
          "base_uri": "https://localhost:8080/"
        },
        "id": "-7m10Fqt4h8Z",
        "outputId": "80d431dc-3eed-4bed-e724-a79e379cc669"
      },
      "execution_count": null,
      "outputs": [
        {
          "output_type": "execute_result",
          "data": {
            "text/plain": [
              "500"
            ]
          },
          "metadata": {},
          "execution_count": 212
        }
      ]
    },
    {
      "cell_type": "code",
      "source": [
        "sample_text = newtest_dialogue_list[200]\n",
        "reference = newtest_summary_list[200]"
      ],
      "metadata": {
        "id": "BK4WL0zm4xkA"
      },
      "execution_count": null,
      "outputs": []
    },
    {
      "cell_type": "code",
      "source": [
        "gpt_list = []\n",
        "samsum_list = []\n",
        "half_list = []"
      ],
      "metadata": {
        "id": "PAQJ61JF5D6B"
      },
      "execution_count": null,
      "outputs": []
    },
    {
      "cell_type": "code",
      "source": [
        "for i in range(len(newtest_dialogue_list)):\n",
        "  if i % 50 == 0:\n",
        "    print(str(i))\n",
        "  sample_text = newtest_dialogue_list[i]\n",
        "\n",
        "  out_gpt = pipe_gpt(sample_text, **gen_kwargs_gpt)[0][\"summary_text\"]\n",
        "  gpt_list.append(out_gpt)\n",
        "\n",
        "  out_half = pipe_half(sample_text, **gen_kwargs_half)[0][\"summary_text\"]\n",
        "  half_list.append(out_half)\n",
        "\n",
        "  out_samsum = pipe_samsum(sample_text, **gen_kwargs_samsum)[0][\"summary_text\"]\n",
        "  samsum_list.append(out_samsum)\n"
      ],
      "metadata": {
        "id": "guxQ2CIC4xBX"
      },
      "execution_count": null,
      "outputs": []
    },
    {
      "cell_type": "code",
      "source": [
        "with open(r'/content/newtest_gpt.txt', 'w') as fp:\n",
        "    for item in gpt_list:\n",
        "        # write each item on a new line\n",
        "        fp.write(\"%s\\n\" % item)\n",
        "    print('Done')"
      ],
      "metadata": {
        "colab": {
          "base_uri": "https://localhost:8080/"
        },
        "id": "s73Q4dv36XYC",
        "outputId": "de0ca219-11a4-4899-f25a-f818e7e5dbc4"
      },
      "execution_count": null,
      "outputs": [
        {
          "output_type": "stream",
          "name": "stdout",
          "text": [
            "Done\n"
          ]
        }
      ]
    },
    {
      "cell_type": "code",
      "source": [
        "with open(r'/content/newtest_samsum.txt', 'w') as fp:\n",
        "    for item in samsum_list:\n",
        "        # write each item on a new line\n",
        "        fp.write(\"%s\\n\" % item)\n",
        "    print('Done')"
      ],
      "metadata": {
        "colab": {
          "base_uri": "https://localhost:8080/"
        },
        "id": "LoeNcPd86eBU",
        "outputId": "75953960-fd62-4d3c-bfea-2c7141a3e57e"
      },
      "execution_count": null,
      "outputs": [
        {
          "output_type": "stream",
          "name": "stdout",
          "text": [
            "Done\n"
          ]
        }
      ]
    },
    {
      "cell_type": "code",
      "source": [
        "with open(r'/content/newtest_half.txt', 'w') as fp:\n",
        "    for item in half_list:\n",
        "        # write each item on a new line\n",
        "        fp.write(\"%s\\n\" % item)\n",
        "    print('Done')"
      ],
      "metadata": {
        "colab": {
          "base_uri": "https://localhost:8080/"
        },
        "id": "fSb-n6kT665l",
        "outputId": "83eaaee7-538e-4db0-bf78-18e8d777a41f"
      },
      "execution_count": null,
      "outputs": [
        {
          "output_type": "stream",
          "name": "stdout",
          "text": [
            "Done\n"
          ]
        }
      ]
    },
    {
      "cell_type": "code",
      "source": [
        "predictions_gpt = gpt_list\n",
        "references = newtest_summary_list\n",
        "results_gpt = bertscore.compute(predictions=predictions_gpt, references=references, lang=\"en\")\n",
        "pd.DataFrame(results_gpt).describe()"
      ],
      "metadata": {
        "colab": {
          "base_uri": "https://localhost:8080/",
          "height": 300
        },
        "id": "8EWQuExi7C9a",
        "outputId": "6111949c-96cf-4b16-e2c8-fb94e4c39f2f"
      },
      "execution_count": null,
      "outputs": [
        {
          "output_type": "execute_result",
          "data": {
            "text/plain": [
              "        precision      recall          f1\n",
              "count  500.000000  500.000000  500.000000\n",
              "mean     0.878447    0.912362    0.894951\n",
              "std      0.021399    0.022699    0.019218\n",
              "min      0.822990    0.833746    0.839351\n",
              "25%      0.862992    0.899938    0.882509\n",
              "50%      0.881271    0.914384    0.896300\n",
              "75%      0.893303    0.928616    0.907713\n",
              "max      0.933218    0.967221    0.944993"
            ],
            "text/html": [
              "\n",
              "  <div id=\"df-524b576f-dc23-4331-bb9e-6d76c9c3f6af\">\n",
              "    <div class=\"colab-df-container\">\n",
              "      <div>\n",
              "<style scoped>\n",
              "    .dataframe tbody tr th:only-of-type {\n",
              "        vertical-align: middle;\n",
              "    }\n",
              "\n",
              "    .dataframe tbody tr th {\n",
              "        vertical-align: top;\n",
              "    }\n",
              "\n",
              "    .dataframe thead th {\n",
              "        text-align: right;\n",
              "    }\n",
              "</style>\n",
              "<table border=\"1\" class=\"dataframe\">\n",
              "  <thead>\n",
              "    <tr style=\"text-align: right;\">\n",
              "      <th></th>\n",
              "      <th>precision</th>\n",
              "      <th>recall</th>\n",
              "      <th>f1</th>\n",
              "    </tr>\n",
              "  </thead>\n",
              "  <tbody>\n",
              "    <tr>\n",
              "      <th>count</th>\n",
              "      <td>500.000000</td>\n",
              "      <td>500.000000</td>\n",
              "      <td>500.000000</td>\n",
              "    </tr>\n",
              "    <tr>\n",
              "      <th>mean</th>\n",
              "      <td>0.878447</td>\n",
              "      <td>0.912362</td>\n",
              "      <td>0.894951</td>\n",
              "    </tr>\n",
              "    <tr>\n",
              "      <th>std</th>\n",
              "      <td>0.021399</td>\n",
              "      <td>0.022699</td>\n",
              "      <td>0.019218</td>\n",
              "    </tr>\n",
              "    <tr>\n",
              "      <th>min</th>\n",
              "      <td>0.822990</td>\n",
              "      <td>0.833746</td>\n",
              "      <td>0.839351</td>\n",
              "    </tr>\n",
              "    <tr>\n",
              "      <th>25%</th>\n",
              "      <td>0.862992</td>\n",
              "      <td>0.899938</td>\n",
              "      <td>0.882509</td>\n",
              "    </tr>\n",
              "    <tr>\n",
              "      <th>50%</th>\n",
              "      <td>0.881271</td>\n",
              "      <td>0.914384</td>\n",
              "      <td>0.896300</td>\n",
              "    </tr>\n",
              "    <tr>\n",
              "      <th>75%</th>\n",
              "      <td>0.893303</td>\n",
              "      <td>0.928616</td>\n",
              "      <td>0.907713</td>\n",
              "    </tr>\n",
              "    <tr>\n",
              "      <th>max</th>\n",
              "      <td>0.933218</td>\n",
              "      <td>0.967221</td>\n",
              "      <td>0.944993</td>\n",
              "    </tr>\n",
              "  </tbody>\n",
              "</table>\n",
              "</div>\n",
              "      <button class=\"colab-df-convert\" onclick=\"convertToInteractive('df-524b576f-dc23-4331-bb9e-6d76c9c3f6af')\"\n",
              "              title=\"Convert this dataframe to an interactive table.\"\n",
              "              style=\"display:none;\">\n",
              "        \n",
              "  <svg xmlns=\"http://www.w3.org/2000/svg\" height=\"24px\"viewBox=\"0 0 24 24\"\n",
              "       width=\"24px\">\n",
              "    <path d=\"M0 0h24v24H0V0z\" fill=\"none\"/>\n",
              "    <path d=\"M18.56 5.44l.94 2.06.94-2.06 2.06-.94-2.06-.94-.94-2.06-.94 2.06-2.06.94zm-11 1L8.5 8.5l.94-2.06 2.06-.94-2.06-.94L8.5 2.5l-.94 2.06-2.06.94zm10 10l.94 2.06.94-2.06 2.06-.94-2.06-.94-.94-2.06-.94 2.06-2.06.94z\"/><path d=\"M17.41 7.96l-1.37-1.37c-.4-.4-.92-.59-1.43-.59-.52 0-1.04.2-1.43.59L10.3 9.45l-7.72 7.72c-.78.78-.78 2.05 0 2.83L4 21.41c.39.39.9.59 1.41.59.51 0 1.02-.2 1.41-.59l7.78-7.78 2.81-2.81c.8-.78.8-2.07 0-2.86zM5.41 20L4 18.59l7.72-7.72 1.47 1.35L5.41 20z\"/>\n",
              "  </svg>\n",
              "      </button>\n",
              "      \n",
              "  <style>\n",
              "    .colab-df-container {\n",
              "      display:flex;\n",
              "      flex-wrap:wrap;\n",
              "      gap: 12px;\n",
              "    }\n",
              "\n",
              "    .colab-df-convert {\n",
              "      background-color: #E8F0FE;\n",
              "      border: none;\n",
              "      border-radius: 50%;\n",
              "      cursor: pointer;\n",
              "      display: none;\n",
              "      fill: #1967D2;\n",
              "      height: 32px;\n",
              "      padding: 0 0 0 0;\n",
              "      width: 32px;\n",
              "    }\n",
              "\n",
              "    .colab-df-convert:hover {\n",
              "      background-color: #E2EBFA;\n",
              "      box-shadow: 0px 1px 2px rgba(60, 64, 67, 0.3), 0px 1px 3px 1px rgba(60, 64, 67, 0.15);\n",
              "      fill: #174EA6;\n",
              "    }\n",
              "\n",
              "    [theme=dark] .colab-df-convert {\n",
              "      background-color: #3B4455;\n",
              "      fill: #D2E3FC;\n",
              "    }\n",
              "\n",
              "    [theme=dark] .colab-df-convert:hover {\n",
              "      background-color: #434B5C;\n",
              "      box-shadow: 0px 1px 3px 1px rgba(0, 0, 0, 0.15);\n",
              "      filter: drop-shadow(0px 1px 2px rgba(0, 0, 0, 0.3));\n",
              "      fill: #FFFFFF;\n",
              "    }\n",
              "  </style>\n",
              "\n",
              "      <script>\n",
              "        const buttonEl =\n",
              "          document.querySelector('#df-524b576f-dc23-4331-bb9e-6d76c9c3f6af button.colab-df-convert');\n",
              "        buttonEl.style.display =\n",
              "          google.colab.kernel.accessAllowed ? 'block' : 'none';\n",
              "\n",
              "        async function convertToInteractive(key) {\n",
              "          const element = document.querySelector('#df-524b576f-dc23-4331-bb9e-6d76c9c3f6af');\n",
              "          const dataTable =\n",
              "            await google.colab.kernel.invokeFunction('convertToInteractive',\n",
              "                                                     [key], {});\n",
              "          if (!dataTable) return;\n",
              "\n",
              "          const docLinkHtml = 'Like what you see? Visit the ' +\n",
              "            '<a target=\"_blank\" href=https://colab.research.google.com/notebooks/data_table.ipynb>data table notebook</a>'\n",
              "            + ' to learn more about interactive tables.';\n",
              "          element.innerHTML = '';\n",
              "          dataTable['output_type'] = 'display_data';\n",
              "          await google.colab.output.renderOutput(dataTable, element);\n",
              "          const docLink = document.createElement('div');\n",
              "          docLink.innerHTML = docLinkHtml;\n",
              "          element.appendChild(docLink);\n",
              "        }\n",
              "      </script>\n",
              "    </div>\n",
              "  </div>\n",
              "  "
            ]
          },
          "metadata": {},
          "execution_count": 220
        }
      ]
    },
    {
      "cell_type": "code",
      "source": [
        "predictions_samsum = samsum_list\n",
        "references = newtest_summary_list\n",
        "results_samsum = bertscore.compute(predictions=predictions_samsum, references=references, lang=\"en\")\n",
        "pd.DataFrame(results_samsum).describe()"
      ],
      "metadata": {
        "colab": {
          "base_uri": "https://localhost:8080/",
          "height": 300
        },
        "id": "1L1pU62PXdVP",
        "outputId": "65372d53-4860-4e68-c2b7-b7eefc9a446a"
      },
      "execution_count": null,
      "outputs": [
        {
          "output_type": "execute_result",
          "data": {
            "text/plain": [
              "        precision      recall          f1\n",
              "count  500.000000  500.000000  500.000000\n",
              "mean     0.879131    0.912465    0.895374\n",
              "std      0.022695    0.022249    0.020164\n",
              "min      0.811855    0.844266    0.838776\n",
              "25%      0.863384    0.899200    0.882649\n",
              "50%      0.881220    0.913484    0.896171\n",
              "75%      0.895472    0.929290    0.909640\n",
              "max      0.935046    0.965356    0.940229"
            ],
            "text/html": [
              "\n",
              "  <div id=\"df-7a23bf3f-ca32-4491-a4de-3ee8760a27fb\">\n",
              "    <div class=\"colab-df-container\">\n",
              "      <div>\n",
              "<style scoped>\n",
              "    .dataframe tbody tr th:only-of-type {\n",
              "        vertical-align: middle;\n",
              "    }\n",
              "\n",
              "    .dataframe tbody tr th {\n",
              "        vertical-align: top;\n",
              "    }\n",
              "\n",
              "    .dataframe thead th {\n",
              "        text-align: right;\n",
              "    }\n",
              "</style>\n",
              "<table border=\"1\" class=\"dataframe\">\n",
              "  <thead>\n",
              "    <tr style=\"text-align: right;\">\n",
              "      <th></th>\n",
              "      <th>precision</th>\n",
              "      <th>recall</th>\n",
              "      <th>f1</th>\n",
              "    </tr>\n",
              "  </thead>\n",
              "  <tbody>\n",
              "    <tr>\n",
              "      <th>count</th>\n",
              "      <td>500.000000</td>\n",
              "      <td>500.000000</td>\n",
              "      <td>500.000000</td>\n",
              "    </tr>\n",
              "    <tr>\n",
              "      <th>mean</th>\n",
              "      <td>0.879131</td>\n",
              "      <td>0.912465</td>\n",
              "      <td>0.895374</td>\n",
              "    </tr>\n",
              "    <tr>\n",
              "      <th>std</th>\n",
              "      <td>0.022695</td>\n",
              "      <td>0.022249</td>\n",
              "      <td>0.020164</td>\n",
              "    </tr>\n",
              "    <tr>\n",
              "      <th>min</th>\n",
              "      <td>0.811855</td>\n",
              "      <td>0.844266</td>\n",
              "      <td>0.838776</td>\n",
              "    </tr>\n",
              "    <tr>\n",
              "      <th>25%</th>\n",
              "      <td>0.863384</td>\n",
              "      <td>0.899200</td>\n",
              "      <td>0.882649</td>\n",
              "    </tr>\n",
              "    <tr>\n",
              "      <th>50%</th>\n",
              "      <td>0.881220</td>\n",
              "      <td>0.913484</td>\n",
              "      <td>0.896171</td>\n",
              "    </tr>\n",
              "    <tr>\n",
              "      <th>75%</th>\n",
              "      <td>0.895472</td>\n",
              "      <td>0.929290</td>\n",
              "      <td>0.909640</td>\n",
              "    </tr>\n",
              "    <tr>\n",
              "      <th>max</th>\n",
              "      <td>0.935046</td>\n",
              "      <td>0.965356</td>\n",
              "      <td>0.940229</td>\n",
              "    </tr>\n",
              "  </tbody>\n",
              "</table>\n",
              "</div>\n",
              "      <button class=\"colab-df-convert\" onclick=\"convertToInteractive('df-7a23bf3f-ca32-4491-a4de-3ee8760a27fb')\"\n",
              "              title=\"Convert this dataframe to an interactive table.\"\n",
              "              style=\"display:none;\">\n",
              "        \n",
              "  <svg xmlns=\"http://www.w3.org/2000/svg\" height=\"24px\"viewBox=\"0 0 24 24\"\n",
              "       width=\"24px\">\n",
              "    <path d=\"M0 0h24v24H0V0z\" fill=\"none\"/>\n",
              "    <path d=\"M18.56 5.44l.94 2.06.94-2.06 2.06-.94-2.06-.94-.94-2.06-.94 2.06-2.06.94zm-11 1L8.5 8.5l.94-2.06 2.06-.94-2.06-.94L8.5 2.5l-.94 2.06-2.06.94zm10 10l.94 2.06.94-2.06 2.06-.94-2.06-.94-.94-2.06-.94 2.06-2.06.94z\"/><path d=\"M17.41 7.96l-1.37-1.37c-.4-.4-.92-.59-1.43-.59-.52 0-1.04.2-1.43.59L10.3 9.45l-7.72 7.72c-.78.78-.78 2.05 0 2.83L4 21.41c.39.39.9.59 1.41.59.51 0 1.02-.2 1.41-.59l7.78-7.78 2.81-2.81c.8-.78.8-2.07 0-2.86zM5.41 20L4 18.59l7.72-7.72 1.47 1.35L5.41 20z\"/>\n",
              "  </svg>\n",
              "      </button>\n",
              "      \n",
              "  <style>\n",
              "    .colab-df-container {\n",
              "      display:flex;\n",
              "      flex-wrap:wrap;\n",
              "      gap: 12px;\n",
              "    }\n",
              "\n",
              "    .colab-df-convert {\n",
              "      background-color: #E8F0FE;\n",
              "      border: none;\n",
              "      border-radius: 50%;\n",
              "      cursor: pointer;\n",
              "      display: none;\n",
              "      fill: #1967D2;\n",
              "      height: 32px;\n",
              "      padding: 0 0 0 0;\n",
              "      width: 32px;\n",
              "    }\n",
              "\n",
              "    .colab-df-convert:hover {\n",
              "      background-color: #E2EBFA;\n",
              "      box-shadow: 0px 1px 2px rgba(60, 64, 67, 0.3), 0px 1px 3px 1px rgba(60, 64, 67, 0.15);\n",
              "      fill: #174EA6;\n",
              "    }\n",
              "\n",
              "    [theme=dark] .colab-df-convert {\n",
              "      background-color: #3B4455;\n",
              "      fill: #D2E3FC;\n",
              "    }\n",
              "\n",
              "    [theme=dark] .colab-df-convert:hover {\n",
              "      background-color: #434B5C;\n",
              "      box-shadow: 0px 1px 3px 1px rgba(0, 0, 0, 0.15);\n",
              "      filter: drop-shadow(0px 1px 2px rgba(0, 0, 0, 0.3));\n",
              "      fill: #FFFFFF;\n",
              "    }\n",
              "  </style>\n",
              "\n",
              "      <script>\n",
              "        const buttonEl =\n",
              "          document.querySelector('#df-7a23bf3f-ca32-4491-a4de-3ee8760a27fb button.colab-df-convert');\n",
              "        buttonEl.style.display =\n",
              "          google.colab.kernel.accessAllowed ? 'block' : 'none';\n",
              "\n",
              "        async function convertToInteractive(key) {\n",
              "          const element = document.querySelector('#df-7a23bf3f-ca32-4491-a4de-3ee8760a27fb');\n",
              "          const dataTable =\n",
              "            await google.colab.kernel.invokeFunction('convertToInteractive',\n",
              "                                                     [key], {});\n",
              "          if (!dataTable) return;\n",
              "\n",
              "          const docLinkHtml = 'Like what you see? Visit the ' +\n",
              "            '<a target=\"_blank\" href=https://colab.research.google.com/notebooks/data_table.ipynb>data table notebook</a>'\n",
              "            + ' to learn more about interactive tables.';\n",
              "          element.innerHTML = '';\n",
              "          dataTable['output_type'] = 'display_data';\n",
              "          await google.colab.output.renderOutput(dataTable, element);\n",
              "          const docLink = document.createElement('div');\n",
              "          docLink.innerHTML = docLinkHtml;\n",
              "          element.appendChild(docLink);\n",
              "        }\n",
              "      </script>\n",
              "    </div>\n",
              "  </div>\n",
              "  "
            ]
          },
          "metadata": {},
          "execution_count": 221
        }
      ]
    },
    {
      "cell_type": "code",
      "source": [
        "predictions_half = half_list\n",
        "references = newtest_summary_list\n",
        "results_half = bertscore.compute(predictions=predictions_half, references=references, lang=\"en\")\n",
        "pd.DataFrame(results_half).describe()"
      ],
      "metadata": {
        "colab": {
          "base_uri": "https://localhost:8080/",
          "height": 300
        },
        "id": "PtJ2EUY5XdaO",
        "outputId": "bb43b475-1800-4a84-8562-87c776b07397"
      },
      "execution_count": null,
      "outputs": [
        {
          "output_type": "execute_result",
          "data": {
            "text/plain": [
              "        precision      recall          f1\n",
              "count  500.000000  500.000000  500.000000\n",
              "mean     0.877313    0.909483    0.892996\n",
              "std      0.021311    0.021557    0.018986\n",
              "min      0.796319    0.839132    0.826866\n",
              "25%      0.864594    0.895475    0.881116\n",
              "50%      0.876440    0.910310    0.893229\n",
              "75%      0.893212    0.925214    0.905889\n",
              "max      0.928801    0.966718    0.939535"
            ],
            "text/html": [
              "\n",
              "  <div id=\"df-8334a4ac-fecb-48c0-8675-72aeb03428d1\">\n",
              "    <div class=\"colab-df-container\">\n",
              "      <div>\n",
              "<style scoped>\n",
              "    .dataframe tbody tr th:only-of-type {\n",
              "        vertical-align: middle;\n",
              "    }\n",
              "\n",
              "    .dataframe tbody tr th {\n",
              "        vertical-align: top;\n",
              "    }\n",
              "\n",
              "    .dataframe thead th {\n",
              "        text-align: right;\n",
              "    }\n",
              "</style>\n",
              "<table border=\"1\" class=\"dataframe\">\n",
              "  <thead>\n",
              "    <tr style=\"text-align: right;\">\n",
              "      <th></th>\n",
              "      <th>precision</th>\n",
              "      <th>recall</th>\n",
              "      <th>f1</th>\n",
              "    </tr>\n",
              "  </thead>\n",
              "  <tbody>\n",
              "    <tr>\n",
              "      <th>count</th>\n",
              "      <td>500.000000</td>\n",
              "      <td>500.000000</td>\n",
              "      <td>500.000000</td>\n",
              "    </tr>\n",
              "    <tr>\n",
              "      <th>mean</th>\n",
              "      <td>0.877313</td>\n",
              "      <td>0.909483</td>\n",
              "      <td>0.892996</td>\n",
              "    </tr>\n",
              "    <tr>\n",
              "      <th>std</th>\n",
              "      <td>0.021311</td>\n",
              "      <td>0.021557</td>\n",
              "      <td>0.018986</td>\n",
              "    </tr>\n",
              "    <tr>\n",
              "      <th>min</th>\n",
              "      <td>0.796319</td>\n",
              "      <td>0.839132</td>\n",
              "      <td>0.826866</td>\n",
              "    </tr>\n",
              "    <tr>\n",
              "      <th>25%</th>\n",
              "      <td>0.864594</td>\n",
              "      <td>0.895475</td>\n",
              "      <td>0.881116</td>\n",
              "    </tr>\n",
              "    <tr>\n",
              "      <th>50%</th>\n",
              "      <td>0.876440</td>\n",
              "      <td>0.910310</td>\n",
              "      <td>0.893229</td>\n",
              "    </tr>\n",
              "    <tr>\n",
              "      <th>75%</th>\n",
              "      <td>0.893212</td>\n",
              "      <td>0.925214</td>\n",
              "      <td>0.905889</td>\n",
              "    </tr>\n",
              "    <tr>\n",
              "      <th>max</th>\n",
              "      <td>0.928801</td>\n",
              "      <td>0.966718</td>\n",
              "      <td>0.939535</td>\n",
              "    </tr>\n",
              "  </tbody>\n",
              "</table>\n",
              "</div>\n",
              "      <button class=\"colab-df-convert\" onclick=\"convertToInteractive('df-8334a4ac-fecb-48c0-8675-72aeb03428d1')\"\n",
              "              title=\"Convert this dataframe to an interactive table.\"\n",
              "              style=\"display:none;\">\n",
              "        \n",
              "  <svg xmlns=\"http://www.w3.org/2000/svg\" height=\"24px\"viewBox=\"0 0 24 24\"\n",
              "       width=\"24px\">\n",
              "    <path d=\"M0 0h24v24H0V0z\" fill=\"none\"/>\n",
              "    <path d=\"M18.56 5.44l.94 2.06.94-2.06 2.06-.94-2.06-.94-.94-2.06-.94 2.06-2.06.94zm-11 1L8.5 8.5l.94-2.06 2.06-.94-2.06-.94L8.5 2.5l-.94 2.06-2.06.94zm10 10l.94 2.06.94-2.06 2.06-.94-2.06-.94-.94-2.06-.94 2.06-2.06.94z\"/><path d=\"M17.41 7.96l-1.37-1.37c-.4-.4-.92-.59-1.43-.59-.52 0-1.04.2-1.43.59L10.3 9.45l-7.72 7.72c-.78.78-.78 2.05 0 2.83L4 21.41c.39.39.9.59 1.41.59.51 0 1.02-.2 1.41-.59l7.78-7.78 2.81-2.81c.8-.78.8-2.07 0-2.86zM5.41 20L4 18.59l7.72-7.72 1.47 1.35L5.41 20z\"/>\n",
              "  </svg>\n",
              "      </button>\n",
              "      \n",
              "  <style>\n",
              "    .colab-df-container {\n",
              "      display:flex;\n",
              "      flex-wrap:wrap;\n",
              "      gap: 12px;\n",
              "    }\n",
              "\n",
              "    .colab-df-convert {\n",
              "      background-color: #E8F0FE;\n",
              "      border: none;\n",
              "      border-radius: 50%;\n",
              "      cursor: pointer;\n",
              "      display: none;\n",
              "      fill: #1967D2;\n",
              "      height: 32px;\n",
              "      padding: 0 0 0 0;\n",
              "      width: 32px;\n",
              "    }\n",
              "\n",
              "    .colab-df-convert:hover {\n",
              "      background-color: #E2EBFA;\n",
              "      box-shadow: 0px 1px 2px rgba(60, 64, 67, 0.3), 0px 1px 3px 1px rgba(60, 64, 67, 0.15);\n",
              "      fill: #174EA6;\n",
              "    }\n",
              "\n",
              "    [theme=dark] .colab-df-convert {\n",
              "      background-color: #3B4455;\n",
              "      fill: #D2E3FC;\n",
              "    }\n",
              "\n",
              "    [theme=dark] .colab-df-convert:hover {\n",
              "      background-color: #434B5C;\n",
              "      box-shadow: 0px 1px 3px 1px rgba(0, 0, 0, 0.15);\n",
              "      filter: drop-shadow(0px 1px 2px rgba(0, 0, 0, 0.3));\n",
              "      fill: #FFFFFF;\n",
              "    }\n",
              "  </style>\n",
              "\n",
              "      <script>\n",
              "        const buttonEl =\n",
              "          document.querySelector('#df-8334a4ac-fecb-48c0-8675-72aeb03428d1 button.colab-df-convert');\n",
              "        buttonEl.style.display =\n",
              "          google.colab.kernel.accessAllowed ? 'block' : 'none';\n",
              "\n",
              "        async function convertToInteractive(key) {\n",
              "          const element = document.querySelector('#df-8334a4ac-fecb-48c0-8675-72aeb03428d1');\n",
              "          const dataTable =\n",
              "            await google.colab.kernel.invokeFunction('convertToInteractive',\n",
              "                                                     [key], {});\n",
              "          if (!dataTable) return;\n",
              "\n",
              "          const docLinkHtml = 'Like what you see? Visit the ' +\n",
              "            '<a target=\"_blank\" href=https://colab.research.google.com/notebooks/data_table.ipynb>data table notebook</a>'\n",
              "            + ' to learn more about interactive tables.';\n",
              "          element.innerHTML = '';\n",
              "          dataTable['output_type'] = 'display_data';\n",
              "          await google.colab.output.renderOutput(dataTable, element);\n",
              "          const docLink = document.createElement('div');\n",
              "          docLink.innerHTML = docLinkHtml;\n",
              "          element.appendChild(docLink);\n",
              "        }\n",
              "      </script>\n",
              "    </div>\n",
              "  </div>\n",
              "  "
            ]
          },
          "metadata": {},
          "execution_count": 222
        }
      ]
    },
    {
      "cell_type": "code",
      "source": [],
      "metadata": {
        "id": "dw4ypWsiXdeU"
      },
      "execution_count": null,
      "outputs": []
    },
    {
      "cell_type": "code",
      "source": [
        "print(\"Dialogue:\")\n",
        "print(sample_text)\n",
        "\n",
        "print(\"\\nReference Summary:\")\n",
        "print(reference)\n",
        "\n",
        "print(\"\\nModel Summary GPT:\")\n",
        "print(pipe_gpt(sample_text, **gen_kwargs_gpt)[0][\"summary_text\"])\n",
        "print(\"\\nModel Summary Half:\")\n",
        "print(pipe_half(sample_text, **gen_kwargs_half)[0][\"summary_text\"])\n",
        "print(\"\\nModel Summary Samsum:\")\n",
        "print(pipe_samsum(sample_text, **gen_kwargs_samsum)[0][\"summary_text\"])\n"
      ],
      "metadata": {
        "colab": {
          "base_uri": "https://localhost:8080/"
        },
        "id": "L1vGuC5SnICb",
        "outputId": "27776d58-7876-4068-80ab-6ee08224fb0d"
      },
      "execution_count": null,
      "outputs": [
        {
          "output_type": "stream",
          "name": "stdout",
          "text": [
            "Dialogue:\n",
            "#Person1#: It was a heavy storm last night, wasn't it?\n",
            "#Person2#: It certainly was. The wind broke several windows. What weather!\n",
            "#Person1#: Do you know that big tree in front of my house? One of the biggest branches came down in the night.\n",
            "#Person2#: Really? Did it do any damage to your home?\n",
            "#Person1#: Thank goodness! It is far away from that.\n",
            "#Person2#: I really hate storms. It's about time we had some nice spring weather.\n",
            "#Person1#: It's April, you know. The flowers are beginning to blossom.\n",
            "#Person2#: Yes, that's true. But I still think the weather is terrible.\n",
            "#Person1#: I suppose we should not complain. We had a fine March after all.\n",
            "\n",
            "Reference Summary:\n",
            "#Person1# and #Person2# are talking about the heavy storm last night, and #Person1#'s positive. #Person2# thinks the weather is terrible. #Person1# thinks they should not complain.\n",
            "\n",
            "Model Summary GPT:\n",
            "#Person1# and #Person2# discuss a heavy storm last night. The wind broke several windows and a big tree came down in front of Person1#'s house, but it didn't do any damage to his home. They both express their dislike for storms and hope for some nice spring weather.\n",
            "\n",
            "Model Summary Half:\n",
            "There was a heavy storm last night. The wind broke several windows. The big tree in front of #Person1's house came down in the night. #Person2# hates storms. It's April and the flowers are beginning to blossom, but the weather is still terrible.\n",
            "\n",
            "Model Summary Samsum:\n",
            "There was a heavy storm last night. The wind broke several windows and a big tree in front of #Person1#'s house came down. #Person2# hates storms. It's April and the flowers are beginning to blossom, but he still thinks the weather is terrible.\n"
          ]
        }
      ]
    },
    {
      "cell_type": "markdown",
      "source": [
        "# Fine Tune"
      ],
      "metadata": {
        "id": "OqnMWhowthiX"
      }
    },
    {
      "cell_type": "code",
      "source": [
        "dfmix = df[['id','dialogue','summary']]"
      ],
      "metadata": {
        "id": "EjFFyBqKuFdg"
      },
      "execution_count": null,
      "outputs": []
    },
    {
      "cell_type": "code",
      "source": [
        "dfmix"
      ],
      "metadata": {
        "colab": {
          "base_uri": "https://localhost:8080/",
          "height": 424
        },
        "id": "ItzIdpoxuQep",
        "outputId": "f53ae41f-4cb9-4ad0-b26c-64958243ff43"
      },
      "execution_count": null,
      "outputs": [
        {
          "output_type": "execute_result",
          "data": {
            "text/plain": [
              "          id                                           dialogue  \\\n",
              "0          0  Amanda: I baked  cookies. Do you want some?\\r\\...   \n",
              "1          1  Olivia: Who are you voting for in this electio...   \n",
              "2          2  Tim: Hi, what's up?\\r\\nKim: Bad mood tbh, I wa...   \n",
              "3          3  Edward: Rachel, I think I'm in ove with Bella....   \n",
              "4          4  Sam: hey  overheard rick say something\\r\\nSam:...   \n",
              "...      ...                                                ...   \n",
              "14727  14727  Romeo: You are on my ‘People you may know’ lis...   \n",
              "14728  14728  Theresa: <file_photo>\\r\\nTheresa: <file_photo>...   \n",
              "14729  14729  John: Every day some bad news. Japan will hunt...   \n",
              "14730  14730  Jennifer: Dear Celia! How are you doing?\\r\\nJe...   \n",
              "14731  14731  Georgia: are you ready for hotel hunting? We n...   \n",
              "\n",
              "                                                 summary  \n",
              "0      Amanda baked cookies and will bring Jerry some...  \n",
              "1      Olivia and Oliver both plan to vote for the Li...  \n",
              "2      Kim may try the pomodoro technique recommended...  \n",
              "3      Rachel abruptly interrupted Edward's confessio...  \n",
              "4      Sam is confused, because he overheard Rick com...  \n",
              "...                                                  ...  \n",
              "14727  Romeo reached out to Greta as a potential frie...  \n",
              "14728  Theresa is at work. She gets free food and fre...  \n",
              "14729  John expressed his outrage over Japan's decisi...  \n",
              "14730  Celia couldn't make it to the afternoon with t...  \n",
              "14731  Georgia and Juliette are trying to book a hote...  \n",
              "\n",
              "[14732 rows x 3 columns]"
            ],
            "text/html": [
              "\n",
              "  <div id=\"df-fc8bbb86-b475-4b22-8d5f-ca34103d2bc4\">\n",
              "    <div class=\"colab-df-container\">\n",
              "      <div>\n",
              "<style scoped>\n",
              "    .dataframe tbody tr th:only-of-type {\n",
              "        vertical-align: middle;\n",
              "    }\n",
              "\n",
              "    .dataframe tbody tr th {\n",
              "        vertical-align: top;\n",
              "    }\n",
              "\n",
              "    .dataframe thead th {\n",
              "        text-align: right;\n",
              "    }\n",
              "</style>\n",
              "<table border=\"1\" class=\"dataframe\">\n",
              "  <thead>\n",
              "    <tr style=\"text-align: right;\">\n",
              "      <th></th>\n",
              "      <th>id</th>\n",
              "      <th>dialogue</th>\n",
              "      <th>summary</th>\n",
              "    </tr>\n",
              "  </thead>\n",
              "  <tbody>\n",
              "    <tr>\n",
              "      <th>0</th>\n",
              "      <td>0</td>\n",
              "      <td>Amanda: I baked  cookies. Do you want some?\\r\\...</td>\n",
              "      <td>Amanda baked cookies and will bring Jerry some...</td>\n",
              "    </tr>\n",
              "    <tr>\n",
              "      <th>1</th>\n",
              "      <td>1</td>\n",
              "      <td>Olivia: Who are you voting for in this electio...</td>\n",
              "      <td>Olivia and Oliver both plan to vote for the Li...</td>\n",
              "    </tr>\n",
              "    <tr>\n",
              "      <th>2</th>\n",
              "      <td>2</td>\n",
              "      <td>Tim: Hi, what's up?\\r\\nKim: Bad mood tbh, I wa...</td>\n",
              "      <td>Kim may try the pomodoro technique recommended...</td>\n",
              "    </tr>\n",
              "    <tr>\n",
              "      <th>3</th>\n",
              "      <td>3</td>\n",
              "      <td>Edward: Rachel, I think I'm in ove with Bella....</td>\n",
              "      <td>Rachel abruptly interrupted Edward's confessio...</td>\n",
              "    </tr>\n",
              "    <tr>\n",
              "      <th>4</th>\n",
              "      <td>4</td>\n",
              "      <td>Sam: hey  overheard rick say something\\r\\nSam:...</td>\n",
              "      <td>Sam is confused, because he overheard Rick com...</td>\n",
              "    </tr>\n",
              "    <tr>\n",
              "      <th>...</th>\n",
              "      <td>...</td>\n",
              "      <td>...</td>\n",
              "      <td>...</td>\n",
              "    </tr>\n",
              "    <tr>\n",
              "      <th>14727</th>\n",
              "      <td>14727</td>\n",
              "      <td>Romeo: You are on my ‘People you may know’ lis...</td>\n",
              "      <td>Romeo reached out to Greta as a potential frie...</td>\n",
              "    </tr>\n",
              "    <tr>\n",
              "      <th>14728</th>\n",
              "      <td>14728</td>\n",
              "      <td>Theresa: &lt;file_photo&gt;\\r\\nTheresa: &lt;file_photo&gt;...</td>\n",
              "      <td>Theresa is at work. She gets free food and fre...</td>\n",
              "    </tr>\n",
              "    <tr>\n",
              "      <th>14729</th>\n",
              "      <td>14729</td>\n",
              "      <td>John: Every day some bad news. Japan will hunt...</td>\n",
              "      <td>John expressed his outrage over Japan's decisi...</td>\n",
              "    </tr>\n",
              "    <tr>\n",
              "      <th>14730</th>\n",
              "      <td>14730</td>\n",
              "      <td>Jennifer: Dear Celia! How are you doing?\\r\\nJe...</td>\n",
              "      <td>Celia couldn't make it to the afternoon with t...</td>\n",
              "    </tr>\n",
              "    <tr>\n",
              "      <th>14731</th>\n",
              "      <td>14731</td>\n",
              "      <td>Georgia: are you ready for hotel hunting? We n...</td>\n",
              "      <td>Georgia and Juliette are trying to book a hote...</td>\n",
              "    </tr>\n",
              "  </tbody>\n",
              "</table>\n",
              "<p>14732 rows × 3 columns</p>\n",
              "</div>\n",
              "      <button class=\"colab-df-convert\" onclick=\"convertToInteractive('df-fc8bbb86-b475-4b22-8d5f-ca34103d2bc4')\"\n",
              "              title=\"Convert this dataframe to an interactive table.\"\n",
              "              style=\"display:none;\">\n",
              "        \n",
              "  <svg xmlns=\"http://www.w3.org/2000/svg\" height=\"24px\"viewBox=\"0 0 24 24\"\n",
              "       width=\"24px\">\n",
              "    <path d=\"M0 0h24v24H0V0z\" fill=\"none\"/>\n",
              "    <path d=\"M18.56 5.44l.94 2.06.94-2.06 2.06-.94-2.06-.94-.94-2.06-.94 2.06-2.06.94zm-11 1L8.5 8.5l.94-2.06 2.06-.94-2.06-.94L8.5 2.5l-.94 2.06-2.06.94zm10 10l.94 2.06.94-2.06 2.06-.94-2.06-.94-.94-2.06-.94 2.06-2.06.94z\"/><path d=\"M17.41 7.96l-1.37-1.37c-.4-.4-.92-.59-1.43-.59-.52 0-1.04.2-1.43.59L10.3 9.45l-7.72 7.72c-.78.78-.78 2.05 0 2.83L4 21.41c.39.39.9.59 1.41.59.51 0 1.02-.2 1.41-.59l7.78-7.78 2.81-2.81c.8-.78.8-2.07 0-2.86zM5.41 20L4 18.59l7.72-7.72 1.47 1.35L5.41 20z\"/>\n",
              "  </svg>\n",
              "      </button>\n",
              "      \n",
              "  <style>\n",
              "    .colab-df-container {\n",
              "      display:flex;\n",
              "      flex-wrap:wrap;\n",
              "      gap: 12px;\n",
              "    }\n",
              "\n",
              "    .colab-df-convert {\n",
              "      background-color: #E8F0FE;\n",
              "      border: none;\n",
              "      border-radius: 50%;\n",
              "      cursor: pointer;\n",
              "      display: none;\n",
              "      fill: #1967D2;\n",
              "      height: 32px;\n",
              "      padding: 0 0 0 0;\n",
              "      width: 32px;\n",
              "    }\n",
              "\n",
              "    .colab-df-convert:hover {\n",
              "      background-color: #E2EBFA;\n",
              "      box-shadow: 0px 1px 2px rgba(60, 64, 67, 0.3), 0px 1px 3px 1px rgba(60, 64, 67, 0.15);\n",
              "      fill: #174EA6;\n",
              "    }\n",
              "\n",
              "    [theme=dark] .colab-df-convert {\n",
              "      background-color: #3B4455;\n",
              "      fill: #D2E3FC;\n",
              "    }\n",
              "\n",
              "    [theme=dark] .colab-df-convert:hover {\n",
              "      background-color: #434B5C;\n",
              "      box-shadow: 0px 1px 3px 1px rgba(0, 0, 0, 0.15);\n",
              "      filter: drop-shadow(0px 1px 2px rgba(0, 0, 0, 0.3));\n",
              "      fill: #FFFFFF;\n",
              "    }\n",
              "  </style>\n",
              "\n",
              "      <script>\n",
              "        const buttonEl =\n",
              "          document.querySelector('#df-fc8bbb86-b475-4b22-8d5f-ca34103d2bc4 button.colab-df-convert');\n",
              "        buttonEl.style.display =\n",
              "          google.colab.kernel.accessAllowed ? 'block' : 'none';\n",
              "\n",
              "        async function convertToInteractive(key) {\n",
              "          const element = document.querySelector('#df-fc8bbb86-b475-4b22-8d5f-ca34103d2bc4');\n",
              "          const dataTable =\n",
              "            await google.colab.kernel.invokeFunction('convertToInteractive',\n",
              "                                                     [key], {});\n",
              "          if (!dataTable) return;\n",
              "\n",
              "          const docLinkHtml = 'Like what you see? Visit the ' +\n",
              "            '<a target=\"_blank\" href=https://colab.research.google.com/notebooks/data_table.ipynb>data table notebook</a>'\n",
              "            + ' to learn more about interactive tables.';\n",
              "          element.innerHTML = '';\n",
              "          dataTable['output_type'] = 'display_data';\n",
              "          await google.colab.output.renderOutput(dataTable, element);\n",
              "          const docLink = document.createElement('div');\n",
              "          docLink.innerHTML = docLinkHtml;\n",
              "          element.appendChild(docLink);\n",
              "        }\n",
              "      </script>\n",
              "    </div>\n",
              "  </div>\n",
              "  "
            ]
          },
          "metadata": {},
          "execution_count": 196
        }
      ]
    },
    {
      "cell_type": "code",
      "source": [
        "dataset_samsum"
      ],
      "metadata": {
        "colab": {
          "base_uri": "https://localhost:8080/"
        },
        "id": "59Y6v9MbuYpT",
        "outputId": "aa3713be-b6c6-4f81-df1d-025112ead5b8"
      },
      "execution_count": null,
      "outputs": [
        {
          "output_type": "execute_result",
          "data": {
            "text/plain": [
              "DatasetDict({\n",
              "    train: Dataset({\n",
              "        features: ['id', 'dialogue', 'summary'],\n",
              "        num_rows: 14732\n",
              "    })\n",
              "    test: Dataset({\n",
              "        features: ['id', 'dialogue', 'summary'],\n",
              "        num_rows: 819\n",
              "    })\n",
              "    validation: Dataset({\n",
              "        features: ['id', 'dialogue', 'summary'],\n",
              "        num_rows: 818\n",
              "    })\n",
              "})"
            ]
          },
          "metadata": {},
          "execution_count": 102
        }
      ]
    },
    {
      "cell_type": "code",
      "source": [
        "from datasets import Dataset\n",
        "dataset = Dataset.from_pandas(dfmix)"
      ],
      "metadata": {
        "id": "XOcTK5FzuC70"
      },
      "execution_count": null,
      "outputs": []
    },
    {
      "cell_type": "code",
      "source": [
        "dataset"
      ],
      "metadata": {
        "colab": {
          "base_uri": "https://localhost:8080/"
        },
        "id": "c1h0xNUmoQIV",
        "outputId": "3e8a6a74-bb01-4ca3-baeb-c7c26f0a5a34"
      },
      "execution_count": null,
      "outputs": [
        {
          "output_type": "execute_result",
          "data": {
            "text/plain": [
              "Dataset({\n",
              "    features: ['id', 'dialogue', 'summary'],\n",
              "    num_rows: 14732\n",
              "})"
            ]
          },
          "metadata": {},
          "execution_count": 116
        }
      ]
    },
    {
      "cell_type": "code",
      "source": [
        "val_dataset = dataset_samsum['validation']"
      ],
      "metadata": {
        "id": "1UW_znMw3eXb"
      },
      "execution_count": null,
      "outputs": []
    },
    {
      "cell_type": "code",
      "source": [
        "val_dataset"
      ],
      "metadata": {
        "colab": {
          "base_uri": "https://localhost:8080/"
        },
        "id": "BLahTb7A3pUf",
        "outputId": "81f22186-775d-4cec-9be2-3733b23deef7"
      },
      "execution_count": null,
      "outputs": [
        {
          "output_type": "execute_result",
          "data": {
            "text/plain": [
              "Dataset({\n",
              "    features: ['id', 'dialogue', 'summary'],\n",
              "    num_rows: 818\n",
              "})"
            ]
          },
          "metadata": {},
          "execution_count": 120
        }
      ]
    },
    {
      "cell_type": "code",
      "source": [
        "import datasets\n",
        "dd = datasets.DatasetDict({\"train\":dataset,\"validation\":val_dataset})"
      ],
      "metadata": {
        "id": "i4u6qcUy3il9"
      },
      "execution_count": null,
      "outputs": []
    },
    {
      "cell_type": "code",
      "source": [
        "dd"
      ],
      "metadata": {
        "colab": {
          "base_uri": "https://localhost:8080/"
        },
        "id": "4fCsBIRL3_8X",
        "outputId": "356ce061-5aa5-425d-cbc1-57f6b5ef1d56"
      },
      "execution_count": null,
      "outputs": [
        {
          "output_type": "execute_result",
          "data": {
            "text/plain": [
              "DatasetDict({\n",
              "    train: Dataset({\n",
              "        features: ['id', 'dialogue', 'summary'],\n",
              "        num_rows: 14732\n",
              "    })\n",
              "    validation: Dataset({\n",
              "        features: ['id', 'dialogue', 'summary'],\n",
              "        num_rows: 818\n",
              "    })\n",
              "})"
            ]
          },
          "metadata": {},
          "execution_count": 198
        }
      ]
    },
    {
      "cell_type": "code",
      "source": [
        "def convert_examples_to_features(example_batch):\n",
        "    input_encodings = tokenizer_large(example_batch['dialogue'] , max_length = 1024, truncation = True )\n",
        "    \n",
        "    with tokenizer_large.as_target_tokenizer():\n",
        "        target_encodings = tokenizer_large(example_batch['summary'], max_length = 128, truncation = True )\n",
        "        \n",
        "    return {\n",
        "        'input_ids' : input_encodings['input_ids'],\n",
        "        'attention_mask': input_encodings['attention_mask'],\n",
        "        'labels': target_encodings['input_ids']\n",
        "    }\n",
        "    \n",
        "dataset_samsum_pt = dd.map(convert_examples_to_features, batched = True)"
      ],
      "metadata": {
        "colab": {
          "base_uri": "https://localhost:8080/",
          "height": 55,
          "referenced_widgets": [
            "b39d44f837d446bc8dac6ef94444cbf8",
            "a017165078fc43b38b243e1fe71fca54",
            "f287def534694322b25060cfdc7ee1cc",
            "0ccd83499a4f49e6a79a2efdd9f81b97",
            "5fd531f501cd44e98962e1dbe2045ce9",
            "0739ec4f0998471db42b980006678e4c",
            "80fc74f914694e4c8ef410c7088db517",
            "e56c8352221349afba35b4848dd884be",
            "a5c96b0ad10a455cb852149183ff97a0",
            "2d3e1f993d6c4b07bbadd12f6f4523fe",
            "8bce66b56c42456881f4ae64bf742c46"
          ]
        },
        "id": "6OWmcFF_oQDN",
        "outputId": "517c4c43-71d3-420d-de5c-5c6aa6f14e99"
      },
      "execution_count": null,
      "outputs": [
        {
          "output_type": "display_data",
          "data": {
            "text/plain": [
              "Map:   0%|          | 0/14732 [00:00<?, ? examples/s]"
            ],
            "application/vnd.jupyter.widget-view+json": {
              "version_major": 2,
              "version_minor": 0,
              "model_id": "b39d44f837d446bc8dac6ef94444cbf8"
            }
          },
          "metadata": {}
        },
        {
          "output_type": "stream",
          "name": "stderr",
          "text": [
            "WARNING:datasets.arrow_dataset:Loading cached processed dataset at /root/.cache/huggingface/datasets/samsum/samsum/0.0.0/f1d7c6b7353e6de335d444e424dc002ef70d1277109031327bc9cc6af5d3d46e/cache-7938e48cba429b91.arrow\n"
          ]
        }
      ]
    },
    {
      "cell_type": "code",
      "source": [
        "#dataset_val[0]"
      ],
      "metadata": {
        "id": "U3Yfmt_pu3QY"
      },
      "execution_count": null,
      "outputs": []
    },
    {
      "cell_type": "code",
      "source": [
        "from transformers import DataCollatorForSeq2Seq\n",
        "\n",
        "seq2seq_data_collator = DataCollatorForSeq2Seq(tokenizer_large, model=model_large)"
      ],
      "metadata": {
        "id": "7N78BolPvrx-"
      },
      "execution_count": null,
      "outputs": []
    },
    {
      "cell_type": "code",
      "source": [
        "from google.colab import drive\n",
        "drive.mount('/content/drive')"
      ],
      "metadata": {
        "colab": {
          "base_uri": "https://localhost:8080/"
        },
        "id": "EvCQJm8owqZL",
        "outputId": "97a4401f-1bd2-4cea-fb55-189910fd0de2"
      },
      "execution_count": null,
      "outputs": [
        {
          "output_type": "stream",
          "name": "stdout",
          "text": [
            "Mounted at /content/drive\n"
          ]
        }
      ]
    },
    {
      "cell_type": "code",
      "source": [
        "%cd /content/drive/MyDrive/Project/Fine_Tuning"
      ],
      "metadata": {
        "colab": {
          "base_uri": "https://localhost:8080/"
        },
        "id": "IbIW-edFwYPr",
        "outputId": "cd7884d8-f2eb-44c4-ea6b-f030f2835b76"
      },
      "execution_count": null,
      "outputs": [
        {
          "output_type": "stream",
          "name": "stdout",
          "text": [
            "/content/drive/MyDrive/Project/Fine_Tuning\n"
          ]
        }
      ]
    },
    {
      "cell_type": "code",
      "source": [
        "from transformers import TrainingArguments, Trainer\n",
        "\n",
        "trainer_args = TrainingArguments(\n",
        "    output_dir='bart-samsum-half', num_train_epochs=25, warmup_steps=500,\n",
        "    per_device_train_batch_size=4, per_device_eval_batch_size=4,\n",
        "    weight_decay=0.01, logging_steps=10,\n",
        "    evaluation_strategy='steps', eval_steps=500, save_steps=1e6,\n",
        "    gradient_accumulation_steps=16\n",
        ") \n",
        "     "
      ],
      "metadata": {
        "id": "FDyeFo_jwYUe"
      },
      "execution_count": null,
      "outputs": []
    },
    {
      "cell_type": "code",
      "source": [
        "trainer = Trainer(model=model_large, args=trainer_args,\n",
        "                  tokenizer=tokenizer_large, data_collator=seq2seq_data_collator,\n",
        "                  train_dataset=dataset_samsum_pt['train'], \n",
        "                  eval_dataset=dataset_samsum_pt['validation'])"
      ],
      "metadata": {
        "id": "rpuOG2_9wYYq"
      },
      "execution_count": null,
      "outputs": []
    },
    {
      "cell_type": "code",
      "source": [
        "import gc\n",
        "\n",
        "gc.collect()\n",
        "torch.cuda.empty_cache()"
      ],
      "metadata": {
        "id": "9rPH961t6IDC"
      },
      "execution_count": null,
      "outputs": []
    },
    {
      "cell_type": "code",
      "source": [
        "trainer.train()"
      ],
      "metadata": {
        "colab": {
          "base_uri": "https://localhost:8080/",
          "height": 431
        },
        "id": "Vq3Pg0HqzrY0",
        "outputId": "a05cc03c-2758-4380-8a56-226d4b80da0e"
      },
      "execution_count": null,
      "outputs": [
        {
          "metadata": {
            "tags": null
          },
          "name": "stderr",
          "output_type": "stream",
          "text": [
            "/usr/local/lib/python3.9/dist-packages/transformers/optimization.py:391: FutureWarning: This implementation of AdamW is deprecated and will be removed in a future version. Use the PyTorch implementation torch.optim.AdamW instead, or set `no_deprecation_warning=True` to disable this warning\n",
            "  warnings.warn(\n",
            "You're using a BartTokenizerFast tokenizer. Please note that with a fast tokenizer, using the `__call__` method is faster than using a method to encode the text followed by a call to the `pad` method to get a padded encoding.\n"
          ]
        },
        {
          "data": {
            "text/html": [
              "\n",
              "    <div>\n",
              "      \n",
              "      <progress value='4602' max='5750' style='width:300px; height:20px; vertical-align: middle;'></progress>\n",
              "      [4602/5750 3:06:38 < 46:34, 0.41 it/s, Epoch 19.99/25]\n",
              "    </div>\n",
              "    <table border=\"1\" class=\"dataframe\">\n",
              "  <thead>\n",
              " <tr style=\"text-align: left;\">\n",
              "      <th>Step</th>\n",
              "      <th>Training Loss</th>\n",
              "      <th>Validation Loss</th>\n",
              "    </tr>\n",
              "  </thead>\n",
              "  <tbody>\n",
              "    <tr>\n",
              "      <td>500</td>\n",
              "      <td>1.087400</td>\n",
              "      <td>1.478014</td>\n",
              "    </tr>\n",
              "    <tr>\n",
              "      <td>1000</td>\n",
              "      <td>0.684100</td>\n",
              "      <td>1.658565</td>\n",
              "    </tr>\n",
              "    <tr>\n",
              "      <td>1500</td>\n",
              "      <td>0.413300</td>\n",
              "      <td>1.965265</td>\n",
              "    </tr>\n",
              "    <tr>\n",
              "      <td>2000</td>\n",
              "      <td>0.251600</td>\n",
              "      <td>2.348899</td>\n",
              "    </tr>\n",
              "    <tr>\n",
              "      <td>2500</td>\n",
              "      <td>0.159100</td>\n",
              "      <td>2.617553</td>\n",
              "    </tr>\n",
              "    <tr>\n",
              "      <td>3000</td>\n",
              "      <td>0.089200</td>\n",
              "      <td>2.997341</td>\n",
              "    </tr>\n",
              "    <tr>\n",
              "      <td>3500</td>\n",
              "      <td>0.066100</td>\n",
              "      <td>3.016472</td>\n",
              "    </tr>\n",
              "    <tr>\n",
              "      <td>4000</td>\n",
              "      <td>0.047300</td>\n",
              "      <td>3.298780</td>\n",
              "    </tr>\n",
              "    <tr>\n",
              "      <td>4500</td>\n",
              "      <td>0.032900</td>\n",
              "      <td>3.306062</td>\n",
              "    </tr>\n",
              "  </tbody>\n",
              "</table><p>"
            ],
            "text/plain": [
              "<IPython.core.display.HTML object>"
            ]
          },
          "metadata": {},
          "output_type": "display_data"
        }
      ]
    },
    {
      "cell_type": "code",
      "source": [
        "model_large.save_pretrained(\"/content/drive/MyDrive/dl-gp/bart-half-3\")\n",
        "tokenizer_large.save_pretrained(\"/content/drive/MyDrive/dl-gp/bart-half-3\")"
      ],
      "metadata": {
        "colab": {
          "base_uri": "https://localhost:8080/",
          "height": 187
        },
        "id": "O6_AtpgQQEKK",
        "outputId": "c6fe86f8-6364-4266-fd10-c6ea992cf96c"
      },
      "execution_count": null,
      "outputs": [
        {
          "output_type": "error",
          "ename": "NameError",
          "evalue": "ignored",
          "traceback": [
            "\u001b[0;31m---------------------------------------------------------------------------\u001b[0m",
            "\u001b[0;31mNameError\u001b[0m                                 Traceback (most recent call last)",
            "\u001b[0;32m<ipython-input-1-897dbb13d21f>\u001b[0m in \u001b[0;36m<cell line: 1>\u001b[0;34m()\u001b[0m\n\u001b[0;32m----> 1\u001b[0;31m \u001b[0mmodel_large\u001b[0m\u001b[0;34m.\u001b[0m\u001b[0msave_pretrained\u001b[0m\u001b[0;34m(\u001b[0m\u001b[0;34m\"/content/drive/MyDrive/dl-gp/bart-half-25\"\u001b[0m\u001b[0;34m)\u001b[0m\u001b[0;34m\u001b[0m\u001b[0;34m\u001b[0m\u001b[0m\n\u001b[0m\u001b[1;32m      2\u001b[0m \u001b[0mtokenizer_large\u001b[0m\u001b[0;34m.\u001b[0m\u001b[0msave_pretrained\u001b[0m\u001b[0;34m(\u001b[0m\u001b[0;34m\"/content/drive/MyDrive/dl-gp/bart-half-25\"\u001b[0m\u001b[0;34m)\u001b[0m\u001b[0;34m\u001b[0m\u001b[0;34m\u001b[0m\u001b[0m\n",
            "\u001b[0;31mNameError\u001b[0m: name 'model_large' is not defined"
          ]
        }
      ]
    },
    {
      "cell_type": "code",
      "source": [
        "tokenizer_large = BartTokenizer.from_pretrained(\"/content/drive/MyDrive/dl-gp/bart-half-3\")\n",
        "model_large = BartForConditionalGeneration.from_pretrained(\"/content/drive/MyDrive/dl-gp/bart-half-3\").to(device)"
      ],
      "metadata": {
        "id": "xTQ-iv1WQRx0"
      },
      "execution_count": null,
      "outputs": []
    },
    {
      "cell_type": "code",
      "source": [
        "trainer_args = TrainingArguments(\n",
        "    output_dir='bart-samsum-half', num_train_epochs=1, warmup_steps=500,\n",
        "    per_device_train_batch_size=8, per_device_eval_batch_size=4,\n",
        "    weight_decay=0.01, logging_steps=10,\n",
        "    evaluation_strategy='steps', eval_steps=500, save_steps=1e6,\n",
        "    gradient_accumulation_steps=16\n",
        ") \n",
        "     "
      ],
      "metadata": {
        "id": "CHB7pJAAQiZb"
      },
      "execution_count": null,
      "outputs": []
    },
    {
      "cell_type": "code",
      "source": [
        "trainer = Trainer(model=model_large, args=trainer_args,\n",
        "                  tokenizer=tokenizer_large, data_collator=seq2seq_data_collator,\n",
        "                  train_dataset=dataset_samsum_pt['train'], \n",
        "                  eval_dataset=dataset_samsum_pt['validation'])\n",
        "\n",
        "trainer.train()"
      ],
      "metadata": {
        "colab": {
          "base_uri": "https://localhost:8080/",
          "height": 111
        },
        "id": "zKzStaj3QbKK",
        "outputId": "37c01f27-3708-48e0-87f9-7ae30ec2883c"
      },
      "execution_count": null,
      "outputs": [
        {
          "output_type": "display_data",
          "data": {
            "text/plain": [
              "<IPython.core.display.HTML object>"
            ],
            "text/html": [
              "\n",
              "    <div>\n",
              "      \n",
              "      <progress value='115' max='115' style='width:300px; height:20px; vertical-align: middle;'></progress>\n",
              "      [115/115 08:55, Epoch 0/1]\n",
              "    </div>\n",
              "    <table border=\"1\" class=\"dataframe\">\n",
              "  <thead>\n",
              " <tr style=\"text-align: left;\">\n",
              "      <th>Step</th>\n",
              "      <th>Training Loss</th>\n",
              "      <th>Validation Loss</th>\n",
              "    </tr>\n",
              "  </thead>\n",
              "  <tbody>\n",
              "  </tbody>\n",
              "</table><p>"
            ]
          },
          "metadata": {}
        },
        {
          "output_type": "execute_result",
          "data": {
            "text/plain": [
              "TrainOutput(global_step=115, training_loss=1.0131884035856829, metrics={'train_runtime': 541.0638, 'train_samples_per_second': 27.228, 'train_steps_per_second': 0.213, 'total_flos': 1.0860563227017216e+16, 'train_loss': 1.0131884035856829, 'epoch': 1.0})"
            ]
          },
          "metadata": {},
          "execution_count": 184
        }
      ]
    },
    {
      "cell_type": "code",
      "source": [
        "rouge_metric = load_metric('rouge')"
      ],
      "metadata": {
        "colab": {
          "base_uri": "https://localhost:8080/",
          "height": 105,
          "referenced_widgets": [
            "f32fed9f9de2410a9f7f11ac88b58a4c",
            "9c39e766252340d9a564eefecb33cdb9",
            "7bf6c23e59b24bbeb9cbc758618d9359",
            "c8113addfb3c448b931cff610592e558",
            "45e1b51b8acc4513a41006fa7d4c44ca",
            "cdb428b6c81d40b09ccd1ba535d0f422",
            "1dc4732b2ad047c183fd9d6a015655b9",
            "c5d0604ff26f482c887a3d1f88dbdd17",
            "da183a34ec354bec8d9d76fb933b513e",
            "2e066974f7c04251a91369900c4544f9",
            "3f13bfcb15bd4aa4becb8f726e757d36"
          ]
        },
        "id": "B3KjIXe5TTMW",
        "outputId": "900a9ec1-7992-42b7-aab8-008d6f789a90"
      },
      "execution_count": null,
      "outputs": [
        {
          "output_type": "stream",
          "name": "stderr",
          "text": [
            "<ipython-input-187-90542a62301a>:1: FutureWarning: load_metric is deprecated and will be removed in the next major version of datasets. Use 'evaluate.load' instead, from the new library 🤗 Evaluate: https://huggingface.co/docs/evaluate\n",
            "  rouge_metric = load_metric('rouge')\n"
          ]
        },
        {
          "output_type": "display_data",
          "data": {
            "text/plain": [
              "Downloading builder script:   0%|          | 0.00/2.17k [00:00<?, ?B/s]"
            ],
            "application/vnd.jupyter.widget-view+json": {
              "version_major": 2,
              "version_minor": 0,
              "model_id": "f32fed9f9de2410a9f7f11ac88b58a4c"
            }
          },
          "metadata": {}
        }
      ]
    },
    {
      "cell_type": "code",
      "source": [
        "rouge_names = [\"rouge1\", \"rouge2\", \"rougeL\", \"rougeLsum\"]"
      ],
      "metadata": {
        "id": "vBAaS7RQTd2x"
      },
      "execution_count": null,
      "outputs": []
    },
    {
      "cell_type": "code",
      "source": [
        "dataset_samsum['test']"
      ],
      "metadata": {
        "colab": {
          "base_uri": "https://localhost:8080/"
        },
        "id": "rqfyA0DUTxbl",
        "outputId": "691e5d97-3463-40b9-dd2f-21d0a499d8b0"
      },
      "execution_count": null,
      "outputs": [
        {
          "output_type": "execute_result",
          "data": {
            "text/plain": [
              "Dataset({\n",
              "    features: ['id', 'dialogue', 'summary'],\n",
              "    num_rows: 819\n",
              "})"
            ]
          },
          "metadata": {},
          "execution_count": 190
        }
      ]
    },
    {
      "cell_type": "code",
      "source": [
        "score = calculate_metric_on_test_ds(\n",
        "    dataset_samsum['test'], rouge_metric, trainer.model, tokenizer_large, batch_size = 2, column_text = 'dialogue', column_summary= 'summary'\n",
        ")\n",
        "\n",
        "rouge_dict = dict((rn, score[rn].mid.fmeasure ) for rn in rouge_names )\n",
        "\n",
        "pd.DataFrame(rouge_dict, index = [f'bart-large'] )"
      ],
      "metadata": {
        "colab": {
          "base_uri": "https://localhost:8080/",
          "height": 99
        },
        "id": "TrNGSPKOQsFG",
        "outputId": "10a516ae-2458-4692-a588-73b84a465fc1"
      },
      "execution_count": null,
      "outputs": [
        {
          "output_type": "stream",
          "name": "stderr",
          "text": [
            "100%|██████████| 410/410 [10:07<00:00,  1.48s/it]\n"
          ]
        },
        {
          "output_type": "execute_result",
          "data": {
            "text/plain": [
              "              rouge1    rouge2    rougeL  rougeLsum\n",
              "bart-large  0.011862  0.000259  0.011814   0.011824"
            ],
            "text/html": [
              "\n",
              "  <div id=\"df-64d796f0-2e71-4c87-83a7-c8d69e96228b\">\n",
              "    <div class=\"colab-df-container\">\n",
              "      <div>\n",
              "<style scoped>\n",
              "    .dataframe tbody tr th:only-of-type {\n",
              "        vertical-align: middle;\n",
              "    }\n",
              "\n",
              "    .dataframe tbody tr th {\n",
              "        vertical-align: top;\n",
              "    }\n",
              "\n",
              "    .dataframe thead th {\n",
              "        text-align: right;\n",
              "    }\n",
              "</style>\n",
              "<table border=\"1\" class=\"dataframe\">\n",
              "  <thead>\n",
              "    <tr style=\"text-align: right;\">\n",
              "      <th></th>\n",
              "      <th>rouge1</th>\n",
              "      <th>rouge2</th>\n",
              "      <th>rougeL</th>\n",
              "      <th>rougeLsum</th>\n",
              "    </tr>\n",
              "  </thead>\n",
              "  <tbody>\n",
              "    <tr>\n",
              "      <th>bart-large</th>\n",
              "      <td>0.011862</td>\n",
              "      <td>0.000259</td>\n",
              "      <td>0.011814</td>\n",
              "      <td>0.011824</td>\n",
              "    </tr>\n",
              "  </tbody>\n",
              "</table>\n",
              "</div>\n",
              "      <button class=\"colab-df-convert\" onclick=\"convertToInteractive('df-64d796f0-2e71-4c87-83a7-c8d69e96228b')\"\n",
              "              title=\"Convert this dataframe to an interactive table.\"\n",
              "              style=\"display:none;\">\n",
              "        \n",
              "  <svg xmlns=\"http://www.w3.org/2000/svg\" height=\"24px\"viewBox=\"0 0 24 24\"\n",
              "       width=\"24px\">\n",
              "    <path d=\"M0 0h24v24H0V0z\" fill=\"none\"/>\n",
              "    <path d=\"M18.56 5.44l.94 2.06.94-2.06 2.06-.94-2.06-.94-.94-2.06-.94 2.06-2.06.94zm-11 1L8.5 8.5l.94-2.06 2.06-.94-2.06-.94L8.5 2.5l-.94 2.06-2.06.94zm10 10l.94 2.06.94-2.06 2.06-.94-2.06-.94-.94-2.06-.94 2.06-2.06.94z\"/><path d=\"M17.41 7.96l-1.37-1.37c-.4-.4-.92-.59-1.43-.59-.52 0-1.04.2-1.43.59L10.3 9.45l-7.72 7.72c-.78.78-.78 2.05 0 2.83L4 21.41c.39.39.9.59 1.41.59.51 0 1.02-.2 1.41-.59l7.78-7.78 2.81-2.81c.8-.78.8-2.07 0-2.86zM5.41 20L4 18.59l7.72-7.72 1.47 1.35L5.41 20z\"/>\n",
              "  </svg>\n",
              "      </button>\n",
              "      \n",
              "  <style>\n",
              "    .colab-df-container {\n",
              "      display:flex;\n",
              "      flex-wrap:wrap;\n",
              "      gap: 12px;\n",
              "    }\n",
              "\n",
              "    .colab-df-convert {\n",
              "      background-color: #E8F0FE;\n",
              "      border: none;\n",
              "      border-radius: 50%;\n",
              "      cursor: pointer;\n",
              "      display: none;\n",
              "      fill: #1967D2;\n",
              "      height: 32px;\n",
              "      padding: 0 0 0 0;\n",
              "      width: 32px;\n",
              "    }\n",
              "\n",
              "    .colab-df-convert:hover {\n",
              "      background-color: #E2EBFA;\n",
              "      box-shadow: 0px 1px 2px rgba(60, 64, 67, 0.3), 0px 1px 3px 1px rgba(60, 64, 67, 0.15);\n",
              "      fill: #174EA6;\n",
              "    }\n",
              "\n",
              "    [theme=dark] .colab-df-convert {\n",
              "      background-color: #3B4455;\n",
              "      fill: #D2E3FC;\n",
              "    }\n",
              "\n",
              "    [theme=dark] .colab-df-convert:hover {\n",
              "      background-color: #434B5C;\n",
              "      box-shadow: 0px 1px 3px 1px rgba(0, 0, 0, 0.15);\n",
              "      filter: drop-shadow(0px 1px 2px rgba(0, 0, 0, 0.3));\n",
              "      fill: #FFFFFF;\n",
              "    }\n",
              "  </style>\n",
              "\n",
              "      <script>\n",
              "        const buttonEl =\n",
              "          document.querySelector('#df-64d796f0-2e71-4c87-83a7-c8d69e96228b button.colab-df-convert');\n",
              "        buttonEl.style.display =\n",
              "          google.colab.kernel.accessAllowed ? 'block' : 'none';\n",
              "\n",
              "        async function convertToInteractive(key) {\n",
              "          const element = document.querySelector('#df-64d796f0-2e71-4c87-83a7-c8d69e96228b');\n",
              "          const dataTable =\n",
              "            await google.colab.kernel.invokeFunction('convertToInteractive',\n",
              "                                                     [key], {});\n",
              "          if (!dataTable) return;\n",
              "\n",
              "          const docLinkHtml = 'Like what you see? Visit the ' +\n",
              "            '<a target=\"_blank\" href=https://colab.research.google.com/notebooks/data_table.ipynb>data table notebook</a>'\n",
              "            + ' to learn more about interactive tables.';\n",
              "          element.innerHTML = '';\n",
              "          dataTable['output_type'] = 'display_data';\n",
              "          await google.colab.output.renderOutput(dataTable, element);\n",
              "          const docLink = document.createElement('div');\n",
              "          docLink.innerHTML = docLinkHtml;\n",
              "          element.appendChild(docLink);\n",
              "        }\n",
              "      </script>\n",
              "    </div>\n",
              "  </div>\n",
              "  "
            ]
          },
          "metadata": {},
          "execution_count": 191
        }
      ]
    },
    {
      "cell_type": "code",
      "source": [],
      "metadata": {
        "id": "qQpMQl1WTc05"
      },
      "execution_count": null,
      "outputs": []
    },
    {
      "cell_type": "code",
      "source": [],
      "metadata": {
        "id": "FWF86Qu2WwEm"
      },
      "execution_count": null,
      "outputs": []
    },
    {
      "cell_type": "code",
      "source": [],
      "metadata": {
        "id": "wwe9GoIjWwJO"
      },
      "execution_count": null,
      "outputs": []
    },
    {
      "cell_type": "code",
      "source": [
        "model_check = \"philschmid/bart-large-cnn-samsum\" \n",
        "\n",
        "tokenizer_check = BartTokenizer.from_pretrained(model_check)\n",
        "model_baseline = BartForConditionalGeneration.from_pretrained(model_check).to(device)"
      ],
      "metadata": {
        "colab": {
          "base_uri": "https://localhost:8080/",
          "height": 209,
          "referenced_widgets": [
            "3a3e1527cb1b4d85b6bb52f4abd8bef2",
            "2425f50cd6784fecbca803262f7cb3b5",
            "85d30eb73f95426180ab7115f7c1e846",
            "1ee78ac2bd7c419ead11d82228a10fb2",
            "c481a52c26c844bc92ffefec1c7efb77",
            "380ab39f164f414bb6fe2398daf28ef4",
            "8446a299c0b3429eb79e6ff275f5d0e6",
            "b9bed2a6793e4542969d78b45c4a09fa",
            "c8e50457cee44510a0f2fe05f03b9ccb",
            "047dcf04486549a391dd92d161e11a96",
            "32e5a624fe4b49d6952fbbeb3f74d14b",
            "e0d205c936f64b2f82eba86ed50c120c",
            "00c6af25bb1a40c8a88bc574c9f17225",
            "341f8cb4d7ae4e89b3f95e26284b4c57",
            "586c070595b146cb8476b235d7ed96d0",
            "ec962948056341309041e367c42c50e1",
            "5034c70c2415413cab00c0f04e4bac58",
            "cf418b0c4ccd4bc98b1afcbeec922cdf",
            "3c25884c609947249f6bb94d9de43e14",
            "59aa48c0f6c5457690bbeccb37484ef2",
            "4294e2aba05b4176a857a14bae05008f",
            "17263226fa8746218406a1a773227f92",
            "e33a2e54435b48459584d47bd65f1efd",
            "5c53da6cda854daeb7f07058bc53399d",
            "6693dd9559ef488bbe702a08d3ce66f2",
            "e647e613ab8c40308297c00ef96467bf",
            "b9c12ed29e3d483790cc759dd50075b4",
            "bba5d175b11e49fdad2953277a4bb1ad",
            "e8fa2ffb12bd4c5a8450f96136f4a2ce",
            "dd20c658193f41fe9c222d746eb2fab4",
            "7c324afc47ba4c31b7e559ecfee88ea0",
            "4db89b1062ce4aa0ae9adce097e4d379",
            "4ad1f819d21b4b328633e3add4688e56",
            "a19cdad2564f46c099273211ec93ffa1",
            "47821cf9a52a4ddcb6a7d01eca2d5eb9",
            "f8ca2f8a8c6a4e94bb7994696be2a265",
            "485d3bf5b1a54b48a2b1a578c7bd2319",
            "e0390cf258fd41f6b300f4061bcf530c",
            "ababdf2ea1fe40a89557bfc486b4d905",
            "9a26156a50ce420f9f8733edd82bb021",
            "698cd5e6947a4d9e8b14559cbbf22fcd",
            "9163a1ca1b0b40f79eb68bff5aeac085",
            "bedf721c3476443ba6bafce271ced811",
            "aa7aa314b1504e35b2a905d2ef3a7002",
            "122b7fb1993e4affabc0f749e834385c",
            "7c33803f7c984c57b51a67d90252f503",
            "2f57dfd23bf041bbb675546eeec45f9e",
            "a9e6aed7e7a644c9b574a7cfaa8287f2",
            "673ba2b655f74ea5b2a6d3ee993aa543",
            "9f47b5b70d9a48f4a96cd5a78d8dc513",
            "7df6ba9140d64e8698b7784e62f2b00d",
            "6f38683fb07145c481c9d5b10463e06f",
            "16af108bea994e82bb156d3a6286ba9c",
            "edeb97dddd3240dd9159ab72c3b95154",
            "d0d4a68fa52e46dfaa109cec488f6723",
            "5fedf9ef20184bea8dfd8302880030cc",
            "717a237eb14d4cdba40fccebc6bfb47f",
            "ae8caf2231d14b0eba38330c67de1c52",
            "43d6cf71f6a94b0ca288ce85de419196",
            "e0369ec8499745cea85e5d6d3efe4dc5",
            "17cf75831a614722ad4896fbd38b6afa",
            "ff33162e90e54910bed843008eb837f7",
            "c0ae88a02b3742269c59cd5a06f2f4cc",
            "41da2245a2be48a9b3f1aa107e905a69",
            "814f86fd923947b2b9a84657c95438ed",
            "64f01b59802943e6b5eccb9f9f960bbc"
          ]
        },
        "id": "_tVpiijhWwO4",
        "outputId": "0fc911be-abeb-44d2-e736-f5b204d30581"
      },
      "execution_count": null,
      "outputs": [
        {
          "output_type": "display_data",
          "data": {
            "text/plain": [
              "Downloading (…)olve/main/vocab.json:   0%|          | 0.00/798k [00:00<?, ?B/s]"
            ],
            "application/vnd.jupyter.widget-view+json": {
              "version_major": 2,
              "version_minor": 0,
              "model_id": "3a3e1527cb1b4d85b6bb52f4abd8bef2"
            }
          },
          "metadata": {}
        },
        {
          "output_type": "display_data",
          "data": {
            "text/plain": [
              "Downloading (…)olve/main/merges.txt:   0%|          | 0.00/456k [00:00<?, ?B/s]"
            ],
            "application/vnd.jupyter.widget-view+json": {
              "version_major": 2,
              "version_minor": 0,
              "model_id": "e0d205c936f64b2f82eba86ed50c120c"
            }
          },
          "metadata": {}
        },
        {
          "output_type": "display_data",
          "data": {
            "text/plain": [
              "Downloading (…)cial_tokens_map.json:   0%|          | 0.00/239 [00:00<?, ?B/s]"
            ],
            "application/vnd.jupyter.widget-view+json": {
              "version_major": 2,
              "version_minor": 0,
              "model_id": "e33a2e54435b48459584d47bd65f1efd"
            }
          },
          "metadata": {}
        },
        {
          "output_type": "display_data",
          "data": {
            "text/plain": [
              "Downloading (…)okenizer_config.json:   0%|          | 0.00/300 [00:00<?, ?B/s]"
            ],
            "application/vnd.jupyter.widget-view+json": {
              "version_major": 2,
              "version_minor": 0,
              "model_id": "a19cdad2564f46c099273211ec93ffa1"
            }
          },
          "metadata": {}
        },
        {
          "output_type": "display_data",
          "data": {
            "text/plain": [
              "Downloading (…)lve/main/config.json:   0%|          | 0.00/1.63k [00:00<?, ?B/s]"
            ],
            "application/vnd.jupyter.widget-view+json": {
              "version_major": 2,
              "version_minor": 0,
              "model_id": "122b7fb1993e4affabc0f749e834385c"
            }
          },
          "metadata": {}
        },
        {
          "output_type": "display_data",
          "data": {
            "text/plain": [
              "Downloading pytorch_model.bin:   0%|          | 0.00/1.63G [00:00<?, ?B/s]"
            ],
            "application/vnd.jupyter.widget-view+json": {
              "version_major": 2,
              "version_minor": 0,
              "model_id": "5fedf9ef20184bea8dfd8302880030cc"
            }
          },
          "metadata": {}
        }
      ]
    },
    {
      "cell_type": "code",
      "source": [
        "score = calculate_metric_on_test_ds(\n",
        "    dataset_samsum['test'], rouge_metric, model_baseline, tokenizer_check, batch_size = 2, column_text = 'dialogue', column_summary= 'summary'\n",
        ")\n",
        "\n",
        "rouge_dict = dict((rn, score[rn].mid.fmeasure ) for rn in rouge_names )\n",
        "\n",
        "pd.DataFrame(rouge_dict, index = [f'bart-baseline'] )"
      ],
      "metadata": {
        "colab": {
          "base_uri": "https://localhost:8080/",
          "height": 99
        },
        "id": "GN5QmEDfWxtM",
        "outputId": "868618ac-42fc-4005-ffff-f11d784cc472"
      },
      "execution_count": null,
      "outputs": [
        {
          "output_type": "stream",
          "name": "stderr",
          "text": [
            "100%|██████████| 410/410 [09:13<00:00,  1.35s/it]\n"
          ]
        },
        {
          "output_type": "execute_result",
          "data": {
            "text/plain": [
              "                rouge1    rouge2    rougeL  rougeLsum\n",
              "bart-baseline  0.01283  0.000262  0.012803   0.012832"
            ],
            "text/html": [
              "\n",
              "  <div id=\"df-2a8c3888-9b46-4cd6-809a-1a3bbbde8ba4\">\n",
              "    <div class=\"colab-df-container\">\n",
              "      <div>\n",
              "<style scoped>\n",
              "    .dataframe tbody tr th:only-of-type {\n",
              "        vertical-align: middle;\n",
              "    }\n",
              "\n",
              "    .dataframe tbody tr th {\n",
              "        vertical-align: top;\n",
              "    }\n",
              "\n",
              "    .dataframe thead th {\n",
              "        text-align: right;\n",
              "    }\n",
              "</style>\n",
              "<table border=\"1\" class=\"dataframe\">\n",
              "  <thead>\n",
              "    <tr style=\"text-align: right;\">\n",
              "      <th></th>\n",
              "      <th>rouge1</th>\n",
              "      <th>rouge2</th>\n",
              "      <th>rougeL</th>\n",
              "      <th>rougeLsum</th>\n",
              "    </tr>\n",
              "  </thead>\n",
              "  <tbody>\n",
              "    <tr>\n",
              "      <th>bart-baseline</th>\n",
              "      <td>0.01283</td>\n",
              "      <td>0.000262</td>\n",
              "      <td>0.012803</td>\n",
              "      <td>0.012832</td>\n",
              "    </tr>\n",
              "  </tbody>\n",
              "</table>\n",
              "</div>\n",
              "      <button class=\"colab-df-convert\" onclick=\"convertToInteractive('df-2a8c3888-9b46-4cd6-809a-1a3bbbde8ba4')\"\n",
              "              title=\"Convert this dataframe to an interactive table.\"\n",
              "              style=\"display:none;\">\n",
              "        \n",
              "  <svg xmlns=\"http://www.w3.org/2000/svg\" height=\"24px\"viewBox=\"0 0 24 24\"\n",
              "       width=\"24px\">\n",
              "    <path d=\"M0 0h24v24H0V0z\" fill=\"none\"/>\n",
              "    <path d=\"M18.56 5.44l.94 2.06.94-2.06 2.06-.94-2.06-.94-.94-2.06-.94 2.06-2.06.94zm-11 1L8.5 8.5l.94-2.06 2.06-.94-2.06-.94L8.5 2.5l-.94 2.06-2.06.94zm10 10l.94 2.06.94-2.06 2.06-.94-2.06-.94-.94-2.06-.94 2.06-2.06.94z\"/><path d=\"M17.41 7.96l-1.37-1.37c-.4-.4-.92-.59-1.43-.59-.52 0-1.04.2-1.43.59L10.3 9.45l-7.72 7.72c-.78.78-.78 2.05 0 2.83L4 21.41c.39.39.9.59 1.41.59.51 0 1.02-.2 1.41-.59l7.78-7.78 2.81-2.81c.8-.78.8-2.07 0-2.86zM5.41 20L4 18.59l7.72-7.72 1.47 1.35L5.41 20z\"/>\n",
              "  </svg>\n",
              "      </button>\n",
              "      \n",
              "  <style>\n",
              "    .colab-df-container {\n",
              "      display:flex;\n",
              "      flex-wrap:wrap;\n",
              "      gap: 12px;\n",
              "    }\n",
              "\n",
              "    .colab-df-convert {\n",
              "      background-color: #E8F0FE;\n",
              "      border: none;\n",
              "      border-radius: 50%;\n",
              "      cursor: pointer;\n",
              "      display: none;\n",
              "      fill: #1967D2;\n",
              "      height: 32px;\n",
              "      padding: 0 0 0 0;\n",
              "      width: 32px;\n",
              "    }\n",
              "\n",
              "    .colab-df-convert:hover {\n",
              "      background-color: #E2EBFA;\n",
              "      box-shadow: 0px 1px 2px rgba(60, 64, 67, 0.3), 0px 1px 3px 1px rgba(60, 64, 67, 0.15);\n",
              "      fill: #174EA6;\n",
              "    }\n",
              "\n",
              "    [theme=dark] .colab-df-convert {\n",
              "      background-color: #3B4455;\n",
              "      fill: #D2E3FC;\n",
              "    }\n",
              "\n",
              "    [theme=dark] .colab-df-convert:hover {\n",
              "      background-color: #434B5C;\n",
              "      box-shadow: 0px 1px 3px 1px rgba(0, 0, 0, 0.15);\n",
              "      filter: drop-shadow(0px 1px 2px rgba(0, 0, 0, 0.3));\n",
              "      fill: #FFFFFF;\n",
              "    }\n",
              "  </style>\n",
              "\n",
              "      <script>\n",
              "        const buttonEl =\n",
              "          document.querySelector('#df-2a8c3888-9b46-4cd6-809a-1a3bbbde8ba4 button.colab-df-convert');\n",
              "        buttonEl.style.display =\n",
              "          google.colab.kernel.accessAllowed ? 'block' : 'none';\n",
              "\n",
              "        async function convertToInteractive(key) {\n",
              "          const element = document.querySelector('#df-2a8c3888-9b46-4cd6-809a-1a3bbbde8ba4');\n",
              "          const dataTable =\n",
              "            await google.colab.kernel.invokeFunction('convertToInteractive',\n",
              "                                                     [key], {});\n",
              "          if (!dataTable) return;\n",
              "\n",
              "          const docLinkHtml = 'Like what you see? Visit the ' +\n",
              "            '<a target=\"_blank\" href=https://colab.research.google.com/notebooks/data_table.ipynb>data table notebook</a>'\n",
              "            + ' to learn more about interactive tables.';\n",
              "          element.innerHTML = '';\n",
              "          dataTable['output_type'] = 'display_data';\n",
              "          await google.colab.output.renderOutput(dataTable, element);\n",
              "          const docLink = document.createElement('div');\n",
              "          docLink.innerHTML = docLinkHtml;\n",
              "          element.appendChild(docLink);\n",
              "        }\n",
              "      </script>\n",
              "    </div>\n",
              "  </div>\n",
              "  "
            ]
          },
          "metadata": {},
          "execution_count": 193
        }
      ]
    }
  ]
}